{
 "cells": [
  {
   "cell_type": "code",
   "execution_count": 1,
   "metadata": {
    "collapsed": true
   },
   "outputs": [],
   "source": [
    "a = None"
   ]
  },
  {
   "cell_type": "code",
   "execution_count": 2,
   "metadata": {
    "collapsed": false
   },
   "outputs": [
    {
     "name": "stdout",
     "output_type": "stream",
     "text": [
      "None\n"
     ]
    }
   ],
   "source": [
    "print a"
   ]
  },
  {
   "cell_type": "code",
   "execution_count": 3,
   "metadata": {
    "collapsed": false
   },
   "outputs": [
    {
     "ename": "TypeError",
     "evalue": "unsupported operand type(s) for +: 'NoneType' and 'str'",
     "output_type": "error",
     "traceback": [
      "\u001b[0;31m---------------------------------------------------------------------------\u001b[0m",
      "\u001b[0;31mTypeError\u001b[0m                                 Traceback (most recent call last)",
      "\u001b[0;32m<ipython-input-3-18fe54f5be50>\u001b[0m in \u001b[0;36m<module>\u001b[0;34m()\u001b[0m\n\u001b[1;32m      1\u001b[0m \u001b[0;32mwith\u001b[0m \u001b[0mopen\u001b[0m\u001b[0;34m(\u001b[0m\u001b[0;34m\"AAA_parameters.txt\"\u001b[0m\u001b[0;34m,\u001b[0m \u001b[0;34m'w'\u001b[0m\u001b[0;34m)\u001b[0m \u001b[0;32mas\u001b[0m \u001b[0mfh\u001b[0m\u001b[0;34m:\u001b[0m\u001b[0;34m\u001b[0m\u001b[0m\n\u001b[0;32m----> 2\u001b[0;31m             \u001b[0mfh\u001b[0m\u001b[0;34m.\u001b[0m\u001b[0mwrite\u001b[0m\u001b[0;34m(\u001b[0m\u001b[0ma\u001b[0m \u001b[0;34m+\u001b[0m \u001b[0;34m'\\n'\u001b[0m\u001b[0;34m)\u001b[0m\u001b[0;34m\u001b[0m\u001b[0m\n\u001b[0m",
      "\u001b[0;31mTypeError\u001b[0m: unsupported operand type(s) for +: 'NoneType' and 'str'"
     ]
    }
   ],
   "source": [
    "with open(\"AAA_parameters.txt\", 'w') as fh:\n",
    "    fh.write(a + '\\n')"
   ]
  },
  {
   "cell_type": "code",
   "execution_count": 4,
   "metadata": {
    "collapsed": false
   },
   "outputs": [
    {
     "data": {
      "text/plain": [
       "'None'"
      ]
     },
     "execution_count": 4,
     "metadata": {},
     "output_type": "execute_result"
    }
   ],
   "source": [
    "str(a)"
   ]
  },
  {
   "cell_type": "code",
   "execution_count": 2,
   "metadata": {
    "collapsed": false
   },
   "outputs": [],
   "source": [
    "import os\n",
    "home = os.path.expanduser('~')\n",
    "\n",
    "species2files_dict = {\"9606\": {'goa_ref_fn': home + r'/CloudStation/CPR/Brian_GO/go_rescources/UniProt_goa/human/gene_association.goa_ref_human'}}"
   ]
  },
  {
   "cell_type": "code",
   "execution_count": 3,
   "metadata": {
    "collapsed": false
   },
   "outputs": [
    {
     "data": {
      "text/plain": [
       "{'9606': {'goa_ref_fn': '/Users/dblyon/CloudStation/CPR/Brian_GO/go_rescources/UniProt_goa/human/gene_association.goa_ref_human'}}"
      ]
     },
     "execution_count": 3,
     "metadata": {},
     "output_type": "execute_result"
    }
   ],
   "source": [
    "species2files_dict"
   ]
  },
  {
   "cell_type": "code",
   "execution_count": 4,
   "metadata": {
    "collapsed": true
   },
   "outputs": [],
   "source": [
    "pval = 0.05"
   ]
  },
  {
   "cell_type": "code",
   "execution_count": 6,
   "metadata": {
    "collapsed": false
   },
   "outputs": [
    {
     "name": "stdout",
     "output_type": "stream",
     "text": [
      "0.05 <type 'float'> 0.05\n"
     ]
    }
   ],
   "source": [
    "print str(pval), type(pval), \"%s\" % pval"
   ]
  },
  {
   "cell_type": "code",
   "execution_count": 16,
   "metadata": {
    "collapsed": true
   },
   "outputs": [],
   "source": [
    "s=0.5\n",
    "p=1\n",
    "min_ratio = 1"
   ]
  },
  {
   "cell_type": "code",
   "execution_count": 17,
   "metadata": {
    "collapsed": false
   },
   "outputs": [
    {
     "name": "stdout",
     "output_type": "stream",
     "text": [
      "0.5\n",
      "False\n"
     ]
    }
   ],
   "source": [
    "print s/p\n",
    "print s/p > 1"
   ]
  },
  {
   "cell_type": "code",
   "execution_count": 24,
   "metadata": {
    "collapsed": false
   },
   "outputs": [],
   "source": [
    "def is_ratio_different(s, p, min_ratio):\n",
    "    if min_ratio is None:\n",
    "        return True\n",
    "    if s > p:\n",
    "        print s/ p\n",
    "        return s / p > min_ratio\n",
    "    print p / s\n",
    "    return p / s > min_ratio"
   ]
  },
  {
   "cell_type": "code",
   "execution_count": 30,
   "metadata": {
    "collapsed": false
   },
   "outputs": [
    {
     "name": "stdout",
     "output_type": "stream",
     "text": [
      "2.5\n"
     ]
    },
    {
     "data": {
      "text/plain": [
       "True"
      ]
     },
     "execution_count": 30,
     "metadata": {},
     "output_type": "execute_result"
    }
   ],
   "source": [
    "s=0.2\n",
    "p=0.5\n",
    "min_ratio = 1\n",
    "is_ratio_different(s, p, min_ratio)"
   ]
  },
  {
   "cell_type": "code",
   "execution_count": 34,
   "metadata": {
    "collapsed": false
   },
   "outputs": [
    {
     "data": {
      "text/plain": [
       "True"
      ]
     },
     "execution_count": 34,
     "metadata": {},
     "output_type": "execute_result"
    }
   ],
   "source": [
    "True > None"
   ]
  },
  {
   "cell_type": "code",
   "execution_count": 35,
   "metadata": {
    "collapsed": true
   },
   "outputs": [],
   "source": [
    "class GOEnrichmentRecord_UPK(object):\n",
    "    attributes_list = [('id', '%s'), ('enrichment', '%s'), ('perc_enrichment_study', \"%0.1f\"),\n",
    "                   ('perc_enrichment_pop', \"%0.1f\"), ('fold_enrichment_study2pop', \"%0.2f\"),\n",
    "                   ('study_count', '%s'), ('study_n', '%s'), ('pop_count','%s'), ('pop_n', '%s'),\n",
    "                   ('p_uncorrected', \"%.3g\"), ('ANs_study', '%s'), ('ANs_pop', '%s')]\n",
    "    def __init__(self):\n",
    "        pass"
   ]
  },
  {
   "cell_type": "code",
   "execution_count": 36,
   "metadata": {
    "collapsed": true
   },
   "outputs": [],
   "source": [
    "rec = GOEnrichmentRecord_UPK()"
   ]
  },
  {
   "cell_type": "code",
   "execution_count": 38,
   "metadata": {
    "collapsed": false
   },
   "outputs": [
    {
     "data": {
      "text/plain": [
       "[('id', '%s'),\n",
       " ('enrichment', '%s'),\n",
       " ('perc_enrichment_study', '%0.1f'),\n",
       " ('perc_enrichment_pop', '%0.1f'),\n",
       " ('fold_enrichment_study2pop', '%0.2f'),\n",
       " ('study_count', '%s'),\n",
       " ('study_n', '%s'),\n",
       " ('pop_count', '%s'),\n",
       " ('pop_n', '%s'),\n",
       " ('p_uncorrected', '%.3g'),\n",
       " ('ANs_study', '%s'),\n",
       " ('ANs_pop', '%s')]"
      ]
     },
     "execution_count": 38,
     "metadata": {},
     "output_type": "execute_result"
    }
   ],
   "source": [
    "rec.attributes_list"
   ]
  },
  {
   "cell_type": "code",
   "execution_count": 40,
   "metadata": {
    "collapsed": false
   },
   "outputs": [
    {
     "data": {
      "text/plain": [
       "[('id', '%s'),\n",
       " ('enrichment', '%s'),\n",
       " ('perc_enrichment_study', '%0.1f'),\n",
       " ('perc_enrichment_pop', '%0.1f'),\n",
       " ('fold_enrichment_study2pop', '%0.2f'),\n",
       " ('study_count', '%s'),\n",
       " ('study_n', '%s'),\n",
       " ('pop_count', '%s'),\n",
       " ('pop_n', '%s'),\n",
       " ('p_uncorrected', '%.3g'),\n",
       " ('ANs_study', '%s'),\n",
       " ('ANs_pop', '%s')]"
      ]
     },
     "execution_count": 40,
     "metadata": {},
     "output_type": "execute_result"
    }
   ],
   "source": [
    "GOEnrichmentRecord_UPK.attributes_list"
   ]
  },
  {
   "cell_type": "code",
   "execution_count": 41,
   "metadata": {
    "collapsed": true
   },
   "outputs": [],
   "source": [
    "GOEnrichmentRecord_UPK.attributes_list.append([('bubu', '%s')])"
   ]
  },
  {
   "cell_type": "code",
   "execution_count": 42,
   "metadata": {
    "collapsed": false
   },
   "outputs": [
    {
     "data": {
      "text/plain": [
       "[('id', '%s'),\n",
       " ('enrichment', '%s'),\n",
       " ('perc_enrichment_study', '%0.1f'),\n",
       " ('perc_enrichment_pop', '%0.1f'),\n",
       " ('fold_enrichment_study2pop', '%0.2f'),\n",
       " ('study_count', '%s'),\n",
       " ('study_n', '%s'),\n",
       " ('pop_count', '%s'),\n",
       " ('pop_n', '%s'),\n",
       " ('p_uncorrected', '%.3g'),\n",
       " ('ANs_study', '%s'),\n",
       " ('ANs_pop', '%s'),\n",
       " [('bubu', '%s')]]"
      ]
     },
     "execution_count": 42,
     "metadata": {},
     "output_type": "execute_result"
    }
   ],
   "source": [
    "rec.attributes_list"
   ]
  },
  {
   "cell_type": "code",
   "execution_count": 43,
   "metadata": {
    "collapsed": false
   },
   "outputs": [
    {
     "data": {
      "text/plain": [
       "[('id', '%s'),\n",
       " ('enrichment', '%s'),\n",
       " ('perc_enrichment_study', '%0.1f'),\n",
       " ('perc_enrichment_pop', '%0.1f'),\n",
       " ('fold_enrichment_study2pop', '%0.2f'),\n",
       " ('study_count', '%s'),\n",
       " ('study_n', '%s'),\n",
       " ('pop_count', '%s'),\n",
       " ('pop_n', '%s'),\n",
       " ('p_uncorrected', '%.3g'),\n",
       " ('ANs_study', '%s'),\n",
       " ('ANs_pop', '%s'),\n",
       " [('bubu', '%s')]]"
      ]
     },
     "execution_count": 43,
     "metadata": {},
     "output_type": "execute_result"
    }
   ],
   "source": [
    "GOEnrichmentRecord_UPK.attributes_list"
   ]
  },
  {
   "cell_type": "code",
   "execution_count": 1,
   "metadata": {
    "collapsed": false
   },
   "outputs": [
    {
     "data": {
      "text/plain": [
       "u'/Users/dblyon/modules/cpr/goterm'"
      ]
     },
     "execution_count": 1,
     "metadata": {},
     "output_type": "execute_result"
    }
   ],
   "source": [
    "pwd"
   ]
  },
  {
   "cell_type": "code",
   "execution_count": 2,
   "metadata": {
    "collapsed": false
   },
   "outputs": [
    {
     "name": "stdout",
     "output_type": "stream",
     "text": [
      "/Users/dblyon/modules/cpr/goterm/phomics/static/python\n"
     ]
    }
   ],
   "source": [
    "cd phomics/static/python/"
   ]
  },
  {
   "cell_type": "code",
   "execution_count": 3,
   "metadata": {
    "collapsed": false
   },
   "outputs": [],
   "source": [
    "%run gotupk"
   ]
  },
  {
   "cell_type": "code",
   "execution_count": 6,
   "metadata": {
    "collapsed": false
   },
   "outputs": [
    {
     "data": {
      "text/plain": [
       "{'ANs_pop': 'O13535,P06777,P06838,P07276,P08466,P09880,P0C2I6,P0C2I7,P0C2I9,P0C2J0,P0C2J1,P0CX63,P15436,P17255,P22147,P26793,P31384,P32829,P33309,P34220,P36159,P38319,P38430,P38859,P39008,P39112,P47098,P47100,P48581,P53010,P53063,P53331,P53942,P54964,Q02555,Q02773,Q02792,Q02933,Q03264,Q03434,Q04214,Q04740,Q06224,Q08162,Q08213,Q08237,Q08444,Q12090,Q12112,Q12149,Q12273,Q12337,Q12414,Q12490,Q99337',\n",
       " 'ANs_study': 'P0C2I9,P15436,P17255,P22147,P26793,P33309,P38859,P53063,Q02555,Q02792,Q03434,Q06224,Q08162,Q08237,Q12149',\n",
       " 'fold_enrichment_study2pop': 1.5,\n",
       " 'id': 'Nuclease',\n",
       " 'p_bonferroni': 128.63118342417127,\n",
       " 'p_uncorrected': 0.42174158499728287,\n",
       " 'perc_enrichment_pop': 0.8888888888888888,\n",
       " 'perc_enrichment_study': 1.3333333333333335,\n",
       " 'pop_count': 10,\n",
       " 'pop_n': 1125,\n",
       " 'study_count': 15,\n",
       " 'study_n': 1125}"
      ]
     },
     "execution_count": 6,
     "metadata": {},
     "output_type": "execute_result"
    }
   ],
   "source": [
    "res.__dict__"
   ]
  },
  {
   "cell_type": "code",
   "execution_count": 7,
   "metadata": {
    "collapsed": false
   },
   "outputs": [
    {
     "data": {
      "text/plain": [
       "1125"
      ]
     },
     "execution_count": 7,
     "metadata": {},
     "output_type": "execute_result"
    }
   ],
   "source": [
    "res.pop_n"
   ]
  },
  {
   "cell_type": "code",
   "execution_count": 8,
   "metadata": {
    "collapsed": false
   },
   "outputs": [
    {
     "data": {
      "text/plain": [
       "128.63118342417127"
      ]
     },
     "execution_count": 8,
     "metadata": {},
     "output_type": "execute_result"
    }
   ],
   "source": [
    "res.p_bonferroni"
   ]
  },
  {
   "cell_type": "code",
   "execution_count": 10,
   "metadata": {
    "collapsed": false
   },
   "outputs": [
    {
     "data": {
      "text/plain": [
       "128.63118342417127"
      ]
     },
     "execution_count": 10,
     "metadata": {},
     "output_type": "execute_result"
    }
   ],
   "source": [
    "attr = 'p_bonferroni'\n",
    "res.__dict__[attr]"
   ]
  },
  {
   "cell_type": "code",
   "execution_count": 7,
   "metadata": {
    "collapsed": true
   },
   "outputs": [],
   "source": [
    "a = 0.00001\n",
    "thr = None"
   ]
  },
  {
   "cell_type": "code",
   "execution_count": 8,
   "metadata": {
    "collapsed": false
   },
   "outputs": [],
   "source": [
    "if a <= thr:\n",
    "    print a"
   ]
  },
  {
   "cell_type": "code",
   "execution_count": 9,
   "metadata": {
    "collapsed": true
   },
   "outputs": [],
   "source": [
    "if thr >= a:\n",
    "    print a"
   ]
  },
  {
   "cell_type": "code",
   "execution_count": 11,
   "metadata": {
    "collapsed": false
   },
   "outputs": [
    {
     "name": "stdout",
     "output_type": "stream",
     "text": [
      "Help on built-in function filter in module __builtin__:\n",
      "\n",
      "filter(...)\n",
      "    filter(function or None, sequence) -> list, tuple, or string\n",
      "    \n",
      "    Return those items of sequence for which function(item) is true.  If\n",
      "    function is None, return the items that are true.  If sequence is a tuple\n",
      "    or string, return the same type, else return a list.\n",
      "\n"
     ]
    }
   ],
   "source": [
    "help(filter)"
   ]
  },
  {
   "cell_type": "code",
   "execution_count": 49,
   "metadata": {
    "collapsed": false
   },
   "outputs": [],
   "source": [
    "a = 0.002\n",
    "thr = 0.01"
   ]
  },
  {
   "cell_type": "code",
   "execution_count": 50,
   "metadata": {
    "collapsed": false
   },
   "outputs": [
    {
     "name": "stdout",
     "output_type": "stream",
     "text": [
      "0.002\n"
     ]
    }
   ],
   "source": [
    "if a <= thr or thr is None:\n",
    "    print a"
   ]
  },
  {
   "cell_type": "code",
   "execution_count": 53,
   "metadata": {
    "collapsed": false
   },
   "outputs": [
    {
     "data": {
      "text/plain": [
       "[0, 1, 2, 3, 4, 5, 6, 7]"
      ]
     },
     "execution_count": 53,
     "metadata": {},
     "output_type": "execute_result"
    }
   ],
   "source": [
    "l = range(0, 8)\n",
    "l"
   ]
  },
  {
   "cell_type": "code",
   "execution_count": 54,
   "metadata": {
    "collapsed": false
   },
   "outputs": [
    {
     "data": {
      "text/plain": [
       "[0, 1, 2, 3, 4, 5, 6, 7, 8]"
      ]
     },
     "execution_count": 54,
     "metadata": {},
     "output_type": "execute_result"
    }
   ],
   "source": [
    "l.append(8)\n",
    "l"
   ]
  },
  {
   "cell_type": "code",
   "execution_count": 57,
   "metadata": {
    "collapsed": true
   },
   "outputs": [],
   "source": [
    "l += [9, 10]"
   ]
  },
  {
   "cell_type": "code",
   "execution_count": 58,
   "metadata": {
    "collapsed": false
   },
   "outputs": [
    {
     "data": {
      "text/plain": [
       "[0, 1, 2, 3, 4, 5, 6, 7, 8, [9, 10], 9, 10]"
      ]
     },
     "execution_count": 58,
     "metadata": {},
     "output_type": "execute_result"
    }
   ],
   "source": [
    "l"
   ]
  },
  {
   "cell_type": "code",
   "execution_count": 59,
   "metadata": {
    "collapsed": true
   },
   "outputs": [],
   "source": [
    "def calc_benjamini_hochberg_corrections(p_values, num_total_tests):\n",
    "    \"\"\"\n",
    "    Calculates the Benjamini-Hochberg correction for multiple hypothesis\n",
    "    testing from a list of p-values *sorted in ascending order*.\n",
    "\n",
    "    See\n",
    "    http://en.wikipedia.org/wiki/False_discovery_rate#Independent_tests\n",
    "    for more detail on the theory behind the correction.\n",
    "\n",
    "    **NOTE:** This is a generator, not a function. It will yield values\n",
    "    until all calculations have completed.\n",
    "\n",
    "    :Parameters:\n",
    "    - `p_values`: a list or iterable of p-values sorted in ascending\n",
    "      order\n",
    "    - `num_total_tests`: the total number of tests (p-values)\n",
    "\n",
    "    \"\"\"\n",
    "    prev_bh_value = 0\n",
    "    for i, p_value in enumerate(p_values):\n",
    "        bh_value = p_value * num_total_tests / (i + 1)\n",
    "        # Sometimes this correction can give values greater than 1,\n",
    "        # so we set those values at 1\n",
    "        bh_value = min(bh_value, 1)\n",
    "\n",
    "        # To preserve monotonicity in the values, we take the\n",
    "        # maximum of the previous value or this one, so that we\n",
    "        # don't yield a value less than the previous.\n",
    "        bh_value = max(bh_value, prev_bh_value)\n",
    "        prev_bh_value = bh_value\n",
    "        yield bh_value"
   ]
  },
  {
   "cell_type": "code",
   "execution_count": 98,
   "metadata": {
    "collapsed": false
   },
   "outputs": [
    {
     "name": "stdout",
     "output_type": "stream",
     "text": [
      "150\n"
     ]
    },
    {
     "data": {
      "text/plain": [
       "array([  1.00000000e-04,   3.02040816e-04,   5.04081633e-04,\n",
       "         7.06122449e-04,   9.08163265e-04,   1.11020408e-03,\n",
       "         1.31224490e-03,   1.51428571e-03,   1.71632653e-03,\n",
       "         1.91836735e-03,   2.12040816e-03,   2.32244898e-03,\n",
       "         2.52448980e-03,   2.72653061e-03,   2.92857143e-03,\n",
       "         3.13061224e-03,   3.33265306e-03,   3.53469388e-03,\n",
       "         3.73673469e-03,   3.93877551e-03,   4.14081633e-03,\n",
       "         4.34285714e-03,   4.54489796e-03,   4.74693878e-03,\n",
       "         4.94897959e-03,   5.15102041e-03,   5.35306122e-03,\n",
       "         5.55510204e-03,   5.75714286e-03,   5.95918367e-03,\n",
       "         6.16122449e-03,   6.36326531e-03,   6.56530612e-03,\n",
       "         6.76734694e-03,   6.96938776e-03,   7.17142857e-03,\n",
       "         7.37346939e-03,   7.57551020e-03,   7.77755102e-03,\n",
       "         7.97959184e-03,   8.18163265e-03,   8.38367347e-03,\n",
       "         8.58571429e-03,   8.78775510e-03,   8.98979592e-03,\n",
       "         9.19183673e-03,   9.39387755e-03,   9.59591837e-03,\n",
       "         9.79795918e-03,   1.00000000e-02,   1.00000000e+00,\n",
       "         1.00000000e+00,   1.00000000e+00,   1.00000000e+00,\n",
       "         1.00000000e+00,   1.00000000e+00,   1.00000000e+00,\n",
       "         1.00000000e+00,   1.00000000e+00,   1.00000000e+00,\n",
       "         1.00000000e+00,   1.00000000e+00,   1.00000000e+00,\n",
       "         1.00000000e+00,   1.00000000e+00,   1.00000000e+00,\n",
       "         1.00000000e+00,   1.00000000e+00,   1.00000000e+00,\n",
       "         1.00000000e+00,   1.00000000e+00,   1.00000000e+00,\n",
       "         1.00000000e+00,   1.00000000e+00,   1.00000000e+00,\n",
       "         1.00000000e+00,   1.00000000e+00,   1.00000000e+00,\n",
       "         1.00000000e+00,   1.00000000e+00,   1.00000000e+00,\n",
       "         1.00000000e+00,   1.00000000e+00,   1.00000000e+00,\n",
       "         1.00000000e+00,   1.00000000e+00,   1.00000000e+00,\n",
       "         1.00000000e+00,   1.00000000e+00,   1.00000000e+00,\n",
       "         1.00000000e+00,   1.00000000e+00,   1.00000000e+00,\n",
       "         1.00000000e+00,   1.00000000e+00,   1.00000000e+00,\n",
       "         1.00000000e+00,   1.00000000e+00,   1.00000000e+00,\n",
       "         1.00000000e+00,   1.00000000e+00,   1.00000000e+00,\n",
       "         1.00000000e+00,   1.00000000e+00,   1.00000000e+00,\n",
       "         1.00000000e+00,   1.00000000e+00,   1.00000000e+00,\n",
       "         1.00000000e+00,   1.00000000e+00,   1.00000000e+00,\n",
       "         1.00000000e+00,   1.00000000e+00,   1.00000000e+00,\n",
       "         1.00000000e+00,   1.00000000e+00,   1.00000000e+00,\n",
       "         1.00000000e+00,   1.00000000e+00,   1.00000000e+00,\n",
       "         1.00000000e+00,   1.00000000e+00,   1.00000000e+00,\n",
       "         1.00000000e+00,   1.00000000e+00,   1.00000000e+00,\n",
       "         1.00000000e+00,   1.00000000e+00,   1.00000000e+00,\n",
       "         1.00000000e+00,   1.00000000e+00,   1.00000000e+00,\n",
       "         1.00000000e+00,   1.00000000e+00,   1.00000000e+00,\n",
       "         1.00000000e+00,   1.00000000e+00,   1.00000000e+00,\n",
       "         1.00000000e+00,   1.00000000e+00,   1.00000000e+00,\n",
       "         1.00000000e+00,   1.00000000e+00,   1.00000000e+00,\n",
       "         1.00000000e+00,   1.00000000e+00,   1.00000000e+00,\n",
       "         1.00000000e+00,   1.00000000e+00,   1.00000000e+00])"
      ]
     },
     "execution_count": 98,
     "metadata": {},
     "output_type": "execute_result"
    }
   ],
   "source": [
    "import numpy as np\n",
    "p_values = np.linspace(0.0001, 0.01)\n",
    "p_values = np.append(p_values, np.ones(100))\n",
    "print len(p_values)\n",
    "p_values"
   ]
  },
  {
   "cell_type": "code",
   "execution_count": 99,
   "metadata": {
    "collapsed": false
   },
   "outputs": [],
   "source": [
    "bh = calc_benjamini_hochberg_corrections(p_values, len(p_values))"
   ]
  },
  {
   "cell_type": "code",
   "execution_count": 100,
   "metadata": {
    "collapsed": false
   },
   "outputs": [],
   "source": [
    "bh_list = []\n",
    "for ele in p_values:\n",
    "    bh_list.append(bh.next())"
   ]
  },
  {
   "cell_type": "code",
   "execution_count": 104,
   "metadata": {
    "collapsed": false
   },
   "outputs": [
    {
     "data": {
      "text/plain": [
       "array([ 0.015     ,  0.02265306,  0.02520408,  0.02647959,  0.0272449 ,\n",
       "        0.0277551 ,  0.02811953,  0.02839286,  0.02860544,  0.02877551,\n",
       "        0.02891466,  0.02903061,  0.02912873,  0.02921283,  0.02928571,\n",
       "        0.02934949,  0.02940576,  0.02945578,  0.02950054,  0.02954082,\n",
       "        0.02957726,  0.02961039,  0.02964064,  0.02966837,  0.02969388,\n",
       "        0.02971743,  0.02973923,  0.02975948,  0.02977833,  0.02979592,\n",
       "        0.02981238,  0.02982781,  0.0298423 ,  0.02985594,  0.0298688 ,\n",
       "        0.02988095,  0.02989244,  0.02990333,  0.02991366,  0.02992347,\n",
       "        0.0299328 ,  0.02994169,  0.02995017,  0.02995826,  0.02996599,\n",
       "        0.02997338,  0.02998046,  0.02998724,  0.02999375,  0.03      ,\n",
       "        1.        ,  1.        ,  1.        ,  1.        ,  1.        ,\n",
       "        1.        ,  1.        ,  1.        ,  1.        ,  1.        ,\n",
       "        1.        ,  1.        ,  1.        ,  1.        ,  1.        ,\n",
       "        1.        ,  1.        ,  1.        ,  1.        ,  1.        ,\n",
       "        1.        ,  1.        ,  1.        ,  1.        ,  1.        ,\n",
       "        1.        ,  1.        ,  1.        ,  1.        ,  1.        ,\n",
       "        1.        ,  1.        ,  1.        ,  1.        ,  1.        ,\n",
       "        1.        ,  1.        ,  1.        ,  1.        ,  1.        ,\n",
       "        1.        ,  1.        ,  1.        ,  1.        ,  1.        ,\n",
       "        1.        ,  1.        ,  1.        ,  1.        ,  1.        ,\n",
       "        1.        ,  1.        ,  1.        ,  1.        ,  1.        ,\n",
       "        1.        ,  1.        ,  1.        ,  1.        ,  1.        ,\n",
       "        1.        ,  1.        ,  1.        ,  1.        ,  1.        ,\n",
       "        1.        ,  1.        ,  1.        ,  1.        ,  1.        ,\n",
       "        1.        ,  1.        ,  1.        ,  1.        ,  1.        ,\n",
       "        1.        ,  1.        ,  1.        ,  1.        ,  1.        ,\n",
       "        1.        ,  1.        ,  1.        ,  1.        ,  1.        ,\n",
       "        1.        ,  1.        ,  1.        ,  1.        ,  1.        ,\n",
       "        1.        ,  1.        ,  1.        ,  1.        ,  1.        ,\n",
       "        1.        ,  1.        ,  1.        ,  1.        ,  1.        ])"
      ]
     },
     "execution_count": 104,
     "metadata": {},
     "output_type": "execute_result"
    }
   ],
   "source": [
    "a = np.array(bh_list)\n",
    "a"
   ]
  },
  {
   "cell_type": "code",
   "execution_count": 106,
   "metadata": {
    "collapsed": false
   },
   "outputs": [],
   "source": [
    "l = list(a)"
   ]
  },
  {
   "cell_type": "code",
   "execution_count": 108,
   "metadata": {
    "collapsed": false
   },
   "outputs": [],
   "source": [
    "l.sort()"
   ]
  },
  {
   "cell_type": "code",
   "execution_count": 110,
   "metadata": {
    "collapsed": false
   },
   "outputs": [
    {
     "name": "stdout",
     "output_type": "stream",
     "text": [
      "Help on built-in function sort:\n",
      "\n",
      "sort(...)\n",
      "    L.sort(cmp=None, key=None, reverse=False) -- stable sort *IN PLACE*;\n",
      "    cmp(x, y) -> -1, 0, 1\n",
      "\n"
     ]
    }
   ],
   "source": [
    "help(l.sort)"
   ]
  },
  {
   "cell_type": "markdown",
   "metadata": {},
   "source": [
    "{% extends \"layout.html\" %}\n",
    "\n",
    "{% block head %}\n",
    "\n",
    "{% endblock head %}\n",
    "\n",
    "\n",
    "{% block content %}\n",
    "\n",
    "\n",
    "<div class=\"container-fluid\">\n",
    "<title>Upload new File</title>\n",
    "    <h1>Upload new File</h1>\n",
    "    <form action=\"\" method=post enctype=multipart/form-data>\n",
    "      <p><input type=file name=file>\n",
    "         <input type=submit value=Upload>\n",
    "    </form>\n",
    "\n",
    "</div>\n",
    "\t\n",
    "{% endblock content %}\n",
    "\n"
   ]
  },
  {
   "cell_type": "code",
   "execution_count": 111,
   "metadata": {
    "collapsed": true
   },
   "outputs": [],
   "source": [
    "variable = 'jj'"
   ]
  },
  {
   "cell_type": "code",
   "execution_count": 117,
   "metadata": {
    "collapsed": false
   },
   "outputs": [
    {
     "data": {
      "text/plain": [
       "'jj'"
      ]
     },
     "execution_count": 117,
     "metadata": {},
     "output_type": "execute_result"
    }
   ],
   "source": [
    "\"%s\" % variable"
   ]
  },
  {
   "cell_type": "code",
   "execution_count": 119,
   "metadata": {
    "collapsed": false
   },
   "outputs": [],
   "source": [
    "s = \"\"\"userinput_fn, decimal, organism, gocat_upk, go_slim_or_basic, indent,\n",
    "        multitest_method, alpha, e_or_p_or_both, abcorr, num_bins, backtracking,\n",
    "        fold_enrichment_study2pop, p_value_uncorrected, p_value_mulitpletesting\"\"\""
   ]
  },
  {
   "cell_type": "code",
   "execution_count": 121,
   "metadata": {
    "collapsed": false
   },
   "outputs": [
    {
     "data": {
      "text/plain": [
       "['userinput_fn',\n",
       " 'decimal',\n",
       " 'organism',\n",
       " 'gocat_upk',\n",
       " 'go_slim_or_basic',\n",
       " 'indent',\n",
       " 'multitest_method',\n",
       " 'alpha',\n",
       " 'e_or_p_or_both',\n",
       " 'abcorr',\n",
       " 'num_bins',\n",
       " 'backtracking',\n",
       " 'fold_enrichment_study2pop',\n",
       " 'p_value_uncorrected',\n",
       " 'p_value_mulitpletesting']"
      ]
     },
     "execution_count": 121,
     "metadata": {},
     "output_type": "execute_result"
    }
   ],
   "source": [
    "[x.strip() for x in s.split(\",\")]"
   ]
  },
  {
   "cell_type": "code",
   "execution_count": null,
   "metadata": {
    "collapsed": true
   },
   "outputs": [],
   "source": []
  }
 ],
 "metadata": {
  "kernelspec": {
   "display_name": "Python 2",
   "language": "python",
   "name": "python2"
  },
  "language_info": {
   "codemirror_mode": {
    "name": "ipython",
    "version": 2
   },
   "file_extension": ".py",
   "mimetype": "text/x-python",
   "name": "python",
   "nbconvert_exporter": "python",
   "pygments_lexer": "ipython2",
   "version": "2.7.6"
  }
 },
 "nbformat": 4,
 "nbformat_minor": 0
}
