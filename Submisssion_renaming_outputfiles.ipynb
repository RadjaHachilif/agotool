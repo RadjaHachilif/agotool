{
 "cells": [
  {
   "cell_type": "code",
   "execution_count": 26,
   "metadata": {
    "collapsed": true
   },
   "outputs": [],
   "source": [
    "import pandas as pd\n",
    "import os"
   ]
  },
  {
   "cell_type": "code",
   "execution_count": 1,
   "metadata": {
    "collapsed": true
   },
   "outputs": [],
   "source": [
    "s = '''id\tGO term ID or Uniprot Keyword term\n",
    "enrichment\toverrepresented (o) or underrepresented (u)\n",
    "perc_enrichment_study\t% associated with the term in the study group\n",
    "perc_enrichment_pop\t% associated with the term in the population group\n",
    "fold_enrichment_study2pop\tfold change study/population\n",
    "study_count\tnumber of proteins associating with term in study\n",
    "study_n\tnumber of proteins in study group (total)\n",
    "pop_count\tnumber of proteins associating with term in population\n",
    "pop_n\tnumber of proteins in population group (total)\n",
    "description\tdescription of GO term (GO terms only)\n",
    "p_uncorrected\tFisher exact test P-value\n",
    "ANs_study\tAccession names in the study (UniProt IDs associating with the GO term/keyword)'''"
   ]
  },
  {
   "cell_type": "code",
   "execution_count": 2,
   "metadata": {
    "collapsed": false
   },
   "outputs": [
    {
     "data": {
      "text/plain": [
       "[['id', 'GO term ID or Uniprot Keyword term'],\n",
       " ['enrichment', 'overrepresented (o) or underrepresented (u)'],\n",
       " ['perc_enrichment_study', '% associated with the term in the study group'],\n",
       " ['perc_enrichment_pop', '% associated with the term in the population group'],\n",
       " ['fold_enrichment_study2pop', 'fold change study/population'],\n",
       " ['study_count', 'number of proteins associating with term in study'],\n",
       " ['study_n', 'number of proteins in study group (total)'],\n",
       " ['pop_count', 'number of proteins associating with term in population'],\n",
       " ['pop_n', 'number of proteins in population group (total)'],\n",
       " ['description', 'description of GO term (GO terms only)'],\n",
       " ['p_uncorrected', 'Fisher exact test P-value'],\n",
       " ['ANs_study',\n",
       "  'Accession names in the study (UniProt IDs associating with the GO term/keyword)']]"
      ]
     },
     "execution_count": 2,
     "metadata": {},
     "output_type": "execute_result"
    }
   ],
   "source": [
    "colnames = [ele.split('\\t') for ele in s.split('\\n')]\n",
    "colnames"
   ]
  },
  {
   "cell_type": "code",
   "execution_count": null,
   "metadata": {
    "collapsed": true
   },
   "outputs": [],
   "source": [
    "id\tenrichment\tperc_enrichment_study\tperc_enrichment_pop\tfold_enrichment_study2pop\n",
    "study_count\tstudy_n\tpop_count\tpop_n\tp_uncorrected\tp_bonferroni\tp_holm\tp_sidak\tANs_study\tANs_pop"
   ]
  },
  {
   "cell_type": "code",
   "execution_count": 79,
   "metadata": {
    "collapsed": true
   },
   "outputs": [],
   "source": [
    "cols2printGO = ['GO term ID or Uniprot Keyword term',\n",
    " 'overrepresented (o) or underrepresented (u)',\n",
    " '% associated with the term in the study group',\n",
    " '% associated with the term in the population group',\n",
    " 'fold change study/population',\n",
    " 'number of proteins associating with term in study',\n",
    " 'number of proteins in study group (total)',\n",
    " 'number of proteins associating with term in population',\n",
    " 'number of proteins in population group (total)',\n",
    " 'description of GO term (GO terms only)',\n",
    " 'Fisher exact test P-value',\n",
    " 'Accession names in the study (UniProt IDs associating with the GO term/keyword)']\n",
    "cols2printUP = ['GO term ID or Uniprot Keyword term',\n",
    " 'overrepresented (o) or underrepresented (u)',\n",
    " '% associated with the term in the study group',\n",
    " '% associated with the term in the population group',\n",
    " 'fold change study/population',\n",
    " 'number of proteins associating with term in study',\n",
    " 'number of proteins in study group (total)',\n",
    " 'number of proteins associating with term in population',\n",
    " 'number of proteins in population group (total)',\n",
    " 'Fisher exact test P-value',\n",
    " 'Accession names in the study (UniProt IDs associating with the GO term/keyword)']"
   ]
  },
  {
   "cell_type": "code",
   "execution_count": 75,
   "metadata": {
    "collapsed": false
   },
   "outputs": [
    {
     "data": {
      "text/plain": [
       "['GO term ID or Uniprot Keyword term',\n",
       " 'overrepresented (o) or underrepresented (u)',\n",
       " '% associated with the term in the study group',\n",
       " '% associated with the term in the population group',\n",
       " 'fold change study/population',\n",
       " 'number of proteins associating with term in study',\n",
       " 'number of proteins in study group (total)',\n",
       " 'number of proteins associating with term in population',\n",
       " 'number of proteins in population group (total)',\n",
       " 'description of GO term (GO terms only)',\n",
       " 'Fisher exact test P-value',\n",
       " 'Accession names in the study (UniProt IDs associating with the GO term/keyword)']"
      ]
     },
     "execution_count": 75,
     "metadata": {},
     "output_type": "execute_result"
    }
   ],
   "source": [
    "cols2print = [ele[1] for ele in colnames]\n",
    "cols2print"
   ]
  },
  {
   "cell_type": "code",
   "execution_count": 43,
   "metadata": {
    "collapsed": false
   },
   "outputs": [],
   "source": [
    "fn_list = ['HeLa_Acetyl_vs_AbCorr.txt',\n",
    " 'HeLa_Acetyl_vs_AbCorr_UPK.txt',\n",
    " 'HeLa_Acetyl_vs_Genome.txt',\n",
    " 'HeLa_Acetyl_vs_Genome_UPK.txt',\n",
    " 'HeLa_Acetyl_vs_Observed.txt',\n",
    " 'HeLa_Acetyl_vs_Observed_UPK.txt',\n",
    " 'HeLa_Phos_vs_AbCorr.txt',\n",
    " 'HeLa_Phos_vs_AbCorr_UPK.txt',\n",
    " 'HeLa_Phos_vs_Genome.txt',\n",
    " 'HeLa_Phos_vs_Genome_UPK.txt',\n",
    " 'HeLa_Phos_vs_Observed.txt',\n",
    " 'HeLa_Phos_vs_Observed_UPK.txt',\n",
    " 'HeLa_Succinyl_vs_AbCorr.txt',\n",
    " 'HeLa_Succinyl_vs_AbCorr_UPK.txt',\n",
    " 'HeLa_Succinyl_vs_Genome.txt',\n",
    " 'HeLa_Succinyl_vs_Genome_UPK.txt',\n",
    " 'HeLa_Succinyl_vs_Observed.txt',\n",
    " 'HeLa_Succinyl_vs_Observed_UPK.txt',\n",
    " 'HeLa_Ubi_vs_AbCorr.txt',\n",
    " 'HeLa_Ubi_vs_AbCorr_UPK.txt',\n",
    " 'HeLa_Ubi_vs_Genome.txt',\n",
    " 'HeLa_Ubi_vs_Genome_UPK.txt',\n",
    " 'HeLa_Ubi_vs_Observed.txt',\n",
    " 'HeLa_Ubi_vs_Observed_UPK.txt',\n",
    " 'Yeast_Acetyl_vs_AbCorr.txt',\n",
    " 'Yeast_Acetyl_vs_AbCorr_UPK.txt',\n",
    " 'Yeast_Acetyl_vs_Genome.txt',\n",
    " 'Yeast_Acetyl_vs_Genome_UPK.txt',\n",
    " 'Yeast_Acetyl_vs_Observed.txt',\n",
    " 'Yeast_Acetyl_vs_Observed_UPK.txt',\n",
    " 'Yeast_Phos_vs_AbCorr.txt',\n",
    " 'Yeast_Phos_vs_AbCorr_UPK.txt',\n",
    " 'Yeast_Phos_vs_Genome.txt',\n",
    " 'Yeast_Phos_vs_Genome_UPK.txt',\n",
    " 'Yeast_Phos_vs_Observed.txt',\n",
    " 'Yeast_Phos_vs_Observed_UPK.txt',\n",
    " 'Yeast_Succinyl_vs_AbCorr.txt',\n",
    " 'Yeast_Succinyl_vs_AbCorr_UPK.txt',\n",
    " 'Yeast_Succinyl_vs_Genome.txt',\n",
    " 'Yeast_Succinyl_vs_Genome_UPK.txt',\n",
    " 'Yeast_Succinyl_vs_Observed.txt',\n",
    " 'Yeast_Succinyl_vs_Observed_UPK.txt',\n",
    " 'Yeast_Ubi_vs_AbCorr.txt',\n",
    " 'Yeast_Ubi_vs_AbCorr_UPK.txt',\n",
    " 'Yeast_Ubi_vs_Genome.txt',\n",
    " 'Yeast_Ubi_vs_Genome_UPK.txt',\n",
    " 'Yeast_Ubi_vs_Observed.txt',\n",
    " 'Yeast_Ubi_vs_Observed_UPK.txt']\n",
    "fn_list = ['/Users/dblyon/Downloads/Brian_GO_UPK/v3/' + fn for fn in fn_list]"
   ]
  },
  {
   "cell_type": "code",
   "execution_count": 80,
   "metadata": {
    "collapsed": false
   },
   "outputs": [],
   "source": [
    "def rename_columns(df, colnames):\n",
    "    df_new = pd.DataFrame()\n",
    "    cols2print = cols2printGO\n",
    "    for colname in colnames:\n",
    "        colname_old, colname_new = colname\n",
    "        if colname_old == 'description':\n",
    "            try:\n",
    "                df_new[colname_new] = df[colname_old]\n",
    "            except KeyError:\n",
    "                cols2print = cols2printUP\n",
    "                continue\n",
    "        df_new[colname_new] = df[colname_old]\n",
    "    df_new = percent_2dec(df_new)\n",
    "    return df_new[cols2print]"
   ]
  },
  {
   "cell_type": "code",
   "execution_count": 81,
   "metadata": {
    "collapsed": true
   },
   "outputs": [],
   "source": [
    "def percent_2dec(df_new):  \n",
    "    df_new['% associated with the term in the study group'] = (df_new['number of proteins associating with term in study'] / df_new['number of proteins in study group (total)'])*100\n",
    "    df_new['% associated with the term in the study group'] = df_new['% associated with the term in the study group'].round(2)\n",
    "    df_new['% associated with the term in the population group'] = (df_new['number of proteins associating with term in population'] / df_new['number of proteins in population group (total)'])*100\n",
    "    df_new['% associated with the term in the population group'] = df_new['% associated with the term in the population group'].round(2)\n",
    "    return df_new"
   ]
  },
  {
   "cell_type": "code",
   "execution_count": 82,
   "metadata": {
    "collapsed": false
   },
   "outputs": [],
   "source": [
    "for fn in fn_list:\n",
    "    df = pd.read_csv(fn, sep='\\t', skiprows=1)\n",
    "    df_new = rename_columns(df, colnames)\n",
    "    fn_out = '/Users/dblyon/Downloads/Brian_GO_UPK/v3/submission/' + os.path.basename(fn)\n",
    "    df_new.to_csv(fn_out, sep='\\t', header=True, index=False)"
   ]
  },
  {
   "cell_type": "code",
   "execution_count": 67,
   "metadata": {
    "collapsed": false
   },
   "outputs": [],
   "source": [
    "df_new['percstudy'] = (df_new['number of proteins associating with term in study'] / df_new['number of proteins in study group (total)'])*100"
   ]
  },
  {
   "cell_type": "code",
   "execution_count": 68,
   "metadata": {
    "collapsed": false
   },
   "outputs": [],
   "source": [
    "df_new['percstudy'] = df_new['percstudy'].round(2)"
   ]
  },
  {
   "cell_type": "code",
   "execution_count": 69,
   "metadata": {
    "collapsed": false
   },
   "outputs": [
    {
     "data": {
      "text/plain": [
       "0      0.28\n",
       "1      0.18\n",
       "2      0.18\n",
       "3      0.09\n",
       "4      0.09\n",
       "5      0.09\n",
       "6      0.09\n",
       "7      0.09\n",
       "8      0.09\n",
       "9      0.09\n",
       "10     0.09\n",
       "11     0.09\n",
       "12     0.09\n",
       "13     0.09\n",
       "14     0.09\n",
       "15     0.09\n",
       "16     0.09\n",
       "17     0.09\n",
       "18     1.75\n",
       "19     0.37\n",
       "20     0.37\n",
       "21     0.37\n",
       "22     7.73\n",
       "23     2.48\n",
       "24     0.28\n",
       "25     0.28\n",
       "26     1.38\n",
       "27     0.46\n",
       "28     8.83\n",
       "29     0.74\n",
       "       ... \n",
       "283    3.77\n",
       "284    1.10\n",
       "285    0.09\n",
       "286    0.09\n",
       "287    4.60\n",
       "288    0.83\n",
       "289    2.67\n",
       "290    0.92\n",
       "291    0.18\n",
       "292    1.01\n",
       "293    0.55\n",
       "294    3.31\n",
       "295    1.20\n",
       "296    0.09\n",
       "297    0.09\n",
       "298    0.46\n",
       "299    1.01\n",
       "300    0.64\n",
       "301    0.92\n",
       "302    0.18\n",
       "303    0.09\n",
       "304    0.09\n",
       "305    0.28\n",
       "306    0.18\n",
       "307    0.09\n",
       "308    0.28\n",
       "309    0.09\n",
       "310    0.09\n",
       "311    0.09\n",
       "312    0.09\n",
       "Name: percstudy, dtype: float64"
      ]
     },
     "execution_count": 69,
     "metadata": {},
     "output_type": "execute_result"
    }
   ],
   "source": [
    "df_new['percstudy']"
   ]
  },
  {
   "cell_type": "code",
   "execution_count": null,
   "metadata": {
    "collapsed": true
   },
   "outputs": [],
   "source": []
  },
  {
   "cell_type": "code",
   "execution_count": null,
   "metadata": {
    "collapsed": true
   },
   "outputs": [],
   "source": []
  }
 ],
 "metadata": {
  "kernelspec": {
   "display_name": "Python 2",
   "language": "python",
   "name": "python2"
  },
  "language_info": {
   "codemirror_mode": {
    "name": "ipython",
    "version": 2
   },
   "file_extension": ".py",
   "mimetype": "text/x-python",
   "name": "python",
   "nbconvert_exporter": "python",
   "pygments_lexer": "ipython2",
   "version": "2.7.6"
  }
 },
 "nbformat": 4,
 "nbformat_minor": 0
}
