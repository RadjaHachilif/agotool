{
 "cells": [
  {
   "cell_type": "code",
   "execution_count": 26,
   "metadata": {
    "collapsed": true
   },
   "outputs": [],
   "source": [
    "import pandas as pd\n",
    "import os"
   ]
  },
  {
   "cell_type": "code",
   "execution_count": 7,
   "metadata": {
    "collapsed": true
   },
   "outputs": [],
   "source": [
    "s='''id\tenrichment\tperc_enrichment_study\tperc_enrichment_pop\tfold_enrichment_study2pop\tstudy_count\tstudy_n\tpop_count\tpop_n\tdescription\tp_uncorrected\tp_bonferroni\tp_holm\tp_sidak\tANs_study\tANs_pop\tp_fdr'''"
   ]
  },
  {
   "cell_type": "code",
   "execution_count": 9,
   "metadata": {
    "collapsed": false
   },
   "outputs": [
    {
     "data": {
      "text/plain": [
       "['id',\n",
       " 'enrichment',\n",
       " 'perc_enrichment_study',\n",
       " 'perc_enrichment_pop',\n",
       " 'fold_enrichment_study2pop',\n",
       " 'study_count',\n",
       " 'study_n',\n",
       " 'pop_count',\n",
       " 'pop_n',\n",
       " 'description',\n",
       " 'p_uncorrected',\n",
       " 'p_bonferroni',\n",
       " 'p_holm',\n",
       " 'p_sidak',\n",
       " 'ANs_study',\n",
       " 'ANs_pop',\n",
       " 'p_fdr']"
      ]
     },
     "execution_count": 9,
     "metadata": {},
     "output_type": "execute_result"
    }
   ],
   "source": [
    "colnames_old = s.split('\\t')\n",
    "colnames_old"
   ]
  },
  {
   "cell_type": "code",
   "execution_count": 14,
   "metadata": {
    "collapsed": false
   },
   "outputs": [
    {
     "data": {
      "text/plain": [
       "[('id', 'id'),\n",
       " ('enrichment', 'enrichment'),\n",
       " ('perc_enrichment_study', 'perc_enrichment_study'),\n",
       " ('perc_enrichment_pop', 'perc_enrichment_pop'),\n",
       " ('fold_enrichment_study2pop', 'fold_enrichment_study2pop'),\n",
       " ('study_count', 'study_count'),\n",
       " ('study_n', 'study_n'),\n",
       " ('pop_count', 'pop_count'),\n",
       " ('pop_n', 'pop_n'),\n",
       " ('description', 'description'),\n",
       " ('p_uncorrected', 'p_uncorrected'),\n",
       " ('p_bonferroni', 'ANs_study')]"
      ]
     },
     "execution_count": 14,
     "metadata": {},
     "output_type": "execute_result"
    }
   ],
   "source": [
    "colnames_old2new = zip(colnames_old, colnames_new)\n",
    "colnames_old2new"
   ]
  },
  {
   "cell_type": "code",
   "execution_count": 12,
   "metadata": {
    "collapsed": true
   },
   "outputs": [],
   "source": [
    "s = '''id\tGO term ID or Uniprot Keyword term\n",
    "enrichment\toverrepresented (o) or underrepresented (u)\n",
    "perc_enrichment_study\t% associated with the term in the study group\n",
    "perc_enrichment_pop\t% associated with the term in the population group\n",
    "fold_enrichment_study2pop\tfold change study/population\n",
    "study_count\tnumber of proteins associating with term in study\n",
    "study_n\tnumber of proteins in study group (total)\n",
    "pop_count\tnumber of proteins associating with term in population\n",
    "pop_n\tnumber of proteins in population group (total)\n",
    "description\tdescription of GO term (GO terms only)\n",
    "p_uncorrected\tFisher exact test P-value\n",
    "ANs_study\tAccession names in the study (UniProt IDs associating with the GO term/keyword)'''"
   ]
  },
  {
   "cell_type": "code",
   "execution_count": 13,
   "metadata": {
    "collapsed": false
   },
   "outputs": [
    {
     "data": {
      "text/plain": [
       "['id',\n",
       " 'enrichment',\n",
       " 'perc_enrichment_study',\n",
       " 'perc_enrichment_pop',\n",
       " 'fold_enrichment_study2pop',\n",
       " 'study_count',\n",
       " 'study_n',\n",
       " 'pop_count',\n",
       " 'pop_n',\n",
       " 'description',\n",
       " 'p_uncorrected',\n",
       " 'ANs_study']"
      ]
     },
     "execution_count": 13,
     "metadata": {},
     "output_type": "execute_result"
    }
   ],
   "source": [
    "colnames_new = [ele.split('\\t')[0] for ele in s.split('\\n')]\n",
    "colnames_new"
   ]
  },
  {
   "cell_type": "code",
   "execution_count": null,
   "metadata": {
    "collapsed": true
   },
   "outputs": [],
   "source": [
    "id\tenrichment\tperc_enrichment_study\tperc_enrichment_pop\tfold_enrichment_study2pop\n",
    "study_count\tstudy_n\tpop_count\tpop_n\tp_uncorrected\tp_bonferroni\tp_holm\tp_sidak\tANs_study\tANs_pop"
   ]
  },
  {
   "cell_type": "code",
   "execution_count": 79,
   "metadata": {
    "collapsed": true
   },
   "outputs": [],
   "source": [
    "cols2printGO = ['GO term ID or Uniprot Keyword term',\n",
    " 'overrepresented (o) or underrepresented (u)',\n",
    " '% associated with the term in the study group',\n",
    " '% associated with the term in the population group',\n",
    " 'fold change study/population',\n",
    " 'number of proteins associating with term in study',\n",
    " 'number of proteins in study group (total)',\n",
    " 'number of proteins associating with term in population',\n",
    " 'number of proteins in population group (total)',\n",
    " 'description of GO term (GO terms only)',\n",
    " 'Fisher exact test P-value',\n",
    " 'Accession names in the study (UniProt IDs associating with the GO term/keyword)']\n",
    "cols2printUP = ['GO term ID or Uniprot Keyword term',\n",
    " 'overrepresented (o) or underrepresented (u)',\n",
    " '% associated with the term in the study group',\n",
    " '% associated with the term in the population group',\n",
    " 'fold change study/population',\n",
    " 'number of proteins associating with term in study',\n",
    " 'number of proteins in study group (total)',\n",
    " 'number of proteins associating with term in population',\n",
    " 'number of proteins in population group (total)',\n",
    " 'Fisher exact test P-value',\n",
    " 'Accession names in the study (UniProt IDs associating with the GO term/keyword)']"
   ]
  },
  {
   "cell_type": "code",
   "execution_count": 75,
   "metadata": {
    "collapsed": false
   },
   "outputs": [
    {
     "data": {
      "text/plain": [
       "['GO term ID or Uniprot Keyword term',\n",
       " 'overrepresented (o) or underrepresented (u)',\n",
       " '% associated with the term in the study group',\n",
       " '% associated with the term in the population group',\n",
       " 'fold change study/population',\n",
       " 'number of proteins associating with term in study',\n",
       " 'number of proteins in study group (total)',\n",
       " 'number of proteins associating with term in population',\n",
       " 'number of proteins in population group (total)',\n",
       " 'description of GO term (GO terms only)',\n",
       " 'Fisher exact test P-value',\n",
       " 'Accession names in the study (UniProt IDs associating with the GO term/keyword)']"
      ]
     },
     "execution_count": 75,
     "metadata": {},
     "output_type": "execute_result"
    }
   ],
   "source": [
    "cols2print = [ele[1] for ele in colnames]\n",
    "cols2print"
   ]
  },
  {
   "cell_type": "code",
   "execution_count": 4,
   "metadata": {
    "collapsed": false
   },
   "outputs": [],
   "source": [
    "fn_list = ['HeLa_Acetyl_vs_AbCorr.txt',\n",
    " 'HeLa_Acetyl_vs_AbCorr_UPK.txt',\n",
    " 'HeLa_Acetyl_vs_Genome.txt',\n",
    " 'HeLa_Acetyl_vs_Genome_UPK.txt',\n",
    " 'HeLa_Acetyl_vs_Observed.txt',\n",
    " 'HeLa_Acetyl_vs_Observed_UPK.txt',\n",
    " 'HeLa_Phos_vs_AbCorr.txt',\n",
    " 'HeLa_Phos_vs_AbCorr_UPK.txt',\n",
    " 'HeLa_Phos_vs_Genome.txt',\n",
    " 'HeLa_Phos_vs_Genome_UPK.txt',\n",
    " 'HeLa_Phos_vs_Observed.txt',\n",
    " 'HeLa_Phos_vs_Observed_UPK.txt',\n",
    " 'HeLa_Succinyl_vs_AbCorr.txt',\n",
    " 'HeLa_Succinyl_vs_AbCorr_UPK.txt',\n",
    " 'HeLa_Succinyl_vs_Genome.txt',\n",
    " 'HeLa_Succinyl_vs_Genome_UPK.txt',\n",
    " 'HeLa_Succinyl_vs_Observed.txt',\n",
    " 'HeLa_Succinyl_vs_Observed_UPK.txt',\n",
    " 'HeLa_Ubi_vs_AbCorr.txt',\n",
    " 'HeLa_Ubi_vs_AbCorr_UPK.txt',\n",
    " 'HeLa_Ubi_vs_Genome.txt',\n",
    " 'HeLa_Ubi_vs_Genome_UPK.txt',\n",
    " 'HeLa_Ubi_vs_Observed.txt',\n",
    " 'HeLa_Ubi_vs_Observed_UPK.txt',\n",
    " 'Yeast_Acetyl_vs_AbCorr.txt',\n",
    " 'Yeast_Acetyl_vs_AbCorr_UPK.txt',\n",
    " 'Yeast_Acetyl_vs_Genome.txt',\n",
    " 'Yeast_Acetyl_vs_Genome_UPK.txt',\n",
    " 'Yeast_Acetyl_vs_Observed.txt',\n",
    " 'Yeast_Acetyl_vs_Observed_UPK.txt',\n",
    " 'Yeast_Phos_vs_AbCorr.txt',\n",
    " 'Yeast_Phos_vs_AbCorr_UPK.txt',\n",
    " 'Yeast_Phos_vs_Genome.txt',\n",
    " 'Yeast_Phos_vs_Genome_UPK.txt',\n",
    " 'Yeast_Phos_vs_Observed.txt',\n",
    " 'Yeast_Phos_vs_Observed_UPK.txt',\n",
    " 'Yeast_Succinyl_vs_AbCorr.txt',\n",
    " 'Yeast_Succinyl_vs_AbCorr_UPK.txt',\n",
    " 'Yeast_Succinyl_vs_Genome.txt',\n",
    " 'Yeast_Succinyl_vs_Genome_UPK.txt',\n",
    " 'Yeast_Succinyl_vs_Observed.txt',\n",
    " 'Yeast_Succinyl_vs_Observed_UPK.txt',\n",
    " 'Yeast_Ubi_vs_AbCorr.txt',\n",
    " 'Yeast_Ubi_vs_AbCorr_UPK.txt',\n",
    " 'Yeast_Ubi_vs_Genome.txt',\n",
    " 'Yeast_Ubi_vs_Genome_UPK.txt',\n",
    " 'Yeast_Ubi_vs_Observed.txt',\n",
    " 'Yeast_Ubi_vs_Observed_UPK.txt']\n",
    "fn_list = ['/Users/dblyon/Downloads/Brian_GO_UPK/v3/' + fn for fn in fn_list]"
   ]
  },
  {
   "cell_type": "code",
   "execution_count": 80,
   "metadata": {
    "collapsed": false
   },
   "outputs": [],
   "source": [
    "def rename_columns(df, colnames):\n",
    "    df_new = pd.DataFrame()\n",
    "    cols2print = cols2printGO\n",
    "    for colname in colnames:\n",
    "        colname_old, colname_new = colname\n",
    "        if colname_old == 'description':\n",
    "            try:\n",
    "                df_new[colname_new] = df[colname_old]\n",
    "            except KeyError:\n",
    "                cols2print = cols2printUP\n",
    "                continue\n",
    "        df_new[colname_new] = df[colname_old]\n",
    "    df_new = percent_2dec(df_new)\n",
    "    return df_new[cols2print]"
   ]
  },
  {
   "cell_type": "code",
   "execution_count": 81,
   "metadata": {
    "collapsed": true
   },
   "outputs": [],
   "source": [
    "def percent_2dec(df_new):  \n",
    "    df_new['% associated with the term in the study group'] = (df_new['number of proteins associating with term in study'] / df_new['number of proteins in study group (total)'])*100\n",
    "    df_new['% associated with the term in the study group'] = df_new['% associated with the term in the study group'].round(2)\n",
    "    df_new['% associated with the term in the population group'] = (df_new['number of proteins associating with term in population'] / df_new['number of proteins in population group (total)'])*100\n",
    "    df_new['% associated with the term in the population group'] = df_new['% associated with the term in the population group'].round(2)\n",
    "    return df_new"
   ]
  },
  {
   "cell_type": "code",
   "execution_count": 82,
   "metadata": {
    "collapsed": false
   },
   "outputs": [],
   "source": [
    "for fn in fn_list:\n",
    "    df = pd.read_csv(fn, sep='\\t', skiprows=1)\n",
    "    df_new = rename_columns(df, colnames)\n",
    "    fn_out = '/Users/dblyon/Downloads/Brian_GO_UPK/v3/submission/' + os.path.basename(fn)\n",
    "    df_new.to_csv(fn_out, sep='\\t', header=True, index=False)"
   ]
  },
  {
   "cell_type": "code",
   "execution_count": 67,
   "metadata": {
    "collapsed": false
   },
   "outputs": [],
   "source": [
    "df_new['percstudy'] = (df_new['number of proteins associating with term in study'] / df_new['number of proteins in study group (total)'])*100"
   ]
  },
  {
   "cell_type": "code",
   "execution_count": 68,
   "metadata": {
    "collapsed": false
   },
   "outputs": [],
   "source": [
    "df_new['percstudy'] = df_new['percstudy'].round(2)"
   ]
  },
  {
   "cell_type": "markdown",
   "metadata": {
    "collapsed": true
   },
   "source": [
    "# no renaming"
   ]
  },
  {
   "cell_type": "code",
   "execution_count": 5,
   "metadata": {
    "collapsed": false
   },
   "outputs": [],
   "source": [
    "fn_list = ['HeLa_Acetyl_vs_AbCorr.txt',\n",
    " 'HeLa_Acetyl_vs_AbCorr_UPK.txt',\n",
    " 'HeLa_Acetyl_vs_Genome.txt',\n",
    " 'HeLa_Acetyl_vs_Genome_UPK.txt',\n",
    " 'HeLa_Acetyl_vs_Observed.txt',\n",
    " 'HeLa_Acetyl_vs_Observed_UPK.txt',\n",
    " 'HeLa_Phos_vs_AbCorr.txt',\n",
    " 'HeLa_Phos_vs_AbCorr_UPK.txt',\n",
    " 'HeLa_Phos_vs_Genome.txt',\n",
    " 'HeLa_Phos_vs_Genome_UPK.txt',\n",
    " 'HeLa_Phos_vs_Observed.txt',\n",
    " 'HeLa_Phos_vs_Observed_UPK.txt',\n",
    " 'HeLa_Succinyl_vs_AbCorr.txt',\n",
    " 'HeLa_Succinyl_vs_AbCorr_UPK.txt',\n",
    " 'HeLa_Succinyl_vs_Genome.txt',\n",
    " 'HeLa_Succinyl_vs_Genome_UPK.txt',\n",
    " 'HeLa_Succinyl_vs_Observed.txt',\n",
    " 'HeLa_Succinyl_vs_Observed_UPK.txt',\n",
    " 'HeLa_Ubi_vs_AbCorr.txt',\n",
    " 'HeLa_Ubi_vs_AbCorr_UPK.txt',\n",
    " 'HeLa_Ubi_vs_Genome.txt',\n",
    " 'HeLa_Ubi_vs_Genome_UPK.txt',\n",
    " 'HeLa_Ubi_vs_Observed.txt',\n",
    " 'HeLa_Ubi_vs_Observed_UPK.txt',\n",
    " 'Yeast_Acetyl_vs_AbCorr.txt',\n",
    " 'Yeast_Acetyl_vs_AbCorr_UPK.txt',\n",
    " 'Yeast_Acetyl_vs_Genome.txt',\n",
    " 'Yeast_Acetyl_vs_Genome_UPK.txt',\n",
    " 'Yeast_Acetyl_vs_Observed.txt',\n",
    " 'Yeast_Acetyl_vs_Observed_UPK.txt',\n",
    " 'Yeast_Phos_vs_AbCorr.txt',\n",
    " 'Yeast_Phos_vs_AbCorr_UPK.txt',\n",
    " 'Yeast_Phos_vs_Genome.txt',\n",
    " 'Yeast_Phos_vs_Genome_UPK.txt',\n",
    " 'Yeast_Phos_vs_Observed.txt',\n",
    " 'Yeast_Phos_vs_Observed_UPK.txt',\n",
    " 'Yeast_Succinyl_vs_AbCorr.txt',\n",
    " 'Yeast_Succinyl_vs_AbCorr_UPK.txt',\n",
    " 'Yeast_Succinyl_vs_Genome.txt',\n",
    " 'Yeast_Succinyl_vs_Genome_UPK.txt',\n",
    " 'Yeast_Succinyl_vs_Observed.txt',\n",
    " 'Yeast_Succinyl_vs_Observed_UPK.txt',\n",
    " 'Yeast_Ubi_vs_AbCorr.txt',\n",
    " 'Yeast_Ubi_vs_AbCorr_UPK.txt',\n",
    " 'Yeast_Ubi_vs_Genome.txt',\n",
    " 'Yeast_Ubi_vs_Genome_UPK.txt',\n",
    " 'Yeast_Ubi_vs_Observed.txt',\n",
    " 'Yeast_Ubi_vs_Observed_UPK.txt']\n",
    "fn_list = ['/Users/dblyon/Downloads/Brian_GO_UPK/v3/' + fn for fn in fn_list]"
   ]
  },
  {
   "cell_type": "code",
   "execution_count": 6,
   "metadata": {
    "collapsed": true
   },
   "outputs": [],
   "source": [
    "colnames_new_upk = ['id', \n",
    "                    'fold_enrichment_study2pop', 'study_count', 'study_n', 'pop_count', 'pop_n',\n",
    "                    'p_uncorrected', 'ANs_study']\n",
    "colnames_new_upk2print = ['id','over_under', 'perc_associated_study', 'perc_associated_pop',   \n",
    "                    'fold_enrichment_study2pop', 'study_count', 'study_n', 'pop_count', 'pop_n',\n",
    "                    'p_uncorrected', 'ANs_study']"
   ]
  },
  {
   "cell_type": "code",
   "execution_count": 7,
   "metadata": {
    "collapsed": false
   },
   "outputs": [],
   "source": [
    "colnames_new_go = ['id', \n",
    "                   'fold_enrichment_study2pop', 'study_count', 'study_n',\n",
    "                   'pop_count', 'pop_n', 'description', 'p_uncorrected', 'ANs_study']\n",
    "colnames_new_go2print = ['id', 'over_under', 'perc_associated_study', 'perc_associated_pop',             \n",
    "                   'fold_enrichment_study2pop', 'study_count', 'study_n', \n",
    "                   'pop_count', 'pop_n', 'description', 'p_uncorrected', 'ANs_study']"
   ]
  },
  {
   "cell_type": "code",
   "execution_count": 29,
   "metadata": {
    "collapsed": true
   },
   "outputs": [],
   "source": [
    "def subset_df_recalcperc(df, colnames2copy, colnames2print):\n",
    "    df_new = df[colnames2copy].copy()\n",
    "    df_new['over_under'] = df['enrichment']\n",
    "    cond_o = df_new['over_under'] == 'e'\n",
    "    df_new.loc[cond_o, 'over_under'] = 'o'\n",
    "    df_new.loc[-cond_o, 'over_under'] = 'u'\n",
    "    df_new[['study_count', 'study_n', 'pop_count', 'pop_n']] = df_new[['study_count', 'study_n','pop_count', 'pop_n']].astype(float)\n",
    "    df_new['perc_associated_study'] = (df_new['study_count'] / df_new['study_n']) *100\n",
    "    df_new['perc_associated_study'] = np.round(df_new['perc_associated_study'], 3)\n",
    "    df_new['perc_associated_pop'] = (df_new['pop_count'] / df_new['pop_n']) *100\n",
    "    df_new['perc_associated_pop'] = np.round(df_new['perc_associated_pop'], 3)\n",
    "    df_new['fold_enrichment_study2pop'] = df_new['perc_associated_study'] / df_new['perc_associated_pop']\n",
    "    df_new['fold_enrichment_study2pop'] = np.round(df_new['fold_enrichment_study2pop'], 3)    \n",
    "    df_new[['study_count', 'study_n', 'pop_count', 'pop_n']] = df_new[['study_count', 'study_n','pop_count', 'pop_n']].astype(int)\n",
    "    return df_new[colnames2print]"
   ]
  },
  {
   "cell_type": "code",
   "execution_count": 30,
   "metadata": {
    "collapsed": false
   },
   "outputs": [],
   "source": [
    "import pandas as pd\n",
    "import numpy as np\n",
    "import os\n",
    "fn = r'/Users/dblyon/Downloads/Brian_GO_UPK/v3/Yeast_Ubi_vs_Observed_UPK.txt'\n",
    "df = pd.read_csv(fn, sep='\\t', skiprows=1)\n",
    "df_new = subset_df_recalcperc(df, colnames2copy=colnames_new_upk, colnames2print=colnames_new_upk2print)"
   ]
  },
  {
   "cell_type": "code",
   "execution_count": 31,
   "metadata": {
    "collapsed": false
   },
   "outputs": [],
   "source": [
    "for fn in fn_list:\n",
    "    df = pd.read_csv(fn, sep='\\t', skiprows=1)\n",
    "    if \"UPK\" in fn:\n",
    "        df_new = subset_df_recalcperc(df, colnames_new_upk, colnames_new_upk2print)\n",
    "    else:\n",
    "        df_new = subset_df_recalcperc(df, colnames_new_go, colnames_new_go2print)\n",
    "    fn_out = '/Users/dblyon/Downloads/Brian_GO_UPK/v3/submission/' + os.path.basename(fn)\n",
    "    df_new.to_csv(fn_out, sep='\\t', header=True, index=False)"
   ]
  },
  {
   "cell_type": "code",
   "execution_count": 34,
   "metadata": {
    "collapsed": false
   },
   "outputs": [
    {
     "data": {
      "text/plain": [
       "0.00031665611146295124"
      ]
     },
     "execution_count": 34,
     "metadata": {},
     "output_type": "execute_result"
    }
   ],
   "source": [
    "1.0/3158"
   ]
  },
  {
   "cell_type": "code",
   "execution_count": 33,
   "metadata": {
    "collapsed": false
   },
   "outputs": [
    {
     "data": {
      "text/html": [
       "<div style=\"max-height:1000px;max-width:1500px;overflow:auto;\">\n",
       "<table border=\"1\" class=\"dataframe\">\n",
       "  <thead>\n",
       "    <tr style=\"text-align: right;\">\n",
       "      <th></th>\n",
       "      <th>id</th>\n",
       "      <th>over_under</th>\n",
       "      <th>perc_associated_study</th>\n",
       "      <th>perc_associated_pop</th>\n",
       "      <th>fold_enrichment_study2pop</th>\n",
       "      <th>study_count</th>\n",
       "      <th>study_n</th>\n",
       "      <th>pop_count</th>\n",
       "      <th>pop_n</th>\n",
       "      <th>p_uncorrected</th>\n",
       "      <th>ANs_study</th>\n",
       "    </tr>\n",
       "  </thead>\n",
       "  <tbody>\n",
       "    <tr>\n",
       "      <th>0</th>\n",
       "      <td>Cycloheximide resistance</td>\n",
       "      <td>o</td>\n",
       "      <td>0.276</td>\n",
       "      <td>0.071</td>\n",
       "      <td>3.887</td>\n",
       "      <td>3</td>\n",
       "      <td>1087</td>\n",
       "      <td>3</td>\n",
       "      <td>4249</td>\n",
       "      <td>0.103</td>\n",
       "      <td>P02406,P0CX27,P33302</td>\n",
       "    </tr>\n",
       "    <tr>\n",
       "      <th>1</th>\n",
       "      <td>Glutathione biosynthesis</td>\n",
       "      <td>o</td>\n",
       "      <td>0.184</td>\n",
       "      <td>0.047</td>\n",
       "      <td>3.915</td>\n",
       "      <td>2</td>\n",
       "      <td>1087</td>\n",
       "      <td>2</td>\n",
       "      <td>4249</td>\n",
       "      <td>0.186</td>\n",
       "      <td>P32477,Q08220</td>\n",
       "    </tr>\n",
       "    <tr>\n",
       "      <th>2</th>\n",
       "      <td>Deoxyribonucleotide synthesis</td>\n",
       "      <td>o</td>\n",
       "      <td>0.184</td>\n",
       "      <td>0.047</td>\n",
       "      <td>3.915</td>\n",
       "      <td>2</td>\n",
       "      <td>1087</td>\n",
       "      <td>2</td>\n",
       "      <td>4249</td>\n",
       "      <td>0.186</td>\n",
       "      <td>P22217,P22803</td>\n",
       "    </tr>\n",
       "    <tr>\n",
       "      <th>3</th>\n",
       "      <td>Pheromone</td>\n",
       "      <td>o</td>\n",
       "      <td>0.092</td>\n",
       "      <td>0.024</td>\n",
       "      <td>3.833</td>\n",
       "      <td>1</td>\n",
       "      <td>1087</td>\n",
       "      <td>1</td>\n",
       "      <td>4249</td>\n",
       "      <td>0.366</td>\n",
       "      <td>P01149</td>\n",
       "    </tr>\n",
       "    <tr>\n",
       "      <th>4</th>\n",
       "      <td>Detoxification</td>\n",
       "      <td>o</td>\n",
       "      <td>0.092</td>\n",
       "      <td>0.024</td>\n",
       "      <td>3.833</td>\n",
       "      <td>1</td>\n",
       "      <td>1087</td>\n",
       "      <td>1</td>\n",
       "      <td>4249</td>\n",
       "      <td>0.366</td>\n",
       "      <td>P39676</td>\n",
       "    </tr>\n",
       "  </tbody>\n",
       "</table>\n",
       "</div>"
      ],
      "text/plain": [
       "                              id over_under  perc_associated_study  \\\n",
       "0       Cycloheximide resistance          o                  0.276   \n",
       "1       Glutathione biosynthesis          o                  0.184   \n",
       "2  Deoxyribonucleotide synthesis          o                  0.184   \n",
       "3                      Pheromone          o                  0.092   \n",
       "4                 Detoxification          o                  0.092   \n",
       "\n",
       "   perc_associated_pop  fold_enrichment_study2pop  study_count  study_n  \\\n",
       "0                0.071                      3.887            3     1087   \n",
       "1                0.047                      3.915            2     1087   \n",
       "2                0.047                      3.915            2     1087   \n",
       "3                0.024                      3.833            1     1087   \n",
       "4                0.024                      3.833            1     1087   \n",
       "\n",
       "   pop_count  pop_n  p_uncorrected             ANs_study  \n",
       "0          3   4249          0.103  P02406,P0CX27,P33302  \n",
       "1          2   4249          0.186         P32477,Q08220  \n",
       "2          2   4249          0.186         P22217,P22803  \n",
       "3          1   4249          0.366                P01149  \n",
       "4          1   4249          0.366                P39676  "
      ]
     },
     "execution_count": 33,
     "metadata": {},
     "output_type": "execute_result"
    }
   ],
   "source": [
    "import numpy as np\n",
    "df_new['perc_associated_study'] = np.round(df_new['perc_associated_study'], 3)\n",
    "df_new.head()"
   ]
  },
  {
   "cell_type": "code",
   "execution_count": null,
   "metadata": {
    "collapsed": true
   },
   "outputs": [],
   "source": []
  }
 ],
 "metadata": {
  "kernelspec": {
   "display_name": "Python 2",
   "language": "python",
   "name": "python2"
  },
  "language_info": {
   "codemirror_mode": {
    "name": "ipython",
    "version": 2
   },
   "file_extension": ".py",
   "mimetype": "text/x-python",
   "name": "python",
   "nbconvert_exporter": "python",
   "pygments_lexer": "ipython2",
   "version": "2.7.6"
  }
 },
 "nbformat": 4,
 "nbformat_minor": 0
}
