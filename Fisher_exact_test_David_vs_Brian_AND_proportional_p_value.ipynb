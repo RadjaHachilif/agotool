{
 "cells": [
  {
   "cell_type": "code",
   "execution_count": 10,
   "metadata": {
    "collapsed": true
   },
   "outputs": [],
   "source": [
    "import fisher\n",
    "from scipy import stats"
   ]
  },
  {
   "cell_type": "markdown",
   "metadata": {},
   "source": [
    "# CORRECT FISHER EXACT TEST"
   ]
  },
  {
   "cell_type": "code",
   "execution_count": 6,
   "metadata": {
    "collapsed": false
   },
   "outputs": [
    {
     "name": "stdout",
     "output_type": "stream",
     "text": [
      "(0.040000000000000001, 0.00053672411914343723)\n",
      "Pvalue(left_tail=0.0004652, right_tail=1, two_tail=0.0005367)\n",
      "Pvalue(left_tail=0.0004652, right_tail=1, two_tail=0.0005367)\n"
     ]
    }
   ],
   "source": [
    "##### CORRECT R example\n",
    "a = 2\n",
    "b = 15\n",
    "c = 10\n",
    "d = 3\n",
    "\n",
    "col_1 = a + b\n",
    "r1 = a + c\n",
    "n = a + b + c + d\n",
    "\n",
    "print stats.fisher_exact([[a, b], [c, d]], alternative='two-sided') #{‘two-sided’, ‘less’, ‘greater’}\n",
    "print fisher.pvalue(a, b, c, d)\n",
    "print fisher.pvalue_population(a, col_1, r1, n)\n",
    "#       Group1    Group2\n",
    "# pos     A         C       r1\n",
    "# neg     B         D       r2\n",
    "#        col_1     col_2    n\n",
    "\n",
    "#             Convicted Not convicted\n",
    "# Dizygotic           2            15\n",
    "# Monozygotic        10             3\n",
    "# Convictions <- matrix(c(2, 10, 15, 3), nrow = 2,\n",
    "#          dimnames =\n",
    "#            list(c(\"Dizygotic\", \"Monozygotic\"),\n",
    "#                 c(\"Convicted\", \"Not convicted\")))\n",
    "# Convictions\n",
    "# fisher.test(Convictions, alternative = \"two.sided\")\n",
    "# fisher.test(Convictions, alternative=\"less\")"
   ]
  },
  {
   "cell_type": "code",
   "execution_count": 15,
   "metadata": {
    "collapsed": false
   },
   "outputs": [
    {
     "name": "stdout",
     "output_type": "stream",
     "text": [
      "(0.0, 3.3651904697806043e-05)\n",
      "Pvalue(left_tail=3.365e-05, right_tail=1, two_tail=6.73e-05)\n",
      "Pvalue(left_tail=3.365e-05, right_tail=1, two_tail=6.73e-05)\n"
     ]
    }
   ],
   "source": [
    "# CORRECT Wikipedia example\n",
    "a = 0\n",
    "b = 12\n",
    "c = 10\n",
    "d = 2\n",
    "\n",
    "col_1 = a + b\n",
    "r1 = a + c\n",
    "n = a + b + c + d\n",
    "\n",
    "print stats.fisher_exact([[a, b], [c, d]], alternative='less') #{‘two-sided’, ‘less’, ‘greater’}\n",
    "print fisher.pvalue(a, b, c, d)\n",
    "print fisher.pvalue_population(a, col_1, r1, n)\n",
    "# fisher.test(rbind(c(0,10),c(12,2)), alternative=\"two.sided\")$p.value\n",
    "# fisher.test(rbind(c(a, c),c(b, d)), alternative=\"two.sided\")$p.value\n",
    "#       Group1    Group2\n",
    "# pos     A         C       r1\n",
    "# neg     B         D       r2\n",
    "#        col_1     col_2    n\n",
    "\n",
    "#             Men            Women\n",
    "# Dieting      0              10\n",
    "# Non-diet    12               2"
   ]
  },
  {
   "cell_type": "code",
   "execution_count": 169,
   "metadata": {
    "collapsed": true
   },
   "outputs": [],
   "source": [
    "# testing david vs. Brian data"
   ]
  },
  {
   "cell_type": "code",
   "execution_count": 8,
   "metadata": {
    "collapsed": false
   },
   "outputs": [
    {
     "name": "stdout",
     "output_type": "stream",
     "text": [
      "(1.400622494603762, 0.0045326291963543432)\n",
      "Pvalue(left_tail=0.9984, right_tail=0.002266, two_tail=0.004533)\n",
      "Pvalue(left_tail=0.9984, right_tail=0.002266, two_tail=0.004533)\n",
      "1522 141 1472 191\n"
     ]
    }
   ],
   "source": [
    "study_count = 1522\n",
    "study_n = 1663\n",
    "pop_count = 1472\n",
    "pop_n = 1663\n",
    "\n",
    "a = study_count\n",
    "b = study_n - study_count\n",
    "c = pop_count\n",
    "d = pop_n - pop_count\n",
    "\n",
    "col_1 = a + b\n",
    "r1 = a + c\n",
    "n = a + b + c + d\n",
    "# David \n",
    "print stats.fisher_exact([[a, b], [c, d]], alternative='two-sided')\n",
    "print fisher.pvalue(a, b, c, d)\n",
    "print fisher.pvalue_population(a, col_1, r1, n)\n",
    "print a, b, c, d\n",
    "# Brian \n",
    "#print fisher.pvalue(a, col_1, c, col_2) # or something similar"
   ]
  },
  {
   "cell_type": "code",
   "execution_count": 168,
   "metadata": {
    "collapsed": false
   },
   "outputs": [
    {
     "data": {
      "text/plain": [
       "3.7768888888888887"
      ]
     },
     "execution_count": 168,
     "metadata": {},
     "output_type": "execute_result"
    }
   ],
   "source": [
    "4249 / 1125.0 "
   ]
  },
  {
   "cell_type": "markdown",
   "metadata": {},
   "source": [
    "# proportional p-value"
   ]
  },
  {
   "cell_type": "code",
   "execution_count": 19,
   "metadata": {
    "collapsed": false
   },
   "outputs": [],
   "source": [
    "import pandas as pd\n",
    "import fisher\n",
    "directory = r'/Users/dblyon/Downloads/Brian_GO_UPK/v3/'\n",
    "fn_abcorr = directory + 'Yeast_Acetyl_vs_AbCorr.txt'\n",
    "fn_obs = directory + 'Yeast_Acetyl_vs_Observed.txt'\n",
    "df_abcorr = pd.read_csv(fn_abcorr, sep='\\t', skiprows=1)\n",
    "df_abcorr.index = df_abcorr['id'].tolist()\n",
    "df_obs = pd.read_csv(fn_obs, sep='\\t', skiprows=1)\n",
    "df_obs.index = df_obs['id'].tolist()"
   ]
  },
  {
   "cell_type": "code",
   "execution_count": 30,
   "metadata": {
    "collapsed": false
   },
   "outputs": [
    {
     "data": {
      "text/html": [
       "<div style=\"max-height:1000px;max-width:1500px;overflow:auto;\">\n",
       "<table border=\"1\" class=\"dataframe\">\n",
       "  <thead>\n",
       "    <tr style=\"text-align: right;\">\n",
       "      <th></th>\n",
       "      <th>study_count</th>\n",
       "      <th>study_n</th>\n",
       "      <th>pop_count</th>\n",
       "      <th>pop_n</th>\n",
       "      <th>p_uncorrected</th>\n",
       "    </tr>\n",
       "  </thead>\n",
       "  <tbody>\n",
       "    <tr>\n",
       "      <th>....GO:0006284</th>\n",
       "      <td>7</td>\n",
       "      <td>1125</td>\n",
       "      <td>1</td>\n",
       "      <td>1125</td>\n",
       "      <td>0.0698</td>\n",
       "    </tr>\n",
       "    <tr>\n",
       "      <th>....GO:0070577</th>\n",
       "      <td>6</td>\n",
       "      <td>1125</td>\n",
       "      <td>1</td>\n",
       "      <td>1125</td>\n",
       "      <td>0.1240</td>\n",
       "    </tr>\n",
       "    <tr>\n",
       "      <th>.......GO:0061188</th>\n",
       "      <td>6</td>\n",
       "      <td>1125</td>\n",
       "      <td>1</td>\n",
       "      <td>1125</td>\n",
       "      <td>0.1240</td>\n",
       "    </tr>\n",
       "    <tr>\n",
       "      <th>....GO:0045926</th>\n",
       "      <td>6</td>\n",
       "      <td>1125</td>\n",
       "      <td>1</td>\n",
       "      <td>1125</td>\n",
       "      <td>0.1240</td>\n",
       "    </tr>\n",
       "    <tr>\n",
       "      <th>.....GO:0005671</th>\n",
       "      <td>6</td>\n",
       "      <td>1125</td>\n",
       "      <td>1</td>\n",
       "      <td>1125</td>\n",
       "      <td>0.1240</td>\n",
       "    </tr>\n",
       "    <tr>\n",
       "      <th>.........GO:0000436</th>\n",
       "      <td>6</td>\n",
       "      <td>1125</td>\n",
       "      <td>1</td>\n",
       "      <td>1125</td>\n",
       "      <td>0.1240</td>\n",
       "    </tr>\n",
       "    <tr>\n",
       "      <th>.....GO:0060258</th>\n",
       "      <td>6</td>\n",
       "      <td>1125</td>\n",
       "      <td>1</td>\n",
       "      <td>1125</td>\n",
       "      <td>0.1240</td>\n",
       "    </tr>\n",
       "    <tr>\n",
       "      <th>....GO:0001228</th>\n",
       "      <td>11</td>\n",
       "      <td>1125</td>\n",
       "      <td>2</td>\n",
       "      <td>1125</td>\n",
       "      <td>0.0221</td>\n",
       "    </tr>\n",
       "    <tr>\n",
       "      <th>....GO:0000983</th>\n",
       "      <td>11</td>\n",
       "      <td>1125</td>\n",
       "      <td>2</td>\n",
       "      <td>1125</td>\n",
       "      <td>0.0221</td>\n",
       "    </tr>\n",
       "    <tr>\n",
       "      <th>......GO:0000124</th>\n",
       "      <td>11</td>\n",
       "      <td>1125</td>\n",
       "      <td>2</td>\n",
       "      <td>1125</td>\n",
       "      <td>0.0221</td>\n",
       "    </tr>\n",
       "  </tbody>\n",
       "</table>\n",
       "</div>"
      ],
      "text/plain": [
       "                     study_count  study_n  pop_count  pop_n  p_uncorrected\n",
       "....GO:0006284                 7     1125          1   1125         0.0698\n",
       "....GO:0070577                 6     1125          1   1125         0.1240\n",
       ".......GO:0061188              6     1125          1   1125         0.1240\n",
       "....GO:0045926                 6     1125          1   1125         0.1240\n",
       ".....GO:0005671                6     1125          1   1125         0.1240\n",
       ".........GO:0000436            6     1125          1   1125         0.1240\n",
       ".....GO:0060258                6     1125          1   1125         0.1240\n",
       "....GO:0001228                11     1125          2   1125         0.0221\n",
       "....GO:0000983                11     1125          2   1125         0.0221\n",
       "......GO:0000124              11     1125          2   1125         0.0221"
      ]
     },
     "execution_count": 30,
     "metadata": {},
     "output_type": "execute_result"
    }
   ],
   "source": [
    "df_at = df_abcorr.iloc[0:10, ]\n",
    "df_at = df_at[['study_count','study_n','pop_count','pop_n', 'p_uncorrected']]\n",
    "df_at"
   ]
  },
  {
   "cell_type": "code",
   "execution_count": 31,
   "metadata": {
    "collapsed": false
   },
   "outputs": [
    {
     "data": {
      "text/html": [
       "<div style=\"max-height:1000px;max-width:1500px;overflow:auto;\">\n",
       "<table border=\"1\" class=\"dataframe\">\n",
       "  <thead>\n",
       "    <tr style=\"text-align: right;\">\n",
       "      <th></th>\n",
       "      <th>study_count</th>\n",
       "      <th>study_n</th>\n",
       "      <th>pop_count</th>\n",
       "      <th>pop_n</th>\n",
       "      <th>p_uncorrected</th>\n",
       "    </tr>\n",
       "  </thead>\n",
       "  <tbody>\n",
       "    <tr>\n",
       "      <th>....GO:0006284</th>\n",
       "      <td>7</td>\n",
       "      <td>1125</td>\n",
       "      <td>13</td>\n",
       "      <td>4249</td>\n",
       "      <td>0.1620</td>\n",
       "    </tr>\n",
       "    <tr>\n",
       "      <th>....GO:0070577</th>\n",
       "      <td>6</td>\n",
       "      <td>1125</td>\n",
       "      <td>7</td>\n",
       "      <td>4249</td>\n",
       "      <td>0.0368</td>\n",
       "    </tr>\n",
       "    <tr>\n",
       "      <th>.......GO:0061188</th>\n",
       "      <td>6</td>\n",
       "      <td>1125</td>\n",
       "      <td>8</td>\n",
       "      <td>4249</td>\n",
       "      <td>0.0904</td>\n",
       "    </tr>\n",
       "    <tr>\n",
       "      <th>....GO:0045926</th>\n",
       "      <td>6</td>\n",
       "      <td>1125</td>\n",
       "      <td>8</td>\n",
       "      <td>4249</td>\n",
       "      <td>0.0904</td>\n",
       "    </tr>\n",
       "    <tr>\n",
       "      <th>.....GO:0005671</th>\n",
       "      <td>6</td>\n",
       "      <td>1125</td>\n",
       "      <td>6</td>\n",
       "      <td>4249</td>\n",
       "      <td>0.0240</td>\n",
       "    </tr>\n",
       "    <tr>\n",
       "      <th>.........GO:0000436</th>\n",
       "      <td>6</td>\n",
       "      <td>1125</td>\n",
       "      <td>15</td>\n",
       "      <td>4249</td>\n",
       "      <td>0.4180</td>\n",
       "    </tr>\n",
       "    <tr>\n",
       "      <th>.....GO:0060258</th>\n",
       "      <td>6</td>\n",
       "      <td>1125</td>\n",
       "      <td>8</td>\n",
       "      <td>4249</td>\n",
       "      <td>0.0904</td>\n",
       "    </tr>\n",
       "    <tr>\n",
       "      <th>....GO:0001228</th>\n",
       "      <td>11</td>\n",
       "      <td>1125</td>\n",
       "      <td>25</td>\n",
       "      <td>4249</td>\n",
       "      <td>0.1530</td>\n",
       "    </tr>\n",
       "    <tr>\n",
       "      <th>....GO:0000983</th>\n",
       "      <td>11</td>\n",
       "      <td>1125</td>\n",
       "      <td>16</td>\n",
       "      <td>4249</td>\n",
       "      <td>0.0169</td>\n",
       "    </tr>\n",
       "    <tr>\n",
       "      <th>......GO:0000124</th>\n",
       "      <td>11</td>\n",
       "      <td>1125</td>\n",
       "      <td>20</td>\n",
       "      <td>4249</td>\n",
       "      <td>0.0722</td>\n",
       "    </tr>\n",
       "  </tbody>\n",
       "</table>\n",
       "</div>"
      ],
      "text/plain": [
       "                     study_count  study_n  pop_count  pop_n  p_uncorrected\n",
       "....GO:0006284                 7     1125         13   4249         0.1620\n",
       "....GO:0070577                 6     1125          7   4249         0.0368\n",
       ".......GO:0061188              6     1125          8   4249         0.0904\n",
       "....GO:0045926                 6     1125          8   4249         0.0904\n",
       ".....GO:0005671                6     1125          6   4249         0.0240\n",
       ".........GO:0000436            6     1125         15   4249         0.4180\n",
       ".....GO:0060258                6     1125          8   4249         0.0904\n",
       "....GO:0001228                11     1125         25   4249         0.1530\n",
       "....GO:0000983                11     1125         16   4249         0.0169\n",
       "......GO:0000124              11     1125         20   4249         0.0722"
      ]
     },
     "execution_count": 31,
     "metadata": {},
     "output_type": "execute_result"
    }
   ],
   "source": [
    "df_ot = df_obs.loc[df_at.index, ]\n",
    "df_ot = df_ot[['study_count','study_n','pop_count','pop_n', 'p_uncorrected']]\n",
    "df_ot"
   ]
  },
  {
   "cell_type": "code",
   "execution_count": 2,
   "metadata": {
    "collapsed": false
   },
   "outputs": [],
   "source": [
    "def add_proportional_p_val(df_abcorr, df_observed):\n",
    "    '''\n",
    "    returns df_abcorr with an additional p_uncorrected_prop column\n",
    "    '''\n",
    "    # ratio stays the same for two corresponding dataframes\n",
    "    pop_n_observed = df_observed.iloc[0]['pop_n']\n",
    "    pop_n_abcorr = df_abcorr.iloc[0]['pop_n']\n",
    "    ratio = float(pop_n_observed) / pop_n_abcorr\n",
    "        \n",
    "    df_abcorr['p_uncorr_prop'] = -1.0\n",
    "    iterrows = df_abcorr.iterrows()\n",
    "    for row in iterrows:\n",
    "        index = row[0]\n",
    "        \n",
    "        study_count_abcorr = row[1]['study_count']\n",
    "        study_n_abcorr = row[1]['study_n']\n",
    "        pop_n_abcorr = row[1]['pop_n']\n",
    "        pop_count_abcorr = row[1]['pop_count']        \n",
    "\n",
    "        pop_n_prop = pop_n_abcorr * ratio\n",
    "        pop_count_prop = pop_count_abcorr * ratio\n",
    "        \n",
    "        a = study_count_abcorr\n",
    "        b = study_n_abcorr - study_count_abcorr\n",
    "        c = pop_count_prop\n",
    "        d = pop_n_prop - pop_count_prop\n",
    "        p_val_prop = fisher.pvalue(a, b, c, d).two_tail\n",
    "        df_abcorr.loc[index, 'p_uncorr_prop'] = p_val_prop\n",
    "    return df_abcorr"
   ]
  },
  {
   "cell_type": "code",
   "execution_count": 70,
   "metadata": {
    "collapsed": false
   },
   "outputs": [
    {
     "data": {
      "text/html": [
       "<div style=\"max-height:1000px;max-width:1500px;overflow:auto;\">\n",
       "<table border=\"1\" class=\"dataframe\">\n",
       "  <thead>\n",
       "    <tr style=\"text-align: right;\">\n",
       "      <th></th>\n",
       "      <th>study_count</th>\n",
       "      <th>study_n</th>\n",
       "      <th>pop_count</th>\n",
       "      <th>pop_n</th>\n",
       "      <th>p_uncorrected</th>\n",
       "      <th>p_uncorr_prop</th>\n",
       "    </tr>\n",
       "  </thead>\n",
       "  <tbody>\n",
       "    <tr>\n",
       "      <th>....GO:0006284</th>\n",
       "      <td>7</td>\n",
       "      <td>1125</td>\n",
       "      <td>1</td>\n",
       "      <td>1125</td>\n",
       "      <td>0.0698</td>\n",
       "      <td>0.001143</td>\n",
       "    </tr>\n",
       "    <tr>\n",
       "      <th>....GO:0070577</th>\n",
       "      <td>6</td>\n",
       "      <td>1125</td>\n",
       "      <td>1</td>\n",
       "      <td>1125</td>\n",
       "      <td>0.1240</td>\n",
       "      <td>0.003891</td>\n",
       "    </tr>\n",
       "    <tr>\n",
       "      <th>.......GO:0061188</th>\n",
       "      <td>6</td>\n",
       "      <td>1125</td>\n",
       "      <td>1</td>\n",
       "      <td>1125</td>\n",
       "      <td>0.1240</td>\n",
       "      <td>0.003891</td>\n",
       "    </tr>\n",
       "    <tr>\n",
       "      <th>....GO:0045926</th>\n",
       "      <td>6</td>\n",
       "      <td>1125</td>\n",
       "      <td>1</td>\n",
       "      <td>1125</td>\n",
       "      <td>0.1240</td>\n",
       "      <td>0.003891</td>\n",
       "    </tr>\n",
       "    <tr>\n",
       "      <th>.....GO:0005671</th>\n",
       "      <td>6</td>\n",
       "      <td>1125</td>\n",
       "      <td>1</td>\n",
       "      <td>1125</td>\n",
       "      <td>0.1240</td>\n",
       "      <td>0.003891</td>\n",
       "    </tr>\n",
       "    <tr>\n",
       "      <th>.........GO:0000436</th>\n",
       "      <td>6</td>\n",
       "      <td>1125</td>\n",
       "      <td>1</td>\n",
       "      <td>1125</td>\n",
       "      <td>0.1240</td>\n",
       "      <td>0.003891</td>\n",
       "    </tr>\n",
       "    <tr>\n",
       "      <th>.....GO:0060258</th>\n",
       "      <td>6</td>\n",
       "      <td>1125</td>\n",
       "      <td>1</td>\n",
       "      <td>1125</td>\n",
       "      <td>0.1240</td>\n",
       "      <td>0.003891</td>\n",
       "    </tr>\n",
       "    <tr>\n",
       "      <th>....GO:0001228</th>\n",
       "      <td>11</td>\n",
       "      <td>1125</td>\n",
       "      <td>2</td>\n",
       "      <td>1125</td>\n",
       "      <td>0.0221</td>\n",
       "      <td>0.000238</td>\n",
       "    </tr>\n",
       "    <tr>\n",
       "      <th>....GO:0000983</th>\n",
       "      <td>11</td>\n",
       "      <td>1125</td>\n",
       "      <td>2</td>\n",
       "      <td>1125</td>\n",
       "      <td>0.0221</td>\n",
       "      <td>0.000238</td>\n",
       "    </tr>\n",
       "    <tr>\n",
       "      <th>......GO:0000124</th>\n",
       "      <td>11</td>\n",
       "      <td>1125</td>\n",
       "      <td>2</td>\n",
       "      <td>1125</td>\n",
       "      <td>0.0221</td>\n",
       "      <td>0.000238</td>\n",
       "    </tr>\n",
       "  </tbody>\n",
       "</table>\n",
       "</div>"
      ],
      "text/plain": [
       "                     study_count  study_n  pop_count  pop_n  p_uncorrected  \\\n",
       "....GO:0006284                 7     1125          1   1125         0.0698   \n",
       "....GO:0070577                 6     1125          1   1125         0.1240   \n",
       ".......GO:0061188              6     1125          1   1125         0.1240   \n",
       "....GO:0045926                 6     1125          1   1125         0.1240   \n",
       ".....GO:0005671                6     1125          1   1125         0.1240   \n",
       ".........GO:0000436            6     1125          1   1125         0.1240   \n",
       ".....GO:0060258                6     1125          1   1125         0.1240   \n",
       "....GO:0001228                11     1125          2   1125         0.0221   \n",
       "....GO:0000983                11     1125          2   1125         0.0221   \n",
       "......GO:0000124              11     1125          2   1125         0.0221   \n",
       "\n",
       "                     p_uncorr_prop  \n",
       "....GO:0006284            0.001143  \n",
       "....GO:0070577            0.003891  \n",
       ".......GO:0061188         0.003891  \n",
       "....GO:0045926            0.003891  \n",
       ".....GO:0005671           0.003891  \n",
       ".........GO:0000436       0.003891  \n",
       ".....GO:0060258           0.003891  \n",
       "....GO:0001228            0.000238  \n",
       "....GO:0000983            0.000238  \n",
       "......GO:0000124          0.000238  "
      ]
     },
     "execution_count": 70,
     "metadata": {},
     "output_type": "execute_result"
    }
   ],
   "source": [
    "add_proportional_p_val(df_at, df_ot)"
   ]
  },
  {
   "cell_type": "code",
   "execution_count": 3,
   "metadata": {
    "collapsed": false
   },
   "outputs": [],
   "source": [
    "import os\n",
    "# directory = r'/Users/dblyon/Downloads/Brian_GO_UPK/v3/'\n",
    "directory = r'/Users/dblyon/Downloads/Brian_GO_UPK/v4/'\n",
    "fn_list = os.listdir(directory)\n",
    "fn_abcorr_list = []\n",
    "fn_abcorr_UPK_list = []\n",
    "for fn in fn_list:\n",
    "    if fn.endswith(\"_AbCorr.txt\"):\n",
    "        fn_abcorr_list.append(fn)\n",
    "    elif fn.endswith(\"_AbCorr_UPK.txt\"):\n",
    "        fn_abcorr_UPK_list.append(fn)"
   ]
  },
  {
   "cell_type": "code",
   "execution_count": 4,
   "metadata": {
    "collapsed": false
   },
   "outputs": [
    {
     "data": {
      "text/plain": [
       "[('HeLa_Acetyl_vs_AbCorr.txt', 'HeLa_Acetyl_vs_Observed.txt'),\n",
       " ('HeLa_Phos_vs_AbCorr.txt', 'HeLa_Phos_vs_Observed.txt'),\n",
       " ('HeLa_Succinyl_vs_AbCorr.txt', 'HeLa_Succinyl_vs_Observed.txt'),\n",
       " ('HeLa_Ubi_vs_AbCorr.txt', 'HeLa_Ubi_vs_Observed.txt'),\n",
       " ('Yeast_Acetyl_vs_AbCorr.txt', 'Yeast_Acetyl_vs_Observed.txt'),\n",
       " ('Yeast_Phos_vs_AbCorr.txt', 'Yeast_Phos_vs_Observed.txt'),\n",
       " ('Yeast_Succinyl_vs_AbCorr.txt', 'Yeast_Succinyl_vs_Observed.txt'),\n",
       " ('Yeast_Ubi_vs_AbCorr.txt', 'Yeast_Ubi_vs_Observed.txt'),\n",
       " ('HeLa_Acetyl_vs_AbCorr_UPK.txt', 'HeLa_Acetyl_vs_Observed_UPK.txt'),\n",
       " ('HeLa_Phos_vs_AbCorr_UPK.txt', 'HeLa_Phos_vs_Observed_UPK.txt'),\n",
       " ('HeLa_Succinyl_vs_AbCorr_UPK.txt', 'HeLa_Succinyl_vs_Observed_UPK.txt'),\n",
       " ('HeLa_Ubi_vs_AbCorr_UPK.txt', 'HeLa_Ubi_vs_Observed_UPK.txt'),\n",
       " ('Yeast_Acetyl_vs_AbCorr_UPK.txt', 'Yeast_Acetyl_vs_Observed_UPK.txt'),\n",
       " ('Yeast_Phos_vs_AbCorr_UPK.txt', 'Yeast_Phos_vs_Observed_UPK.txt'),\n",
       " ('Yeast_Succinyl_vs_AbCorr_UPK.txt', 'Yeast_Succinyl_vs_Observed_UPK.txt'),\n",
       " ('Yeast_Ubi_vs_AbCorr_UPK.txt', 'Yeast_Ubi_vs_Observed_UPK.txt')]"
      ]
     },
     "execution_count": 4,
     "metadata": {},
     "output_type": "execute_result"
    }
   ],
   "source": [
    "fn_pair_list = zip(fn_abcorr_list, [fn.replace('AbCorr', 'Observed') for fn in fn_abcorr_list])\n",
    "fn_pair_UPK_list = zip(fn_abcorr_UPK_list, [fn.replace('AbCorr', 'Observed') for fn in fn_abcorr_UPK_list])\n",
    "fn_pair_list += fn_pair_UPK_list\n",
    "fn_pair_list"
   ]
  },
  {
   "cell_type": "code",
   "execution_count": 8,
   "metadata": {
    "collapsed": false
   },
   "outputs": [],
   "source": [
    "import pandas as pd\n",
    "import fisher\n",
    "#directory = r'/Users/dblyon/Downloads/Brian_GO_UPK/v3/'\n",
    "directory = r'/Users/dblyon/Downloads/Brian_GO_UPK/v4/'\n",
    "\n",
    "for fn_ab__fn_ob in fn_pair_list:\n",
    "    fn_ab, fn_ob = fn_ab__fn_ob\n",
    "#     print directory+fn_ob\n",
    "    df_abcorr = pd.read_csv(directory+fn_ab, sep='\\t')#, skiprows=1)\n",
    "    df_abcorr.index = df_abcorr['id'].tolist()\n",
    "    df_obs = pd.read_csv(directory+fn_ob, sep='\\t')#, skiprows=1)\n",
    "    df_obs.index = df_obs['id'].tolist()\n",
    "    df_new = add_proportional_p_val(df_abcorr, df_obs)\n",
    "    fn_out = fn_ab.replace(\".txt\", \"_prop.txt\")\n",
    "    df_new.to_csv(fn_out, sep='\\t', index=False, header=True)"
   ]
  },
  {
   "cell_type": "code",
   "execution_count": 112,
   "metadata": {
    "collapsed": false
   },
   "outputs": [],
   "source": [
    "fn= r'/Users/dblyon/Downloads/Brian_GO_UPK/v3/proportional_p_value/Yeast_Acetyl_vs_AbCorr_prop.txt'\n",
    "fn= r'/Users/dblyon/Downloads/Brian_GO_UPK/v4/proportional_p_value/Yeast_Acetyl_vs_AbCorr_prop.txt'"
   ]
  },
  {
   "cell_type": "code",
   "execution_count": 113,
   "metadata": {
    "collapsed": false
   },
   "outputs": [],
   "source": [
    "df = pd.read_csv(fn, sep='\\t')"
   ]
  },
  {
   "cell_type": "code",
   "execution_count": 1,
   "metadata": {
    "collapsed": false
   },
   "outputs": [],
   "source": [
    "#df"
   ]
  },
  {
   "cell_type": "code",
   "execution_count": 2,
   "metadata": {
    "collapsed": false
   },
   "outputs": [
    {
     "data": {
      "text/plain": [
       "0.0"
      ]
     },
     "execution_count": 2,
     "metadata": {},
     "output_type": "execute_result"
    }
   ],
   "source": [
    "0.0/999"
   ]
  },
  {
   "cell_type": "code",
   "execution_count": 4,
   "metadata": {
    "collapsed": false
   },
   "outputs": [
    {
     "ename": "TypeError",
     "evalue": "unsupported operand type(s) for *: 'float' and 'NoneType'",
     "output_type": "error",
     "traceback": [
      "\u001b[0;31m---------------------------------------------------------------------------\u001b[0m",
      "\u001b[0;31mTypeError\u001b[0m                                 Traceback (most recent call last)",
      "\u001b[0;32m<ipython-input-4-985639fb5454>\u001b[0m in \u001b[0;36m<module>\u001b[0;34m()\u001b[0m\n\u001b[0;32m----> 1\u001b[0;31m \u001b[0;36m1.0\u001b[0m\u001b[0;34m*\u001b[0m \u001b[0mNone\u001b[0m\u001b[0;34m\u001b[0m\u001b[0m\n\u001b[0m",
      "\u001b[0;31mTypeError\u001b[0m: unsupported operand type(s) for *: 'float' and 'NoneType'"
     ]
    }
   ],
   "source": [
    "1.0* None"
   ]
  },
  {
   "cell_type": "code",
   "execution_count": null,
   "metadata": {
    "collapsed": true
   },
   "outputs": [],
   "source": []
  }
 ],
 "metadata": {
  "kernelspec": {
   "display_name": "Python 2",
   "language": "python",
   "name": "python2"
  },
  "language_info": {
   "codemirror_mode": {
    "name": "ipython",
    "version": 2
   },
   "file_extension": ".py",
   "mimetype": "text/x-python",
   "name": "python",
   "nbconvert_exporter": "python",
   "pygments_lexer": "ipython2",
   "version": "2.7.6"
  }
 },
 "nbformat": 4,
 "nbformat_minor": 0
}
