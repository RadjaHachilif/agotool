{
 "cells": [
  {
   "cell_type": "code",
   "execution_count": 1,
   "metadata": {
    "collapsed": false
   },
   "outputs": [
    {
     "data": {
      "text/plain": [
       "u'/Users/dblyon/modules/cpr/goterm'"
      ]
     },
     "execution_count": 1,
     "metadata": {},
     "output_type": "execute_result"
    }
   ],
   "source": [
    "pwd"
   ]
  },
  {
   "cell_type": "code",
   "execution_count": 3,
   "metadata": {
    "collapsed": true
   },
   "outputs": [],
   "source": [
    "import goretriever\n",
    "gor = goretriever.Goretriever()"
   ]
  },
  {
   "cell_type": "code",
   "execution_count": 4,
   "metadata": {
    "collapsed": true
   },
   "outputs": [],
   "source": [
    "fn = r'/Users/dblyon/CloudStation/CPR/Brian_GO/go_rescources/UniProt_goa/yeast/gene_association.goa_yeast'\n",
    "gor.parse_goa_ref(fn)"
   ]
  },
  {
   "cell_type": "code",
   "execution_count": 9,
   "metadata": {
    "collapsed": false
   },
   "outputs": [],
   "source": [
    "ans_list = ['O14467', 'P00358', 'Q12345']\n",
    "go_list = []\n",
    "for an in ans_list:\n",
    "    go_list += gor.get_goterms_from_an('O14467')"
   ]
  },
  {
   "cell_type": "code",
   "execution_count": 11,
   "metadata": {
    "collapsed": false
   },
   "outputs": [
    {
     "name": "stdout",
     "output_type": "stream",
     "text": [
      "18\n",
      "6\n"
     ]
    }
   ],
   "source": [
    "print len(go_list)\n",
    "print len(set(go_list))"
   ]
  },
  {
   "cell_type": "code",
   "execution_count": 12,
   "metadata": {
    "collapsed": false
   },
   "outputs": [
    {
     "data": {
      "text/plain": [
       "['GO:0005737',\n",
       " 'GO:0043565',\n",
       " 'GO:0005634',\n",
       " 'GO:0003713',\n",
       " 'GO:0045944',\n",
       " 'GO:0006351']"
      ]
     },
     "execution_count": 12,
     "metadata": {},
     "output_type": "execute_result"
    }
   ],
   "source": [
    "list(set(go_list))"
   ]
  },
  {
   "cell_type": "code",
   "execution_count": 13,
   "metadata": {
    "collapsed": false
   },
   "outputs": [
    {
     "name": "stdout",
     "output_type": "stream",
     "text": [
      "Test_pickle_goretriever.p  go_enrichment_dbl.pyc      \u001b[31mmultiple_testing.py\u001b[m\u001b[m*       \u001b[34mstatic\u001b[m\u001b[m/\r\n",
      "Untitled.ipynb             goretriever.py             multiple_testing.pyc       summary_test.txt\r\n",
      "Untitled1.ipynb            goretriever.pyc            \u001b[31mobo_parser.py\u001b[m\u001b[m*             \u001b[34mtemplates\u001b[m\u001b[m/\r\n",
      "__init__ .py               goterm.py                  \u001b[31mplot_go_term.py\u001b[m\u001b[m*           test.py\r\n",
      "\u001b[31mfind_enrichment_dbl.py\u001b[m\u001b[m*    \u001b[31mmap_to_slim.py\u001b[m\u001b[m*            ratio.py                   test_goretriever.py\r\n",
      "\u001b[31mgo_enrichment_dbl.py\u001b[m\u001b[m*      mapslim.py                 ratio.pyc                  \u001b[31mwrite_hierarchy.py\u001b[m\u001b[m*\r\n"
     ]
    }
   ],
   "source": [
    "ls"
   ]
  },
  {
   "cell_type": "code",
   "execution_count": 48,
   "metadata": {
    "collapsed": false
   },
   "outputs": [],
   "source": [
    "fh = open('summary_test3.txt', 'r')"
   ]
  },
  {
   "cell_type": "code",
   "execution_count": 49,
   "metadata": {
    "collapsed": false
   },
   "outputs": [],
   "source": [
    "go_summary = []\n",
    "for line in fh:\n",
    "    if line[:3] == 'GO:':\n",
    "        go_summary.append(line.split('\\t')[0])"
   ]
  },
  {
   "cell_type": "code",
   "execution_count": 50,
   "metadata": {
    "collapsed": false
   },
   "outputs": [
    {
     "name": "stdout",
     "output_type": "stream",
     "text": [
      "84\n",
      "84\n"
     ]
    }
   ],
   "source": [
    "print len(go_summary)\n",
    "print len(set(go_summary))"
   ]
  },
  {
   "cell_type": "code",
   "execution_count": 1,
   "metadata": {
    "collapsed": false
   },
   "outputs": [],
   "source": [
    "import goretriever\n",
    "import pandas as pd\n",
    "ui = goretriever.UserInput()"
   ]
  },
  {
   "cell_type": "code",
   "execution_count": 2,
   "metadata": {
    "collapsed": false
   },
   "outputs": [],
   "source": [
    "ui.temp_setup()\n",
    "ui.cleanupforanalysis()"
   ]
  },
  {
   "cell_type": "code",
   "execution_count": 3,
   "metadata": {
    "collapsed": false
   },
   "outputs": [
    {
     "data": {
      "text/html": [
       "<div style=\"max-height:1000px;max-width:1500px;overflow:auto;\">\n",
       "<table border=\"1\" class=\"dataframe\">\n",
       "  <thead>\n",
       "    <tr style=\"text-align: right;\">\n",
       "      <th></th>\n",
       "      <th>sample_an</th>\n",
       "      <th>backgrnd_an</th>\n",
       "      <th>backgrnd_int</th>\n",
       "    </tr>\n",
       "  </thead>\n",
       "  <tbody>\n",
       "    <tr>\n",
       "      <th>A5Z2X5</th>\n",
       "      <td>NaN</td>\n",
       "      <td>A5Z2X5</td>\n",
       "      <td>9.028612</td>\n",
       "    </tr>\n",
       "    <tr>\n",
       "      <th>O13297</th>\n",
       "      <td>O13297</td>\n",
       "      <td>O13297</td>\n",
       "      <td>8.099335</td>\n",
       "    </tr>\n",
       "    <tr>\n",
       "      <th>O13329</th>\n",
       "      <td>NaN</td>\n",
       "      <td>O13329</td>\n",
       "      <td>6.773450</td>\n",
       "    </tr>\n",
       "    <tr>\n",
       "      <th>O13516</th>\n",
       "      <td>NaN</td>\n",
       "      <td>O13516</td>\n",
       "      <td>7.956591</td>\n",
       "    </tr>\n",
       "    <tr>\n",
       "      <th>O13525</th>\n",
       "      <td>NaN</td>\n",
       "      <td>O13525</td>\n",
       "      <td>7.702801</td>\n",
       "    </tr>\n",
       "  </tbody>\n",
       "</table>\n",
       "</div>"
      ],
      "text/plain": [
       "       sample_an backgrnd_an  backgrnd_int\n",
       "A5Z2X5       NaN      A5Z2X5      9.028612\n",
       "O13297    O13297      O13297      8.099335\n",
       "O13329       NaN      O13329      6.773450\n",
       "O13516       NaN      O13516      7.956591\n",
       "O13525       NaN      O13525      7.702801"
      ]
     },
     "execution_count": 3,
     "metadata": {},
     "output_type": "execute_result"
    }
   ],
   "source": [
    "ui.df.head()"
   ]
  },
  {
   "cell_type": "code",
   "execution_count": 4,
   "metadata": {
    "collapsed": false
   },
   "outputs": [
    {
     "data": {
      "text/html": [
       "<div style=\"max-height:1000px;max-width:1500px;overflow:auto;\">\n",
       "<table border=\"1\" class=\"dataframe\">\n",
       "  <thead>\n",
       "    <tr style=\"text-align: right;\">\n",
       "      <th></th>\n",
       "      <th>sample_an</th>\n",
       "      <th>backgrnd_an</th>\n",
       "      <th>backgrnd_int</th>\n",
       "    </tr>\n",
       "  </thead>\n",
       "  <tbody>\n",
       "    <tr>\n",
       "      <th>Q99383</th>\n",
       "      <td>Q99383</td>\n",
       "      <td>Q99383</td>\n",
       "      <td>8.931163</td>\n",
       "    </tr>\n",
       "    <tr>\n",
       "      <th>Q99385</th>\n",
       "      <td>NaN</td>\n",
       "      <td>Q99385</td>\n",
       "      <td>8.318001</td>\n",
       "    </tr>\n",
       "    <tr>\n",
       "      <th>Q99394</th>\n",
       "      <td>NaN</td>\n",
       "      <td>Q99394</td>\n",
       "      <td>7.523538</td>\n",
       "    </tr>\n",
       "    <tr>\n",
       "      <th>Q9P305</th>\n",
       "      <td>NaN</td>\n",
       "      <td>Q9P305</td>\n",
       "      <td>8.566520</td>\n",
       "    </tr>\n",
       "    <tr>\n",
       "      <th>Q9URQ5</th>\n",
       "      <td>NaN</td>\n",
       "      <td>Q9URQ5</td>\n",
       "      <td>7.808710</td>\n",
       "    </tr>\n",
       "  </tbody>\n",
       "</table>\n",
       "</div>"
      ],
      "text/plain": [
       "       sample_an backgrnd_an  backgrnd_int\n",
       "Q99383    Q99383      Q99383      8.931163\n",
       "Q99385       NaN      Q99385      8.318001\n",
       "Q99394       NaN      Q99394      7.523538\n",
       "Q9P305       NaN      Q9P305      8.566520\n",
       "Q9URQ5       NaN      Q9URQ5      7.808710"
      ]
     },
     "execution_count": 4,
     "metadata": {},
     "output_type": "execute_result"
    }
   ],
   "source": [
    "ui.df.tail()\n",
    "#Q9URQ3 "
   ]
  },
  {
   "cell_type": "code",
   "execution_count": 9,
   "metadata": {
    "collapsed": false
   },
   "outputs": [
    {
     "data": {
      "text/html": [
       "<div style=\"max-height:1000px;max-width:1500px;overflow:auto;\">\n",
       "<table border=\"1\" class=\"dataframe\">\n",
       "  <thead>\n",
       "    <tr style=\"text-align: right;\">\n",
       "      <th></th>\n",
       "      <th>sample_an</th>\n",
       "      <th>backgrnd_an</th>\n",
       "      <th>backgrnd_int</th>\n",
       "    </tr>\n",
       "  </thead>\n",
       "  <tbody>\n",
       "    <tr>\n",
       "      <th>A5Z2X5</th>\n",
       "      <td>NaN</td>\n",
       "      <td>A5Z2X5</td>\n",
       "      <td>9.028612</td>\n",
       "    </tr>\n",
       "    <tr>\n",
       "      <th>O13297</th>\n",
       "      <td>O13297</td>\n",
       "      <td>O13297</td>\n",
       "      <td>8.099335</td>\n",
       "    </tr>\n",
       "    <tr>\n",
       "      <th>O13329</th>\n",
       "      <td>NaN</td>\n",
       "      <td>O13329</td>\n",
       "      <td>6.773450</td>\n",
       "    </tr>\n",
       "    <tr>\n",
       "      <th>O13516</th>\n",
       "      <td>NaN</td>\n",
       "      <td>O13516</td>\n",
       "      <td>7.956591</td>\n",
       "    </tr>\n",
       "    <tr>\n",
       "      <th>O13525</th>\n",
       "      <td>NaN</td>\n",
       "      <td>O13525</td>\n",
       "      <td>7.702801</td>\n",
       "    </tr>\n",
       "  </tbody>\n",
       "</table>\n",
       "</div>"
      ],
      "text/plain": [
       "       sample_an backgrnd_an  backgrnd_int\n",
       "A5Z2X5       NaN      A5Z2X5      9.028612\n",
       "O13297    O13297      O13297      8.099335\n",
       "O13329       NaN      O13329      6.773450\n",
       "O13516       NaN      O13516      7.956591\n",
       "O13525       NaN      O13525      7.702801"
      ]
     },
     "execution_count": 9,
     "metadata": {},
     "output_type": "execute_result"
    }
   ],
   "source": [
    "sample_df = ui.samplefreq\n",
    "background_df = ui.backgroundfreq\n",
    "df_new = concat_and_align_sample_and_background(sample_df, background_df)\n",
    "df_new.head()"
   ]
  },
  {
   "cell_type": "code",
   "execution_count": 11,
   "metadata": {
    "collapsed": false
   },
   "outputs": [
    {
     "ename": "SyntaxError",
     "evalue": "invalid syntax (<ipython-input-11-b5361b66e520>, line 7)",
     "output_type": "error",
     "traceback": [
      "\u001b[0;36m  File \u001b[0;32m\"<ipython-input-11-b5361b66e520>\"\u001b[0;36m, line \u001b[0;32m7\u001b[0m\n\u001b[0;31m    if pd.isnull(ui.backgroundfreq_df.loc[an_row_index, 'backgrnd_int'])\u001b[0m\n\u001b[0m                                                                        ^\u001b[0m\n\u001b[0;31mSyntaxError\u001b[0m\u001b[0;31m:\u001b[0m invalid syntax\n"
     ]
    }
   ],
   "source": [
    "# ui.backgroundfreq_df\n",
    "# ui.samplefreq_ser\n",
    "# ui.df_orig\n",
    "ans_samplefreq = ui.samplefreq_ser.tolist()\n",
    "ans2drop = []\n",
    "for an in ans_samplefreq:\n",
    "    # an_row_index = ui.backgroundfreq_df[ui.backgroundfreq_df['backgrnd_an'] == an].index.tolist() \n",
    "    # AN is set as index, if not in index is\n",
    "    if pd.isnull(ui.backgroundfreq_df.loc[an, 'backgrnd_int']):\n",
    "        ans2drop += an\n",
    "\n",
    "# now drop ans2drop from ui.samplefreq_ser        "
   ]
  },
  {
   "cell_type": "code",
   "execution_count": 19,
   "metadata": {
    "collapsed": true
   },
   "outputs": [],
   "source": [
    "an = 'Q9URQ3'\n",
    "#an= 'P00359'\n",
    "an_row_index = ui.backgroundfreq_df[ui.backgroundfreq_df['backgrnd_an'] == an].index.tolist()"
   ]
  },
  {
   "cell_type": "code",
   "execution_count": 28,
   "metadata": {
    "collapsed": false
   },
   "outputs": [],
   "source": [
    "import pandas as pd\n",
    "\n",
    "an = 'P32862'\n",
    "#an = 'Q9URQ3'\n",
    "if pd.isnull(ui.backgroundfreq_df.loc[an, 'backgrnd_int']):\n",
    "    print 'b'"
   ]
  },
  {
   "cell_type": "code",
   "execution_count": 21,
   "metadata": {
    "collapsed": false
   },
   "outputs": [
    {
     "data": {
      "text/html": [
       "<div style=\"max-height:1000px;max-width:1500px;overflow:auto;\">\n",
       "<table border=\"1\" class=\"dataframe\">\n",
       "  <thead>\n",
       "    <tr style=\"text-align: right;\">\n",
       "      <th></th>\n",
       "      <th>backgrnd_an</th>\n",
       "      <th>backgrnd_int</th>\n",
       "    </tr>\n",
       "  </thead>\n",
       "  <tbody>\n",
       "    <tr>\n",
       "      <th>P32862</th>\n",
       "      <td>P32862</td>\n",
       "      <td>4.993348</td>\n",
       "    </tr>\n",
       "    <tr>\n",
       "      <th>P40456</th>\n",
       "      <td>P40456</td>\n",
       "      <td>4.931224</td>\n",
       "    </tr>\n",
       "    <tr>\n",
       "      <th>P14737</th>\n",
       "      <td>P14737</td>\n",
       "      <td>4.818694</td>\n",
       "    </tr>\n",
       "    <tr>\n",
       "      <th>P25300</th>\n",
       "      <td>P25300</td>\n",
       "      <td>4.745387</td>\n",
       "    </tr>\n",
       "    <tr>\n",
       "      <th>P32448</th>\n",
       "      <td>P32448</td>\n",
       "      <td>4.532385</td>\n",
       "    </tr>\n",
       "  </tbody>\n",
       "</table>\n",
       "</div>"
      ],
      "text/plain": [
       "       backgrnd_an  backgrnd_int\n",
       "P32862      P32862      4.993348\n",
       "P40456      P40456      4.931224\n",
       "P14737      P14737      4.818694\n",
       "P25300      P25300      4.745387\n",
       "P32448      P32448      4.532385"
      ]
     },
     "execution_count": 21,
     "metadata": {},
     "output_type": "execute_result"
    }
   ],
   "source": [
    "ui.backgroundfreq_df.tail()"
   ]
  },
  {
   "cell_type": "code",
   "execution_count": 29,
   "metadata": {
    "collapsed": false
   },
   "outputs": [
    {
     "data": {
      "text/html": [
       "<div style=\"max-height:1000px;max-width:1500px;overflow:auto;\">\n",
       "<table border=\"1\" class=\"dataframe\">\n",
       "  <thead>\n",
       "    <tr style=\"text-align: right;\">\n",
       "      <th></th>\n",
       "      <th>sample_an</th>\n",
       "      <th>backgrnd_an</th>\n",
       "      <th>backgrnd_int</th>\n",
       "    </tr>\n",
       "  </thead>\n",
       "  <tbody>\n",
       "    <tr>\n",
       "      <th>Q99385</th>\n",
       "      <td>NaN</td>\n",
       "      <td>Q99385</td>\n",
       "      <td>8.318001</td>\n",
       "    </tr>\n",
       "    <tr>\n",
       "      <th>Q99394</th>\n",
       "      <td>NaN</td>\n",
       "      <td>Q99394</td>\n",
       "      <td>7.523538</td>\n",
       "    </tr>\n",
       "    <tr>\n",
       "      <th>Q9P305</th>\n",
       "      <td>NaN</td>\n",
       "      <td>Q9P305</td>\n",
       "      <td>8.566520</td>\n",
       "    </tr>\n",
       "    <tr>\n",
       "      <th>Q9URQ3</th>\n",
       "      <td>Q9URQ3</td>\n",
       "      <td>NaN</td>\n",
       "      <td>NaN</td>\n",
       "    </tr>\n",
       "    <tr>\n",
       "      <th>Q9URQ5</th>\n",
       "      <td>NaN</td>\n",
       "      <td>Q9URQ5</td>\n",
       "      <td>7.808710</td>\n",
       "    </tr>\n",
       "  </tbody>\n",
       "</table>\n",
       "</div>"
      ],
      "text/plain": [
       "       sample_an backgrnd_an  backgrnd_int\n",
       "Q99385       NaN      Q99385      8.318001\n",
       "Q99394       NaN      Q99394      7.523538\n",
       "Q9P305       NaN      Q9P305      8.566520\n",
       "Q9URQ3    Q9URQ3         NaN           NaN\n",
       "Q9URQ5       NaN      Q9URQ5      7.808710"
      ]
     },
     "execution_count": 29,
     "metadata": {},
     "output_type": "execute_result"
    }
   ],
   "source": [
    "ui.df.tail()"
   ]
  },
  {
   "cell_type": "code",
   "execution_count": 38,
   "metadata": {
    "collapsed": false
   },
   "outputs": [],
   "source": [
    "cond = pd.notnull(ui.df['backgrnd_int'])\n",
    "dfc  = ui.df.loc[cond, ]"
   ]
  },
  {
   "cell_type": "code",
   "execution_count": 39,
   "metadata": {
    "collapsed": false
   },
   "outputs": [
    {
     "data": {
      "text/html": [
       "<div style=\"max-height:1000px;max-width:1500px;overflow:auto;\">\n",
       "<table border=\"1\" class=\"dataframe\">\n",
       "  <thead>\n",
       "    <tr style=\"text-align: right;\">\n",
       "      <th></th>\n",
       "      <th>sample_an</th>\n",
       "      <th>backgrnd_an</th>\n",
       "      <th>backgrnd_int</th>\n",
       "    </tr>\n",
       "  </thead>\n",
       "  <tbody>\n",
       "    <tr>\n",
       "      <th>Q99383</th>\n",
       "      <td>Q99383</td>\n",
       "      <td>Q99383</td>\n",
       "      <td>8.931163</td>\n",
       "    </tr>\n",
       "    <tr>\n",
       "      <th>Q99385</th>\n",
       "      <td>NaN</td>\n",
       "      <td>Q99385</td>\n",
       "      <td>8.318001</td>\n",
       "    </tr>\n",
       "    <tr>\n",
       "      <th>Q99394</th>\n",
       "      <td>NaN</td>\n",
       "      <td>Q99394</td>\n",
       "      <td>7.523538</td>\n",
       "    </tr>\n",
       "    <tr>\n",
       "      <th>Q9P305</th>\n",
       "      <td>NaN</td>\n",
       "      <td>Q9P305</td>\n",
       "      <td>8.566520</td>\n",
       "    </tr>\n",
       "    <tr>\n",
       "      <th>Q9URQ5</th>\n",
       "      <td>NaN</td>\n",
       "      <td>Q9URQ5</td>\n",
       "      <td>7.808710</td>\n",
       "    </tr>\n",
       "  </tbody>\n",
       "</table>\n",
       "</div>"
      ],
      "text/plain": [
       "       sample_an backgrnd_an  backgrnd_int\n",
       "Q99383    Q99383      Q99383      8.931163\n",
       "Q99385       NaN      Q99385      8.318001\n",
       "Q99394       NaN      Q99394      7.523538\n",
       "Q9P305       NaN      Q9P305      8.566520\n",
       "Q9URQ5       NaN      Q9URQ5      7.808710"
      ]
     },
     "execution_count": 39,
     "metadata": {},
     "output_type": "execute_result"
    }
   ],
   "source": [
    "dfc.tail()"
   ]
  },
  {
   "cell_type": "code",
   "execution_count": 5,
   "metadata": {
    "collapsed": true
   },
   "outputs": [],
   "source": [
    "import matplotlib.pyplot as plt"
   ]
  },
  {
   "cell_type": "code",
   "execution_count": 8,
   "metadata": {
    "collapsed": false
   },
   "outputs": [],
   "source": [
    "hist()"
   ]
  },
  {
   "cell_type": "code",
   "execution_count": 26,
   "metadata": {
    "collapsed": false
   },
   "outputs": [
    {
     "data": {
      "text/plain": [
       "<Container object of 100 artists>"
      ]
     },
     "execution_count": 26,
     "metadata": {},
     "output_type": "execute_result"
    }
   ],
   "source": [
    "import matplotlib.pyplot as plt\n",
    "import numpy as np\n",
    "data = ui.df['backgrnd_int']\n",
    "hist, bins = np.histogram(data, bins=100)\n",
    "width = 0.7 * (bins[1] - bins[0])\n",
    "center = (bins[:-1] + bins[1:]) / 2\n",
    "plt.bar(center, hist, align='center', width=width, color='blue')\n",
    "\n",
    "data = ui.df.loc[pd.notnull(ui.df['sample_an']), 'backgrnd_int']\n",
    "hist, bins = np.histogram(data, bins=100)\n",
    "width = 0.7 * (bins[1] - bins[0])\n",
    "center = (bins[:-1] + bins[1:]) / 2\n",
    "plt.bar(center, hist, align='center', width=width, color='red')\n",
    "plt.show()"
   ]
  },
  {
   "cell_type": "code",
   "execution_count": 1,
   "metadata": {
    "collapsed": false
   },
   "outputs": [],
   "source": [
    "#ui.get_population()"
   ]
  },
  {
   "cell_type": "code",
   "execution_count": null,
   "metadata": {
    "collapsed": true
   },
   "outputs": [],
   "source": []
  }
 ],
 "metadata": {
  "kernelspec": {
   "display_name": "Python 2",
   "language": "python",
   "name": "python2"
  },
  "language_info": {
   "codemirror_mode": {
    "name": "ipython",
    "version": 2
   },
   "file_extension": ".py",
   "mimetype": "text/x-python",
   "name": "python",
   "nbconvert_exporter": "python",
   "pygments_lexer": "ipython2",
   "version": "2.7.6"
  }
 },
 "nbformat": 4,
 "nbformat_minor": 0
}
