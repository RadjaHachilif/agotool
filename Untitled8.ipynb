{
 "cells": [
  {
   "cell_type": "code",
   "execution_count": 2,
   "metadata": {
    "collapsed": false
   },
   "outputs": [
    {
     "data": {
      "text/plain": [
       "u'/Users/dblyon/modules/cpr/goterm'"
      ]
     },
     "execution_count": 2,
     "metadata": {},
     "output_type": "execute_result"
    }
   ],
   "source": [
    "pwd"
   ]
  },
  {
   "cell_type": "code",
   "execution_count": 3,
   "metadata": {
    "collapsed": false
   },
   "outputs": [
    {
     "name": "stdout",
     "output_type": "stream",
     "text": [
      "/Users/dblyon/modules/cpr/goterm/agotool/static/python\n"
     ]
    }
   ],
   "source": [
    "cd agotool/static/python/"
   ]
  },
  {
   "cell_type": "code",
   "execution_count": 17,
   "metadata": {
    "collapsed": false
   },
   "outputs": [
    {
     "name": "stderr",
     "output_type": "stream",
     "text": [
      "load obo file /Users/dblyon/modules/cpr/goterm/agotool/static/data/OBO/go-basic.obo\n",
      "44951 nodes imported\n",
      "load obo file /Users/dblyon/modules/cpr/goterm/agotool/static/data/OBO/goslim_generic.obo\n",
      "207 nodes imported\n"
     ]
    }
   ],
   "source": [
    "%run gotupk"
   ]
  },
  {
   "cell_type": "code",
   "execution_count": 18,
   "metadata": {
    "collapsed": false
   },
   "outputs": [
    {
     "name": "stdout",
     "output_type": "stream",
     "text": [
      "id\tenrichment\tperc_enrichment_study\tperc_enrichment_pop\tfold_enrichment_study2pop\tstudy_count\tstudy_n\tpop_count\tpop_n\tp_uncorrected\tp_benjamini_hochberg\tdescription\tANs_study\tp_benjamini_hochberg\tdescription\tANs_study\tp_benjamini_hochberg\tdescription\tANs_study\tp_benjamini_hochberg\tdescription\tANs_study\n",
      ".GO:0042393\to\t2.0\t0.6\t3.14\t22\t1125\t7\t1125\t0.00774\t0.107\thistone binding\tP13712,P16649,P22082,P23615,P25554,P32447,P32558,P32591,P32597,P32657,P35817,P36124,P40019,P40161,P43583,P80428,Q02206,Q03012,Q03330,Q03388,Q08923,Q12495\t0.107\thistone binding\tP13712,P16649,P22082,P23615,P25554,P32447,P32558,P32591,P32597,P32657,P35817,P36124,P40019,P40161,P43583,P80428,Q02206,Q03012,Q03330,Q03388,Q08923,Q12495\t0.107\thistone binding\tP13712,P16649,P22082,P23615,P25554,P32447,P32558,P32591,P32597,P32657,P35817,P36124,P40019,P40161,P43583,P80428,Q02206,Q03012,Q03330,Q03388,Q08923,Q12495\t0.107\thistone binding\tP13712,P16649,P22082,P23615,P25554,P32447,P32558,P32591,P32597,P32657,P35817,P36124,P40019,P40161,P43583,P80428,Q02206,Q03012,Q03330,Q03388,Q08923,Q12495\n"
     ]
    }
   ],
   "source": [
    "print header\n",
    "print results[0]"
   ]
  },
  {
   "cell_type": "code",
   "execution_count": 11,
   "metadata": {
    "collapsed": false
   },
   "outputs": [
    {
     "name": "stderr",
     "output_type": "stream",
     "text": [
      "load obo file /Users/dblyon/modules/cpr/goterm/agotool/static/data/OBO/goslim_generic.obo\n",
      "207 nodes imported\n"
     ]
    }
   ],
   "source": [
    "go_dag = obo_parser.GODag(obo_file=obo2file_dict['slim'])"
   ]
  },
  {
   "cell_type": "code",
   "execution_count": 17,
   "metadata": {
    "collapsed": false
   },
   "outputs": [
    {
     "data": {
      "text/plain": [
       "'/Users/dblyon/modules/cpr/goterm/agotool/static/data/OBO/goslim_generic.obo'"
      ]
     },
     "execution_count": 17,
     "metadata": {},
     "output_type": "execute_result"
    }
   ],
   "source": [
    "obo2file_dict['slim']"
   ]
  },
  {
   "cell_type": "code",
   "execution_count": 14,
   "metadata": {
    "collapsed": true
   },
   "outputs": [],
   "source": [
    "webserver_data  = os.getcwd() + '/static/data'\n",
    "species2files_dict = {\"9606\":\n",
    "                          {'goa_ref_fn': webserver_data + r'/GOA/gene_association.goa_human',\n",
    "                           'uniprot_keywords_fn': webserver_data + r'/UniProt_Keywords/Human_uniprot-proteome%3AUP000005640.tab'},\n",
    "                      \"4932\":\n",
    "                          {'goa_ref_fn': webserver_data + r'/GOA/gene_association.goa_yeast',\n",
    "                           'uniprot_keywords_fn': webserver_data + r'/UniProt_Keywords/Yeast_uniprot-proteome%3AUP000002311.tab'},\n",
    "                      \"3702\":\n",
    "                          {'goa_ref_fn': webserver_data + r'/GOA/gene_association.goa_arabidopsis',\n",
    "                           'uniprot_keywords_fn': webserver_data + r'/UniProt_Keywords/Arabidopsis_uniprot-proteome%3AUP000006548.tab'},\n",
    "                      \"7955\":\n",
    "                          {'goa_ref_fn': webserver_data + r'/GOA/gene_association.goa_zebrafish',\n",
    "                           'uniprot_keywords_fn': webserver_data + r'/UniProt_Keywords/Zebrafish_uniprot-proteome%3AUP000000437.tab'},\n",
    "                      \"7227\":\n",
    "                          {'goa_ref_fn': webserver_data + r'/GOA/gene_association.goa_fly',\n",
    "                           'uniprot_keywords_fn': webserver_data + r'/UniProt_Keywords/Fly_uniprot-proteome%3AUP000000803.tab'},\n",
    "                      \"9031\":\n",
    "                          {'goa_ref_fn': webserver_data + r'/GOA/gene_association.goa_chicken',\n",
    "                           'uniprot_keywords_fn': webserver_data + r'/UniProt_Keywords/Chicken_uniprot-proteome%3AUP000000539.tab'},\n",
    "                      \"10090\":\n",
    "                          {'goa_ref_fn': webserver_data + r'/GOA/gene_association.goa_mouse',\n",
    "                           'uniprot_keywords_fn': webserver_data + r'/UniProt_Keywords/Mouse_uniprot-proteome%3AUP000000589.tab'},\n",
    "                      \"10116\":\n",
    "                          {'goa_ref_fn': webserver_data + r'/GOA/gene_association.goa_rat',\n",
    "                           'uniprot_keywords_fn': webserver_data + r'/UniProt_Keywords/Rat_uniprot-proteome%3AUP000002494.tab'},\n",
    "                      \"8364\":\n",
    "                          {'uniprot_keywords_fn': webserver_data + r'/UniProt_Keywords/Frog_uniprot-proteome%3AUP000008143.tab'}\n",
    "                      }\n",
    "obo2file_dict = {\"slim\": webserver_data + r'/OBO/goslim_generic.obo',\n",
    "                 \"basic\": webserver_data + r'/OBO/go-basic.obo'}"
   ]
  },
  {
   "cell_type": "code",
   "execution_count": 15,
   "metadata": {
    "collapsed": false
   },
   "outputs": [
    {
     "data": {
      "text/plain": [
       "{'basic': '/Users/dblyon/modules/cpr/goterm/agotool/static/data/OBO/go-basic.obo',\n",
       " 'slim': '/Users/dblyon/modules/cpr/goterm/agotool/static/data/OBO/goslim_generic.obo'}"
      ]
     },
     "execution_count": 15,
     "metadata": {},
     "output_type": "execute_result"
    }
   ],
   "source": [
    "obo2file_dict"
   ]
  },
  {
   "cell_type": "code",
   "execution_count": 18,
   "metadata": {
    "collapsed": false
   },
   "outputs": [
    {
     "data": {
      "text/plain": [
       "{'10090': {'goa_ref_fn': '/Users/dblyon/modules/cpr/goterm/agotool/static/data/GOA/gene_association.goa_mouse',\n",
       "  'uniprot_keywords_fn': '/Users/dblyon/modules/cpr/goterm/agotool/static/data/UniProt_Keywords/Mouse_uniprot-proteome%3AUP000000589.tab'},\n",
       " '10116': {'goa_ref_fn': '/Users/dblyon/modules/cpr/goterm/agotool/static/data/GOA/gene_association.goa_rat',\n",
       "  'uniprot_keywords_fn': '/Users/dblyon/modules/cpr/goterm/agotool/static/data/UniProt_Keywords/Rat_uniprot-proteome%3AUP000002494.tab'},\n",
       " '3702': {'goa_ref_fn': '/Users/dblyon/modules/cpr/goterm/agotool/static/data/GOA/gene_association.goa_arabidopsis',\n",
       "  'uniprot_keywords_fn': '/Users/dblyon/modules/cpr/goterm/agotool/static/data/UniProt_Keywords/Arabidopsis_uniprot-proteome%3AUP000006548.tab'},\n",
       " '4932': {'goa_ref_fn': '/Users/dblyon/modules/cpr/goterm/agotool/static/data/GOA/gene_association.goa_yeast',\n",
       "  'uniprot_keywords_fn': '/Users/dblyon/modules/cpr/goterm/agotool/static/data/UniProt_Keywords/Yeast_uniprot-proteome%3AUP000002311.tab'},\n",
       " '7227': {'goa_ref_fn': '/Users/dblyon/modules/cpr/goterm/agotool/static/data/GOA/gene_association.goa_fly',\n",
       "  'uniprot_keywords_fn': '/Users/dblyon/modules/cpr/goterm/agotool/static/data/UniProt_Keywords/Fly_uniprot-proteome%3AUP000000803.tab'},\n",
       " '7955': {'goa_ref_fn': '/Users/dblyon/modules/cpr/goterm/agotool/static/data/GOA/gene_association.goa_zebrafish',\n",
       "  'uniprot_keywords_fn': '/Users/dblyon/modules/cpr/goterm/agotool/static/data/UniProt_Keywords/Zebrafish_uniprot-proteome%3AUP000000437.tab'},\n",
       " '8364': {'uniprot_keywords_fn': '/Users/dblyon/modules/cpr/goterm/agotool/static/data/UniProt_Keywords/Frog_uniprot-proteome%3AUP000008143.tab'},\n",
       " '9031': {'goa_ref_fn': '/Users/dblyon/modules/cpr/goterm/agotool/static/data/GOA/gene_association.goa_chicken',\n",
       "  'uniprot_keywords_fn': '/Users/dblyon/modules/cpr/goterm/agotool/static/data/UniProt_Keywords/Chicken_uniprot-proteome%3AUP000000539.tab'},\n",
       " '9606': {'goa_ref_fn': '/Users/dblyon/modules/cpr/goterm/agotool/static/data/GOA/gene_association.goa_human',\n",
       "  'uniprot_keywords_fn': '/Users/dblyon/modules/cpr/goterm/agotool/static/data/UniProt_Keywords/Human_uniprot-proteome%3AUP000005640.tab'}}"
      ]
     },
     "execution_count": 18,
     "metadata": {},
     "output_type": "execute_result"
    }
   ],
   "source": [
    "species2files_dict"
   ]
  },
  {
   "cell_type": "code",
   "execution_count": null,
   "metadata": {
    "collapsed": true
   },
   "outputs": [],
   "source": []
  }
 ],
 "metadata": {
  "kernelspec": {
   "display_name": "Python 2",
   "language": "python",
   "name": "python2"
  },
  "language_info": {
   "codemirror_mode": {
    "name": "ipython",
    "version": 2
   },
   "file_extension": ".py",
   "mimetype": "text/x-python",
   "name": "python",
   "nbconvert_exporter": "python",
   "pygments_lexer": "ipython2",
   "version": "2.7.6"
  }
 },
 "nbformat": 4,
 "nbformat_minor": 0
}
