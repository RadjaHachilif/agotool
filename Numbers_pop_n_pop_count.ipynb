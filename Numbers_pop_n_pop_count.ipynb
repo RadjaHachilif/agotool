{
 "cells": [
  {
   "cell_type": "code",
   "execution_count": 1,
   "metadata": {
    "collapsed": false
   },
   "outputs": [
    {
     "data": {
      "text/plain": [
       "u'/Users/dblyon/modules/cpr/goterm'"
      ]
     },
     "execution_count": 1,
     "metadata": {},
     "output_type": "execute_result"
    }
   ],
   "source": [
    "pwd"
   ]
  },
  {
   "cell_type": "code",
   "execution_count": 2,
   "metadata": {
    "collapsed": false
   },
   "outputs": [
    {
     "name": "stdout",
     "output_type": "stream",
     "text": [
      "/Users/dblyon/modules/cpr/goterm/agotool/static/python\n"
     ]
    }
   ],
   "source": [
    "cd agotool/static/python"
   ]
  },
  {
   "cell_type": "code",
   "execution_count": 3,
   "metadata": {
    "collapsed": false
   },
   "outputs": [
    {
     "name": "stderr",
     "output_type": "stream",
     "text": [
      "load obo file /Users/dblyon/modules/cpr/goterm/agotool/static/data/OBO/go-basic.obo\n",
      "44951 nodes imported\n"
     ]
    }
   ],
   "source": [
    "import goretriever, obo_parser\n",
    "from collections import defaultdict\n",
    "goa_ref_fn=r'/Users/dblyon/modules/cpr/goterm/agotool/static/data/GOA/gene_association.goa_yeast'\n",
    "obo_dag = obo_parser.GODag('/Users/dblyon/modules/cpr/goterm/agotool/static/data/OBO/go-basic.obo')\n",
    "assoc_dict = goretriever.Parser_UniProt_goa_ref(goa_ref_fn).get_association_dict('all_GO', obo_dag)"
   ]
  },
  {
   "cell_type": "code",
   "execution_count": 20,
   "metadata": {
    "collapsed": true
   },
   "outputs": [],
   "source": [
    "from collections import defaultdict\n",
    "ans_set = set(['P00359', 'P00925', 'ABC123'])"
   ]
  },
  {
   "cell_type": "code",
   "execution_count": 21,
   "metadata": {
    "collapsed": true
   },
   "outputs": [],
   "source": [
    "def count_terms_v2(ans_set, assoc_dict, obo_dag):\n",
    "    \"\"\"\n",
    "    count the number of terms in the study group\n",
    "    produces\n",
    "    term_cnt: key=GOid, val=Num of occurrences\n",
    "    go2ans_dict: key=GOid, val=ListOfANs\n",
    "    count_n: Integer(Number of ANs with a GO-term in assoc_dict and obo_dag\n",
    "    \"\"\"\n",
    "    ans2count = set()\n",
    "    go2ans_dict = {}\n",
    "    term_cnt = defaultdict(int)\n",
    "    for an in (acnum for acnum in ans_set if acnum in assoc_dict):\n",
    "        for goterm in assoc_dict[an]:\n",
    "            if goterm in obo_dag:\n",
    "                ans2count.update([an])\n",
    "                term_cnt[obo_dag[goterm].id] += 1\n",
    "                if not go2ans_dict.has_key(goterm):\n",
    "                    go2ans_dict[goterm] = set([an])\n",
    "                else:\n",
    "                    go2ans_dict[goterm].update([an])\n",
    "    return(term_cnt, go2ans_dict, len(ans2count))"
   ]
  },
  {
   "cell_type": "code",
   "execution_count": 22,
   "metadata": {
    "collapsed": false
   },
   "outputs": [
    {
     "name": "stdout",
     "output_type": "stream",
     "text": [
      "defaultdict(<type 'int'>, {'GO:0000015': 1, 'GO:0005737': 1, 'GO:0004365': 1, 'GO:0000324': 1, 'GO:0072593': 1, 'GO:0005515': 1, 'GO:0051287': 1, 'GO:0000287': 1, 'GO:0055114': 1, 'GO:0005811': 1, 'GO:0005739': 2, 'GO:0004634': 1, 'GO:0009277': 1, 'GO:0050661': 1, 'GO:0009898': 1, 'GO:0032889': 1, 'GO:0003723': 1, 'GO:0006096': 2, 'GO:0006915': 1, 'GO:0006094': 2})\n"
     ]
    }
   ],
   "source": [
    "term_cnt, go2ans_dict, count_an = count_terms_v2(ans_set, assoc_dict, obo_dag)\n",
    "print term_cnt"
   ]
  },
  {
   "cell_type": "code",
   "execution_count": 23,
   "metadata": {
    "collapsed": false
   },
   "outputs": [],
   "source": [
    "ans2count = set()\n",
    "for an in (acnum for acnum in ans_set if acnum in assoc_dict):\n",
    "    for goterm in assoc_dict[an]:\n",
    "        if goterm in obo_dag:\n",
    "            ans2count.update([an])"
   ]
  },
  {
   "cell_type": "code",
   "execution_count": 24,
   "metadata": {
    "collapsed": false
   },
   "outputs": [
    {
     "data": {
      "text/plain": [
       "['P00925', 'P00359', 'ABC123']"
      ]
     },
     "execution_count": 24,
     "metadata": {},
     "output_type": "execute_result"
    }
   ],
   "source": [
    "[acnum for acnum in ans_set]"
   ]
  },
  {
   "cell_type": "code",
   "execution_count": 25,
   "metadata": {
    "collapsed": false
   },
   "outputs": [
    {
     "data": {
      "text/plain": [
       "{'P00359', 'P00925'}"
      ]
     },
     "execution_count": 25,
     "metadata": {},
     "output_type": "execute_result"
    }
   ],
   "source": [
    "ans2count"
   ]
  },
  {
   "cell_type": "code",
   "execution_count": 10,
   "metadata": {
    "collapsed": false
   },
   "outputs": [
    {
     "data": {
      "text/plain": [
       "{'ABC123', 'P00359', 'P00925'}"
      ]
     },
     "execution_count": 10,
     "metadata": {},
     "output_type": "execute_result"
    }
   ],
   "source": [
    "ans_set"
   ]
  },
  {
   "cell_type": "code",
   "execution_count": 1,
   "metadata": {
    "collapsed": false
   },
   "outputs": [
    {
     "data": {
      "text/plain": [
       "u'/Users/dblyon/modules/cpr/goterm'"
      ]
     },
     "execution_count": 1,
     "metadata": {},
     "output_type": "execute_result"
    }
   ],
   "source": [
    "pwd"
   ]
  },
  {
   "cell_type": "code",
   "execution_count": 1,
   "metadata": {
    "collapsed": false
   },
   "outputs": [
    {
     "name": "stderr",
     "output_type": "stream",
     "text": [
      "load obo file /Users/dblyon/modules/cpr/goterm/agotool/static/data/OBO/go-basic.obo\n",
      "44951 nodes imported\n",
      "terms not found: set(['GO:1904261'])"
     ]
    },
    {
     "name": "stdout",
     "output_type": "stream",
     "text": [
      "('HeLa_Acetyl_vs_Observed.txt', 'Acetyl', 'Observed')\n",
      "('HeLa_Acetyl_vs_Genome.txt', 'Acetyl', 'Genome')"
     ]
    },
    {
     "name": "stderr",
     "output_type": "stream",
     "text": [
      "\n",
      "load obo file /Users/dblyon/modules/cpr/goterm/agotool/static/data/OBO/go-basic.obo\n",
      "44951 nodes imported\n",
      "terms not found: set(['GO:1904261'])"
     ]
    },
    {
     "name": "stdout",
     "output_type": "stream",
     "text": [
      "\n",
      "('HeLa_Acetyl_vs_AbCorr.txt', 'Acetyl', 'AbCorr')"
     ]
    },
    {
     "name": "stderr",
     "output_type": "stream",
     "text": [
      "\n",
      "load obo file /Users/dblyon/modules/cpr/goterm/agotool/static/data/OBO/go-basic.obo\n",
      "44951 nodes imported\n",
      "terms not found: set(['GO:1904261'])"
     ]
    },
    {
     "name": "stdout",
     "output_type": "stream",
     "text": [
      "\n",
      "('HeLa_Phos_vs_Observed.txt', 'Phos', 'Observed')"
     ]
    },
    {
     "name": "stderr",
     "output_type": "stream",
     "text": [
      "\n",
      "load obo file /Users/dblyon/modules/cpr/goterm/agotool/static/data/OBO/go-basic.obo\n",
      "44951 nodes imported\n",
      "terms not found: set(['GO:1904261'])"
     ]
    },
    {
     "name": "stdout",
     "output_type": "stream",
     "text": [
      "\n",
      "('HeLa_Phos_vs_Genome.txt', 'Phos', 'Genome')"
     ]
    },
    {
     "name": "stderr",
     "output_type": "stream",
     "text": [
      "\n",
      "load obo file /Users/dblyon/modules/cpr/goterm/agotool/static/data/OBO/go-basic.obo\n",
      "44951 nodes imported\n",
      "terms not found: set(['GO:1904261'])"
     ]
    },
    {
     "name": "stdout",
     "output_type": "stream",
     "text": [
      "\n",
      "('HeLa_Phos_vs_AbCorr.txt', 'Phos', 'AbCorr')"
     ]
    },
    {
     "name": "stderr",
     "output_type": "stream",
     "text": [
      "\n",
      "load obo file /Users/dblyon/modules/cpr/goterm/agotool/static/data/OBO/go-basic.obo\n",
      "44951 nodes imported\n",
      "terms not found: set(['GO:1904261'])"
     ]
    },
    {
     "name": "stdout",
     "output_type": "stream",
     "text": [
      "\n",
      "('HeLa_Ubi_vs_Observed.txt', 'Ubi', 'Observed')"
     ]
    },
    {
     "name": "stderr",
     "output_type": "stream",
     "text": [
      "\n",
      "load obo file /Users/dblyon/modules/cpr/goterm/agotool/static/data/OBO/go-basic.obo\n",
      "44951 nodes imported\n",
      "terms not found: set(['GO:1904261'])"
     ]
    },
    {
     "name": "stdout",
     "output_type": "stream",
     "text": [
      "\n",
      "('HeLa_Ubi_vs_Genome.txt', 'Ubi', 'Genome')"
     ]
    },
    {
     "name": "stderr",
     "output_type": "stream",
     "text": [
      "\n",
      "load obo file /Users/dblyon/modules/cpr/goterm/agotool/static/data/OBO/go-basic.obo\n",
      "44951 nodes imported\n",
      "terms not found: set(['GO:1904261'])"
     ]
    },
    {
     "name": "stdout",
     "output_type": "stream",
     "text": [
      "\n",
      "('HeLa_Ubi_vs_AbCorr.txt', 'Ubi', 'AbCorr')"
     ]
    },
    {
     "name": "stderr",
     "output_type": "stream",
     "text": [
      "\n",
      "load obo file /Users/dblyon/modules/cpr/goterm/agotool/static/data/OBO/go-basic.obo\n",
      "44951 nodes imported\n",
      "terms not found: set(['GO:1904261'])"
     ]
    },
    {
     "name": "stdout",
     "output_type": "stream",
     "text": [
      "\n",
      "('HeLa_Succinyl_vs_Observed.txt', 'Succinyl', 'Observed')"
     ]
    },
    {
     "name": "stderr",
     "output_type": "stream",
     "text": [
      "\n",
      "load obo file /Users/dblyon/modules/cpr/goterm/agotool/static/data/OBO/go-basic.obo\n",
      "44951 nodes imported\n",
      "terms not found: set(['GO:1904261'])"
     ]
    },
    {
     "name": "stdout",
     "output_type": "stream",
     "text": [
      "\n",
      "('HeLa_Succinyl_vs_Genome.txt', 'Succinyl', 'Genome')"
     ]
    },
    {
     "name": "stderr",
     "output_type": "stream",
     "text": [
      "\n",
      "load obo file /Users/dblyon/modules/cpr/goterm/agotool/static/data/OBO/go-basic.obo\n",
      "44951 nodes imported\n",
      "terms not found: set(['GO:1904261'])"
     ]
    },
    {
     "name": "stdout",
     "output_type": "stream",
     "text": [
      "\n",
      "('HeLa_Succinyl_vs_AbCorr.txt', 'Succinyl', 'AbCorr')"
     ]
    },
    {
     "name": "stderr",
     "output_type": "stream",
     "text": [
      "\n",
      "load obo file /Users/dblyon/modules/cpr/goterm/agotool/static/data/OBO/go-basic.obo\n",
      "44951 nodes imported\n",
      "terms not found: set(['GO:1904261'])"
     ]
    },
    {
     "name": "stdout",
     "output_type": "stream",
     "text": [
      "\n"
     ]
    },
    {
     "name": "stderr",
     "output_type": "stream",
     "text": [
      "\n"
     ]
    }
   ],
   "source": [
    "%run gotupk"
   ]
  },
  {
   "cell_type": "code",
   "execution_count": null,
   "metadata": {
    "collapsed": true
   },
   "outputs": [],
   "source": []
  }
 ],
 "metadata": {
  "kernelspec": {
   "display_name": "Python 2",
   "language": "python",
   "name": "python2"
  },
  "language_info": {
   "codemirror_mode": {
    "name": "ipython",
    "version": 2
   },
   "file_extension": ".py",
   "mimetype": "text/x-python",
   "name": "python",
   "nbconvert_exporter": "python",
   "pygments_lexer": "ipython2",
   "version": "2.7.6"
  }
 },
 "nbformat": 4,
 "nbformat_minor": 0
}
