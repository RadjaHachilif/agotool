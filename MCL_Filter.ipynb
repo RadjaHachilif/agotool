{
 "cells": [
  {
   "cell_type": "code",
   "execution_count": 6,
   "metadata": {
    "collapsed": false
   },
   "outputs": [],
   "source": [
    "import pandas as pd\n",
    "import numpy as np"
   ]
  },
  {
   "cell_type": "code",
   "execution_count": 58,
   "metadata": {
    "collapsed": false
   },
   "outputs": [],
   "source": [
    "fn = r'/Users/dblyon/modules/cpr/goterm/agotool/static/data/exampledata/exampledata.txt'\n",
    "df=pd.read_csv(fn, sep='\\t', decimal=',')\n",
    "#fn_out = fn.replace('.txt', '_decDOT.txt')\n",
    "#df.to_csv(fn_out, header=True, index=False, decimal='.', sep='\\t') "
   ]
  },
  {
   "cell_type": "code",
   "execution_count": 8,
   "metadata": {
    "collapsed": false
   },
   "outputs": [
    {
     "data": {
      "text/html": [
       "<div style=\"max-height:1000px;max-width:1500px;overflow:auto;\">\n",
       "<table border=\"1\" class=\"dataframe\">\n",
       "  <thead>\n",
       "    <tr style=\"text-align: right;\">\n",
       "      <th></th>\n",
       "      <th>population_int</th>\n",
       "      <th>population_an</th>\n",
       "      <th>sample_an</th>\n",
       "    </tr>\n",
       "  </thead>\n",
       "  <tbody>\n",
       "    <tr>\n",
       "      <th>0</th>\n",
       "      <td>11,07751325</td>\n",
       "      <td>P00359</td>\n",
       "      <td>P40545</td>\n",
       "    </tr>\n",
       "    <tr>\n",
       "      <th>1</th>\n",
       "      <td>10,96978388</td>\n",
       "      <td>P00925</td>\n",
       "      <td>P09201</td>\n",
       "    </tr>\n",
       "    <tr>\n",
       "      <th>2</th>\n",
       "      <td>10,76849751</td>\n",
       "      <td>P02994</td>\n",
       "      <td>P14066</td>\n",
       "    </tr>\n",
       "    <tr>\n",
       "      <th>3</th>\n",
       "      <td>10,74716312</td>\n",
       "      <td>P06169</td>\n",
       "      <td>P25040</td>\n",
       "    </tr>\n",
       "    <tr>\n",
       "      <th>4</th>\n",
       "      <td>10,74614359</td>\n",
       "      <td>P00560</td>\n",
       "      <td>P20050</td>\n",
       "    </tr>\n",
       "  </tbody>\n",
       "</table>\n",
       "</div>"
      ],
      "text/plain": [
       "  population_int population_an sample_an\n",
       "0    11,07751325        P00359    P40545\n",
       "1    10,96978388        P00925    P09201\n",
       "2    10,76849751        P02994    P14066\n",
       "3    10,74716312        P06169    P25040\n",
       "4    10,74614359        P00560    P20050"
      ]
     },
     "execution_count": 8,
     "metadata": {},
     "output_type": "execute_result"
    }
   ],
   "source": [
    "df.head()"
   ]
  },
  {
   "cell_type": "code",
   "execution_count": null,
   "metadata": {
    "collapsed": true
   },
   "outputs": [],
   "source": [
    "np.histogram(df['population_int'], bins=10)"
   ]
  },
  {
   "cell_type": "code",
   "execution_count": 26,
   "metadata": {
    "collapsed": true
   },
   "outputs": [],
   "source": [
    "def check_userinput(userinput_fh, decimal, abcorr):\n",
    "    df = pd.read_csv(userinput_fh, sep='\\t', decimal=decimal)\n",
    "    userinput_fh.seek(0)\n",
    "    if abcorr:\n",
    "        if ['population_an', 'population_int', 'sample_an'] == sorted(df.columns.tolist()):\n",
    "            try:\n",
    "                np.histogram(df['population_int'], bins=10)\n",
    "            except TypeError:\n",
    "                return False\n",
    "            return True\n",
    "    else:\n",
    "        if ['population_an', 'sample_an'] == sorted(df.columns.tolist()):\n",
    "            return True\n",
    "    return False"
   ]
  },
  {
   "cell_type": "code",
   "execution_count": 29,
   "metadata": {
    "collapsed": false,
    "scrolled": true
   },
   "outputs": [
    {
     "data": {
      "text/plain": [
       "False"
      ]
     },
     "execution_count": 29,
     "metadata": {},
     "output_type": "execute_result"
    }
   ],
   "source": [
    "userinput_fh = open(fn, 'r')\n",
    "decimal = '.'\n",
    "abcorr = True\n",
    "check_userinput(userinput_fh, decimal, abcorr)"
   ]
  },
  {
   "cell_type": "code",
   "execution_count": 53,
   "metadata": {
    "collapsed": true
   },
   "outputs": [],
   "source": [
    "def check_userinput_v2(userinput_fh, abcorr):\n",
    "    df = pd.read_csv(userinput_fh, sep='\\t', decimal='.')\n",
    "    userinput_fh.seek(0)\n",
    "    if abcorr:\n",
    "        if ['population_an', 'population_int', 'sample_an'] == sorted(df.columns.tolist()):\n",
    "            try:\n",
    "                np.histogram(df['population_int'], bins=10)\n",
    "            except TypeError:\n",
    "                try:\n",
    "                    df = pd.read_csv(userinput_fh, sep='\\t', decimal=',')\n",
    "                    np.histogram(df['population_int'], bins=10)\n",
    "                except TypeError:\n",
    "                    return False\n",
    "                print(\"decimal should be set to ','\")\n",
    "            return True\n",
    "    else:\n",
    "        if ['population_an', 'sample_an'] == sorted(df.columns.tolist()):\n",
    "            return True\n",
    "    return False"
   ]
  },
  {
   "cell_type": "code",
   "execution_count": 61,
   "metadata": {
    "collapsed": false
   },
   "outputs": [
    {
     "name": "stdout",
     "output_type": "stream",
     "text": [
      "decimal should be set to ','\n"
     ]
    },
    {
     "data": {
      "text/plain": [
       "True"
      ]
     },
     "execution_count": 61,
     "metadata": {},
     "output_type": "execute_result"
    }
   ],
   "source": [
    "fn1 = r'/Users/dblyon/modules/cpr/goterm/agotool/static/data/exampledata/exampledata.txt'\n",
    "fn2 = r'/Users/dblyon/modules/cpr/goterm/agotool/static/data/exampledata/exampledata_decDOT.txt'\n",
    "userinput_fh = open(fn1, 'r')\n",
    "abcorr = True\n",
    "check_userinput_v2(userinput_fh, abcorr)"
   ]
  },
  {
   "cell_type": "code",
   "execution_count": 63,
   "metadata": {
    "collapsed": false
   },
   "outputs": [
    {
     "data": {
      "text/plain": [
       "True"
      ]
     },
     "execution_count": 63,
     "metadata": {},
     "output_type": "execute_result"
    }
   ],
   "source": [
    "fn1.endswith('.'+'txt')"
   ]
  },
  {
   "cell_type": "code",
   "execution_count": 32,
   "metadata": {
    "collapsed": true
   },
   "outputs": [],
   "source": [
    "from wtforms import Form, TextField, validators, fields"
   ]
  },
  {
   "cell_type": "code",
   "execution_count": 33,
   "metadata": {
    "collapsed": false
   },
   "outputs": [],
   "source": [
    "class Enrichment_Form(Form):\n",
    "    alpha = fields.FloatField(\"Alpha\", \n",
    "                              default = 0.05,\n",
    "                              description=u\"for multiple testing correction\",\n",
    "                             [validators.text_type])"
   ]
  },
  {
   "cell_type": "code",
   "execution_count": 34,
   "metadata": {
    "collapsed": true
   },
   "outputs": [],
   "source": [
    "form = Enrichment_Form()"
   ]
  },
  {
   "cell_type": "code",
   "execution_count": 38,
   "metadata": {
    "collapsed": false
   },
   "outputs": [
    {
     "data": {
      "text/plain": [
       "0.05"
      ]
     },
     "execution_count": 38,
     "metadata": {},
     "output_type": "execute_result"
    }
   ],
   "source": [
    "form.alpha.data"
   ]
  },
  {
   "cell_type": "code",
   "execution_count": 39,
   "metadata": {
    "collapsed": false
   },
   "outputs": [
    {
     "data": {
      "text/plain": [
       "True"
      ]
     },
     "execution_count": 39,
     "metadata": {},
     "output_type": "execute_result"
    }
   ],
   "source": [
    "form.validate()"
   ]
  },
  {
   "cell_type": "code",
   "execution_count": 40,
   "metadata": {
    "collapsed": false
   },
   "outputs": [
    {
     "data": {
      "text/plain": [
       "True"
      ]
     },
     "execution_count": 40,
     "metadata": {},
     "output_type": "execute_result"
    }
   ],
   "source": [
    "alpha = 0.01\n",
    "0 < alpha < 1"
   ]
  },
  {
   "cell_type": "code",
   "execution_count": 42,
   "metadata": {
    "collapsed": false
   },
   "outputs": [
    {
     "data": {
      "text/plain": [
       "8.0"
      ]
     },
     "execution_count": 42,
     "metadata": {},
     "output_type": "execute_result"
    }
   ],
   "source": [
    "80.0/10"
   ]
  },
  {
   "cell_type": "code",
   "execution_count": 43,
   "metadata": {
    "collapsed": false
   },
   "outputs": [
    {
     "data": {
      "text/plain": [
       "0.001"
      ]
     },
     "execution_count": 43,
     "metadata": {},
     "output_type": "execute_result"
    }
   ],
   "source": [
    "1e-3"
   ]
  },
  {
   "cell_type": "code",
   "execution_count": 44,
   "metadata": {
    "collapsed": true
   },
   "outputs": [],
   "source": [
    "a = 100\n",
    "b = int"
   ]
  },
  {
   "cell_type": "code",
   "execution_count": 45,
   "metadata": {
    "collapsed": false
   },
   "outputs": [
    {
     "data": {
      "text/plain": [
       "int"
      ]
     },
     "execution_count": 45,
     "metadata": {},
     "output_type": "execute_result"
    }
   ],
   "source": [
    "b"
   ]
  },
  {
   "cell_type": "code",
   "execution_count": 46,
   "metadata": {
    "collapsed": false
   },
   "outputs": [
    {
     "data": {
      "text/plain": [
       "int"
      ]
     },
     "execution_count": 46,
     "metadata": {},
     "output_type": "execute_result"
    }
   ],
   "source": [
    "type(a)"
   ]
  },
  {
   "cell_type": "code",
   "execution_count": 47,
   "metadata": {
    "collapsed": false
   },
   "outputs": [
    {
     "data": {
      "text/plain": [
       "type"
      ]
     },
     "execution_count": 47,
     "metadata": {},
     "output_type": "execute_result"
    }
   ],
   "source": [
    "type(b)"
   ]
  },
  {
   "cell_type": "code",
   "execution_count": 48,
   "metadata": {
    "collapsed": false
   },
   "outputs": [
    {
     "data": {
      "text/plain": [
       "type"
      ]
     },
     "execution_count": 48,
     "metadata": {},
     "output_type": "execute_result"
    }
   ],
   "source": [
    "type(int)"
   ]
  },
  {
   "cell_type": "code",
   "execution_count": 50,
   "metadata": {
    "collapsed": false
   },
   "outputs": [
    {
     "data": {
      "text/plain": [
       "True"
      ]
     },
     "execution_count": 50,
     "metadata": {},
     "output_type": "execute_result"
    }
   ],
   "source": [
    "type(a) == type(100)"
   ]
  },
  {
   "cell_type": "code",
   "execution_count": 51,
   "metadata": {
    "collapsed": false
   },
   "outputs": [
    {
     "data": {
      "text/plain": [
       "False"
      ]
     },
     "execution_count": 51,
     "metadata": {},
     "output_type": "execute_result"
    }
   ],
   "source": [
    "type(a) == type(int)"
   ]
  },
  {
   "cell_type": "code",
   "execution_count": 52,
   "metadata": {
    "collapsed": false
   },
   "outputs": [
    {
     "data": {
      "text/plain": [
       "True"
      ]
     },
     "execution_count": 52,
     "metadata": {},
     "output_type": "execute_result"
    }
   ],
   "source": [
    "isinstance(a, int)"
   ]
  },
  {
   "cell_type": "code",
   "execution_count": 18,
   "metadata": {
    "collapsed": false
   },
   "outputs": [
    {
     "data": {
      "text/plain": [
       "['a',\n",
       " 'b',\n",
       " 'c',\n",
       " 'd',\n",
       " 'e',\n",
       " 'f',\n",
       " 'g',\n",
       " 'p_benjamini_hochberg',\n",
       " 'over_under',\n",
       " 'x',\n",
       " 'y']"
      ]
     },
     "execution_count": 18,
     "metadata": {},
     "output_type": "execute_result"
    }
   ],
   "source": [
    "l = list('abcdefg')\n",
    "l.append('p_benjamini_hochberg')\n",
    "l.append('over_under')\n",
    "l += ['x', 'y']\n",
    "l"
   ]
  },
  {
   "cell_type": "code",
   "execution_count": 14,
   "metadata": {
    "collapsed": false
   },
   "outputs": [
    {
     "data": {
      "text/plain": [
       "7"
      ]
     },
     "execution_count": 14,
     "metadata": {},
     "output_type": "execute_result"
    }
   ],
   "source": [
    "index"
   ]
  },
  {
   "cell_type": "code",
   "execution_count": 25,
   "metadata": {
    "collapsed": false
   },
   "outputs": [],
   "source": [
    "def modify_list(list_of_string, search, replace):\n",
    "    if search in list_of_string:\n",
    "        index = list_of_string.index(search)\n",
    "        return list_of_string[:index] + [replace] + list_of_string[index+1:]\n",
    "    else:\n",
    "        return list_of_string"
   ]
  },
  {
   "cell_type": "code",
   "execution_count": 26,
   "metadata": {
    "collapsed": true
   },
   "outputs": [],
   "source": [
    "def modify_header(header_list):\n",
    "    header_list = modify_list(header_list, 'over_under', 'over/under')\n",
    "    return modify_list(header_list, 'p_benjamini_hochberg', 'FDR')"
   ]
  },
  {
   "cell_type": "code",
   "execution_count": 27,
   "metadata": {
    "collapsed": false
   },
   "outputs": [
    {
     "name": "stdout",
     "output_type": "stream",
     "text": [
      "['a', 'b', 'c', 'd', 'e', 'f', 'g', 'p_benjamini_hochberg', 'over_under', 'x', 'y']\n"
     ]
    },
    {
     "data": {
      "text/plain": [
       "['a', 'b', 'c', 'd', 'e', 'f', 'g', 'FDR', 'over/under', 'x', 'y']"
      ]
     },
     "execution_count": 27,
     "metadata": {},
     "output_type": "execute_result"
    }
   ],
   "source": [
    "print l\n",
    "modify_header(l)"
   ]
  },
  {
   "cell_type": "markdown",
   "metadata": {},
   "source": [
    "# MCL"
   ]
  },
  {
   "cell_type": "code",
   "execution_count": 28,
   "metadata": {
    "collapsed": true
   },
   "outputs": [],
   "source": [
    "import pandas as pd"
   ]
  },
  {
   "cell_type": "code",
   "execution_count": 29,
   "metadata": {
    "collapsed": true
   },
   "outputs": [],
   "source": [
    "fn = r'/Users/dblyon/modules/cpr/goterm/mcl/results.txt'\n",
    "df = pd.read_csv(fn, sep='\\t')"
   ]
  },
  {
   "cell_type": "code",
   "execution_count": 151,
   "metadata": {
    "collapsed": false
   },
   "outputs": [
    {
     "data": {
      "text/plain": [
       "13"
      ]
     },
     "execution_count": 151,
     "metadata": {},
     "output_type": "execute_result"
    }
   ],
   "source": [
    "df.columns.tolist().index(\"ANs_study\")"
   ]
  },
  {
   "cell_type": "code",
   "execution_count": 30,
   "metadata": {
    "collapsed": false,
    "scrolled": true
   },
   "outputs": [
    {
     "data": {
      "text/html": [
       "<div style=\"max-height:1000px;max-width:1500px;overflow:auto;\">\n",
       "<table border=\"1\" class=\"dataframe\">\n",
       "  <thead>\n",
       "    <tr style=\"text-align: right;\">\n",
       "      <th></th>\n",
       "      <th>id</th>\n",
       "      <th>enrichment</th>\n",
       "      <th>perc_enrichment_study</th>\n",
       "      <th>perc_enrichment_pop</th>\n",
       "      <th>fold_enrichment_study2pop</th>\n",
       "      <th>study_count</th>\n",
       "      <th>study_n</th>\n",
       "      <th>pop_count</th>\n",
       "      <th>pop_n</th>\n",
       "      <th>p_uncorrected</th>\n",
       "      <th>p_bonferroni</th>\n",
       "      <th>p_holm</th>\n",
       "      <th>p_sidak</th>\n",
       "      <th>ANs_study</th>\n",
       "      <th>ANs_pop</th>\n",
       "    </tr>\n",
       "  </thead>\n",
       "  <tbody>\n",
       "    <tr>\n",
       "      <th>0</th>\n",
       "      <td>Bromodomain</td>\n",
       "      <td>e</td>\n",
       "      <td>0.5</td>\n",
       "      <td>0.2</td>\n",
       "      <td>3.00</td>\n",
       "      <td>6</td>\n",
       "      <td>1125</td>\n",
       "      <td>2</td>\n",
       "      <td>1125</td>\n",
       "      <td>2.880000e-01</td>\n",
       "      <td>87.900000</td>\n",
       "      <td>75.500000</td>\n",
       "      <td>85.700000</td>\n",
       "      <td>P22082,P32597,P35177,P35817,Q02206,Q03330</td>\n",
       "      <td>P22082,P32597,P35177,P35817,P40340,P53236,Q022...</td>\n",
       "    </tr>\n",
       "    <tr>\n",
       "      <th>1</th>\n",
       "      <td>Mitochondrion nucleoid</td>\n",
       "      <td>e</td>\n",
       "      <td>0.3</td>\n",
       "      <td>0.1</td>\n",
       "      <td>3.00</td>\n",
       "      <td>3</td>\n",
       "      <td>1125</td>\n",
       "      <td>1</td>\n",
       "      <td>1125</td>\n",
       "      <td>6.250000e-01</td>\n",
       "      <td>191.000000</td>\n",
       "      <td>136.000000</td>\n",
       "      <td>186.000000</td>\n",
       "      <td>P20967,P32787,Q04013</td>\n",
       "      <td>P20967,P32787,Q04013</td>\n",
       "    </tr>\n",
       "    <tr>\n",
       "      <th>2</th>\n",
       "      <td>Chromatin regulator</td>\n",
       "      <td>e</td>\n",
       "      <td>3.4</td>\n",
       "      <td>1.2</td>\n",
       "      <td>2.92</td>\n",
       "      <td>38</td>\n",
       "      <td>1125</td>\n",
       "      <td>13</td>\n",
       "      <td>1125</td>\n",
       "      <td>5.390000e-04</td>\n",
       "      <td>0.164000</td>\n",
       "      <td>0.160000</td>\n",
       "      <td>0.160000</td>\n",
       "      <td>P22579,P25554,P31385,P32447,P32494,P32561,P325...</td>\n",
       "      <td>P06104,P06700,P22579,P25554,P25632,P25659,P313...</td>\n",
       "    </tr>\n",
       "    <tr>\n",
       "      <th>3</th>\n",
       "      <td>Repressor</td>\n",
       "      <td>e</td>\n",
       "      <td>2.9</td>\n",
       "      <td>1.2</td>\n",
       "      <td>2.36</td>\n",
       "      <td>33</td>\n",
       "      <td>1125</td>\n",
       "      <td>14</td>\n",
       "      <td>1125</td>\n",
       "      <td>7.320000e-03</td>\n",
       "      <td>2.230000</td>\n",
       "      <td>2.130000</td>\n",
       "      <td>2.180000</td>\n",
       "      <td>P06843,P14922,P16649,P21957,P22579,P31385,P325...</td>\n",
       "      <td>P04387,P06100,P06102,P06700,P06701,P06843,P119...</td>\n",
       "    </tr>\n",
       "    <tr>\n",
       "      <th>4</th>\n",
       "      <td>Exonuclease</td>\n",
       "      <td>e</td>\n",
       "      <td>0.6</td>\n",
       "      <td>0.3</td>\n",
       "      <td>2.33</td>\n",
       "      <td>7</td>\n",
       "      <td>1125</td>\n",
       "      <td>3</td>\n",
       "      <td>1125</td>\n",
       "      <td>3.430000e-01</td>\n",
       "      <td>105.000000</td>\n",
       "      <td>88.700000</td>\n",
       "      <td>102.000000</td>\n",
       "      <td>P15436,P22147,P26793,Q02792,Q08162,Q08237,Q12149</td>\n",
       "      <td>P15436,P22147,P26793,P31384,P32829,P38319,P390...</td>\n",
       "    </tr>\n",
       "    <tr>\n",
       "      <th>5</th>\n",
       "      <td>Transcription regulation</td>\n",
       "      <td>e</td>\n",
       "      <td>11.5</td>\n",
       "      <td>5.0</td>\n",
       "      <td>2.30</td>\n",
       "      <td>129</td>\n",
       "      <td>1125</td>\n",
       "      <td>56</td>\n",
       "      <td>1125</td>\n",
       "      <td>2.250000e-08</td>\n",
       "      <td>0.000007</td>\n",
       "      <td>0.000007</td>\n",
       "      <td>0.000007</td>\n",
       "      <td>O14467,P06843,P07248,P09959,P11632,P11633,P123...</td>\n",
       "      <td>O13539,O14467,P04387,P06100,P06102,P06104,P062...</td>\n",
       "    </tr>\n",
       "    <tr>\n",
       "      <th>6</th>\n",
       "      <td>Activator</td>\n",
       "      <td>e</td>\n",
       "      <td>3.7</td>\n",
       "      <td>1.8</td>\n",
       "      <td>2.10</td>\n",
       "      <td>42</td>\n",
       "      <td>1125</td>\n",
       "      <td>20</td>\n",
       "      <td>1125</td>\n",
       "      <td>6.390000e-03</td>\n",
       "      <td>1.950000</td>\n",
       "      <td>1.870000</td>\n",
       "      <td>1.900000</td>\n",
       "      <td>P06843,P07248,P09959,P12383,P13574,P14164,P184...</td>\n",
       "      <td>P06100,P06102,P06843,P06844,P07248,P07270,P073...</td>\n",
       "    </tr>\n",
       "    <tr>\n",
       "      <th>7</th>\n",
       "      <td>Transcription</td>\n",
       "      <td>e</td>\n",
       "      <td>12.5</td>\n",
       "      <td>6.2</td>\n",
       "      <td>2.01</td>\n",
       "      <td>141</td>\n",
       "      <td>1125</td>\n",
       "      <td>70</td>\n",
       "      <td>1125</td>\n",
       "      <td>3.320000e-07</td>\n",
       "      <td>0.000101</td>\n",
       "      <td>0.000100</td>\n",
       "      <td>0.000099</td>\n",
       "      <td>O14467,P06843,P07248,P09959,P10964,P11632,P116...</td>\n",
       "      <td>O13539,O14467,O94742,P04050,P04051,P04387,P061...</td>\n",
       "    </tr>\n",
       "    <tr>\n",
       "      <th>8</th>\n",
       "      <td>Helicase</td>\n",
       "      <td>e</td>\n",
       "      <td>2.7</td>\n",
       "      <td>1.3</td>\n",
       "      <td>2.00</td>\n",
       "      <td>30</td>\n",
       "      <td>1125</td>\n",
       "      <td>15</td>\n",
       "      <td>1125</td>\n",
       "      <td>3.390000e-02</td>\n",
       "      <td>10.300000</td>\n",
       "      <td>9.590000</td>\n",
       "      <td>10.100000</td>\n",
       "      <td>P06634,P10081,P15424,P20447,P20448,P20449,P220...</td>\n",
       "      <td>P06634,P06839,P07271,P0CX14,P10081,P12954,P154...</td>\n",
       "    </tr>\n",
       "  </tbody>\n",
       "</table>\n",
       "</div>"
      ],
      "text/plain": [
       "                         id enrichment  perc_enrichment_study  \\\n",
       "0               Bromodomain          e                    0.5   \n",
       "1    Mitochondrion nucleoid          e                    0.3   \n",
       "2       Chromatin regulator          e                    3.4   \n",
       "3                 Repressor          e                    2.9   \n",
       "4               Exonuclease          e                    0.6   \n",
       "5  Transcription regulation          e                   11.5   \n",
       "6                 Activator          e                    3.7   \n",
       "7             Transcription          e                   12.5   \n",
       "8                  Helicase          e                    2.7   \n",
       "\n",
       "   perc_enrichment_pop  fold_enrichment_study2pop  study_count  study_n  \\\n",
       "0                  0.2                       3.00            6     1125   \n",
       "1                  0.1                       3.00            3     1125   \n",
       "2                  1.2                       2.92           38     1125   \n",
       "3                  1.2                       2.36           33     1125   \n",
       "4                  0.3                       2.33            7     1125   \n",
       "5                  5.0                       2.30          129     1125   \n",
       "6                  1.8                       2.10           42     1125   \n",
       "7                  6.2                       2.01          141     1125   \n",
       "8                  1.3                       2.00           30     1125   \n",
       "\n",
       "   pop_count  pop_n  p_uncorrected  p_bonferroni      p_holm     p_sidak  \\\n",
       "0          2   1125   2.880000e-01     87.900000   75.500000   85.700000   \n",
       "1          1   1125   6.250000e-01    191.000000  136.000000  186.000000   \n",
       "2         13   1125   5.390000e-04      0.164000    0.160000    0.160000   \n",
       "3         14   1125   7.320000e-03      2.230000    2.130000    2.180000   \n",
       "4          3   1125   3.430000e-01    105.000000   88.700000  102.000000   \n",
       "5         56   1125   2.250000e-08      0.000007    0.000007    0.000007   \n",
       "6         20   1125   6.390000e-03      1.950000    1.870000    1.900000   \n",
       "7         70   1125   3.320000e-07      0.000101    0.000100    0.000099   \n",
       "8         15   1125   3.390000e-02     10.300000    9.590000   10.100000   \n",
       "\n",
       "                                           ANs_study  \\\n",
       "0          P22082,P32597,P35177,P35817,Q02206,Q03330   \n",
       "1                               P20967,P32787,Q04013   \n",
       "2  P22579,P25554,P31385,P32447,P32494,P32561,P325...   \n",
       "3  P06843,P14922,P16649,P21957,P22579,P31385,P325...   \n",
       "4   P15436,P22147,P26793,Q02792,Q08162,Q08237,Q12149   \n",
       "5  O14467,P06843,P07248,P09959,P11632,P11633,P123...   \n",
       "6  P06843,P07248,P09959,P12383,P13574,P14164,P184...   \n",
       "7  O14467,P06843,P07248,P09959,P10964,P11632,P116...   \n",
       "8  P06634,P10081,P15424,P20447,P20448,P20449,P220...   \n",
       "\n",
       "                                             ANs_pop  \n",
       "0  P22082,P32597,P35177,P35817,P40340,P53236,Q022...  \n",
       "1                               P20967,P32787,Q04013  \n",
       "2  P06104,P06700,P22579,P25554,P25632,P25659,P313...  \n",
       "3  P04387,P06100,P06102,P06700,P06701,P06843,P119...  \n",
       "4  P15436,P22147,P26793,P31384,P32829,P38319,P390...  \n",
       "5  O13539,O14467,P04387,P06100,P06102,P06104,P062...  \n",
       "6  P06100,P06102,P06843,P06844,P07248,P07270,P073...  \n",
       "7  O13539,O14467,O94742,P04050,P04051,P04387,P061...  \n",
       "8  P06634,P06839,P07271,P0CX14,P10081,P12954,P154...  "
      ]
     },
     "execution_count": 30,
     "metadata": {},
     "output_type": "execute_result"
    }
   ],
   "source": [
    "df"
   ]
  },
  {
   "cell_type": "code",
   "execution_count": 101,
   "metadata": {
    "collapsed": true
   },
   "outputs": [],
   "source": [
    "def jaccard_index_ans_setA2B(ans_set1, ans_set2):\n",
    "    B = float(len(ans_set1.intersection(ans_set2)))\n",
    "    ABC = len(ans_set1.union(ans_set2))\n",
    "    try:\n",
    "        return B/ABC\n",
    "    except ZeroDivisionError:\n",
    "        return 0.0"
   ]
  },
  {
   "cell_type": "code",
   "execution_count": 59,
   "metadata": {
    "collapsed": false
   },
   "outputs": [
    {
     "name": "stdout",
     "output_type": "stream",
     "text": [
      "set(['P22082', 'P35817', 'P32597', 'P35177', 'Q03330', 'Q02206'])\n",
      "set(['Q04013', 'P20967', 'P32787'])\n"
     ]
    }
   ],
   "source": [
    "ans_study0 = set(df.loc[0, \"ANs_study\"].split(\",\"))\n",
    "ans_study1 = set(df.loc[1, \"ANs_study\"].split(\",\"))\n",
    "print ans_study0\n",
    "print ans_study1"
   ]
  },
  {
   "cell_type": "code",
   "execution_count": 102,
   "metadata": {
    "collapsed": false
   },
   "outputs": [
    {
     "data": {
      "text/plain": [
       "0.0"
      ]
     },
     "execution_count": 102,
     "metadata": {},
     "output_type": "execute_result"
    }
   ],
   "source": [
    "jaccard_index_ans_setA2B(ans_study0, ans_study1)"
   ]
  },
  {
   "cell_type": "code",
   "execution_count": 103,
   "metadata": {
    "collapsed": false
   },
   "outputs": [
    {
     "data": {
      "text/plain": [
       "1.0"
      ]
     },
     "execution_count": 103,
     "metadata": {},
     "output_type": "execute_result"
    }
   ],
   "source": [
    "ans_study = set(list('abc'))\n",
    "ans_pop = set(list('abc'))\n",
    "jaccard_index_ans_setA2B(ans_study, ans_pop)"
   ]
  },
  {
   "cell_type": "markdown",
   "metadata": {},
   "source": [
    "# Permutations/Combinations"
   ]
  },
  {
   "cell_type": "code",
   "execution_count": 60,
   "metadata": {
    "collapsed": true
   },
   "outputs": [],
   "source": [
    "import itertools"
   ]
  },
  {
   "cell_type": "code",
   "execution_count": 65,
   "metadata": {
    "collapsed": false
   },
   "outputs": [
    {
     "name": "stdout",
     "output_type": "stream",
     "text": [
      "(0, 1)\n",
      "(0, 2)\n",
      "(1, 2)\n"
     ]
    }
   ],
   "source": [
    "for combi in itertools.combinations(range(3), 2):\n",
    "    print combi"
   ]
  },
  {
   "cell_type": "code",
   "execution_count": 126,
   "metadata": {
    "collapsed": false
   },
   "outputs": [],
   "source": [
    "def write_JaccardIndexMatrix_old(df, fn_out):\n",
    "    index_list = df.index\n",
    "    with open(fn_out, 'w') as fh:\n",
    "        for combi in itertools.combinations(index_list, 2):\n",
    "            c1, c2 = combi\n",
    "            ans_set1 = set(df.loc[c1, \"ANs_study\"].split(\",\"))\n",
    "            ans_set2 = set(df.loc[c2, \"ANs_study\"].split(\",\"))            \n",
    "            ji = jaccard_index_ans_setA2B(ans_set1, ans_set2)\n",
    "            line2write = str(c1) + '\\t' + str(c2) + '\\t' + str(ji) + '\\n'\n",
    "            fh.write(line2write)"
   ]
  },
  {
   "cell_type": "code",
   "execution_count": 200,
   "metadata": {
    "collapsed": true
   },
   "outputs": [],
   "source": [
    "def write_JaccardIndexMatrix(df, fn_out):\n",
    "    \"\"\"\n",
    "    expects a DataFrame with a 'ANs_study' column,\n",
    "    calculates the Jaccard Index for all \n",
    "    combinations of AN sets.\n",
    "    :param df: DataFrame\n",
    "    :param fn_out: rawString\n",
    "    :return: None\n",
    "    \"\"\"\n",
    "    func = lambda x: set(x.split(\",\"))\n",
    "    df[\"ANs_study_set\"] = map(func, df[\"ANs_study\"])\n",
    "    index_of_col = df.columns.tolist().index(\"ANs_study_set\")\n",
    "    df_ans_study_set = df.values[:, index_of_col]\n",
    "    with open(fn_out, 'w') as fh:\n",
    "        for combi in itertools.combinations(df.index, 2):\n",
    "            c1, c2 = combi\n",
    "            ans_set1 = df_ans_study_set[c1]\n",
    "            ans_set2 = df_ans_study_set[c2]\n",
    "            ji = jaccard_index_ans_setA2B(ans_set1, ans_set2)\n",
    "            line2write = str(c1) + '\\t' + str(c2) + '\\t' + str(ji) + '\\n'\n",
    "            fh.write(line2write)"
   ]
  },
  {
   "cell_type": "code",
   "execution_count": 160,
   "metadata": {
    "collapsed": true
   },
   "outputs": [],
   "source": [
    "df_ans_study_set = df.values[:, 13]"
   ]
  },
  {
   "cell_type": "code",
   "execution_count": 167,
   "metadata": {
    "collapsed": false
   },
   "outputs": [
    {
     "data": {
      "text/plain": [
       "(305,)"
      ]
     },
     "execution_count": 167,
     "metadata": {},
     "output_type": "execute_result"
    }
   ],
   "source": [
    "df_ans_study_set.shape"
   ]
  },
  {
   "cell_type": "code",
   "execution_count": 127,
   "metadata": {
    "collapsed": true
   },
   "outputs": [],
   "source": [
    "fn = r'/Users/dblyon/modules/cpr/goterm/mcl/Yeast_Acetyl_vs_AbCorr_UPK.txt'\n",
    "fn_out = fn.replace('.txt', '_mcl_in.txt')\n",
    "df = pd.read_csv(fn, sep='\\t')\n",
    "write_JaccardIndexMatrix(df, fn_out)"
   ]
  },
  {
   "cell_type": "code",
   "execution_count": 137,
   "metadata": {
    "collapsed": false
   },
   "outputs": [],
   "source": [
    "func = lambda x: set(x.split(\",\"))\n",
    "df[\"ANs_study_set\"] = map(func, df[\"ANs_study\"])"
   ]
  },
  {
   "cell_type": "code",
   "execution_count": 201,
   "metadata": {
    "collapsed": false
   },
   "outputs": [
    {
     "name": "stdout",
     "output_type": "stream",
     "text": [
      "1 loops, best of 3: 488 ms per loop\n"
     ]
    }
   ],
   "source": [
    "%timeit write_JaccardIndexMatrix(df, fn_out)"
   ]
  },
  {
   "cell_type": "code",
   "execution_count": 112,
   "metadata": {
    "collapsed": false
   },
   "outputs": [],
   "source": [
    "for combi in itertools.combinations(index_list, 2):\n",
    "    c1, c2 = combi"
   ]
  },
  {
   "cell_type": "code",
   "execution_count": 117,
   "metadata": {
    "collapsed": false
   },
   "outputs": [],
   "source": [
    "#for index in index_list:\n",
    "#    print sorted(set(df.loc[index, \"ANs_study\"].split(\",\")))"
   ]
  },
  {
   "cell_type": "code",
   "execution_count": 89,
   "metadata": {
    "collapsed": false
   },
   "outputs": [],
   "source": [
    "import math\n",
    "f = math.factorial"
   ]
  },
  {
   "cell_type": "code",
   "execution_count": 125,
   "metadata": {
    "collapsed": false
   },
   "outputs": [
    {
     "data": {
      "text/plain": [
       "46360L"
      ]
     },
     "execution_count": 125,
     "metadata": {},
     "output_type": "execute_result"
    }
   ],
   "source": [
    "n = 305\n",
    "r = 2\n",
    "c = f(n)/(f(r) * f(n-r)) # combinations\n",
    "#p = f(n)/f(n-r) # permutations\n",
    "c"
   ]
  },
  {
   "cell_type": "code",
   "execution_count": 185,
   "metadata": {
    "collapsed": false
   },
   "outputs": [],
   "source": [
    "fn_mcl_out = r'mcl/Yeast_Acetyl_vs_AbCorr_UPK_mcl_out.txt'\n",
    "with open(fn_mcl_out, 'r') as fh:\n",
    "    cluster_list = []\n",
    "    for line in fh:\n",
    "        cluster_list.append(line.strip().split('\\t'))"
   ]
  },
  {
   "cell_type": "markdown",
   "metadata": {},
   "source": [
    "# Filter GO-basic results"
   ]
  },
  {
   "cell_type": "code",
   "execution_count": 1,
   "metadata": {
    "collapsed": false
   },
   "outputs": [
    {
     "name": "stdout",
     "output_type": "stream",
     "text": [
      "/Users/dblyon/modules/cpr/goterm/agotool/static/python\n"
     ]
    }
   ],
   "source": [
    "cd agotool/static/python/"
   ]
  },
  {
   "cell_type": "code",
   "execution_count": 2,
   "metadata": {
    "collapsed": false
   },
   "outputs": [],
   "source": [
    "import obo_parser\n",
    "fn = r'/Users/dblyon/modules/cpr/goterm/agotool/static/data/OBO/go-basic.obo'\n",
    "go_dag = obo_parser.GODag(obo_file=fn)"
   ]
  },
  {
   "cell_type": "code",
   "execution_count": 34,
   "metadata": {
    "collapsed": false
   },
   "outputs": [
    {
     "name": "stdout",
     "output_type": "stream",
     "text": [
      "True\n",
      "True\n",
      "True\n"
     ]
    }
   ],
   "source": [
    "#go_dag\n",
    "term = 'GO:0031326'\n",
    "parent = 'GO:0019222'\n",
    "child = 'GO:2001141'\n",
    "sister = 'GO:0010556'\n",
    "#go_dag[term].get_all_parents()\n",
    "print parent in go_lineage_dict[term]\n",
    "print child in go_lineage_dict[term]\n",
    "print sister not in go_lineage_dict[term]"
   ]
  },
  {
   "cell_type": "code",
   "execution_count": 17,
   "metadata": {
    "collapsed": false
   },
   "outputs": [
    {
     "data": {
      "text/plain": [
       "44951"
      ]
     },
     "execution_count": 17,
     "metadata": {},
     "output_type": "execute_result"
    }
   ],
   "source": [
    "len(go_dag)"
   ]
  },
  {
   "cell_type": "code",
   "execution_count": 31,
   "metadata": {
    "collapsed": false
   },
   "outputs": [],
   "source": [
    "go_lineage_dict = {}\n",
    "# key=GO-term, val=set of GO-terms\n",
    "for go_term_name in go_dag:\n",
    "    GOTerm_instance = go_dag[go_term_name]\n",
    "    go_lineage_dict[go_term_name] = GOTerm_instance.get_all_parents().union(GOTerm_instance.get_all_children())"
   ]
  },
  {
   "cell_type": "code",
   "execution_count": 86,
   "metadata": {
    "collapsed": false
   },
   "outputs": [],
   "source": [
    "import pandas as pd\n",
    "fn=r'/Users/dblyon/modules/cpr/goterm/agotool/static/data/mcl/HeLa_Acetyl_vs_AbCorr.txt'\n",
    "df = pd.read_csv(fn, sep='\\t')"
   ]
  },
  {
   "cell_type": "code",
   "execution_count": 40,
   "metadata": {
    "collapsed": false
   },
   "outputs": [],
   "source": [
    "results = []\n",
    "with open(fn, 'r') as fh:\n",
    "    for line in fh:\n",
    "        results.append(line.strip().split('\\t'))\n",
    "header = results[0]\n",
    "results = results[1:]        "
   ]
  },
  {
   "cell_type": "code",
   "execution_count": 42,
   "metadata": {
    "collapsed": false
   },
   "outputs": [],
   "source": [
    "header = results[0]\n",
    "results = results[1:]"
   ]
  },
  {
   "cell_type": "code",
   "execution_count": 45,
   "metadata": {
    "collapsed": false
   },
   "outputs": [],
   "source": [
    "index_p = header.index('p_uncorrected')"
   ]
  },
  {
   "cell_type": "code",
   "execution_count": 46,
   "metadata": {
    "collapsed": false
   },
   "outputs": [
    {
     "data": {
      "text/plain": [
       "'0.125'"
      ]
     },
     "execution_count": 46,
     "metadata": {},
     "output_type": "execute_result"
    }
   ],
   "source": [
    "results[1][index_p]"
   ]
  },
  {
   "cell_type": "code",
   "execution_count": 48,
   "metadata": {
    "collapsed": false
   },
   "outputs": [
    {
     "name": "stdout",
     "output_type": "stream",
     "text": [
      "['id', 'enrichment', 'perc_enrichment_study', 'perc_enrichment_pop', 'fold_enrichment_study2pop', 'study_count', 'study_n', 'pop_count', 'pop_n', 'description', 'p_uncorrected', 'p_bonferroni', 'p_holm', 'p_sidak', 'ANs_study', 'ANs_pop', 'p_fdr']\n",
      "['......GO:0043982', 'e', '0.4', '0.1', '6.00', '6', '1663', '1', '1663', 'histone H4-K8 acetylation', '0.125', '1.1e+03', '1.07e+03', '1.07e+03', 'O15294,O95251,Q96EZ8,Q9BVI0,Q9H7Z6,Q9HAF1', 'O15294,O95251,P51610,P61964,Q7Z3B3,Q96EZ8,Q9BVI0,Q9H7Z6,Q9HAF1,Q9P2N6', 'n.a.']\n"
     ]
    }
   ],
   "source": [
    "print header\n",
    "print results[1]"
   ]
  },
  {
   "cell_type": "code",
   "execution_count": 57,
   "metadata": {
    "collapsed": false
   },
   "outputs": [],
   "source": [
    "results.sort(key=lambda x: x[index_p])"
   ]
  },
  {
   "cell_type": "code",
   "execution_count": 80,
   "metadata": {
    "collapsed": false
   },
   "outputs": [],
   "source": [
    "indent = True\n",
    "results_filtered = []\n",
    "blacklist = set([\"GO:0008150\", \"GO:0005575\", \"GO:0003674\"])\n",
    "# {\"BP\": \"GO:0008150\", \"CP\": \"GO:0005575\", \"MF\": \"GO:0003674\"}\n",
    "index_p = header.index('p_uncorrected')\n",
    "index_go = header.index('id') \n",
    "results.sort(key=lambda x: x[index_p])\n",
    "for res in results:\n",
    "    if indent:\n",
    "        dot_goterm = res[index_go]\n",
    "        goterm = dot_goterm[dot_goterm.find(\"GO:\"):]\n",
    "        if not goterm in blacklist:\n",
    "            results_filtered.append(res)\n",
    "            blacklist = blacklist.union(go_lineage_dict[goterm])\n",
    "    else:\n",
    "        if not res[index_go] in blacklist:\n",
    "            results_filtered.append(res)\n",
    "            blacklist = blacklist.union(go_lineage_dict[res[index_go]])"
   ]
  },
  {
   "cell_type": "code",
   "execution_count": 84,
   "metadata": {
    "collapsed": false
   },
   "outputs": [
    {
     "name": "stdout",
     "output_type": "stream",
     "text": [
      "1638 8825\n",
      "0.185609065156\n"
     ]
    }
   ],
   "source": [
    "print len(results_filtered), len(results)\n",
    "print float(len(results_filtered)) /len(results)"
   ]
  },
  {
   "cell_type": "code",
   "execution_count": 88,
   "metadata": {
    "collapsed": false
   },
   "outputs": [
    {
     "data": {
      "text/plain": [
       "Index([u'id', u'enrichment', u'perc_enrichment_study', u'perc_enrichment_pop',\n",
       "       u'fold_enrichment_study2pop', u'study_count', u'study_n', u'pop_count',\n",
       "       u'pop_n', u'description', u'p_uncorrected', u'p_bonferroni', u'p_holm',\n",
       "       u'p_sidak', u'ANs_study', u'ANs_pop', u'p_fdr'],\n",
       "      dtype='object')"
      ]
     },
     "execution_count": 88,
     "metadata": {},
     "output_type": "execute_result"
    }
   ],
   "source": [
    "df.columns"
   ]
  },
  {
   "cell_type": "code",
   "execution_count": 91,
   "metadata": {
    "collapsed": false
   },
   "outputs": [],
   "source": [
    "dfn = df[[u'id', u'p_uncorrected']]\n",
    "dfn = dfn.sort('p_uncorrected')"
   ]
  },
  {
   "cell_type": "code",
   "execution_count": 93,
   "metadata": {
    "collapsed": false
   },
   "outputs": [],
   "source": [
    "fn_out_indent = r'/Users/dblyon/modules/cpr/goterm/agotool/static/python/test/Results_TestFilter_indent.txt'\n",
    "dfn.to_csv(fn_out_indent, sep='\\t', index=False, header=True)"
   ]
  },
  {
   "cell_type": "code",
   "execution_count": 94,
   "metadata": {
    "collapsed": true
   },
   "outputs": [],
   "source": [
    "fn_out_NoIndent = r'/Users/dblyon/modules/cpr/goterm/agotool/static/python/test/Results_TestFilter_NoIndent.txt'"
   ]
  },
  {
   "cell_type": "code",
   "execution_count": 98,
   "metadata": {
    "collapsed": true
   },
   "outputs": [],
   "source": [
    "func = lambda x: x[x.find(\"GO:\"):]\n",
    "dfn[\"id\"] = map(func, dfn[\"id\"])"
   ]
  },
  {
   "cell_type": "code",
   "execution_count": 101,
   "metadata": {
    "collapsed": false
   },
   "outputs": [],
   "source": [
    "dfn.to_csv(fn_out_NoIndent, sep='\\t', index=False, header=True)"
   ]
  },
  {
   "cell_type": "code",
   "execution_count": 102,
   "metadata": {
    "collapsed": true
   },
   "outputs": [],
   "source": [
    "import os"
   ]
  },
  {
   "cell_type": "code",
   "execution_count": 104,
   "metadata": {
    "collapsed": false
   },
   "outputs": [
    {
     "data": {
      "text/plain": [
       "['__init__.py',\n",
       " 'Results_TestFilter_ABC.txt',\n",
       " 'Results_TestFilter_ABC_after.txt',\n",
       " 'Results_TestFilter_CAB.txt',\n",
       " 'Results_TestFilter_CAB_after.txt',\n",
       " 'Results_TestFilter_CBA.txt',\n",
       " 'Results_TestFilter_CBA_after.txt',\n",
       " 'Results_TestFilter_indent.txt',\n",
       " 'Results_TestFilter_indent_after.txt',\n",
       " 'Results_TestFilter_NoIndent.txt',\n",
       " 'Results_TestFilter_NoIndent_after.txt',\n",
       " 'test_filter.py']"
      ]
     },
     "execution_count": 104,
     "metadata": {},
     "output_type": "execute_result"
    }
   ],
   "source": [
    "os.listdir(r'/Users/dblyon/modules/cpr/goterm/agotool/static/python/test/')"
   ]
  },
  {
   "cell_type": "code",
   "execution_count": 107,
   "metadata": {
    "collapsed": true
   },
   "outputs": [],
   "source": [
    "l = ['1.23e-10', '1.23e-09', '123.4', '1.1']"
   ]
  },
  {
   "cell_type": "code",
   "execution_count": 119,
   "metadata": {
    "collapsed": false
   },
   "outputs": [],
   "source": [
    "results = [['....GO:0044425', '1.23e-08', '# parent'], ['....GO:0031360', '1.23e-11', '# sibling'], ['.....GO:0031326', '5.33e-05', '# term'],\n",
    " ['...GO:0019222', '0.00324', '# parent'], ['......GO:2001141', '5.46e-05', '# child'], ['.....GO:0010556', '0.000122', '# sister'], \n",
    " ['GO:0008150', '0.00141', '# blacklist BP'], ['GO:0005575', '0.00453', '# blacklist CP'], \n",
    " ['GO:0003674', '0.000145', '# blacklist MF'], ['...GO:0044281', '0.33', '# A'],\n",
    " ['......GO:0046395', '0.32', '# B'], ['.......GO:0006101', '0.31', '# C'],\n",
    "          ['...GO:0016021', '1.23e-10', '# term'], ['....GO:0031361', '1.23e-09', '# child'], ['....GO:0031224', '1.23e-08', '# parent']]"
   ]
  },
  {
   "cell_type": "code",
   "execution_count": 120,
   "metadata": {
    "collapsed": false
   },
   "outputs": [
    {
     "data": {
      "text/plain": [
       "[['....GO:0044425', '1.23e-08', '# parent'],\n",
       " ['....GO:0031360', '1.23e-11', '# sibling'],\n",
       " ['.....GO:0031326', '5.33e-05', '# term'],\n",
       " ['...GO:0019222', '0.00324', '# parent'],\n",
       " ['......GO:2001141', '5.46e-05', '# child'],\n",
       " ['.....GO:0010556', '0.000122', '# sister'],\n",
       " ['GO:0008150', '0.00141', '# blacklist BP'],\n",
       " ['GO:0005575', '0.00453', '# blacklist CP'],\n",
       " ['GO:0003674', '0.000145', '# blacklist MF'],\n",
       " ['...GO:0044281', '0.33', '# A'],\n",
       " ['......GO:0046395', '0.32', '# B'],\n",
       " ['.......GO:0006101', '0.31', '# C'],\n",
       " ['...GO:0016021', '1.23e-10', '# term'],\n",
       " ['....GO:0031361', '1.23e-09', '# child'],\n",
       " ['....GO:0031224', '1.23e-08', '# parent']]"
      ]
     },
     "execution_count": 120,
     "metadata": {},
     "output_type": "execute_result"
    }
   ],
   "source": [
    "results"
   ]
  },
  {
   "cell_type": "code",
   "execution_count": 123,
   "metadata": {
    "collapsed": false
   },
   "outputs": [
    {
     "data": {
      "text/plain": [
       "[['....GO:0031360', '1.23e-11', '# sibling'],\n",
       " ['...GO:0016021', '1.23e-10', '# term'],\n",
       " ['....GO:0031361', '1.23e-09', '# child'],\n",
       " ['....GO:0044425', '1.23e-08', '# parent'],\n",
       " ['....GO:0031224', '1.23e-08', '# parent'],\n",
       " ['.....GO:0031326', '5.33e-05', '# term'],\n",
       " ['......GO:2001141', '5.46e-05', '# child'],\n",
       " ['.....GO:0010556', '0.000122', '# sister'],\n",
       " ['GO:0003674', '0.000145', '# blacklist MF'],\n",
       " ['GO:0008150', '0.00141', '# blacklist BP'],\n",
       " ['...GO:0019222', '0.00324', '# parent'],\n",
       " ['GO:0005575', '0.00453', '# blacklist CP'],\n",
       " ['.......GO:0006101', '0.31', '# C'],\n",
       " ['......GO:0046395', '0.32', '# B'],\n",
       " ['...GO:0044281', '0.33', '# A']]"
      ]
     },
     "execution_count": 123,
     "metadata": {},
     "output_type": "execute_result"
    }
   ],
   "source": [
    "results.sort(key=lambda x: float(x[1]))\n",
    "results"
   ]
  },
  {
   "cell_type": "markdown",
   "metadata": {},
   "source": [
    "# get GO-terms from AN"
   ]
  },
  {
   "cell_type": "code",
   "execution_count": 3,
   "metadata": {
    "collapsed": false
   },
   "outputs": [
    {
     "name": "stderr",
     "output_type": "stream",
     "text": [
      "load obo file /Users/dblyon/modules/cpr/goterm/agotool/static/data/OBO/go-basic.obo\n",
      "44951 nodes imported\n"
     ]
    }
   ],
   "source": [
    "import obo_parser, go_retriever\n",
    "fn = r'/Users/dblyon/modules/cpr/goterm/agotool/static/data/OBO/go-basic.obo'\n",
    "go_dag = obo_parser.GODag(obo_file=fn)\n",
    "goa_ref_fn = r'/Users/dblyon/modules/cpr/goterm/agotool/static/data/GOA/gene_association.goa_yeast'\n",
    "go_parent = 'all_GO'\n",
    "assoc_dict = go_retriever.Parser_UniProt_goa_ref(goa_ref_fn).get_association_dict(go_parent, go_dag)"
   ]
  },
  {
   "cell_type": "code",
   "execution_count": 6,
   "metadata": {
    "collapsed": true
   },
   "outputs": [],
   "source": [
    "assoc_dict_backtracking = go_retriever.Parser_UniProt_goa_ref(goa_ref_fn).get_association_dict(go_parent, go_dag)\n",
    "go_dag.update_association(assoc_dict_backtracking)"
   ]
  },
  {
   "cell_type": "code",
   "execution_count": 2,
   "metadata": {
    "collapsed": false
   },
   "outputs": [
    {
     "name": "stdout",
     "output_type": "stream",
     "text": [
      "/Users/dblyon/modules/cpr/goterm/agotool/static/python\n"
     ]
    }
   ],
   "source": [
    "cd agotool/static/python/"
   ]
  },
  {
   "cell_type": "code",
   "execution_count": 8,
   "metadata": {
    "collapsed": true
   },
   "outputs": [],
   "source": [
    "an = 'P53073'"
   ]
  },
  {
   "cell_type": "code",
   "execution_count": 9,
   "metadata": {
    "collapsed": false
   },
   "outputs": [
    {
     "data": {
      "text/plain": [
       "['GO:0003674', 'GO:0034975', 'GO:0072546']"
      ]
     },
     "execution_count": 9,
     "metadata": {},
     "output_type": "execute_result"
    }
   ],
   "source": [
    "sorted(assoc_dict[an])"
   ]
  },
  {
   "cell_type": "code",
   "execution_count": 10,
   "metadata": {
    "collapsed": false
   },
   "outputs": [
    {
     "data": {
      "text/plain": [
       "['GO:0003674',\n",
       " 'GO:0005575',\n",
       " 'GO:0006457',\n",
       " 'GO:0008150',\n",
       " 'GO:0008152',\n",
       " 'GO:0009987',\n",
       " 'GO:0019538',\n",
       " 'GO:0032991',\n",
       " 'GO:0034975',\n",
       " 'GO:0043170',\n",
       " 'GO:0043234',\n",
       " 'GO:0044237',\n",
       " 'GO:0044238',\n",
       " 'GO:0044260',\n",
       " 'GO:0044267',\n",
       " 'GO:0044422',\n",
       " 'GO:0044424',\n",
       " 'GO:0044425',\n",
       " 'GO:0044432',\n",
       " 'GO:0044444',\n",
       " 'GO:0044446',\n",
       " 'GO:0044464',\n",
       " 'GO:0071704',\n",
       " 'GO:0072546',\n",
       " 'GO:0098796']"
      ]
     },
     "execution_count": 10,
     "metadata": {},
     "output_type": "execute_result"
    }
   ],
   "source": [
    "sorted(assoc_dict_backtracking[an])"
   ]
  },
  {
   "cell_type": "code",
   "execution_count": null,
   "metadata": {
    "collapsed": true
   },
   "outputs": [],
   "source": []
  }
 ],
 "metadata": {
  "kernelspec": {
   "display_name": "Python 2",
   "language": "python",
   "name": "python2"
  },
  "language_info": {
   "codemirror_mode": {
    "name": "ipython",
    "version": 2
   },
   "file_extension": ".py",
   "mimetype": "text/x-python",
   "name": "python",
   "nbconvert_exporter": "python",
   "pygments_lexer": "ipython2",
   "version": "2.7.6"
  }
 },
 "nbformat": 4,
 "nbformat_minor": 0
}
