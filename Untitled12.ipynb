{
 "cells": [
  {
   "cell_type": "code",
   "execution_count": 1,
   "metadata": {
    "collapsed": false
   },
   "outputs": [
    {
     "name": "stderr",
     "output_type": "stream",
     "text": [
      "load obo file /Users/dblyon/modules/cpr/goterm/agotool/static/data/OBO/go-basic.obo\n",
      "44951"
     ]
    },
    {
     "name": "stdout",
     "output_type": "stream",
     "text": [
      "('Yeast_Acetyl_vs_Observed.txt', 'Acetyl', 'Observed')\n",
      "('Yeast_Acetyl_vs_Genome.txt', 'Acetyl', 'Genome')"
     ]
    },
    {
     "name": "stderr",
     "output_type": "stream",
     "text": [
      " nodes imported\n",
      "load obo file /Users/dblyon/modules/cpr/goterm/agotool/static/data/OBO/go-basic.obo\n",
      "44951"
     ]
    },
    {
     "name": "stdout",
     "output_type": "stream",
     "text": [
      "\n",
      "('Yeast_Acetyl_vs_AbCorr.txt', 'Acetyl', 'AbCorr')"
     ]
    },
    {
     "name": "stderr",
     "output_type": "stream",
     "text": [
      " nodes imported\n",
      "load obo file /Users/dblyon/modules/cpr/goterm/agotool/static/data/OBO/go-basic.obo\n",
      "44951"
     ]
    },
    {
     "name": "stdout",
     "output_type": "stream",
     "text": [
      "\n",
      "('Yeast_Phos_vs_Observed.txt', 'Phos', 'Observed')"
     ]
    },
    {
     "name": "stderr",
     "output_type": "stream",
     "text": [
      " nodes imported\n",
      "load obo file /Users/dblyon/modules/cpr/goterm/agotool/static/data/OBO/go-basic.obo\n",
      "44951"
     ]
    },
    {
     "name": "stdout",
     "output_type": "stream",
     "text": [
      "\n",
      "('Yeast_Phos_vs_Genome.txt', 'Phos', 'Genome')"
     ]
    },
    {
     "name": "stderr",
     "output_type": "stream",
     "text": [
      " nodes imported\n",
      "load obo file /Users/dblyon/modules/cpr/goterm/agotool/static/data/OBO/go-basic.obo\n",
      "44951"
     ]
    },
    {
     "name": "stdout",
     "output_type": "stream",
     "text": [
      "\n",
      "('Yeast_Phos_vs_AbCorr.txt', 'Phos', 'AbCorr')"
     ]
    },
    {
     "name": "stderr",
     "output_type": "stream",
     "text": [
      " nodes imported\n",
      "load obo file /Users/dblyon/modules/cpr/goterm/agotool/static/data/OBO/go-basic.obo\n",
      "44951"
     ]
    },
    {
     "name": "stdout",
     "output_type": "stream",
     "text": [
      "\n",
      "('Yeast_Ubi_vs_Observed.txt', 'Ubi', 'Observed')"
     ]
    },
    {
     "name": "stderr",
     "output_type": "stream",
     "text": [
      " nodes imported\n",
      "load obo file /Users/dblyon/modules/cpr/goterm/agotool/static/data/OBO/go-basic.obo\n",
      "44951"
     ]
    },
    {
     "name": "stdout",
     "output_type": "stream",
     "text": [
      "\n",
      "('Yeast_Ubi_vs_Genome.txt', 'Ubi', 'Genome')"
     ]
    },
    {
     "name": "stderr",
     "output_type": "stream",
     "text": [
      " nodes imported\n",
      "load obo file /Users/dblyon/modules/cpr/goterm/agotool/static/data/OBO/go-basic.obo\n",
      "44951"
     ]
    },
    {
     "name": "stdout",
     "output_type": "stream",
     "text": [
      "\n",
      "('Yeast_Ubi_vs_AbCorr.txt', 'Ubi', 'AbCorr')"
     ]
    },
    {
     "name": "stderr",
     "output_type": "stream",
     "text": [
      " nodes imported\n",
      "load obo file /Users/dblyon/modules/cpr/goterm/agotool/static/data/OBO/go-basic.obo\n",
      "44951"
     ]
    },
    {
     "name": "stdout",
     "output_type": "stream",
     "text": [
      "\n",
      "('Yeast_Succinyl_vs_Observed.txt', 'Succinyl', 'Observed')"
     ]
    },
    {
     "name": "stderr",
     "output_type": "stream",
     "text": [
      " nodes imported\n",
      "load obo file /Users/dblyon/modules/cpr/goterm/agotool/static/data/OBO/go-basic.obo\n",
      "44951"
     ]
    },
    {
     "name": "stdout",
     "output_type": "stream",
     "text": [
      "\n",
      "('Yeast_Succinyl_vs_Genome.txt', 'Succinyl', 'Genome')"
     ]
    },
    {
     "name": "stderr",
     "output_type": "stream",
     "text": [
      " nodes imported\n",
      "load obo file /Users/dblyon/modules/cpr/goterm/agotool/static/data/OBO/go-basic.obo\n",
      "44951"
     ]
    },
    {
     "name": "stdout",
     "output_type": "stream",
     "text": [
      "\n",
      "('Yeast_Succinyl_vs_AbCorr.txt', 'Succinyl', 'AbCorr')"
     ]
    },
    {
     "name": "stderr",
     "output_type": "stream",
     "text": [
      " nodes imported\n",
      "load obo file /Users/dblyon/modules/cpr/goterm/agotool/static/data/OBO/go-basic.obo\n",
      "44951"
     ]
    },
    {
     "name": "stdout",
     "output_type": "stream",
     "text": [
      "\n"
     ]
    },
    {
     "name": "stderr",
     "output_type": "stream",
     "text": [
      " nodes imported\n"
     ]
    }
   ],
   "source": [
    "%run gotupk"
   ]
  },
  {
   "cell_type": "code",
   "execution_count": null,
   "metadata": {
    "collapsed": true
   },
   "outputs": [],
   "source": []
  }
 ],
 "metadata": {
  "kernelspec": {
   "display_name": "Python 2",
   "language": "python",
   "name": "python2"
  },
  "language_info": {
   "codemirror_mode": {
    "name": "ipython",
    "version": 2
   },
   "file_extension": ".py",
   "mimetype": "text/x-python",
   "name": "python",
   "nbconvert_exporter": "python",
   "pygments_lexer": "ipython2",
   "version": "2.7.6"
  }
 },
 "nbformat": 4,
 "nbformat_minor": 0
}
