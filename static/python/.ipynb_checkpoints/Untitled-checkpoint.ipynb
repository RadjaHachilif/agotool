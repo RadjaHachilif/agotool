{
 "cells": [
  {
   "cell_type": "code",
   "execution_count": 1,
   "metadata": {
    "collapsed": true
   },
   "outputs": [],
   "source": [
    "import pandas as pd"
   ]
  },
  {
   "cell_type": "code",
   "execution_count": 3,
   "metadata": {
    "collapsed": false
   },
   "outputs": [
    {
     "data": {
      "text/plain": [
       "<module 'userinput' from 'userinput.pyc'>"
      ]
     },
     "execution_count": 3,
     "metadata": {},
     "output_type": "execute_result"
    }
   ],
   "source": [
    "reload(userinput)"
   ]
  },
  {
   "cell_type": "code",
   "execution_count": 4,
   "metadata": {
    "collapsed": false
   },
   "outputs": [],
   "source": [
    "import userinput\n",
    "fn = r\"/Users/dblyon/Downloads/Data for agotool 2017-01-30.txt\"\n",
    "import db_config\n",
    "import io\n",
    "import tools\n",
    "ECHO = False\n",
    "TESTING = False\n",
    "DO_LOGGING = False\n",
    "connection = db_config.Connect(echo=ECHO, testing=TESTING, do_logging=DO_LOGGING)\n",
    "\n",
    "\n",
    "fn = io.open(fn, mode='r')\n",
    "ui = userinput.Userinput(fn=fn, foreground_string=None,\n",
    "    background_string=None, col_foreground='foreground',\n",
    "    col_background='background', col_intensity='intensity',\n",
    "    num_bins=100, decimal='.', method=\"abundance_correction\", connection=connection)"
   ]
  },
  {
   "cell_type": "code",
   "execution_count": 5,
   "metadata": {
    "collapsed": false
   },
   "outputs": [
    {
     "data": {
      "text/plain": [
       "2375"
      ]
     },
     "execution_count": 5,
     "metadata": {},
     "output_type": "execute_result"
    }
   ],
   "source": [
    "ans_list = ui.get_all_unique_ANs()\n",
    "len(ans_list)"
   ]
  },
  {
   "cell_type": "code",
   "execution_count": 7,
   "metadata": {
    "collapsed": true
   },
   "outputs": [],
   "source": [
    "def reduce_UniProtKeywordsALL_2_ans_list(fn_keywords, ans_list, fn_out):\n",
    "    ans_set = set(ans_list)\n",
    "    with open(fn_keywords, \"r\") as fh_in:\n",
    "        with open(fn_out, \"w\") as fh_out:\n",
    "            header = \"Entry\\tKeywords\\n\"\n",
    "            fh_out.write(header)\n",
    "            for line in fh_in:\n",
    "                an = line.split(\"\\t\")[0]\n",
    "                if an in ans_set:\n",
    "                    fh_out.write(line)"
   ]
  },
  {
   "cell_type": "code",
   "execution_count": 8,
   "metadata": {
    "collapsed": true
   },
   "outputs": [],
   "source": [
    "fn_keywords = r\"/Users/dblyon/Downloads/uniprot-all.tab\"\n",
    "fn_out = r\"/Users/dblyon/modules/cpr/metaprot/sql/downloads/keywords_temp.upk\"\n",
    "reduce_UniProtKeywordsALL_2_ans_list(fn_keywords, ans_list, fn_out)"
   ]
  },
  {
   "cell_type": "code",
   "execution_count": 10,
   "metadata": {
    "collapsed": false
   },
   "outputs": [],
   "source": [
    "ui.background_n"
   ]
  },
  {
   "cell_type": "code",
   "execution_count": 15,
   "metadata": {
    "collapsed": false
   },
   "outputs": [
    {
     "data": {
      "text/plain": [
       "(1803, 1803)"
      ]
     },
     "execution_count": 15,
     "metadata": {},
     "output_type": "execute_result"
    }
   ],
   "source": [
    "ui.get_background_n(), ui.get_foreground_n()"
   ]
  },
  {
   "cell_type": "code",
   "execution_count": 18,
   "metadata": {
    "collapsed": false
   },
   "outputs": [
    {
     "data": {
      "text/plain": [
       "1803"
      ]
     },
     "execution_count": 18,
     "metadata": {},
     "output_type": "execute_result"
    }
   ],
   "source": [
    "len(ui.foreground[\"foreground\"].unique())"
   ]
  },
  {
   "cell_type": "code",
   "execution_count": 7,
   "metadata": {
    "collapsed": false
   },
   "outputs": [
    {
     "name": "stdout",
     "output_type": "stream",
     "text": [
      "[ -2.82264587e+07   2.84369436e+08   5.68547523e+08] [  2.78496438e+10   2.81338219e+10   2.84180000e+10]\n"
     ]
    }
   ],
   "source": [
    "DEFAULT_MISSING_BIN = -1\n",
    "cond = ui.foreground[\"intensity\"] > DEFAULT_MISSING_BIN\n",
    "bins = pd.cut(ui.foreground.loc[cond, \"intensity\"], bins=ui.num_bins, retbins=True, include_lowest=True)[1]\n",
    "print bins[:3], bins[-3:] # [ -2.82264587e+07   2.84369436e+08   5.68547523e+08] [  2.78496438e+10   2.81338219e+10   2.84180000e+10]\n",
    "# bins = [DEFAULT_MISSING_BIN + 1] + list(bins)\n",
    "# print(self.foreground.head())\n",
    "# groups_fg = self.foreground.groupby(pd.cut(self.foreground[\"intensity\"], bins=bins))\n",
    "# groups_bg = self.background.groupby(pd.cut(self.background[self.col_intensity], bins=bins))"
   ]
  },
  {
   "cell_type": "code",
   "execution_count": 8,
   "metadata": {
    "collapsed": false
   },
   "outputs": [
    {
     "data": {
      "text/plain": [
       "-28226458"
      ]
     },
     "execution_count": 8,
     "metadata": {},
     "output_type": "execute_result"
    }
   ],
   "source": [
    "int(-2.82264587e+07)"
   ]
  },
  {
   "cell_type": "code",
   "execution_count": 9,
   "metadata": {
    "collapsed": false
   },
   "outputs": [],
   "source": [
    "groups_fg = ui.foreground.groupby(pd.cut(ui.foreground[\"intensity\"], bins=bins))"
   ]
  },
  {
   "cell_type": "code",
   "execution_count": 48,
   "metadata": {
    "collapsed": false
   },
   "outputs": [],
   "source": [
    "ui.foreground.sort_values(\"intensity\", ascending=True, inplace=True)"
   ]
  },
  {
   "cell_type": "code",
   "execution_count": 50,
   "metadata": {
    "collapsed": false
   },
   "outputs": [
    {
     "data": {
      "text/plain": [
       "28418000000.0"
      ]
     },
     "execution_count": 50,
     "metadata": {},
     "output_type": "execute_result"
    }
   ],
   "source": [
    "ui.foreground[\"intensity\"].max()"
   ]
  },
  {
   "cell_type": "code",
   "execution_count": 11,
   "metadata": {
    "collapsed": true
   },
   "outputs": [],
   "source": [
    "import tools\n",
    "gocat_upk, function_type, limit_2_parent = \"UPK\", \"UPK\", None"
   ]
  },
  {
   "cell_type": "code",
   "execution_count": 17,
   "metadata": {
    "collapsed": false
   },
   "outputs": [],
   "source": [
    "# protein_ans_list = ui.get_all_unique_ANs()\n",
    "protein_ans_list = [\"P00359\", \"P38701\"]"
   ]
  },
  {
   "cell_type": "code",
   "execution_count": 18,
   "metadata": {
    "collapsed": true
   },
   "outputs": [],
   "source": [
    "go_slim_or_basic = \"basic\"\n",
    "backtracking = True\n",
    "assoc_dict = tools.get_association_dict(connection, protein_ans_list, function_type, limit_2_parent=limit_2_parent, basic_or_slim=go_slim_or_basic, backtracking=backtracking)"
   ]
  },
  {
   "cell_type": "code",
   "execution_count": 19,
   "metadata": {
    "collapsed": false
   },
   "outputs": [
    {
     "data": {
      "text/plain": [
       "defaultdict(<function tools.<lambda>>,\n",
       "            {u'P00359': {u'UPK:0002',\n",
       "              u'UPK:0181',\n",
       "              u'UPK:0324',\n",
       "              u'UPK:0560',\n",
       "              u'UPK:0597',\n",
       "              u'UPK:0832',\n",
       "              u'UPK:0903',\n",
       "              u'UPK:0963',\n",
       "              u'UPK:1017',\n",
       "              u'UPK:1185',\n",
       "              u'UPK:9990',\n",
       "              u'UPK:9991',\n",
       "              u'UPK:9992',\n",
       "              u'UPK:9993',\n",
       "              u'UPK:9998',\n",
       "              u'UPK:9999'},\n",
       "             u'P38701': {u'UPK:0002',\n",
       "              u'UPK:0181',\n",
       "              u'UPK:0687',\n",
       "              u'UPK:0689',\n",
       "              u'UPK:0832',\n",
       "              u'UPK:0903',\n",
       "              u'UPK:0963',\n",
       "              u'UPK:1017',\n",
       "              u'UPK:1185',\n",
       "              u'UPK:9990',\n",
       "              u'UPK:9991',\n",
       "              u'UPK:9992',\n",
       "              u'UPK:9998'}})"
      ]
     },
     "execution_count": 19,
     "metadata": {},
     "output_type": "execute_result"
    }
   ],
   "source": [
    "assoc_dict"
   ]
  },
  {
   "cell_type": "code",
   "execution_count": 26,
   "metadata": {
    "collapsed": true
   },
   "outputs": [],
   "source": [
    "import requests"
   ]
  },
  {
   "cell_type": "code",
   "execution_count": 27,
   "metadata": {
    "collapsed": true
   },
   "outputs": [],
   "source": [
    "def download_file(url, fn_out):\n",
    "    \"\"\"\n",
    "    only works for http not ftp\n",
    "    \"\"\"\n",
    "    r = requests.get(url, stream=True)\n",
    "    with open(fn_out, 'wb') as f:\n",
    "        for chunk in r.iter_content(chunk_size=1024):\n",
    "            if chunk:  # filter out keep-alive new chunks\n",
    "                f.write(chunk)"
   ]
  },
  {
   "cell_type": "code",
   "execution_count": 28,
   "metadata": {
    "collapsed": false
   },
   "outputs": [
    {
     "name": "stdout",
     "output_type": "stream",
     "text": [
      "http://www.uniprot.org/uniprot/?columns=id,keywords&format=tab\n",
      "Downloaded to: /Users/dblyon/modules/cpr/metaprot/sql/downloads/ALL.upk\n",
      "\n"
     ]
    }
   ],
   "source": [
    "import os\n",
    "url = r\"http://www.uniprot.org/uniprot/?columns=id,keywords&format=tab\"\n",
    "DOWNLOADS_DIR = r\"/Users/dblyon/modules/cpr/metaprot/sql/downloads\"\n",
    "file_name = os.path.join(DOWNLOADS_DIR, 'ALL.upk')\n",
    "tmp_f = os.path.join(DOWNLOADS_DIR, 'keywords.tmp')\n",
    "print('%s\\nDownloaded to: %s\\n' % (url, file_name))\n",
    "download_file(url, tmp_f)\n",
    "os.rename(tmp_f, file_name)"
   ]
  },
  {
   "cell_type": "code",
   "execution_count": null,
   "metadata": {
    "collapsed": true
   },
   "outputs": [],
   "source": [
    "http://www.uniprot.org/uniprot/?query=9606:%i&columns=id,keywords_id&format=tab"
   ]
  },
  {
   "cell_type": "code",
   "execution_count": null,
   "metadata": {
    "collapsed": true
   },
   "outputs": [],
   "source": [
    "#!/usr/local/bin/python\n",
    "python /Users/dblyon/modules/cpr/metaprot/sql/create_SQL_tables.py\n",
    "python /Users/dblyon/modules/cpr/metaprot/sql/models.py"
   ]
  },
  {
   "cell_type": "code",
   "execution_count": null,
   "metadata": {
    "collapsed": true
   },
   "outputs": [],
   "source": []
  }
 ],
 "metadata": {
  "kernelspec": {
   "display_name": "Python 2",
   "language": "python",
   "name": "python2"
  },
  "language_info": {
   "codemirror_mode": {
    "name": "ipython",
    "version": 2
   },
   "file_extension": ".py",
   "mimetype": "text/x-python",
   "name": "python",
   "nbconvert_exporter": "python",
   "pygments_lexer": "ipython2",
   "version": "2.7.13"
  }
 },
 "nbformat": 4,
 "nbformat_minor": 2
}
