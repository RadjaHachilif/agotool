{
 "cells": [
  {
   "cell_type": "code",
   "execution_count": 44,
   "metadata": {
    "collapsed": true
   },
   "outputs": [],
   "source": [
    "# checking duplicate values"
   ]
  },
  {
   "cell_type": "code",
   "execution_count": 109,
   "metadata": {
    "collapsed": true
   },
   "outputs": [],
   "source": [
    "import pandas as pd"
   ]
  },
  {
   "cell_type": "code",
   "execution_count": 110,
   "metadata": {
    "collapsed": false
   },
   "outputs": [],
   "source": [
    "fn = r'/Users/dblyon/CloudStation/CPR/Brian_GO/alldata/Data_for_web_tool_yeast.txt'\n",
    "df = pd.read_csv(fn, sep='\\t')"
   ]
  },
  {
   "cell_type": "code",
   "execution_count": 111,
   "metadata": {
    "collapsed": false
   },
   "outputs": [
    {
     "data": {
      "text/html": [
       "<div style=\"max-height:1000px;max-width:1500px;overflow:auto;\">\n",
       "<table border=\"1\" class=\"dataframe\">\n",
       "  <thead>\n",
       "    <tr style=\"text-align: right;\">\n",
       "      <th></th>\n",
       "      <th>Genome</th>\n",
       "      <th>iBAQ observed (log10)</th>\n",
       "      <th>Observed Proteome</th>\n",
       "      <th>Phos</th>\n",
       "      <th>Ubi</th>\n",
       "      <th>Acetyl</th>\n",
       "      <th>Succinyl</th>\n",
       "    </tr>\n",
       "  </thead>\n",
       "  <tbody>\n",
       "    <tr>\n",
       "      <th>0</th>\n",
       "      <td>P38903</td>\n",
       "      <td>11,07751325</td>\n",
       "      <td>P00359</td>\n",
       "      <td>P0C2J1</td>\n",
       "      <td>P53907</td>\n",
       "      <td>P40545</td>\n",
       "      <td>Q04748</td>\n",
       "    </tr>\n",
       "    <tr>\n",
       "      <th>1</th>\n",
       "      <td>P31383</td>\n",
       "      <td>10,96978388</td>\n",
       "      <td>P00925</td>\n",
       "      <td>P40456</td>\n",
       "      <td>P06775</td>\n",
       "      <td>P09201</td>\n",
       "      <td>Q05022</td>\n",
       "    </tr>\n",
       "    <tr>\n",
       "      <th>2</th>\n",
       "      <td>Q00362</td>\n",
       "      <td>10,76849751</td>\n",
       "      <td>P02994</td>\n",
       "      <td>P25364</td>\n",
       "      <td>Q08986</td>\n",
       "      <td>P14066</td>\n",
       "      <td>Q03434</td>\n",
       "    </tr>\n",
       "    <tr>\n",
       "      <th>3</th>\n",
       "      <td>P47177</td>\n",
       "      <td>10,74716312</td>\n",
       "      <td>P06169</td>\n",
       "      <td>P25364</td>\n",
       "      <td>P38723</td>\n",
       "      <td>P25040</td>\n",
       "      <td>P32590</td>\n",
       "    </tr>\n",
       "    <tr>\n",
       "      <th>4</th>\n",
       "      <td>P47096</td>\n",
       "      <td>10,74614359</td>\n",
       "      <td>P00560</td>\n",
       "      <td>P14737</td>\n",
       "      <td>P38196</td>\n",
       "      <td>P20050</td>\n",
       "      <td>Q03434</td>\n",
       "    </tr>\n",
       "  </tbody>\n",
       "</table>\n",
       "</div>"
      ],
      "text/plain": [
       "   Genome iBAQ observed (log10) Observed Proteome    Phos     Ubi  Acetyl  \\\n",
       "0  P38903           11,07751325            P00359  P0C2J1  P53907  P40545   \n",
       "1  P31383           10,96978388            P00925  P40456  P06775  P09201   \n",
       "2  Q00362           10,76849751            P02994  P25364  Q08986  P14066   \n",
       "3  P47177           10,74716312            P06169  P25364  P38723  P25040   \n",
       "4  P47096           10,74614359            P00560  P14737  P38196  P20050   \n",
       "\n",
       "  Succinyl  \n",
       "0   Q04748  \n",
       "1   Q05022  \n",
       "2   Q03434  \n",
       "3   P32590  \n",
       "4   Q03434  "
      ]
     },
     "execution_count": 111,
     "metadata": {},
     "output_type": "execute_result"
    }
   ],
   "source": [
    "df.head()"
   ]
  },
  {
   "cell_type": "code",
   "execution_count": 112,
   "metadata": {
    "collapsed": false
   },
   "outputs": [
    {
     "name": "stdout",
     "output_type": "stream",
     "text": [
      "Shape:  (10247, 7)\n",
      "Genome :  6721 6721\n",
      "iBAQ observed (log10) :  4248 4210\n",
      "Observed Proteome :  4248 4248\n",
      "Phos :  10247 2460\n",
      "Ubi :  2840 1182\n",
      "Acetyl :  2780 1159\n",
      "Succinyl :  1633 636\n"
     ]
    }
   ],
   "source": [
    "print 'Shape: ', df.shape\n",
    "for colname in df.columns.tolist():\n",
    "    print colname, ': ', len(df.loc[pd.notnull(df[colname]), colname]), len(df.loc[pd.notnull(df[colname]), colname].drop_duplicates())"
   ]
  },
  {
   "cell_type": "code",
   "execution_count": 113,
   "metadata": {
    "collapsed": false
   },
   "outputs": [],
   "source": [
    "#fn = r'/Users/dblyon/CloudStation/CPR/Brian_GO/alldata/Data_for_web_tool_HeLa.txt'\n",
    "#df = pd.read_csv(fn, sep='\\t')"
   ]
  },
  {
   "cell_type": "code",
   "execution_count": 114,
   "metadata": {
    "collapsed": false
   },
   "outputs": [],
   "source": [
    "#df.head()"
   ]
  },
  {
   "cell_type": "code",
   "execution_count": 115,
   "metadata": {
    "collapsed": false
   },
   "outputs": [],
   "source": [
    "#print 'Shape: ', df.shape\n",
    "#for colname in df.columns.tolist():\n",
    "#    print colname, ': ', len(df.loc[pd.notnull(df[colname]), colname]), len(df.loc[pd.notnull(df[colname]), colname].drop_duplicates())"
   ]
  },
  {
   "cell_type": "markdown",
   "metadata": {},
   "source": [
    "# creating UserInput tables"
   ]
  },
  {
   "cell_type": "code",
   "execution_count": 108,
   "metadata": {
    "collapsed": true
   },
   "outputs": [],
   "source": [
    "fn_out = r'/Users/dblyon/CloudStation/CPR/Brian_GO/alldata/Yest_Acetyl_vs_Genome_UserInput.txt'"
   ]
  },
  {
   "cell_type": "code",
   "execution_count": 54,
   "metadata": {
    "collapsed": true
   },
   "outputs": [],
   "source": [
    "df_new = df['Genome', 'iBAQ observed (log10)', ]"
   ]
  },
  {
   "cell_type": "code",
   "execution_count": 116,
   "metadata": {
    "collapsed": false
   },
   "outputs": [
    {
     "data": {
      "text/plain": [
       "['Genome',\n",
       " 'iBAQ observed (log10)',\n",
       " 'Observed Proteome',\n",
       " 'Phos',\n",
       " 'Ubi',\n",
       " 'Acetyl',\n",
       " 'Succinyl']"
      ]
     },
     "execution_count": 116,
     "metadata": {},
     "output_type": "execute_result"
    }
   ],
   "source": [
    "df.columns.tolist()"
   ]
  },
  {
   "cell_type": "code",
   "execution_count": null,
   "metadata": {
    "collapsed": true
   },
   "outputs": [],
   "source": []
  },
  {
   "cell_type": "code",
   "execution_count": null,
   "metadata": {
    "collapsed": true
   },
   "outputs": [],
   "source": []
  },
  {
   "cell_type": "code",
   "execution_count": null,
   "metadata": {
    "collapsed": true
   },
   "outputs": [],
   "source": []
  },
  {
   "cell_type": "code",
   "execution_count": null,
   "metadata": {
    "collapsed": true
   },
   "outputs": [],
   "source": []
  },
  {
   "cell_type": "markdown",
   "metadata": {},
   "source": [
    "# check if output is still correct and the same as before"
   ]
  },
  {
   "cell_type": "code",
   "execution_count": 125,
   "metadata": {
    "collapsed": true
   },
   "outputs": [],
   "source": [
    "fn_old = r'/Users/dblyon/modules/cpr/goterm/SummaryTest_yeast_acetyl_AbundanceCorrected.txt'\n",
    "fn_new = r'/Users/dblyon/modules/cpr/goterm/TEST_v7.txt'\n",
    "df_old = pd.read_csv(fn_old, sep='\\t', skiprows=1)\n",
    "df_new = pd.read_csv(fn_new, sep='\\t', skiprows=1)"
   ]
  },
  {
   "cell_type": "code",
   "execution_count": 126,
   "metadata": {
    "collapsed": false
   },
   "outputs": [],
   "source": [
    "df_comp = df_new == df_old"
   ]
  },
  {
   "cell_type": "code",
   "execution_count": 127,
   "metadata": {
    "collapsed": false
   },
   "outputs": [
    {
     "name": "stdout",
     "output_type": "stream",
     "text": [
      "id 4901\n",
      "enrichment 4901\n",
      "fold_enrichment 4901\n",
      "description 4901\n",
      "ratio_in_study 4901\n",
      "ratio_in_pop 4901\n",
      "p_uncorrected 4901\n",
      "p_bonferroni 4901\n",
      "p_holm 4901\n",
      "p_sidak 4901\n",
      "p_fdr 4901\n",
      "ANs_study 4901\n",
      "ANs_pop 4250\n"
     ]
    }
   ],
   "source": [
    "columns = df_comp.columns.tolist()\n",
    "for col in columns:\n",
    "    print col, sum(df_comp[col])"
   ]
  },
  {
   "cell_type": "code",
   "execution_count": 128,
   "metadata": {
    "collapsed": false
   },
   "outputs": [
    {
     "data": {
      "text/plain": [
       "((4901, 13), (4901, 13), (4901, 13))"
      ]
     },
     "execution_count": 128,
     "metadata": {},
     "output_type": "execute_result"
    }
   ],
   "source": [
    "df_new.shape, df_old.shape, df_comp.shape"
   ]
  },
  {
   "cell_type": "code",
   "execution_count": 129,
   "metadata": {
    "collapsed": false
   },
   "outputs": [
    {
     "data": {
      "text/html": [
       "<div style=\"max-height:1000px;max-width:1500px;overflow:auto;\">\n",
       "<table border=\"1\" class=\"dataframe\">\n",
       "  <thead>\n",
       "    <tr style=\"text-align: right;\">\n",
       "      <th></th>\n",
       "      <th>id</th>\n",
       "      <th>enrichment</th>\n",
       "      <th>fold_enrichment</th>\n",
       "      <th>description</th>\n",
       "      <th>ratio_in_study</th>\n",
       "      <th>ratio_in_pop</th>\n",
       "      <th>p_uncorrected</th>\n",
       "      <th>p_bonferroni</th>\n",
       "      <th>p_holm</th>\n",
       "      <th>p_sidak</th>\n",
       "      <th>p_fdr</th>\n",
       "      <th>ANs_study</th>\n",
       "      <th>ANs_pop</th>\n",
       "    </tr>\n",
       "  </thead>\n",
       "  <tbody>\n",
       "    <tr>\n",
       "      <th>4250</th>\n",
       "      <td>True</td>\n",
       "      <td>True</td>\n",
       "      <td>True</td>\n",
       "      <td>True</td>\n",
       "      <td>True</td>\n",
       "      <td>True</td>\n",
       "      <td>True</td>\n",
       "      <td>True</td>\n",
       "      <td>True</td>\n",
       "      <td>True</td>\n",
       "      <td>True</td>\n",
       "      <td>True</td>\n",
       "      <td>False</td>\n",
       "    </tr>\n",
       "    <tr>\n",
       "      <th>4251</th>\n",
       "      <td>True</td>\n",
       "      <td>True</td>\n",
       "      <td>True</td>\n",
       "      <td>True</td>\n",
       "      <td>True</td>\n",
       "      <td>True</td>\n",
       "      <td>True</td>\n",
       "      <td>True</td>\n",
       "      <td>True</td>\n",
       "      <td>True</td>\n",
       "      <td>True</td>\n",
       "      <td>True</td>\n",
       "      <td>False</td>\n",
       "    </tr>\n",
       "    <tr>\n",
       "      <th>4252</th>\n",
       "      <td>True</td>\n",
       "      <td>True</td>\n",
       "      <td>True</td>\n",
       "      <td>True</td>\n",
       "      <td>True</td>\n",
       "      <td>True</td>\n",
       "      <td>True</td>\n",
       "      <td>True</td>\n",
       "      <td>True</td>\n",
       "      <td>True</td>\n",
       "      <td>True</td>\n",
       "      <td>True</td>\n",
       "      <td>False</td>\n",
       "    </tr>\n",
       "    <tr>\n",
       "      <th>4253</th>\n",
       "      <td>True</td>\n",
       "      <td>True</td>\n",
       "      <td>True</td>\n",
       "      <td>True</td>\n",
       "      <td>True</td>\n",
       "      <td>True</td>\n",
       "      <td>True</td>\n",
       "      <td>True</td>\n",
       "      <td>True</td>\n",
       "      <td>True</td>\n",
       "      <td>True</td>\n",
       "      <td>True</td>\n",
       "      <td>False</td>\n",
       "    </tr>\n",
       "    <tr>\n",
       "      <th>4254</th>\n",
       "      <td>True</td>\n",
       "      <td>True</td>\n",
       "      <td>True</td>\n",
       "      <td>True</td>\n",
       "      <td>True</td>\n",
       "      <td>True</td>\n",
       "      <td>True</td>\n",
       "      <td>True</td>\n",
       "      <td>True</td>\n",
       "      <td>True</td>\n",
       "      <td>True</td>\n",
       "      <td>True</td>\n",
       "      <td>False</td>\n",
       "    </tr>\n",
       "  </tbody>\n",
       "</table>\n",
       "</div>"
      ],
      "text/plain": [
       "        id enrichment fold_enrichment description ratio_in_study ratio_in_pop  \\\n",
       "4250  True       True            True        True           True         True   \n",
       "4251  True       True            True        True           True         True   \n",
       "4252  True       True            True        True           True         True   \n",
       "4253  True       True            True        True           True         True   \n",
       "4254  True       True            True        True           True         True   \n",
       "\n",
       "     p_uncorrected p_bonferroni p_holm p_sidak p_fdr ANs_study ANs_pop  \n",
       "4250          True         True   True    True  True      True   False  \n",
       "4251          True         True   True    True  True      True   False  \n",
       "4252          True         True   True    True  True      True   False  \n",
       "4253          True         True   True    True  True      True   False  \n",
       "4254          True         True   True    True  True      True   False  "
      ]
     },
     "execution_count": 129,
     "metadata": {},
     "output_type": "execute_result"
    }
   ],
   "source": [
    "cond = df_comp['ANs_pop'] == False\n",
    "df_comp.loc[cond, ].head()"
   ]
  },
  {
   "cell_type": "code",
   "execution_count": 130,
   "metadata": {
    "collapsed": false
   },
   "outputs": [
    {
     "data": {
      "text/plain": [
       "4250    False\n",
       "4251    False\n",
       "Name: ANs_pop, dtype: bool"
      ]
     },
     "execution_count": 130,
     "metadata": {},
     "output_type": "execute_result"
    }
   ],
   "source": [
    "index = [4250, 4251]\n",
    "df_new.loc[index, 'ANs_pop'] == df_old.loc[index, 'ANs_pop']"
   ]
  },
  {
   "cell_type": "code",
   "execution_count": 131,
   "metadata": {
    "collapsed": false
   },
   "outputs": [
    {
     "data": {
      "text/html": [
       "<div style=\"max-height:1000px;max-width:1500px;overflow:auto;\">\n",
       "<table border=\"1\" class=\"dataframe\">\n",
       "  <thead>\n",
       "    <tr style=\"text-align: right;\">\n",
       "      <th></th>\n",
       "      <th>id</th>\n",
       "      <th>enrichment</th>\n",
       "      <th>fold_enrichment</th>\n",
       "      <th>description</th>\n",
       "      <th>ratio_in_study</th>\n",
       "      <th>ratio_in_pop</th>\n",
       "      <th>p_uncorrected</th>\n",
       "      <th>p_bonferroni</th>\n",
       "      <th>p_holm</th>\n",
       "      <th>p_sidak</th>\n",
       "      <th>p_fdr</th>\n",
       "      <th>ANs_study</th>\n",
       "      <th>ANs_pop</th>\n",
       "    </tr>\n",
       "  </thead>\n",
       "  <tbody>\n",
       "    <tr>\n",
       "      <th>4250</th>\n",
       "      <td>........GO:0032777</td>\n",
       "      <td>e</td>\n",
       "      <td>-1</td>\n",
       "      <td>Piccolo NuA4 histone acetyltransferase complex</td>\n",
       "      <td>4/1126</td>\n",
       "      <td>0/1126</td>\n",
       "      <td>0.125</td>\n",
       "      <td>611</td>\n",
       "      <td>566</td>\n",
       "      <td>596</td>\n",
       "      <td>n.a.</td>\n",
       "      <td>P43572,Q04003,Q08649,Q99314</td>\n",
       "      <td>NaN</td>\n",
       "    </tr>\n",
       "    <tr>\n",
       "      <th>4251</th>\n",
       "      <td>.....GO:0090282</td>\n",
       "      <td>e</td>\n",
       "      <td>-1</td>\n",
       "      <td>positive regulation of transcription involved ...</td>\n",
       "      <td>3/1126</td>\n",
       "      <td>0/1126</td>\n",
       "      <td>0.250</td>\n",
       "      <td>1220</td>\n",
       "      <td>1090</td>\n",
       "      <td>1190</td>\n",
       "      <td>n.a.</td>\n",
       "      <td>P40466,P41813,Q08887</td>\n",
       "      <td>NaN</td>\n",
       "    </tr>\n",
       "  </tbody>\n",
       "</table>\n",
       "</div>"
      ],
      "text/plain": [
       "                      id enrichment  fold_enrichment  \\\n",
       "4250  ........GO:0032777          e               -1   \n",
       "4251     .....GO:0090282          e               -1   \n",
       "\n",
       "                                            description ratio_in_study  \\\n",
       "4250     Piccolo NuA4 histone acetyltransferase complex         4/1126   \n",
       "4251  positive regulation of transcription involved ...         3/1126   \n",
       "\n",
       "     ratio_in_pop  p_uncorrected  p_bonferroni  p_holm  p_sidak p_fdr  \\\n",
       "4250       0/1126          0.125           611     566      596  n.a.   \n",
       "4251       0/1126          0.250          1220    1090     1190  n.a.   \n",
       "\n",
       "                        ANs_study ANs_pop  \n",
       "4250  P43572,Q04003,Q08649,Q99314     NaN  \n",
       "4251         P40466,P41813,Q08887     NaN  "
      ]
     },
     "execution_count": 131,
     "metadata": {},
     "output_type": "execute_result"
    }
   ],
   "source": [
    "df_new.loc[index, ]"
   ]
  },
  {
   "cell_type": "code",
   "execution_count": 132,
   "metadata": {
    "collapsed": false
   },
   "outputs": [
    {
     "data": {
      "text/html": [
       "<div style=\"max-height:1000px;max-width:1500px;overflow:auto;\">\n",
       "<table border=\"1\" class=\"dataframe\">\n",
       "  <thead>\n",
       "    <tr style=\"text-align: right;\">\n",
       "      <th></th>\n",
       "      <th>id</th>\n",
       "      <th>enrichment</th>\n",
       "      <th>fold_enrichment</th>\n",
       "      <th>description</th>\n",
       "      <th>ratio_in_study</th>\n",
       "      <th>ratio_in_pop</th>\n",
       "      <th>p_uncorrected</th>\n",
       "      <th>p_bonferroni</th>\n",
       "      <th>p_holm</th>\n",
       "      <th>p_sidak</th>\n",
       "      <th>p_fdr</th>\n",
       "      <th>ANs_study</th>\n",
       "      <th>ANs_pop</th>\n",
       "    </tr>\n",
       "  </thead>\n",
       "  <tbody>\n",
       "    <tr>\n",
       "      <th>4250</th>\n",
       "      <td>........GO:0032777</td>\n",
       "      <td>e</td>\n",
       "      <td>-1</td>\n",
       "      <td>Piccolo NuA4 histone acetyltransferase complex</td>\n",
       "      <td>4/1126</td>\n",
       "      <td>0/1126</td>\n",
       "      <td>0.125</td>\n",
       "      <td>611</td>\n",
       "      <td>566</td>\n",
       "      <td>596</td>\n",
       "      <td>n.a.</td>\n",
       "      <td>P43572,Q04003,Q08649,Q99314</td>\n",
       "      <td>NaN</td>\n",
       "    </tr>\n",
       "    <tr>\n",
       "      <th>4251</th>\n",
       "      <td>.....GO:0090282</td>\n",
       "      <td>e</td>\n",
       "      <td>-1</td>\n",
       "      <td>positive regulation of transcription involved ...</td>\n",
       "      <td>3/1126</td>\n",
       "      <td>0/1126</td>\n",
       "      <td>0.250</td>\n",
       "      <td>1220</td>\n",
       "      <td>1090</td>\n",
       "      <td>1190</td>\n",
       "      <td>n.a.</td>\n",
       "      <td>P40466,P41813,Q08887</td>\n",
       "      <td>NaN</td>\n",
       "    </tr>\n",
       "  </tbody>\n",
       "</table>\n",
       "</div>"
      ],
      "text/plain": [
       "                      id enrichment  fold_enrichment  \\\n",
       "4250  ........GO:0032777          e               -1   \n",
       "4251     .....GO:0090282          e               -1   \n",
       "\n",
       "                                            description ratio_in_study  \\\n",
       "4250     Piccolo NuA4 histone acetyltransferase complex         4/1126   \n",
       "4251  positive regulation of transcription involved ...         3/1126   \n",
       "\n",
       "     ratio_in_pop  p_uncorrected  p_bonferroni  p_holm  p_sidak p_fdr  \\\n",
       "4250       0/1126          0.125           611     566      596  n.a.   \n",
       "4251       0/1126          0.250          1220    1090     1190  n.a.   \n",
       "\n",
       "                        ANs_study ANs_pop  \n",
       "4250  P43572,Q04003,Q08649,Q99314     NaN  \n",
       "4251         P40466,P41813,Q08887     NaN  "
      ]
     },
     "execution_count": 132,
     "metadata": {},
     "output_type": "execute_result"
    }
   ],
   "source": [
    "df_old.loc[index, ]"
   ]
  },
  {
   "cell_type": "code",
   "execution_count": null,
   "metadata": {
    "collapsed": true
   },
   "outputs": [],
   "source": [
    "\n"
   ]
  },
  {
   "cell_type": "code",
   "execution_count": 1,
   "metadata": {
    "collapsed": false
   },
   "outputs": [
    {
     "name": "stderr",
     "output_type": "stream",
     "text": [
      "load obo file /Users/dblyon/CloudStation/CPR/Brian_GO/go_rescources/go_obo/go-basic.obo\n",
      "44951"
     ]
    },
    {
     "name": "stdout",
     "output_type": "stream",
     "text": [
      "DONE :)\n"
     ]
    },
    {
     "name": "stderr",
     "output_type": "stream",
     "text": [
      " nodes imported\n"
     ]
    },
    {
     "ename": "TypeError",
     "evalue": "cannot concatenate 'str' and 'float' objects",
     "output_type": "error",
     "traceback": [
      "\u001b[0;31m---------------------------------------------------------------------------\u001b[0m",
      "\u001b[0;31mTypeError\u001b[0m                                 Traceback (most recent call last)",
      "\u001b[0;32m/Users/dblyon/modules/cpr/goterm/run_goenrichment.py\u001b[0m in \u001b[0;36m<module>\u001b[0;34m()\u001b[0m\n\u001b[1;32m     98\u001b[0m             \u001b[0mui\u001b[0m \u001b[0;34m=\u001b[0m \u001b[0mgoretriever\u001b[0m\u001b[0;34m.\u001b[0m\u001b[0mUserInput\u001b[0m\u001b[0;34m(\u001b[0m\u001b[0muserinput_fn\u001b[0m\u001b[0;34m,\u001b[0m \u001b[0mnum_bins\u001b[0m\u001b[0;34m,\u001b[0m \u001b[0mcol_sample_an\u001b[0m\u001b[0;34m,\u001b[0m \u001b[0mcol_background_an\u001b[0m\u001b[0;34m,\u001b[0m \u001b[0mcol_background_int\u001b[0m\u001b[0;34m)\u001b[0m\u001b[0;34m\u001b[0m\u001b[0m\n\u001b[1;32m     99\u001b[0m \u001b[0;34m\u001b[0m\u001b[0m\n\u001b[0;32m--> 100\u001b[0;31m             \u001b[0mgostudy\u001b[0m \u001b[0;34m=\u001b[0m \u001b[0mgo_enrichment_dbl\u001b[0m\u001b[0;34m.\u001b[0m\u001b[0mGOEnrichmentStudy\u001b[0m\u001b[0;34m(\u001b[0m\u001b[0mui\u001b[0m\u001b[0;34m,\u001b[0m \u001b[0massoc_dict\u001b[0m\u001b[0;34m,\u001b[0m \u001b[0mobo_dag\u001b[0m\u001b[0;34m,\u001b[0m \u001b[0malpha\u001b[0m\u001b[0;34m,\u001b[0m \u001b[0mmethods\u001b[0m\u001b[0;34m,\u001b[0m \u001b[0mbacktracking\u001b[0m\u001b[0;34m,\u001b[0m \u001b[0mrandomSample\u001b[0m\u001b[0;34m,\u001b[0m \u001b[0mabcorr\u001b[0m\u001b[0;34m)\u001b[0m\u001b[0;34m\u001b[0m\u001b[0m\n\u001b[0m\u001b[1;32m    101\u001b[0m             \u001b[0mgostudy\u001b[0m\u001b[0;34m.\u001b[0m\u001b[0mwrite_summary2file\u001b[0m\u001b[0;34m(\u001b[0m\u001b[0mfn_out\u001b[0m\u001b[0;34m,\u001b[0m \u001b[0mmin_ratio\u001b[0m\u001b[0;34m=\u001b[0m\u001b[0mmin_ratio\u001b[0m\u001b[0;34m,\u001b[0m \u001b[0mindent\u001b[0m\u001b[0;34m=\u001b[0m\u001b[0mindent\u001b[0m\u001b[0;34m,\u001b[0m \u001b[0mpval\u001b[0m\u001b[0;34m=\u001b[0m\u001b[0mpval\u001b[0m\u001b[0;34m)\u001b[0m\u001b[0;34m\u001b[0m\u001b[0m\n\u001b[1;32m    102\u001b[0m \u001b[0;34m\u001b[0m\u001b[0m\n",
      "\u001b[0;32m/Users/dblyon/modules/cpr/goterm/go_enrichment_dbl.pyc\u001b[0m in \u001b[0;36m__init__\u001b[0;34m(self, ui, assoc_dict, obo_dag, alpha, methods, backtracking, randomSample, abcorr)\u001b[0m\n\u001b[1;32m     84\u001b[0m             \u001b[0mself\u001b[0m\u001b[0;34m.\u001b[0m\u001b[0mobo_dag\u001b[0m\u001b[0;34m.\u001b[0m\u001b[0mupdate_association\u001b[0m\u001b[0;34m(\u001b[0m\u001b[0mself\u001b[0m\u001b[0;34m.\u001b[0m\u001b[0massoc_dict\u001b[0m\u001b[0;34m)\u001b[0m\u001b[0;34m\u001b[0m\u001b[0m\n\u001b[1;32m     85\u001b[0m \u001b[0;34m\u001b[0m\u001b[0m\n\u001b[0;32m---> 86\u001b[0;31m         \u001b[0mself\u001b[0m\u001b[0;34m.\u001b[0m\u001b[0mprepare_run\u001b[0m\u001b[0;34m(\u001b[0m\u001b[0;34m)\u001b[0m\u001b[0;34m\u001b[0m\u001b[0m\n\u001b[0m\u001b[1;32m     87\u001b[0m \u001b[0;34m\u001b[0m\u001b[0m\n\u001b[1;32m     88\u001b[0m     \u001b[0;32mdef\u001b[0m \u001b[0mprepare_run\u001b[0m\u001b[0;34m(\u001b[0m\u001b[0mself\u001b[0m\u001b[0;34m)\u001b[0m\u001b[0;34m:\u001b[0m\u001b[0;34m\u001b[0m\u001b[0m\n",
      "\u001b[0;32m/Users/dblyon/modules/cpr/goterm/go_enrichment_dbl.pyc\u001b[0m in \u001b[0;36mprepare_run\u001b[0;34m(self)\u001b[0m\n\u001b[1;32m     99\u001b[0m             \u001b[0;32melse\u001b[0m\u001b[0;34m:\u001b[0m\u001b[0;34m\u001b[0m\u001b[0m\n\u001b[1;32m    100\u001b[0m                 \u001b[0mpop_n\u001b[0m \u001b[0;34m=\u001b[0m \u001b[0mlen\u001b[0m\u001b[0;34m(\u001b[0m\u001b[0mself\u001b[0m\u001b[0;34m.\u001b[0m\u001b[0mstudy_an_frset\u001b[0m\u001b[0;34m)\u001b[0m\u001b[0;34m\u001b[0m\u001b[0m\n\u001b[0;32m--> 101\u001b[0;31m                 \u001b[0mself\u001b[0m\u001b[0;34m.\u001b[0m\u001b[0mterm_pop\u001b[0m\u001b[0;34m,\u001b[0m \u001b[0mself\u001b[0m\u001b[0;34m.\u001b[0m\u001b[0mgo2ans_pop_dict\u001b[0m \u001b[0;34m=\u001b[0m \u001b[0mratio_dbl\u001b[0m\u001b[0;34m.\u001b[0m\u001b[0mcount_terms_abundance_corrected\u001b[0m\u001b[0;34m(\u001b[0m\u001b[0mself\u001b[0m\u001b[0;34m.\u001b[0m\u001b[0mui\u001b[0m\u001b[0;34m,\u001b[0m \u001b[0mself\u001b[0m\u001b[0;34m.\u001b[0m\u001b[0massoc_dict\u001b[0m\u001b[0;34m,\u001b[0m \u001b[0mself\u001b[0m\u001b[0;34m.\u001b[0m\u001b[0mobo_dag\u001b[0m\u001b[0;34m)\u001b[0m\u001b[0;34m\u001b[0m\u001b[0m\n\u001b[0m\u001b[1;32m    102\u001b[0m         \u001b[0;32melse\u001b[0m\u001b[0;34m:\u001b[0m\u001b[0;34m\u001b[0m\u001b[0m\n\u001b[1;32m    103\u001b[0m             \u001b[0mself\u001b[0m\u001b[0;34m.\u001b[0m\u001b[0mpop_an_set\u001b[0m \u001b[0;34m=\u001b[0m \u001b[0mself\u001b[0m\u001b[0;34m.\u001b[0m\u001b[0mui\u001b[0m\u001b[0;34m.\u001b[0m\u001b[0mget_population_an_set_all\u001b[0m\u001b[0;34m(\u001b[0m\u001b[0;34m)\u001b[0m\u001b[0;34m\u001b[0m\u001b[0m\n",
      "\u001b[0;32m/Users/dblyon/modules/cpr/goterm/ratio_dbl.pyc\u001b[0m in \u001b[0;36mcount_terms_abundance_corrected\u001b[0;34m(ui, assoc_dict, obo_dag)\u001b[0m\n\u001b[1;32m     60\u001b[0m     \u001b[0mgo2ans_dict\u001b[0m \u001b[0;34m=\u001b[0m \u001b[0;34m{\u001b[0m\u001b[0;34m}\u001b[0m\u001b[0;34m\u001b[0m\u001b[0m\n\u001b[1;32m     61\u001b[0m     \u001b[0mterm_cnt\u001b[0m \u001b[0;34m=\u001b[0m \u001b[0mdefaultdict\u001b[0m\u001b[0;34m(\u001b[0m\u001b[0mfloat\u001b[0m\u001b[0;34m)\u001b[0m\u001b[0;34m\u001b[0m\u001b[0m\n\u001b[0;32m---> 62\u001b[0;31m     \u001b[0;32mfor\u001b[0m \u001b[0mans\u001b[0m\u001b[0;34m,\u001b[0m \u001b[0mweight_fac\u001b[0m \u001b[0;32min\u001b[0m \u001b[0mui\u001b[0m\u001b[0;34m.\u001b[0m\u001b[0miter_bins\u001b[0m\u001b[0;34m(\u001b[0m\u001b[0;34m)\u001b[0m\u001b[0;34m:\u001b[0m \u001b[0;31m# for every bin, produce ans-background and weighting-factor\u001b[0m\u001b[0;34m\u001b[0m\u001b[0m\n\u001b[0m\u001b[1;32m     63\u001b[0m         \u001b[0;32mfor\u001b[0m \u001b[0man\u001b[0m \u001b[0;32min\u001b[0m \u001b[0mans\u001b[0m\u001b[0;34m:\u001b[0m \u001b[0;31m# for every AccessionNumber\u001b[0m\u001b[0;34m\u001b[0m\u001b[0m\n\u001b[1;32m     64\u001b[0m             \u001b[0;32mif\u001b[0m \u001b[0massoc_dict\u001b[0m\u001b[0;34m.\u001b[0m\u001b[0mhas_key\u001b[0m\u001b[0;34m(\u001b[0m\u001b[0man\u001b[0m\u001b[0;34m)\u001b[0m\u001b[0;34m:\u001b[0m\u001b[0;34m\u001b[0m\u001b[0m\n",
      "\u001b[0;32m/Users/dblyon/modules/cpr/goterm/goretriever.pyc\u001b[0m in \u001b[0;36miter_bins\u001b[0;34m(self)\u001b[0m\n\u001b[1;32m    336\u001b[0m         \u001b[0;34m:\u001b[0m\u001b[0;32mreturn\u001b[0m\u001b[0;34m:\u001b[0m \u001b[0mTuple\u001b[0m\u001b[0;34m(\u001b[0m\u001b[0mListOfSting\u001b[0m\u001b[0;34m,\u001b[0m \u001b[0mFloat\u001b[0m\u001b[0;34m)\u001b[0m\u001b[0;34m\u001b[0m\u001b[0m\n\u001b[1;32m    337\u001b[0m         \"\"\"\n\u001b[0;32m--> 338\u001b[0;31m         \u001b[0mhist\u001b[0m\u001b[0;34m,\u001b[0m \u001b[0mbins\u001b[0m \u001b[0;34m=\u001b[0m \u001b[0mnp\u001b[0m\u001b[0;34m.\u001b[0m\u001b[0mhistogram\u001b[0m\u001b[0;34m(\u001b[0m\u001b[0mself\u001b[0m\u001b[0;34m.\u001b[0m\u001b[0mget_sample_an_int\u001b[0m\u001b[0;34m(\u001b[0m\u001b[0;34m)\u001b[0m\u001b[0;34m[\u001b[0m\u001b[0mself\u001b[0m\u001b[0;34m.\u001b[0m\u001b[0mcol_background_int\u001b[0m\u001b[0;34m]\u001b[0m\u001b[0;34m,\u001b[0m \u001b[0mbins\u001b[0m\u001b[0;34m=\u001b[0m\u001b[0mself\u001b[0m\u001b[0;34m.\u001b[0m\u001b[0mget_num_bins\u001b[0m\u001b[0;34m(\u001b[0m\u001b[0;34m)\u001b[0m\u001b[0;34m)\u001b[0m\u001b[0;34m\u001b[0m\u001b[0m\n\u001b[0m\u001b[1;32m    339\u001b[0m         \u001b[0;32mfor\u001b[0m \u001b[0mindex\u001b[0m\u001b[0;34m,\u001b[0m \u001b[0mnuminhist\u001b[0m \u001b[0;32min\u001b[0m \u001b[0menumerate\u001b[0m\u001b[0;34m(\u001b[0m\u001b[0mhist\u001b[0m\u001b[0;34m)\u001b[0m\u001b[0;34m:\u001b[0m\u001b[0;34m\u001b[0m\u001b[0m\n\u001b[1;32m    340\u001b[0m             \u001b[0mnum_ans\u001b[0m \u001b[0;34m=\u001b[0m \u001b[0mnuminhist\u001b[0m\u001b[0;34m\u001b[0m\u001b[0m\n",
      "\u001b[0;32m/System/Library/Frameworks/Python.framework/Versions/2.7/Extras/lib/python/numpy/lib/function_base.pyc\u001b[0m in \u001b[0;36mhistogram\u001b[0;34m(a, bins, range, normed, weights, density)\u001b[0m\n\u001b[1;32m    174\u001b[0m             \u001b[0;32melse\u001b[0m\u001b[0;34m:\u001b[0m\u001b[0;34m\u001b[0m\u001b[0m\n\u001b[1;32m    175\u001b[0m                 \u001b[0mrange\u001b[0m \u001b[0;34m=\u001b[0m \u001b[0;34m(\u001b[0m\u001b[0ma\u001b[0m\u001b[0;34m.\u001b[0m\u001b[0mmin\u001b[0m\u001b[0;34m(\u001b[0m\u001b[0;34m)\u001b[0m\u001b[0;34m,\u001b[0m \u001b[0ma\u001b[0m\u001b[0;34m.\u001b[0m\u001b[0mmax\u001b[0m\u001b[0;34m(\u001b[0m\u001b[0;34m)\u001b[0m\u001b[0;34m)\u001b[0m\u001b[0;34m\u001b[0m\u001b[0m\n\u001b[0;32m--> 176\u001b[0;31m         \u001b[0mmn\u001b[0m\u001b[0;34m,\u001b[0m \u001b[0mmx\u001b[0m \u001b[0;34m=\u001b[0m \u001b[0;34m[\u001b[0m\u001b[0mmi\u001b[0m\u001b[0;34m+\u001b[0m\u001b[0;36m0.0\u001b[0m \u001b[0;32mfor\u001b[0m \u001b[0mmi\u001b[0m \u001b[0;32min\u001b[0m \u001b[0mrange\u001b[0m\u001b[0;34m]\u001b[0m\u001b[0;34m\u001b[0m\u001b[0m\n\u001b[0m\u001b[1;32m    177\u001b[0m         \u001b[0;32mif\u001b[0m \u001b[0mmn\u001b[0m \u001b[0;34m==\u001b[0m \u001b[0mmx\u001b[0m\u001b[0;34m:\u001b[0m\u001b[0;34m\u001b[0m\u001b[0m\n\u001b[1;32m    178\u001b[0m             \u001b[0mmn\u001b[0m \u001b[0;34m-=\u001b[0m \u001b[0;36m0.5\u001b[0m\u001b[0;34m\u001b[0m\u001b[0m\n",
      "\u001b[0;31mTypeError\u001b[0m: cannot concatenate 'str' and 'float' objects"
     ]
    }
   ],
   "source": [
    "%run run_goenrichment"
   ]
  },
  {
   "cell_type": "code",
   "execution_count": null,
   "metadata": {
    "collapsed": true
   },
   "outputs": [],
   "source": []
  }
 ],
 "metadata": {
  "kernelspec": {
   "display_name": "Python 2",
   "language": "python",
   "name": "python2"
  },
  "language_info": {
   "codemirror_mode": {
    "name": "ipython",
    "version": 2
   },
   "file_extension": ".py",
   "mimetype": "text/x-python",
   "name": "python",
   "nbconvert_exporter": "python",
   "pygments_lexer": "ipython2",
   "version": "2.7.6"
  }
 },
 "nbformat": 4,
 "nbformat_minor": 0
}
