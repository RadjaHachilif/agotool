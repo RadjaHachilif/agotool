{
 "cells": [
  {
   "cell_type": "markdown",
   "metadata": {},
   "source": [
    "A0A023PZB3  GO:0005739;GO:0003676;GO:0015074\n",
    "A2P2R3\tGO:0003674;GO:0004360;GO:0005575;GO:0006048;GO:0006541;GO:0008150\n",
    "A5Z2X5\tGO:0003674;GO:0005575;GO:0008150;GO:0016021\n",
    "D6VPM8\tGO:0003674;GO:0005575;GO:0008150;GO:0016021\n",
    "D6VTK4\tGO:0000750;GO:0000755;GO:0004934;GO:0005887;GO:0030031;GO:0051260\n",
    "I2HB70\tGO:0003674;GO:0005575;GO:0008150"
   ]
  },
  {
   "cell_type": "code",
   "execution_count": 2,
   "metadata": {
    "collapsed": false
   },
   "outputs": [],
   "source": [
    "d = {'A0A023PZB3': set(['GO:0005739','GO:0003676','GO:0015074'])}"
   ]
  },
  {
   "cell_type": "code",
   "execution_count": 12,
   "metadata": {
    "collapsed": false
   },
   "outputs": [],
   "source": [
    "s = 'I2HB70\tGO:0003674;GO:0005575;GO:0008150'\n",
    "an, go = s.split()\n",
    "d[an] = set(go.split(';'))"
   ]
  },
  {
   "cell_type": "code",
   "execution_count": 13,
   "metadata": {
    "collapsed": false
   },
   "outputs": [
    {
     "data": {
      "text/plain": [
       "{'A0A023PZB3': {'GO:0003676', 'GO:0005739', 'GO:0015074'},\n",
       " 'A2P2R3': {'GO:0003674',\n",
       "  'GO:0004360',\n",
       "  'GO:0005575',\n",
       "  'GO:0006048',\n",
       "  'GO:0006541',\n",
       "  'GO:0008150'},\n",
       " 'A5Z2X5': {'GO:0003674', 'GO:0005575', 'GO:0008150', 'GO:0016021'},\n",
       " 'D6VPM8': {'GO:0003674', 'GO:0005575', 'GO:0008150', 'GO:0016021'},\n",
       " 'D6VTK4': {'GO:0000750',\n",
       "  'GO:0000755',\n",
       "  'GO:0004934',\n",
       "  'GO:0005887',\n",
       "  'GO:0030031',\n",
       "  'GO:0051260'},\n",
       " 'I2HB70': {'GO:0003674', 'GO:0005575', 'GO:0008150'}}"
      ]
     },
     "execution_count": 13,
     "metadata": {},
     "output_type": "execute_result"
    }
   ],
   "source": [
    "d"
   ]
  },
  {
   "cell_type": "code",
   "execution_count": 1,
   "metadata": {
    "collapsed": false
   },
   "outputs": [],
   "source": [
    "import os, goretriever\n",
    "home = os.path.expanduser('~')\n",
    "goa_ref_fn = home + r'/modules/cpr/goterm/test/gene_association_test.goa_ref_yeast'\n",
    "gor_parser = goretriever.Parser_UniProt_goa_ref(goa_ref_fn)"
   ]
  },
  {
   "cell_type": "code",
   "execution_count": 2,
   "metadata": {
    "collapsed": false
   },
   "outputs": [
    {
     "data": {
      "text/plain": [
       "{'A0A023PZB3': {'GO:0005739'},\n",
       " 'A0A0B7P3V8': {'GO:0003676', 'GO:0015074'},\n",
       " 'A2P2R3': {'GO:0003674',\n",
       "  'GO:0004360',\n",
       "  'GO:0005575',\n",
       "  'GO:0006048',\n",
       "  'GO:0006541',\n",
       "  'GO:0008150'},\n",
       " 'A5Z2X5': {'GO:0003674', 'GO:0005575', 'GO:0008150', 'GO:0016021'},\n",
       " 'D6VPM8': {'GO:0003674', 'GO:0005575', 'GO:0008150', 'GO:0016021'},\n",
       " 'D6VTK4': {'GO:0000750',\n",
       "  'GO:0000755',\n",
       "  'GO:0004934',\n",
       "  'GO:0005887',\n",
       "  'GO:0030031',\n",
       "  'GO:0051260'},\n",
       " 'I2HB52': {'GO:0003674', 'GO:0005575', 'GO:0008150'},\n",
       " 'I2HB70': {'GO:0003674', 'GO:0005575', 'GO:0008150'}}"
      ]
     },
     "execution_count": 2,
     "metadata": {},
     "output_type": "execute_result"
    }
   ],
   "source": [
    "gor_parser.get_association_dict()"
   ]
  },
  {
   "cell_type": "code",
   "execution_count": 3,
   "metadata": {
    "collapsed": false
   },
   "outputs": [
    {
     "data": {
      "text/plain": [
       "['GO:0005739']"
      ]
     },
     "execution_count": 3,
     "metadata": {},
     "output_type": "execute_result"
    }
   ],
   "source": [
    "gor_parser.get_goterms_from_an('A0A023PZB3')"
   ]
  },
  {
   "cell_type": "code",
   "execution_count": 10,
   "metadata": {
    "collapsed": true
   },
   "outputs": [],
   "source": [
    "assoc_dict = {'A0A023PZB3': {'GO:0005739'},\n",
    "'A0A0B7P3V8': {'GO:0003676', 'GO:0015074'},\n",
    "'A2P2R3': {'GO:0003674', 'GO:0004360','GO:0005575','GO:0006048','GO:0006541','GO:0008150'},\n",
    "'A5Z2X5': {'GO:0003674', 'GO:0005575', 'GO:0008150', 'GO:0016021'},\n",
    "'D6VPM8': {'GO:0003674', 'GO:0005575', 'GO:0008150', 'GO:0016021'},\n",
    "'D6VTK4': {'GO:0000750', 'GO:0000755','GO:0004934','GO:0005887','GO:0030031','GO:0051260'},\n",
    "'I2HB70': {'GO:0003674', 'GO:0005575', 'GO:0008150'},\n",
    "'I2HB52': {'GO:0003674', 'GO:0005575', 'GO:0008150'}}"
   ]
  },
  {
   "cell_type": "code",
   "execution_count": 11,
   "metadata": {
    "collapsed": false
   },
   "outputs": [],
   "source": [
    "assoc_dict == gor_parser.get_association_dict()\n",
    "for key in assoc_dict:\n",
    "    if not gor_parser.get_association_dict()[key] == assoc_dict[key]:\n",
    "        print key, gor_parser.get_association_dict()[key], assoc_dict[key]"
   ]
  },
  {
   "cell_type": "code",
   "execution_count": 12,
   "metadata": {
    "collapsed": false
   },
   "outputs": [],
   "source": [
    "for key in gor_parser.get_association_dict():\n",
    "    if not gor_parser.get_association_dict()[key] == assoc_dict[key]:\n",
    "        print key, gor_parser.get_association_dict()[key], assoc_dict[key]"
   ]
  },
  {
   "cell_type": "code",
   "execution_count": 1,
   "metadata": {
    "collapsed": true
   },
   "outputs": [],
   "source": [
    "import os, goretriever\n",
    "home = os.path.expanduser('~')\n",
    "user_input_fn = home + r'/modules/cpr/goterm/test/UserInput_test.txt'\n",
    "ui = goretriever.UserInput(user_input_fn)"
   ]
  },
  {
   "cell_type": "code",
   "execution_count": 7,
   "metadata": {
    "collapsed": false
   },
   "outputs": [],
   "source": [
    "#ui.get_study_an_frset()"
   ]
  },
  {
   "cell_type": "code",
   "execution_count": 28,
   "metadata": {
    "collapsed": false
   },
   "outputs": [],
   "source": [
    "#frozenset(ui.get_study())"
   ]
  },
  {
   "cell_type": "code",
   "execution_count": 6,
   "metadata": {
    "collapsed": false
   },
   "outputs": [],
   "source": [
    "#ui.get_population_an_set()"
   ]
  },
  {
   "cell_type": "code",
   "execution_count": 4,
   "metadata": {
    "collapsed": true
   },
   "outputs": [],
   "source": [
    "def get_study_an_frset():\n",
    "    '''\n",
    "    produce frozenset of AccessionNumbers of sample frequency (study)\n",
    "    :return: FrozenSet of Strings\n",
    "    '''\n",
    "    return frozenset(ui.get_study())"
   ]
  },
  {
   "cell_type": "code",
   "execution_count": 21,
   "metadata": {
    "collapsed": false
   },
   "outputs": [],
   "source": [
    "#get_study_an_frset()"
   ]
  },
  {
   "cell_type": "code",
   "execution_count": 8,
   "metadata": {
    "collapsed": true
   },
   "outputs": [],
   "source": [
    "import os, goretriever, find_enrichment\n",
    "home = os.path.expanduser('~')\n",
    "study_fn = home + r'/modules/cpr/goterm/test/study_yeast_acetyl.txt'\n",
    "pop_fn =   home + r'/modules/cpr/goterm/test/population_yeast_obsProteome.txt'\n",
    "study, pop = find_enrichment.read_geneset(study_fn, pop_fn, compare=False)"
   ]
  },
  {
   "cell_type": "code",
   "execution_count": 13,
   "metadata": {
    "collapsed": false
   },
   "outputs": [
    {
     "data": {
      "text/plain": [
       "(1126, 1159)"
      ]
     },
     "execution_count": 13,
     "metadata": {},
     "output_type": "execute_result"
    }
   ],
   "source": [
    "len(ui.get_study_an_frset()), len(study)"
   ]
  },
  {
   "cell_type": "code",
   "execution_count": 15,
   "metadata": {
    "collapsed": false
   },
   "outputs": [],
   "source": [
    "study_fn = home + r'/modules/cpr/goterm/test/study_yeast_acetyl.txt'\n",
    "pop_fn =   home + r'/modules/cpr/goterm/test/population_yeast_obsProteome.txt'\n",
    "ui.write_goatools_input2file(study_fn, pop_fn)"
   ]
  },
  {
   "cell_type": "code",
   "execution_count": 31,
   "metadata": {
    "collapsed": false
   },
   "outputs": [],
   "source": [
    "dfnew = ui.df[['backgrnd_an', 'backgrnd_int']]\n",
    "dfnew.to_csv('UserInput_DataFrame_cleaned_temp.txt', header=True, index=False, sep='\\t')"
   ]
  },
  {
   "cell_type": "code",
   "execution_count": 26,
   "metadata": {
    "collapsed": false
   },
   "outputs": [
    {
     "ename": "AssertionError",
     "evalue": "",
     "output_type": "error",
     "traceback": [
      "\u001b[0;31m---------------------------------------------------------------------------\u001b[0m",
      "\u001b[0;31mAssertionError\u001b[0m                            Traceback (most recent call last)",
      "\u001b[0;32m<ipython-input-26-7c61495585c5>\u001b[0m in \u001b[0;36m<module>\u001b[0;34m()\u001b[0m\n\u001b[1;32m      1\u001b[0m \u001b[0ma\u001b[0m \u001b[0;34m=\u001b[0m \u001b[0;36m1\u001b[0m\u001b[0;34m\u001b[0m\u001b[0m\n\u001b[1;32m      2\u001b[0m \u001b[0mb\u001b[0m \u001b[0;34m=\u001b[0m \u001b[0;36m1.0\u001b[0m\u001b[0;34m\u001b[0m\u001b[0m\n\u001b[0;32m----> 3\u001b[0;31m \u001b[0;32massert\u001b[0m \u001b[0ma\u001b[0m \u001b[0;34m!=\u001b[0m \u001b[0mb\u001b[0m\u001b[0;34m\u001b[0m\u001b[0m\n\u001b[0m",
      "\u001b[0;31mAssertionError\u001b[0m: "
     ]
    }
   ],
   "source": [
    "a = 1\n",
    "b = 1.0\n",
    "assert a != b"
   ]
  },
  {
   "cell_type": "code",
   "execution_count": 29,
   "metadata": {
    "collapsed": false
   },
   "outputs": [
    {
     "data": {
      "text/plain": [
       "Pvalue(left_tail=0.7154, right_tail=0.7154, two_tail=1)"
      ]
     },
     "execution_count": 29,
     "metadata": {},
     "output_type": "execute_result"
    }
   ],
   "source": [
    "import fisher\n",
    "a = 2\n",
    "col_1 = 8\n",
    "r1 = 4\n",
    "n = 16\n",
    "fisher.pvalue_population(a, col_1, r1, n)"
   ]
  },
  {
   "cell_type": "code",
   "execution_count": 30,
   "metadata": {
    "collapsed": false
   },
   "outputs": [
    {
     "data": {
      "text/html": [
       "<div style=\"max-height:1000px;max-width:1500px;overflow:auto;\">\n",
       "<table border=\"1\" class=\"dataframe\">\n",
       "  <thead>\n",
       "    <tr style=\"text-align: right;\">\n",
       "      <th></th>\n",
       "      <th>backgrnd_an</th>\n",
       "      <th>backgrnd_int</th>\n",
       "      <th>sample_an</th>\n",
       "    </tr>\n",
       "  </thead>\n",
       "  <tbody>\n",
       "    <tr>\n",
       "      <th>A5Z2X5</th>\n",
       "      <td>A5Z2X5</td>\n",
       "      <td>9.028612</td>\n",
       "      <td>NaN</td>\n",
       "    </tr>\n",
       "    <tr>\n",
       "      <th>O13297</th>\n",
       "      <td>O13297</td>\n",
       "      <td>8.099335</td>\n",
       "      <td>O13297</td>\n",
       "    </tr>\n",
       "    <tr>\n",
       "      <th>O13329</th>\n",
       "      <td>O13329</td>\n",
       "      <td>6.773450</td>\n",
       "      <td>NaN</td>\n",
       "    </tr>\n",
       "    <tr>\n",
       "      <th>O13516</th>\n",
       "      <td>O13516</td>\n",
       "      <td>7.956591</td>\n",
       "      <td>NaN</td>\n",
       "    </tr>\n",
       "    <tr>\n",
       "      <th>O13525</th>\n",
       "      <td>O13525</td>\n",
       "      <td>7.702801</td>\n",
       "      <td>NaN</td>\n",
       "    </tr>\n",
       "    <tr>\n",
       "      <th>O13535</th>\n",
       "      <td>O13535</td>\n",
       "      <td>6.918424</td>\n",
       "      <td>NaN</td>\n",
       "    </tr>\n",
       "    <tr>\n",
       "      <th>O13539</th>\n",
       "      <td>O13539</td>\n",
       "      <td>7.708446</td>\n",
       "      <td>NaN</td>\n",
       "    </tr>\n",
       "    <tr>\n",
       "      <th>O13563</th>\n",
       "      <td>O13563</td>\n",
       "      <td>8.633711</td>\n",
       "      <td>NaN</td>\n",
       "    </tr>\n",
       "    <tr>\n",
       "      <th>O13576</th>\n",
       "      <td>O13576</td>\n",
       "      <td>7.749025</td>\n",
       "      <td>NaN</td>\n",
       "    </tr>\n",
       "    <tr>\n",
       "      <th>O13585</th>\n",
       "      <td>O13585</td>\n",
       "      <td>7.521517</td>\n",
       "      <td>NaN</td>\n",
       "    </tr>\n",
       "    <tr>\n",
       "      <th>O14455</th>\n",
       "      <td>O14455</td>\n",
       "      <td>10.597871</td>\n",
       "      <td>NaN</td>\n",
       "    </tr>\n",
       "    <tr>\n",
       "      <th>O14467</th>\n",
       "      <td>O14467</td>\n",
       "      <td>9.870351</td>\n",
       "      <td>O14467</td>\n",
       "    </tr>\n",
       "    <tr>\n",
       "      <th>O43137</th>\n",
       "      <td>O43137</td>\n",
       "      <td>8.957875</td>\n",
       "      <td>NaN</td>\n",
       "    </tr>\n",
       "    <tr>\n",
       "      <th>O60200</th>\n",
       "      <td>O60200</td>\n",
       "      <td>8.094890</td>\n",
       "      <td>NaN</td>\n",
       "    </tr>\n",
       "    <tr>\n",
       "      <th>O74700</th>\n",
       "      <td>O74700</td>\n",
       "      <td>8.732088</td>\n",
       "      <td>NaN</td>\n",
       "    </tr>\n",
       "    <tr>\n",
       "      <th>O75012</th>\n",
       "      <td>O75012</td>\n",
       "      <td>7.645295</td>\n",
       "      <td>NaN</td>\n",
       "    </tr>\n",
       "    <tr>\n",
       "      <th>O94742</th>\n",
       "      <td>O94742</td>\n",
       "      <td>8.440783</td>\n",
       "      <td>NaN</td>\n",
       "    </tr>\n",
       "    <tr>\n",
       "      <th>P00044</th>\n",
       "      <td>P00044</td>\n",
       "      <td>9.077332</td>\n",
       "      <td>P00044</td>\n",
       "    </tr>\n",
       "    <tr>\n",
       "      <th>P00045</th>\n",
       "      <td>P00045</td>\n",
       "      <td>7.984073</td>\n",
       "      <td>NaN</td>\n",
       "    </tr>\n",
       "    <tr>\n",
       "      <th>P00127</th>\n",
       "      <td>P00127</td>\n",
       "      <td>7.593175</td>\n",
       "      <td>NaN</td>\n",
       "    </tr>\n",
       "    <tr>\n",
       "      <th>P00128</th>\n",
       "      <td>P00128</td>\n",
       "      <td>8.937382</td>\n",
       "      <td>NaN</td>\n",
       "    </tr>\n",
       "    <tr>\n",
       "      <th>P00175</th>\n",
       "      <td>P00175</td>\n",
       "      <td>7.991093</td>\n",
       "      <td>NaN</td>\n",
       "    </tr>\n",
       "    <tr>\n",
       "      <th>P00330</th>\n",
       "      <td>P00330</td>\n",
       "      <td>10.669038</td>\n",
       "      <td>P00330</td>\n",
       "    </tr>\n",
       "    <tr>\n",
       "      <th>P00331</th>\n",
       "      <td>P00331</td>\n",
       "      <td>9.191870</td>\n",
       "      <td>P00331</td>\n",
       "    </tr>\n",
       "    <tr>\n",
       "      <th>P00358</th>\n",
       "      <td>P00358</td>\n",
       "      <td>9.778405</td>\n",
       "      <td>P00358</td>\n",
       "    </tr>\n",
       "    <tr>\n",
       "      <th>P00359</th>\n",
       "      <td>P00359</td>\n",
       "      <td>11.077513</td>\n",
       "      <td>P00359</td>\n",
       "    </tr>\n",
       "    <tr>\n",
       "      <th>P00360</th>\n",
       "      <td>P00360</td>\n",
       "      <td>9.794997</td>\n",
       "      <td>P00360</td>\n",
       "    </tr>\n",
       "    <tr>\n",
       "      <th>P00401</th>\n",
       "      <td>P00401</td>\n",
       "      <td>7.029749</td>\n",
       "      <td>NaN</td>\n",
       "    </tr>\n",
       "    <tr>\n",
       "      <th>P00410</th>\n",
       "      <td>P00410</td>\n",
       "      <td>8.356886</td>\n",
       "      <td>NaN</td>\n",
       "    </tr>\n",
       "    <tr>\n",
       "      <th>P00424</th>\n",
       "      <td>P00424</td>\n",
       "      <td>7.714983</td>\n",
       "      <td>NaN</td>\n",
       "    </tr>\n",
       "    <tr>\n",
       "      <th>...</th>\n",
       "      <td>...</td>\n",
       "      <td>...</td>\n",
       "      <td>...</td>\n",
       "    </tr>\n",
       "    <tr>\n",
       "      <th>Q99207</th>\n",
       "      <td>Q99207</td>\n",
       "      <td>8.296424</td>\n",
       "      <td>Q99207</td>\n",
       "    </tr>\n",
       "    <tr>\n",
       "      <th>Q99210</th>\n",
       "      <td>Q99210</td>\n",
       "      <td>7.256068</td>\n",
       "      <td>NaN</td>\n",
       "    </tr>\n",
       "    <tr>\n",
       "      <th>Q99216</th>\n",
       "      <td>Q99216</td>\n",
       "      <td>8.431412</td>\n",
       "      <td>Q99216</td>\n",
       "    </tr>\n",
       "    <tr>\n",
       "      <th>Q99220</th>\n",
       "      <td>Q99220</td>\n",
       "      <td>7.623187</td>\n",
       "      <td>NaN</td>\n",
       "    </tr>\n",
       "    <tr>\n",
       "      <th>Q99222</th>\n",
       "      <td>Q99222</td>\n",
       "      <td>6.308500</td>\n",
       "      <td>NaN</td>\n",
       "    </tr>\n",
       "    <tr>\n",
       "      <th>Q99247</th>\n",
       "      <td>Q99247</td>\n",
       "      <td>7.360574</td>\n",
       "      <td>NaN</td>\n",
       "    </tr>\n",
       "    <tr>\n",
       "      <th>Q99257</th>\n",
       "      <td>Q99257</td>\n",
       "      <td>8.392222</td>\n",
       "      <td>NaN</td>\n",
       "    </tr>\n",
       "    <tr>\n",
       "      <th>Q99258</th>\n",
       "      <td>Q99258</td>\n",
       "      <td>9.164502</td>\n",
       "      <td>NaN</td>\n",
       "    </tr>\n",
       "    <tr>\n",
       "      <th>Q99260</th>\n",
       "      <td>Q99260</td>\n",
       "      <td>8.264298</td>\n",
       "      <td>NaN</td>\n",
       "    </tr>\n",
       "    <tr>\n",
       "      <th>Q99271</th>\n",
       "      <td>Q99271</td>\n",
       "      <td>7.115544</td>\n",
       "      <td>NaN</td>\n",
       "    </tr>\n",
       "    <tr>\n",
       "      <th>Q99278</th>\n",
       "      <td>Q99278</td>\n",
       "      <td>7.916038</td>\n",
       "      <td>NaN</td>\n",
       "    </tr>\n",
       "    <tr>\n",
       "      <th>Q99287</th>\n",
       "      <td>Q99287</td>\n",
       "      <td>8.451756</td>\n",
       "      <td>Q99287</td>\n",
       "    </tr>\n",
       "    <tr>\n",
       "      <th>Q99288</th>\n",
       "      <td>Q99288</td>\n",
       "      <td>8.382449</td>\n",
       "      <td>NaN</td>\n",
       "    </tr>\n",
       "    <tr>\n",
       "      <th>Q99296</th>\n",
       "      <td>Q99296</td>\n",
       "      <td>7.316746</td>\n",
       "      <td>NaN</td>\n",
       "    </tr>\n",
       "    <tr>\n",
       "      <th>Q99297</th>\n",
       "      <td>Q99297</td>\n",
       "      <td>7.417771</td>\n",
       "      <td>NaN</td>\n",
       "    </tr>\n",
       "    <tr>\n",
       "      <th>Q99312</th>\n",
       "      <td>Q99312</td>\n",
       "      <td>8.651414</td>\n",
       "      <td>NaN</td>\n",
       "    </tr>\n",
       "    <tr>\n",
       "      <th>Q99314</th>\n",
       "      <td>Q99314</td>\n",
       "      <td>6.568178</td>\n",
       "      <td>Q99314</td>\n",
       "    </tr>\n",
       "    <tr>\n",
       "      <th>Q99316</th>\n",
       "      <td>Q99316</td>\n",
       "      <td>8.417006</td>\n",
       "      <td>NaN</td>\n",
       "    </tr>\n",
       "    <tr>\n",
       "      <th>Q99321</th>\n",
       "      <td>Q99321</td>\n",
       "      <td>8.717804</td>\n",
       "      <td>NaN</td>\n",
       "    </tr>\n",
       "    <tr>\n",
       "      <th>Q99325</th>\n",
       "      <td>Q99325</td>\n",
       "      <td>7.706368</td>\n",
       "      <td>NaN</td>\n",
       "    </tr>\n",
       "    <tr>\n",
       "      <th>Q99332</th>\n",
       "      <td>Q99332</td>\n",
       "      <td>6.133219</td>\n",
       "      <td>NaN</td>\n",
       "    </tr>\n",
       "    <tr>\n",
       "      <th>Q99337</th>\n",
       "      <td>Q99337</td>\n",
       "      <td>5.826023</td>\n",
       "      <td>NaN</td>\n",
       "    </tr>\n",
       "    <tr>\n",
       "      <th>Q99359</th>\n",
       "      <td>Q99359</td>\n",
       "      <td>6.245932</td>\n",
       "      <td>NaN</td>\n",
       "    </tr>\n",
       "    <tr>\n",
       "      <th>Q99369</th>\n",
       "      <td>Q99369</td>\n",
       "      <td>8.108768</td>\n",
       "      <td>NaN</td>\n",
       "    </tr>\n",
       "    <tr>\n",
       "      <th>Q99382</th>\n",
       "      <td>Q99382</td>\n",
       "      <td>7.282917</td>\n",
       "      <td>NaN</td>\n",
       "    </tr>\n",
       "    <tr>\n",
       "      <th>Q99383</th>\n",
       "      <td>Q99383</td>\n",
       "      <td>8.931163</td>\n",
       "      <td>Q99383</td>\n",
       "    </tr>\n",
       "    <tr>\n",
       "      <th>Q99385</th>\n",
       "      <td>Q99385</td>\n",
       "      <td>8.318001</td>\n",
       "      <td>NaN</td>\n",
       "    </tr>\n",
       "    <tr>\n",
       "      <th>Q99394</th>\n",
       "      <td>Q99394</td>\n",
       "      <td>7.523538</td>\n",
       "      <td>NaN</td>\n",
       "    </tr>\n",
       "    <tr>\n",
       "      <th>Q9P305</th>\n",
       "      <td>Q9P305</td>\n",
       "      <td>8.566520</td>\n",
       "      <td>NaN</td>\n",
       "    </tr>\n",
       "    <tr>\n",
       "      <th>Q9URQ5</th>\n",
       "      <td>Q9URQ5</td>\n",
       "      <td>7.808710</td>\n",
       "      <td>NaN</td>\n",
       "    </tr>\n",
       "  </tbody>\n",
       "</table>\n",
       "<p>4258 rows × 3 columns</p>\n",
       "</div>"
      ],
      "text/plain": [
       "       backgrnd_an  backgrnd_int sample_an\n",
       "A5Z2X5      A5Z2X5      9.028612       NaN\n",
       "O13297      O13297      8.099335    O13297\n",
       "O13329      O13329      6.773450       NaN\n",
       "O13516      O13516      7.956591       NaN\n",
       "O13525      O13525      7.702801       NaN\n",
       "O13535      O13535      6.918424       NaN\n",
       "O13539      O13539      7.708446       NaN\n",
       "O13563      O13563      8.633711       NaN\n",
       "O13576      O13576      7.749025       NaN\n",
       "O13585      O13585      7.521517       NaN\n",
       "O14455      O14455     10.597871       NaN\n",
       "O14467      O14467      9.870351    O14467\n",
       "O43137      O43137      8.957875       NaN\n",
       "O60200      O60200      8.094890       NaN\n",
       "O74700      O74700      8.732088       NaN\n",
       "O75012      O75012      7.645295       NaN\n",
       "O94742      O94742      8.440783       NaN\n",
       "P00044      P00044      9.077332    P00044\n",
       "P00045      P00045      7.984073       NaN\n",
       "P00127      P00127      7.593175       NaN\n",
       "P00128      P00128      8.937382       NaN\n",
       "P00175      P00175      7.991093       NaN\n",
       "P00330      P00330     10.669038    P00330\n",
       "P00331      P00331      9.191870    P00331\n",
       "P00358      P00358      9.778405    P00358\n",
       "P00359      P00359     11.077513    P00359\n",
       "P00360      P00360      9.794997    P00360\n",
       "P00401      P00401      7.029749       NaN\n",
       "P00410      P00410      8.356886       NaN\n",
       "P00424      P00424      7.714983       NaN\n",
       "...            ...           ...       ...\n",
       "Q99207      Q99207      8.296424    Q99207\n",
       "Q99210      Q99210      7.256068       NaN\n",
       "Q99216      Q99216      8.431412    Q99216\n",
       "Q99220      Q99220      7.623187       NaN\n",
       "Q99222      Q99222      6.308500       NaN\n",
       "Q99247      Q99247      7.360574       NaN\n",
       "Q99257      Q99257      8.392222       NaN\n",
       "Q99258      Q99258      9.164502       NaN\n",
       "Q99260      Q99260      8.264298       NaN\n",
       "Q99271      Q99271      7.115544       NaN\n",
       "Q99278      Q99278      7.916038       NaN\n",
       "Q99287      Q99287      8.451756    Q99287\n",
       "Q99288      Q99288      8.382449       NaN\n",
       "Q99296      Q99296      7.316746       NaN\n",
       "Q99297      Q99297      7.417771       NaN\n",
       "Q99312      Q99312      8.651414       NaN\n",
       "Q99314      Q99314      6.568178    Q99314\n",
       "Q99316      Q99316      8.417006       NaN\n",
       "Q99321      Q99321      8.717804       NaN\n",
       "Q99325      Q99325      7.706368       NaN\n",
       "Q99332      Q99332      6.133219       NaN\n",
       "Q99337      Q99337      5.826023       NaN\n",
       "Q99359      Q99359      6.245932       NaN\n",
       "Q99369      Q99369      8.108768       NaN\n",
       "Q99382      Q99382      7.282917       NaN\n",
       "Q99383      Q99383      8.931163    Q99383\n",
       "Q99385      Q99385      8.318001       NaN\n",
       "Q99394      Q99394      7.523538       NaN\n",
       "Q9P305      Q9P305      8.566520       NaN\n",
       "Q9URQ5      Q9URQ5      7.808710       NaN\n",
       "\n",
       "[4258 rows x 3 columns]"
      ]
     },
     "execution_count": 30,
     "metadata": {},
     "output_type": "execute_result"
    }
   ],
   "source": [
    "dfnew"
   ]
  },
  {
   "cell_type": "code",
   "execution_count": null,
   "metadata": {
    "collapsed": true
   },
   "outputs": [],
   "source": []
  }
 ],
 "metadata": {
  "kernelspec": {
   "display_name": "Python 2",
   "language": "python",
   "name": "python2"
  },
  "language_info": {
   "codemirror_mode": {
    "name": "ipython",
    "version": 2
   },
   "file_extension": ".py",
   "mimetype": "text/x-python",
   "name": "python",
   "nbconvert_exporter": "python",
   "pygments_lexer": "ipython2",
   "version": "2.7.6"
  }
 },
 "nbformat": 4,
 "nbformat_minor": 0
}
