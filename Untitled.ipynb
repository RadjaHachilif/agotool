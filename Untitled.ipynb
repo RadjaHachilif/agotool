{
 "cells": [
  {
   "cell_type": "code",
   "execution_count": 1,
   "metadata": {
    "collapsed": true
   },
   "outputs": [],
   "source": [
    "# created on windof"
   ]
  },
  {
   "cell_type": "code",
   "execution_count": 3,
   "metadata": {
    "collapsed": true
   },
   "outputs": [],
   "source": [
    "fn=r\"C:\\Users\\dblyon\\CPR\\Brian_GO\\UniProt_data\\gene_association.goa_ref_human\\gene_association.goa_ref_human\"\n",
    "fh = open(fn, \"r\")"
   ]
  },
  {
   "cell_type": "code",
   "execution_count": null,
   "metadata": {
    "collapsed": true
   },
   "outputs": [],
   "source": [
    "DB, DB_Object_ID, DB_Object_Symbol, Qualifier, GO_ID, DB:Reference\n",
    "7.\t\tEvidence Code\n",
    "8.\t\tWith (or) From\n",
    "9.\t\tAspect\n",
    "10.\t\tDB_Object_Name\n",
    "11.\t\tDB_Object_Synonym\n",
    "12.\t\tDB_Object_Type\n",
    "13.\t\tTaxon and Interacting taxon\n",
    "14.\t\tDate\n",
    "15.\t\tAssigned_By\n",
    "16.\t\tAnnotation_Extension\n",
    "17.\t\tGene_Product_Form_ID"
   ]
  }
 ],
 "metadata": {
  "kernelspec": {
   "display_name": "Python 2",
   "language": "python",
   "name": "python2"
  },
  "language_info": {
   "codemirror_mode": {
    "name": "ipython",
    "version": 2
   },
   "file_extension": ".py",
   "mimetype": "text/x-python",
   "name": "python",
   "nbconvert_exporter": "python",
   "pygments_lexer": "ipython2",
   "version": "2.7.6"
  }
 },
 "nbformat": 4,
 "nbformat_minor": 0
}
