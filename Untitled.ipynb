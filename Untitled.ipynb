{
 "cells": [
  {
   "cell_type": "code",
   "execution_count": 1,
   "metadata": {
    "collapsed": false
   },
   "outputs": [
    {
     "data": {
      "text/plain": [
       "u'/Users/dblyon/modules/cpr/goterm'"
      ]
     },
     "execution_count": 1,
     "metadata": {},
     "output_type": "execute_result"
    }
   ],
   "source": [
    "pwd"
   ]
  },
  {
   "cell_type": "code",
   "execution_count": 2,
   "metadata": {
    "collapsed": true
   },
   "outputs": [],
   "source": [
    "# python scripts/find_enrichment.py --pval=0.05 --indent data/study data/population data/association"
   ]
  },
  {
   "cell_type": "code",
   "execution_count": 3,
   "metadata": {
    "collapsed": false
   },
   "outputs": [
    {
     "name": "stdout",
     "output_type": "stream",
     "text": [
      "Test_pickle_goretriever.p  __init__.py                test.py                    test_goretriever.py\r\n",
      "Untitled.ipynb             goretriever.py             test.txt\r\n"
     ]
    }
   ],
   "source": [
    "ls"
   ]
  },
  {
   "cell_type": "code",
   "execution_count": 30,
   "metadata": {
    "collapsed": false
   },
   "outputs": [
    {
     "name": "stdout",
     "output_type": "stream",
     "text": [
      "/Users/dblyon/CloudStation/CPR/Brian_GO\n"
     ]
    }
   ],
   "source": [
    "cd /Users/dblyon/CloudStation/CPR/Brian_GO/goatools"
   ]
  },
  {
   "cell_type": "code",
   "execution_count": 33,
   "metadata": {
    "collapsed": false
   },
   "outputs": [
    {
     "name": "stderr",
     "output_type": "stream",
     "text": [
      "load obo file go-basic.obo\n",
      "44951 nodes imported\n",
      "terms not found: set(['GO:0022627', 'GO:0022625'])"
     ]
    },
    {
     "name": "stdout",
     "output_type": "stream",
     "text": [
      "# min_ratio=None pval=0.05\n",
      "id\tenrichment\tdescription\tratio_in_study\tratio_in_pop\tp_uncorrected\tp_bonferroni\tp_holm\tp_sidak\tp_fdr\n",
      ".GO:0003824\te\tcatalytic activity\t106/276\t7723/33239\t1.6e-08\t1.25e-05\t1.25e-05\t1.22e-05\tn.a.\n",
      "..GO:0016740\te\ttransferase activity\t54/276\t2976/33239\t5.43e-08\t4.25e-05\t4.25e-05\t4.15e-05\tn.a.\n",
      ".....GO:0006464\te\tcellular protein modification process\t33/276\t1727/33239\t8.25e-06\t0.00647\t0.00645\t0.0063\tn.a.\n",
      "....GO:0036211\te\tprotein modification process\t33/276\t1727/33239\t8.25e-06\t0.00647\t0.00645\t0.0063\tn.a.\n",
      "......GO:0006468\te\tprotein phosphorylation\t22/276\t922/33239\t1.08e-05\t0.00845\t0.00841\t0.00824\tn.a.\n",
      ".....GO:0016310\te\tphosphorylation\t22/276\t945/33239\t1.57e-05\t0.0123\t0.0123\t0.012\tn.a.\n",
      "...GO:0098599\te\tpalmitoyl hydrolase activity\t3/276\t7/33239\t1.93e-05\t0.0152\t0.015\t0.0148\tn.a.\n",
      "....GO:0008474\te\tpalmitoyl-(protein) hydrolase activity\t3/276\t7/33239\t1.93e-05\t0.0152\t0.015\t0.0148\tn.a.\n",
      "...GO:0005839\te\tproteasome core complex\t4/276\t23/33239\t3.64e-05\t0.0285\t0.0282\t0.0278\tn.a.\n",
      "....GO:0043412\te\tmacromolecule modification\t33/276\t1874/33239\t5.65e-05\t0.0443\t0.0438\t0.0431\tn.a.\n"
     ]
    },
    {
     "name": "stderr",
     "output_type": "stream",
     "text": [
      "\n"
     ]
    }
   ],
   "source": [
    "%run scripts/find_enrichment.py --pval=0.05 --indent data/study data/population data/association_test.txt"
   ]
  },
  {
   "cell_type": "code",
   "execution_count": 1,
   "metadata": {
    "collapsed": false
   },
   "outputs": [
    {
     "name": "stdout",
     "output_type": "stream",
     "text": [
      "/Users/dblyon/modules/cpr/goterm\n"
     ]
    }
   ],
   "source": [
    "cd /Users/dblyon/modules/cpr/goterm"
   ]
  },
  {
   "cell_type": "code",
   "execution_count": 2,
   "metadata": {
    "collapsed": false
   },
   "outputs": [],
   "source": [
    "import goretriever\n",
    "gor = goretriever.Goretriever()"
   ]
  },
  {
   "cell_type": "code",
   "execution_count": 12,
   "metadata": {
    "collapsed": false
   },
   "outputs": [],
   "source": [
    "#fn=r'/Users/dblyon/CloudStation/CPR/Brian_GO/go_rescources/UniProt_goa/yeast/gene_association.goa_yeast'\n",
    "fn=r'/Users/dblyon/CloudStation/CPR/Brian_GO/go_rescources/UniProt_goa/human/gene_association.goa_ref_human'\n",
    "gor.parse_goa_ref(fn)"
   ]
  },
  {
   "cell_type": "code",
   "execution_count": 13,
   "metadata": {
    "collapsed": false
   },
   "outputs": [],
   "source": [
    "#fn_out = r'/Users/dblyon/CloudStation/CPR/Brian_GO/goatools/data/association_goa_yeast'\n",
    "fn_out = r'/Users/dblyon/CloudStation/CPR/Brian_GO/goatools/data/association_goa_ref_human'\n",
    "gor.write_association2file(fn_out)"
   ]
  },
  {
   "cell_type": "code",
   "execution_count": 14,
   "metadata": {
    "collapsed": false
   },
   "outputs": [
    {
     "data": {
      "text/plain": [
       "u'/Users/dblyon/modules/cpr/goterm'"
      ]
     },
     "execution_count": 14,
     "metadata": {},
     "output_type": "execute_result"
    }
   ],
   "source": [
    "pwd"
   ]
  },
  {
   "cell_type": "code",
   "execution_count": 3,
   "metadata": {
    "collapsed": false
   },
   "outputs": [],
   "source": [
    "import goretriever\n",
    "ui = goretriever.UserInput()\n",
    "ui.temp_setup()\n",
    "fn_study = r'/Users/dblyon/CloudStation/CPR/Brian_GO/goatools/data/study_yeast'\n",
    "fn_pop   = r'/Users/dblyon/CloudStation/CPR/Brian_GO/goatools/data/population_yeast'\n",
    "ui.write_goatools_input2file(fn_study, fn_pop)"
   ]
  },
  {
   "cell_type": "code",
   "execution_count": 5,
   "metadata": {
    "collapsed": false
   },
   "outputs": [
    {
     "name": "stdout",
     "output_type": "stream",
     "text": [
      "/Users/dblyon/CloudStation/CPR/Brian_GO/goatools_orig\n"
     ]
    }
   ],
   "source": [
    "cd /Users/dblyon/CloudStation/CPR/Brian_GO/goatools_orig"
   ]
  },
  {
   "cell_type": "code",
   "execution_count": 7,
   "metadata": {
    "collapsed": false
   },
   "outputs": [
    {
     "name": "stderr",
     "output_type": "stream",
     "text": [
      "load obo file /Users/dblyon/CloudStation/CPR/Brian_GO/go_rescources/go_obo/go-basic.obo\n",
      "44951 nodes imported\n",
      "terms not found: set(['GO:0022627', 'GO:0022625'])"
     ]
    },
    {
     "name": "stdout",
     "output_type": "stream",
     "text": [
      "# min_ratio=None pval=0.05\n",
      "id\tenrichment\tdescription\tratio_in_study\tratio_in_pop\tp_uncorrected\tp_bonferroni\tp_holm\tp_sidak\tp_fdr\n",
      ".GO:0003824\te\tcatalytic activity\t106/276\t7723/33239\t1.6e-08\t1.25e-05\t1.25e-05\t1.22e-05\tn.a.\n",
      "..GO:0016740\te\ttransferase activity\t54/276\t2976/33239\t5.43e-08\t4.25e-05\t4.25e-05\t4.15e-05\tn.a.\n",
      ".....GO:0006464\te\tcellular protein modification process\t33/276\t1727/33239\t8.25e-06\t0.00647\t0.00645\t0.0063\tn.a.\n",
      "....GO:0036211\te\tprotein modification process\t33/276\t1727/33239\t8.25e-06\t0.00647\t0.00645\t0.0063\tn.a.\n",
      "......GO:0006468\te\tprotein phosphorylation\t22/276\t922/33239\t1.08e-05\t0.00845\t0.00841\t0.00824\tn.a.\n",
      ".....GO:0016310\te\tphosphorylation\t22/276\t945/33239\t1.57e-05\t0.0123\t0.0123\t0.012\tn.a.\n",
      "...GO:0098599\te\tpalmitoyl hydrolase activity\t3/276\t7/33239\t1.93e-05\t0.0152\t0.015\t0.0148\tn.a.\n",
      "....GO:0008474\te\tpalmitoyl-(protein) hydrolase activity\t3/276\t7/33239\t1.93e-05\t0.0152\t0.015\t0.0148\tn.a.\n",
      "...GO:0005839\te\tproteasome core complex\t4/276\t23/33239\t3.64e-05\t0.0285\t0.0282\t0.0278\tn.a.\n",
      "....GO:0043412\te\tmacromolecule modification\t33/276\t1874/33239\t5.65e-05\t0.0443\t0.0438\t0.0431\tn.a.\n"
     ]
    },
    {
     "name": "stderr",
     "output_type": "stream",
     "text": [
      "\n"
     ]
    }
   ],
   "source": [
    "# test from goatools\n",
    "%run scripts/find_enrichment.py --pval=0.05 --indent data/study data/population data/association --obo /Users/dblyon/CloudStation/CPR/Brian_GO/go_rescources/go_obo/go-basic.obo"
   ]
  },
  {
   "cell_type": "code",
   "execution_count": 21,
   "metadata": {
    "collapsed": false
   },
   "outputs": [],
   "source": [
    "# %run scripts/find_enrichment.py --pval=0.05 --indent \n",
    "# /Users/dblyon/CloudStation/CPR/Brian_GO/go_rescources/input_goatools/study_yeast \n",
    "# /Users/dblyon/CloudStation/CPR/Brian_GO/go_rescources/input_goatools/population_yeast\n",
    "# /Users/dblyon/CloudStation/CPR/Brian_GO/go_rescources/input_goatools/association_goa_yeast\n",
    "# --obo /Users/dblyon/CloudStation/CPR/Brian_GO/go_rescources/go_obo/go-basic.obo"
   ]
  },
  {
   "cell_type": "code",
   "execution_count": 4,
   "metadata": {
    "collapsed": false
   },
   "outputs": [],
   "source": [
    "# %run scripts/find_enrichment.py --pval=0.05 --indent /Users/dblyon/CloudStation/CPR/Brian_GO/go_rescources/input_goatools/study_yeast /Users/dblyon/CloudStation/CPR/Brian_GO/go_rescources/input_goatools/population_yeast /Users/dblyon/CloudStation/CPR/Brian_GO/go_rescources/input_goatools/association_goa_yeast --obo /Users/dblyon/CloudStation/CPR/Brian_GO/go_rescources/go_obo/go-basic.obo"
   ]
  },
  {
   "cell_type": "code",
   "execution_count": 14,
   "metadata": {
    "collapsed": false
   },
   "outputs": [
    {
     "name": "stdout",
     "output_type": "stream",
     "text": [
      "/Users/dblyon/CloudStation/CPR/Brian_GO/goatools/scripts\n"
     ]
    }
   ],
   "source": [
    "cd scripts/"
   ]
  },
  {
   "cell_type": "code",
   "execution_count": 16,
   "metadata": {
    "collapsed": false
   },
   "outputs": [],
   "source": [
    "import find_enrichment"
   ]
  },
  {
   "cell_type": "code",
   "execution_count": 17,
   "metadata": {
    "collapsed": false
   },
   "outputs": [
    {
     "name": "stdout",
     "output_type": "stream",
     "text": [
      "Help on module find_enrichment:\n",
      "\n",
      "NAME\n",
      "    find_enrichment - # -*- coding: UTF-8 -*-\n",
      "\n",
      "FILE\n",
      "    /Users/dblyon/CloudStation/CPR/Brian_GO/goatools/scripts/find_enrichment.py\n",
      "\n",
      "FUNCTIONS\n",
      "    check_input_files(ns, p)\n",
      "        check filename args. otherwise if one of the 3 filenames is bad\n",
      "        it's hard to tell which one\n",
      "    \n",
      "    read_associations(assoc_fn)\n",
      "    \n",
      "    read_geneset(study_fn, pop_fn, compare=False)\n",
      "\n",
      "DATA\n",
      "    print_function = _Feature((2, 6, 0, 'alpha', 2), (3, 0, 0, 'alpha', 0)...\n",
      "\n",
      "\n"
     ]
    }
   ],
   "source": [
    "help(find_enrichment)"
   ]
  },
  {
   "cell_type": "code",
   "execution_count": 6,
   "metadata": {
    "collapsed": false
   },
   "outputs": [
    {
     "name": "stderr",
     "output_type": "stream",
     "text": [
      "load obo file /Users/dblyon/CloudStation/CPR/Brian_GO/go_rescources/go_obo/go-basic.obo\n",
      "44951 nodes imported\n"
     ]
    }
   ],
   "source": [
    "%run find_enrichment_dbl.py --pval=0.05 --indent /Users/dblyon/CloudStation/CPR/Brian_GO/go_rescources/input_goatools/study_yeast /Users/dblyon/CloudStation/CPR/Brian_GO/go_rescources/input_goatools/population_yeast /Users/dblyon/CloudStation/CPR/Brian_GO/go_rescources/input_goatools/association_goa_yeast --obo /Users/dblyon/CloudStation/CPR/Brian_GO/go_rescources/go_obo/go-basic.obo --fn_out 'summary_test.txt' "
   ]
  },
  {
   "cell_type": "code",
   "execution_count": 3,
   "metadata": {
    "collapsed": false
   },
   "outputs": [],
   "source": [
    "study1 =       r'/Users/dblyon/CloudStation/CPR/Brian_GO/go_rescources/input_goatools/study_test'\n",
    "population2 =  r'/Users/dblyon/CloudStation/CPR/Brian_GO/go_rescources/input_goatools/population_yeast'\n",
    "association3 = r'/Users/dblyon/CloudStation/CPR/Brian_GO/go_rescources/input_goatools/association_goa_yeast'\n",
    "obo = r'/Users/dblyon/CloudStation/CPR/Brian_GO/go_rescources/go_obo/go-basic.obo'\n",
    "fn_out = 'summary_test.txt'"
   ]
  },
  {
   "cell_type": "code",
   "execution_count": 3,
   "metadata": {
    "collapsed": false
   },
   "outputs": [],
   "source": [
    "#%run find_enrichment_dbl.py --pval=0.05 --indent study1 population2 association3 --obo obo --fn_out fn_out"
   ]
  },
  {
   "cell_type": "code",
   "execution_count": 8,
   "metadata": {
    "collapsed": false
   },
   "outputs": [
    {
     "name": "stderr",
     "output_type": "stream",
     "text": [
      "load obo file /Users/dblyon/CloudStation/CPR/Brian_GO/go_rescources/go_obo/go-basic.obo\n",
      "44951 nodes imported\n"
     ]
    }
   ],
   "source": [
    "%run find_enrichment_dbl.py /Users/dblyon/CloudStation/CPR/Brian_GO/go_rescources/input_goatools/study_test3.txt /Users/dblyon/CloudStation/CPR/Brian_GO/go_rescources/input_goatools/population_yeast /Users/dblyon/CloudStation/CPR/Brian_GO/go_rescources/input_goatools/association_goa_yeast --obo /Users/dblyon/CloudStation/CPR/Brian_GO/go_rescources/go_obo/go-basic.obo --fn_out 'summary_test3.txt' "
   ]
  },
  {
   "cell_type": "code",
   "execution_count": 3,
   "metadata": {
    "collapsed": false
   },
   "outputs": [
    {
     "data": {
      "text/plain": [
       "defaultdict(<type 'int'>, {'GO:0019219': 1, 'GO:0032774': 1, 'GO:0019222': 1, 'GO:0031328': 1, 'GO:0031326': 1, 'GO:0031325': 1, 'GO:0051173': 1, 'GO:0031323': 1, 'GO:0006139': 1, 'GO:0090304': 1, 'GO:0044249': 1, 'GO:0034641': 1, 'GO:0010628': 1, 'GO:0003674': 1, 'GO:0005488': 1, 'GO:0034645': 1, 'GO:0003677': 1, 'GO:0010556': 1, 'GO:1901362': 1, 'GO:1901363': 1, 'GO:1901360': 1, 'GO:0080090': 1, 'GO:0005737': 1, 'GO:0043565': 1, 'GO:0005575': 1, 'GO:0010604': 1, 'GO:0044260': 1, 'GO:0043227': 1, 'GO:0005634': 1, 'GO:0009891': 1, 'GO:0003713': 1, 'GO:0003712': 1, 'GO:0050789': 1, 'GO:0071704': 1, 'GO:0006357': 1, 'GO:0065007': 1, 'GO:0097659': 1, 'GO:0000989': 1, 'GO:0000988': 1, 'GO:0048518': 1, 'GO:0010468': 1, 'GO:2000112': 1, 'GO:0009893': 1, 'GO:0003676': 1, 'GO:0018130': 1, 'GO:1903508': 1, 'GO:0045935': 1, 'GO:0043229': 1, 'GO:1901576': 1, 'GO:0060255': 1, 'GO:0009889': 1, 'GO:0009987': 1, 'GO:0006725': 1, 'GO:1903506': 1, 'GO:0050794': 1, 'GO:0009058': 1, 'GO:0009059': 1, 'GO:0008150': 1, 'GO:0045893': 1, 'GO:0008152': 1, 'GO:2001141': 1, 'GO:0034654': 1, 'GO:0046483': 1, 'GO:0016070': 1, 'GO:0044238': 1, 'GO:0044271': 1, 'GO:0043231': 1, 'GO:0097159': 1, 'GO:0051252': 1, 'GO:0044464': 1, 'GO:0051254': 1, 'GO:0044237': 1, 'GO:0043170': 1, 'GO:1902680': 1, 'GO:0006355': 1, 'GO:0010557': 1, 'GO:0006807': 1, 'GO:0045944': 1, 'GO:0006351': 1, 'GO:0043226': 1, 'GO:0044424': 1, 'GO:0019438': 1, 'GO:0048522': 1, 'GO:0051171': 1})"
      ]
     },
     "execution_count": 3,
     "metadata": {},
     "output_type": "execute_result"
    }
   ],
   "source": [
    "term_study"
   ]
  },
  {
   "cell_type": "code",
   "execution_count": 6,
   "metadata": {
    "collapsed": false
   },
   "outputs": [],
   "source": [
    "#term_study.keys()"
   ]
  },
  {
   "cell_type": "code",
   "execution_count": 9,
   "metadata": {
    "collapsed": false
   },
   "outputs": [
    {
     "data": {
      "text/plain": [
       "['GO:0003713',\n",
       " 'GO:0005634',\n",
       " 'GO:0005737',\n",
       " 'GO:0006351',\n",
       " 'GO:0043565',\n",
       " 'GO:0045944']"
      ]
     },
     "execution_count": 9,
     "metadata": {},
     "output_type": "execute_result"
    }
   ],
   "source": [
    "import goretriever\n",
    "gor = goretriever.Goretriever()\n",
    "an='O14467'\n",
    "gor.get_goterms_from_an(an)"
   ]
  },
  {
   "cell_type": "code",
   "execution_count": 10,
   "metadata": {
    "collapsed": false
   },
   "outputs": [],
   "source": [
    "import goretriever\n",
    "ui = goretriever.UserInput()"
   ]
  },
  {
   "cell_type": "code",
   "execution_count": 24,
   "metadata": {
    "collapsed": false
   },
   "outputs": [],
   "source": [
    "import pandas as pd\n",
    "df = pd.read_csv('summary_test3.txt', sep='\\t')"
   ]
  },
  {
   "cell_type": "code",
   "execution_count": 25,
   "metadata": {
    "collapsed": false
   },
   "outputs": [
    {
     "data": {
      "text/html": [
       "<div style=\"max-height:1000px;max-width:1500px;overflow:auto;\">\n",
       "<table border=\"1\" class=\"dataframe\">\n",
       "  <thead>\n",
       "    <tr style=\"text-align: right;\">\n",
       "      <th></th>\n",
       "      <th></th>\n",
       "      <th></th>\n",
       "      <th></th>\n",
       "      <th></th>\n",
       "      <th></th>\n",
       "      <th></th>\n",
       "      <th></th>\n",
       "      <th></th>\n",
       "      <th># min_ratio=None pval=None</th>\n",
       "    </tr>\n",
       "  </thead>\n",
       "  <tbody>\n",
       "    <tr>\n",
       "      <th>id</th>\n",
       "      <th>enrichment</th>\n",
       "      <th>description</th>\n",
       "      <th>ratio_in_study</th>\n",
       "      <th>ratio_in_pop</th>\n",
       "      <th>p_uncorrected</th>\n",
       "      <th>p_bonferroni</th>\n",
       "      <th>p_holm</th>\n",
       "      <th>p_sidak</th>\n",
       "      <td>p_fdr</td>\n",
       "    </tr>\n",
       "    <tr>\n",
       "      <th>GO:0003713</th>\n",
       "      <th>e</th>\n",
       "      <th>transcription coactivator activity</th>\n",
       "      <th>1/1</th>\n",
       "      <th>23/4258</th>\n",
       "      <th>0.0054</th>\n",
       "      <th>0.454</th>\n",
       "      <th>0.454</th>\n",
       "      <th>0.442</th>\n",
       "      <td>n.a.</td>\n",
       "    </tr>\n",
       "    <tr>\n",
       "      <th>GO:0003712</th>\n",
       "      <th>e</th>\n",
       "      <th>transcription cofactor activity</th>\n",
       "      <th>1/1</th>\n",
       "      <th>47/4258</th>\n",
       "      <th>0.011</th>\n",
       "      <th>0.927</th>\n",
       "      <th>0.916</th>\n",
       "      <th>0.904</th>\n",
       "      <td>n.a.</td>\n",
       "    </tr>\n",
       "    <tr>\n",
       "      <th>GO:0000989</th>\n",
       "      <th>e</th>\n",
       "      <th>transcription factor binding transcription factor activity</th>\n",
       "      <th>1/1</th>\n",
       "      <th>93/4258</th>\n",
       "      <th>0.0218</th>\n",
       "      <th>1.83</th>\n",
       "      <th>1.79</th>\n",
       "      <th>1.79</th>\n",
       "      <td>n.a.</td>\n",
       "    </tr>\n",
       "    <tr>\n",
       "      <th>GO:0000988</th>\n",
       "      <th>e</th>\n",
       "      <th>protein binding transcription factor activity</th>\n",
       "      <th>1/1</th>\n",
       "      <th>111/4258</th>\n",
       "      <th>0.0261</th>\n",
       "      <th>2.19</th>\n",
       "      <th>2.11</th>\n",
       "      <th>2.14</th>\n",
       "      <td>n.a.</td>\n",
       "    </tr>\n",
       "  </tbody>\n",
       "</table>\n",
       "</div>"
      ],
      "text/plain": [
       "                                                                                                                                               # min_ratio=None pval=None\n",
       "id         enrichment description                                        ratio_in_study ratio_in_pop p_uncorrected p_bonferroni p_holm p_sidak                      p_fdr\n",
       "GO:0003713 e          transcription coactivator activity                 1/1            23/4258      0.0054        0.454        0.454  0.442                         n.a.\n",
       "GO:0003712 e          transcription cofactor activity                    1/1            47/4258      0.011         0.927        0.916  0.904                         n.a.\n",
       "GO:0000989 e          transcription factor binding transcription fact... 1/1            93/4258      0.0218        1.83         1.79   1.79                          n.a.\n",
       "GO:0000988 e          protein binding transcription factor activity      1/1            111/4258     0.0261        2.19         2.11   2.14                          n.a."
      ]
     },
     "execution_count": 25,
     "metadata": {},
     "output_type": "execute_result"
    }
   ],
   "source": [
    "df.head()"
   ]
  },
  {
   "cell_type": "code",
   "execution_count": 82,
   "metadata": {
    "collapsed": false
   },
   "outputs": [
    {
     "name": "stderr",
     "output_type": "stream",
     "text": [
      "load obo file /Users/dblyon/CloudStation/CPR/Brian_GO/go_rescources/go_obo/go-basic.obo\n",
      "44951 nodes imported\n"
     ]
    }
   ],
   "source": [
    "import obo_parser\n",
    "obo_file = r'/Users/dblyon/CloudStation/CPR/Brian_GO/go_rescources/go_obo/go-basic.obo'\n",
    "godag = obo_parser.GODag(obo_file)"
   ]
  },
  {
   "cell_type": "code",
   "execution_count": 83,
   "metadata": {
    "collapsed": false
   },
   "outputs": [
    {
     "name": "stdout",
     "output_type": "stream",
     "text": [
      "44951\n"
     ]
    }
   ],
   "source": [
    "print len(godag)"
   ]
  },
  {
   "cell_type": "code",
   "execution_count": 89,
   "metadata": {
    "collapsed": false
   },
   "outputs": [
    {
     "name": "stdout",
     "output_type": "stream",
     "text": [
      "6\n"
     ]
    },
    {
     "data": {
      "text/plain": [
       "{'GO:0003713',\n",
       " 'GO:0005634',\n",
       " 'GO:0005737',\n",
       " 'GO:0006351',\n",
       " 'GO:0043565',\n",
       " 'GO:0045944'}"
      ]
     },
     "execution_count": 89,
     "metadata": {},
     "output_type": "execute_result"
    }
   ],
   "source": [
    "import find_enrichment_dbl\n",
    "assoc_fn = r'/Users/dblyon/CloudStation/CPR/Brian_GO/go_rescources/input_goatools/association_goa_yeast'\n",
    "assoc = find_enrichment_dbl.read_associations(assoc_fn)\n",
    "print len(assoc['O14467'])\n",
    "assoc['O14467']"
   ]
  },
  {
   "cell_type": "code",
   "execution_count": 94,
   "metadata": {
    "collapsed": false
   },
   "outputs": [
    {
     "name": "stdout",
     "output_type": "stream",
     "text": [
      "GO:0005737\n",
      "GO:0043565\n",
      "GO:0005634\n",
      "GO:0003713\n",
      "GO:0045944\n",
      "GO:0006351\n"
     ]
    }
   ],
   "source": [
    "#godag.update_association(assoc)\n",
    "#print len(assoc['O14467'])\n",
    "for goterm in assoc['O14467']:\n",
    "    print goterm"
   ]
  },
  {
   "cell_type": "code",
   "execution_count": 86,
   "metadata": {
    "collapsed": false
   },
   "outputs": [
    {
     "data": {
      "text/plain": [
       "{'GO:0000988', 'GO:0000989', 'GO:0003674', 'GO:0003712'}"
      ]
     },
     "execution_count": 86,
     "metadata": {},
     "output_type": "execute_result"
    }
   ],
   "source": [
    "term = 'GO:0003713'\n",
    "godag.__getitem__(term).get_all_parents()"
   ]
  },
  {
   "cell_type": "code",
   "execution_count": 18,
   "metadata": {
    "collapsed": false
   },
   "outputs": [
    {
     "data": {
      "text/plain": [
       "{'GO:0001105', 'GO:0001128', 'GO:0030374', 'GO:0030375'}"
      ]
     },
     "execution_count": 18,
     "metadata": {},
     "output_type": "execute_result"
    }
   ],
   "source": [
    "godag['GO:0003713'].get_all_children()"
   ]
  },
  {
   "cell_type": "code",
   "execution_count": 19,
   "metadata": {
    "collapsed": false
   },
   "outputs": [
    {
     "data": {
      "text/plain": [
       "'GO:0003713'"
      ]
     },
     "execution_count": 19,
     "metadata": {},
     "output_type": "execute_result"
    }
   ],
   "source": [
    "godag[term].id"
   ]
  },
  {
   "cell_type": "code",
   "execution_count": 69,
   "metadata": {
    "collapsed": false
   },
   "outputs": [
    {
     "name": "stderr",
     "output_type": "stream",
     "text": [
      "load obo file /Users/dblyon/CloudStation/CPR/Brian_GO/go_rescources/go_obo/go-basic.obo\n",
      "44951 nodes imported\n"
     ]
    }
   ],
   "source": [
    "from ratio import count_terms\n",
    "import find_enrichment_dbl\n",
    "import obo_parser\n",
    "study_fn = r'/Users/dblyon/CloudStation/CPR/Brian_GO/go_rescources/input_goatools/study_test4.txt'\n",
    "pop_fn = r'/Users/dblyon/CloudStation/CPR/Brian_GO/go_rescources/input_goatools/population_yeast_test4.txt'\n",
    "obo_file = r'/Users/dblyon/CloudStation/CPR/Brian_GO/go_rescources/go_obo/go-basic.obo'\n",
    "association_fn = r'/Users/dblyon/CloudStation/CPR/Brian_GO/go_rescources/input_goatools/association_goa_yeast'\n",
    "study, pop = find_enrichment_dbl.read_geneset(study_fn, pop_fn, compare=False)\n",
    "obo_dag = obo_parser.GODag(obo_file)\n",
    "assoc = find_enrichment_dbl.read_associations(association_fn)\n",
    "term_cnt = count_terms(pop, assoc, obo_dag)"
   ]
  },
  {
   "cell_type": "code",
   "execution_count": 70,
   "metadata": {
    "collapsed": false
   },
   "outputs": [
    {
     "name": "stdout",
     "output_type": "stream",
     "text": [
      "defaultdict(<type 'int'>, {'GO:0005737': 1, 'GO:0043565': 1, 'GO:1900182': 1, 'GO:0031533': 1, 'GO:0016021': 1, 'GO:0003713': 1, 'GO:0005634': 1, 'GO:0004651': 1, 'GO:0005575': 1, 'GO:0006370': 1, 'GO:0045944': 1, 'GO:0003674': 1, 'GO:0006351': 1, 'GO:0005515': 1, 'GO:0008150': 1, 'GO:0098501': 1, 'GO:0032968': 1, 'GO:0098507': 1})\n"
     ]
    }
   ],
   "source": [
    "print term_cnt"
   ]
  },
  {
   "cell_type": "code",
   "execution_count": 95,
   "metadata": {
    "collapsed": false
   },
   "outputs": [
    {
     "data": {
      "text/plain": [
       "(1, 0)"
      ]
     },
     "execution_count": 95,
     "metadata": {},
     "output_type": "execute_result"
    }
   ],
   "source": [
    "term_cnt['GO:0005515'],term_cnt['nonsense']"
   ]
  },
  {
   "cell_type": "code",
   "execution_count": 98,
   "metadata": {
    "collapsed": false
   },
   "outputs": [
    {
     "name": "stdout",
     "output_type": "stream",
     "text": [
      "GO:000737 0\n",
      "GO:000737 0\n",
      "\n",
      "nonsense 0\n",
      "nonsense 0\n",
      "\n",
      "GO:0003674 1\n",
      "GO:0003674 1\n",
      "\n",
      "GO:0032968 1\n",
      "GO:0032968 1\n",
      "\n",
      "GO:0005737 1\n",
      "GO:0005737 1\n",
      "\n",
      "GO:0043565 1\n",
      "GO:0043565 1\n",
      "\n",
      "GO:0031533 1\n",
      "GO:0031533 1\n",
      "\n",
      "GO:0016021 1\n",
      "GO:0016021 1\n",
      "\n",
      "GO:0003713 1\n",
      "GO:0003713 1\n",
      "\n",
      "GO:0004651 1\n",
      "GO:0004651 1\n",
      "\n",
      "GO:0007 0\n",
      "GO:0007 0\n",
      "\n",
      "GO:0008150 1\n",
      "GO:0008150 1\n",
      "\n",
      "GO:0098501 1\n",
      "GO:0098501 1\n",
      "\n",
      "GO:0098507 1\n",
      "GO:0098507 1\n",
      "\n",
      "GO:0005515  0\n",
      "GO:0005515  0\n",
      "\n",
      "GO:1900182 1\n",
      "GO:1900182 1\n",
      "\n",
      "GO:0005575 1\n",
      "GO:0005575 1\n",
      "\n",
      "GO:0006370 1\n",
      "GO:0006370 1\n",
      "\n",
      "GO:0045944 1\n",
      "GO:0045944 1\n",
      "\n",
      "GO:0006351 1\n",
      "GO:0006351 1\n",
      "\n",
      "GO:0005515 1\n",
      "GO:0005515 1\n",
      "\n",
      "GO:0005634 1\n",
      "GO:0005634 1\n",
      "\n"
     ]
    }
   ],
   "source": [
    "for goterm in term_cnt:\n",
    "    print goterm, term_cnt[goterm]\n",
    "    term_cnt[goterm] = int(round(term_cnt[goterm]))\n",
    "    print goterm, term_cnt[goterm]\n",
    "    print"
   ]
  },
  {
   "cell_type": "code",
   "execution_count": 40,
   "metadata": {
    "collapsed": false
   },
   "outputs": [
    {
     "name": "stdout",
     "output_type": "stream",
     "text": [
      "3.36519046978e-05 1.0 6.73038093956e-05\n"
     ]
    }
   ],
   "source": [
    "import fisher\n",
    "study_count = 0\n",
    "study_n     = 12\n",
    "pop_count   = 10\n",
    "pop_n       = 2\n",
    "#p = fisher.pvalue_population(study_count, study_n, pop_count, pop_n)\n",
    "p = fisher.pvalue(study_count, study_n, pop_count, pop_n)\n",
    "print p.left_tail, p.right_tail, p.two_tail"
   ]
  },
  {
   "cell_type": "code",
   "execution_count": 10,
   "metadata": {
    "collapsed": false
   },
   "outputs": [
    {
     "data": {
      "text/plain": [
       "(0.0, 0.0, 0.0)"
      ]
     },
     "execution_count": 10,
     "metadata": {},
     "output_type": "execute_result"
    }
   ],
   "source": [
    "p = fisher.pvalue_population(study_count, pop_count, study_n, pop_n)\n",
    "p.left_tail, p.right_tail, p.two_tail"
   ]
  },
  {
   "cell_type": "code",
   "execution_count": 44,
   "metadata": {
    "collapsed": false
   },
   "outputs": [
    {
     "name": "stdout",
     "output_type": "stream",
     "text": [
      "0.00137972809261 0.999966348095 0.00275945618522\n"
     ]
    }
   ],
   "source": [
    "import fisher\n",
    "study_count = 1\n",
    "study_n     = 11\n",
    "pop_count   = 9\n",
    "pop_n       = 3\n",
    "#p = fisher.pvalue_population(study_count, study_n, pop_count, pop_n)\n",
    "p = fisher.pvalue(study_count, study_n, pop_count, pop_n)\n",
    "print p.left_tail, p.right_tail, p.two_tail"
   ]
  },
  {
   "cell_type": "code",
   "execution_count": 45,
   "metadata": {
    "collapsed": false
   },
   "outputs": [
    {
     "data": {
      "text/plain": [
       "9.261004723509769e-11"
      ]
     },
     "execution_count": 45,
     "metadata": {},
     "output_type": "execute_result"
    }
   ],
   "source": [
    "wiki = 0.001379728\n",
    "p.left_tail - wiki"
   ]
  },
  {
   "cell_type": "code",
   "execution_count": 49,
   "metadata": {
    "collapsed": false
   },
   "outputs": [
    {
     "data": {
      "text/plain": [
       "6"
      ]
     },
     "execution_count": 49,
     "metadata": {},
     "output_type": "execute_result"
    }
   ],
   "source": [
    "import math\n",
    "math.factorial(3)"
   ]
  },
  {
   "cell_type": "code",
   "execution_count": 1,
   "metadata": {
    "collapsed": false
   },
   "outputs": [
    {
     "name": "stdout",
     "output_type": "stream",
     "text": [
      "Pvalue(left_tail=3.193e-45, right_tail=1, two_tail=1.055e-10)\n",
      "Pvalue(left_tail=0, right_tail=0, two_tail=0)\n"
     ]
    }
   ],
   "source": [
    "import fisher\n",
    "study_count = 1.4\n",
    "study_n     = 100\n",
    "pop_count   = 2000\n",
    "pop_n       = 1000\n",
    "#p = fisher.pvalue_population(study_count, study_n, pop_count, pop_n)\n",
    "p = fisher.pvalue(study_count, study_n, pop_count, pop_n)\n",
    "# print p.left_tail, p.right_tail, p.two_tail\n",
    "print p\n",
    "p = fisher.pvalue_population(study_count, study_n, pop_count, pop_n)\n",
    "print p"
   ]
  },
  {
   "cell_type": "code",
   "execution_count": 2,
   "metadata": {
    "collapsed": true
   },
   "outputs": [],
   "source": [
    "#.GO:0000003\te\treproduction\t8/1126\t4/1126\t0.386\t1.89e+03\t1.54e+03\t1.85e+03\tn.a.\tP06787,P07560,P13574,P25343,P32521,P35177,P38255,Q12114\tP06787,P13574,P36165,P38789\n",
    "#.....GO:0000070\tp\tmitotic sister chromatid segregation\t3/1126\t5/1126\t0.726\t3.56e+03\t2.3e+03\t3.47e+03\tn.a.\tP21965,P35187,Q03707\tP02557,P09733,P09734,Q05949,Q12267"
   ]
  },
  {
   "cell_type": "code",
   "execution_count": 9,
   "metadata": {
    "collapsed": false
   },
   "outputs": [
    {
     "name": "stdout",
     "output_type": "stream",
     "text": [
      "Pvalue(left_tail=0.363, right_tail=0.8559, two_tail=0.7261)\n",
      "Pvalue(left_tail=0.363, right_tail=0.8559, two_tail=0.7261)\n"
     ]
    }
   ],
   "source": [
    "study_count = a = 3\n",
    "study_n = 1126\n",
    "pop_count = b = 5\n",
    "pop_n = 1126\n",
    "c = study_n - a\n",
    "d = pop_n - b\n",
    "a = study_count\n",
    "col_1 = study_n\n",
    "r1 = study_count + pop_count\n",
    "n = study_n + pop_n\n",
    "p = fisher.pvalue(a, b, c, d)\n",
    "print p\n",
    "p = fisher.pvalue_population(a, col_1, r1, n)\n",
    "print p"
   ]
  },
  {
   "cell_type": "code",
   "execution_count": 10,
   "metadata": {
    "collapsed": false
   },
   "outputs": [
    {
     "name": "stdout",
     "output_type": "stream",
     "text": [
      "Pvalue(left_tail=0.9275, right_tail=0.1932, two_tail=0.3864)\n",
      "Pvalue(left_tail=0.9275, right_tail=0.1932, two_tail=0.3864)\n"
     ]
    }
   ],
   "source": [
    "study_count = a = 8\n",
    "study_n = 1126\n",
    "pop_count = b = 4\n",
    "pop_n = 1126\n",
    "c = study_n - a\n",
    "d = pop_n - b\n",
    "a = study_count\n",
    "col_1 = study_n\n",
    "r1 = study_count + pop_count\n",
    "n = study_n + pop_n\n",
    "p = fisher.pvalue(a, b, c, d)\n",
    "print p\n",
    "p = fisher.pvalue_population(a, col_1, r1, n)\n",
    "print p"
   ]
  },
  {
   "cell_type": "code",
   "execution_count": 14,
   "metadata": {
    "collapsed": false
   },
   "outputs": [
    {
     "name": "stdout",
     "output_type": "stream",
     "text": [
      "bubu\n"
     ]
    }
   ],
   "source": [
    "a = 1\n",
    "b = 0.000001\n",
    "if a > 0 and b > 0:\n",
    "    print 'bubu'"
   ]
  },
  {
   "cell_type": "code",
   "execution_count": 1,
   "metadata": {
    "collapsed": false
   },
   "outputs": [
    {
     "name": "stderr",
     "output_type": "stream",
     "text": [
      "load obo file /Users/dblyon/CloudStation/CPR/Brian_GO/go_rescources/go_obo/go-basic.obo\n",
      "44951"
     ]
    },
    {
     "name": "stdout",
     "output_type": "stream",
     "text": [
      "DONE :)\n",
      "DONE :)\n",
      "DONE :)\n",
      "DONE :)\n",
      "DONE :)\n",
      "DONE :)\n",
      "DONE :)\n",
      "DONE :)\n",
      "DONE :)\n",
      "DONE :)\n"
     ]
    },
    {
     "name": "stderr",
     "output_type": "stream",
     "text": [
      " nodes imported\n"
     ]
    }
   ],
   "source": [
    "%run run_goenrichment"
   ]
  },
  {
   "cell_type": "code",
   "execution_count": null,
   "metadata": {
    "collapsed": true
   },
   "outputs": [],
   "source": []
  }
 ],
 "metadata": {
  "kernelspec": {
   "display_name": "Python 2",
   "language": "python",
   "name": "python2"
  },
  "language_info": {
   "codemirror_mode": {
    "name": "ipython",
    "version": 2
   },
   "file_extension": ".py",
   "mimetype": "text/x-python",
   "name": "python",
   "nbconvert_exporter": "python",
   "pygments_lexer": "ipython2",
   "version": "2.7.6"
  }
 },
 "nbformat": 4,
 "nbformat_minor": 0
}
