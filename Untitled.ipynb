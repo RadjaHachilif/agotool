{
 "cells": [
  {
   "cell_type": "code",
   "execution_count": 1,
   "metadata": {
    "collapsed": false
   },
   "outputs": [
    {
     "data": {
      "text/plain": [
       "u'/Users/dblyon/modules/cpr/goterm'"
      ]
     },
     "execution_count": 1,
     "metadata": {},
     "output_type": "execute_result"
    }
   ],
   "source": [
    "pwd"
   ]
  },
  {
   "cell_type": "code",
   "execution_count": 2,
   "metadata": {
    "collapsed": true
   },
   "outputs": [],
   "source": [
    "# python scripts/find_enrichment.py --pval=0.05 --indent data/study data/population data/association"
   ]
  },
  {
   "cell_type": "code",
   "execution_count": 3,
   "metadata": {
    "collapsed": false
   },
   "outputs": [
    {
     "name": "stdout",
     "output_type": "stream",
     "text": [
      "Test_pickle_goretriever.p  __init__.py                test.py                    test_goretriever.py\r\n",
      "Untitled.ipynb             goretriever.py             test.txt\r\n"
     ]
    }
   ],
   "source": [
    "ls"
   ]
  },
  {
   "cell_type": "code",
   "execution_count": 30,
   "metadata": {
    "collapsed": false
   },
   "outputs": [
    {
     "name": "stdout",
     "output_type": "stream",
     "text": [
      "/Users/dblyon/CloudStation/CPR/Brian_GO\n"
     ]
    }
   ],
   "source": [
    "cd /Users/dblyon/CloudStation/CPR/Brian_GO/goatools"
   ]
  },
  {
   "cell_type": "code",
   "execution_count": 33,
   "metadata": {
    "collapsed": false
   },
   "outputs": [
    {
     "name": "stderr",
     "output_type": "stream",
     "text": [
      "load obo file go-basic.obo\n",
      "44951 nodes imported\n",
      "terms not found: set(['GO:0022627', 'GO:0022625'])"
     ]
    },
    {
     "name": "stdout",
     "output_type": "stream",
     "text": [
      "# min_ratio=None pval=0.05\n",
      "id\tenrichment\tdescription\tratio_in_study\tratio_in_pop\tp_uncorrected\tp_bonferroni\tp_holm\tp_sidak\tp_fdr\n",
      ".GO:0003824\te\tcatalytic activity\t106/276\t7723/33239\t1.6e-08\t1.25e-05\t1.25e-05\t1.22e-05\tn.a.\n",
      "..GO:0016740\te\ttransferase activity\t54/276\t2976/33239\t5.43e-08\t4.25e-05\t4.25e-05\t4.15e-05\tn.a.\n",
      ".....GO:0006464\te\tcellular protein modification process\t33/276\t1727/33239\t8.25e-06\t0.00647\t0.00645\t0.0063\tn.a.\n",
      "....GO:0036211\te\tprotein modification process\t33/276\t1727/33239\t8.25e-06\t0.00647\t0.00645\t0.0063\tn.a.\n",
      "......GO:0006468\te\tprotein phosphorylation\t22/276\t922/33239\t1.08e-05\t0.00845\t0.00841\t0.00824\tn.a.\n",
      ".....GO:0016310\te\tphosphorylation\t22/276\t945/33239\t1.57e-05\t0.0123\t0.0123\t0.012\tn.a.\n",
      "...GO:0098599\te\tpalmitoyl hydrolase activity\t3/276\t7/33239\t1.93e-05\t0.0152\t0.015\t0.0148\tn.a.\n",
      "....GO:0008474\te\tpalmitoyl-(protein) hydrolase activity\t3/276\t7/33239\t1.93e-05\t0.0152\t0.015\t0.0148\tn.a.\n",
      "...GO:0005839\te\tproteasome core complex\t4/276\t23/33239\t3.64e-05\t0.0285\t0.0282\t0.0278\tn.a.\n",
      "....GO:0043412\te\tmacromolecule modification\t33/276\t1874/33239\t5.65e-05\t0.0443\t0.0438\t0.0431\tn.a.\n"
     ]
    },
    {
     "name": "stderr",
     "output_type": "stream",
     "text": [
      "\n"
     ]
    }
   ],
   "source": [
    "%run scripts/find_enrichment.py --pval=0.05 --indent data/study data/population data/association_test.txt"
   ]
  },
  {
   "cell_type": "code",
   "execution_count": 1,
   "metadata": {
    "collapsed": false
   },
   "outputs": [
    {
     "name": "stdout",
     "output_type": "stream",
     "text": [
      "/Users/dblyon/modules/cpr/goterm\n"
     ]
    }
   ],
   "source": [
    "cd /Users/dblyon/modules/cpr/goterm"
   ]
  },
  {
   "cell_type": "code",
   "execution_count": 2,
   "metadata": {
    "collapsed": false
   },
   "outputs": [],
   "source": [
    "import goretriever\n",
    "gor = goretriever.Goretriever()"
   ]
  },
  {
   "cell_type": "code",
   "execution_count": 12,
   "metadata": {
    "collapsed": false
   },
   "outputs": [],
   "source": [
    "#fn=r'/Users/dblyon/CloudStation/CPR/Brian_GO/go_rescources/UniProt_goa/yeast/gene_association.goa_yeast'\n",
    "fn=r'/Users/dblyon/CloudStation/CPR/Brian_GO/go_rescources/UniProt_goa/human/gene_association.goa_ref_human'\n",
    "gor.parse_goa_ref(fn)"
   ]
  },
  {
   "cell_type": "code",
   "execution_count": 13,
   "metadata": {
    "collapsed": false
   },
   "outputs": [],
   "source": [
    "#fn_out = r'/Users/dblyon/CloudStation/CPR/Brian_GO/goatools/data/association_goa_yeast'\n",
    "fn_out = r'/Users/dblyon/CloudStation/CPR/Brian_GO/goatools/data/association_goa_ref_human'\n",
    "gor.write_association2file(fn_out)"
   ]
  },
  {
   "cell_type": "code",
   "execution_count": 14,
   "metadata": {
    "collapsed": false
   },
   "outputs": [
    {
     "data": {
      "text/plain": [
       "u'/Users/dblyon/modules/cpr/goterm'"
      ]
     },
     "execution_count": 14,
     "metadata": {},
     "output_type": "execute_result"
    }
   ],
   "source": [
    "pwd"
   ]
  },
  {
   "cell_type": "code",
   "execution_count": 3,
   "metadata": {
    "collapsed": false
   },
   "outputs": [],
   "source": [
    "import goretriever\n",
    "ui = goretriever.UserInput()\n",
    "ui.temp_setup()\n",
    "fn_study = r'/Users/dblyon/CloudStation/CPR/Brian_GO/goatools/data/study_yeast'\n",
    "fn_pop   = r'/Users/dblyon/CloudStation/CPR/Brian_GO/goatools/data/population_yeast'\n",
    "ui.write_goatools_input2file(fn_study, fn_pop)"
   ]
  },
  {
   "cell_type": "code",
   "execution_count": 5,
   "metadata": {
    "collapsed": false
   },
   "outputs": [
    {
     "name": "stdout",
     "output_type": "stream",
     "text": [
      "/Users/dblyon/CloudStation/CPR/Brian_GO/goatools_orig\n"
     ]
    }
   ],
   "source": [
    "cd /Users/dblyon/CloudStation/CPR/Brian_GO/goatools_orig"
   ]
  },
  {
   "cell_type": "code",
   "execution_count": 7,
   "metadata": {
    "collapsed": false
   },
   "outputs": [
    {
     "name": "stderr",
     "output_type": "stream",
     "text": [
      "load obo file /Users/dblyon/CloudStation/CPR/Brian_GO/go_rescources/go_obo/go-basic.obo\n",
      "44951 nodes imported\n",
      "terms not found: set(['GO:0022627', 'GO:0022625'])"
     ]
    },
    {
     "name": "stdout",
     "output_type": "stream",
     "text": [
      "# min_ratio=None pval=0.05\n",
      "id\tenrichment\tdescription\tratio_in_study\tratio_in_pop\tp_uncorrected\tp_bonferroni\tp_holm\tp_sidak\tp_fdr\n",
      ".GO:0003824\te\tcatalytic activity\t106/276\t7723/33239\t1.6e-08\t1.25e-05\t1.25e-05\t1.22e-05\tn.a.\n",
      "..GO:0016740\te\ttransferase activity\t54/276\t2976/33239\t5.43e-08\t4.25e-05\t4.25e-05\t4.15e-05\tn.a.\n",
      ".....GO:0006464\te\tcellular protein modification process\t33/276\t1727/33239\t8.25e-06\t0.00647\t0.00645\t0.0063\tn.a.\n",
      "....GO:0036211\te\tprotein modification process\t33/276\t1727/33239\t8.25e-06\t0.00647\t0.00645\t0.0063\tn.a.\n",
      "......GO:0006468\te\tprotein phosphorylation\t22/276\t922/33239\t1.08e-05\t0.00845\t0.00841\t0.00824\tn.a.\n",
      ".....GO:0016310\te\tphosphorylation\t22/276\t945/33239\t1.57e-05\t0.0123\t0.0123\t0.012\tn.a.\n",
      "...GO:0098599\te\tpalmitoyl hydrolase activity\t3/276\t7/33239\t1.93e-05\t0.0152\t0.015\t0.0148\tn.a.\n",
      "....GO:0008474\te\tpalmitoyl-(protein) hydrolase activity\t3/276\t7/33239\t1.93e-05\t0.0152\t0.015\t0.0148\tn.a.\n",
      "...GO:0005839\te\tproteasome core complex\t4/276\t23/33239\t3.64e-05\t0.0285\t0.0282\t0.0278\tn.a.\n",
      "....GO:0043412\te\tmacromolecule modification\t33/276\t1874/33239\t5.65e-05\t0.0443\t0.0438\t0.0431\tn.a.\n"
     ]
    },
    {
     "name": "stderr",
     "output_type": "stream",
     "text": [
      "\n"
     ]
    }
   ],
   "source": [
    "# test from goatools\n",
    "%run scripts/find_enrichment.py --pval=0.05 --indent data/study data/population data/association --obo /Users/dblyon/CloudStation/CPR/Brian_GO/go_rescources/go_obo/go-basic.obo"
   ]
  },
  {
   "cell_type": "code",
   "execution_count": 21,
   "metadata": {
    "collapsed": false
   },
   "outputs": [],
   "source": [
    "# %run scripts/find_enrichment.py --pval=0.05 --indent \n",
    "# /Users/dblyon/CloudStation/CPR/Brian_GO/go_rescources/input_goatools/study_yeast \n",
    "# /Users/dblyon/CloudStation/CPR/Brian_GO/go_rescources/input_goatools/population_yeast\n",
    "# /Users/dblyon/CloudStation/CPR/Brian_GO/go_rescources/input_goatools/association_goa_yeast\n",
    "# --obo /Users/dblyon/CloudStation/CPR/Brian_GO/go_rescources/go_obo/go-basic.obo"
   ]
  },
  {
   "cell_type": "code",
   "execution_count": 22,
   "metadata": {
    "collapsed": false
   },
   "outputs": [
    {
     "name": "stderr",
     "output_type": "stream",
     "text": [
      "load obo file /Users/dblyon/CloudStation/CPR/Brian_GO/go_rescources/go_obo/go-basic.obo\n",
      "44951"
     ]
    },
    {
     "name": "stdout",
     "output_type": "stream",
     "text": [
      "# min_ratio=None pval=0.05\n",
      "id\tenrichment\tdescription\tratio_in_study\tratio_in_pop\tp_uncorrected\tp_bonferroni\tp_holm\tp_sidak\tp_fdr\n",
      "...GO:0089713\te\tCbf1-Met4-Met28 complex\t2/1159\t1/4258\t0\t0\t0\t0\tn.a.\n",
      ".........GO:0033255\te\tSAS acetyltransferase complex\t3/1159\t2/4258\t0\t0\t0\t0\tn.a.\n",
      "...GO:1990527\te\tTec1p-Ste12p-Dig1p complex\t3/1159\t2/4258\t0\t0\t0\t0\tn.a.\n",
      ".....GO:0010530\te\tpositive regulation of transposition\t2/1159\t1/4258\t0\t0\t0\t0\tn.a.\n",
      "....GO:0000788\te\tnuclear nucleosome\t6/1159\t5/4258\t0\t0\t0\t0\tn.a.\n",
      "........GO:0032777\te\tPiccolo NuA4 histone acetyltransferase complex\t6/1159\t4/4258\t0\t0\t0\t0\tn.a.\n",
      ".....GO:0022627\te\tcytosolic small ribosomal subunit\t36/1159\t47/4258\t1.64e-11\t8.1e-08\t8.09e-08\t7.89e-08\tn.a.\n",
      "...GO:0030684\te\tpreribosome\t71/1159\t122/4258\t6.9e-11\t3.41e-07\t3.41e-07\t3.33e-07\tn.a.\n",
      ".....GO:0009123\te\tnucleoside monophosphate metabolic process\t55/1159\t88/4258\t7.29e-11\t3.6e-07\t3.6e-07\t3.51e-07\tn.a.\n",
      "......GO:0009161\te\tribonucleoside monophosphate metabolic process\t54/1159\t85/4258\t8.22e-11\t4.06e-07\t4.05e-07\t3.96e-07\tn.a.\n",
      ".....GO:0009259\te\tribonucleotide metabolic process\t56/1159\t95/4258\t8.83e-11\t4.37e-07\t4.36e-07\t4.26e-07\tn.a.\n",
      "....GO:0019693\te\tribose phosphate metabolic process\t64/1159\t110/4258\t1.22e-10\t6.01e-07\t6e-07\t5.86e-07\tn.a.\n",
      ".......GO:0009167\te\tpurine ribonucleoside monophosphate metabolic process\t46/1159\t71/4258\t1.44e-10\t7.13e-07\t7.12e-07\t6.95e-07\tn.a.\n",
      "......GO:0009126\te\tpurine nucleoside monophosphate metabolic process\t46/1159\t71/4258\t1.44e-10\t7.13e-07\t7.12e-07\t6.95e-07\tn.a.\n",
      "......GO:0016072\te\trRNA metabolic process\t132/1159\t249/4258\t1.47e-10\t7.25e-07\t7.23e-07\t7.07e-07\tn.a.\n",
      ".....GO:0019752\te\tcarboxylic acid metabolic process\t165/1159\t342/4258\t1.52e-10\t7.49e-07\t7.47e-07\t7.3e-07\tn.a.\n",
      "....GO:0044445\te\tcytosolic part\t123/1159\t189/4258\t1.54e-10\t7.59e-07\t7.57e-07\t7.4e-07\tn.a.\n",
      "...GO:0055086\te\tnucleobase-containing small molecule metabolic process\t103/1159\t216/4258\t1.64e-10\t8.09e-07\t8.06e-07\t7.89e-07\tn.a.\n",
      ".......GO:0006364\te\trRNA processing\t127/1159\t233/4258\t1.67e-10\t8.26e-07\t8.23e-07\t8.05e-07\tn.a.\n",
      "...GO:0006325\te\tchromatin organization\t110/1159\t222/4258\t1.72e-10\t8.5e-07\t8.47e-07\t8.29e-07\tn.a.\n",
      "......GO:0002181\te\tcytoplasmic translation\t80/1159\t123/4258\t1.78e-10\t8.79e-07\t8.75e-07\t8.57e-07\tn.a.\n",
      ".....GO:0009117\te\tnucleotide metabolic process\t98/1159\t190/4258\t1.89e-10\t9.34e-07\t9.3e-07\t9.1e-07\tn.a.\n",
      "....GO:0016568\te\tchromatin modification\t92/1159\t186/4258\t1.95e-10\t9.64e-07\t9.6e-07\t9.4e-07\tn.a.\n",
      "....GO:0005730\te\tnucleolus\t108/1159\t223/4258\t2e-10\t9.88e-07\t9.84e-07\t9.63e-07\tn.a.\n",
      "....GO:0043436\te\toxoacid metabolic process\t172/1159\t355/4258\t2.08e-10\t1.03e-06\t1.02e-06\t1e-06\tn.a.\n",
      "....GO:0006753\te\tnucleoside phosphate metabolic process\t98/1159\t192/4258\t2.13e-10\t1.05e-06\t1.05e-06\t1.03e-06\tn.a.\n",
      "..GO:0030427\tp\tsite of polarized growth\t11/1159\t158/4258\t2.19e-10\t1.08e-06\t1.08e-06\t1.06e-06\tn.a.\n",
      "....GO:0003723\te\tRNA binding\t191/1159\t464/4258\t2.21e-10\t1.09e-06\t1.08e-06\t1.06e-06\tn.a.\n",
      "...GO:0043232\te\tintracellular non-membrane-bounded organelle\t205/1159\t492/4258\t2.23e-10\t1.1e-06\t1.09e-06\t1.07e-06\tn.a.\n",
      "..GO:0043228\te\tnon-membrane-bounded organelle\t205/1159\t492/4258\t2.23e-10\t1.1e-06\t1.09e-06\t1.07e-06\tn.a.\n",
      "...GO:0006082\te\torganic acid metabolic process\t172/1159\t356/4258\t2.27e-10\t1.12e-06\t1.11e-06\t1.09e-06\tn.a.\n",
      "...GO:0098588\tp\tbounding membrane of organelle\t69/1159\t532/4258\t2.29e-10\t1.13e-06\t1.12e-06\t1.1e-06\tn.a.\n",
      "...GO:0006520\te\tcellular amino acid metabolic process\t114/1159\t225/4258\t2.31e-10\t1.14e-06\t1.13e-06\t1.11e-06\tn.a.\n",
      ".....GO:0006163\te\tpurine nucleotide metabolic process\t52/1159\t88/4258\t2.46e-10\t1.21e-06\t1.21e-06\t1.18e-06\tn.a.\n",
      "......GO:0034470\te\tncRNA processing\t153/1159\t329/4258\t2.55e-10\t1.26e-06\t1.25e-06\t1.23e-06\tn.a.\n",
      "...GO:1901564\te\torganonitrogen compound metabolic process\t212/1159\t507/4258\t2.78e-10\t1.37e-06\t1.36e-06\t1.34e-06\tn.a.\n",
      "....GO:1901362\te\torganic cyclic compound biosynthetic process\t272/1159\t686/4258\t2.9e-10\t1.43e-06\t1.42e-06\t1.4e-06\tn.a.\n",
      "....GO:0034654\te\tnucleobase-containing compound biosynthetic process\t235/1159\t581/4258\t2.9e-10\t1.43e-06\t1.42e-06\t1.4e-06\tn.a.\n",
      ".......GO:0006090\te\tpyruvate metabolic process\t27/1159\t34/4258\t2.95e-10\t1.46e-06\t1.45e-06\t1.42e-06\tn.a.\n",
      "...GO:0016021\tp\tintegral component of membrane\t69/1159\t727/4258\t3.1e-10\t1.53e-06\t1.52e-06\t1.49e-06\tn.a.\n",
      "....GO:0009889\te\tregulation of biosynthetic process\t266/1159\t701/4258\t3.11e-10\t1.54e-06\t1.52e-06\t1.5e-06\tn.a.\n",
      ".....GO:0010556\te\tregulation of macromolecule biosynthetic process\t261/1159\t677/4258\t3.16e-10\t1.56e-06\t1.55e-06\t1.52e-06\tn.a.\n",
      "..GO:0030529\te\tribonucleoprotein complex\t252/1159\t541/4258\t3.18e-10\t1.57e-06\t1.56e-06\t1.53e-06\tn.a.\n",
      ".....GO:0034660\te\tncRNA metabolic process\t194/1159\t428/4258\t3.19e-10\t1.58e-06\t1.56e-06\t1.54e-06\tn.a.\n",
      "....GO:0044271\te\tcellular nitrogen compound biosynthetic process\t252/1159\t653/4258\t3.23e-10\t1.6e-06\t1.58e-06\t1.56e-06\tn.a.\n",
      "...GO:0003676\te\tnucleic acid binding\t331/1159\t843/4258\t3.24e-10\t1.6e-06\t1.58e-06\t1.56e-06\tn.a.\n",
      "...GO:0044281\te\tsmall molecule metabolic process\t267/1159\t618/4258\t3.24e-10\t1.6e-06\t1.59e-06\t1.56e-06\tn.a.\n",
      ".GO:0016020\tp\tmembrane\t147/1159\t979/4258\t3.41e-10\t1.68e-06\t1.67e-06\t1.64e-06\tn.a.\n",
      "....GO:0018130\te\theterocycle biosynthetic process\t256/1159\t644/4258\t3.47e-10\t1.72e-06\t1.7e-06\t1.67e-06\tn.a.\n",
      "...GO:1901576\te\torganic substance biosynthetic process\t487/1159\t1261/4258\t3.53e-10\t1.75e-06\t1.73e-06\t1.7e-06\tn.a.\n",
      ".GO:0008152\te\tmetabolic process\t958/1159\t2997/4258\t3.53e-10\t1.75e-06\t1.73e-06\t1.7e-06\tn.a.\n",
      "....GO:0019438\te\taromatic compound biosynthetic process\t254/1159\t633/4258\t3.55e-10\t1.75e-06\t1.74e-06\t1.71e-06\tn.a.\n",
      ".GO:0009987\te\tcellular process\t1049/1159\t3588/4258\t3.62e-10\t1.79e-06\t1.77e-06\t1.75e-06\tn.a.\n",
      "..GO:0031224\tp\tintrinsic component of membrane\t69/1159\t747/4258\t3.62e-10\t1.79e-06\t1.77e-06\t1.75e-06\tn.a.\n",
      "......GO:2000112\te\tregulation of cellular macromolecule biosynthetic process\t260/1159\t671/4258\t3.68e-10\t1.82e-06\t1.8e-06\t1.77e-06\tn.a.\n",
      "....GO:0016070\te\tRNA metabolic process\t376/1159\t949/4258\t3.71e-10\t1.84e-06\t1.81e-06\t1.79e-06\tn.a.\n",
      "...GO:0006139\te\tnucleobase-containing compound metabolic process\t525/1159\t1321/4258\t3.72e-10\t1.84e-06\t1.82e-06\t1.79e-06\tn.a.\n",
      "..GO:0031090\tp\torganelle membrane\t115/1159\t736/4258\t3.76e-10\t1.86e-06\t1.84e-06\t1.81e-06\tn.a.\n",
      "..GO:0044237\te\tcellular metabolic process\t899/1159\t2692/4258\t3.87e-10\t1.91e-06\t1.89e-06\t1.86e-06\tn.a.\n",
      "...GO:0044249\te\tcellular biosynthetic process\t465/1159\t1221/4258\t3.91e-10\t1.93e-06\t1.91e-06\t1.88e-06\tn.a.\n",
      "....GO:0090304\te\tnucleic acid metabolic process\t429/1159\t1127/4258\t3.94e-10\t1.95e-06\t1.93e-06\t1.9e-06\tn.a.\n",
      ".....GO:0010468\te\tregulation of gene expression\t254/1159\t662/4258\t4e-10\t1.98e-06\t1.95e-06\t1.93e-06\tn.a.\n",
      "....GO:0009059\te\tmacromolecule biosynthetic process\t309/1159\t795/4258\t4.02e-10\t1.99e-06\t1.96e-06\t1.94e-06\tn.a.\n",
      "....GO:0034645\te\tcellular macromolecule biosynthetic process\t267/1159\t712/4258\t4.04e-10\t2e-06\t1.97e-06\t1.95e-06\tn.a.\n",
      ".....GO:0031326\te\tregulation of cellular biosynthetic process\t266/1159\t700/4258\t4.05e-10\t2e-06\t1.97e-06\t1.95e-06\tn.a.\n",
      "..GO:0044238\te\tprimary metabolic process\t833/1159\t2531/4258\t4.07e-10\t2.01e-06\t1.99e-06\t1.96e-06\tn.a.\n",
      ".GO:0032991\te\tmacromolecular complex\t608/1159\t1798/4258\t4.14e-10\t2.05e-06\t2.02e-06\t1.99e-06\tn.a.\n",
      "...GO:0046483\te\theterocycle metabolic process\t549/1159\t1393/4258\t4.16e-10\t2.05e-06\t2.03e-06\t2e-06\tn.a.\n",
      ".GO:0005488\te\tbinding\t882/1159\t2859/4258\t4.3e-10\t2.13e-06\t2.1e-06\t2.07e-06\tn.a.\n",
      "..GO:1901363\te\theterocyclic compound binding\t553/1159\t1469/4258\t4.37e-10\t2.16e-06\t2.13e-06\t2.1e-06\tn.a.\n",
      "..GO:0009058\te\tbiosynthetic process\t491/1159\t1288/4258\t4.53e-10\t2.24e-06\t2.21e-06\t2.18e-06\tn.a.\n",
      "..GO:0097159\te\torganic cyclic compound binding\t554/1159\t1476/4258\t4.56e-10\t2.25e-06\t2.22e-06\t2.19e-06\tn.a.\n",
      "...GO:0044260\te\tcellular macromolecule metabolic process\t625/1159\t1924/4258\t4.58e-10\t2.26e-06\t2.23e-06\t2.2e-06\tn.a.\n",
      ".GO:0044425\tp\tmembrane part\t154/1159\t1099/4258\t4.6e-10\t2.27e-06\t2.24e-06\t2.21e-06\tn.a.\n",
      "..GO:0006807\te\tnitrogen compound metabolic process\t619/1159\t1600/4258\t4.64e-10\t2.29e-06\t2.26e-06\t2.23e-06\tn.a.\n",
      "...GO:1901360\te\torganic cyclic compound metabolic process\t565/1159\t1448/4258\t4.78e-10\t2.36e-06\t2.33e-06\t2.3e-06\tn.a.\n",
      "...GO:0034641\te\tcellular nitrogen compound metabolic process\t558/1159\t1447/4258\t4.78e-10\t2.36e-06\t2.33e-06\t2.3e-06\tn.a.\n",
      "...GO:0006725\te\tcellular aromatic compound metabolic process\t545/1159\t1385/4258\t4.88e-10\t2.41e-06\t2.37e-06\t2.35e-06\tn.a.\n",
      "...GO:0043170\te\tmacromolecule metabolic process\t634/1159\t1985/4258\t4.93e-10\t2.44e-06\t2.4e-06\t2.37e-06\tn.a.\n",
      "..GO:0071704\te\torganic substance metabolic process\t878/1159\t2640/4258\t5.05e-10\t2.49e-06\t2.45e-06\t2.43e-06\tn.a.\n",
      "...GO:0000166\te\tnucleotide binding\t289/1159\t792/4258\t5.06e-10\t2.5e-06\t2.46e-06\t2.44e-06\tn.a.\n",
      "...GO:1901265\te\tnucleoside phosphate binding\t289/1159\t792/4258\t5.06e-10\t2.5e-06\t2.46e-06\t2.44e-06\tn.a.\n",
      "...GO:0044428\te\tnuclear part\t323/1159\t905/4258\t5.43e-10\t2.69e-06\t2.64e-06\t2.62e-06\tn.a.\n",
      "..GO:0036094\te\tsmall molecule binding\t300/1159\t826/4258\t5.47e-10\t2.7e-06\t2.66e-06\t2.63e-06\tn.a.\n",
      ".....GO:0022625\te\tcytosolic large ribosomal subunit\t45/1159\t73/4258\t6.18e-10\t3.06e-06\t3e-06\t2.98e-06\tn.a.\n",
      "...GO:0043933\te\tmacromolecular complex subunit organization\t257/1159\t694/4258\t8.77e-10\t4.33e-06\t4.26e-06\t4.23e-06\tn.a.\n",
      "..GO:0044424\te\tintracellular part\t1062/1159\t3688/4258\t1.46e-09\t7.2e-06\t7.07e-06\t7.02e-06\tn.a.\n",
      ".....GO:0006396\te\tRNA processing\t179/1159\t452/4258\t1.72e-09\t8.51e-06\t8.36e-06\t8.29e-06\tn.a.\n",
      "....GO:1901605\te\talpha-amino acid metabolic process\t81/1159\t166/4258\t2.01e-09\t9.93e-06\t9.75e-06\t9.68e-06\tn.a.\n",
      "......GO:0009150\te\tpurine ribonucleotide metabolic process\t49/1159\t84/4258\t2.45e-09\t1.21e-05\t1.19e-05\t1.18e-05\tn.a.\n",
      "..GO:0098805\tp\twhole membrane\t36/1159\t281/4258\t2.56e-09\t1.27e-05\t1.24e-05\t1.23e-05\tn.a.\n",
      ".....GO:0019219\te\tregulation of nucleobase-containing compound metabolic process\t224/1159\t597/4258\t3.08e-09\t1.52e-05\t1.49e-05\t1.48e-05\tn.a.\n",
      ".....GO:0051252\te\tregulation of RNA metabolic process\t210/1159\t553/4258\t3.27e-09\t1.62e-05\t1.59e-05\t1.58e-05\tn.a.\n",
      "......GO:0006355\te\tregulation of transcription, DNA-templated\t205/1159\t537/4258\t3.81e-09\t1.88e-05\t1.85e-05\t1.84e-05\tn.a.\n",
      "......GO:2001141\te\tregulation of RNA biosynthetic process\t205/1159\t538/4258\t3.98e-09\t1.96e-05\t1.93e-05\t1.92e-05\tn.a.\n",
      ".......GO:1903506\te\tregulation of nucleic acid-templated transcription\t205/1159\t538/4258\t3.98e-09\t1.96e-05\t1.93e-05\t1.92e-05\tn.a.\n",
      "...GO:0044432\tp\tendoplasmic reticulum part\t44/1159\t319/4258\t4.16e-09\t2.06e-05\t2.02e-05\t2e-05\tn.a.\n",
      ".....GO:0032774\te\tRNA biosynthetic process\t170/1159\t429/4258\t4.26e-09\t2.11e-05\t2.07e-05\t2.05e-05\tn.a.\n",
      "...GO:0005935\tp\tcellular bud neck\t8/1159\t123/4258\t6.34e-09\t3.14e-05\t3.07e-05\t3.06e-05\tn.a.\n",
      "....GO:0051171\te\tregulation of nitrogen compound metabolic process\t226/1159\t609/4258\t7.73e-09\t3.82e-05\t3.74e-05\t3.72e-05\tn.a.\n",
      "..GO:0005886\tp\tplasma membrane\t24/1159\t213/4258\t8.45e-09\t4.18e-05\t4.09e-05\t4.07e-05\tn.a.\n",
      "...GO:0044391\te\tribosomal subunit\t91/1159\t198/4258\t9.89e-09\t4.89e-05\t4.79e-05\t4.76e-05\tn.a.\n",
      "..GO:0042645\te\tmitochondrial nucleoid\t19/1159\t22/4258\t1.05e-08\t5.16e-05\t5.06e-05\t5.03e-05\tn.a.\n",
      "...GO:0006096\te\tglycolytic process\t19/1159\t22/4258\t1.05e-08\t5.16e-05\t5.06e-05\t5.03e-05\tn.a.\n",
      ".GO:0009295\te\tnucleoid\t19/1159\t22/4258\t1.05e-08\t5.16e-05\t5.06e-05\t5.03e-05\tn.a.\n",
      "..GO:0003735\te\tstructural constituent of ribosome\t84/1159\t180/4258\t1.53e-08\t7.55e-05\t7.39e-05\t7.36e-05\tn.a.\n",
      "....GO:0072521\te\tpurine-containing compound metabolic process\t58/1159\t111/4258\t1.58e-08\t7.81e-05\t7.64e-05\t7.61e-05\tn.a.\n",
      ".GO:0043226\te\torganelle\t606/1159\t1925/4258\t1.65e-08\t8.17e-05\t7.99e-05\t7.96e-05\tn.a.\n",
      "..GO:0043229\te\tintracellular organelle\t605/1159\t1924/4258\t2.04e-08\t0.000101\t9.86e-05\t9.82e-05\tn.a.\n",
      ".....GO:0009119\te\tribonucleoside metabolic process\t55/1159\t104/4258\t2.08e-08\t0.000103\t0.000101\t0.0001\tn.a.\n",
      ".....GO:0006412\te\ttranslation\t100/1159\t227/4258\t2.33e-08\t0.000115\t0.000112\t0.000112\tn.a.\n",
      ".....GO:0006338\te\tchromatin remodeling\t43/1159\t75/4258\t4.55e-08\t0.000225\t0.00022\t0.000219\tn.a.\n",
      "....GO:0005634\te\tnucleus\t315/1159\t914/4258\t4.75e-08\t0.000235\t0.000229\t0.000229\tn.a.\n",
      "....GO:0060255\te\tregulation of macromolecule metabolic process\t287/1159\t822/4258\t6e-08\t0.000296\t0.00029\t0.000289\tn.a.\n",
      "...GO:0005840\te\tribosome\t30/1159\t46/4258\t7.05e-08\t0.000349\t0.000341\t0.00034\tn.a.\n",
      ".......GO:0051168\te\tnuclear export\t56/1159\t109/4258\t7.67e-08\t0.000379\t0.00037\t0.00037\tn.a.\n",
      "....GO:0080090\te\tregulation of primary metabolic process\t291/1159\t837/4258\t9.17e-08\t0.000453\t0.000442\t0.000442\tn.a.\n",
      "....GO:0009116\te\tnucleoside metabolic process\t56/1159\t110/4258\t9.75e-08\t0.000482\t0.000471\t0.00047\tn.a.\n",
      ".....GO:0016569\te\tcovalent chromatin modification\t50/1159\t94/4258\t1.04e-07\t0.000512\t0.0005\t0.000499\tn.a.\n",
      "...GO:0016570\te\thistone modification\t50/1159\t94/4258\t1.04e-07\t0.000512\t0.0005\t0.000499\tn.a.\n",
      "....GO:0016573\te\thistone acetylation\t26/1159\t38/4258\t1.26e-07\t0.000621\t0.000606\t0.000605\tn.a.\n",
      "........GO:0006475\te\tinternal protein amino acid acetylation\t26/1159\t38/4258\t1.26e-07\t0.000621\t0.000606\t0.000605\tn.a.\n",
      ".........GO:0018393\te\tinternal peptidyl-lysine acetylation\t26/1159\t38/4258\t1.26e-07\t0.000621\t0.000606\t0.000605\tn.a.\n",
      "........GO:0018394\te\tpeptidyl-lysine acetylation\t26/1159\t38/4258\t1.26e-07\t0.000621\t0.000606\t0.000605\tn.a.\n",
      "....GO:0008652\te\tcellular amino acid biosynthetic process\t62/1159\t127/4258\t1.46e-07\t0.000722\t0.000704\t0.000704\tn.a.\n",
      "..GO:0044710\te\tsingle-organism metabolic process\t480/1159\t1495/4258\t1.66e-07\t0.000822\t0.000801\t0.000802\tn.a.\n",
      ".....GO:1901607\te\talpha-amino acid biosynthetic process\t59/1159\t120/4258\t2.1e-07\t0.00104\t0.00101\t0.00101\tn.a.\n",
      "....GO:0044283\te\tsmall molecule biosynthetic process\t107/1159\t256/4258\t2.13e-07\t0.00105\t0.00103\t0.00103\tn.a.\n",
      "....GO:0016192\tp\tvesicle-mediated transport\t48/1159\t314/4258\t2.37e-07\t0.00117\t0.00114\t0.00114\tn.a.\n",
      ".....GO:0046394\te\tcarboxylic acid biosynthetic process\t74/1159\t161/4258\t2.81e-07\t0.00139\t0.00135\t0.00135\tn.a.\n",
      "....GO:0016053\te\torganic acid biosynthetic process\t74/1159\t161/4258\t2.81e-07\t0.00139\t0.00135\t0.00135\tn.a.\n",
      "....GO:0034728\te\tnucleosome organization\t36/1159\t62/4258\t3.24e-07\t0.0016\t0.00156\t0.00156\tn.a.\n",
      "......GO:0046128\te\tpurine ribonucleoside metabolic process\t48/1159\t92/4258\t3.27e-07\t0.00162\t0.00157\t0.00157\tn.a.\n",
      ".....GO:0042278\te\tpurine nucleoside metabolic process\t48/1159\t92/4258\t3.27e-07\t0.00162\t0.00157\t0.00157\tn.a.\n",
      "........GO:0004402\te\thistone acetyltransferase activity\t16/1159\t19/4258\t3.39e-07\t0.00168\t0.00163\t0.00164\tn.a.\n",
      ".......GO:0090595\te\tacetyl-CoA:L-lysine N6-acetyltransferase\t16/1159\t19/4258\t3.39e-07\t0.00168\t0.00163\t0.00164\tn.a.\n",
      "...GO:0044440\tp\tendosomal part\t6/1159\t94/4258\t4.31e-07\t0.00213\t0.00207\t0.00208\tn.a.\n",
      "...GO:0022613\te\tribonucleoprotein complex biogenesis\t50/1159\t98/4258\t4.43e-07\t0.00219\t0.00213\t0.00213\tn.a.\n",
      "....GO:0005759\te\tmitochondrial matrix\t49/1159\t95/4258\t4.85e-07\t0.0024\t0.00233\t0.00234\tn.a.\n",
      "...GO:1901657\te\tglycosyl compound metabolic process\t56/1159\t114/4258\t5.37e-07\t0.00265\t0.00258\t0.00259\tn.a.\n",
      "....GO:0031323\te\tregulation of cellular metabolic process\t291/1159\t851/4258\t5.59e-07\t0.00276\t0.00269\t0.00269\tn.a.\n",
      "..GO:0005789\tp\tendoplasmic reticulum membrane\t29/1159\t218/4258\t6.61e-07\t0.00327\t0.00317\t0.00318\tn.a.\n",
      ".....GO:0019843\te\trRNA binding\t32/1159\t54/4258\t6.88e-07\t0.0034\t0.0033\t0.00332\tn.a.\n",
      "......GO:0006418\te\ttRNA aminoacylation for protein translation\t25/1159\t38/4258\t7e-07\t0.00346\t0.00336\t0.00337\tn.a.\n",
      "......GO:0006913\te\tnucleocytoplasmic transport\t68/1159\t148/4258\t7.18e-07\t0.00355\t0.00345\t0.00346\tn.a.\n",
      ".....GO:0019362\te\tpyridine nucleotide metabolic process\t40/1159\t73/4258\t7.49e-07\t0.0037\t0.00359\t0.00361\tn.a.\n",
      "......GO:0019319\te\thexose biosynthetic process\t14/1159\t16/4258\t7.78e-07\t0.00384\t0.00373\t0.00375\tn.a.\n",
      ".....GO:0046364\te\tmonosaccharide biosynthetic process\t14/1159\t16/4258\t7.78e-07\t0.00384\t0.00373\t0.00375\tn.a.\n",
      "....GO:0071826\te\tribonucleoprotein complex subunit organization\t66/1159\t143/4258\t8.05e-07\t0.00398\t0.00386\t0.00388\tn.a.\n",
      "........GO:0030490\te\tmaturation of SSU-rRNA\t38/1159\t69/4258\t8.88e-07\t0.00439\t0.00425\t0.00428\tn.a.\n",
      "..GO:0048037\te\tcofactor binding\t61/1159\t129/4258\t9.16e-07\t0.00453\t0.00439\t0.00441\tn.a.\n",
      "..GO:0043167\te\tion binding\t419/1159\t1296/4258\t9.31e-07\t0.0046\t0.00446\t0.00449\tn.a.\n",
      ".....GO:0051169\te\tnuclear transport\t68/1159\t149/4258\t1.22e-06\t0.00603\t0.00585\t0.00588\tn.a.\n",
      "......GO:0046496\te\tnicotinamide nucleotide metabolic process\t39/1159\t72/4258\t1.36e-06\t0.0067\t0.00649\t0.00653\tn.a.\n",
      "...GO:0044431\tp\tGolgi apparatus part\t24/1159\t188/4258\t1.42e-06\t0.007\t0.00679\t0.00683\tn.a.\n",
      "..GO:0071554\tp\tcell wall organization or biogenesis\t11/1159\t119/4258\t1.67e-06\t0.00826\t0.008\t0.00805\tn.a.\n",
      "...GO:0043168\te\tanion binding\t279/1159\t821/4258\t1.9e-06\t0.00938\t0.00909\t0.00915\tn.a.\n",
      "....GO:0007165\tp\tsignal transduction\t23/1159\t182/4258\t2.18e-06\t0.0108\t0.0104\t0.0105\tn.a.\n",
      "....GO:0032040\te\tsmall-subunit processome\t29/1159\t49/4258\t2.46e-06\t0.0121\t0.0118\t0.0118\tn.a.\n",
      "....GO:0030687\te\tpreribosome, large subunit precursor\t29/1159\t49/4258\t2.46e-06\t0.0121\t0.0118\t0.0118\tn.a.\n",
      "......GO:0042026\te\tprotein refolding\t13/1159\t15/4258\t2.53e-06\t0.0125\t0.0121\t0.0122\tn.a.\n",
      ".......GO:0006094\te\tgluconeogenesis\t13/1159\t15/4258\t2.53e-06\t0.0125\t0.0121\t0.0122\tn.a.\n",
      "....GO:0072524\te\tpyridine-containing compound metabolic process\t42/1159\t81/4258\t3.08e-06\t0.0152\t0.0147\t0.0148\tn.a.\n",
      "....GO:0044724\te\tsingle-organism carbohydrate catabolic process\t31/1159\t54/4258\t3.23e-06\t0.016\t0.0154\t0.0156\tn.a.\n",
      "....GO:0016758\tp\ttransferase activity, transferring hexosyl groups\t4/1159\t72/4258\t3.38e-06\t0.0167\t0.0162\t0.0163\tn.a.\n",
      "....GO:0016876\te\tligase activity, forming aminoacyl-tRNA and related compounds\t24/1159\t38/4258\t3.49e-06\t0.0173\t0.0167\t0.0168\tn.a.\n",
      "...GO:0016875\te\tligase activity, forming carbon-oxygen bonds\t24/1159\t38/4258\t3.49e-06\t0.0173\t0.0167\t0.0168\tn.a.\n",
      ".....GO:0004812\te\taminoacyl-tRNA ligase activity\t24/1159\t38/4258\t3.49e-06\t0.0173\t0.0167\t0.0168\tn.a.\n",
      "....GO:0005739\te\tmitochondrion\t122/1159\t314/4258\t3.51e-06\t0.0174\t0.0168\t0.0169\tn.a.\n",
      ".....GO:0006733\te\toxidoreduction coenzyme metabolic process\t44/1159\t87/4258\t3.9e-06\t0.0193\t0.0186\t0.0188\tn.a.\n",
      "....GO:1901566\te\torganonitrogen compound biosynthetic process\t120/1159\t309/4258\t4.15e-06\t0.0205\t0.0198\t0.02\tn.a.\n",
      "....GO:0016616\te\toxidoreductase activity, acting on the CH-OH group of donors, NAD or NADP as acceptor\t34/1159\t62/4258\t4.18e-06\t0.0206\t0.0199\t0.0201\tn.a.\n",
      "......GO:0008080\te\tN-acetyltransferase activity\t23/1159\t36/4258\t4.21e-06\t0.0208\t0.0201\t0.0203\tn.a.\n",
      ".....GO:0022618\te\tribonucleoprotein complex assembly\t61/1159\t134/4258\t4.25e-06\t0.021\t0.0203\t0.0205\tn.a.\n",
      "......GO:0009156\te\tribonucleoside monophosphate biosynthetic process\t30/1159\t52/4258\t4.46e-06\t0.0221\t0.0213\t0.0215\tn.a.\n",
      ".....GO:0009165\te\tnucleotide biosynthetic process\t51/1159\t107/4258\t4.78e-06\t0.0236\t0.0228\t0.0231\tn.a.\n",
      ".....GO:0009124\te\tnucleoside monophosphate biosynthetic process\t31/1159\t55/4258\t4.85e-06\t0.024\t0.0231\t0.0234\tn.a.\n",
      "..GO:0044877\te\tmacromolecular complex binding\t85/1159\t203/4258\t4.9e-06\t0.0242\t0.0234\t0.0236\tn.a.\n",
      "......GO:0006468\tp\tprotein phosphorylation\t14/1159\t130/4258\t4.99e-06\t0.0246\t0.0237\t0.024\tn.a.\n",
      ".........GO:0000463\te\tmaturation of LSU-rRNA from tricistronic rRNA transcript (SSU-rRNA, 5.8S rRNA, LSU-rRNA)\t22/1159\t34/4258\t5.03e-06\t0.0249\t0.024\t0.0242\tn.a.\n",
      ".....GO:0004672\tp\tprotein kinase activity\t11/1159\t113/4258\t5.06e-06\t0.025\t0.0241\t0.0244\tn.a.\n",
      "....GO:1901293\te\tnucleoside phosphate biosynthetic process\t52/1159\t109/4258\t5.23e-06\t0.0259\t0.0249\t0.0252\tn.a.\n",
      ".....GO:0006549\te\tisoleucine metabolic process\t11/1159\t12/4258\t5.3e-06\t0.0262\t0.0252\t0.0255\tn.a.\n",
      "....GO:0006643\tp\tmembrane lipid metabolic process\t1/1159\t49/4258\t5.36e-06\t0.0265\t0.0255\t0.0258\tn.a.\n",
      "...GO:0051186\te\tcofactor metabolic process\t75/1159\t175/4258\t5.36e-06\t0.0265\t0.0255\t0.0258\tn.a.\n",
      ".GO:0005198\te\tstructural molecule activity\t113/1159\t289/4258\t5.57e-06\t0.0275\t0.0265\t0.0268\tn.a.\n",
      "..GO:0016491\te\toxidoreductase activity\t110/1159\t280/4258\t5.67e-06\t0.028\t0.027\t0.0273\tn.a.\n",
      "....GO:0006732\te\tcoenzyme metabolic process\t69/1159\t157/4258\t5.8e-06\t0.0287\t0.0276\t0.0279\tn.a.\n",
      "....GO:0005829\te\tcytosol\t117/1159\t301/4258\t5.96e-06\t0.0294\t0.0283\t0.0287\tn.a.\n",
      "....GO:0015935\te\tsmall ribosomal subunit\t41/1159\t81/4258\t6.63e-06\t0.0328\t0.0315\t0.0319\tn.a.\n",
      "..GO:0045229\tp\texternal encapsulating structure organization\t11/1159\t112/4258\t7.35e-06\t0.0363\t0.0349\t0.0354\tn.a.\n",
      "...GO:0071555\tp\tcell wall organization\t11/1159\t112/4258\t7.35e-06\t0.0363\t0.0349\t0.0354\tn.a.\n",
      "....GO:0043038\te\tamino acid activation\t25/1159\t41/4258\t7.53e-06\t0.0372\t0.0358\t0.0363\tn.a.\n",
      ".....GO:0043039\te\ttRNA aminoacylation\t25/1159\t41/4258\t7.53e-06\t0.0372\t0.0358\t0.0363\tn.a.\n",
      "........GO:0000470\te\tmaturation of LSU-rRNA\t25/1159\t41/4258\t7.53e-06\t0.0372\t0.0358\t0.0363\tn.a.\n",
      ".........GO:0000462\te\tmaturation of SSU-rRNA from tricistronic rRNA transcript (SSU-rRNA, 5.8S rRNA, LSU-rRNA)\t32/1159\t58/4258\t7.92e-06\t0.0392\t0.0376\t0.0382\tn.a.\n",
      "....GO:0070085\tp\tglycosylation\t4/1159\t69/4258\t7.94e-06\t0.0393\t0.0377\t0.0383\tn.a.\n",
      ".......GO:0006357\te\tregulation of transcription from RNA polymerase II promoter\t122/1159\t319/4258\t8.02e-06\t0.0396\t0.0381\t0.0386\tn.a.\n",
      ".....GO:0009082\te\tbranched-chain amino acid biosynthetic process\t12/1159\t14/4258\t8.14e-06\t0.0402\t0.0386\t0.0392\tn.a.\n",
      ".....GO:0032559\te\tadenyl ribonucleotide binding\t196/1159\t556/4258\t8.33e-06\t0.0412\t0.0395\t0.0401\tn.a.\n",
      "....GO:0015031\tp\tprotein transport\t92/1159\t486/4258\t8.44e-06\t0.0417\t0.04\t0.0407\tn.a.\n",
      ".....GO:0030554\te\tadenyl nucleotide binding\t197/1159\t560/4258\t8.93e-06\t0.0441\t0.0423\t0.043\tn.a.\n",
      ".......GO:0018205\te\tpeptidyl-lysine modification\t38/1159\t74/4258\t9.04e-06\t0.0447\t0.0429\t0.0436\tn.a.\n",
      ".....GO:0006457\te\tprotein folding\t47/1159\t98/4258\t9.44e-06\t0.0467\t0.0447\t0.0455\tn.a.\n",
      "...GO:0045184\tp\testablishment of protein localization\t97/1159\t506/4258\t9.52e-06\t0.047\t0.0451\t0.0458\tn.a.\n"
     ]
    },
    {
     "name": "stderr",
     "output_type": "stream",
     "text": [
      " nodes imported\n"
     ]
    }
   ],
   "source": [
    "%run scripts/find_enrichment.py --pval=0.05 --indent /Users/dblyon/CloudStation/CPR/Brian_GO/go_rescources/input_goatools/study_yeast /Users/dblyon/CloudStation/CPR/Brian_GO/go_rescources/input_goatools/population_yeast /Users/dblyon/CloudStation/CPR/Brian_GO/go_rescources/input_goatools/association_goa_yeast --obo /Users/dblyon/CloudStation/CPR/Brian_GO/go_rescources/go_obo/go-basic.obo"
   ]
  },
  {
   "cell_type": "code",
   "execution_count": 14,
   "metadata": {
    "collapsed": false
   },
   "outputs": [
    {
     "name": "stdout",
     "output_type": "stream",
     "text": [
      "/Users/dblyon/CloudStation/CPR/Brian_GO/goatools/scripts\n"
     ]
    }
   ],
   "source": [
    "cd scripts/"
   ]
  },
  {
   "cell_type": "code",
   "execution_count": 16,
   "metadata": {
    "collapsed": false
   },
   "outputs": [],
   "source": [
    "import find_enrichment"
   ]
  },
  {
   "cell_type": "code",
   "execution_count": 17,
   "metadata": {
    "collapsed": false
   },
   "outputs": [
    {
     "name": "stdout",
     "output_type": "stream",
     "text": [
      "Help on module find_enrichment:\n",
      "\n",
      "NAME\n",
      "    find_enrichment - # -*- coding: UTF-8 -*-\n",
      "\n",
      "FILE\n",
      "    /Users/dblyon/CloudStation/CPR/Brian_GO/goatools/scripts/find_enrichment.py\n",
      "\n",
      "FUNCTIONS\n",
      "    check_input_files(ns, p)\n",
      "        check filename args. otherwise if one of the 3 filenames is bad\n",
      "        it's hard to tell which one\n",
      "    \n",
      "    read_associations(assoc_fn)\n",
      "    \n",
      "    read_geneset(study_fn, pop_fn, compare=False)\n",
      "\n",
      "DATA\n",
      "    print_function = _Feature((2, 6, 0, 'alpha', 2), (3, 0, 0, 'alpha', 0)...\n",
      "\n",
      "\n"
     ]
    }
   ],
   "source": [
    "help(find_enrichment)"
   ]
  },
  {
   "cell_type": "code",
   "execution_count": 6,
   "metadata": {
    "collapsed": false
   },
   "outputs": [
    {
     "name": "stderr",
     "output_type": "stream",
     "text": [
      "load obo file /Users/dblyon/CloudStation/CPR/Brian_GO/go_rescources/go_obo/go-basic.obo\n",
      "44951 nodes imported\n"
     ]
    }
   ],
   "source": [
    "%run find_enrichment_dbl.py --pval=0.05 --indent /Users/dblyon/CloudStation/CPR/Brian_GO/go_rescources/input_goatools/study_yeast /Users/dblyon/CloudStation/CPR/Brian_GO/go_rescources/input_goatools/population_yeast /Users/dblyon/CloudStation/CPR/Brian_GO/go_rescources/input_goatools/association_goa_yeast --obo /Users/dblyon/CloudStation/CPR/Brian_GO/go_rescources/go_obo/go-basic.obo --fn_out 'summary_test.txt' "
   ]
  },
  {
   "cell_type": "code",
   "execution_count": 3,
   "metadata": {
    "collapsed": false
   },
   "outputs": [],
   "source": [
    "study1 =       r'/Users/dblyon/CloudStation/CPR/Brian_GO/go_rescources/input_goatools/study_test'\n",
    "population2 =  r'/Users/dblyon/CloudStation/CPR/Brian_GO/go_rescources/input_goatools/population_yeast'\n",
    "association3 = r'/Users/dblyon/CloudStation/CPR/Brian_GO/go_rescources/input_goatools/association_goa_yeast'\n",
    "obo = r'/Users/dblyon/CloudStation/CPR/Brian_GO/go_rescources/go_obo/go-basic.obo'\n",
    "fn_out = 'summary_test.txt'"
   ]
  },
  {
   "cell_type": "code",
   "execution_count": 3,
   "metadata": {
    "collapsed": false
   },
   "outputs": [],
   "source": [
    "#%run find_enrichment_dbl.py --pval=0.05 --indent study1 population2 association3 --obo obo --fn_out fn_out"
   ]
  },
  {
   "cell_type": "code",
   "execution_count": 2,
   "metadata": {
    "collapsed": false
   },
   "outputs": [
    {
     "name": "stderr",
     "output_type": "stream",
     "text": [
      "load obo file /Users/dbl/CloudStation/CPR/Brian_GO/go_rescources/go_obo/go-basic.obo\n",
      "44951 nodes imported\n"
     ]
    }
   ],
   "source": [
    "%run find_enrichment_dbl.py /Users/dbl/CloudStation/CPR/Brian_GO/go_rescources/input_goatools/study_test3.txt /Users/dbl/CloudStation/CPR/Brian_GO/go_rescources/input_goatools/population_yeast /Users/dbl/CloudStation/CPR/Brian_GO/go_rescources/input_goatools/association_goa_yeast --obo /Users/dbl/CloudStation/CPR/Brian_GO/go_rescources/go_obo/go-basic.obo --fn_out 'summary_test3.txt' "
   ]
  },
  {
   "cell_type": "code",
   "execution_count": 1,
   "metadata": {
    "collapsed": false
   },
   "outputs": [],
   "source": [
    "import goretriever\n",
    "gor = goretriever.Goretriever()"
   ]
  },
  {
   "cell_type": "code",
   "execution_count": 2,
   "metadata": {
    "collapsed": false
   },
   "outputs": [
    {
     "data": {
      "text/plain": [
       "['GO:0003713',\n",
       " 'GO:0005634',\n",
       " 'GO:0005737',\n",
       " 'GO:0006351',\n",
       " 'GO:0043565',\n",
       " 'GO:0045944']"
      ]
     },
     "execution_count": 2,
     "metadata": {},
     "output_type": "execute_result"
    }
   ],
   "source": [
    "an='O14467'\n",
    "gor.get_goterms_from_an(an)"
   ]
  },
  {
   "cell_type": "code",
   "execution_count": 4,
   "metadata": {
    "collapsed": false
   },
   "outputs": [],
   "source": [
    "import goretriever\n",
    "ui = goretriever.UserInput()"
   ]
  },
  {
   "cell_type": "code",
   "execution_count": 9,
   "metadata": {
    "collapsed": false
   },
   "outputs": [],
   "source": [
    "import pandas as pd\n",
    "df = pd.read_csv('summary_test3.txt', sep='\\t')"
   ]
  },
  {
   "cell_type": "code",
   "execution_count": 11,
   "metadata": {
    "collapsed": false
   },
   "outputs": [
    {
     "data": {
      "text/html": [
       "<div style=\"max-height:1000px;max-width:1500px;overflow:auto;\">\n",
       "<table border=\"1\" class=\"dataframe\">\n",
       "  <thead>\n",
       "    <tr style=\"text-align: right;\">\n",
       "      <th></th>\n",
       "      <th>id</th>\n",
       "      <th>enrichment</th>\n",
       "      <th>description</th>\n",
       "      <th>ratio_in_study</th>\n",
       "      <th>ratio_in_pop</th>\n",
       "      <th>p_uncorrected</th>\n",
       "      <th>p_bonferroni</th>\n",
       "      <th>p_holm</th>\n",
       "      <th>p_sidak</th>\n",
       "      <th>p_fdr</th>\n",
       "    </tr>\n",
       "  </thead>\n",
       "  <tbody>\n",
       "    <tr>\n",
       "      <th>79</th>\n",
       "      <td>GO:0071704</td>\n",
       "      <td>e</td>\n",
       "      <td>organic substance metabolic process</td>\n",
       "      <td>1/1</td>\n",
       "      <td>2640/4258</td>\n",
       "      <td>1</td>\n",
       "      <td>84</td>\n",
       "      <td>1</td>\n",
       "      <td>81.9</td>\n",
       "      <td>n.a.</td>\n",
       "    </tr>\n",
       "    <tr>\n",
       "      <th>80</th>\n",
       "      <td>GO:0044424</td>\n",
       "      <td>e</td>\n",
       "      <td>intracellular part</td>\n",
       "      <td>1/1</td>\n",
       "      <td>3688/4258</td>\n",
       "      <td>1</td>\n",
       "      <td>84</td>\n",
       "      <td>1</td>\n",
       "      <td>81.9</td>\n",
       "      <td>n.a.</td>\n",
       "    </tr>\n",
       "    <tr>\n",
       "      <th>81</th>\n",
       "      <td>GO:0008152</td>\n",
       "      <td>e</td>\n",
       "      <td>metabolic process</td>\n",
       "      <td>1/1</td>\n",
       "      <td>2997/4258</td>\n",
       "      <td>1</td>\n",
       "      <td>84</td>\n",
       "      <td>1</td>\n",
       "      <td>81.9</td>\n",
       "      <td>n.a.</td>\n",
       "    </tr>\n",
       "    <tr>\n",
       "      <th>82</th>\n",
       "      <td>GO:0003674</td>\n",
       "      <td>e</td>\n",
       "      <td>molecular_function</td>\n",
       "      <td>1/1</td>\n",
       "      <td>4242/4258</td>\n",
       "      <td>1</td>\n",
       "      <td>84</td>\n",
       "      <td>1</td>\n",
       "      <td>81.9</td>\n",
       "      <td>n.a.</td>\n",
       "    </tr>\n",
       "    <tr>\n",
       "      <th>83</th>\n",
       "      <td>GO:0044237</td>\n",
       "      <td>e</td>\n",
       "      <td>cellular metabolic process</td>\n",
       "      <td>1/1</td>\n",
       "      <td>2692/4258</td>\n",
       "      <td>1</td>\n",
       "      <td>84</td>\n",
       "      <td>1</td>\n",
       "      <td>81.9</td>\n",
       "      <td>n.a.</td>\n",
       "    </tr>\n",
       "  </tbody>\n",
       "</table>\n",
       "</div>"
      ],
      "text/plain": [
       "            id enrichment                          description ratio_in_study  \\\n",
       "79  GO:0071704          e  organic substance metabolic process            1/1   \n",
       "80  GO:0044424          e                   intracellular part            1/1   \n",
       "81  GO:0008152          e                    metabolic process            1/1   \n",
       "82  GO:0003674          e                   molecular_function            1/1   \n",
       "83  GO:0044237          e           cellular metabolic process            1/1   \n",
       "\n",
       "   ratio_in_pop  p_uncorrected  p_bonferroni  p_holm  p_sidak p_fdr  \n",
       "79    2640/4258              1            84       1     81.9  n.a.  \n",
       "80    3688/4258              1            84       1     81.9  n.a.  \n",
       "81    2997/4258              1            84       1     81.9  n.a.  \n",
       "82    4242/4258              1            84       1     81.9  n.a.  \n",
       "83    2692/4258              1            84       1     81.9  n.a.  "
      ]
     },
     "execution_count": 11,
     "metadata": {},
     "output_type": "execute_result"
    }
   ],
   "source": [
    "df.tail()"
   ]
  },
  {
   "cell_type": "code",
   "execution_count": null,
   "metadata": {
    "collapsed": true
   },
   "outputs": [],
   "source": []
  }
 ],
 "metadata": {
  "kernelspec": {
   "display_name": "Python 2",
   "language": "python",
   "name": "python2"
  },
  "language_info": {
   "codemirror_mode": {
    "name": "ipython",
    "version": 2
   },
   "file_extension": ".py",
   "mimetype": "text/x-python",
   "name": "python",
   "nbconvert_exporter": "python",
   "pygments_lexer": "ipython2",
   "version": "2.7.6"
  }
 },
 "nbformat": 4,
 "nbformat_minor": 0
}
