{
 "cells": [
  {
   "cell_type": "code",
   "execution_count": 1,
   "metadata": {},
   "outputs": [],
   "source": [
    "# created on windof"
   ]
  },
  {
   "cell_type": "code",
   "execution_count": 3,
   "metadata": {},
   "outputs": [],
   "source": [
    "fn=r\"C:\\Users\\dblyon\\CPR\\Brian_GO\\UniProt_data\\gene_association.goa_ref_human\\gene_association.goa_ref_human\"\n",
    "fh = open(fn, \"r\")"
   ]
  },
  {
   "cell_type": "code",
   "metadata": {},
   "outputs": [],
   "source": [
    "DB, DB_Object_ID, DB_Object_Symbol, Qualifier, GO_ID, DB:Reference\n",
    "7.\t\tEvidence Code\n",
    "8.\t\tWith (or) From\n",
    "9.\t\tAspect\n",
    "10.\t\tDB_Object_Name\n",
    "11.\t\tDB_Object_Synonym\n",
    "12.\t\tDB_Object_Type\n",
    "13.\t\tTaxon and Interacting taxon\n",
    "14.\t\tDate\n",
    "15.\t\tAssigned_By\n",
    "16.\t\tAnnotation_Extension\n",
    "17.\t\tGene_Product_Form_ID"
   ]
  },
  {
   "cell_type": "code",
   "execution_count": 1,
   "metadata": {},
   "outputs": [],
   "source": [
    "s=\"UniProtKB\tP17023\tZNF19\t\tGO:0003677\tGO_REF:0000037\tIEA\tUniProtKB-KW:KW-0238\tF\tZinc finger protein 19\tZNF19_HUMAN|ZNF19|KOX12\tprotein\ttaxon:9606\t20150425\tUniProt\t\t\""
   ]
  },
  {
   "cell_type": "code",
   "execution_count": 7,
   "metadata": {},
   "outputs": [
    {
     "name": "stdout",
     "output_type": "stream",
     "text": [
      "1 UniProtKB\n",
      "2 P17023\n",
      "3 ZNF19\n",
      "4 \n",
      "5 GO:0003677\n",
      "6 GO_REF:0000037\n",
      "7 IEA\n",
      "8 UniProtKB-KW:KW-0238\n",
      "9 F\n",
      "10 Zinc finger protein 19\n",
      "11 ZNF19_HUMAN|ZNF19|KOX12\n",
      "12 protein\n",
      "13 taxon:9606\n",
      "14 20150425\n",
      "15 UniProt\n",
      "16 \n",
      "17 \n"
     ]
    }
   ],
   "source": [
    "line = s.split(\"\\t\")\n",
    "#print len(line)\n",
    "for index, ele in enumerate(line):\n",
    "    print index+1, ele"
   ]
  },
  {
   "cell_type": "code",
   "execution_count": 3,
   "metadata": {},
   "outputs": [],
   "source": [
    "t=\"\"\"\n",
    "1.\t\tDB\n",
    "2.\t\tDB_Object_ID\n",
    "3.\t\tDB_Object_Symbol\n",
    "4. \t\tQualifier\n",
    "5.\t\tGO_ID\n",
    "6.\t\tDB:Reference\n",
    "7.\t\tEvidence Code\n",
    "8.\t\tWith (or) From\n",
    "9.\t\tAspect\n",
    "10.\t\tDB_Object_Name\n",
    "11.\t\tDB_Object_Synonym\n",
    "12.\t\tDB_Object_Type\n",
    "13.\t\tTaxon and Interacting taxon\n",
    "14.\t\tDate\n",
    "15.\t\tAssigned_By\n",
    "16.\t\tAnnotation_Extension\n",
    "17.\t\tGene_Product_Form_ID\"\"\""
   ]
  },
  {
   "cell_type": "code",
   "execution_count": 9,
   "metadata": {},
   "outputs": [],
   "source": [
    "cols = ['DB',\n",
    "'DB_Object_ID',\n",
    "'DB_Object_Symbol',\n",
    "'Qualifier',\n",
    "'GO_ID',\n",
    "'DB:Reference',\n",
    "'EvidenceCode',\n",
    "'With(or)From',\n",
    "'Aspect',\n",
    "'DB_Object_Name',\n",
    "'DB_Object_Synonym',\n",
    "'DB_Object_Type',\n",
    "'TaxonAndInteractingTaxon',\n",
    "'Date',\n",
    "'Assigned_By',\n",
    "'Annotation_Extension',\n",
    "'Gene_Product_Form_ID']"
   ]
  },
  {
   "cell_type": "code",
   "metadata": {},
   "outputs": [],
   "source": [
    "# all I need (I think)\n",
    "# 2.\t\tDB_Object_ID\n",
    "# 5.\t\tGO_ID"
   ]
  }
 ],
 "metadata": {
  "kernelspec": {
   "display_name": "Python 2",
   "language": "python",
   "name": "python2"
  },
  "language_info": {
   "codemirror_mode": {
    "name": "ipython",
    "version": 2.0
   },
   "file_extension": ".py",
   "mimetype": "text/x-python",
   "name": "python",
   "nbconvert_exporter": "python",
   "pygments_lexer": "ipython2",
   "version": "2.7.6"
  }
 },
 "nbformat": 4,
 "nbformat_minor": 0
}