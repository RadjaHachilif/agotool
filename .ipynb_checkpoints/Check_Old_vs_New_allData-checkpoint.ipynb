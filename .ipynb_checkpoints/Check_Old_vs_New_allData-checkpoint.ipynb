{
 "cells": [
  {
   "cell_type": "code",
   "execution_count": 1,
   "metadata": {
    "collapsed": false
   },
   "outputs": [
    {
     "data": {
      "text/plain": [
       "u'/Users/dblyon/modules/cpr/metaprot'"
      ]
     },
     "execution_count": 1,
     "metadata": {},
     "output_type": "execute_result"
    }
   ],
   "source": [
    "pwd"
   ]
  },
  {
   "cell_type": "code",
   "execution_count": 3,
   "metadata": {
    "collapsed": false
   },
   "outputs": [
    {
     "name": "stdout",
     "output_type": "stream",
     "text": [
      "/Users/dblyon/modules/cpr\n"
     ]
    }
   ],
   "source": [
    "cd .."
   ]
  },
  {
   "cell_type": "code",
   "execution_count": 5,
   "metadata": {
    "collapsed": false
   },
   "outputs": [
    {
     "name": "stdout",
     "output_type": "stream",
     "text": [
      "/Users/dblyon/modules/cpr/goterm\n"
     ]
    }
   ],
   "source": [
    "cd goterm"
   ]
  },
  {
   "cell_type": "code",
   "execution_count": 84,
   "metadata": {
    "collapsed": false
   },
   "outputs": [],
   "source": [
    "import userinput\n",
    "import pandas as pd\n",
    "userinput_fn = r'/Users/dblyon/CloudStation/CPR/Brian_GO/alldata/Data_for_web_tool_HeLa_v2.txt'\n",
    "#userinput_fn = r'/Users/dblyon/CloudStation/CPR/Brian_GO/alldata/Data_for_web_tool_HeLa.txt'\n",
    "num_bins = 100\n",
    "#col_background_an = 'Genome'\n",
    "col_background_an = 'Observed Proteome'\n",
    "col_sample_an = 'Acetyl'\n",
    "col_background_int = 'iBAQ observed (log10)'\n",
    "decimal = ','\n",
    "ui = userinput.UserInput(userinput_fn, num_bins, col_sample_an, col_background_an, col_background_int, decimal)"
   ]
  },
  {
   "cell_type": "code",
   "execution_count": 85,
   "metadata": {
    "collapsed": false
   },
   "outputs": [
    {
     "name": "stdout",
     "output_type": "stream",
     "text": [
      "(15616, 2)\n",
      "(15616, 2)\n"
     ]
    }
   ],
   "source": [
    "print ui.background_df.shape\n",
    "print ui.background_df.drop_duplicates(subset=col_background_an).shape"
   ]
  },
  {
   "cell_type": "code",
   "execution_count": 86,
   "metadata": {
    "collapsed": false
   },
   "outputs": [
    {
     "name": "stdout",
     "output_type": "stream",
     "text": [
      "1868\n",
      "1868\n"
     ]
    }
   ],
   "source": [
    "print len(ui.sample_ser)\n",
    "print len(ui.sample_ser.drop_duplicates())"
   ]
  },
  {
   "cell_type": "code",
   "execution_count": 137,
   "metadata": {
    "collapsed": false
   },
   "outputs": [
    {
     "data": {
      "text/plain": [
       "1736"
      ]
     },
     "execution_count": 137,
     "metadata": {},
     "output_type": "execute_result"
    }
   ],
   "source": [
    "len(ui.get_sample_an_frset())"
   ]
  },
  {
   "cell_type": "code",
   "execution_count": 87,
   "metadata": {
    "collapsed": false
   },
   "outputs": [
    {
     "name": "stdout",
     "output_type": "stream",
     "text": [
      "regardless of abundance:\n",
      "Num Background:  15616\n",
      "Num Study:  1868\n",
      "only if abundance:\n",
      "Num Background:  15616\n",
      "Num Study:  1736\n"
     ]
    }
   ],
   "source": [
    "# print ui.df_all.shape\n",
    "# print ui.df_all.drop_duplicates(subset='Observed Proteome').shape # due to NaNs in the 'Observed Proteome' column \n",
    "# # that were found in the 'Acetyl' column\n",
    "# print ui.df_int.shape\n",
    "# print ui.df_int.drop_duplicates(subset='Observed Proteome').shape\n",
    "\n",
    "print 'regardless of abundance:'\n",
    "print 'Num Background: ', len(ui.df_all.loc[pd.notnull(ui.df_all['Observed Proteome']), 'Observed Proteome'].drop_duplicates())\n",
    "print 'Num Study: ', len(ui.df_all.loc[pd.notnull(ui.df_all['Acetyl']), 'Acetyl'].drop_duplicates())\n",
    "print 'only if abundance:'\n",
    "print 'Num Background: ', len(ui.df_int.loc[pd.notnull(ui.df_int['Observed Proteome']), 'Observed Proteome'].drop_duplicates())\n",
    "print 'Num Study: ', len(ui.df_int.loc[pd.notnull(ui.df_int['Acetyl']), 'Acetyl'].drop_duplicates())\n",
    "\n",
    "# Data_for_web_tool_HeLa\n",
    "# regardless of abundance:\n",
    "# Num Background:  6965\n",
    "# Num Study:  1868\n",
    "# only if abundance:\n",
    "# Num Background:  6965\n",
    "# Num Study:  1663\n",
    "\n",
    "# Data_for_web_tool_HeLa_v2\n",
    "# regardless of abundance:\n",
    "# Num Background:  15616\n",
    "# Num Study:  1868\n",
    "# only if abundance:\n",
    "# Num Background:  15616\n",
    "# Num Study:  1736"
   ]
  },
  {
   "cell_type": "code",
   "execution_count": 76,
   "metadata": {
    "collapsed": false
   },
   "outputs": [
    {
     "data": {
      "text/plain": [
       "6965"
      ]
     },
     "execution_count": 76,
     "metadata": {},
     "output_type": "execute_result"
    }
   ],
   "source": [
    "len(ui.df_all.loc[pd.notnull(ui.df_all['Observed Proteome']), 'Observed Proteome'].drop_duplicates())"
   ]
  },
  {
   "cell_type": "code",
   "execution_count": 69,
   "metadata": {
    "collapsed": false
   },
   "outputs": [
    {
     "data": {
      "text/plain": [
       "{nan}"
      ]
     },
     "execution_count": 69,
     "metadata": {},
     "output_type": "execute_result"
    }
   ],
   "source": [
    "s1 - s2"
   ]
  },
  {
   "cell_type": "code",
   "execution_count": 51,
   "metadata": {
    "collapsed": false
   },
   "outputs": [],
   "source": [
    "#ui.sample_ser.loc['P09201']"
   ]
  },
  {
   "cell_type": "code",
   "execution_count": 52,
   "metadata": {
    "collapsed": false
   },
   "outputs": [
    {
     "name": "stdout",
     "output_type": "stream",
     "text": [
      "(15616, 3)\n",
      "(15616, 3)\n"
     ]
    }
   ],
   "source": [
    "print ui.df_int.shape\n",
    "print ui.df_int.drop_duplicates(subset='Observed Proteome').shape"
   ]
  },
  {
   "cell_type": "code",
   "execution_count": 102,
   "metadata": {
    "collapsed": true
   },
   "outputs": [],
   "source": [
    "fn=r'/Users/dblyon/Downloads/Brian_GO_UPK/all_data/HeLa_Acetyl_vs_AbCorr.txt'\n",
    "dfo = pd.read_csv(fn, sep='\\t', skiprows=1)\n",
    "fn=r'/Users/dblyon/Downloads/Brian_GO_UPK/Brian_all_data_v2/HeLa_Acetyl_vs_AbCorr.txt'\n",
    "dfn = pd.read_csv(fn, sep='\\t', skiprows=1)"
   ]
  },
  {
   "cell_type": "code",
   "execution_count": 122,
   "metadata": {
    "collapsed": false
   },
   "outputs": [
    {
     "data": {
      "text/html": [
       "<div style=\"max-height:1000px;max-width:1500px;overflow:auto;\">\n",
       "<table border=\"1\" class=\"dataframe\">\n",
       "  <thead>\n",
       "    <tr style=\"text-align: right;\">\n",
       "      <th></th>\n",
       "      <th>id</th>\n",
       "      <th>enrichment</th>\n",
       "      <th>perc_enrichment_study</th>\n",
       "      <th>perc_enrichment_pop</th>\n",
       "      <th>fold_enrichment_study2pop</th>\n",
       "      <th>study_count</th>\n",
       "      <th>study_n</th>\n",
       "      <th>pop_count</th>\n",
       "      <th>pop_n</th>\n",
       "      <th>description</th>\n",
       "      <th>p_uncorrected</th>\n",
       "      <th>p_bonferroni</th>\n",
       "      <th>p_holm</th>\n",
       "      <th>p_sidak</th>\n",
       "      <th>ANs_study</th>\n",
       "      <th>ANs_pop</th>\n",
       "      <th>p_fdr</th>\n",
       "    </tr>\n",
       "  </thead>\n",
       "  <tbody>\n",
       "    <tr>\n",
       "      <th>15</th>\n",
       "      <td>....GO:0000123</td>\n",
       "      <td>e</td>\n",
       "      <td>1.6</td>\n",
       "      <td>0.2</td>\n",
       "      <td>6.75</td>\n",
       "      <td>27</td>\n",
       "      <td>1736</td>\n",
       "      <td>4</td>\n",
       "      <td>1736</td>\n",
       "      <td>histone acetyltransferase complex</td>\n",
       "      <td>0.000031</td>\n",
       "      <td>0.279</td>\n",
       "      <td>0.2660</td>\n",
       "      <td>0.272</td>\n",
       "      <td>O15294,O95251,O95696,P55201,Q01658,Q09472,Q141...</td>\n",
       "      <td>O00268,O15294,O43318,O75486,O75529,O95163,O952...</td>\n",
       "      <td>n.a.</td>\n",
       "    </tr>\n",
       "    <tr>\n",
       "      <th>16</th>\n",
       "      <td>.....GO:0043967</td>\n",
       "      <td>e</td>\n",
       "      <td>1.1</td>\n",
       "      <td>0.2</td>\n",
       "      <td>6.33</td>\n",
       "      <td>19</td>\n",
       "      <td>1736</td>\n",
       "      <td>3</td>\n",
       "      <td>1736</td>\n",
       "      <td>histone H4 acetylation</td>\n",
       "      <td>0.000826</td>\n",
       "      <td>7.320</td>\n",
       "      <td>6.8300</td>\n",
       "      <td>7.130</td>\n",
       "      <td>O14929,O15294,O60885,O95251,Q03164,Q09472,Q68D...</td>\n",
       "      <td>O00213,O14929,O15294,O15534,O60885,O95251,O953...</td>\n",
       "      <td>n.a.</td>\n",
       "    </tr>\n",
       "    <tr>\n",
       "      <th>17</th>\n",
       "      <td>....GO:0016573</td>\n",
       "      <td>e</td>\n",
       "      <td>1.8</td>\n",
       "      <td>0.3</td>\n",
       "      <td>6.20</td>\n",
       "      <td>31</td>\n",
       "      <td>1736</td>\n",
       "      <td>5</td>\n",
       "      <td>1736</td>\n",
       "      <td>histone acetylation</td>\n",
       "      <td>0.000012</td>\n",
       "      <td>0.104</td>\n",
       "      <td>0.0995</td>\n",
       "      <td>0.101</td>\n",
       "      <td>O14929,O15294,O60885,O95251,O95696,P51608,P552...</td>\n",
       "      <td>K7ERQ8,O00213,O14929,O15294,O15534,O43318,O605...</td>\n",
       "      <td>n.a.</td>\n",
       "    </tr>\n",
       "    <tr>\n",
       "      <th>18</th>\n",
       "      <td>.....GO:1902493</td>\n",
       "      <td>e</td>\n",
       "      <td>1.8</td>\n",
       "      <td>0.3</td>\n",
       "      <td>6.20</td>\n",
       "      <td>31</td>\n",
       "      <td>1736</td>\n",
       "      <td>5</td>\n",
       "      <td>1736</td>\n",
       "      <td>acetyltransferase complex</td>\n",
       "      <td>0.000012</td>\n",
       "      <td>0.104</td>\n",
       "      <td>0.0995</td>\n",
       "      <td>0.101</td>\n",
       "      <td>O15294,O95251,O95696,P41227,P55201,Q01658,Q094...</td>\n",
       "      <td>O00268,O15294,O43318,O75486,O75529,O95163,O952...</td>\n",
       "      <td>n.a.</td>\n",
       "    </tr>\n",
       "    <tr>\n",
       "      <th>19</th>\n",
       "      <td>...GO:0031248</td>\n",
       "      <td>e</td>\n",
       "      <td>1.8</td>\n",
       "      <td>0.3</td>\n",
       "      <td>6.20</td>\n",
       "      <td>31</td>\n",
       "      <td>1736</td>\n",
       "      <td>5</td>\n",
       "      <td>1736</td>\n",
       "      <td>protein acetyltransferase complex</td>\n",
       "      <td>0.000012</td>\n",
       "      <td>0.104</td>\n",
       "      <td>0.0995</td>\n",
       "      <td>0.101</td>\n",
       "      <td>O15294,O95251,O95696,P41227,P55201,Q01658,Q094...</td>\n",
       "      <td>O00268,O15294,O43318,O75486,O75529,O95163,O952...</td>\n",
       "      <td>n.a.</td>\n",
       "    </tr>\n",
       "  </tbody>\n",
       "</table>\n",
       "</div>"
      ],
      "text/plain": [
       "                 id enrichment  perc_enrichment_study  perc_enrichment_pop  \\\n",
       "15   ....GO:0000123          e                    1.6                  0.2   \n",
       "16  .....GO:0043967          e                    1.1                  0.2   \n",
       "17   ....GO:0016573          e                    1.8                  0.3   \n",
       "18  .....GO:1902493          e                    1.8                  0.3   \n",
       "19    ...GO:0031248          e                    1.8                  0.3   \n",
       "\n",
       "    fold_enrichment_study2pop  study_count  study_n  pop_count  pop_n  \\\n",
       "15                       6.75           27     1736          4   1736   \n",
       "16                       6.33           19     1736          3   1736   \n",
       "17                       6.20           31     1736          5   1736   \n",
       "18                       6.20           31     1736          5   1736   \n",
       "19                       6.20           31     1736          5   1736   \n",
       "\n",
       "                          description  p_uncorrected  p_bonferroni  p_holm  \\\n",
       "15  histone acetyltransferase complex       0.000031         0.279  0.2660   \n",
       "16             histone H4 acetylation       0.000826         7.320  6.8300   \n",
       "17                histone acetylation       0.000012         0.104  0.0995   \n",
       "18          acetyltransferase complex       0.000012         0.104  0.0995   \n",
       "19  protein acetyltransferase complex       0.000012         0.104  0.0995   \n",
       "\n",
       "    p_sidak                                          ANs_study  \\\n",
       "15    0.272  O15294,O95251,O95696,P55201,Q01658,Q09472,Q141...   \n",
       "16    7.130  O14929,O15294,O60885,O95251,Q03164,Q09472,Q68D...   \n",
       "17    0.101  O14929,O15294,O60885,O95251,O95696,P51608,P552...   \n",
       "18    0.101  O15294,O95251,O95696,P41227,P55201,Q01658,Q094...   \n",
       "19    0.101  O15294,O95251,O95696,P41227,P55201,Q01658,Q094...   \n",
       "\n",
       "                                              ANs_pop p_fdr  \n",
       "15  O00268,O15294,O43318,O75486,O75529,O95163,O952...  n.a.  \n",
       "16  O00213,O14929,O15294,O15534,O60885,O95251,O953...  n.a.  \n",
       "17  K7ERQ8,O00213,O14929,O15294,O15534,O43318,O605...  n.a.  \n",
       "18  O00268,O15294,O43318,O75486,O75529,O95163,O952...  n.a.  \n",
       "19  O00268,O15294,O43318,O75486,O75529,O95163,O952...  n.a.  "
      ]
     },
     "execution_count": 122,
     "metadata": {},
     "output_type": "execute_result"
    }
   ],
   "source": [
    "cond = dfn['p_uncorrected'] < 0.01\n",
    "dfn.loc[cond, ].head()"
   ]
  },
  {
   "cell_type": "code",
   "execution_count": 123,
   "metadata": {
    "collapsed": false
   },
   "outputs": [
    {
     "data": {
      "text/html": [
       "<div style=\"max-height:1000px;max-width:1500px;overflow:auto;\">\n",
       "<table border=\"1\" class=\"dataframe\">\n",
       "  <thead>\n",
       "    <tr style=\"text-align: right;\">\n",
       "      <th></th>\n",
       "      <th>id</th>\n",
       "      <th>enrichment</th>\n",
       "      <th>fold_enrichment</th>\n",
       "      <th>description</th>\n",
       "      <th>ratio_in_study</th>\n",
       "      <th>ratio_in_pop</th>\n",
       "      <th>p_uncorrected</th>\n",
       "      <th>p_bonferroni</th>\n",
       "      <th>p_holm</th>\n",
       "      <th>p_sidak</th>\n",
       "      <th>p_fdr</th>\n",
       "      <th>ANs_study</th>\n",
       "      <th>ANs_pop</th>\n",
       "    </tr>\n",
       "  </thead>\n",
       "  <tbody>\n",
       "    <tr>\n",
       "      <th>32</th>\n",
       "      <td>....GO:0000123</td>\n",
       "      <td>e</td>\n",
       "      <td>3.38</td>\n",
       "      <td>histone acetyltransferase complex</td>\n",
       "      <td>27/1663</td>\n",
       "      <td>8/1663</td>\n",
       "      <td>0.001780</td>\n",
       "      <td>15.7</td>\n",
       "      <td>15.50</td>\n",
       "      <td>15.30</td>\n",
       "      <td>n.a.</td>\n",
       "      <td>O15294,O95251,O95696,P55201,Q01658,Q09472,Q141...</td>\n",
       "      <td>O00268,O15294,O43318,O75486,O75529,O95163,O952...</td>\n",
       "    </tr>\n",
       "    <tr>\n",
       "      <th>33</th>\n",
       "      <td>....GO:0016573</td>\n",
       "      <td>e</td>\n",
       "      <td>3.33</td>\n",
       "      <td>histone acetylation</td>\n",
       "      <td>30/1663</td>\n",
       "      <td>9/1663</td>\n",
       "      <td>0.000997</td>\n",
       "      <td>8.8</td>\n",
       "      <td>8.71</td>\n",
       "      <td>8.58</td>\n",
       "      <td>n.a.</td>\n",
       "      <td>O14929,O15294,O60885,O95251,O95696,P51608,P552...</td>\n",
       "      <td>O14929,O15294,O15534,O43318,O60502,O60885,O754...</td>\n",
       "    </tr>\n",
       "    <tr>\n",
       "      <th>34</th>\n",
       "      <td>.......GO:0006473</td>\n",
       "      <td>e</td>\n",
       "      <td>3.00</td>\n",
       "      <td>protein acetylation</td>\n",
       "      <td>36/1663</td>\n",
       "      <td>12/1663</td>\n",
       "      <td>0.000657</td>\n",
       "      <td>5.8</td>\n",
       "      <td>5.75</td>\n",
       "      <td>5.66</td>\n",
       "      <td>n.a.</td>\n",
       "      <td>O14929,O15294,O60885,O95251,O95696,P04424,P409...</td>\n",
       "      <td>O14929,O15294,O15534,O43318,O60502,O60885,O754...</td>\n",
       "    </tr>\n",
       "    <tr>\n",
       "      <th>35</th>\n",
       "      <td>........GO:0006475</td>\n",
       "      <td>e</td>\n",
       "      <td>3.00</td>\n",
       "      <td>internal protein amino acid acetylation</td>\n",
       "      <td>33/1663</td>\n",
       "      <td>11/1663</td>\n",
       "      <td>0.001170</td>\n",
       "      <td>10.3</td>\n",
       "      <td>10.20</td>\n",
       "      <td>10.10</td>\n",
       "      <td>n.a.</td>\n",
       "      <td>O14929,O15294,O60885,O95251,O95696,P04424,P409...</td>\n",
       "      <td>O14929,O15294,O15534,O43318,O60502,O60885,O754...</td>\n",
       "    </tr>\n",
       "    <tr>\n",
       "      <th>36</th>\n",
       "      <td>.....GO:1902493</td>\n",
       "      <td>e</td>\n",
       "      <td>3.00</td>\n",
       "      <td>acetyltransferase complex</td>\n",
       "      <td>30/1663</td>\n",
       "      <td>10/1663</td>\n",
       "      <td>0.002090</td>\n",
       "      <td>18.5</td>\n",
       "      <td>18.30</td>\n",
       "      <td>18.00</td>\n",
       "      <td>n.a.</td>\n",
       "      <td>O15294,O95251,O95696,P41227,P55201,Q01658,Q094...</td>\n",
       "      <td>O00268,O15294,O43318,O75486,O75529,O95163,O952...</td>\n",
       "    </tr>\n",
       "  </tbody>\n",
       "</table>\n",
       "</div>"
      ],
      "text/plain": [
       "                    id enrichment  fold_enrichment  \\\n",
       "32      ....GO:0000123          e             3.38   \n",
       "33      ....GO:0016573          e             3.33   \n",
       "34   .......GO:0006473          e             3.00   \n",
       "35  ........GO:0006475          e             3.00   \n",
       "36     .....GO:1902493          e             3.00   \n",
       "\n",
       "                                description ratio_in_study ratio_in_pop  \\\n",
       "32        histone acetyltransferase complex        27/1663       8/1663   \n",
       "33                      histone acetylation        30/1663       9/1663   \n",
       "34                      protein acetylation        36/1663      12/1663   \n",
       "35  internal protein amino acid acetylation        33/1663      11/1663   \n",
       "36                acetyltransferase complex        30/1663      10/1663   \n",
       "\n",
       "    p_uncorrected  p_bonferroni  p_holm  p_sidak p_fdr  \\\n",
       "32       0.001780          15.7   15.50    15.30  n.a.   \n",
       "33       0.000997           8.8    8.71     8.58  n.a.   \n",
       "34       0.000657           5.8    5.75     5.66  n.a.   \n",
       "35       0.001170          10.3   10.20    10.10  n.a.   \n",
       "36       0.002090          18.5   18.30    18.00  n.a.   \n",
       "\n",
       "                                            ANs_study  \\\n",
       "32  O15294,O95251,O95696,P55201,Q01658,Q09472,Q141...   \n",
       "33  O14929,O15294,O60885,O95251,O95696,P51608,P552...   \n",
       "34  O14929,O15294,O60885,O95251,O95696,P04424,P409...   \n",
       "35  O14929,O15294,O60885,O95251,O95696,P04424,P409...   \n",
       "36  O15294,O95251,O95696,P41227,P55201,Q01658,Q094...   \n",
       "\n",
       "                                              ANs_pop  \n",
       "32  O00268,O15294,O43318,O75486,O75529,O95163,O952...  \n",
       "33  O14929,O15294,O15534,O43318,O60502,O60885,O754...  \n",
       "34  O14929,O15294,O15534,O43318,O60502,O60885,O754...  \n",
       "35  O14929,O15294,O15534,O43318,O60502,O60885,O754...  \n",
       "36  O00268,O15294,O43318,O75486,O75529,O95163,O952...  "
      ]
     },
     "execution_count": 123,
     "metadata": {},
     "output_type": "execute_result"
    }
   ],
   "source": [
    "cond = dfo['p_uncorrected'] < 0.01\n",
    "dfo.loc[cond, ].head()"
   ]
  },
  {
   "cell_type": "code",
   "execution_count": 145,
   "metadata": {
    "collapsed": false
   },
   "outputs": [
    {
     "name": "stdout",
     "output_type": "stream",
     "text": [
      "161288\n",
      "52926\n"
     ]
    }
   ],
   "source": [
    "colname = 'ratio_in_pop'\n",
    "old_posassoc_sum = sum([int(x.split('/')[0]) for x in dfo[colname].tolist()])\n",
    "print old_posassoc_sum\n",
    "cond = dfo['p_uncorrected'] < 0.01\n",
    "old_posassoc_sum = sum([int(x.split('/')[0]) for x in dfo.loc[cond, colname].tolist()])\n",
    "print old_posassoc_sum"
   ]
  },
  {
   "cell_type": "code",
   "execution_count": 146,
   "metadata": {
    "collapsed": false
   },
   "outputs": [
    {
     "name": "stdout",
     "output_type": "stream",
     "text": [
      "81634\n",
      "62339\n"
     ]
    }
   ],
   "source": [
    "colname = 'pop_count'\n",
    "new_posassoc_sum = sum(dfn[colname])\n",
    "print new_posassoc_sum\n",
    "cond = dfn['p_uncorrected'] < 0.01\n",
    "new_posassoc_sum = sum(dfn.loc[cond, colname])\n",
    "print new_posassoc_sum"
   ]
  },
  {
   "cell_type": "code",
   "execution_count": 125,
   "metadata": {
    "collapsed": true
   },
   "outputs": [],
   "source": [
    "from matplotlib import pyplot\n",
    "import numpy as np\n",
    "scores_old = dfo['fold_enrichment']\n",
    "scores_new = dfn['fold_enrichment_study2pop']\n",
    "bins_old = np.linspace(min(scores_old), max(scores_old), 50)\n",
    "bins_new = np.linspace(min(scores_new), max(scores_new), 50)\n",
    "\n",
    "pyplot.hist(scores_old, bins_old, alpha=0.5, label='old')\n",
    "pyplot.hist(scores_new, bins_new, alpha=0.5, label='new')\n",
    "\n",
    "pyplot.legend(loc='upper right')\n",
    "pyplot.show()"
   ]
  },
  {
   "cell_type": "code",
   "execution_count": 156,
   "metadata": {
    "collapsed": false
   },
   "outputs": [
    {
     "name": "stdout",
     "output_type": "stream",
     "text": [
      "(815, 17)\n",
      "(128, 13)\n"
     ]
    }
   ],
   "source": [
    "cond1 = dfn['p_uncorrected'] <= 0.01\n",
    "cond2 = dfn['enrichment'] == 'e'\n",
    "cond = cond1 & cond2\n",
    "print dfn.loc[cond, ].shape\n",
    "\n",
    "cond1 = dfo['p_uncorrected'] <= 0.01\n",
    "cond2 = dfo['enrichment'] == 'e'\n",
    "cond = cond1 & cond2\n",
    "print dfo.loc[cond, ].shape"
   ]
  },
  {
   "cell_type": "code",
   "execution_count": null,
   "metadata": {
    "collapsed": true
   },
   "outputs": [],
   "source": [
    "all rows:\n",
    "enrichment = 'e'\n",
    "new 7590\n",
    "old 3968\n",
    "\n",
    "enrichment = 'p'\n",
    "new 1273\n",
    "old 4857\n",
    "\n",
    "if p_uncorrected <= 0.01:\n",
    "enrichment = 'e'\n",
    "new 815\n",
    "old 128\n",
    "\n",
    "enrichment = 'p'\n",
    "new 0\n",
    "old 8"
   ]
  },
  {
   "cell_type": "code",
   "execution_count": 151,
   "metadata": {
    "collapsed": false
   },
   "outputs": [
    {
     "data": {
      "text/plain": [
       "8863"
      ]
     },
     "execution_count": 151,
     "metadata": {},
     "output_type": "execute_result"
    }
   ],
   "source": [
    "7590 +1273"
   ]
  },
  {
   "cell_type": "code",
   "execution_count": 152,
   "metadata": {
    "collapsed": false
   },
   "outputs": [
    {
     "data": {
      "text/plain": [
       "8825"
      ]
     },
     "execution_count": 152,
     "metadata": {},
     "output_type": "execute_result"
    }
   ],
   "source": [
    "3968+4857"
   ]
  },
  {
   "cell_type": "code",
   "execution_count": 1,
   "metadata": {
    "collapsed": true
   },
   "outputs": [],
   "source": [
    "# test UserInput"
   ]
  },
  {
   "cell_type": "code",
   "execution_count": 2,
   "metadata": {
    "collapsed": true
   },
   "outputs": [],
   "source": [
    "import pandas as pd\n",
    "fn = r'/Users/dblyon/modules/cpr/goterm/test/UserInput_test_3.txt'\n",
    "df = pd.read_csv(fn, sep='\\t')"
   ]
  },
  {
   "cell_type": "code",
   "execution_count": 3,
   "metadata": {
    "collapsed": false
   },
   "outputs": [
    {
     "data": {
      "text/html": [
       "<div style=\"max-height:1000px;max-width:1500px;overflow:auto;\">\n",
       "<table border=\"1\" class=\"dataframe\">\n",
       "  <thead>\n",
       "    <tr style=\"text-align: right;\">\n",
       "      <th></th>\n",
       "      <th>sample_an</th>\n",
       "      <th>background_int</th>\n",
       "      <th>background_an</th>\n",
       "    </tr>\n",
       "  </thead>\n",
       "  <tbody>\n",
       "    <tr>\n",
       "      <th>0</th>\n",
       "      <td>AAA111</td>\n",
       "      <td>11.1</td>\n",
       "      <td>AAA111</td>\n",
       "    </tr>\n",
       "    <tr>\n",
       "      <th>1</th>\n",
       "      <td>AAA112</td>\n",
       "      <td>11.2</td>\n",
       "      <td>AAA112</td>\n",
       "    </tr>\n",
       "    <tr>\n",
       "      <th>2</th>\n",
       "      <td>AAA113</td>\n",
       "      <td>11.3</td>\n",
       "      <td>AAA113</td>\n",
       "    </tr>\n",
       "    <tr>\n",
       "      <th>3</th>\n",
       "      <td>AAA113</td>\n",
       "      <td>11.3</td>\n",
       "      <td>AAA113</td>\n",
       "    </tr>\n",
       "    <tr>\n",
       "      <th>4</th>\n",
       "      <td>NaN</td>\n",
       "      <td>12.1</td>\n",
       "      <td>BBB111</td>\n",
       "    </tr>\n",
       "    <tr>\n",
       "      <th>5</th>\n",
       "      <td>NaN</td>\n",
       "      <td>12.2</td>\n",
       "      <td>BBB112</td>\n",
       "    </tr>\n",
       "    <tr>\n",
       "      <th>6</th>\n",
       "      <td>NaN</td>\n",
       "      <td>12.3</td>\n",
       "      <td>BBB113</td>\n",
       "    </tr>\n",
       "    <tr>\n",
       "      <th>7</th>\n",
       "      <td>NaN</td>\n",
       "      <td>12.3</td>\n",
       "      <td>BBB113</td>\n",
       "    </tr>\n",
       "    <tr>\n",
       "      <th>8</th>\n",
       "      <td>CAA111;CAA112;CAA113</td>\n",
       "      <td>13.1</td>\n",
       "      <td>CAA111;CAA112;CAA113</td>\n",
       "    </tr>\n",
       "    <tr>\n",
       "      <th>9</th>\n",
       "      <td>CAA111;CAA112;CAA113</td>\n",
       "      <td>13.1</td>\n",
       "      <td>CAA111;CAA112;CAA113</td>\n",
       "    </tr>\n",
       "    <tr>\n",
       "      <th>10</th>\n",
       "      <td>DAA111</td>\n",
       "      <td>NaN</td>\n",
       "      <td>DAA111</td>\n",
       "    </tr>\n",
       "    <tr>\n",
       "      <th>11</th>\n",
       "      <td>DAA111</td>\n",
       "      <td>NaN</td>\n",
       "      <td>DAA111</td>\n",
       "    </tr>\n",
       "    <tr>\n",
       "      <th>12</th>\n",
       "      <td>NaN</td>\n",
       "      <td>14.1</td>\n",
       "      <td>EEE111;EEE111-9;EEE123;EEE111-9</td>\n",
       "    </tr>\n",
       "    <tr>\n",
       "      <th>13</th>\n",
       "      <td>NaN</td>\n",
       "      <td>14.1</td>\n",
       "      <td>EEE111;EEE111-9;EEE123;EEE111-9</td>\n",
       "    </tr>\n",
       "    <tr>\n",
       "      <th>14</th>\n",
       "      <td>NaN</td>\n",
       "      <td>NaN</td>\n",
       "      <td>FFF111;FFF111-1;FFF111-7</td>\n",
       "    </tr>\n",
       "    <tr>\n",
       "      <th>15</th>\n",
       "      <td>NaN</td>\n",
       "      <td>NaN</td>\n",
       "      <td>NaN</td>\n",
       "    </tr>\n",
       "    <tr>\n",
       "      <th>16</th>\n",
       "      <td>NaN</td>\n",
       "      <td>NaN</td>\n",
       "      <td>NaN</td>\n",
       "    </tr>\n",
       "    <tr>\n",
       "      <th>17</th>\n",
       "      <td>NaN</td>\n",
       "      <td>NaN</td>\n",
       "      <td>NaN</td>\n",
       "    </tr>\n",
       "  </tbody>\n",
       "</table>\n",
       "</div>"
      ],
      "text/plain": [
       "               sample_an  background_int                    background_an\n",
       "0                 AAA111            11.1                           AAA111\n",
       "1                 AAA112            11.2                           AAA112\n",
       "2                 AAA113            11.3                           AAA113\n",
       "3                 AAA113            11.3                           AAA113\n",
       "4                    NaN            12.1                           BBB111\n",
       "5                    NaN            12.2                           BBB112\n",
       "6                    NaN            12.3                           BBB113\n",
       "7                    NaN            12.3                           BBB113\n",
       "8   CAA111;CAA112;CAA113            13.1             CAA111;CAA112;CAA113\n",
       "9   CAA111;CAA112;CAA113            13.1             CAA111;CAA112;CAA113\n",
       "10                DAA111             NaN                           DAA111\n",
       "11                DAA111             NaN                           DAA111\n",
       "12                   NaN            14.1  EEE111;EEE111-9;EEE123;EEE111-9\n",
       "13                   NaN            14.1  EEE111;EEE111-9;EEE123;EEE111-9\n",
       "14                   NaN             NaN         FFF111;FFF111-1;FFF111-7\n",
       "15                   NaN             NaN                              NaN\n",
       "16                   NaN             NaN                              NaN\n",
       "17                   NaN             NaN                              NaN"
      ]
     },
     "execution_count": 3,
     "metadata": {},
     "output_type": "execute_result"
    }
   ],
   "source": [
    "df.loc[18, 'sample_'] = 'EEE111;EEE111-23'"
   ]
  },
  {
   "cell_type": "code",
   "execution_count": null,
   "metadata": {
    "collapsed": true
   },
   "outputs": [],
   "source": []
  }
 ],
 "metadata": {
  "kernelspec": {
   "display_name": "Python 2",
   "language": "python",
   "name": "python2"
  },
  "language_info": {
   "codemirror_mode": {
    "name": "ipython",
    "version": 2
   },
   "file_extension": ".py",
   "mimetype": "text/x-python",
   "name": "python",
   "nbconvert_exporter": "python",
   "pygments_lexer": "ipython2",
   "version": "2.7.6"
  }
 },
 "nbformat": 4,
 "nbformat_minor": 0
}
