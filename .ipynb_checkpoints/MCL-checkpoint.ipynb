{
 "cells": [
  {
   "cell_type": "code",
   "execution_count": 6,
   "metadata": {
    "collapsed": false
   },
   "outputs": [],
   "source": [
    "import pandas as pd\n",
    "import numpy as np"
   ]
  },
  {
   "cell_type": "code",
   "execution_count": 58,
   "metadata": {
    "collapsed": false
   },
   "outputs": [],
   "source": [
    "fn = r'/Users/dblyon/modules/cpr/goterm/agotool/static/data/exampledata/exampledata.txt'\n",
    "df=pd.read_csv(fn, sep='\\t', decimal=',')\n",
    "#fn_out = fn.replace('.txt', '_decDOT.txt')\n",
    "#df.to_csv(fn_out, header=True, index=False, decimal='.', sep='\\t') "
   ]
  },
  {
   "cell_type": "code",
   "execution_count": 8,
   "metadata": {
    "collapsed": false
   },
   "outputs": [
    {
     "data": {
      "text/html": [
       "<div style=\"max-height:1000px;max-width:1500px;overflow:auto;\">\n",
       "<table border=\"1\" class=\"dataframe\">\n",
       "  <thead>\n",
       "    <tr style=\"text-align: right;\">\n",
       "      <th></th>\n",
       "      <th>population_int</th>\n",
       "      <th>population_an</th>\n",
       "      <th>sample_an</th>\n",
       "    </tr>\n",
       "  </thead>\n",
       "  <tbody>\n",
       "    <tr>\n",
       "      <th>0</th>\n",
       "      <td>11,07751325</td>\n",
       "      <td>P00359</td>\n",
       "      <td>P40545</td>\n",
       "    </tr>\n",
       "    <tr>\n",
       "      <th>1</th>\n",
       "      <td>10,96978388</td>\n",
       "      <td>P00925</td>\n",
       "      <td>P09201</td>\n",
       "    </tr>\n",
       "    <tr>\n",
       "      <th>2</th>\n",
       "      <td>10,76849751</td>\n",
       "      <td>P02994</td>\n",
       "      <td>P14066</td>\n",
       "    </tr>\n",
       "    <tr>\n",
       "      <th>3</th>\n",
       "      <td>10,74716312</td>\n",
       "      <td>P06169</td>\n",
       "      <td>P25040</td>\n",
       "    </tr>\n",
       "    <tr>\n",
       "      <th>4</th>\n",
       "      <td>10,74614359</td>\n",
       "      <td>P00560</td>\n",
       "      <td>P20050</td>\n",
       "    </tr>\n",
       "  </tbody>\n",
       "</table>\n",
       "</div>"
      ],
      "text/plain": [
       "  population_int population_an sample_an\n",
       "0    11,07751325        P00359    P40545\n",
       "1    10,96978388        P00925    P09201\n",
       "2    10,76849751        P02994    P14066\n",
       "3    10,74716312        P06169    P25040\n",
       "4    10,74614359        P00560    P20050"
      ]
     },
     "execution_count": 8,
     "metadata": {},
     "output_type": "execute_result"
    }
   ],
   "source": [
    "df.head()"
   ]
  },
  {
   "cell_type": "code",
   "execution_count": null,
   "metadata": {
    "collapsed": true
   },
   "outputs": [],
   "source": [
    "np.histogram(df['population_int'], bins=10)"
   ]
  },
  {
   "cell_type": "code",
   "execution_count": 26,
   "metadata": {
    "collapsed": true
   },
   "outputs": [],
   "source": [
    "def check_userinput(userinput_fh, decimal, abcorr):\n",
    "    df = pd.read_csv(userinput_fh, sep='\\t', decimal=decimal)\n",
    "    userinput_fh.seek(0)\n",
    "    if abcorr:\n",
    "        if ['population_an', 'population_int', 'sample_an'] == sorted(df.columns.tolist()):\n",
    "            try:\n",
    "                np.histogram(df['population_int'], bins=10)\n",
    "            except TypeError:\n",
    "                return False\n",
    "            return True\n",
    "    else:\n",
    "        if ['population_an', 'sample_an'] == sorted(df.columns.tolist()):\n",
    "            return True\n",
    "    return False"
   ]
  },
  {
   "cell_type": "code",
   "execution_count": 29,
   "metadata": {
    "collapsed": false,
    "scrolled": true
   },
   "outputs": [
    {
     "data": {
      "text/plain": [
       "False"
      ]
     },
     "execution_count": 29,
     "metadata": {},
     "output_type": "execute_result"
    }
   ],
   "source": [
    "userinput_fh = open(fn, 'r')\n",
    "decimal = '.'\n",
    "abcorr = True\n",
    "check_userinput(userinput_fh, decimal, abcorr)"
   ]
  },
  {
   "cell_type": "code",
   "execution_count": 53,
   "metadata": {
    "collapsed": true
   },
   "outputs": [],
   "source": [
    "def check_userinput_v2(userinput_fh, abcorr):\n",
    "    df = pd.read_csv(userinput_fh, sep='\\t', decimal='.')\n",
    "    userinput_fh.seek(0)\n",
    "    if abcorr:\n",
    "        if ['population_an', 'population_int', 'sample_an'] == sorted(df.columns.tolist()):\n",
    "            try:\n",
    "                np.histogram(df['population_int'], bins=10)\n",
    "            except TypeError:\n",
    "                try:\n",
    "                    df = pd.read_csv(userinput_fh, sep='\\t', decimal=',')\n",
    "                    np.histogram(df['population_int'], bins=10)\n",
    "                except TypeError:\n",
    "                    return False\n",
    "                print(\"decimal should be set to ','\")\n",
    "            return True\n",
    "    else:\n",
    "        if ['population_an', 'sample_an'] == sorted(df.columns.tolist()):\n",
    "            return True\n",
    "    return False"
   ]
  },
  {
   "cell_type": "code",
   "execution_count": 61,
   "metadata": {
    "collapsed": false
   },
   "outputs": [
    {
     "name": "stdout",
     "output_type": "stream",
     "text": [
      "decimal should be set to ','\n"
     ]
    },
    {
     "data": {
      "text/plain": [
       "True"
      ]
     },
     "execution_count": 61,
     "metadata": {},
     "output_type": "execute_result"
    }
   ],
   "source": [
    "fn1 = r'/Users/dblyon/modules/cpr/goterm/agotool/static/data/exampledata/exampledata.txt'\n",
    "fn2 = r'/Users/dblyon/modules/cpr/goterm/agotool/static/data/exampledata/exampledata_decDOT.txt'\n",
    "userinput_fh = open(fn1, 'r')\n",
    "abcorr = True\n",
    "check_userinput_v2(userinput_fh, abcorr)"
   ]
  },
  {
   "cell_type": "code",
   "execution_count": 63,
   "metadata": {
    "collapsed": false
   },
   "outputs": [
    {
     "data": {
      "text/plain": [
       "True"
      ]
     },
     "execution_count": 63,
     "metadata": {},
     "output_type": "execute_result"
    }
   ],
   "source": [
    "fn1.endswith('.'+'txt')"
   ]
  },
  {
   "cell_type": "code",
   "execution_count": 32,
   "metadata": {
    "collapsed": true
   },
   "outputs": [],
   "source": [
    "from wtforms import Form, TextField, validators, fields"
   ]
  },
  {
   "cell_type": "code",
   "execution_count": 33,
   "metadata": {
    "collapsed": false
   },
   "outputs": [],
   "source": [
    "class Enrichment_Form(Form):\n",
    "    alpha = fields.FloatField(\"Alpha\", \n",
    "                              default = 0.05,\n",
    "                              description=u\"for multiple testing correction\",\n",
    "                             [validators.text_type])"
   ]
  },
  {
   "cell_type": "code",
   "execution_count": 34,
   "metadata": {
    "collapsed": true
   },
   "outputs": [],
   "source": [
    "form = Enrichment_Form()"
   ]
  },
  {
   "cell_type": "code",
   "execution_count": 38,
   "metadata": {
    "collapsed": false
   },
   "outputs": [
    {
     "data": {
      "text/plain": [
       "0.05"
      ]
     },
     "execution_count": 38,
     "metadata": {},
     "output_type": "execute_result"
    }
   ],
   "source": [
    "form.alpha.data"
   ]
  },
  {
   "cell_type": "code",
   "execution_count": 39,
   "metadata": {
    "collapsed": false
   },
   "outputs": [
    {
     "data": {
      "text/plain": [
       "True"
      ]
     },
     "execution_count": 39,
     "metadata": {},
     "output_type": "execute_result"
    }
   ],
   "source": [
    "form.validate()"
   ]
  },
  {
   "cell_type": "code",
   "execution_count": 40,
   "metadata": {
    "collapsed": false
   },
   "outputs": [
    {
     "data": {
      "text/plain": [
       "True"
      ]
     },
     "execution_count": 40,
     "metadata": {},
     "output_type": "execute_result"
    }
   ],
   "source": [
    "alpha = 0.01\n",
    "0 < alpha < 1"
   ]
  },
  {
   "cell_type": "code",
   "execution_count": 42,
   "metadata": {
    "collapsed": false
   },
   "outputs": [
    {
     "data": {
      "text/plain": [
       "8.0"
      ]
     },
     "execution_count": 42,
     "metadata": {},
     "output_type": "execute_result"
    }
   ],
   "source": [
    "80.0/10"
   ]
  },
  {
   "cell_type": "code",
   "execution_count": 43,
   "metadata": {
    "collapsed": false
   },
   "outputs": [
    {
     "data": {
      "text/plain": [
       "0.001"
      ]
     },
     "execution_count": 43,
     "metadata": {},
     "output_type": "execute_result"
    }
   ],
   "source": [
    "1e-3"
   ]
  },
  {
   "cell_type": "code",
   "execution_count": 44,
   "metadata": {
    "collapsed": true
   },
   "outputs": [],
   "source": [
    "a = 100\n",
    "b = int"
   ]
  },
  {
   "cell_type": "code",
   "execution_count": 45,
   "metadata": {
    "collapsed": false
   },
   "outputs": [
    {
     "data": {
      "text/plain": [
       "int"
      ]
     },
     "execution_count": 45,
     "metadata": {},
     "output_type": "execute_result"
    }
   ],
   "source": [
    "b"
   ]
  },
  {
   "cell_type": "code",
   "execution_count": 46,
   "metadata": {
    "collapsed": false
   },
   "outputs": [
    {
     "data": {
      "text/plain": [
       "int"
      ]
     },
     "execution_count": 46,
     "metadata": {},
     "output_type": "execute_result"
    }
   ],
   "source": [
    "type(a)"
   ]
  },
  {
   "cell_type": "code",
   "execution_count": 47,
   "metadata": {
    "collapsed": false
   },
   "outputs": [
    {
     "data": {
      "text/plain": [
       "type"
      ]
     },
     "execution_count": 47,
     "metadata": {},
     "output_type": "execute_result"
    }
   ],
   "source": [
    "type(b)"
   ]
  },
  {
   "cell_type": "code",
   "execution_count": 48,
   "metadata": {
    "collapsed": false
   },
   "outputs": [
    {
     "data": {
      "text/plain": [
       "type"
      ]
     },
     "execution_count": 48,
     "metadata": {},
     "output_type": "execute_result"
    }
   ],
   "source": [
    "type(int)"
   ]
  },
  {
   "cell_type": "code",
   "execution_count": 50,
   "metadata": {
    "collapsed": false
   },
   "outputs": [
    {
     "data": {
      "text/plain": [
       "True"
      ]
     },
     "execution_count": 50,
     "metadata": {},
     "output_type": "execute_result"
    }
   ],
   "source": [
    "type(a) == type(100)"
   ]
  },
  {
   "cell_type": "code",
   "execution_count": 51,
   "metadata": {
    "collapsed": false
   },
   "outputs": [
    {
     "data": {
      "text/plain": [
       "False"
      ]
     },
     "execution_count": 51,
     "metadata": {},
     "output_type": "execute_result"
    }
   ],
   "source": [
    "type(a) == type(int)"
   ]
  },
  {
   "cell_type": "code",
   "execution_count": 52,
   "metadata": {
    "collapsed": false
   },
   "outputs": [
    {
     "data": {
      "text/plain": [
       "True"
      ]
     },
     "execution_count": 52,
     "metadata": {},
     "output_type": "execute_result"
    }
   ],
   "source": [
    "isinstance(a, int)"
   ]
  },
  {
   "cell_type": "code",
   "execution_count": 18,
   "metadata": {
    "collapsed": false
   },
   "outputs": [
    {
     "data": {
      "text/plain": [
       "['a',\n",
       " 'b',\n",
       " 'c',\n",
       " 'd',\n",
       " 'e',\n",
       " 'f',\n",
       " 'g',\n",
       " 'p_benjamini_hochberg',\n",
       " 'over_under',\n",
       " 'x',\n",
       " 'y']"
      ]
     },
     "execution_count": 18,
     "metadata": {},
     "output_type": "execute_result"
    }
   ],
   "source": [
    "l = list('abcdefg')\n",
    "l.append('p_benjamini_hochberg')\n",
    "l.append('over_under')\n",
    "l += ['x', 'y']\n",
    "l"
   ]
  },
  {
   "cell_type": "code",
   "execution_count": 14,
   "metadata": {
    "collapsed": false
   },
   "outputs": [
    {
     "data": {
      "text/plain": [
       "7"
      ]
     },
     "execution_count": 14,
     "metadata": {},
     "output_type": "execute_result"
    }
   ],
   "source": [
    "index"
   ]
  },
  {
   "cell_type": "code",
   "execution_count": 25,
   "metadata": {
    "collapsed": false
   },
   "outputs": [],
   "source": [
    "def modify_list(list_of_string, search, replace):\n",
    "    if search in list_of_string:\n",
    "        index = list_of_string.index(search)\n",
    "        return list_of_string[:index] + [replace] + list_of_string[index+1:]\n",
    "    else:\n",
    "        return list_of_string"
   ]
  },
  {
   "cell_type": "code",
   "execution_count": 26,
   "metadata": {
    "collapsed": true
   },
   "outputs": [],
   "source": [
    "def modify_header(header_list):\n",
    "    header_list = modify_list(header_list, 'over_under', 'over/under')\n",
    "    return modify_list(header_list, 'p_benjamini_hochberg', 'FDR')"
   ]
  },
  {
   "cell_type": "code",
   "execution_count": 27,
   "metadata": {
    "collapsed": false
   },
   "outputs": [
    {
     "name": "stdout",
     "output_type": "stream",
     "text": [
      "['a', 'b', 'c', 'd', 'e', 'f', 'g', 'p_benjamini_hochberg', 'over_under', 'x', 'y']\n"
     ]
    },
    {
     "data": {
      "text/plain": [
       "['a', 'b', 'c', 'd', 'e', 'f', 'g', 'FDR', 'over/under', 'x', 'y']"
      ]
     },
     "execution_count": 27,
     "metadata": {},
     "output_type": "execute_result"
    }
   ],
   "source": [
    "print l\n",
    "modify_header(l)"
   ]
  },
  {
   "cell_type": "markdown",
   "metadata": {},
   "source": [
    "# MCL"
   ]
  },
  {
   "cell_type": "code",
   "execution_count": 28,
   "metadata": {
    "collapsed": true
   },
   "outputs": [],
   "source": [
    "import pandas as pd"
   ]
  },
  {
   "cell_type": "code",
   "execution_count": 29,
   "metadata": {
    "collapsed": true
   },
   "outputs": [],
   "source": [
    "fn = r'/Users/dblyon/modules/cpr/goterm/mcl/results.txt'\n",
    "df = pd.read_csv(fn, sep='\\t')"
   ]
  },
  {
   "cell_type": "code",
   "execution_count": 30,
   "metadata": {
    "collapsed": false
   },
   "outputs": [
    {
     "data": {
      "text/html": [
       "<div style=\"max-height:1000px;max-width:1500px;overflow:auto;\">\n",
       "<table border=\"1\" class=\"dataframe\">\n",
       "  <thead>\n",
       "    <tr style=\"text-align: right;\">\n",
       "      <th></th>\n",
       "      <th>id</th>\n",
       "      <th>enrichment</th>\n",
       "      <th>perc_enrichment_study</th>\n",
       "      <th>perc_enrichment_pop</th>\n",
       "      <th>fold_enrichment_study2pop</th>\n",
       "      <th>study_count</th>\n",
       "      <th>study_n</th>\n",
       "      <th>pop_count</th>\n",
       "      <th>pop_n</th>\n",
       "      <th>p_uncorrected</th>\n",
       "      <th>p_bonferroni</th>\n",
       "      <th>p_holm</th>\n",
       "      <th>p_sidak</th>\n",
       "      <th>ANs_study</th>\n",
       "      <th>ANs_pop</th>\n",
       "    </tr>\n",
       "  </thead>\n",
       "  <tbody>\n",
       "    <tr>\n",
       "      <th>0</th>\n",
       "      <td>Bromodomain</td>\n",
       "      <td>e</td>\n",
       "      <td>0.5</td>\n",
       "      <td>0.2</td>\n",
       "      <td>3.00</td>\n",
       "      <td>6</td>\n",
       "      <td>1125</td>\n",
       "      <td>2</td>\n",
       "      <td>1125</td>\n",
       "      <td>2.880000e-01</td>\n",
       "      <td>87.900000</td>\n",
       "      <td>75.500000</td>\n",
       "      <td>85.700000</td>\n",
       "      <td>P22082,P32597,P35177,P35817,Q02206,Q03330</td>\n",
       "      <td>P22082,P32597,P35177,P35817,P40340,P53236,Q022...</td>\n",
       "    </tr>\n",
       "    <tr>\n",
       "      <th>1</th>\n",
       "      <td>Mitochondrion nucleoid</td>\n",
       "      <td>e</td>\n",
       "      <td>0.3</td>\n",
       "      <td>0.1</td>\n",
       "      <td>3.00</td>\n",
       "      <td>3</td>\n",
       "      <td>1125</td>\n",
       "      <td>1</td>\n",
       "      <td>1125</td>\n",
       "      <td>6.250000e-01</td>\n",
       "      <td>191.000000</td>\n",
       "      <td>136.000000</td>\n",
       "      <td>186.000000</td>\n",
       "      <td>P20967,P32787,Q04013</td>\n",
       "      <td>P20967,P32787,Q04013</td>\n",
       "    </tr>\n",
       "    <tr>\n",
       "      <th>2</th>\n",
       "      <td>Chromatin regulator</td>\n",
       "      <td>e</td>\n",
       "      <td>3.4</td>\n",
       "      <td>1.2</td>\n",
       "      <td>2.92</td>\n",
       "      <td>38</td>\n",
       "      <td>1125</td>\n",
       "      <td>13</td>\n",
       "      <td>1125</td>\n",
       "      <td>5.390000e-04</td>\n",
       "      <td>0.164000</td>\n",
       "      <td>0.160000</td>\n",
       "      <td>0.160000</td>\n",
       "      <td>P22579,P25554,P31385,P32447,P32494,P32561,P325...</td>\n",
       "      <td>P06104,P06700,P22579,P25554,P25632,P25659,P313...</td>\n",
       "    </tr>\n",
       "    <tr>\n",
       "      <th>3</th>\n",
       "      <td>Repressor</td>\n",
       "      <td>e</td>\n",
       "      <td>2.9</td>\n",
       "      <td>1.2</td>\n",
       "      <td>2.36</td>\n",
       "      <td>33</td>\n",
       "      <td>1125</td>\n",
       "      <td>14</td>\n",
       "      <td>1125</td>\n",
       "      <td>7.320000e-03</td>\n",
       "      <td>2.230000</td>\n",
       "      <td>2.130000</td>\n",
       "      <td>2.180000</td>\n",
       "      <td>P06843,P14922,P16649,P21957,P22579,P31385,P325...</td>\n",
       "      <td>P04387,P06100,P06102,P06700,P06701,P06843,P119...</td>\n",
       "    </tr>\n",
       "    <tr>\n",
       "      <th>4</th>\n",
       "      <td>Exonuclease</td>\n",
       "      <td>e</td>\n",
       "      <td>0.6</td>\n",
       "      <td>0.3</td>\n",
       "      <td>2.33</td>\n",
       "      <td>7</td>\n",
       "      <td>1125</td>\n",
       "      <td>3</td>\n",
       "      <td>1125</td>\n",
       "      <td>3.430000e-01</td>\n",
       "      <td>105.000000</td>\n",
       "      <td>88.700000</td>\n",
       "      <td>102.000000</td>\n",
       "      <td>P15436,P22147,P26793,Q02792,Q08162,Q08237,Q12149</td>\n",
       "      <td>P15436,P22147,P26793,P31384,P32829,P38319,P390...</td>\n",
       "    </tr>\n",
       "    <tr>\n",
       "      <th>5</th>\n",
       "      <td>Transcription regulation</td>\n",
       "      <td>e</td>\n",
       "      <td>11.5</td>\n",
       "      <td>5.0</td>\n",
       "      <td>2.30</td>\n",
       "      <td>129</td>\n",
       "      <td>1125</td>\n",
       "      <td>56</td>\n",
       "      <td>1125</td>\n",
       "      <td>2.250000e-08</td>\n",
       "      <td>0.000007</td>\n",
       "      <td>0.000007</td>\n",
       "      <td>0.000007</td>\n",
       "      <td>O14467,P06843,P07248,P09959,P11632,P11633,P123...</td>\n",
       "      <td>O13539,O14467,P04387,P06100,P06102,P06104,P062...</td>\n",
       "    </tr>\n",
       "    <tr>\n",
       "      <th>6</th>\n",
       "      <td>Activator</td>\n",
       "      <td>e</td>\n",
       "      <td>3.7</td>\n",
       "      <td>1.8</td>\n",
       "      <td>2.10</td>\n",
       "      <td>42</td>\n",
       "      <td>1125</td>\n",
       "      <td>20</td>\n",
       "      <td>1125</td>\n",
       "      <td>6.390000e-03</td>\n",
       "      <td>1.950000</td>\n",
       "      <td>1.870000</td>\n",
       "      <td>1.900000</td>\n",
       "      <td>P06843,P07248,P09959,P12383,P13574,P14164,P184...</td>\n",
       "      <td>P06100,P06102,P06843,P06844,P07248,P07270,P073...</td>\n",
       "    </tr>\n",
       "    <tr>\n",
       "      <th>7</th>\n",
       "      <td>Transcription</td>\n",
       "      <td>e</td>\n",
       "      <td>12.5</td>\n",
       "      <td>6.2</td>\n",
       "      <td>2.01</td>\n",
       "      <td>141</td>\n",
       "      <td>1125</td>\n",
       "      <td>70</td>\n",
       "      <td>1125</td>\n",
       "      <td>3.320000e-07</td>\n",
       "      <td>0.000101</td>\n",
       "      <td>0.000100</td>\n",
       "      <td>0.000099</td>\n",
       "      <td>O14467,P06843,P07248,P09959,P10964,P11632,P116...</td>\n",
       "      <td>O13539,O14467,O94742,P04050,P04051,P04387,P061...</td>\n",
       "    </tr>\n",
       "    <tr>\n",
       "      <th>8</th>\n",
       "      <td>Helicase</td>\n",
       "      <td>e</td>\n",
       "      <td>2.7</td>\n",
       "      <td>1.3</td>\n",
       "      <td>2.00</td>\n",
       "      <td>30</td>\n",
       "      <td>1125</td>\n",
       "      <td>15</td>\n",
       "      <td>1125</td>\n",
       "      <td>3.390000e-02</td>\n",
       "      <td>10.300000</td>\n",
       "      <td>9.590000</td>\n",
       "      <td>10.100000</td>\n",
       "      <td>P06634,P10081,P15424,P20447,P20448,P20449,P220...</td>\n",
       "      <td>P06634,P06839,P07271,P0CX14,P10081,P12954,P154...</td>\n",
       "    </tr>\n",
       "  </tbody>\n",
       "</table>\n",
       "</div>"
      ],
      "text/plain": [
       "                         id enrichment  perc_enrichment_study  \\\n",
       "0               Bromodomain          e                    0.5   \n",
       "1    Mitochondrion nucleoid          e                    0.3   \n",
       "2       Chromatin regulator          e                    3.4   \n",
       "3                 Repressor          e                    2.9   \n",
       "4               Exonuclease          e                    0.6   \n",
       "5  Transcription regulation          e                   11.5   \n",
       "6                 Activator          e                    3.7   \n",
       "7             Transcription          e                   12.5   \n",
       "8                  Helicase          e                    2.7   \n",
       "\n",
       "   perc_enrichment_pop  fold_enrichment_study2pop  study_count  study_n  \\\n",
       "0                  0.2                       3.00            6     1125   \n",
       "1                  0.1                       3.00            3     1125   \n",
       "2                  1.2                       2.92           38     1125   \n",
       "3                  1.2                       2.36           33     1125   \n",
       "4                  0.3                       2.33            7     1125   \n",
       "5                  5.0                       2.30          129     1125   \n",
       "6                  1.8                       2.10           42     1125   \n",
       "7                  6.2                       2.01          141     1125   \n",
       "8                  1.3                       2.00           30     1125   \n",
       "\n",
       "   pop_count  pop_n  p_uncorrected  p_bonferroni      p_holm     p_sidak  \\\n",
       "0          2   1125   2.880000e-01     87.900000   75.500000   85.700000   \n",
       "1          1   1125   6.250000e-01    191.000000  136.000000  186.000000   \n",
       "2         13   1125   5.390000e-04      0.164000    0.160000    0.160000   \n",
       "3         14   1125   7.320000e-03      2.230000    2.130000    2.180000   \n",
       "4          3   1125   3.430000e-01    105.000000   88.700000  102.000000   \n",
       "5         56   1125   2.250000e-08      0.000007    0.000007    0.000007   \n",
       "6         20   1125   6.390000e-03      1.950000    1.870000    1.900000   \n",
       "7         70   1125   3.320000e-07      0.000101    0.000100    0.000099   \n",
       "8         15   1125   3.390000e-02     10.300000    9.590000   10.100000   \n",
       "\n",
       "                                           ANs_study  \\\n",
       "0          P22082,P32597,P35177,P35817,Q02206,Q03330   \n",
       "1                               P20967,P32787,Q04013   \n",
       "2  P22579,P25554,P31385,P32447,P32494,P32561,P325...   \n",
       "3  P06843,P14922,P16649,P21957,P22579,P31385,P325...   \n",
       "4   P15436,P22147,P26793,Q02792,Q08162,Q08237,Q12149   \n",
       "5  O14467,P06843,P07248,P09959,P11632,P11633,P123...   \n",
       "6  P06843,P07248,P09959,P12383,P13574,P14164,P184...   \n",
       "7  O14467,P06843,P07248,P09959,P10964,P11632,P116...   \n",
       "8  P06634,P10081,P15424,P20447,P20448,P20449,P220...   \n",
       "\n",
       "                                             ANs_pop  \n",
       "0  P22082,P32597,P35177,P35817,P40340,P53236,Q022...  \n",
       "1                               P20967,P32787,Q04013  \n",
       "2  P06104,P06700,P22579,P25554,P25632,P25659,P313...  \n",
       "3  P04387,P06100,P06102,P06700,P06701,P06843,P119...  \n",
       "4  P15436,P22147,P26793,P31384,P32829,P38319,P390...  \n",
       "5  O13539,O14467,P04387,P06100,P06102,P06104,P062...  \n",
       "6  P06100,P06102,P06843,P06844,P07248,P07270,P073...  \n",
       "7  O13539,O14467,O94742,P04050,P04051,P04387,P061...  \n",
       "8  P06634,P06839,P07271,P0CX14,P10081,P12954,P154...  "
      ]
     },
     "execution_count": 30,
     "metadata": {},
     "output_type": "execute_result"
    }
   ],
   "source": [
    "df"
   ]
  },
  {
   "cell_type": "code",
   "execution_count": 44,
   "metadata": {
    "collapsed": true
   },
   "outputs": [],
   "source": [
    "def jaccard_index_ans_study2pop(ans_study, ans_pop):\n",
    "    B = float(len(ans_study.intersection(ans_pop)))\n",
    "    ABC = len(ans_study.union(ans_pop))\n",
    "    try:\n",
    "        return B/ABC\n",
    "    except ZeroDivisionError:\n",
    "        return 0.0"
   ]
  },
  {
   "cell_type": "code",
   "execution_count": 45,
   "metadata": {
    "collapsed": false
   },
   "outputs": [
    {
     "name": "stdout",
     "output_type": "stream",
     "text": [
      "set(['P22082', 'P35817', 'P32597', 'P35177', 'Q03330', 'Q02206'])\n",
      "set(['P22082', 'Q07442', 'P35817', 'P53236', 'P32597', 'Q06488', 'P35177', 'Q03330', 'Q02206', 'P40340'])\n"
     ]
    }
   ],
   "source": [
    "ans_study = set(df.loc[0, \"ANs_study\"].split(\",\"))\n",
    "ans_pop = set(df.loc[0, \"ANs_pop\"].split(\",\"))\n",
    "print ans_study\n",
    "print ans_pop"
   ]
  },
  {
   "cell_type": "code",
   "execution_count": 46,
   "metadata": {
    "collapsed": false
   },
   "outputs": [
    {
     "data": {
      "text/plain": [
       "0.6"
      ]
     },
     "execution_count": 46,
     "metadata": {},
     "output_type": "execute_result"
    }
   ],
   "source": [
    "jaccard_index_ans_study2pop(ans_study, ans_pop)"
   ]
  },
  {
   "cell_type": "code",
   "execution_count": 52,
   "metadata": {
    "collapsed": false
   },
   "outputs": [
    {
     "data": {
      "text/plain": [
       "1.0"
      ]
     },
     "execution_count": 52,
     "metadata": {},
     "output_type": "execute_result"
    }
   ],
   "source": [
    "ans_study = set(list('abc'))\n",
    "ans_pop = set(list('abc'))\n",
    "jaccard_index_ans_study2pop(ans_study, ans_pop)"
   ]
  },
  {
   "cell_type": "code",
   "execution_count": null,
   "metadata": {
    "collapsed": true
   },
   "outputs": [],
   "source": []
  }
 ],
 "metadata": {
  "kernelspec": {
   "display_name": "Python 2",
   "language": "python",
   "name": "python2"
  },
  "language_info": {
   "codemirror_mode": {
    "name": "ipython",
    "version": 2
   },
   "file_extension": ".py",
   "mimetype": "text/x-python",
   "name": "python",
   "nbconvert_exporter": "python",
   "pygments_lexer": "ipython2",
   "version": "2.7.6"
  }
 },
 "nbformat": 4,
 "nbformat_minor": 0
}
