{
 "cells": [
  {
   "cell_type": "code",
   "execution_count": 1,
   "metadata": {
    "collapsed": true
   },
   "outputs": [],
   "source": [
    "model_organisms = {4932, 9606, 3702, 7955, 7227, 9031, 10090, 10116}"
   ]
  },
  {
   "cell_type": "code",
   "execution_count": 2,
   "metadata": {
    "collapsed": false
   },
   "outputs": [
    {
     "data": {
      "text/plain": [
       "set"
      ]
     },
     "execution_count": 2,
     "metadata": {},
     "output_type": "execute_result"
    }
   ],
   "source": [
    "type(model_organisms)"
   ]
  },
  {
   "cell_type": "code",
   "execution_count": 4,
   "metadata": {
    "collapsed": false
   },
   "outputs": [
    {
     "data": {
      "text/plain": [
       "{3702, 4932, 7227, 7955, 9031, 9606, 10090, 10116}"
      ]
     },
     "execution_count": 4,
     "metadata": {},
     "output_type": "execute_result"
    }
   ],
   "source": [
    "model_organisms"
   ]
  },
  {
   "cell_type": "code",
   "execution_count": 8,
   "metadata": {
    "collapsed": true
   },
   "outputs": [],
   "source": [
    "dl = [r\"http://purl.obolibrary.org/obo/go/go-basic.obo\", r\"http://purl.obolibrary.org/obo/go/subsets/goslim_generic.obo\"]"
   ]
  },
  {
   "cell_type": "code",
   "execution_count": 12,
   "metadata": {
    "collapsed": false
   },
   "outputs": [
    {
     "name": "stdout",
     "output_type": "stream",
     "text": [
      "go-basic.obo\n",
      "goslim_generic.obo\n"
     ]
    }
   ],
   "source": [
    "import os\n",
    "for d in dl:\n",
    "    print os.path.basename(d) "
   ]
  },
  {
   "cell_type": "code",
   "execution_count": 13,
   "metadata": {
    "collapsed": false
   },
   "outputs": [
    {
     "name": "stdout",
     "output_type": "stream",
     "text": [
      "Help on built-in function unlink in module posix:\n",
      "\n",
      "unlink(...)\n",
      "    unlink(path)\n",
      "    \n",
      "    Remove a file (same as remove(path)).\n",
      "\n"
     ]
    }
   ],
   "source": [
    "help(os.unlink)"
   ]
  },
  {
   "cell_type": "code",
   "execution_count": 14,
   "metadata": {
    "collapsed": true
   },
   "outputs": [],
   "source": [
    "e = 'could not remove %s from static/data/mcl'"
   ]
  },
  {
   "cell_type": "code",
   "execution_count": 16,
   "metadata": {
    "collapsed": false
   },
   "outputs": [
    {
     "data": {
      "text/plain": [
       "'could not remove bubr from static/data/mcl'"
      ]
     },
     "execution_count": 16,
     "metadata": {},
     "output_type": "execute_result"
    }
   ],
   "source": [
    "the_file = 'bubr'\n",
    "e % the_file"
   ]
  },
  {
   "cell_type": "code",
   "execution_count": 17,
   "metadata": {
    "collapsed": true
   },
   "outputs": [],
   "source": [
    "class UniProtKeywordsParser(object):\n",
    "\n",
    "    def __init__(self, uniprot_keywords_fn):\n",
    "        self.assoc_dict = self.parse_file(uniprot_keywords_fn)\n",
    "\n",
    "    def parse_file(self, fn): #!!!\n",
    "        assoc_dict = {}\n",
    "        with open(fn, 'r') as fh:\n",
    "            for line in fh:\n",
    "                an, keywords = line.split('\\t')\n",
    "                keywords = set([ele.strip() for ele in keywords.split(';')])\n",
    "                assoc_dict[an] = keywords\n",
    "        return assoc_dict\n",
    "\n",
    "    def get_association_dict(self):\n",
    "        '''\n",
    "        assoc is a dict: key=AN, val=set of go-terms\n",
    "        :return: Dict\n",
    "        '''\n",
    "        return self.assoc_dict\n"
   ]
  },
  {
   "cell_type": "code",
   "execution_count": 18,
   "metadata": {
    "collapsed": true
   },
   "outputs": [],
   "source": [
    "fn = r'/Users/dblyon/modules/cpr/goterm/agotool/static/data/UniProt_Keywords/9606.tab'\n",
    "up = UniProtKeywordsParser(fn)"
   ]
  },
  {
   "cell_type": "code",
   "execution_count": 21,
   "metadata": {
    "collapsed": true
   },
   "outputs": [],
   "source": [
    "ad = up.assoc_dict"
   ]
  },
  {
   "cell_type": "code",
   "execution_count": 20,
   "metadata": {
    "collapsed": false
   },
   "outputs": [
    {
     "data": {
      "text/plain": [
       "['X6RLL4',\n",
       " 'E9PNH1',\n",
       " 'Q9NRQ5',\n",
       " 'P30613',\n",
       " 'Q2VPV9',\n",
       " 'P23409',\n",
       " 'W8CT11',\n",
       " 'Q3SYD8',\n",
       " 'A9X868',\n",
       " 'Q3SYD7']"
      ]
     },
     "execution_count": 20,
     "metadata": {},
     "output_type": "execute_result"
    }
   ],
   "source": [
    "ad.keys()[:10]"
   ]
  },
  {
   "cell_type": "code",
   "execution_count": 22,
   "metadata": {
    "collapsed": false
   },
   "outputs": [
    {
     "data": {
      "text/plain": [
       "{'Complete proteome', 'Proteomics identification', 'Reference proteome'}"
      ]
     },
     "execution_count": 22,
     "metadata": {},
     "output_type": "execute_result"
    }
   ],
   "source": [
    "ad['X6RLL4']"
   ]
  },
  {
   "cell_type": "code",
   "execution_count": 24,
   "metadata": {
    "collapsed": false
   },
   "outputs": [],
   "source": [
    "webserver_data  = r'/Users/dblyon/modules/cpr/goterm/agotool/static/data'\n",
    "species2files_dict = {\n",
    "    \"9606\": {'goa_ref_fn': webserver_data + r'/GOA/9606.tsv',\n",
    "           'uniprot_keywords_fn': webserver_data + r'/UniProt_Keywords/9606.tab'},\n",
    "    \"4932\": {'goa_ref_fn': webserver_data + r'/GOA/4932.tsv',\n",
    "           'uniprot_keywords_fn': webserver_data + r'/UniProt_Keywords/4932.tab'},\n",
    "    \"3702\": {'goa_ref_fn': webserver_data + r'/GOA/3702.tsv',\n",
    "           'uniprot_keywords_fn': webserver_data + r'/UniProt_Keywords/3702.tab'},\n",
    "    \"7955\": {'goa_ref_fn': webserver_data + r'/GOA/7955.tsv',\n",
    "           'uniprot_keywords_fn': webserver_data + r'/UniProt_Keywords/7955.tab'},\n",
    "    \"7227\": {'goa_ref_fn': webserver_data + r'/GOA/7227.tsv',\n",
    "           'uniprot_keywords_fn': webserver_data + r'/UniProt_Keywords/7227.tab'},\n",
    "    \"9031\": {'goa_ref_fn': webserver_data + r'/GOA/9031.tsv',\n",
    "           'uniprot_keywords_fn': webserver_data + r'/UniProt_Keywords/9031.tab'},\n",
    "    \"10090\": {'goa_ref_fn': webserver_data + r'/GOA/10090.tsv',\n",
    "       'uniprot_keywords_fn': webserver_data + r'/UniProt_Keywords/10090.tab'},\n",
    "    \"10116\": {'goa_ref_fn': webserver_data + r'/GOA/10116.tsv',\n",
    "       'uniprot_keywords_fn': webserver_data + r'/UniProt_Keywords/10116.tab'}\n",
    "    }"
   ]
  },
  {
   "cell_type": "code",
   "execution_count": 28,
   "metadata": {
    "collapsed": false
   },
   "outputs": [
    {
     "data": {
      "text/plain": [
       "<open file '/Users/dblyon/modules/cpr/goterm/agotool/static/data/UniProt_Keywords/9606.tab', mode 'r' at 0x1046a8ae0>"
      ]
     },
     "execution_count": 28,
     "metadata": {},
     "output_type": "execute_result"
    }
   ],
   "source": [
    "open(species2files_dict['9606']['uniprot_keywords_fn'], 'r')"
   ]
  },
  {
   "cell_type": "code",
   "execution_count": 29,
   "metadata": {
    "collapsed": false
   },
   "outputs": [
    {
     "data": {
      "text/plain": [
       "{'10090': {'goa_ref_fn': '/Users/dblyon/modules/cpr/goterm/agotool/static/data/GOA/10090.tsv',\n",
       "  'uniprot_keywords_fn': '/Users/dblyon/modules/cpr/goterm/agotool/static/data/UniProt_Keywords/10090.tab'},\n",
       " '10116': {'goa_ref_fn': '/Users/dblyon/modules/cpr/goterm/agotool/static/data/GOA/10116.tsv',\n",
       "  'uniprot_keywords_fn': '/Users/dblyon/modules/cpr/goterm/agotool/static/data/UniProt_Keywords/10116.tab'},\n",
       " '3702': {'goa_ref_fn': '/Users/dblyon/modules/cpr/goterm/agotool/static/data/GOA/3702.tsv',\n",
       "  'uniprot_keywords_fn': '/Users/dblyon/modules/cpr/goterm/agotool/static/data/UniProt_Keywords/3702.tab'},\n",
       " '4932': {'goa_ref_fn': '/Users/dblyon/modules/cpr/goterm/agotool/static/data/GOA/4932.tsv',\n",
       "  'uniprot_keywords_fn': '/Users/dblyon/modules/cpr/goterm/agotool/static/data/UniProt_Keywords/4932.tab'},\n",
       " '7227': {'goa_ref_fn': '/Users/dblyon/modules/cpr/goterm/agotool/static/data/GOA/7227.tsv',\n",
       "  'uniprot_keywords_fn': '/Users/dblyon/modules/cpr/goterm/agotool/static/data/UniProt_Keywords/7227.tab'},\n",
       " '7955': {'goa_ref_fn': '/Users/dblyon/modules/cpr/goterm/agotool/static/data/GOA/7955.tsv',\n",
       "  'uniprot_keywords_fn': '/Users/dblyon/modules/cpr/goterm/agotool/static/data/UniProt_Keywords/7955.tab'},\n",
       " '9031': {'goa_ref_fn': '/Users/dblyon/modules/cpr/goterm/agotool/static/data/GOA/9031.tsv',\n",
       "  'uniprot_keywords_fn': '/Users/dblyon/modules/cpr/goterm/agotool/static/data/UniProt_Keywords/9031.tab'},\n",
       " '9606': {'goa_ref_fn': '/Users/dblyon/modules/cpr/goterm/agotool/static/data/GOA/9606.tsv',\n",
       "  'uniprot_keywords_fn': '/Users/dblyon/modules/cpr/goterm/agotool/static/data/UniProt_Keywords/9606.tab'}}"
      ]
     },
     "execution_count": 29,
     "metadata": {},
     "output_type": "execute_result"
    }
   ],
   "source": [
    "species2files_dict"
   ]
  },
  {
   "cell_type": "code",
   "execution_count": 30,
   "metadata": {
    "collapsed": false
   },
   "outputs": [
    {
     "data": {
      "text/plain": [
       "<open file '/Users/dblyon/modules/cpr/goterm/agotool/static/data/UniProt_Keywords/4932.tab', mode 'r' at 0x1046a8b70>"
      ]
     },
     "execution_count": 30,
     "metadata": {},
     "output_type": "execute_result"
    }
   ],
   "source": [
    "open('/Users/dblyon/modules/cpr/goterm/agotool/static/data/UniProt_Keywords/4932.tab', 'r')"
   ]
  },
  {
   "cell_type": "code",
   "execution_count": 1,
   "metadata": {
    "collapsed": false
   },
   "outputs": [
    {
     "data": {
      "text/plain": [
       "u'/Users/dblyon/modules/cpr/goterm'"
      ]
     },
     "execution_count": 1,
     "metadata": {},
     "output_type": "execute_result"
    }
   ],
   "source": [
    "pwd"
   ]
  },
  {
   "cell_type": "code",
   "execution_count": 2,
   "metadata": {
    "collapsed": false
   },
   "outputs": [
    {
     "name": "stdout",
     "output_type": "stream",
     "text": [
      "/Users/dblyon/modules/cpr/goterm/agotool/static/python\n"
     ]
    }
   ],
   "source": [
    "cd agotool/static/python/"
   ]
  },
  {
   "cell_type": "code",
   "execution_count": 3,
   "metadata": {
    "collapsed": false
   },
   "outputs": [],
   "source": [
    "%run run.py"
   ]
  },
  {
   "cell_type": "code",
   "execution_count": 3,
   "metadata": {
    "collapsed": false
   },
   "outputs": [],
   "source": [
    "import run"
   ]
  },
  {
   "cell_type": "code",
   "execution_count": 6,
   "metadata": {
    "collapsed": true
   },
   "outputs": [],
   "source": [
    "userinput_fn=r'/Users/dblyon/modules/cpr/goterm/agotool/static/data/exampledata/exampledata.txt'\n",
    "decimal = ','\n",
    "organism = '4932'\n",
    "gocat_upk = 'UPK'\n",
    "go_slim_or_basic = 'basic'\n",
    "indent = True\n",
    "multitest_method = 'benjamini_hochberg'\n",
    "alpha = 0.05\n",
    "o_or_u_or_both = 'both'\n",
    "abcorr = True\n",
    "num_bins = 100\n",
    "backtracking = True\n",
    "fold_enrichment_study2pop = 0.0\n",
    "p_value_uncorrected = 0.0\n",
    "p_value_mulitpletesting = 0.0\n",
    "species2files_dict = {'10116': {'uniprot_keywords_fn': '/Users/dblyon/modules/cpr/goterm/agotool/static/data/UniProt_Keywords/10116.tab', 'goa_ref_fn': '/Users/dblyon/modules/cpr/goterm/agotool/static/data/GOA/10116.tsv'}, \n",
    "                      '4932': {'uniprot_keywords_fn': '/Users/dblyon/modules/cpr/goterm/agotool/static/data/UniProt_Keywords/4932.tab', 'goa_ref_fn': '/Users/dblyon/modules/cpr/goterm/agotool/static/data/GOA/4932.tsv'}, '9031': {'uniprot_keywords_fn': '/Users/dblyon/modules/cpr/goterm/agotool/static/data/UniProt_Keywords/9031.tab', 'goa_ref_fn': '/Users/dblyon/modules/cpr/goterm/agotool/static/data/GOA/9031.tsv'}, '7227': {'uniprot_keywords_fn': '/Users/dblyon/modules/cpr/goterm/agotool/static/data/UniProt_Keywords/7227.tab', 'goa_ref_fn': '/Users/dblyon/modules/cpr/goterm/agotool/static/data/GOA/7227.tsv'}, '9606': {'uniprot_keywords_fn': '/Users/dblyon/modules/cpr/goterm/agotool/static/data/UniProt_Keywords/9606.tab', 'goa_ref_fn': '/Users/dblyon/modules/cpr/goterm/agotool/static/data/GOA/9606.tsv'}, '3702': {'uniprot_keywords_fn': '/Users/dblyon/modules/cpr/goterm/agotool/static/data/UniProt_Keywords/3702.tab', 'goa_ref_fn': '/Users/dblyon/modules/cpr/goterm/agotool/static/data/GOA/3702.tsv'}, '10090': {'uniprot_keywords_fn': '/Users/dblyon/modules/cpr/goterm/agotool/static/data/UniProt_Keywords/10090.tab', 'goa_ref_fn': '/Users/dblyon/modules/cpr/goterm/agotool/static/data/GOA/10090.tsv'}, '7955': {'uniprot_keywords_fn': '/Users/dblyon/modules/cpr/goterm/agotool/static/data/UniProt_Keywords/7955.tab', 'goa_ref_fn': '/Users/dblyon/modules/cpr/goterm/agotool/static/data/GOA/7955.tsv'}}\n",
    "obo2file_dict = {\"slim\": r'/Users/dblyon/modules/cpr/goterm/agotool/static/data/OBO/goslim_generic.obo',\n",
    "                 \"basic\": r'/Users/dblyon/modules/cpr/goterm/agotool/static/data/OBO/go-basic.obo'}\n",
    "go_dag = obo_parser.GODag(obo_file=obo2file_dict['basic'])\n",
    "goslim_dag = obo_parser.GODag(obo_file=obo2file_dict['slim'])\n",
    "\n",
    "gostudy = run.run(userinput_fn, decimal, organism, gocat_upk, go_slim_or_basic, indent,\n",
    "    multitest_method, alpha, o_or_u_or_both, abcorr, num_bins, backtracking,\n",
    "    fold_enrichment_study2pop, p_value_uncorrected, p_value_mulitpletesting,\n",
    "    species2files_dict, go_dag, goslim_dag)"
   ]
  },
  {
   "cell_type": "code",
   "execution_count": 8,
   "metadata": {
    "collapsed": false
   },
   "outputs": [
    {
     "data": {
      "text/plain": [
       "[]"
      ]
     },
     "execution_count": 8,
     "metadata": {},
     "output_type": "execute_result"
    }
   ],
   "source": [
    "gostudy.results"
   ]
  },
  {
   "cell_type": "code",
   "execution_count": 13,
   "metadata": {
    "collapsed": false
   },
   "outputs": [],
   "source": [
    "uniprot_keywords_fn = species2files_dict[organism][\"uniprot_keywords_fn\"]\n",
    "assoc_dict = go_retriever.UniProtKeywordsParser(uniprot_keywords_fn).get_association_dict()"
   ]
  },
  {
   "cell_type": "code",
   "execution_count": 22,
   "metadata": {
    "collapsed": false
   },
   "outputs": [],
   "source": [
    "import go_retriever\n",
    "old = r'/Users/dblyon/modules/cpr/goterm/agotool/static/data/UniProt_Keywords/Yeast_uniprot-proteome%3AUP000002311.tab'\n",
    "new = r'/Users/dblyon/modules/cpr/goterm/agotool/static/data/UniProt_Keywords/4932.tab'\n",
    "test = r'/Users/dblyon/modules/cpr/goterm/agotool/static/data/UniProt_Keywords/Yeast_test.txt'\n",
    "assoc_old = go_retriever.UniProtKeywordsParser(old).get_association_dict()\n",
    "assoc_new = go_retriever.UniProtKeywordsParser(new).get_association_dict()\n",
    "assoc_test = go_retriever.UniProtKeywordsParser(test).get_association_dict()"
   ]
  },
  {
   "cell_type": "code",
   "execution_count": 17,
   "metadata": {
    "collapsed": false
   },
   "outputs": [
    {
     "data": {
      "text/plain": [
       "False"
      ]
     },
     "execution_count": 17,
     "metadata": {},
     "output_type": "execute_result"
    }
   ],
   "source": [
    "sorted(assoc_new) == sorted(assoc_old)"
   ]
  },
  {
   "cell_type": "code",
   "execution_count": 25,
   "metadata": {
    "collapsed": false
   },
   "outputs": [
    {
     "ename": "KeyError",
     "evalue": "'P39959'",
     "output_type": "error",
     "traceback": [
      "\u001b[0;31m---------------------------------------------------------------------------\u001b[0m",
      "\u001b[0;31mKeyError\u001b[0m                                  Traceback (most recent call last)",
      "\u001b[0;32m<ipython-input-25-e552ec967e33>\u001b[0m in \u001b[0;36m<module>\u001b[0;34m()\u001b[0m\n\u001b[1;32m      1\u001b[0m \u001b[0man\u001b[0m \u001b[0;34m=\u001b[0m \u001b[0;34m'P39959'\u001b[0m\u001b[0;34m\u001b[0m\u001b[0m\n\u001b[0;32m----> 2\u001b[0;31m \u001b[0massoc_new\u001b[0m\u001b[0;34m[\u001b[0m\u001b[0man\u001b[0m\u001b[0;34m]\u001b[0m\u001b[0;34m\u001b[0m\u001b[0m\n\u001b[0m",
      "\u001b[0;31mKeyError\u001b[0m: 'P39959'"
     ]
    }
   ],
   "source": [
    "an = 'P39959'\n",
    "assoc_new[an]"
   ]
  },
  {
   "cell_type": "code",
   "execution_count": 24,
   "metadata": {
    "collapsed": false
   },
   "outputs": [
    {
     "data": {
      "text/plain": [
       "{'Complete proteome',\n",
       " 'DNA-binding',\n",
       " 'Metal-binding',\n",
       " 'Nucleus',\n",
       " 'Reference proteome',\n",
       " 'Repeat',\n",
       " 'Zinc',\n",
       " 'Zinc-finger'}"
      ]
     },
     "execution_count": 24,
     "metadata": {},
     "output_type": "execute_result"
    }
   ],
   "source": [
    "assoc_old[an]"
   ]
  },
  {
   "cell_type": "code",
   "execution_count": 23,
   "metadata": {
    "collapsed": false
   },
   "outputs": [
    {
     "data": {
      "text/plain": [
       "{'Complete proteome',\n",
       " 'DNA-binding',\n",
       " 'Metal-binding',\n",
       " 'Nucleus',\n",
       " 'Reference proteome',\n",
       " 'Repeat',\n",
       " 'Zinc',\n",
       " 'Zinc-finger'}"
      ]
     },
     "execution_count": 23,
     "metadata": {},
     "output_type": "execute_result"
    }
   ],
   "source": [
    "assoc_test[an]"
   ]
  },
  {
   "cell_type": "code",
   "execution_count": null,
   "metadata": {
    "collapsed": true
   },
   "outputs": [],
   "source": []
  }
 ],
 "metadata": {
  "kernelspec": {
   "display_name": "Python 2",
   "language": "python",
   "name": "python2"
  },
  "language_info": {
   "codemirror_mode": {
    "name": "ipython",
    "version": 2
   },
   "file_extension": ".py",
   "mimetype": "text/x-python",
   "name": "python",
   "nbconvert_exporter": "python",
   "pygments_lexer": "ipython2",
   "version": "2.7.6"
  }
 },
 "nbformat": 4,
 "nbformat_minor": 0
}
