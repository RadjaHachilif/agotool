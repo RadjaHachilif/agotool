{
 "cells": [
  {
   "cell_type": "code",
   "execution_count": 5,
   "metadata": {
    "collapsed": true
   },
   "outputs": [],
   "source": [
    "import goretriever\n",
    "gor = goretriever.Goretriever()"
   ]
  },
  {
   "cell_type": "code",
   "execution_count": 36,
   "metadata": {
    "collapsed": false
   },
   "outputs": [],
   "source": [
    "ans_list = ['O14467', 'P00358', 'Q12345']\n",
    "go_list = []\n",
    "for an in ans_list:\n",
    "    go_list += gor.get_goterms_from_an('O14467')"
   ]
  },
  {
   "cell_type": "code",
   "execution_count": 37,
   "metadata": {
    "collapsed": false
   },
   "outputs": [
    {
     "name": "stdout",
     "output_type": "stream",
     "text": [
      "18\n",
      "6\n"
     ]
    }
   ],
   "source": [
    "print len(go_list)\n",
    "print len(set(go_list))"
   ]
  },
  {
   "cell_type": "code",
   "execution_count": 38,
   "metadata": {
    "collapsed": false
   },
   "outputs": [
    {
     "data": {
      "text/plain": [
       "['GO:0005737',\n",
       " 'GO:0043565',\n",
       " 'GO:0005634',\n",
       " 'GO:0003713',\n",
       " 'GO:0045944',\n",
       " 'GO:0006351']"
      ]
     },
     "execution_count": 38,
     "metadata": {},
     "output_type": "execute_result"
    }
   ],
   "source": [
    "list(set(go_list))"
   ]
  },
  {
   "cell_type": "code",
   "execution_count": 10,
   "metadata": {
    "collapsed": false
   },
   "outputs": [],
   "source": [
    "fh = open('summary_test3.txt', 'r')"
   ]
  },
  {
   "cell_type": "code",
   "execution_count": 11,
   "metadata": {
    "collapsed": false
   },
   "outputs": [],
   "source": [
    "go_summary = []\n",
    "for line in fh:\n",
    "    if line[:3] == 'GO:':\n",
    "        go_summary.append(line.split('\\t')[0])"
   ]
  },
  {
   "cell_type": "code",
   "execution_count": 12,
   "metadata": {
    "collapsed": false
   },
   "outputs": [
    {
     "name": "stdout",
     "output_type": "stream",
     "text": [
      "84\n",
      "84\n"
     ]
    }
   ],
   "source": [
    "print len(go_summary)\n",
    "print len(set(go_summary))"
   ]
  },
  {
   "cell_type": "code",
   "execution_count": 1,
   "metadata": {
    "collapsed": false
   },
   "outputs": [],
   "source": [
    "import goretriever\n",
    "import pandas as pd\n",
    "ui = goretriever.UserInput()"
   ]
  },
  {
   "cell_type": "code",
   "execution_count": 2,
   "metadata": {
    "collapsed": false
   },
   "outputs": [],
   "source": [
    "ui.temp_setup()\n",
    "ui.cleanupforanalysis()"
   ]
  },
  {
   "cell_type": "code",
   "execution_count": 3,
   "metadata": {
    "collapsed": false
   },
   "outputs": [
    {
     "data": {
      "text/html": [
       "<div style=\"max-height:1000px;max-width:1500px;overflow:auto;\">\n",
       "<table border=\"1\" class=\"dataframe\">\n",
       "  <thead>\n",
       "    <tr style=\"text-align: right;\">\n",
       "      <th></th>\n",
       "      <th>sample_an</th>\n",
       "      <th>backgrnd_an</th>\n",
       "      <th>backgrnd_int</th>\n",
       "    </tr>\n",
       "  </thead>\n",
       "  <tbody>\n",
       "    <tr>\n",
       "      <th>A5Z2X5</th>\n",
       "      <td>NaN</td>\n",
       "      <td>A5Z2X5</td>\n",
       "      <td>9.028612</td>\n",
       "    </tr>\n",
       "    <tr>\n",
       "      <th>O13297</th>\n",
       "      <td>O13297</td>\n",
       "      <td>O13297</td>\n",
       "      <td>8.099335</td>\n",
       "    </tr>\n",
       "    <tr>\n",
       "      <th>O13329</th>\n",
       "      <td>NaN</td>\n",
       "      <td>O13329</td>\n",
       "      <td>6.773450</td>\n",
       "    </tr>\n",
       "    <tr>\n",
       "      <th>O13516</th>\n",
       "      <td>NaN</td>\n",
       "      <td>O13516</td>\n",
       "      <td>7.956591</td>\n",
       "    </tr>\n",
       "    <tr>\n",
       "      <th>O13525</th>\n",
       "      <td>NaN</td>\n",
       "      <td>O13525</td>\n",
       "      <td>7.702801</td>\n",
       "    </tr>\n",
       "  </tbody>\n",
       "</table>\n",
       "</div>"
      ],
      "text/plain": [
       "       sample_an backgrnd_an  backgrnd_int\n",
       "A5Z2X5       NaN      A5Z2X5      9.028612\n",
       "O13297    O13297      O13297      8.099335\n",
       "O13329       NaN      O13329      6.773450\n",
       "O13516       NaN      O13516      7.956591\n",
       "O13525       NaN      O13525      7.702801"
      ]
     },
     "execution_count": 3,
     "metadata": {},
     "output_type": "execute_result"
    }
   ],
   "source": [
    "ui.df.head()"
   ]
  },
  {
   "cell_type": "code",
   "execution_count": 4,
   "metadata": {
    "collapsed": false
   },
   "outputs": [
    {
     "data": {
      "text/html": [
       "<div style=\"max-height:1000px;max-width:1500px;overflow:auto;\">\n",
       "<table border=\"1\" class=\"dataframe\">\n",
       "  <thead>\n",
       "    <tr style=\"text-align: right;\">\n",
       "      <th></th>\n",
       "      <th>sample_an</th>\n",
       "      <th>backgrnd_an</th>\n",
       "      <th>backgrnd_int</th>\n",
       "    </tr>\n",
       "  </thead>\n",
       "  <tbody>\n",
       "    <tr>\n",
       "      <th>Q99383</th>\n",
       "      <td>Q99383</td>\n",
       "      <td>Q99383</td>\n",
       "      <td>8.931163</td>\n",
       "    </tr>\n",
       "    <tr>\n",
       "      <th>Q99385</th>\n",
       "      <td>NaN</td>\n",
       "      <td>Q99385</td>\n",
       "      <td>8.318001</td>\n",
       "    </tr>\n",
       "    <tr>\n",
       "      <th>Q99394</th>\n",
       "      <td>NaN</td>\n",
       "      <td>Q99394</td>\n",
       "      <td>7.523538</td>\n",
       "    </tr>\n",
       "    <tr>\n",
       "      <th>Q9P305</th>\n",
       "      <td>NaN</td>\n",
       "      <td>Q9P305</td>\n",
       "      <td>8.566520</td>\n",
       "    </tr>\n",
       "    <tr>\n",
       "      <th>Q9URQ5</th>\n",
       "      <td>NaN</td>\n",
       "      <td>Q9URQ5</td>\n",
       "      <td>7.808710</td>\n",
       "    </tr>\n",
       "  </tbody>\n",
       "</table>\n",
       "</div>"
      ],
      "text/plain": [
       "       sample_an backgrnd_an  backgrnd_int\n",
       "Q99383    Q99383      Q99383      8.931163\n",
       "Q99385       NaN      Q99385      8.318001\n",
       "Q99394       NaN      Q99394      7.523538\n",
       "Q9P305       NaN      Q9P305      8.566520\n",
       "Q9URQ5       NaN      Q9URQ5      7.808710"
      ]
     },
     "execution_count": 4,
     "metadata": {},
     "output_type": "execute_result"
    }
   ],
   "source": [
    "ui.df.tail()\n",
    "#Q9URQ3 "
   ]
  },
  {
   "cell_type": "code",
   "execution_count": 5,
   "metadata": {
    "collapsed": false
   },
   "outputs": [
    {
     "data": {
      "text/html": [
       "<div style=\"max-height:1000px;max-width:1500px;overflow:auto;\">\n",
       "<table border=\"1\" class=\"dataframe\">\n",
       "  <thead>\n",
       "    <tr style=\"text-align: right;\">\n",
       "      <th></th>\n",
       "      <th>sample_an</th>\n",
       "      <th>backgrnd_int</th>\n",
       "      <th>backgrnd_an</th>\n",
       "    </tr>\n",
       "  </thead>\n",
       "  <tbody>\n",
       "    <tr>\n",
       "      <th>A5Z2X5</th>\n",
       "      <td>NaN</td>\n",
       "      <td>9.028612</td>\n",
       "      <td>A5Z2X5</td>\n",
       "    </tr>\n",
       "    <tr>\n",
       "      <th>O13297</th>\n",
       "      <td>O13297</td>\n",
       "      <td>8.099335</td>\n",
       "      <td>O13297</td>\n",
       "    </tr>\n",
       "    <tr>\n",
       "      <th>O13329</th>\n",
       "      <td>NaN</td>\n",
       "      <td>6.773450</td>\n",
       "      <td>O13329</td>\n",
       "    </tr>\n",
       "    <tr>\n",
       "      <th>O13516</th>\n",
       "      <td>NaN</td>\n",
       "      <td>7.956591</td>\n",
       "      <td>O13516</td>\n",
       "    </tr>\n",
       "    <tr>\n",
       "      <th>O13525</th>\n",
       "      <td>NaN</td>\n",
       "      <td>7.702801</td>\n",
       "      <td>O13525</td>\n",
       "    </tr>\n",
       "  </tbody>\n",
       "</table>\n",
       "</div>"
      ],
      "text/plain": [
       "       sample_an  backgrnd_int backgrnd_an\n",
       "A5Z2X5       NaN      9.028612      A5Z2X5\n",
       "O13297    O13297      8.099335      O13297\n",
       "O13329       NaN      6.773450      O13329\n",
       "O13516       NaN      7.956591      O13516\n",
       "O13525       NaN      7.702801      O13525"
      ]
     },
     "execution_count": 5,
     "metadata": {},
     "output_type": "execute_result"
    }
   ],
   "source": [
    "sample_df = ui.samplefreq_ser\n",
    "background_df = ui.backgroundfreq_df\n",
    "df_new = ui.concat_and_align_sample_and_background(sample_df, background_df)\n",
    "df_new.head()"
   ]
  },
  {
   "cell_type": "code",
   "execution_count": 6,
   "metadata": {
    "collapsed": false
   },
   "outputs": [],
   "source": [
    "# ui.backgroundfreq_df\n",
    "# ui.samplefreq_ser\n",
    "# ui.df_orig\n",
    "ans_samplefreq = ui.samplefreq_ser.tolist()\n",
    "ans2drop = []\n",
    "for an in ans_samplefreq:\n",
    "    # an_row_index = ui.backgroundfreq_df[ui.backgroundfreq_df['backgrnd_an'] == an].index.tolist() \n",
    "    # AN is set as index, if not in index is\n",
    "    if pd.isnull(ui.backgroundfreq_df.loc[an, 'backgrnd_int']):\n",
    "        ans2drop += an\n",
    "\n",
    "# now drop ans2drop from ui.samplefreq_ser        "
   ]
  },
  {
   "cell_type": "code",
   "execution_count": 7,
   "metadata": {
    "collapsed": true
   },
   "outputs": [],
   "source": [
    "an = 'Q9URQ3'\n",
    "#an= 'P00359'\n",
    "an_row_index = ui.backgroundfreq_df[ui.backgroundfreq_df['backgrnd_an'] == an].index.tolist()"
   ]
  },
  {
   "cell_type": "code",
   "execution_count": 8,
   "metadata": {
    "collapsed": false
   },
   "outputs": [],
   "source": [
    "import pandas as pd\n",
    "\n",
    "an = 'P32862'\n",
    "#an = 'Q9URQ3'\n",
    "if pd.isnull(ui.backgroundfreq_df.loc[an, 'backgrnd_int']):\n",
    "    print 'b'"
   ]
  },
  {
   "cell_type": "code",
   "execution_count": 9,
   "metadata": {
    "collapsed": false
   },
   "outputs": [
    {
     "data": {
      "text/html": [
       "<div style=\"max-height:1000px;max-width:1500px;overflow:auto;\">\n",
       "<table border=\"1\" class=\"dataframe\">\n",
       "  <thead>\n",
       "    <tr style=\"text-align: right;\">\n",
       "      <th></th>\n",
       "      <th>backgrnd_int</th>\n",
       "      <th>backgrnd_an</th>\n",
       "    </tr>\n",
       "  </thead>\n",
       "  <tbody>\n",
       "    <tr>\n",
       "      <th>Q99383</th>\n",
       "      <td>8.931163</td>\n",
       "      <td>Q99383</td>\n",
       "    </tr>\n",
       "    <tr>\n",
       "      <th>Q99385</th>\n",
       "      <td>8.318001</td>\n",
       "      <td>Q99385</td>\n",
       "    </tr>\n",
       "    <tr>\n",
       "      <th>Q99394</th>\n",
       "      <td>7.523538</td>\n",
       "      <td>Q99394</td>\n",
       "    </tr>\n",
       "    <tr>\n",
       "      <th>Q9P305</th>\n",
       "      <td>8.566520</td>\n",
       "      <td>Q9P305</td>\n",
       "    </tr>\n",
       "    <tr>\n",
       "      <th>Q9URQ5</th>\n",
       "      <td>7.808710</td>\n",
       "      <td>Q9URQ5</td>\n",
       "    </tr>\n",
       "  </tbody>\n",
       "</table>\n",
       "</div>"
      ],
      "text/plain": [
       "        backgrnd_int backgrnd_an\n",
       "Q99383      8.931163      Q99383\n",
       "Q99385      8.318001      Q99385\n",
       "Q99394      7.523538      Q99394\n",
       "Q9P305      8.566520      Q9P305\n",
       "Q9URQ5      7.808710      Q9URQ5"
      ]
     },
     "execution_count": 9,
     "metadata": {},
     "output_type": "execute_result"
    }
   ],
   "source": [
    "ui.backgroundfreq_df.tail()"
   ]
  },
  {
   "cell_type": "code",
   "execution_count": 10,
   "metadata": {
    "collapsed": false
   },
   "outputs": [
    {
     "data": {
      "text/html": [
       "<div style=\"max-height:1000px;max-width:1500px;overflow:auto;\">\n",
       "<table border=\"1\" class=\"dataframe\">\n",
       "  <thead>\n",
       "    <tr style=\"text-align: right;\">\n",
       "      <th></th>\n",
       "      <th>sample_an</th>\n",
       "      <th>backgrnd_an</th>\n",
       "      <th>backgrnd_int</th>\n",
       "    </tr>\n",
       "  </thead>\n",
       "  <tbody>\n",
       "    <tr>\n",
       "      <th>Q99383</th>\n",
       "      <td>Q99383</td>\n",
       "      <td>Q99383</td>\n",
       "      <td>8.931163</td>\n",
       "    </tr>\n",
       "    <tr>\n",
       "      <th>Q99385</th>\n",
       "      <td>NaN</td>\n",
       "      <td>Q99385</td>\n",
       "      <td>8.318001</td>\n",
       "    </tr>\n",
       "    <tr>\n",
       "      <th>Q99394</th>\n",
       "      <td>NaN</td>\n",
       "      <td>Q99394</td>\n",
       "      <td>7.523538</td>\n",
       "    </tr>\n",
       "    <tr>\n",
       "      <th>Q9P305</th>\n",
       "      <td>NaN</td>\n",
       "      <td>Q9P305</td>\n",
       "      <td>8.566520</td>\n",
       "    </tr>\n",
       "    <tr>\n",
       "      <th>Q9URQ5</th>\n",
       "      <td>NaN</td>\n",
       "      <td>Q9URQ5</td>\n",
       "      <td>7.808710</td>\n",
       "    </tr>\n",
       "  </tbody>\n",
       "</table>\n",
       "</div>"
      ],
      "text/plain": [
       "       sample_an backgrnd_an  backgrnd_int\n",
       "Q99383    Q99383      Q99383      8.931163\n",
       "Q99385       NaN      Q99385      8.318001\n",
       "Q99394       NaN      Q99394      7.523538\n",
       "Q9P305       NaN      Q9P305      8.566520\n",
       "Q9URQ5       NaN      Q9URQ5      7.808710"
      ]
     },
     "execution_count": 10,
     "metadata": {},
     "output_type": "execute_result"
    }
   ],
   "source": [
    "ui.df.tail()"
   ]
  },
  {
   "cell_type": "code",
   "execution_count": 11,
   "metadata": {
    "collapsed": false
   },
   "outputs": [],
   "source": [
    "cond = pd.notnull(ui.df['backgrnd_int'])\n",
    "dfc  = ui.df.loc[cond, ]"
   ]
  },
  {
   "cell_type": "code",
   "execution_count": 12,
   "metadata": {
    "collapsed": false
   },
   "outputs": [
    {
     "data": {
      "text/html": [
       "<div style=\"max-height:1000px;max-width:1500px;overflow:auto;\">\n",
       "<table border=\"1\" class=\"dataframe\">\n",
       "  <thead>\n",
       "    <tr style=\"text-align: right;\">\n",
       "      <th></th>\n",
       "      <th>sample_an</th>\n",
       "      <th>backgrnd_an</th>\n",
       "      <th>backgrnd_int</th>\n",
       "    </tr>\n",
       "  </thead>\n",
       "  <tbody>\n",
       "    <tr>\n",
       "      <th>Q99383</th>\n",
       "      <td>Q99383</td>\n",
       "      <td>Q99383</td>\n",
       "      <td>8.931163</td>\n",
       "    </tr>\n",
       "    <tr>\n",
       "      <th>Q99385</th>\n",
       "      <td>NaN</td>\n",
       "      <td>Q99385</td>\n",
       "      <td>8.318001</td>\n",
       "    </tr>\n",
       "    <tr>\n",
       "      <th>Q99394</th>\n",
       "      <td>NaN</td>\n",
       "      <td>Q99394</td>\n",
       "      <td>7.523538</td>\n",
       "    </tr>\n",
       "    <tr>\n",
       "      <th>Q9P305</th>\n",
       "      <td>NaN</td>\n",
       "      <td>Q9P305</td>\n",
       "      <td>8.566520</td>\n",
       "    </tr>\n",
       "    <tr>\n",
       "      <th>Q9URQ5</th>\n",
       "      <td>NaN</td>\n",
       "      <td>Q9URQ5</td>\n",
       "      <td>7.808710</td>\n",
       "    </tr>\n",
       "  </tbody>\n",
       "</table>\n",
       "</div>"
      ],
      "text/plain": [
       "       sample_an backgrnd_an  backgrnd_int\n",
       "Q99383    Q99383      Q99383      8.931163\n",
       "Q99385       NaN      Q99385      8.318001\n",
       "Q99394       NaN      Q99394      7.523538\n",
       "Q9P305       NaN      Q9P305      8.566520\n",
       "Q9URQ5       NaN      Q9URQ5      7.808710"
      ]
     },
     "execution_count": 12,
     "metadata": {},
     "output_type": "execute_result"
    }
   ],
   "source": [
    "dfc.tail()"
   ]
  },
  {
   "cell_type": "code",
   "execution_count": 13,
   "metadata": {
    "collapsed": true
   },
   "outputs": [],
   "source": [
    "import matplotlib.pyplot as plt"
   ]
  },
  {
   "cell_type": "code",
   "execution_count": 14,
   "metadata": {
    "collapsed": false
   },
   "outputs": [],
   "source": [
    "import matplotlib.pyplot as plt\n",
    "import numpy as np\n",
    "data = ui.df['backgrnd_int']\n",
    "hist, bins = np.histogram(data, bins=100)\n",
    "width = 0.7 * (bins[1] - bins[0])\n",
    "center = (bins[:-1] + bins[1:]) / 2\n",
    "plt.bar(center, hist, align='center', width=width, color='blue')\n",
    "\n",
    "data = ui.df.loc[pd.notnull(ui.df['sample_an']), 'backgrnd_int']\n",
    "hist, bins = np.histogram(data, bins=100)\n",
    "width = 0.7 * (bins[1] - bins[0])\n",
    "center = (bins[:-1] + bins[1:]) / 2\n",
    "plt.bar(center, hist, align='center', width=width, color='red')\n",
    "plt.show()"
   ]
  },
  {
   "cell_type": "markdown",
   "metadata": {
    "collapsed": true
   },
   "source": [
    "# create bins of equal length"
   ]
  },
  {
   "cell_type": "code",
   "execution_count": 15,
   "metadata": {
    "collapsed": false
   },
   "outputs": [],
   "source": [
    "import goretriever\n",
    "import pandas as pd\n",
    "import numpy as np\n",
    "ui = goretriever.UserInput()\n",
    "#ui.get_random_background_ans()"
   ]
  },
  {
   "cell_type": "code",
   "execution_count": 17,
   "metadata": {
    "collapsed": false
   },
   "outputs": [
    {
     "data": {
      "text/html": [
       "<div style=\"max-height:1000px;max-width:1500px;overflow:auto;\">\n",
       "<table border=\"1\" class=\"dataframe\">\n",
       "  <thead>\n",
       "    <tr style=\"text-align: right;\">\n",
       "      <th></th>\n",
       "      <th>sample_an</th>\n",
       "      <th>backgrnd_int</th>\n",
       "    </tr>\n",
       "  </thead>\n",
       "  <tbody>\n",
       "    <tr>\n",
       "      <th>O13297</th>\n",
       "      <td>O13297</td>\n",
       "      <td>8.099335</td>\n",
       "    </tr>\n",
       "    <tr>\n",
       "      <th>O14467</th>\n",
       "      <td>O14467</td>\n",
       "      <td>9.870351</td>\n",
       "    </tr>\n",
       "    <tr>\n",
       "      <th>P00044</th>\n",
       "      <td>P00044</td>\n",
       "      <td>9.077332</td>\n",
       "    </tr>\n",
       "    <tr>\n",
       "      <th>P00330</th>\n",
       "      <td>P00330</td>\n",
       "      <td>10.669038</td>\n",
       "    </tr>\n",
       "    <tr>\n",
       "      <th>P00331</th>\n",
       "      <td>P00331</td>\n",
       "      <td>9.191870</td>\n",
       "    </tr>\n",
       "  </tbody>\n",
       "</table>\n",
       "</div>"
      ],
      "text/plain": [
       "       sample_an  backgrnd_int\n",
       "O13297    O13297      8.099335\n",
       "O14467    O14467      9.870351\n",
       "P00044    P00044      9.077332\n",
       "P00330    P00330     10.669038\n",
       "P00331    P00331      9.191870"
      ]
     },
     "execution_count": 17,
     "metadata": {},
     "output_type": "execute_result"
    }
   ],
   "source": [
    "ui.get_sample_an_int().head()"
   ]
  },
  {
   "cell_type": "code",
   "execution_count": 28,
   "metadata": {
    "collapsed": false
   },
   "outputs": [
    {
     "data": {
      "text/plain": [
       "(array([  5.07272769,   5.67320625,   6.2736848 ,   6.87416336,\n",
       "          7.47464191,   8.07512047,   8.67559903,   9.27607758,\n",
       "          9.87655614,  10.47703469,  11.07751325]),\n",
       " array([  3,   7,  36,  87, 147, 267, 248, 209,  95,  27]))"
      ]
     },
     "execution_count": 28,
     "metadata": {},
     "output_type": "execute_result"
    }
   ],
   "source": [
    "hist, bins = np.histogram(ui.get_sample_an_int()['backgrnd_int'], bins=10)\n",
    "bins, hist"
   ]
  },
  {
   "cell_type": "code",
   "execution_count": 29,
   "metadata": {
    "collapsed": false
   },
   "outputs": [
    {
     "data": {
      "text/plain": [
       "(10, 11)"
      ]
     },
     "execution_count": 29,
     "metadata": {},
     "output_type": "execute_result"
    }
   ],
   "source": [
    "len(hist), len(bins)"
   ]
  },
  {
   "cell_type": "code",
   "execution_count": 33,
   "metadata": {
    "collapsed": false
   },
   "outputs": [
    {
     "name": "stdout",
     "output_type": "stream",
     "text": [
      "3 5.07272769 5.673206246\n",
      "7 5.673206246 6.273684802\n",
      "36 6.273684802 6.874163358\n",
      "87 6.874163358 7.474641914\n",
      "147 7.474641914 8.07512047\n",
      "267 8.07512047 8.675599026\n",
      "248 8.675599026 9.276077582\n",
      "209 9.276077582 9.876556138\n",
      "95 9.876556138 10.477034694\n",
      "27 10.477034694 11.07751325\n"
     ]
    }
   ],
   "source": [
    "for index, his in enumerate(hist):    \n",
    "    print his, bins[index], bins[index+1]"
   ]
  },
  {
   "cell_type": "code",
   "execution_count": 36,
   "metadata": {
    "collapsed": false
   },
   "outputs": [],
   "source": [
    "lower = 5.07272769 \n",
    "upper = 5.673206246\n",
    "df = ui.get_background_an_int()"
   ]
  },
  {
   "cell_type": "code",
   "execution_count": 37,
   "metadata": {
    "collapsed": true
   },
   "outputs": [],
   "source": [
    "#cond = df['backgrnd_int'] > lower | df['backgrnd_int'] < upper"
   ]
  },
  {
   "cell_type": "code",
   "execution_count": 59,
   "metadata": {
    "collapsed": false
   },
   "outputs": [
    {
     "data": {
      "text/plain": [
       "['O14455',\n",
       " 'P00942',\n",
       " 'P04456',\n",
       " 'P05755',\n",
       " 'P0C0T4',\n",
       " 'P0CX31',\n",
       " 'P0CX37',\n",
       " 'P0CX45',\n",
       " 'P0CX55',\n",
       " 'P0CX84',\n",
       " 'P14540',\n",
       " 'P38061',\n",
       " 'Q3E754',\n",
       " 'Q3E7X9']"
      ]
     },
     "execution_count": 59,
     "metadata": {},
     "output_type": "execute_result"
    }
   ],
   "source": [
    "cond1 = df['backgrnd_int'] >= 10.5 \n",
    "cond2 = df['backgrnd_int'] < 10.6\n",
    "cond = cond1 & cond2\n",
    "cond = cond1 & cond2\n",
    "sorted(df.loc[cond, 'backgrnd_an'])"
   ]
  },
  {
   "cell_type": "code",
   "execution_count": 23,
   "metadata": {
    "collapsed": false
   },
   "outputs": [
    {
     "data": {
      "text/plain": [
       "array([ 8,  6,  5,  3,  2,  1,  7,  9, 10,  4])"
      ]
     },
     "execution_count": 23,
     "metadata": {},
     "output_type": "execute_result"
    }
   ],
   "source": [
    "import random\n",
    "np.random.choice(range(1,11), size=10, replace=False)"
   ]
  },
  {
   "cell_type": "code",
   "execution_count": 61,
   "metadata": {
    "collapsed": false
   },
   "outputs": [
    {
     "data": {
      "text/plain": [
       "['Q3E7X9',\n",
       " 'P0C0T4',\n",
       " 'P38061',\n",
       " 'P04456',\n",
       " 'P0CX84',\n",
       " 'P0CX55',\n",
       " 'O14455',\n",
       " 'P0CX37',\n",
       " 'P0CX31',\n",
       " 'Q3E754']"
      ]
     },
     "execution_count": 61,
     "metadata": {},
     "output_type": "execute_result"
    }
   ],
   "source": [
    "random.sample(df.loc[cond, 'backgrnd_an'], 10)"
   ]
  },
  {
   "cell_type": "code",
   "execution_count": 64,
   "metadata": {
    "collapsed": false
   },
   "outputs": [
    {
     "data": {
      "text/plain": [
       "'1.8.0rc1'"
      ]
     },
     "execution_count": 64,
     "metadata": {},
     "output_type": "execute_result"
    }
   ],
   "source": [
    "np.__version__"
   ]
  },
  {
   "cell_type": "code",
   "execution_count": 5,
   "metadata": {
    "collapsed": false
   },
   "outputs": [],
   "source": [
    "import goretriever\n",
    "import pandas as pd\n",
    "import numpy as np\n",
    "ui = goretriever.UserInput()\n",
    "ans_rand = ui.get_random_background_ans()"
   ]
  },
  {
   "cell_type": "code",
   "execution_count": 13,
   "metadata": {
    "collapsed": false
   },
   "outputs": [
    {
     "name": "stdout",
     "output_type": "stream",
     "text": [
      "1126\n",
      "1126\n",
      "1126\n"
     ]
    }
   ],
   "source": [
    "print len(ans_rand)\n",
    "print len(ui.get_study())\n",
    "print len(ui.get_sample_an_int())"
   ]
  },
  {
   "cell_type": "code",
   "execution_count": 14,
   "metadata": {
    "collapsed": false
   },
   "outputs": [
    {
     "name": "stdout",
     "output_type": "stream",
     "text": [
      "False\n",
      "False\n",
      "False\n"
     ]
    }
   ],
   "source": [
    "ans_rand1 = ui.get_random_background_ans()\n",
    "ans_rand2 = ui.get_random_background_ans()\n",
    "ans_rand3 = ui.get_random_background_ans()\n",
    "print ans_rand1 == ans_rand2\n",
    "print ans_rand1 == ans_rand3\n",
    "print ans_rand2 == ans_rand3"
   ]
  },
  {
   "cell_type": "code",
   "execution_count": 4,
   "metadata": {
    "collapsed": false
   },
   "outputs": [
    {
     "name": "stdout",
     "output_type": "stream",
     "text": [
      "1126\n",
      "1126\n"
     ]
    }
   ],
   "source": [
    "import matplotlib.pyplot as plt\n",
    "import numpy as np\n",
    "# plot random background\n",
    "# against sample frequency\n",
    "\n",
    "import goretriever\n",
    "import pandas as pd\n",
    "import numpy as np\n",
    "ui = goretriever.UserInput()\n",
    "num_bins = 60\n",
    "ans_rand = ui.get_random_background_ans(num_bins=num_bins)\n",
    "\n",
    "\n",
    "# background in blue\n",
    "df = ui.get_df()\n",
    "cond = df['backgrnd_an'].isin(ans_rand)\n",
    "data = df.loc[cond, 'backgrnd_int']\n",
    "data = df.loc[:, 'backgrnd_int']\n",
    "print len(data)\n",
    "hist, bins = np.histogram(data, bins=num_bins)\n",
    "width = 0.7 * (bins[1] - bins[0])\n",
    "center = (bins[:-1] + bins[1:]) / 2\n",
    "plt.bar(center, hist, align='center', width=width, color='blue')\n",
    "\n",
    "# sample in red\n",
    "data = ui.get_sample_an_int()['backgrnd_int']\n",
    "#data = ui.get_background_an_int()['backgrnd_int']\n",
    "print len(data)\n",
    "hist, bins = np.histogram(data, bins=num_bins)\n",
    "width = 0.7 * (bins[1] - bins[0])\n",
    "center = (bins[:-1] + bins[1:]) / 2\n",
    "plt.bar(center, hist, align='center', width=width, color='red')\n",
    "\n",
    "plt.show()"
   ]
  },
  {
   "cell_type": "code",
   "execution_count": 9,
   "metadata": {
    "collapsed": false
   },
   "outputs": [],
   "source": [
    "ans_sample = sorted(ui.get_sample_an_int()['sample_an'])"
   ]
  },
  {
   "cell_type": "code",
   "execution_count": 18,
   "metadata": {
    "collapsed": false
   },
   "outputs": [
    {
     "name": "stdout",
     "output_type": "stream",
     "text": [
      "False\n",
      "False\n"
     ]
    }
   ],
   "source": [
    "print sorted(ans_sample) == sorted(ans_rand)\n",
    "print set(ans_sample) == set(ans_rand)"
   ]
  },
  {
   "cell_type": "code",
   "execution_count": 6,
   "metadata": {
    "collapsed": true
   },
   "outputs": [],
   "source": [
    "hist, bins = np.histogram(ui.get_sample_an_int()['backgrnd_int'], bins=num_bins)"
   ]
  },
  {
   "cell_type": "code",
   "execution_count": 12,
   "metadata": {
    "collapsed": false
   },
   "outputs": [
    {
     "name": "stdout",
     "output_type": "stream",
     "text": [
      "1126\n",
      "[ 0.0017762   0.          0.          0.          0.0008881   0.          0.\n",
      "  0.          0.          0.          0.0008881   0.          0.0008881   0.\n",
      "  0.0008881   0.          0.0026643   0.          0.          0.0008881\n",
      "  0.0035524   0.0017762   0.0026643   0.          0.0017762   0.0044405\n",
      "  0.0035524   0.0035524   0.0044405   0.0062167   0.0062167   0.0062167\n",
      "  0.01154529  0.0053286   0.0035524   0.01154529  0.0071048   0.00976909\n",
      "  0.00976909  0.0062167   0.01332149  0.00976909  0.01243339  0.01065719\n",
      "  0.01065719  0.01065719  0.01509769  0.01420959  0.01243339  0.02131439\n",
      "  0.02131439  0.01598579  0.01953819  0.02664298  0.02753108  0.02397869\n",
      "  0.02397869  0.02309059  0.02309059  0.03197158  0.01598579  0.02841918\n",
      "  0.01687389  0.01420959  0.02309059  0.02309059  0.02841918  0.03108348\n",
      "  0.01953819  0.01953819  0.01776199  0.02220249  0.02930728  0.01509769\n",
      "  0.02042629  0.02220249  0.01953819  0.01243339  0.01332149  0.01332149\n",
      "  0.00888099  0.0071048   0.00976909  0.0062167   0.0053286   0.01154529\n",
      "  0.0062167   0.0071048   0.01243339  0.00976909  0.0079929   0.0053286\n",
      "  0.0035524   0.0017762   0.0035524   0.          0.          0.          0.0008881\n",
      "  0.0008881 ]\n",
      "1.0\n"
     ]
    }
   ],
   "source": [
    "print sum(hist)\n",
    "perc_hist = hist / float(sum(hist))\n",
    "print perc_hist\n",
    "print sum(perc_hist)"
   ]
  },
  {
   "cell_type": "code",
   "execution_count": 14,
   "metadata": {
    "collapsed": false
   },
   "outputs": [
    {
     "data": {
      "text/plain": [
       "(array([ 2,  0,  0,  0,  1,  0,  0,  0,  0,  0,  1,  0,  1,  0,  1,  0,  3,\n",
       "         0,  0,  1,  4,  2,  3,  0,  2,  5,  4,  4,  5,  7,  7,  7, 13,  6,\n",
       "         4, 13,  8, 11, 11,  7, 15, 11, 14, 12, 12, 12, 17, 16, 14, 24, 24,\n",
       "        18, 22, 30, 31, 27, 27, 26, 26, 36, 18, 32, 19, 16, 26, 26, 32, 35,\n",
       "        22, 22, 20, 25, 33, 17, 23, 25, 22, 14, 15, 15, 10,  8, 11,  7,  6,\n",
       "        13,  7,  8, 14, 11,  9,  6,  4,  2,  4,  0,  0,  0,  1,  1]),\n",
       " array([  5.07272769,   5.13277555,   5.1928234 ,   5.25287126,\n",
       "          5.31291911,   5.37296697,   5.43301482,   5.49306268,\n",
       "          5.55311053,   5.61315839,   5.67320625,   5.7332541 ,\n",
       "          5.79330196,   5.85334981,   5.91339767,   5.97344552,\n",
       "          6.03349338,   6.09354124,   6.15358909,   6.21363695,\n",
       "          6.2736848 ,   6.33373266,   6.39378051,   6.45382837,\n",
       "          6.51387622,   6.57392408,   6.63397194,   6.69401979,\n",
       "          6.75406765,   6.8141155 ,   6.87416336,   6.93421121,\n",
       "          6.99425907,   7.05430692,   7.11435478,   7.17440264,\n",
       "          7.23445049,   7.29449835,   7.3545462 ,   7.41459406,\n",
       "          7.47464191,   7.53468977,   7.59473763,   7.65478548,\n",
       "          7.71483334,   7.77488119,   7.83492905,   7.8949769 ,\n",
       "          7.95502476,   8.01507261,   8.07512047,   8.13516833,\n",
       "          8.19521618,   8.25526404,   8.31531189,   8.37535975,\n",
       "          8.4354076 ,   8.49545546,   8.55550331,   8.61555117,\n",
       "          8.67559903,   8.73564688,   8.79569474,   8.85574259,\n",
       "          8.91579045,   8.9758383 ,   9.03588616,   9.09593402,\n",
       "          9.15598187,   9.21602973,   9.27607758,   9.33612544,\n",
       "          9.39617329,   9.45622115,   9.516269  ,   9.57631686,\n",
       "          9.63636472,   9.69641257,   9.75646043,   9.81650828,\n",
       "          9.87655614,   9.93660399,   9.99665185,  10.0566997 ,\n",
       "         10.11674756,  10.17679542,  10.23684327,  10.29689113,\n",
       "         10.35693898,  10.41698684,  10.47703469,  10.53708255,\n",
       "         10.59713041,  10.65717826,  10.71722612,  10.77727397,\n",
       "         10.83732183,  10.89736968,  10.95741754,  11.01746539,  11.07751325]))"
      ]
     },
     "execution_count": 14,
     "metadata": {},
     "output_type": "execute_result"
    }
   ],
   "source": [
    "hist, bins"
   ]
  },
  {
   "cell_type": "code",
   "execution_count": 17,
   "metadata": {
    "collapsed": false
   },
   "outputs": [
    {
     "data": {
      "text/plain": [
       "['P25364', 'P46997', 'Q01926', 'Q12508']"
      ]
     },
     "execution_count": 17,
     "metadata": {},
     "output_type": "execute_result"
    }
   ],
   "source": [
    "ui.get_random_an_from_bin(5.07272769,   5.13277555, get_all_ans=True)"
   ]
  },
  {
   "cell_type": "code",
   "execution_count": null,
   "metadata": {
    "collapsed": true
   },
   "outputs": [],
   "source": [
    "common = pop & study\n",
    "pop |= study\n",
    "pop -= common\n",
    "study -= common"
   ]
  },
  {
   "cell_type": "code",
   "execution_count": 7,
   "metadata": {
    "collapsed": true
   },
   "outputs": [],
   "source": [
    "pop = set(list('abcdefg'))\n",
    "study = set(list('abc'))"
   ]
  },
  {
   "cell_type": "code",
   "execution_count": 8,
   "metadata": {
    "collapsed": false
   },
   "outputs": [
    {
     "data": {
      "text/plain": [
       "{'a', 'b', 'c'}"
      ]
     },
     "execution_count": 8,
     "metadata": {},
     "output_type": "execute_result"
    }
   ],
   "source": [
    "common = pop & study\n",
    "common"
   ]
  },
  {
   "cell_type": "code",
   "execution_count": 9,
   "metadata": {
    "collapsed": false
   },
   "outputs": [
    {
     "data": {
      "text/plain": [
       "{'a', 'b', 'c', 'd', 'e', 'f', 'g'}"
      ]
     },
     "execution_count": 9,
     "metadata": {},
     "output_type": "execute_result"
    }
   ],
   "source": [
    "pop |= study\n",
    "pop"
   ]
  },
  {
   "cell_type": "code",
   "execution_count": 11,
   "metadata": {
    "collapsed": false
   },
   "outputs": [
    {
     "data": {
      "text/plain": [
       "{'d', 'e', 'f', 'g'}"
      ]
     },
     "execution_count": 11,
     "metadata": {},
     "output_type": "execute_result"
    }
   ],
   "source": [
    "pop -= common\n",
    "pop"
   ]
  },
  {
   "cell_type": "code",
   "execution_count": 13,
   "metadata": {
    "collapsed": false
   },
   "outputs": [
    {
     "data": {
      "text/plain": [
       "set()"
      ]
     },
     "execution_count": 13,
     "metadata": {},
     "output_type": "execute_result"
    }
   ],
   "source": [
    "study -= common\n",
    "study"
   ]
  },
  {
   "cell_type": "code",
   "execution_count": 16,
   "metadata": {
    "collapsed": false
   },
   "outputs": [
    {
     "data": {
      "text/plain": [
       "defaultdict(<type 'int'>, {})"
      ]
     },
     "execution_count": 16,
     "metadata": {},
     "output_type": "execute_result"
    }
   ],
   "source": [
    "from collections import defaultdict\n",
    "d = defaultdict(int)\n",
    "d"
   ]
  },
  {
   "cell_type": "code",
   "execution_count": 17,
   "metadata": {
    "collapsed": false
   },
   "outputs": [
    {
     "data": {
      "text/plain": [
       "[]"
      ]
     },
     "execution_count": 17,
     "metadata": {},
     "output_type": "execute_result"
    }
   ],
   "source": [
    "d.items()"
   ]
  },
  {
   "cell_type": "code",
   "execution_count": 20,
   "metadata": {
    "collapsed": false
   },
   "outputs": [
    {
     "data": {
      "text/plain": [
       "0"
      ]
     },
     "execution_count": 20,
     "metadata": {},
     "output_type": "execute_result"
    }
   ],
   "source": [
    "d['v']"
   ]
  },
  {
   "cell_type": "code",
   "execution_count": null,
   "metadata": {
    "collapsed": true
   },
   "outputs": [],
   "source": []
  }
 ],
 "metadata": {
  "kernelspec": {
   "display_name": "Python 2",
   "language": "python",
   "name": "python2"
  },
  "language_info": {
   "codemirror_mode": {
    "name": "ipython",
    "version": 2
   },
   "file_extension": ".py",
   "mimetype": "text/x-python",
   "name": "python",
   "nbconvert_exporter": "python",
   "pygments_lexer": "ipython2",
   "version": "2.7.6"
  }
 },
 "nbformat": 4,
 "nbformat_minor": 0
}
