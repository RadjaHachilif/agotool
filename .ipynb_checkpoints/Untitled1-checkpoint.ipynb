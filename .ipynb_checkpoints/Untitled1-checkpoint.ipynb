{
 "cells": [
  {
   "cell_type": "code",
   "execution_count": 5,
   "metadata": {
    "collapsed": true
   },
   "outputs": [],
   "source": [
    "import goretriever\n",
    "gor = goretriever.Goretriever()"
   ]
  },
  {
   "cell_type": "code",
   "execution_count": 36,
   "metadata": {
    "collapsed": false
   },
   "outputs": [],
   "source": [
    "ans_list = ['O14467', 'P00358', 'Q12345']\n",
    "go_list = []\n",
    "for an in ans_list:\n",
    "    go_list += gor.get_goterms_from_an('O14467')"
   ]
  },
  {
   "cell_type": "code",
   "execution_count": 37,
   "metadata": {
    "collapsed": false
   },
   "outputs": [
    {
     "name": "stdout",
     "output_type": "stream",
     "text": [
      "18\n",
      "6\n"
     ]
    }
   ],
   "source": [
    "print len(go_list)\n",
    "print len(set(go_list))"
   ]
  },
  {
   "cell_type": "code",
   "execution_count": 38,
   "metadata": {
    "collapsed": false
   },
   "outputs": [
    {
     "data": {
      "text/plain": [
       "['GO:0005737',\n",
       " 'GO:0043565',\n",
       " 'GO:0005634',\n",
       " 'GO:0003713',\n",
       " 'GO:0045944',\n",
       " 'GO:0006351']"
      ]
     },
     "execution_count": 38,
     "metadata": {},
     "output_type": "execute_result"
    }
   ],
   "source": [
    "list(set(go_list))"
   ]
  },
  {
   "cell_type": "code",
   "execution_count": 10,
   "metadata": {
    "collapsed": false
   },
   "outputs": [],
   "source": [
    "fh = open('summary_test3.txt', 'r')"
   ]
  },
  {
   "cell_type": "code",
   "execution_count": 11,
   "metadata": {
    "collapsed": false
   },
   "outputs": [],
   "source": [
    "go_summary = []\n",
    "for line in fh:\n",
    "    if line[:3] == 'GO:':\n",
    "        go_summary.append(line.split('\\t')[0])"
   ]
  },
  {
   "cell_type": "code",
   "execution_count": 12,
   "metadata": {
    "collapsed": false
   },
   "outputs": [
    {
     "name": "stdout",
     "output_type": "stream",
     "text": [
      "84\n",
      "84\n"
     ]
    }
   ],
   "source": [
    "print len(go_summary)\n",
    "print len(set(go_summary))"
   ]
  },
  {
   "cell_type": "code",
   "execution_count": 1,
   "metadata": {
    "collapsed": false
   },
   "outputs": [],
   "source": [
    "import goretriever\n",
    "import pandas as pd\n",
    "ui = goretriever.UserInput()"
   ]
  },
  {
   "cell_type": "code",
   "execution_count": 2,
   "metadata": {
    "collapsed": false
   },
   "outputs": [],
   "source": [
    "ui.temp_setup()\n",
    "ui.cleanupforanalysis()"
   ]
  },
  {
   "cell_type": "code",
   "execution_count": 3,
   "metadata": {
    "collapsed": false
   },
   "outputs": [
    {
     "data": {
      "text/html": [
       "<div style=\"max-height:1000px;max-width:1500px;overflow:auto;\">\n",
       "<table border=\"1\" class=\"dataframe\">\n",
       "  <thead>\n",
       "    <tr style=\"text-align: right;\">\n",
       "      <th></th>\n",
       "      <th>sample_an</th>\n",
       "      <th>backgrnd_an</th>\n",
       "      <th>backgrnd_int</th>\n",
       "    </tr>\n",
       "  </thead>\n",
       "  <tbody>\n",
       "    <tr>\n",
       "      <th>A5Z2X5</th>\n",
       "      <td>NaN</td>\n",
       "      <td>A5Z2X5</td>\n",
       "      <td>9.028612</td>\n",
       "    </tr>\n",
       "    <tr>\n",
       "      <th>O13297</th>\n",
       "      <td>O13297</td>\n",
       "      <td>O13297</td>\n",
       "      <td>8.099335</td>\n",
       "    </tr>\n",
       "    <tr>\n",
       "      <th>O13329</th>\n",
       "      <td>NaN</td>\n",
       "      <td>O13329</td>\n",
       "      <td>6.773450</td>\n",
       "    </tr>\n",
       "    <tr>\n",
       "      <th>O13516</th>\n",
       "      <td>NaN</td>\n",
       "      <td>O13516</td>\n",
       "      <td>7.956591</td>\n",
       "    </tr>\n",
       "    <tr>\n",
       "      <th>O13525</th>\n",
       "      <td>NaN</td>\n",
       "      <td>O13525</td>\n",
       "      <td>7.702801</td>\n",
       "    </tr>\n",
       "  </tbody>\n",
       "</table>\n",
       "</div>"
      ],
      "text/plain": [
       "       sample_an backgrnd_an  backgrnd_int\n",
       "A5Z2X5       NaN      A5Z2X5      9.028612\n",
       "O13297    O13297      O13297      8.099335\n",
       "O13329       NaN      O13329      6.773450\n",
       "O13516       NaN      O13516      7.956591\n",
       "O13525       NaN      O13525      7.702801"
      ]
     },
     "execution_count": 3,
     "metadata": {},
     "output_type": "execute_result"
    }
   ],
   "source": [
    "ui.df.head()"
   ]
  },
  {
   "cell_type": "code",
   "execution_count": 4,
   "metadata": {
    "collapsed": false
   },
   "outputs": [
    {
     "data": {
      "text/html": [
       "<div style=\"max-height:1000px;max-width:1500px;overflow:auto;\">\n",
       "<table border=\"1\" class=\"dataframe\">\n",
       "  <thead>\n",
       "    <tr style=\"text-align: right;\">\n",
       "      <th></th>\n",
       "      <th>sample_an</th>\n",
       "      <th>backgrnd_an</th>\n",
       "      <th>backgrnd_int</th>\n",
       "    </tr>\n",
       "  </thead>\n",
       "  <tbody>\n",
       "    <tr>\n",
       "      <th>Q99383</th>\n",
       "      <td>Q99383</td>\n",
       "      <td>Q99383</td>\n",
       "      <td>8.931163</td>\n",
       "    </tr>\n",
       "    <tr>\n",
       "      <th>Q99385</th>\n",
       "      <td>NaN</td>\n",
       "      <td>Q99385</td>\n",
       "      <td>8.318001</td>\n",
       "    </tr>\n",
       "    <tr>\n",
       "      <th>Q99394</th>\n",
       "      <td>NaN</td>\n",
       "      <td>Q99394</td>\n",
       "      <td>7.523538</td>\n",
       "    </tr>\n",
       "    <tr>\n",
       "      <th>Q9P305</th>\n",
       "      <td>NaN</td>\n",
       "      <td>Q9P305</td>\n",
       "      <td>8.566520</td>\n",
       "    </tr>\n",
       "    <tr>\n",
       "      <th>Q9URQ5</th>\n",
       "      <td>NaN</td>\n",
       "      <td>Q9URQ5</td>\n",
       "      <td>7.808710</td>\n",
       "    </tr>\n",
       "  </tbody>\n",
       "</table>\n",
       "</div>"
      ],
      "text/plain": [
       "       sample_an backgrnd_an  backgrnd_int\n",
       "Q99383    Q99383      Q99383      8.931163\n",
       "Q99385       NaN      Q99385      8.318001\n",
       "Q99394       NaN      Q99394      7.523538\n",
       "Q9P305       NaN      Q9P305      8.566520\n",
       "Q9URQ5       NaN      Q9URQ5      7.808710"
      ]
     },
     "execution_count": 4,
     "metadata": {},
     "output_type": "execute_result"
    }
   ],
   "source": [
    "ui.df.tail()\n",
    "#Q9URQ3 "
   ]
  },
  {
   "cell_type": "code",
   "execution_count": 5,
   "metadata": {
    "collapsed": false
   },
   "outputs": [
    {
     "data": {
      "text/html": [
       "<div style=\"max-height:1000px;max-width:1500px;overflow:auto;\">\n",
       "<table border=\"1\" class=\"dataframe\">\n",
       "  <thead>\n",
       "    <tr style=\"text-align: right;\">\n",
       "      <th></th>\n",
       "      <th>sample_an</th>\n",
       "      <th>backgrnd_int</th>\n",
       "      <th>backgrnd_an</th>\n",
       "    </tr>\n",
       "  </thead>\n",
       "  <tbody>\n",
       "    <tr>\n",
       "      <th>A5Z2X5</th>\n",
       "      <td>NaN</td>\n",
       "      <td>9.028612</td>\n",
       "      <td>A5Z2X5</td>\n",
       "    </tr>\n",
       "    <tr>\n",
       "      <th>O13297</th>\n",
       "      <td>O13297</td>\n",
       "      <td>8.099335</td>\n",
       "      <td>O13297</td>\n",
       "    </tr>\n",
       "    <tr>\n",
       "      <th>O13329</th>\n",
       "      <td>NaN</td>\n",
       "      <td>6.773450</td>\n",
       "      <td>O13329</td>\n",
       "    </tr>\n",
       "    <tr>\n",
       "      <th>O13516</th>\n",
       "      <td>NaN</td>\n",
       "      <td>7.956591</td>\n",
       "      <td>O13516</td>\n",
       "    </tr>\n",
       "    <tr>\n",
       "      <th>O13525</th>\n",
       "      <td>NaN</td>\n",
       "      <td>7.702801</td>\n",
       "      <td>O13525</td>\n",
       "    </tr>\n",
       "  </tbody>\n",
       "</table>\n",
       "</div>"
      ],
      "text/plain": [
       "       sample_an  backgrnd_int backgrnd_an\n",
       "A5Z2X5       NaN      9.028612      A5Z2X5\n",
       "O13297    O13297      8.099335      O13297\n",
       "O13329       NaN      6.773450      O13329\n",
       "O13516       NaN      7.956591      O13516\n",
       "O13525       NaN      7.702801      O13525"
      ]
     },
     "execution_count": 5,
     "metadata": {},
     "output_type": "execute_result"
    }
   ],
   "source": [
    "sample_df = ui.samplefreq_ser\n",
    "background_df = ui.backgroundfreq_df\n",
    "df_new = ui.concat_and_align_sample_and_background(sample_df, background_df)\n",
    "df_new.head()"
   ]
  },
  {
   "cell_type": "code",
   "execution_count": 6,
   "metadata": {
    "collapsed": false
   },
   "outputs": [],
   "source": [
    "# ui.backgroundfreq_df\n",
    "# ui.samplefreq_ser\n",
    "# ui.df_orig\n",
    "ans_samplefreq = ui.samplefreq_ser.tolist()\n",
    "ans2drop = []\n",
    "for an in ans_samplefreq:\n",
    "    # an_row_index = ui.backgroundfreq_df[ui.backgroundfreq_df['backgrnd_an'] == an].index.tolist() \n",
    "    # AN is set as index, if not in index is\n",
    "    if pd.isnull(ui.backgroundfreq_df.loc[an, 'backgrnd_int']):\n",
    "        ans2drop += an\n",
    "\n",
    "# now drop ans2drop from ui.samplefreq_ser        "
   ]
  },
  {
   "cell_type": "code",
   "execution_count": 7,
   "metadata": {
    "collapsed": true
   },
   "outputs": [],
   "source": [
    "an = 'Q9URQ3'\n",
    "#an= 'P00359'\n",
    "an_row_index = ui.backgroundfreq_df[ui.backgroundfreq_df['backgrnd_an'] == an].index.tolist()"
   ]
  },
  {
   "cell_type": "code",
   "execution_count": 8,
   "metadata": {
    "collapsed": false
   },
   "outputs": [],
   "source": [
    "import pandas as pd\n",
    "\n",
    "an = 'P32862'\n",
    "#an = 'Q9URQ3'\n",
    "if pd.isnull(ui.backgroundfreq_df.loc[an, 'backgrnd_int']):\n",
    "    print 'b'"
   ]
  },
  {
   "cell_type": "code",
   "execution_count": 9,
   "metadata": {
    "collapsed": false
   },
   "outputs": [
    {
     "data": {
      "text/html": [
       "<div style=\"max-height:1000px;max-width:1500px;overflow:auto;\">\n",
       "<table border=\"1\" class=\"dataframe\">\n",
       "  <thead>\n",
       "    <tr style=\"text-align: right;\">\n",
       "      <th></th>\n",
       "      <th>backgrnd_int</th>\n",
       "      <th>backgrnd_an</th>\n",
       "    </tr>\n",
       "  </thead>\n",
       "  <tbody>\n",
       "    <tr>\n",
       "      <th>Q99383</th>\n",
       "      <td>8.931163</td>\n",
       "      <td>Q99383</td>\n",
       "    </tr>\n",
       "    <tr>\n",
       "      <th>Q99385</th>\n",
       "      <td>8.318001</td>\n",
       "      <td>Q99385</td>\n",
       "    </tr>\n",
       "    <tr>\n",
       "      <th>Q99394</th>\n",
       "      <td>7.523538</td>\n",
       "      <td>Q99394</td>\n",
       "    </tr>\n",
       "    <tr>\n",
       "      <th>Q9P305</th>\n",
       "      <td>8.566520</td>\n",
       "      <td>Q9P305</td>\n",
       "    </tr>\n",
       "    <tr>\n",
       "      <th>Q9URQ5</th>\n",
       "      <td>7.808710</td>\n",
       "      <td>Q9URQ5</td>\n",
       "    </tr>\n",
       "  </tbody>\n",
       "</table>\n",
       "</div>"
      ],
      "text/plain": [
       "        backgrnd_int backgrnd_an\n",
       "Q99383      8.931163      Q99383\n",
       "Q99385      8.318001      Q99385\n",
       "Q99394      7.523538      Q99394\n",
       "Q9P305      8.566520      Q9P305\n",
       "Q9URQ5      7.808710      Q9URQ5"
      ]
     },
     "execution_count": 9,
     "metadata": {},
     "output_type": "execute_result"
    }
   ],
   "source": [
    "ui.backgroundfreq_df.tail()"
   ]
  },
  {
   "cell_type": "code",
   "execution_count": 10,
   "metadata": {
    "collapsed": false
   },
   "outputs": [
    {
     "data": {
      "text/html": [
       "<div style=\"max-height:1000px;max-width:1500px;overflow:auto;\">\n",
       "<table border=\"1\" class=\"dataframe\">\n",
       "  <thead>\n",
       "    <tr style=\"text-align: right;\">\n",
       "      <th></th>\n",
       "      <th>sample_an</th>\n",
       "      <th>backgrnd_an</th>\n",
       "      <th>backgrnd_int</th>\n",
       "    </tr>\n",
       "  </thead>\n",
       "  <tbody>\n",
       "    <tr>\n",
       "      <th>Q99383</th>\n",
       "      <td>Q99383</td>\n",
       "      <td>Q99383</td>\n",
       "      <td>8.931163</td>\n",
       "    </tr>\n",
       "    <tr>\n",
       "      <th>Q99385</th>\n",
       "      <td>NaN</td>\n",
       "      <td>Q99385</td>\n",
       "      <td>8.318001</td>\n",
       "    </tr>\n",
       "    <tr>\n",
       "      <th>Q99394</th>\n",
       "      <td>NaN</td>\n",
       "      <td>Q99394</td>\n",
       "      <td>7.523538</td>\n",
       "    </tr>\n",
       "    <tr>\n",
       "      <th>Q9P305</th>\n",
       "      <td>NaN</td>\n",
       "      <td>Q9P305</td>\n",
       "      <td>8.566520</td>\n",
       "    </tr>\n",
       "    <tr>\n",
       "      <th>Q9URQ5</th>\n",
       "      <td>NaN</td>\n",
       "      <td>Q9URQ5</td>\n",
       "      <td>7.808710</td>\n",
       "    </tr>\n",
       "  </tbody>\n",
       "</table>\n",
       "</div>"
      ],
      "text/plain": [
       "       sample_an backgrnd_an  backgrnd_int\n",
       "Q99383    Q99383      Q99383      8.931163\n",
       "Q99385       NaN      Q99385      8.318001\n",
       "Q99394       NaN      Q99394      7.523538\n",
       "Q9P305       NaN      Q9P305      8.566520\n",
       "Q9URQ5       NaN      Q9URQ5      7.808710"
      ]
     },
     "execution_count": 10,
     "metadata": {},
     "output_type": "execute_result"
    }
   ],
   "source": [
    "ui.df.tail()"
   ]
  },
  {
   "cell_type": "code",
   "execution_count": 11,
   "metadata": {
    "collapsed": false
   },
   "outputs": [],
   "source": [
    "cond = pd.notnull(ui.df['backgrnd_int'])\n",
    "dfc  = ui.df.loc[cond, ]"
   ]
  },
  {
   "cell_type": "code",
   "execution_count": 12,
   "metadata": {
    "collapsed": false
   },
   "outputs": [
    {
     "data": {
      "text/html": [
       "<div style=\"max-height:1000px;max-width:1500px;overflow:auto;\">\n",
       "<table border=\"1\" class=\"dataframe\">\n",
       "  <thead>\n",
       "    <tr style=\"text-align: right;\">\n",
       "      <th></th>\n",
       "      <th>sample_an</th>\n",
       "      <th>backgrnd_an</th>\n",
       "      <th>backgrnd_int</th>\n",
       "    </tr>\n",
       "  </thead>\n",
       "  <tbody>\n",
       "    <tr>\n",
       "      <th>Q99383</th>\n",
       "      <td>Q99383</td>\n",
       "      <td>Q99383</td>\n",
       "      <td>8.931163</td>\n",
       "    </tr>\n",
       "    <tr>\n",
       "      <th>Q99385</th>\n",
       "      <td>NaN</td>\n",
       "      <td>Q99385</td>\n",
       "      <td>8.318001</td>\n",
       "    </tr>\n",
       "    <tr>\n",
       "      <th>Q99394</th>\n",
       "      <td>NaN</td>\n",
       "      <td>Q99394</td>\n",
       "      <td>7.523538</td>\n",
       "    </tr>\n",
       "    <tr>\n",
       "      <th>Q9P305</th>\n",
       "      <td>NaN</td>\n",
       "      <td>Q9P305</td>\n",
       "      <td>8.566520</td>\n",
       "    </tr>\n",
       "    <tr>\n",
       "      <th>Q9URQ5</th>\n",
       "      <td>NaN</td>\n",
       "      <td>Q9URQ5</td>\n",
       "      <td>7.808710</td>\n",
       "    </tr>\n",
       "  </tbody>\n",
       "</table>\n",
       "</div>"
      ],
      "text/plain": [
       "       sample_an backgrnd_an  backgrnd_int\n",
       "Q99383    Q99383      Q99383      8.931163\n",
       "Q99385       NaN      Q99385      8.318001\n",
       "Q99394       NaN      Q99394      7.523538\n",
       "Q9P305       NaN      Q9P305      8.566520\n",
       "Q9URQ5       NaN      Q9URQ5      7.808710"
      ]
     },
     "execution_count": 12,
     "metadata": {},
     "output_type": "execute_result"
    }
   ],
   "source": [
    "dfc.tail()"
   ]
  },
  {
   "cell_type": "code",
   "execution_count": 13,
   "metadata": {
    "collapsed": true
   },
   "outputs": [],
   "source": [
    "import matplotlib.pyplot as plt"
   ]
  },
  {
   "cell_type": "code",
   "execution_count": 14,
   "metadata": {
    "collapsed": false
   },
   "outputs": [],
   "source": [
    "import matplotlib.pyplot as plt\n",
    "import numpy as np\n",
    "data = ui.df['backgrnd_int']\n",
    "hist, bins = np.histogram(data, bins=100)\n",
    "width = 0.7 * (bins[1] - bins[0])\n",
    "center = (bins[:-1] + bins[1:]) / 2\n",
    "plt.bar(center, hist, align='center', width=width, color='blue')\n",
    "\n",
    "data = ui.df.loc[pd.notnull(ui.df['sample_an']), 'backgrnd_int']\n",
    "hist, bins = np.histogram(data, bins=100)\n",
    "width = 0.7 * (bins[1] - bins[0])\n",
    "center = (bins[:-1] + bins[1:]) / 2\n",
    "plt.bar(center, hist, align='center', width=width, color='red')\n",
    "plt.show()"
   ]
  },
  {
   "cell_type": "markdown",
   "metadata": {
    "collapsed": true
   },
   "source": [
    "# create bins of equal length"
   ]
  },
  {
   "cell_type": "code",
   "execution_count": 15,
   "metadata": {
    "collapsed": false
   },
   "outputs": [],
   "source": [
    "import goretriever\n",
    "import pandas as pd\n",
    "import numpy as np\n",
    "ui = goretriever.UserInput()\n",
    "#ui.get_random_background_ans()"
   ]
  },
  {
   "cell_type": "code",
   "execution_count": 17,
   "metadata": {
    "collapsed": false
   },
   "outputs": [
    {
     "data": {
      "text/html": [
       "<div style=\"max-height:1000px;max-width:1500px;overflow:auto;\">\n",
       "<table border=\"1\" class=\"dataframe\">\n",
       "  <thead>\n",
       "    <tr style=\"text-align: right;\">\n",
       "      <th></th>\n",
       "      <th>sample_an</th>\n",
       "      <th>backgrnd_int</th>\n",
       "    </tr>\n",
       "  </thead>\n",
       "  <tbody>\n",
       "    <tr>\n",
       "      <th>O13297</th>\n",
       "      <td>O13297</td>\n",
       "      <td>8.099335</td>\n",
       "    </tr>\n",
       "    <tr>\n",
       "      <th>O14467</th>\n",
       "      <td>O14467</td>\n",
       "      <td>9.870351</td>\n",
       "    </tr>\n",
       "    <tr>\n",
       "      <th>P00044</th>\n",
       "      <td>P00044</td>\n",
       "      <td>9.077332</td>\n",
       "    </tr>\n",
       "    <tr>\n",
       "      <th>P00330</th>\n",
       "      <td>P00330</td>\n",
       "      <td>10.669038</td>\n",
       "    </tr>\n",
       "    <tr>\n",
       "      <th>P00331</th>\n",
       "      <td>P00331</td>\n",
       "      <td>9.191870</td>\n",
       "    </tr>\n",
       "  </tbody>\n",
       "</table>\n",
       "</div>"
      ],
      "text/plain": [
       "       sample_an  backgrnd_int\n",
       "O13297    O13297      8.099335\n",
       "O14467    O14467      9.870351\n",
       "P00044    P00044      9.077332\n",
       "P00330    P00330     10.669038\n",
       "P00331    P00331      9.191870"
      ]
     },
     "execution_count": 17,
     "metadata": {},
     "output_type": "execute_result"
    }
   ],
   "source": [
    "ui.get_sample_an_int().head()"
   ]
  },
  {
   "cell_type": "code",
   "execution_count": 28,
   "metadata": {
    "collapsed": false
   },
   "outputs": [
    {
     "data": {
      "text/plain": [
       "(array([  5.07272769,   5.67320625,   6.2736848 ,   6.87416336,\n",
       "          7.47464191,   8.07512047,   8.67559903,   9.27607758,\n",
       "          9.87655614,  10.47703469,  11.07751325]),\n",
       " array([  3,   7,  36,  87, 147, 267, 248, 209,  95,  27]))"
      ]
     },
     "execution_count": 28,
     "metadata": {},
     "output_type": "execute_result"
    }
   ],
   "source": [
    "hist, bins = np.histogram(ui.get_sample_an_int()['backgrnd_int'], bins=10)\n",
    "bins, hist"
   ]
  },
  {
   "cell_type": "code",
   "execution_count": 29,
   "metadata": {
    "collapsed": false
   },
   "outputs": [
    {
     "data": {
      "text/plain": [
       "(10, 11)"
      ]
     },
     "execution_count": 29,
     "metadata": {},
     "output_type": "execute_result"
    }
   ],
   "source": [
    "len(hist), len(bins)"
   ]
  },
  {
   "cell_type": "code",
   "execution_count": 33,
   "metadata": {
    "collapsed": false
   },
   "outputs": [
    {
     "name": "stdout",
     "output_type": "stream",
     "text": [
      "3 5.07272769 5.673206246\n",
      "7 5.673206246 6.273684802\n",
      "36 6.273684802 6.874163358\n",
      "87 6.874163358 7.474641914\n",
      "147 7.474641914 8.07512047\n",
      "267 8.07512047 8.675599026\n",
      "248 8.675599026 9.276077582\n",
      "209 9.276077582 9.876556138\n",
      "95 9.876556138 10.477034694\n",
      "27 10.477034694 11.07751325\n"
     ]
    }
   ],
   "source": [
    "for index, his in enumerate(hist):    \n",
    "    print his, bins[index], bins[index+1]"
   ]
  },
  {
   "cell_type": "code",
   "execution_count": 36,
   "metadata": {
    "collapsed": false
   },
   "outputs": [],
   "source": [
    "lower = 5.07272769 \n",
    "upper = 5.673206246\n",
    "df = ui.get_background_an_int()"
   ]
  },
  {
   "cell_type": "code",
   "execution_count": 37,
   "metadata": {
    "collapsed": true
   },
   "outputs": [],
   "source": [
    "#cond = df['backgrnd_int'] > lower | df['backgrnd_int'] < upper"
   ]
  },
  {
   "cell_type": "code",
   "execution_count": 59,
   "metadata": {
    "collapsed": false
   },
   "outputs": [
    {
     "data": {
      "text/plain": [
       "['O14455',\n",
       " 'P00942',\n",
       " 'P04456',\n",
       " 'P05755',\n",
       " 'P0C0T4',\n",
       " 'P0CX31',\n",
       " 'P0CX37',\n",
       " 'P0CX45',\n",
       " 'P0CX55',\n",
       " 'P0CX84',\n",
       " 'P14540',\n",
       " 'P38061',\n",
       " 'Q3E754',\n",
       " 'Q3E7X9']"
      ]
     },
     "execution_count": 59,
     "metadata": {},
     "output_type": "execute_result"
    }
   ],
   "source": [
    "cond1 = df['backgrnd_int'] >= 10.5 \n",
    "cond2 = df['backgrnd_int'] < 10.6\n",
    "cond = cond1 & cond2\n",
    "cond = cond1 & cond2\n",
    "sorted(df.loc[cond, 'backgrnd_an'])"
   ]
  },
  {
   "cell_type": "code",
   "execution_count": 79,
   "metadata": {
    "collapsed": false
   },
   "outputs": [
    {
     "data": {
      "text/plain": [
       "array(['P14540', 'O14455', 'P0CX45', 'P05755', 'P04456', 'P38061',\n",
       "       'P05755', 'P0C0T4', 'P00942', 'Q3E754', 'P0C0T4', 'P38061',\n",
       "       'P38061', 'P0CX45', 'P0CX37', 'P0CX55', 'Q3E7X9', 'P04456',\n",
       "       'Q3E754', 'P0CX55'], dtype=object)"
      ]
     },
     "execution_count": 79,
     "metadata": {},
     "output_type": "execute_result"
    }
   ],
   "source": [
    "import random\n",
    "np.random.choice(df.loc[cond, 'backgrnd_an'], size=20, replace=True)"
   ]
  },
  {
   "cell_type": "code",
   "execution_count": 61,
   "metadata": {
    "collapsed": false
   },
   "outputs": [
    {
     "data": {
      "text/plain": [
       "['Q3E7X9',\n",
       " 'P0C0T4',\n",
       " 'P38061',\n",
       " 'P04456',\n",
       " 'P0CX84',\n",
       " 'P0CX55',\n",
       " 'O14455',\n",
       " 'P0CX37',\n",
       " 'P0CX31',\n",
       " 'Q3E754']"
      ]
     },
     "execution_count": 61,
     "metadata": {},
     "output_type": "execute_result"
    }
   ],
   "source": [
    "random.sample(df.loc[cond, 'backgrnd_an'], 10)"
   ]
  },
  {
   "cell_type": "code",
   "execution_count": 64,
   "metadata": {
    "collapsed": false
   },
   "outputs": [
    {
     "data": {
      "text/plain": [
       "'1.8.0rc1'"
      ]
     },
     "execution_count": 64,
     "metadata": {},
     "output_type": "execute_result"
    }
   ],
   "source": [
    "np.__version__"
   ]
  },
  {
   "cell_type": "code",
   "execution_count": 5,
   "metadata": {
    "collapsed": false
   },
   "outputs": [],
   "source": [
    "import goretriever\n",
    "import pandas as pd\n",
    "import numpy as np\n",
    "ui = goretriever.UserInput()\n",
    "ans_rand = ui.get_random_background_ans()"
   ]
  },
  {
   "cell_type": "code",
   "execution_count": 13,
   "metadata": {
    "collapsed": false
   },
   "outputs": [
    {
     "name": "stdout",
     "output_type": "stream",
     "text": [
      "1126\n",
      "1126\n",
      "1126\n"
     ]
    }
   ],
   "source": [
    "print len(ans_rand)\n",
    "print len(ui.get_study())\n",
    "print len(ui.get_sample_an_int())"
   ]
  },
  {
   "cell_type": "code",
   "execution_count": 14,
   "metadata": {
    "collapsed": false
   },
   "outputs": [
    {
     "name": "stdout",
     "output_type": "stream",
     "text": [
      "False\n",
      "False\n",
      "False\n"
     ]
    }
   ],
   "source": [
    "ans_rand1 = ui.get_random_background_ans()\n",
    "ans_rand2 = ui.get_random_background_ans()\n",
    "ans_rand3 = ui.get_random_background_ans()\n",
    "print ans_rand1 == ans_rand2\n",
    "print ans_rand1 == ans_rand3\n",
    "print ans_rand2 == ans_rand3"
   ]
  },
  {
   "cell_type": "code",
   "execution_count": 1,
   "metadata": {
    "collapsed": false
   },
   "outputs": [
    {
     "name": "stdout",
     "output_type": "stream",
     "text": [
      "1126\n",
      "931\n"
     ]
    }
   ],
   "source": [
    "import matplotlib.pyplot as plt\n",
    "import numpy as np\n",
    "# plot random background\n",
    "# against sample frequency\n",
    "\n",
    "import goretriever\n",
    "import pandas as pd\n",
    "import numpy as np\n",
    "ui = goretriever.UserInput()\n",
    "ans_rand = ui.get_random_background_ans(num_bins=100)\n",
    "\n",
    "\n",
    "num_bins = 100\n",
    "# sample in blue\n",
    "data = ui.get_sample_an_int()['backgrnd_int']\n",
    "print len(data)\n",
    "hist, bins = np.histogram(data, bins=num_bins)\n",
    "width = 0.7 * (bins[1] - bins[0])\n",
    "center = (bins[:-1] + bins[1:]) / 2\n",
    "plt.bar(center, hist, align='center', width=width, color='blue')\n",
    "# background in red\n",
    "df = ui.get_df()\n",
    "cond = df['backgrnd_an'].isin(ans_rand)\n",
    "data = df.loc[cond, 'backgrnd_int']\n",
    "print len(data)\n",
    "hist, bins = np.histogram(data, bins=num_bins)\n",
    "width = 0.7 * (bins[1] - bins[0])\n",
    "center = (bins[:-1] + bins[1:]) / 2\n",
    "plt.bar(center, hist, align='center', width=width, color='red')\n",
    "plt.show()"
   ]
  },
  {
   "cell_type": "code",
   "execution_count": null,
   "metadata": {
    "collapsed": true
   },
   "outputs": [],
   "source": []
  }
 ],
 "metadata": {
  "kernelspec": {
   "display_name": "Python 2",
   "language": "python",
   "name": "python2"
  },
  "language_info": {
   "codemirror_mode": {
    "name": "ipython",
    "version": 2
   },
   "file_extension": ".py",
   "mimetype": "text/x-python",
   "name": "python",
   "nbconvert_exporter": "python",
   "pygments_lexer": "ipython2",
   "version": "2.7.6"
  }
 },
 "nbformat": 4,
 "nbformat_minor": 0
}
