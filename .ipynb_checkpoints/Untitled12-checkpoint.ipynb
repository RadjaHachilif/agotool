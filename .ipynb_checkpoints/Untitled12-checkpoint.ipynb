{
 "cells": [
  {
   "cell_type": "code",
   "execution_count": 6,
   "metadata": {
    "collapsed": false
   },
   "outputs": [],
   "source": [
    "import pandas as pd\n",
    "import numpy as np"
   ]
  },
  {
   "cell_type": "code",
   "execution_count": 24,
   "metadata": {
    "collapsed": true
   },
   "outputs": [],
   "source": [
    "fn = r'/Users/dblyon/modules/cpr/goterm/agotool/static/data/exampledata/exampledata.txt'\n",
    "df=pd.read_csv(fn, sep='\\t', decimal='.')"
   ]
  },
  {
   "cell_type": "code",
   "execution_count": 8,
   "metadata": {
    "collapsed": false
   },
   "outputs": [
    {
     "data": {
      "text/html": [
       "<div style=\"max-height:1000px;max-width:1500px;overflow:auto;\">\n",
       "<table border=\"1\" class=\"dataframe\">\n",
       "  <thead>\n",
       "    <tr style=\"text-align: right;\">\n",
       "      <th></th>\n",
       "      <th>population_int</th>\n",
       "      <th>population_an</th>\n",
       "      <th>sample_an</th>\n",
       "    </tr>\n",
       "  </thead>\n",
       "  <tbody>\n",
       "    <tr>\n",
       "      <th>0</th>\n",
       "      <td>11,07751325</td>\n",
       "      <td>P00359</td>\n",
       "      <td>P40545</td>\n",
       "    </tr>\n",
       "    <tr>\n",
       "      <th>1</th>\n",
       "      <td>10,96978388</td>\n",
       "      <td>P00925</td>\n",
       "      <td>P09201</td>\n",
       "    </tr>\n",
       "    <tr>\n",
       "      <th>2</th>\n",
       "      <td>10,76849751</td>\n",
       "      <td>P02994</td>\n",
       "      <td>P14066</td>\n",
       "    </tr>\n",
       "    <tr>\n",
       "      <th>3</th>\n",
       "      <td>10,74716312</td>\n",
       "      <td>P06169</td>\n",
       "      <td>P25040</td>\n",
       "    </tr>\n",
       "    <tr>\n",
       "      <th>4</th>\n",
       "      <td>10,74614359</td>\n",
       "      <td>P00560</td>\n",
       "      <td>P20050</td>\n",
       "    </tr>\n",
       "  </tbody>\n",
       "</table>\n",
       "</div>"
      ],
      "text/plain": [
       "  population_int population_an sample_an\n",
       "0    11,07751325        P00359    P40545\n",
       "1    10,96978388        P00925    P09201\n",
       "2    10,76849751        P02994    P14066\n",
       "3    10,74716312        P06169    P25040\n",
       "4    10,74614359        P00560    P20050"
      ]
     },
     "execution_count": 8,
     "metadata": {},
     "output_type": "execute_result"
    }
   ],
   "source": [
    "df.head()"
   ]
  },
  {
   "cell_type": "code",
   "execution_count": null,
   "metadata": {
    "collapsed": true
   },
   "outputs": [],
   "source": [
    "np.histogram(df['population_int'], bins=10)"
   ]
  },
  {
   "cell_type": "code",
   "execution_count": 26,
   "metadata": {
    "collapsed": true
   },
   "outputs": [],
   "source": [
    "def check_userinput(userinput_fh, decimal, abcorr):\n",
    "    df = pd.read_csv(userinput_fh, sep='\\t', decimal=decimal)\n",
    "    userinput_fh.seek(0)\n",
    "    if abcorr:\n",
    "        if ['population_an', 'population_int', 'sample_an'] == sorted(df.columns.tolist()):\n",
    "            try:\n",
    "                np.histogram(df['population_int'], bins=10)\n",
    "            except TypeError:\n",
    "                return False\n",
    "            return True\n",
    "    else:\n",
    "        if ['population_an', 'sample_an'] == sorted(df.columns.tolist()):\n",
    "            return True\n",
    "    return False"
   ]
  },
  {
   "cell_type": "code",
   "execution_count": 29,
   "metadata": {
    "collapsed": false
   },
   "outputs": [
    {
     "data": {
      "text/plain": [
       "False"
      ]
     },
     "execution_count": 29,
     "metadata": {},
     "output_type": "execute_result"
    }
   ],
   "source": [
    "userinput_fh = open(fn, 'r')\n",
    "decimal = '.'\n",
    "abcorr = True\n",
    "check_userinput(userinput_fh, decimal, abcorr)"
   ]
  },
  {
   "cell_type": "code",
   "execution_count": 32,
   "metadata": {
    "collapsed": true
   },
   "outputs": [],
   "source": [
    "from wtforms import Form, TextField, validators, fields"
   ]
  },
  {
   "cell_type": "code",
   "execution_count": 33,
   "metadata": {
    "collapsed": false
   },
   "outputs": [],
   "source": [
    "class Enrichment_Form(Form):\n",
    "    alpha = fields.FloatField(\"Alpha\", \n",
    "                              default = 0.05,\n",
    "                              description=u\"for multiple testing correction\",\n",
    "                             [validators.text_type])"
   ]
  },
  {
   "cell_type": "code",
   "execution_count": 34,
   "metadata": {
    "collapsed": true
   },
   "outputs": [],
   "source": [
    "form = Enrichment_Form()"
   ]
  },
  {
   "cell_type": "code",
   "execution_count": 38,
   "metadata": {
    "collapsed": false
   },
   "outputs": [
    {
     "data": {
      "text/plain": [
       "0.05"
      ]
     },
     "execution_count": 38,
     "metadata": {},
     "output_type": "execute_result"
    }
   ],
   "source": [
    "form.alpha.data"
   ]
  },
  {
   "cell_type": "code",
   "execution_count": 39,
   "metadata": {
    "collapsed": false
   },
   "outputs": [
    {
     "data": {
      "text/plain": [
       "True"
      ]
     },
     "execution_count": 39,
     "metadata": {},
     "output_type": "execute_result"
    }
   ],
   "source": [
    "form.validate()"
   ]
  },
  {
   "cell_type": "code",
   "execution_count": 40,
   "metadata": {
    "collapsed": false
   },
   "outputs": [
    {
     "data": {
      "text/plain": [
       "True"
      ]
     },
     "execution_count": 40,
     "metadata": {},
     "output_type": "execute_result"
    }
   ],
   "source": [
    "alpha = 0.01\n",
    "0 < alpha < 1"
   ]
  },
  {
   "cell_type": "code",
   "execution_count": null,
   "metadata": {
    "collapsed": true
   },
   "outputs": [],
   "source": []
  }
 ],
 "metadata": {
  "kernelspec": {
   "display_name": "Python 2",
   "language": "python",
   "name": "python2"
  },
  "language_info": {
   "codemirror_mode": {
    "name": "ipython",
    "version": 2
   },
   "file_extension": ".py",
   "mimetype": "text/x-python",
   "name": "python",
   "nbconvert_exporter": "python",
   "pygments_lexer": "ipython2",
   "version": "2.7.6"
  }
 },
 "nbformat": 4,
 "nbformat_minor": 0
}
