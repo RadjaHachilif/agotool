{
 "cells": [
  {
   "cell_type": "code",
   "execution_count": 2,
   "metadata": {
    "collapsed": true
   },
   "outputs": [],
   "source": [
    "import pandas as pd"
   ]
  },
  {
   "cell_type": "code",
   "execution_count": 3,
   "metadata": {
    "collapsed": false
   },
   "outputs": [],
   "source": [
    "fn = r'/Users/dbl/CloudStation/CPR/Brian_GO/alldata/Data_for_web_tool_HeLa_v2.txt'\n",
    "df_orig = pd.read_csv(fn, sep='\\t', decimal=',')"
   ]
  },
  {
   "cell_type": "code",
   "execution_count": 4,
   "metadata": {
    "collapsed": false
   },
   "outputs": [
    {
     "data": {
      "text/html": [
       "<div style=\"max-height:1000px;max-width:1500px;overflow:auto;\">\n",
       "<table border=\"1\" class=\"dataframe\">\n",
       "  <thead>\n",
       "    <tr style=\"text-align: right;\">\n",
       "      <th></th>\n",
       "      <th>Genome</th>\n",
       "      <th>iBAQ observed (log10)</th>\n",
       "      <th>Observed Proteome</th>\n",
       "      <th>Phos</th>\n",
       "      <th>Ubi</th>\n",
       "      <th>Acetyl</th>\n",
       "      <th>Succinyl</th>\n",
       "    </tr>\n",
       "  </thead>\n",
       "  <tbody>\n",
       "    <tr>\n",
       "      <th>0</th>\n",
       "      <td>P31946</td>\n",
       "      <td>11.014521</td>\n",
       "      <td>P62805</td>\n",
       "      <td>Q9UHI6</td>\n",
       "      <td>Q01469</td>\n",
       "      <td>P18583</td>\n",
       "      <td>Q4AC94</td>\n",
       "    </tr>\n",
       "    <tr>\n",
       "      <th>1</th>\n",
       "      <td>P62258</td>\n",
       "      <td>10.902514</td>\n",
       "      <td>P0C0S8;P20671;Q6FI13;Q16777;Q9BTM1;Q96KK5;Q998...</td>\n",
       "      <td>Q13075</td>\n",
       "      <td>J3QRK5</td>\n",
       "      <td>Q15596</td>\n",
       "      <td>P83111</td>\n",
       "    </tr>\n",
       "    <tr>\n",
       "      <th>2</th>\n",
       "      <td>Q04917</td>\n",
       "      <td>10.886417</td>\n",
       "      <td>Q71DI3</td>\n",
       "      <td>A6NDB9</td>\n",
       "      <td>Q9BXW9</td>\n",
       "      <td>Q04637</td>\n",
       "      <td>P83111</td>\n",
       "    </tr>\n",
       "    <tr>\n",
       "      <th>3</th>\n",
       "      <td>P61981</td>\n",
       "      <td>10.862876</td>\n",
       "      <td>P63261;I3L4N8;I3L1U9;I3L3I0</td>\n",
       "      <td>Q9UHI6</td>\n",
       "      <td>Q6W2J9</td>\n",
       "      <td>O15228</td>\n",
       "      <td>O15228</td>\n",
       "    </tr>\n",
       "    <tr>\n",
       "      <th>4</th>\n",
       "      <td>P31947</td>\n",
       "      <td>10.841628</td>\n",
       "      <td>P04406;P04406-2;E7EUT5</td>\n",
       "      <td>A6NFR9</td>\n",
       "      <td>J3QRK5</td>\n",
       "      <td>P01106</td>\n",
       "      <td>Q9BXM0</td>\n",
       "    </tr>\n",
       "  </tbody>\n",
       "</table>\n",
       "</div>"
      ],
      "text/plain": [
       "   Genome  iBAQ observed (log10)  \\\n",
       "0  P31946              11.014521   \n",
       "1  P62258              10.902514   \n",
       "2  Q04917              10.886417   \n",
       "3  P61981              10.862876   \n",
       "4  P31947              10.841628   \n",
       "\n",
       "                                   Observed Proteome    Phos     Ubi  Acetyl  \\\n",
       "0                                             P62805  Q9UHI6  Q01469  P18583   \n",
       "1  P0C0S8;P20671;Q6FI13;Q16777;Q9BTM1;Q96KK5;Q998...  Q13075  J3QRK5  Q15596   \n",
       "2                                             Q71DI3  A6NDB9  Q9BXW9  Q04637   \n",
       "3                        P63261;I3L4N8;I3L1U9;I3L3I0  Q9UHI6  Q6W2J9  O15228   \n",
       "4                             P04406;P04406-2;E7EUT5  A6NFR9  J3QRK5  P01106   \n",
       "\n",
       "  Succinyl  \n",
       "0   Q4AC94  \n",
       "1   P83111  \n",
       "2   P83111  \n",
       "3   O15228  \n",
       "4   Q9BXM0  "
      ]
     },
     "execution_count": 4,
     "metadata": {},
     "output_type": "execute_result"
    }
   ],
   "source": [
    "df_orig.head()"
   ]
  },
  {
   "cell_type": "code",
   "execution_count": 5,
   "metadata": {
    "collapsed": true
   },
   "outputs": [],
   "source": [
    "df = df_orig.loc[0:5, ].copy()"
   ]
  },
  {
   "cell_type": "code",
   "execution_count": 6,
   "metadata": {
    "collapsed": false
   },
   "outputs": [
    {
     "data": {
      "text/html": [
       "<div style=\"max-height:1000px;max-width:1500px;overflow:auto;\">\n",
       "<table border=\"1\" class=\"dataframe\">\n",
       "  <thead>\n",
       "    <tr style=\"text-align: right;\">\n",
       "      <th></th>\n",
       "      <th>Genome</th>\n",
       "      <th>iBAQ observed (log10)</th>\n",
       "      <th>Observed Proteome</th>\n",
       "      <th>Phos</th>\n",
       "      <th>Ubi</th>\n",
       "      <th>Acetyl</th>\n",
       "      <th>Succinyl</th>\n",
       "    </tr>\n",
       "  </thead>\n",
       "  <tbody>\n",
       "    <tr>\n",
       "      <th>0</th>\n",
       "      <td>P31946</td>\n",
       "      <td>11.014521</td>\n",
       "      <td>P62805</td>\n",
       "      <td>P62805</td>\n",
       "      <td>Q01469</td>\n",
       "      <td>P18583</td>\n",
       "      <td>Q4AC94</td>\n",
       "    </tr>\n",
       "    <tr>\n",
       "      <th>1</th>\n",
       "      <td>P62258</td>\n",
       "      <td>10.902514</td>\n",
       "      <td>P0C0S8;P20671;Q6FI13;Q16777;Q9BTM1;Q96KK5;Q998...</td>\n",
       "      <td>bubu</td>\n",
       "      <td>J3QRK5</td>\n",
       "      <td>Q15596</td>\n",
       "      <td>P83111</td>\n",
       "    </tr>\n",
       "    <tr>\n",
       "      <th>2</th>\n",
       "      <td>Q04917</td>\n",
       "      <td>10.886417</td>\n",
       "      <td>Q71DI3-10</td>\n",
       "      <td>Q71DI3</td>\n",
       "      <td>Q9BXW9</td>\n",
       "      <td>Q04637</td>\n",
       "      <td>P83111</td>\n",
       "    </tr>\n",
       "    <tr>\n",
       "      <th>3</th>\n",
       "      <td>P61981</td>\n",
       "      <td>10.862876</td>\n",
       "      <td>P63261;I3L4N8;I3L1U9;I3L3I0</td>\n",
       "      <td>P63261;I3L4N8;I3L1U9;I3L3I0</td>\n",
       "      <td>Q6W2J9</td>\n",
       "      <td>O15228</td>\n",
       "      <td>O15228</td>\n",
       "    </tr>\n",
       "    <tr>\n",
       "      <th>4</th>\n",
       "      <td>P31947</td>\n",
       "      <td>10.841628</td>\n",
       "      <td>P04406;P04406-2;E7EUT5</td>\n",
       "      <td>bubu</td>\n",
       "      <td>J3QRK5</td>\n",
       "      <td>P01106</td>\n",
       "      <td>Q9BXM0</td>\n",
       "    </tr>\n",
       "    <tr>\n",
       "      <th>5</th>\n",
       "      <td>P27348</td>\n",
       "      <td>10.775217</td>\n",
       "      <td>P58876;U3KQK0;O60814;P57053;P62807;Q99877;Q998...</td>\n",
       "      <td>Q71DI3-8</td>\n",
       "      <td>Q9UKA4</td>\n",
       "      <td>O14686</td>\n",
       "      <td>Q9NVV4</td>\n",
       "    </tr>\n",
       "  </tbody>\n",
       "</table>\n",
       "</div>"
      ],
      "text/plain": [
       "   Genome  iBAQ observed (log10)  \\\n",
       "0  P31946              11.014521   \n",
       "1  P62258              10.902514   \n",
       "2  Q04917              10.886417   \n",
       "3  P61981              10.862876   \n",
       "4  P31947              10.841628   \n",
       "5  P27348              10.775217   \n",
       "\n",
       "                                   Observed Proteome  \\\n",
       "0                                             P62805   \n",
       "1  P0C0S8;P20671;Q6FI13;Q16777;Q9BTM1;Q96KK5;Q998...   \n",
       "2                                          Q71DI3-10   \n",
       "3                        P63261;I3L4N8;I3L1U9;I3L3I0   \n",
       "4                             P04406;P04406-2;E7EUT5   \n",
       "5  P58876;U3KQK0;O60814;P57053;P62807;Q99877;Q998...   \n",
       "\n",
       "                          Phos     Ubi  Acetyl Succinyl  \n",
       "0                       P62805  Q01469  P18583   Q4AC94  \n",
       "1                         bubu  J3QRK5  Q15596   P83111  \n",
       "2                       Q71DI3  Q9BXW9  Q04637   P83111  \n",
       "3  P63261;I3L4N8;I3L1U9;I3L3I0  Q6W2J9  O15228   O15228  \n",
       "4                         bubu  J3QRK5  P01106   Q9BXM0  \n",
       "5                     Q71DI3-8  Q9UKA4  O14686   Q9NVV4  "
      ]
     },
     "execution_count": 6,
     "metadata": {},
     "output_type": "execute_result"
    }
   ],
   "source": [
    "df.loc[:, 'Phos'] = 'bubu'\n",
    "df.loc[0, 'Phos'] = 'P62805'\n",
    "df.loc[2, 'Phos'] = 'Q71DI3'\n",
    "df.loc[3, 'Phos'] = 'P63261;I3L4N8;I3L1U9;I3L3I0'\n",
    "df.loc[2, 'Observed Proteome'] = 'Q71DI3-10'\n",
    "df.loc[5, 'Phos'] = 'Q71DI3-8'\n",
    "df"
   ]
  },
  {
   "cell_type": "code",
   "execution_count": 7,
   "metadata": {
    "collapsed": true
   },
   "outputs": [],
   "source": [
    "df.to_csv('UserInput_test_ProteinGroups.txt', sep='\\t', index=False, header=True, decimal='.)')"
   ]
  },
  {
   "cell_type": "code",
   "execution_count": 8,
   "metadata": {
    "collapsed": true
   },
   "outputs": [],
   "source": [
    "def removeSpliceVariants_splitProteinGrous_Series(series):\n",
    "    '''\n",
    "    remove splice variant appendix from AccessionNumbers (if present) P04406-2 --> P04406\n",
    "    split AccessionNumber column into mulitple rows P63261;I3L4N8;I3L1U9;I3L3I0 --> 4 rows of values\n",
    "    :param series: PandasSeries\n",
    "    :return: Series\n",
    "    '''\n",
    "    list2return = []\n",
    "    templist = []\n",
    "    for ele in series:\n",
    "        templist += ele.split(';')\n",
    "    for ele in templist:\n",
    "        ele_split = ele.split('-')\n",
    "        if len(ele_split) > 1:\n",
    "            list2return.append(ele_split[0])\n",
    "        else:\n",
    "            list2return.append(ele)\n",
    "    return pd.Series(list2return, name = series.name)"
   ]
  },
  {
   "cell_type": "code",
   "execution_count": 9,
   "metadata": {
    "collapsed": false
   },
   "outputs": [
    {
     "data": {
      "text/html": [
       "<div style=\"max-height:1000px;max-width:1500px;overflow:auto;\">\n",
       "<table border=\"1\" class=\"dataframe\">\n",
       "  <thead>\n",
       "    <tr style=\"text-align: right;\">\n",
       "      <th></th>\n",
       "      <th>iBAQ observed (log10)</th>\n",
       "      <th>Observed Proteome</th>\n",
       "    </tr>\n",
       "  </thead>\n",
       "  <tbody>\n",
       "    <tr>\n",
       "      <th>0</th>\n",
       "      <td>11.014521</td>\n",
       "      <td>P62805</td>\n",
       "    </tr>\n",
       "    <tr>\n",
       "      <th>1</th>\n",
       "      <td>10.902514</td>\n",
       "      <td>P0C0S8;P20671;Q6FI13;Q16777;Q9BTM1;Q96KK5;Q998...</td>\n",
       "    </tr>\n",
       "    <tr>\n",
       "      <th>2</th>\n",
       "      <td>10.886417</td>\n",
       "      <td>Q71DI3-10</td>\n",
       "    </tr>\n",
       "    <tr>\n",
       "      <th>3</th>\n",
       "      <td>10.862876</td>\n",
       "      <td>P63261;I3L4N8;I3L1U9;I3L3I0</td>\n",
       "    </tr>\n",
       "    <tr>\n",
       "      <th>4</th>\n",
       "      <td>10.841628</td>\n",
       "      <td>P04406;P04406-2;E7EUT5</td>\n",
       "    </tr>\n",
       "    <tr>\n",
       "      <th>5</th>\n",
       "      <td>10.775217</td>\n",
       "      <td>P58876;U3KQK0;O60814;P57053;P62807;Q99877;Q998...</td>\n",
       "    </tr>\n",
       "  </tbody>\n",
       "</table>\n",
       "</div>"
      ],
      "text/plain": [
       "   iBAQ observed (log10)                                  Observed Proteome\n",
       "0              11.014521                                             P62805\n",
       "1              10.902514  P0C0S8;P20671;Q6FI13;Q16777;Q9BTM1;Q96KK5;Q998...\n",
       "2              10.886417                                          Q71DI3-10\n",
       "3              10.862876                        P63261;I3L4N8;I3L1U9;I3L3I0\n",
       "4              10.841628                             P04406;P04406-2;E7EUT5\n",
       "5              10.775217  P58876;U3KQK0;O60814;P57053;P62807;Q99877;Q998..."
      ]
     },
     "execution_count": 9,
     "metadata": {},
     "output_type": "execute_result"
    }
   ],
   "source": [
    "dft = df[['iBAQ observed (log10)', 'Observed Proteome']]\n",
    "dft"
   ]
  },
  {
   "cell_type": "code",
   "execution_count": 10,
   "metadata": {
    "collapsed": true
   },
   "outputs": [],
   "source": [
    "def removeSpliceVariants_splitProteinGrous_DataFrame(dataframe):\n",
    "    '''\n",
    "    remove splice variant appendix from AccessionNumbers (if present) P04406-2 --> P04406\n",
    "    split AccessionNumber column into mulitple rows P63261;I3L4N8;I3L1U9;I3L3I0 --> 4 rows of values\n",
    "    copy abundance data when adding rows\n",
    "    :param series: PandasDataFrame\n",
    "    :return: Series\n",
    "    '''\n",
    "    colname_an = 'Observed Proteome'\n",
    "    colname_int = 'iBAQ observed (log10)'\n",
    "    df_new = splitProteinGroups_DataFrame(dataframe, colname_an, colname_int)\n",
    "    return removeSpliceVariants_DataFrame(df_new, colname_an, colname_int)"
   ]
  },
  {
   "cell_type": "code",
   "execution_count": 11,
   "metadata": {
    "collapsed": false
   },
   "outputs": [],
   "source": [
    "def splitProteinGroups_DataFrame(dataframe, colname_an, colname_int):\n",
    "    ans2write_list = []\n",
    "    int2write_list = []\n",
    "    iterrows = dataframe[[colname_an, colname_int]].iterrows()\n",
    "    for row in iterrows:\n",
    "        index = row[0]\n",
    "        int_val = dataframe.loc[index, colname_int]\n",
    "        ans_row = row[1][colname_an]\n",
    "        ans_split_semicol = ans_row.split(';')\n",
    "        len_ans_split_semicol = len(ans_split_semicol)\n",
    "        if len_ans_split_semicol > 1:\n",
    "            ans2write_list += ans_split_semicol            \n",
    "            int2write_list += [int_val] * len_ans_split_semicol\n",
    "        else:\n",
    "            ans2write_list.append(ans_row)\n",
    "            int2write_list.append(int_val)\n",
    "    return pd.DataFrame({colname_an: ans2write_list, colname_int: int2write_list})"
   ]
  },
  {
   "cell_type": "code",
   "execution_count": 12,
   "metadata": {
    "collapsed": false
   },
   "outputs": [],
   "source": [
    "def removeSpliceVariants_DataFrame(dataframe, colname_an, colname_int):\n",
    "    iterrows = dataframe[[colname_an, colname_int]].iterrows()\n",
    "    for row in iterrows:\n",
    "        index = row[0]\n",
    "        an_row = row[1][colname_an]\n",
    "        an_split_minus = an_row.split('-')\n",
    "        len_an_split_minus = len(an_split_minus)\n",
    "        if len_an_split_minus > 1:\n",
    "            dataframe.loc[index, colname_an] = an_split_minus[0]\n",
    "    return dataframe"
   ]
  },
  {
   "cell_type": "code",
   "execution_count": 13,
   "metadata": {
    "collapsed": false
   },
   "outputs": [
    {
     "data": {
      "text/html": [
       "<div style=\"max-height:1000px;max-width:1500px;overflow:auto;\">\n",
       "<table border=\"1\" class=\"dataframe\">\n",
       "  <thead>\n",
       "    <tr style=\"text-align: right;\">\n",
       "      <th></th>\n",
       "      <th>Observed Proteome</th>\n",
       "      <th>iBAQ observed (log10)</th>\n",
       "    </tr>\n",
       "  </thead>\n",
       "  <tbody>\n",
       "    <tr>\n",
       "      <th>0</th>\n",
       "      <td>P62805</td>\n",
       "      <td>11.014521</td>\n",
       "    </tr>\n",
       "    <tr>\n",
       "      <th>1</th>\n",
       "      <td>P0C0S8</td>\n",
       "      <td>10.902514</td>\n",
       "    </tr>\n",
       "    <tr>\n",
       "      <th>2</th>\n",
       "      <td>P20671</td>\n",
       "      <td>10.902514</td>\n",
       "    </tr>\n",
       "    <tr>\n",
       "      <th>3</th>\n",
       "      <td>Q6FI13</td>\n",
       "      <td>10.902514</td>\n",
       "    </tr>\n",
       "    <tr>\n",
       "      <th>4</th>\n",
       "      <td>Q16777</td>\n",
       "      <td>10.902514</td>\n",
       "    </tr>\n",
       "    <tr>\n",
       "      <th>5</th>\n",
       "      <td>Q9BTM1</td>\n",
       "      <td>10.902514</td>\n",
       "    </tr>\n",
       "    <tr>\n",
       "      <th>6</th>\n",
       "      <td>Q96KK5</td>\n",
       "      <td>10.902514</td>\n",
       "    </tr>\n",
       "    <tr>\n",
       "      <th>7</th>\n",
       "      <td>Q99878</td>\n",
       "      <td>10.902514</td>\n",
       "    </tr>\n",
       "    <tr>\n",
       "      <th>8</th>\n",
       "      <td>H0YFX9</td>\n",
       "      <td>10.902514</td>\n",
       "    </tr>\n",
       "    <tr>\n",
       "      <th>9</th>\n",
       "      <td>P04908</td>\n",
       "      <td>10.902514</td>\n",
       "    </tr>\n",
       "    <tr>\n",
       "      <th>10</th>\n",
       "      <td>Q7L7L0</td>\n",
       "      <td>10.902514</td>\n",
       "    </tr>\n",
       "    <tr>\n",
       "      <th>11</th>\n",
       "      <td>Q93077</td>\n",
       "      <td>10.902514</td>\n",
       "    </tr>\n",
       "    <tr>\n",
       "      <th>12</th>\n",
       "      <td>Q9BTM1</td>\n",
       "      <td>10.902514</td>\n",
       "    </tr>\n",
       "    <tr>\n",
       "      <th>13</th>\n",
       "      <td>Q71DI3</td>\n",
       "      <td>10.886417</td>\n",
       "    </tr>\n",
       "    <tr>\n",
       "      <th>14</th>\n",
       "      <td>P63261</td>\n",
       "      <td>10.862876</td>\n",
       "    </tr>\n",
       "    <tr>\n",
       "      <th>15</th>\n",
       "      <td>I3L4N8</td>\n",
       "      <td>10.862876</td>\n",
       "    </tr>\n",
       "    <tr>\n",
       "      <th>16</th>\n",
       "      <td>I3L1U9</td>\n",
       "      <td>10.862876</td>\n",
       "    </tr>\n",
       "    <tr>\n",
       "      <th>17</th>\n",
       "      <td>I3L3I0</td>\n",
       "      <td>10.862876</td>\n",
       "    </tr>\n",
       "    <tr>\n",
       "      <th>18</th>\n",
       "      <td>P04406</td>\n",
       "      <td>10.841628</td>\n",
       "    </tr>\n",
       "    <tr>\n",
       "      <th>19</th>\n",
       "      <td>P04406</td>\n",
       "      <td>10.841628</td>\n",
       "    </tr>\n",
       "    <tr>\n",
       "      <th>20</th>\n",
       "      <td>E7EUT5</td>\n",
       "      <td>10.841628</td>\n",
       "    </tr>\n",
       "    <tr>\n",
       "      <th>21</th>\n",
       "      <td>P58876</td>\n",
       "      <td>10.775217</td>\n",
       "    </tr>\n",
       "    <tr>\n",
       "      <th>22</th>\n",
       "      <td>U3KQK0</td>\n",
       "      <td>10.775217</td>\n",
       "    </tr>\n",
       "    <tr>\n",
       "      <th>23</th>\n",
       "      <td>O60814</td>\n",
       "      <td>10.775217</td>\n",
       "    </tr>\n",
       "    <tr>\n",
       "      <th>24</th>\n",
       "      <td>P57053</td>\n",
       "      <td>10.775217</td>\n",
       "    </tr>\n",
       "    <tr>\n",
       "      <th>25</th>\n",
       "      <td>P62807</td>\n",
       "      <td>10.775217</td>\n",
       "    </tr>\n",
       "    <tr>\n",
       "      <th>26</th>\n",
       "      <td>Q99877</td>\n",
       "      <td>10.775217</td>\n",
       "    </tr>\n",
       "    <tr>\n",
       "      <th>27</th>\n",
       "      <td>Q99879</td>\n",
       "      <td>10.775217</td>\n",
       "    </tr>\n",
       "    <tr>\n",
       "      <th>28</th>\n",
       "      <td>Q99880</td>\n",
       "      <td>10.775217</td>\n",
       "    </tr>\n",
       "  </tbody>\n",
       "</table>\n",
       "</div>"
      ],
      "text/plain": [
       "   Observed Proteome  iBAQ observed (log10)\n",
       "0             P62805              11.014521\n",
       "1             P0C0S8              10.902514\n",
       "2             P20671              10.902514\n",
       "3             Q6FI13              10.902514\n",
       "4             Q16777              10.902514\n",
       "5             Q9BTM1              10.902514\n",
       "6             Q96KK5              10.902514\n",
       "7             Q99878              10.902514\n",
       "8             H0YFX9              10.902514\n",
       "9             P04908              10.902514\n",
       "10            Q7L7L0              10.902514\n",
       "11            Q93077              10.902514\n",
       "12            Q9BTM1              10.902514\n",
       "13            Q71DI3              10.886417\n",
       "14            P63261              10.862876\n",
       "15            I3L4N8              10.862876\n",
       "16            I3L1U9              10.862876\n",
       "17            I3L3I0              10.862876\n",
       "18            P04406              10.841628\n",
       "19            P04406              10.841628\n",
       "20            E7EUT5              10.841628\n",
       "21            P58876              10.775217\n",
       "22            U3KQK0              10.775217\n",
       "23            O60814              10.775217\n",
       "24            P57053              10.775217\n",
       "25            P62807              10.775217\n",
       "26            Q99877              10.775217\n",
       "27            Q99879              10.775217\n",
       "28            Q99880              10.775217"
      ]
     },
     "execution_count": 13,
     "metadata": {},
     "output_type": "execute_result"
    }
   ],
   "source": [
    "removeSpliceVariants_splitProteinGrous_DataFrame(dft)"
   ]
  },
  {
   "cell_type": "code",
   "execution_count": 14,
   "metadata": {
    "collapsed": false
   },
   "outputs": [
    {
     "data": {
      "text/html": [
       "<div style=\"max-height:1000px;max-width:1500px;overflow:auto;\">\n",
       "<table border=\"1\" class=\"dataframe\">\n",
       "  <thead>\n",
       "    <tr style=\"text-align: right;\">\n",
       "      <th></th>\n",
       "      <th>iBAQ observed (log10)</th>\n",
       "      <th>Observed Proteome</th>\n",
       "    </tr>\n",
       "  </thead>\n",
       "  <tbody>\n",
       "    <tr>\n",
       "      <th>0</th>\n",
       "      <td>11.014521</td>\n",
       "      <td>P62805</td>\n",
       "    </tr>\n",
       "    <tr>\n",
       "      <th>1</th>\n",
       "      <td>10.902514</td>\n",
       "      <td>P0C0S8;P20671;Q6FI13;Q16777;Q9BTM1;Q96KK5;Q998...</td>\n",
       "    </tr>\n",
       "    <tr>\n",
       "      <th>2</th>\n",
       "      <td>10.886417</td>\n",
       "      <td>Q71DI3-10</td>\n",
       "    </tr>\n",
       "    <tr>\n",
       "      <th>3</th>\n",
       "      <td>10.862876</td>\n",
       "      <td>P63261;I3L4N8;I3L1U9;I3L3I0</td>\n",
       "    </tr>\n",
       "    <tr>\n",
       "      <th>4</th>\n",
       "      <td>10.841628</td>\n",
       "      <td>P04406;P04406-2;E7EUT5</td>\n",
       "    </tr>\n",
       "    <tr>\n",
       "      <th>5</th>\n",
       "      <td>10.775217</td>\n",
       "      <td>P58876;U3KQK0;O60814;P57053;P62807;Q99877;Q998...</td>\n",
       "    </tr>\n",
       "  </tbody>\n",
       "</table>\n",
       "</div>"
      ],
      "text/plain": [
       "   iBAQ observed (log10)                                  Observed Proteome\n",
       "0              11.014521                                             P62805\n",
       "1              10.902514  P0C0S8;P20671;Q6FI13;Q16777;Q9BTM1;Q96KK5;Q998...\n",
       "2              10.886417                                          Q71DI3-10\n",
       "3              10.862876                        P63261;I3L4N8;I3L1U9;I3L3I0\n",
       "4              10.841628                             P04406;P04406-2;E7EUT5\n",
       "5              10.775217  P58876;U3KQK0;O60814;P57053;P62807;Q99877;Q998..."
      ]
     },
     "execution_count": 14,
     "metadata": {},
     "output_type": "execute_result"
    }
   ],
   "source": [
    "dft"
   ]
  },
  {
   "cell_type": "code",
   "execution_count": 15,
   "metadata": {
    "collapsed": true
   },
   "outputs": [],
   "source": [
    "def concat_and_align_sample_and_background(sample_ser, background_df):\n",
    "    '''\n",
    "    expects a Series and a DataFrames each containing a column with non-redundant\n",
    "    AccessionNumbers, concatenate by producing the union and aligning the ANs in rows\n",
    "    :param sample_ser: Pandas.Series\n",
    "    :param background_df: Pandas.DataFrame\n",
    "    :return: DataFrame\n",
    "    '''\n",
    "    col_background_an = 'Observed Proteome'\n",
    "    sample_ser.index = sample_ser.tolist()\n",
    "    background_df.index = background_df[col_background_an].tolist()\n",
    "    return pd.concat([sample_ser, background_df], axis=1)"
   ]
  },
  {
   "cell_type": "code",
   "execution_count": 23,
   "metadata": {
    "collapsed": false
   },
   "outputs": [],
   "source": [
    "sample_ser = removeSpliceVariants_splitProteinGrous_Series(df['Phos'])\n",
    "background_df = removeSpliceVariants_splitProteinGrous_DataFrame(dft)"
   ]
  },
  {
   "cell_type": "code",
   "execution_count": 17,
   "metadata": {
    "collapsed": false
   },
   "outputs": [
    {
     "name": "stdout",
     "output_type": "stream",
     "text": [
      "0    P62805\n",
      "1      bubu\n",
      "2    Q71DI3\n",
      "3    P63261\n",
      "4    I3L4N8\n",
      "5    I3L1U9\n",
      "6    I3L3I0\n",
      "7      bubu\n",
      "8    Q71DI3\n",
      "Name: Phos, dtype: object\n",
      "\n",
      "  Observed Proteome  iBAQ observed (log10)\n",
      "0            P62805              11.014521\n",
      "1            P0C0S8              10.902514\n",
      "2            P20671              10.902514\n",
      "3            Q6FI13              10.902514\n",
      "4            Q16777              10.902514\n",
      "5            Q9BTM1              10.902514\n",
      "6            Q96KK5              10.902514\n",
      "7            Q99878              10.902514\n",
      "8            H0YFX9              10.902514\n"
     ]
    }
   ],
   "source": [
    "#dft\n",
    "sample_ser, background_df\n",
    "back = background_df.loc[0:8,]\n",
    "print sample_ser\n",
    "print\n",
    "print back"
   ]
  },
  {
   "cell_type": "code",
   "execution_count": 18,
   "metadata": {
    "collapsed": false
   },
   "outputs": [],
   "source": [
    "col_background_an = 'Observed Proteome'"
   ]
  },
  {
   "cell_type": "code",
   "execution_count": 34,
   "metadata": {
    "collapsed": false
   },
   "outputs": [
    {
     "name": "stdout",
     "output_type": "stream",
     "text": [
      "P62805    P62805\n",
      "bubu        bubu\n",
      "Q71DI3    Q71DI3\n",
      "P63261    P63261\n",
      "I3L4N8    I3L4N8\n",
      "I3L1U9    I3L1U9\n",
      "I3L3I0    I3L3I0\n",
      "bubu        bubu\n",
      "Q71DI3    Q71DI3\n",
      "Name: Phos, dtype: object\n"
     ]
    },
    {
     "data": {
      "text/plain": [
       "P62805    P62805\n",
       "bubu        bubu\n",
       "Q71DI3    Q71DI3\n",
       "P63261    P63261\n",
       "I3L4N8    I3L4N8\n",
       "I3L1U9    I3L1U9\n",
       "I3L3I0    I3L3I0\n",
       "Name: Phos, dtype: object"
      ]
     },
     "execution_count": 34,
     "metadata": {},
     "output_type": "execute_result"
    }
   ],
   "source": [
    "sample_ser.index = sample_ser.tolist()\n",
    "print sample_ser\n",
    "sample_ser = sample_ser.drop_duplicates()\n",
    "sample_ser"
   ]
  },
  {
   "cell_type": "code",
   "execution_count": 35,
   "metadata": {
    "collapsed": false
   },
   "outputs": [
    {
     "name": "stdout",
     "output_type": "stream",
     "text": [
      "       Observed Proteome  iBAQ observed (log10)\n",
      "P62805            P62805              11.014521\n",
      "P0C0S8            P0C0S8              10.902514\n",
      "P20671            P20671              10.902514\n",
      "Q6FI13            Q6FI13              10.902514\n",
      "Q16777            Q16777              10.902514\n",
      "Q9BTM1            Q9BTM1              10.902514\n",
      "Q96KK5            Q96KK5              10.902514\n",
      "Q99878            Q99878              10.902514\n",
      "H0YFX9            H0YFX9              10.902514\n"
     ]
    },
    {
     "data": {
      "text/html": [
       "<div style=\"max-height:1000px;max-width:1500px;overflow:auto;\">\n",
       "<table border=\"1\" class=\"dataframe\">\n",
       "  <thead>\n",
       "    <tr style=\"text-align: right;\">\n",
       "      <th></th>\n",
       "      <th>Observed Proteome</th>\n",
       "      <th>iBAQ observed (log10)</th>\n",
       "    </tr>\n",
       "  </thead>\n",
       "  <tbody>\n",
       "    <tr>\n",
       "      <th>P62805</th>\n",
       "      <td>P62805</td>\n",
       "      <td>11.014521</td>\n",
       "    </tr>\n",
       "    <tr>\n",
       "      <th>P0C0S8</th>\n",
       "      <td>P0C0S8</td>\n",
       "      <td>10.902514</td>\n",
       "    </tr>\n",
       "    <tr>\n",
       "      <th>P20671</th>\n",
       "      <td>P20671</td>\n",
       "      <td>10.902514</td>\n",
       "    </tr>\n",
       "    <tr>\n",
       "      <th>Q6FI13</th>\n",
       "      <td>Q6FI13</td>\n",
       "      <td>10.902514</td>\n",
       "    </tr>\n",
       "    <tr>\n",
       "      <th>Q16777</th>\n",
       "      <td>Q16777</td>\n",
       "      <td>10.902514</td>\n",
       "    </tr>\n",
       "    <tr>\n",
       "      <th>Q9BTM1</th>\n",
       "      <td>Q9BTM1</td>\n",
       "      <td>10.902514</td>\n",
       "    </tr>\n",
       "    <tr>\n",
       "      <th>Q96KK5</th>\n",
       "      <td>Q96KK5</td>\n",
       "      <td>10.902514</td>\n",
       "    </tr>\n",
       "    <tr>\n",
       "      <th>Q99878</th>\n",
       "      <td>Q99878</td>\n",
       "      <td>10.902514</td>\n",
       "    </tr>\n",
       "    <tr>\n",
       "      <th>H0YFX9</th>\n",
       "      <td>H0YFX9</td>\n",
       "      <td>10.902514</td>\n",
       "    </tr>\n",
       "  </tbody>\n",
       "</table>\n",
       "</div>"
      ],
      "text/plain": [
       "       Observed Proteome  iBAQ observed (log10)\n",
       "P62805            P62805              11.014521\n",
       "P0C0S8            P0C0S8              10.902514\n",
       "P20671            P20671              10.902514\n",
       "Q6FI13            Q6FI13              10.902514\n",
       "Q16777            Q16777              10.902514\n",
       "Q9BTM1            Q9BTM1              10.902514\n",
       "Q96KK5            Q96KK5              10.902514\n",
       "Q99878            Q99878              10.902514\n",
       "H0YFX9            H0YFX9              10.902514"
      ]
     },
     "execution_count": 35,
     "metadata": {},
     "output_type": "execute_result"
    }
   ],
   "source": [
    "back.index = back[col_background_an].tolist()\n",
    "print back\n",
    "back.drop_duplicates()"
   ]
  },
  {
   "cell_type": "code",
   "execution_count": 36,
   "metadata": {
    "collapsed": false
   },
   "outputs": [
    {
     "data": {
      "text/html": [
       "<div style=\"max-height:1000px;max-width:1500px;overflow:auto;\">\n",
       "<table border=\"1\" class=\"dataframe\">\n",
       "  <thead>\n",
       "    <tr style=\"text-align: right;\">\n",
       "      <th></th>\n",
       "      <th>Phos</th>\n",
       "      <th>Observed Proteome</th>\n",
       "      <th>iBAQ observed (log10)</th>\n",
       "    </tr>\n",
       "  </thead>\n",
       "  <tbody>\n",
       "    <tr>\n",
       "      <th>H0YFX9</th>\n",
       "      <td>NaN</td>\n",
       "      <td>H0YFX9</td>\n",
       "      <td>10.902514</td>\n",
       "    </tr>\n",
       "    <tr>\n",
       "      <th>I3L1U9</th>\n",
       "      <td>I3L1U9</td>\n",
       "      <td>NaN</td>\n",
       "      <td>NaN</td>\n",
       "    </tr>\n",
       "    <tr>\n",
       "      <th>I3L3I0</th>\n",
       "      <td>I3L3I0</td>\n",
       "      <td>NaN</td>\n",
       "      <td>NaN</td>\n",
       "    </tr>\n",
       "    <tr>\n",
       "      <th>I3L4N8</th>\n",
       "      <td>I3L4N8</td>\n",
       "      <td>NaN</td>\n",
       "      <td>NaN</td>\n",
       "    </tr>\n",
       "    <tr>\n",
       "      <th>P0C0S8</th>\n",
       "      <td>NaN</td>\n",
       "      <td>P0C0S8</td>\n",
       "      <td>10.902514</td>\n",
       "    </tr>\n",
       "    <tr>\n",
       "      <th>P20671</th>\n",
       "      <td>NaN</td>\n",
       "      <td>P20671</td>\n",
       "      <td>10.902514</td>\n",
       "    </tr>\n",
       "    <tr>\n",
       "      <th>P62805</th>\n",
       "      <td>P62805</td>\n",
       "      <td>P62805</td>\n",
       "      <td>11.014521</td>\n",
       "    </tr>\n",
       "    <tr>\n",
       "      <th>P63261</th>\n",
       "      <td>P63261</td>\n",
       "      <td>NaN</td>\n",
       "      <td>NaN</td>\n",
       "    </tr>\n",
       "    <tr>\n",
       "      <th>Q16777</th>\n",
       "      <td>NaN</td>\n",
       "      <td>Q16777</td>\n",
       "      <td>10.902514</td>\n",
       "    </tr>\n",
       "    <tr>\n",
       "      <th>Q6FI13</th>\n",
       "      <td>NaN</td>\n",
       "      <td>Q6FI13</td>\n",
       "      <td>10.902514</td>\n",
       "    </tr>\n",
       "    <tr>\n",
       "      <th>Q71DI3</th>\n",
       "      <td>Q71DI3</td>\n",
       "      <td>NaN</td>\n",
       "      <td>NaN</td>\n",
       "    </tr>\n",
       "    <tr>\n",
       "      <th>Q96KK5</th>\n",
       "      <td>NaN</td>\n",
       "      <td>Q96KK5</td>\n",
       "      <td>10.902514</td>\n",
       "    </tr>\n",
       "    <tr>\n",
       "      <th>Q99878</th>\n",
       "      <td>NaN</td>\n",
       "      <td>Q99878</td>\n",
       "      <td>10.902514</td>\n",
       "    </tr>\n",
       "    <tr>\n",
       "      <th>Q9BTM1</th>\n",
       "      <td>NaN</td>\n",
       "      <td>Q9BTM1</td>\n",
       "      <td>10.902514</td>\n",
       "    </tr>\n",
       "    <tr>\n",
       "      <th>bubu</th>\n",
       "      <td>bubu</td>\n",
       "      <td>NaN</td>\n",
       "      <td>NaN</td>\n",
       "    </tr>\n",
       "  </tbody>\n",
       "</table>\n",
       "</div>"
      ],
      "text/plain": [
       "          Phos Observed Proteome  iBAQ observed (log10)\n",
       "H0YFX9     NaN            H0YFX9              10.902514\n",
       "I3L1U9  I3L1U9               NaN                    NaN\n",
       "I3L3I0  I3L3I0               NaN                    NaN\n",
       "I3L4N8  I3L4N8               NaN                    NaN\n",
       "P0C0S8     NaN            P0C0S8              10.902514\n",
       "P20671     NaN            P20671              10.902514\n",
       "P62805  P62805            P62805              11.014521\n",
       "P63261  P63261               NaN                    NaN\n",
       "Q16777     NaN            Q16777              10.902514\n",
       "Q6FI13     NaN            Q6FI13              10.902514\n",
       "Q71DI3  Q71DI3               NaN                    NaN\n",
       "Q96KK5     NaN            Q96KK5              10.902514\n",
       "Q99878     NaN            Q99878              10.902514\n",
       "Q9BTM1     NaN            Q9BTM1              10.902514\n",
       "bubu      bubu               NaN                    NaN"
      ]
     },
     "execution_count": 36,
     "metadata": {},
     "output_type": "execute_result"
    }
   ],
   "source": [
    "pd.concat([sample_ser, back], axis=1)"
   ]
  },
  {
   "cell_type": "code",
   "execution_count": 1,
   "metadata": {
    "collapsed": false
   },
   "outputs": [
    {
     "name": "stderr",
     "output_type": "stream",
     "text": [
      "load obo file /Users/dblyon/CloudStation/CPR/Brian_GO/go_rescources/go_obo/go-basic.obo\n",
      "44951"
     ]
    },
    {
     "name": "stdout",
     "output_type": "stream",
     "text": [
      "('Yeast_Acetyl_vs_Observed.txt', 'Acetyl', 'Observed')\n",
      "DONE :)\n",
      "('Yeast_Acetyl_vs_Genome.txt', 'Acetyl', 'Genome')\n",
      "DONE :)\n",
      "('Yeast_Acetyl_vs_AbCorr.txt', 'Acetyl', 'AbCorr')\n",
      "DONE :)\n"
     ]
    },
    {
     "name": "stderr",
     "output_type": "stream",
     "text": [
      " nodes imported\n"
     ]
    }
   ],
   "source": [
    "%run run_goenrichment"
   ]
  },
  {
   "cell_type": "code",
   "execution_count": 2,
   "metadata": {
    "collapsed": false
   },
   "outputs": [
    {
     "data": {
      "text/plain": [
       "<go_enrichment_dbl.GOEnrichmentRecord at 0x110976b90>"
      ]
     },
     "execution_count": 2,
     "metadata": {},
     "output_type": "execute_result"
    }
   ],
   "source": [
    "res = results[0]\n",
    "res.update_remaining_fields()\n",
    "res"
   ]
  },
  {
   "cell_type": "code",
   "execution_count": 71,
   "metadata": {
    "collapsed": true
   },
   "outputs": [],
   "source": [
    "attributes_list = [('id', '%s'), ('enrichment', '%s'), ('perc_enrichment_study', \"%0.1f\"),\n",
    "               ('perc_enrichment_pop', \"%0.1f\"), ('fold_enrichment_study2pop', \"%0.2f\"),\n",
    "               ('study_count', '%s'), ('study_n', '%s'), ('pop_count','%s'), ('pop_n', '%s'),\n",
    "               ('description', '%s'), ('p_uncorrected', \"%.3g\"), ('p_bonferroni', \"%.3g\"),\n",
    "               ('p_holm', \"%.3g\"), ('p_sidak',\"%.3g\"), ('ANs_study', '%s'), ('ANs_pop', '%s'),\n",
    "               ('p_fdr', '%s')]"
   ]
  },
  {
   "cell_type": "code",
   "execution_count": 72,
   "metadata": {
    "collapsed": true
   },
   "outputs": [],
   "source": [
    "def get_attributes2write():\n",
    "    return [name_format[0] for name_format in attributes_list]"
   ]
  },
  {
   "cell_type": "code",
   "execution_count": 77,
   "metadata": {
    "collapsed": true
   },
   "outputs": [],
   "source": [
    "def get_attributes_list():\n",
    "    return attributes_list"
   ]
  },
  {
   "cell_type": "code",
   "execution_count": 87,
   "metadata": {
    "collapsed": false
   },
   "outputs": [],
   "source": [
    "def get_attribute_format_list(indent):\n",
    "    if indent:\n",
    "        attributes_list = [('dot_id', '%s') if x[0] == 'id' else x for x in get_attributes_list()]\n",
    "        dots = ''\n",
    "        if res.goterm is not None:\n",
    "            dots = \".\" * res.goterm.level\n",
    "        res.dot_id = dots + res.id        \n",
    "    else:\n",
    "        attributes_list = get_attributes_list()\n",
    "    return attributes_list"
   ]
  },
  {
   "cell_type": "code",
   "execution_count": 88,
   "metadata": {
    "collapsed": true
   },
   "outputs": [],
   "source": [
    "def get_attribute_formatted(attr_form):\n",
    "    attr, form = attr_form\n",
    "    try:\n",
    "        val = res.__dict__[attr]\n",
    "        attr2write = (form % val) + '\\t'\n",
    "    except KeyError:\n",
    "        attr2write = 'n.a.' + '\\t'\n",
    "    return attr2write"
   ]
  },
  {
   "cell_type": "code",
   "execution_count": 89,
   "metadata": {
    "collapsed": true
   },
   "outputs": [],
   "source": [
    "def get_line2write(indent):\n",
    "    line2write = ''\n",
    "    attribute_format_list = get_attribute_format_list(indent)\n",
    "    for attr_form in attribute_format_list:\n",
    "        line2write += get_attribute_formatted(attr_form)     \n",
    "    return line2write.rstrip()"
   ]
  },
  {
   "cell_type": "code",
   "execution_count": 93,
   "metadata": {
    "collapsed": false
   },
   "outputs": [
    {
     "data": {
      "text/plain": [
       "['....GO:0044445',\n",
       " 'e',\n",
       " '11.0',\n",
       " '5.0',\n",
       " '2.17',\n",
       " '123',\n",
       " '1129',\n",
       " '218',\n",
       " '4337',\n",
       " 'cytosolic',\n",
       " 'part',\n",
       " '1.93e-10',\n",
       " '9.44e-07',\n",
       " '9.44e-07',\n",
       " '9.21e-07']"
      ]
     },
     "execution_count": 93,
     "metadata": {},
     "output_type": "execute_result"
    }
   ],
   "source": [
    "line = get_line2write(indent=True)\n",
    "line.split()[:-3]"
   ]
  },
  {
   "cell_type": "code",
   "execution_count": 94,
   "metadata": {
    "collapsed": false
   },
   "outputs": [
    {
     "data": {
      "text/plain": [
       "['GO:0044445',\n",
       " 'e',\n",
       " '11.0',\n",
       " '5.0',\n",
       " '2.17',\n",
       " '123',\n",
       " '1129',\n",
       " '218',\n",
       " '4337',\n",
       " 'cytosolic',\n",
       " 'part',\n",
       " '1.93e-10',\n",
       " '9.44e-07',\n",
       " '9.44e-07',\n",
       " '9.21e-07']"
      ]
     },
     "execution_count": 94,
     "metadata": {},
     "output_type": "execute_result"
    }
   ],
   "source": [
    "line = get_line2write(indent=False)\n",
    "line.split()[:-3]"
   ]
  },
  {
   "cell_type": "code",
   "execution_count": 14,
   "metadata": {
    "collapsed": false
   },
   "outputs": [
    {
     "data": {
      "text/plain": [
       "'1.93e-10'"
      ]
     },
     "execution_count": 14,
     "metadata": {},
     "output_type": "execute_result"
    }
   ],
   "source": [
    "x=1.933435435e-10\n",
    "\"%.3g\" % x"
   ]
  },
  {
   "cell_type": "code",
   "execution_count": 27,
   "metadata": {
    "collapsed": false
   },
   "outputs": [
    {
     "data": {
      "text/plain": [
       "'67.1'"
      ]
     },
     "execution_count": 27,
     "metadata": {},
     "output_type": "execute_result"
    }
   ],
   "source": [
    "\"%0.1f\" % 67.129999"
   ]
  },
  {
   "cell_type": "code",
   "execution_count": 37,
   "metadata": {
    "collapsed": false
   },
   "outputs": [
    {
     "data": {
      "text/plain": [
       "'123.4\\t'"
      ]
     },
     "execution_count": 37,
     "metadata": {},
     "output_type": "execute_result"
    }
   ],
   "source": [
    "x = 123.4\n",
    "('%s' % x) + '\\t'"
   ]
  },
  {
   "cell_type": "code",
   "execution_count": 65,
   "metadata": {
    "collapsed": false
   },
   "outputs": [
    {
     "data": {
      "text/plain": [
       "4"
      ]
     },
     "execution_count": 65,
     "metadata": {},
     "output_type": "execute_result"
    }
   ],
   "source": [
    "res.goterm.level"
   ]
  },
  {
   "cell_type": "code",
   "execution_count": 98,
   "metadata": {
    "collapsed": true
   },
   "outputs": [],
   "source": [
    "class Bubu(object):\n",
    "    attributes_list = [('id', '%s'), ('enrichment', '%s'), ('perc_enrichment_study', \"%0.1f\"),\n",
    "               ('perc_enrichment_pop', \"%0.1f\"), ('fold_enrichment_study2pop', \"%0.2f\"),\n",
    "               ('study_count', '%s'), ('study_n', '%s'), ('pop_count','%s'), ('pop_n', '%s'),\n",
    "               ('description', '%s'), ('p_uncorrected', \"%.3g\"), ('p_bonferroni', \"%.3g\"),\n",
    "               ('p_holm', \"%.3g\"), ('p_sidak',\"%.3g\"), ('ANs_study', '%s'), ('ANs_pop', '%s'),\n",
    "               ('p_fdr', '%s')]\n",
    "    def __init__(self):\n",
    "        self.dave = 'awesome'"
   ]
  },
  {
   "cell_type": "code",
   "execution_count": 99,
   "metadata": {
    "collapsed": true
   },
   "outputs": [],
   "source": [
    "bu = Bubu()"
   ]
  },
  {
   "cell_type": "code",
   "execution_count": 100,
   "metadata": {
    "collapsed": false
   },
   "outputs": [
    {
     "data": {
      "text/plain": [
       "'awesome'"
      ]
     },
     "execution_count": 100,
     "metadata": {},
     "output_type": "execute_result"
    }
   ],
   "source": [
    "bu.dave"
   ]
  },
  {
   "cell_type": "code",
   "execution_count": 101,
   "metadata": {
    "collapsed": false
   },
   "outputs": [
    {
     "data": {
      "text/plain": [
       "[('id', '%s'),\n",
       " ('enrichment', '%s'),\n",
       " ('perc_enrichment_study', '%0.1f'),\n",
       " ('perc_enrichment_pop', '%0.1f'),\n",
       " ('fold_enrichment_study2pop', '%0.2f'),\n",
       " ('study_count', '%s'),\n",
       " ('study_n', '%s'),\n",
       " ('pop_count', '%s'),\n",
       " ('pop_n', '%s'),\n",
       " ('description', '%s'),\n",
       " ('p_uncorrected', '%.3g'),\n",
       " ('p_bonferroni', '%.3g'),\n",
       " ('p_holm', '%.3g'),\n",
       " ('p_sidak', '%.3g'),\n",
       " ('ANs_study', '%s'),\n",
       " ('ANs_pop', '%s'),\n",
       " ('p_fdr', '%s')]"
      ]
     },
     "execution_count": 101,
     "metadata": {},
     "output_type": "execute_result"
    }
   ],
   "source": [
    "bu.attributes_list"
   ]
  },
  {
   "cell_type": "code",
   "execution_count": 2,
   "metadata": {
    "collapsed": true
   },
   "outputs": [],
   "source": [
    "import pandas as pd"
   ]
  },
  {
   "cell_type": "code",
   "execution_count": 5,
   "metadata": {
    "collapsed": true
   },
   "outputs": [],
   "source": [
    "df = pd.read_csv('Yeast_Acetyl_vs_Observed.txt', sep='\\t', skiprows=1)"
   ]
  },
  {
   "cell_type": "code",
   "execution_count": 8,
   "metadata": {
    "collapsed": false
   },
   "outputs": [
    {
     "data": {
      "text/plain": [
       "0.006200177147918512"
      ]
     },
     "execution_count": 8,
     "metadata": {},
     "output_type": "execute_result"
    }
   ],
   "source": [
    "7.0/1129"
   ]
  },
  {
   "cell_type": "code",
   "execution_count": 15,
   "metadata": {
    "collapsed": false
   },
   "outputs": [
    {
     "data": {
      "text/html": [
       "<div style=\"max-height:1000px;max-width:1500px;overflow:auto;\">\n",
       "<table border=\"1\" class=\"dataframe\">\n",
       "  <thead>\n",
       "    <tr style=\"text-align: right;\">\n",
       "      <th></th>\n",
       "      <th>id</th>\n",
       "      <th>enrichment</th>\n",
       "      <th>perc_enrichment_study</th>\n",
       "      <th>perc_enrichment_pop</th>\n",
       "      <th>fold_enrichment_study2pop</th>\n",
       "      <th>study_count</th>\n",
       "      <th>study_n</th>\n",
       "      <th>pop_count</th>\n",
       "      <th>pop_n</th>\n",
       "      <th>description</th>\n",
       "      <th>p_uncorrected</th>\n",
       "      <th>p_bonferroni</th>\n",
       "      <th>p_holm</th>\n",
       "      <th>p_sidak</th>\n",
       "      <th>ANs_study</th>\n",
       "      <th>ANs_pop</th>\n",
       "      <th>p_fdr</th>\n",
       "    </tr>\n",
       "  </thead>\n",
       "  <tbody>\n",
       "    <tr>\n",
       "      <th>1263</th>\n",
       "      <td>....GO:0044445</td>\n",
       "      <td>e</td>\n",
       "      <td>10.9</td>\n",
       "      <td>5.0</td>\n",
       "      <td>2.17</td>\n",
       "      <td>123</td>\n",
       "      <td>1129</td>\n",
       "      <td>218</td>\n",
       "      <td>4337</td>\n",
       "      <td>cytosolic part</td>\n",
       "      <td>1.930000e-10</td>\n",
       "      <td>9.440000e-07</td>\n",
       "      <td>9.440000e-07</td>\n",
       "      <td>9.210000e-07</td>\n",
       "      <td>P00924,P00925,P02406,P02407,P04449,P04456,P053...</td>\n",
       "      <td>O13516,O13563,O14455,O94742,P00924,P00925,P024...</td>\n",
       "      <td>n.a.</td>\n",
       "    </tr>\n",
       "    <tr>\n",
       "      <th>2000</th>\n",
       "      <td>...GO:0006082</td>\n",
       "      <td>e</td>\n",
       "      <td>15.1</td>\n",
       "      <td>8.2</td>\n",
       "      <td>1.85</td>\n",
       "      <td>171</td>\n",
       "      <td>1129</td>\n",
       "      <td>356</td>\n",
       "      <td>4337</td>\n",
       "      <td>organic acid metabolic process</td>\n",
       "      <td>2.390000e-10</td>\n",
       "      <td>1.170000e-06</td>\n",
       "      <td>1.170000e-06</td>\n",
       "      <td>1.140000e-06</td>\n",
       "      <td>P00330,P00331,P00358,P00359,P00360,P00498,P005...</td>\n",
       "      <td>P00175,P00330,P00331,P00358,P00359,P00360,P004...</td>\n",
       "      <td>n.a.</td>\n",
       "    </tr>\n",
       "    <tr>\n",
       "      <th>4392</th>\n",
       "      <td>.GO:0016020</td>\n",
       "      <td>p</td>\n",
       "      <td>12.8</td>\n",
       "      <td>22.6</td>\n",
       "      <td>0.57</td>\n",
       "      <td>145</td>\n",
       "      <td>1129</td>\n",
       "      <td>980</td>\n",
       "      <td>4337</td>\n",
       "      <td>membrane</td>\n",
       "      <td>2.910000e-10</td>\n",
       "      <td>1.420000e-06</td>\n",
       "      <td>1.420000e-06</td>\n",
       "      <td>1.390000e-06</td>\n",
       "      <td>P00830,P01120,P01123,P02994,P04037,P04710,P048...</td>\n",
       "      <td>O13525,P00175,P00424,P00830,P01119,P01120,P011...</td>\n",
       "      <td>n.a.</td>\n",
       "    </tr>\n",
       "  </tbody>\n",
       "</table>\n",
       "</div>"
      ],
      "text/plain": [
       "                  id enrichment  perc_enrichment_study  perc_enrichment_pop  \\\n",
       "1263  ....GO:0044445          e                   10.9                  5.0   \n",
       "2000   ...GO:0006082          e                   15.1                  8.2   \n",
       "4392     .GO:0016020          p                   12.8                 22.6   \n",
       "\n",
       "      fold_enrichment_study2pop  study_count  study_n  pop_count  pop_n  \\\n",
       "1263                       2.17          123     1129        218   4337   \n",
       "2000                       1.85          171     1129        356   4337   \n",
       "4392                       0.57          145     1129        980   4337   \n",
       "\n",
       "                         description  p_uncorrected  p_bonferroni  \\\n",
       "1263                  cytosolic part   1.930000e-10  9.440000e-07   \n",
       "2000  organic acid metabolic process   2.390000e-10  1.170000e-06   \n",
       "4392                        membrane   2.910000e-10  1.420000e-06   \n",
       "\n",
       "            p_holm       p_sidak  \\\n",
       "1263  9.440000e-07  9.210000e-07   \n",
       "2000  1.170000e-06  1.140000e-06   \n",
       "4392  1.420000e-06  1.390000e-06   \n",
       "\n",
       "                                              ANs_study  \\\n",
       "1263  P00924,P00925,P02406,P02407,P04449,P04456,P053...   \n",
       "2000  P00330,P00331,P00358,P00359,P00360,P00498,P005...   \n",
       "4392  P00830,P01120,P01123,P02994,P04037,P04710,P048...   \n",
       "\n",
       "                                                ANs_pop p_fdr  \n",
       "1263  O13516,O13563,O14455,O94742,P00924,P00925,P024...  n.a.  \n",
       "2000  P00175,P00330,P00331,P00358,P00359,P00360,P004...  n.a.  \n",
       "4392  O13525,P00175,P00424,P00830,P01119,P01120,P011...  n.a.  "
      ]
     },
     "execution_count": 15,
     "metadata": {},
     "output_type": "execute_result"
    }
   ],
   "source": [
    "df.sort(columns='p_bonferroni').iloc[0:3]"
   ]
  },
  {
   "cell_type": "code",
   "execution_count": 17,
   "metadata": {
    "collapsed": false
   },
   "outputs": [
    {
     "data": {
      "text/plain": [
       "0.05026516024902006"
      ]
     },
     "execution_count": 17,
     "metadata": {},
     "output_type": "execute_result"
    }
   ],
   "source": [
    "218.0/4337"
   ]
  },
  {
   "cell_type": "code",
   "execution_count": 18,
   "metadata": {
    "collapsed": false
   },
   "outputs": [
    {
     "data": {
      "text/plain": [
       "2.18"
      ]
     },
     "execution_count": 18,
     "metadata": {},
     "output_type": "execute_result"
    }
   ],
   "source": [
    "10.9/5"
   ]
  },
  {
   "cell_type": "code",
   "execution_count": 12,
   "metadata": {
    "collapsed": false
   },
   "outputs": [
    {
     "name": "stderr",
     "output_type": "stream",
     "text": [
      "load obo file /Users/dblyon/CloudStation/CPR/Brian_GO/go_rescources/go_obo/go-basic.obo\n",
      "44951 nodes imported\n"
     ]
    }
   ],
   "source": [
    "import os, obo_parser, goretriever\n",
    "home = os.path.expanduser('~')\n",
    "obo_fn = home + r'/CloudStation/CPR/Brian_GO/go_rescources/go_obo/go-basic.obo'\n",
    "goa_ref_fn = home + r'/CloudStation/CPR/Brian_GO/go_rescources/UniProt_goa/yeast/gene_association.goa_ref_yeast'\n",
    "obo_dag = obo_parser.GODag(obo_file=obo_fn)\n",
    "go_parent = 'CP'\n",
    "assoc_dict_cp = goretriever.Parser_UniProt_goa_ref(goa_ref_fn = goa_ref_fn).get_association_dict(go_parent, obo_dag)"
   ]
  },
  {
   "cell_type": "code",
   "execution_count": 14,
   "metadata": {
    "collapsed": false
   },
   "outputs": [
    {
     "data": {
      "text/plain": [
       "{'GO:0005737'}"
      ]
     },
     "execution_count": 14,
     "metadata": {},
     "output_type": "execute_result"
    }
   ],
   "source": [
    "assoc_dict_cp['P32263']"
   ]
  },
  {
   "cell_type": "code",
   "execution_count": 15,
   "metadata": {
    "collapsed": false
   },
   "outputs": [],
   "source": [
    "#obo_dag['GO:1990413'].has_parent('GO:0003674')"
   ]
  },
  {
   "cell_type": "code",
   "execution_count": 16,
   "metadata": {
    "collapsed": false
   },
   "outputs": [
    {
     "data": {
      "text/plain": [
       "{'GO:0004735', 'GO:0042802'}"
      ]
     },
     "execution_count": 16,
     "metadata": {},
     "output_type": "execute_result"
    }
   ],
   "source": [
    "go_parent = 'MF'\n",
    "assoc_dict_mf = goretriever.Parser_UniProt_goa_ref(goa_ref_fn = goa_ref_fn).get_association_dict(go_parent, obo_dag)\n",
    "assoc_dict_mf['P32263']"
   ]
  },
  {
   "cell_type": "code",
   "execution_count": 17,
   "metadata": {
    "collapsed": false
   },
   "outputs": [
    {
     "data": {
      "text/plain": [
       "{'GO:0006561', 'GO:0055114', 'GO:0055129'}"
      ]
     },
     "execution_count": 17,
     "metadata": {},
     "output_type": "execute_result"
    }
   ],
   "source": [
    "go_parent = 'BP'\n",
    "assoc_dict_bp = goretriever.Parser_UniProt_goa_ref(goa_ref_fn = goa_ref_fn).get_association_dict(go_parent, obo_dag)\n",
    "assoc_dict_bp['P32263']"
   ]
  },
  {
   "cell_type": "code",
   "execution_count": 18,
   "metadata": {
    "collapsed": false
   },
   "outputs": [
    {
     "data": {
      "text/plain": [
       "{'GO:0004735',\n",
       " 'GO:0005737',\n",
       " 'GO:0006561',\n",
       " 'GO:0042802',\n",
       " 'GO:0055114',\n",
       " 'GO:0055129'}"
      ]
     },
     "execution_count": 18,
     "metadata": {},
     "output_type": "execute_result"
    }
   ],
   "source": [
    "go_parent = None\n",
    "assoc_dict_all = goretriever.Parser_UniProt_goa_ref(goa_ref_fn = goa_ref_fn).get_association_dict(go_parent, obo_dag)\n",
    "assoc_dict_all['P32263']"
   ]
  },
  {
   "cell_type": "code",
   "execution_count": 2,
   "metadata": {
    "collapsed": true
   },
   "outputs": [],
   "source": [
    "import fisher"
   ]
  },
  {
   "cell_type": "code",
   "execution_count": 19,
   "metadata": {
    "collapsed": false
   },
   "outputs": [
    {
     "name": "stdout",
     "output_type": "stream",
     "text": [
      "Pvalue(left_tail=0.4552, right_tail=0.6592, two_tail=0.8837)\n",
      "Pvalue(left_tail=0.4552, right_tail=0.6592, two_tail=0.8837)\n"
     ]
    }
   ],
   "source": [
    "#GO:0000122\te\tnegative regulation of transcription from RNA polymerase II promoter\n",
    "#50/1159\t21/1159\t0.000635\t3.14\t3.08\t3.06\tn.a.\n",
    "import scipy, fisher\n",
    "study = '14/1159'\n",
    "pop   = '56/4258'\n",
    "a, col_1 = study.split('/')\n",
    "b, col_2 = pop.split('/')\n",
    "a = int(a)\n",
    "col_1 = int(col_1)\n",
    "b = int(b)\n",
    "col_2 = int(col_2)\n",
    "n = col_1 + col_2\n",
    "col_2 = n - col_1\n",
    "b = r1 - a\n",
    "c = col_1 - a\n",
    "d = col_2 - b\n",
    "r2 = c + d\n",
    "assert n == col_1 + col_2\n",
    "assert n == r1 + r2\n",
    "print fisher.pvalue_population(a, col_1, r1, n)\n",
    "print fisher.pvalue(a, b, c, d)"
   ]
  },
  {
   "cell_type": "code",
   "execution_count": 30,
   "metadata": {
    "collapsed": false
   },
   "outputs": [
    {
     "name": "stdout",
     "output_type": "stream",
     "text": [
      "Pvalue(left_tail=1, right_tail=3.336e-29, two_tail=1.787e-10)\n",
      "e\n"
     ]
    }
   ],
   "source": [
    "study = '140/1159'\n",
    "pop   = '14/1159'\n",
    "study_count, study_n = study.split('/')\n",
    "pop_count, pop_n = pop.split('/')\n",
    "study_count = int(study_count)\n",
    "study_n = int(study_n)\n",
    "pop_count = int(pop_count)\n",
    "pop_n = int(pop_n)\n",
    "a = study_count\n",
    "col_1 = study_n\n",
    "r1 = study_count + pop_count\n",
    "n = study_n + pop_n\n",
    "p = fisher.pvalue_population(a, col_1, r1, n)\n",
    "print p\n",
    "enrichment = 'e' if ((1.0 * study_count / study_n) > (1.0 * pop_count / pop_n)) else 'p'\n",
    "print enrichment"
   ]
  },
  {
   "cell_type": "code",
   "execution_count": null,
   "metadata": {
    "collapsed": true
   },
   "outputs": [],
   "source": [
    "# if significantly enriched --> right_tail\n",
    "# if significantly purified --> left_tail"
   ]
  }
 ],
 "metadata": {
  "kernelspec": {
   "display_name": "Python 2",
   "language": "python",
   "name": "python2"
  },
  "language_info": {
   "codemirror_mode": {
    "name": "ipython",
    "version": 2
   },
   "file_extension": ".py",
   "mimetype": "text/x-python",
   "name": "python",
   "nbconvert_exporter": "python",
   "pygments_lexer": "ipython2",
   "version": "2.7.6"
  }
 },
 "nbformat": 4,
 "nbformat_minor": 0
}
