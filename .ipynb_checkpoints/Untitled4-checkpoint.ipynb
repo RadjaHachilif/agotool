{
 "cells": [
  {
   "cell_type": "code",
   "execution_count": 2,
   "metadata": {
    "collapsed": true
   },
   "outputs": [],
   "source": [
    "import pandas as pd"
   ]
  },
  {
   "cell_type": "code",
   "execution_count": 3,
   "metadata": {
    "collapsed": true
   },
   "outputs": [],
   "source": [
    "fn = r'/Users/dblyon/CloudStation/CPR/Brian_GO/alldata/Data_for_web_tool_HeLa_v2.txt'\n",
    "df_orig = pd.read_csv(fn, sep='\\t', decimal=',')"
   ]
  },
  {
   "cell_type": "code",
   "execution_count": 4,
   "metadata": {
    "collapsed": false
   },
   "outputs": [
    {
     "data": {
      "text/html": [
       "<div style=\"max-height:1000px;max-width:1500px;overflow:auto;\">\n",
       "<table border=\"1\" class=\"dataframe\">\n",
       "  <thead>\n",
       "    <tr style=\"text-align: right;\">\n",
       "      <th></th>\n",
       "      <th>Genome</th>\n",
       "      <th>iBAQ observed (log10)</th>\n",
       "      <th>Observed Proteome</th>\n",
       "      <th>Phos</th>\n",
       "      <th>Ubi</th>\n",
       "      <th>Acetyl</th>\n",
       "      <th>Succinyl</th>\n",
       "    </tr>\n",
       "  </thead>\n",
       "  <tbody>\n",
       "    <tr>\n",
       "      <th>0</th>\n",
       "      <td>P31946</td>\n",
       "      <td>11.014521</td>\n",
       "      <td>P62805</td>\n",
       "      <td>Q9UHI6</td>\n",
       "      <td>Q01469</td>\n",
       "      <td>P18583</td>\n",
       "      <td>Q4AC94</td>\n",
       "    </tr>\n",
       "    <tr>\n",
       "      <th>1</th>\n",
       "      <td>P62258</td>\n",
       "      <td>10.902514</td>\n",
       "      <td>P0C0S8;P20671;Q6FI13;Q16777;Q9BTM1;Q96KK5;Q998...</td>\n",
       "      <td>Q13075</td>\n",
       "      <td>J3QRK5</td>\n",
       "      <td>Q15596</td>\n",
       "      <td>P83111</td>\n",
       "    </tr>\n",
       "    <tr>\n",
       "      <th>2</th>\n",
       "      <td>Q04917</td>\n",
       "      <td>10.886417</td>\n",
       "      <td>Q71DI3</td>\n",
       "      <td>A6NDB9</td>\n",
       "      <td>Q9BXW9</td>\n",
       "      <td>Q04637</td>\n",
       "      <td>P83111</td>\n",
       "    </tr>\n",
       "    <tr>\n",
       "      <th>3</th>\n",
       "      <td>P61981</td>\n",
       "      <td>10.862876</td>\n",
       "      <td>P63261;I3L4N8;I3L1U9;I3L3I0</td>\n",
       "      <td>Q9UHI6</td>\n",
       "      <td>Q6W2J9</td>\n",
       "      <td>O15228</td>\n",
       "      <td>O15228</td>\n",
       "    </tr>\n",
       "    <tr>\n",
       "      <th>4</th>\n",
       "      <td>P31947</td>\n",
       "      <td>10.841628</td>\n",
       "      <td>P04406;P04406-2;E7EUT5</td>\n",
       "      <td>A6NFR9</td>\n",
       "      <td>J3QRK5</td>\n",
       "      <td>P01106</td>\n",
       "      <td>Q9BXM0</td>\n",
       "    </tr>\n",
       "  </tbody>\n",
       "</table>\n",
       "</div>"
      ],
      "text/plain": [
       "   Genome  iBAQ observed (log10)  \\\n",
       "0  P31946              11.014521   \n",
       "1  P62258              10.902514   \n",
       "2  Q04917              10.886417   \n",
       "3  P61981              10.862876   \n",
       "4  P31947              10.841628   \n",
       "\n",
       "                                   Observed Proteome    Phos     Ubi  Acetyl  \\\n",
       "0                                             P62805  Q9UHI6  Q01469  P18583   \n",
       "1  P0C0S8;P20671;Q6FI13;Q16777;Q9BTM1;Q96KK5;Q998...  Q13075  J3QRK5  Q15596   \n",
       "2                                             Q71DI3  A6NDB9  Q9BXW9  Q04637   \n",
       "3                        P63261;I3L4N8;I3L1U9;I3L3I0  Q9UHI6  Q6W2J9  O15228   \n",
       "4                             P04406;P04406-2;E7EUT5  A6NFR9  J3QRK5  P01106   \n",
       "\n",
       "  Succinyl  \n",
       "0   Q4AC94  \n",
       "1   P83111  \n",
       "2   P83111  \n",
       "3   O15228  \n",
       "4   Q9BXM0  "
      ]
     },
     "execution_count": 4,
     "metadata": {},
     "output_type": "execute_result"
    }
   ],
   "source": [
    "df_orig.head()"
   ]
  },
  {
   "cell_type": "code",
   "execution_count": 5,
   "metadata": {
    "collapsed": true
   },
   "outputs": [],
   "source": [
    "df = df_orig.loc[0:5, ].copy()"
   ]
  },
  {
   "cell_type": "code",
   "execution_count": 6,
   "metadata": {
    "collapsed": false
   },
   "outputs": [
    {
     "data": {
      "text/html": [
       "<div style=\"max-height:1000px;max-width:1500px;overflow:auto;\">\n",
       "<table border=\"1\" class=\"dataframe\">\n",
       "  <thead>\n",
       "    <tr style=\"text-align: right;\">\n",
       "      <th></th>\n",
       "      <th>Genome</th>\n",
       "      <th>iBAQ observed (log10)</th>\n",
       "      <th>Observed Proteome</th>\n",
       "      <th>Phos</th>\n",
       "      <th>Ubi</th>\n",
       "      <th>Acetyl</th>\n",
       "      <th>Succinyl</th>\n",
       "    </tr>\n",
       "  </thead>\n",
       "  <tbody>\n",
       "    <tr>\n",
       "      <th>0</th>\n",
       "      <td>P31946</td>\n",
       "      <td>11.014521</td>\n",
       "      <td>P62805</td>\n",
       "      <td>P62805</td>\n",
       "      <td>Q01469</td>\n",
       "      <td>P18583</td>\n",
       "      <td>Q4AC94</td>\n",
       "    </tr>\n",
       "    <tr>\n",
       "      <th>1</th>\n",
       "      <td>P62258</td>\n",
       "      <td>10.902514</td>\n",
       "      <td>P0C0S8;P20671;Q6FI13;Q16777;Q9BTM1;Q96KK5;Q998...</td>\n",
       "      <td>bubu</td>\n",
       "      <td>J3QRK5</td>\n",
       "      <td>Q15596</td>\n",
       "      <td>P83111</td>\n",
       "    </tr>\n",
       "    <tr>\n",
       "      <th>2</th>\n",
       "      <td>Q04917</td>\n",
       "      <td>10.886417</td>\n",
       "      <td>Q71DI3-10</td>\n",
       "      <td>Q71DI3</td>\n",
       "      <td>Q9BXW9</td>\n",
       "      <td>Q04637</td>\n",
       "      <td>P83111</td>\n",
       "    </tr>\n",
       "    <tr>\n",
       "      <th>3</th>\n",
       "      <td>P61981</td>\n",
       "      <td>10.862876</td>\n",
       "      <td>P63261;I3L4N8;I3L1U9;I3L3I0</td>\n",
       "      <td>P63261;I3L4N8;I3L1U9;I3L3I0</td>\n",
       "      <td>Q6W2J9</td>\n",
       "      <td>O15228</td>\n",
       "      <td>O15228</td>\n",
       "    </tr>\n",
       "    <tr>\n",
       "      <th>4</th>\n",
       "      <td>P31947</td>\n",
       "      <td>10.841628</td>\n",
       "      <td>P04406;P04406-2;E7EUT5</td>\n",
       "      <td>bubu</td>\n",
       "      <td>J3QRK5</td>\n",
       "      <td>P01106</td>\n",
       "      <td>Q9BXM0</td>\n",
       "    </tr>\n",
       "    <tr>\n",
       "      <th>5</th>\n",
       "      <td>P27348</td>\n",
       "      <td>10.775217</td>\n",
       "      <td>P58876;U3KQK0;O60814;P57053;P62807;Q99877;Q998...</td>\n",
       "      <td>Q71DI3-8</td>\n",
       "      <td>Q9UKA4</td>\n",
       "      <td>O14686</td>\n",
       "      <td>Q9NVV4</td>\n",
       "    </tr>\n",
       "  </tbody>\n",
       "</table>\n",
       "</div>"
      ],
      "text/plain": [
       "   Genome  iBAQ observed (log10)  \\\n",
       "0  P31946              11.014521   \n",
       "1  P62258              10.902514   \n",
       "2  Q04917              10.886417   \n",
       "3  P61981              10.862876   \n",
       "4  P31947              10.841628   \n",
       "5  P27348              10.775217   \n",
       "\n",
       "                                   Observed Proteome  \\\n",
       "0                                             P62805   \n",
       "1  P0C0S8;P20671;Q6FI13;Q16777;Q9BTM1;Q96KK5;Q998...   \n",
       "2                                          Q71DI3-10   \n",
       "3                        P63261;I3L4N8;I3L1U9;I3L3I0   \n",
       "4                             P04406;P04406-2;E7EUT5   \n",
       "5  P58876;U3KQK0;O60814;P57053;P62807;Q99877;Q998...   \n",
       "\n",
       "                          Phos     Ubi  Acetyl Succinyl  \n",
       "0                       P62805  Q01469  P18583   Q4AC94  \n",
       "1                         bubu  J3QRK5  Q15596   P83111  \n",
       "2                       Q71DI3  Q9BXW9  Q04637   P83111  \n",
       "3  P63261;I3L4N8;I3L1U9;I3L3I0  Q6W2J9  O15228   O15228  \n",
       "4                         bubu  J3QRK5  P01106   Q9BXM0  \n",
       "5                     Q71DI3-8  Q9UKA4  O14686   Q9NVV4  "
      ]
     },
     "execution_count": 6,
     "metadata": {},
     "output_type": "execute_result"
    }
   ],
   "source": [
    "df.loc[:, 'Phos'] = 'bubu'\n",
    "df.loc[0, 'Phos'] = 'P62805'\n",
    "df.loc[2, 'Phos'] = 'Q71DI3'\n",
    "df.loc[3, 'Phos'] = 'P63261;I3L4N8;I3L1U9;I3L3I0'\n",
    "df.loc[2, 'Observed Proteome'] = 'Q71DI3-10'\n",
    "df.loc[5, 'Phos'] = 'Q71DI3-8'\n",
    "df"
   ]
  },
  {
   "cell_type": "code",
   "execution_count": 7,
   "metadata": {
    "collapsed": true
   },
   "outputs": [],
   "source": [
    "df.to_csv('UserInput_test_ProteinGroups.txt', sep='\\t', index=False, header=True, decimal='.)')"
   ]
  },
  {
   "cell_type": "code",
   "execution_count": 8,
   "metadata": {
    "collapsed": true
   },
   "outputs": [],
   "source": [
    "def removeSpliceVariants_splitProteinGrous_Series(series):\n",
    "    '''\n",
    "    remove splice variant appendix from AccessionNumbers (if present) P04406-2 --> P04406\n",
    "    split AccessionNumber column into mulitple rows P63261;I3L4N8;I3L1U9;I3L3I0 --> 4 rows of values\n",
    "    :param series: PandasSeries\n",
    "    :return: Series\n",
    "    '''\n",
    "    list2return = []\n",
    "    templist = []\n",
    "    for ele in series:\n",
    "        templist += ele.split(';')\n",
    "    for ele in templist:\n",
    "        ele_split = ele.split('-')\n",
    "        if len(ele_split) > 1:\n",
    "            list2return.append(ele_split[0])\n",
    "        else:\n",
    "            list2return.append(ele)\n",
    "    return pd.Series(list2return, name = series.name)"
   ]
  },
  {
   "cell_type": "code",
   "execution_count": 9,
   "metadata": {
    "collapsed": false
   },
   "outputs": [
    {
     "data": {
      "text/html": [
       "<div style=\"max-height:1000px;max-width:1500px;overflow:auto;\">\n",
       "<table border=\"1\" class=\"dataframe\">\n",
       "  <thead>\n",
       "    <tr style=\"text-align: right;\">\n",
       "      <th></th>\n",
       "      <th>iBAQ observed (log10)</th>\n",
       "      <th>Observed Proteome</th>\n",
       "    </tr>\n",
       "  </thead>\n",
       "  <tbody>\n",
       "    <tr>\n",
       "      <th>0</th>\n",
       "      <td>11.014521</td>\n",
       "      <td>P62805</td>\n",
       "    </tr>\n",
       "    <tr>\n",
       "      <th>1</th>\n",
       "      <td>10.902514</td>\n",
       "      <td>P0C0S8;P20671;Q6FI13;Q16777;Q9BTM1;Q96KK5;Q998...</td>\n",
       "    </tr>\n",
       "    <tr>\n",
       "      <th>2</th>\n",
       "      <td>10.886417</td>\n",
       "      <td>Q71DI3-10</td>\n",
       "    </tr>\n",
       "    <tr>\n",
       "      <th>3</th>\n",
       "      <td>10.862876</td>\n",
       "      <td>P63261;I3L4N8;I3L1U9;I3L3I0</td>\n",
       "    </tr>\n",
       "    <tr>\n",
       "      <th>4</th>\n",
       "      <td>10.841628</td>\n",
       "      <td>P04406;P04406-2;E7EUT5</td>\n",
       "    </tr>\n",
       "    <tr>\n",
       "      <th>5</th>\n",
       "      <td>10.775217</td>\n",
       "      <td>P58876;U3KQK0;O60814;P57053;P62807;Q99877;Q998...</td>\n",
       "    </tr>\n",
       "  </tbody>\n",
       "</table>\n",
       "</div>"
      ],
      "text/plain": [
       "   iBAQ observed (log10)                                  Observed Proteome\n",
       "0              11.014521                                             P62805\n",
       "1              10.902514  P0C0S8;P20671;Q6FI13;Q16777;Q9BTM1;Q96KK5;Q998...\n",
       "2              10.886417                                          Q71DI3-10\n",
       "3              10.862876                        P63261;I3L4N8;I3L1U9;I3L3I0\n",
       "4              10.841628                             P04406;P04406-2;E7EUT5\n",
       "5              10.775217  P58876;U3KQK0;O60814;P57053;P62807;Q99877;Q998..."
      ]
     },
     "execution_count": 9,
     "metadata": {},
     "output_type": "execute_result"
    }
   ],
   "source": [
    "dft = df[['iBAQ observed (log10)', 'Observed Proteome']]\n",
    "dft"
   ]
  },
  {
   "cell_type": "code",
   "execution_count": 10,
   "metadata": {
    "collapsed": true
   },
   "outputs": [],
   "source": [
    "def removeSpliceVariants_splitProteinGrous_DataFrame(dataframe):\n",
    "    '''\n",
    "    remove splice variant appendix from AccessionNumbers (if present) P04406-2 --> P04406\n",
    "    split AccessionNumber column into mulitple rows P63261;I3L4N8;I3L1U9;I3L3I0 --> 4 rows of values\n",
    "    copy abundance data when adding rows\n",
    "    :param series: PandasDataFrame\n",
    "    :return: Series\n",
    "    '''\n",
    "    colname_an = 'Observed Proteome'\n",
    "    colname_int = 'iBAQ observed (log10)'\n",
    "    df_new = splitProteinGroups_DataFrame(dataframe, colname_an, colname_int)\n",
    "    return removeSpliceVariants_DataFrame(df_new, colname_an, colname_int)"
   ]
  },
  {
   "cell_type": "code",
   "execution_count": 11,
   "metadata": {
    "collapsed": false
   },
   "outputs": [],
   "source": [
    "def splitProteinGroups_DataFrame(dataframe, colname_an, colname_int):\n",
    "    ans2write_list = []\n",
    "    int2write_list = []\n",
    "    iterrows = dataframe[[colname_an, colname_int]].iterrows()\n",
    "    for row in iterrows:\n",
    "        index = row[0]\n",
    "        int_val = dataframe.loc[index, colname_int]\n",
    "        ans_row = row[1][colname_an]\n",
    "        ans_split_semicol = ans_row.split(';')\n",
    "        len_ans_split_semicol = len(ans_split_semicol)\n",
    "        if len_ans_split_semicol > 1:\n",
    "            ans2write_list += ans_split_semicol            \n",
    "            int2write_list += [int_val] * len_ans_split_semicol\n",
    "        else:\n",
    "            ans2write_list.append(ans_row)\n",
    "            int2write_list.append(int_val)\n",
    "    return pd.DataFrame({colname_an: ans2write_list, colname_int: int2write_list})"
   ]
  },
  {
   "cell_type": "code",
   "execution_count": 12,
   "metadata": {
    "collapsed": false
   },
   "outputs": [],
   "source": [
    "def removeSpliceVariants_DataFrame(dataframe, colname_an, colname_int):\n",
    "    iterrows = dataframe[[colname_an, colname_int]].iterrows()\n",
    "    for row in iterrows:\n",
    "        index = row[0]\n",
    "        an_row = row[1][colname_an]\n",
    "        an_split_minus = an_row.split('-')\n",
    "        len_an_split_minus = len(an_split_minus)\n",
    "        if len_an_split_minus > 1:\n",
    "            dataframe.loc[index, colname_an] = an_split_minus[0]\n",
    "    return dataframe"
   ]
  },
  {
   "cell_type": "code",
   "execution_count": 13,
   "metadata": {
    "collapsed": false
   },
   "outputs": [
    {
     "data": {
      "text/html": [
       "<div style=\"max-height:1000px;max-width:1500px;overflow:auto;\">\n",
       "<table border=\"1\" class=\"dataframe\">\n",
       "  <thead>\n",
       "    <tr style=\"text-align: right;\">\n",
       "      <th></th>\n",
       "      <th>Observed Proteome</th>\n",
       "      <th>iBAQ observed (log10)</th>\n",
       "    </tr>\n",
       "  </thead>\n",
       "  <tbody>\n",
       "    <tr>\n",
       "      <th>0</th>\n",
       "      <td>P62805</td>\n",
       "      <td>11.014521</td>\n",
       "    </tr>\n",
       "    <tr>\n",
       "      <th>1</th>\n",
       "      <td>P0C0S8</td>\n",
       "      <td>10.902514</td>\n",
       "    </tr>\n",
       "    <tr>\n",
       "      <th>2</th>\n",
       "      <td>P20671</td>\n",
       "      <td>10.902514</td>\n",
       "    </tr>\n",
       "    <tr>\n",
       "      <th>3</th>\n",
       "      <td>Q6FI13</td>\n",
       "      <td>10.902514</td>\n",
       "    </tr>\n",
       "    <tr>\n",
       "      <th>4</th>\n",
       "      <td>Q16777</td>\n",
       "      <td>10.902514</td>\n",
       "    </tr>\n",
       "    <tr>\n",
       "      <th>5</th>\n",
       "      <td>Q9BTM1</td>\n",
       "      <td>10.902514</td>\n",
       "    </tr>\n",
       "    <tr>\n",
       "      <th>6</th>\n",
       "      <td>Q96KK5</td>\n",
       "      <td>10.902514</td>\n",
       "    </tr>\n",
       "    <tr>\n",
       "      <th>7</th>\n",
       "      <td>Q99878</td>\n",
       "      <td>10.902514</td>\n",
       "    </tr>\n",
       "    <tr>\n",
       "      <th>8</th>\n",
       "      <td>H0YFX9</td>\n",
       "      <td>10.902514</td>\n",
       "    </tr>\n",
       "    <tr>\n",
       "      <th>9</th>\n",
       "      <td>P04908</td>\n",
       "      <td>10.902514</td>\n",
       "    </tr>\n",
       "    <tr>\n",
       "      <th>10</th>\n",
       "      <td>Q7L7L0</td>\n",
       "      <td>10.902514</td>\n",
       "    </tr>\n",
       "    <tr>\n",
       "      <th>11</th>\n",
       "      <td>Q93077</td>\n",
       "      <td>10.902514</td>\n",
       "    </tr>\n",
       "    <tr>\n",
       "      <th>12</th>\n",
       "      <td>Q9BTM1</td>\n",
       "      <td>10.902514</td>\n",
       "    </tr>\n",
       "    <tr>\n",
       "      <th>13</th>\n",
       "      <td>Q71DI3</td>\n",
       "      <td>10.886417</td>\n",
       "    </tr>\n",
       "    <tr>\n",
       "      <th>14</th>\n",
       "      <td>P63261</td>\n",
       "      <td>10.862876</td>\n",
       "    </tr>\n",
       "    <tr>\n",
       "      <th>15</th>\n",
       "      <td>I3L4N8</td>\n",
       "      <td>10.862876</td>\n",
       "    </tr>\n",
       "    <tr>\n",
       "      <th>16</th>\n",
       "      <td>I3L1U9</td>\n",
       "      <td>10.862876</td>\n",
       "    </tr>\n",
       "    <tr>\n",
       "      <th>17</th>\n",
       "      <td>I3L3I0</td>\n",
       "      <td>10.862876</td>\n",
       "    </tr>\n",
       "    <tr>\n",
       "      <th>18</th>\n",
       "      <td>P04406</td>\n",
       "      <td>10.841628</td>\n",
       "    </tr>\n",
       "    <tr>\n",
       "      <th>19</th>\n",
       "      <td>P04406</td>\n",
       "      <td>10.841628</td>\n",
       "    </tr>\n",
       "    <tr>\n",
       "      <th>20</th>\n",
       "      <td>E7EUT5</td>\n",
       "      <td>10.841628</td>\n",
       "    </tr>\n",
       "    <tr>\n",
       "      <th>21</th>\n",
       "      <td>P58876</td>\n",
       "      <td>10.775217</td>\n",
       "    </tr>\n",
       "    <tr>\n",
       "      <th>22</th>\n",
       "      <td>U3KQK0</td>\n",
       "      <td>10.775217</td>\n",
       "    </tr>\n",
       "    <tr>\n",
       "      <th>23</th>\n",
       "      <td>O60814</td>\n",
       "      <td>10.775217</td>\n",
       "    </tr>\n",
       "    <tr>\n",
       "      <th>24</th>\n",
       "      <td>P57053</td>\n",
       "      <td>10.775217</td>\n",
       "    </tr>\n",
       "    <tr>\n",
       "      <th>25</th>\n",
       "      <td>P62807</td>\n",
       "      <td>10.775217</td>\n",
       "    </tr>\n",
       "    <tr>\n",
       "      <th>26</th>\n",
       "      <td>Q99877</td>\n",
       "      <td>10.775217</td>\n",
       "    </tr>\n",
       "    <tr>\n",
       "      <th>27</th>\n",
       "      <td>Q99879</td>\n",
       "      <td>10.775217</td>\n",
       "    </tr>\n",
       "    <tr>\n",
       "      <th>28</th>\n",
       "      <td>Q99880</td>\n",
       "      <td>10.775217</td>\n",
       "    </tr>\n",
       "  </tbody>\n",
       "</table>\n",
       "</div>"
      ],
      "text/plain": [
       "   Observed Proteome  iBAQ observed (log10)\n",
       "0             P62805              11.014521\n",
       "1             P0C0S8              10.902514\n",
       "2             P20671              10.902514\n",
       "3             Q6FI13              10.902514\n",
       "4             Q16777              10.902514\n",
       "5             Q9BTM1              10.902514\n",
       "6             Q96KK5              10.902514\n",
       "7             Q99878              10.902514\n",
       "8             H0YFX9              10.902514\n",
       "9             P04908              10.902514\n",
       "10            Q7L7L0              10.902514\n",
       "11            Q93077              10.902514\n",
       "12            Q9BTM1              10.902514\n",
       "13            Q71DI3              10.886417\n",
       "14            P63261              10.862876\n",
       "15            I3L4N8              10.862876\n",
       "16            I3L1U9              10.862876\n",
       "17            I3L3I0              10.862876\n",
       "18            P04406              10.841628\n",
       "19            P04406              10.841628\n",
       "20            E7EUT5              10.841628\n",
       "21            P58876              10.775217\n",
       "22            U3KQK0              10.775217\n",
       "23            O60814              10.775217\n",
       "24            P57053              10.775217\n",
       "25            P62807              10.775217\n",
       "26            Q99877              10.775217\n",
       "27            Q99879              10.775217\n",
       "28            Q99880              10.775217"
      ]
     },
     "execution_count": 13,
     "metadata": {},
     "output_type": "execute_result"
    }
   ],
   "source": [
    "removeSpliceVariants_splitProteinGrous_DataFrame(dft)"
   ]
  },
  {
   "cell_type": "code",
   "execution_count": 14,
   "metadata": {
    "collapsed": false
   },
   "outputs": [
    {
     "data": {
      "text/html": [
       "<div style=\"max-height:1000px;max-width:1500px;overflow:auto;\">\n",
       "<table border=\"1\" class=\"dataframe\">\n",
       "  <thead>\n",
       "    <tr style=\"text-align: right;\">\n",
       "      <th></th>\n",
       "      <th>iBAQ observed (log10)</th>\n",
       "      <th>Observed Proteome</th>\n",
       "    </tr>\n",
       "  </thead>\n",
       "  <tbody>\n",
       "    <tr>\n",
       "      <th>0</th>\n",
       "      <td>11.014521</td>\n",
       "      <td>P62805</td>\n",
       "    </tr>\n",
       "    <tr>\n",
       "      <th>1</th>\n",
       "      <td>10.902514</td>\n",
       "      <td>P0C0S8;P20671;Q6FI13;Q16777;Q9BTM1;Q96KK5;Q998...</td>\n",
       "    </tr>\n",
       "    <tr>\n",
       "      <th>2</th>\n",
       "      <td>10.886417</td>\n",
       "      <td>Q71DI3-10</td>\n",
       "    </tr>\n",
       "    <tr>\n",
       "      <th>3</th>\n",
       "      <td>10.862876</td>\n",
       "      <td>P63261;I3L4N8;I3L1U9;I3L3I0</td>\n",
       "    </tr>\n",
       "    <tr>\n",
       "      <th>4</th>\n",
       "      <td>10.841628</td>\n",
       "      <td>P04406;P04406-2;E7EUT5</td>\n",
       "    </tr>\n",
       "    <tr>\n",
       "      <th>5</th>\n",
       "      <td>10.775217</td>\n",
       "      <td>P58876;U3KQK0;O60814;P57053;P62807;Q99877;Q998...</td>\n",
       "    </tr>\n",
       "  </tbody>\n",
       "</table>\n",
       "</div>"
      ],
      "text/plain": [
       "   iBAQ observed (log10)                                  Observed Proteome\n",
       "0              11.014521                                             P62805\n",
       "1              10.902514  P0C0S8;P20671;Q6FI13;Q16777;Q9BTM1;Q96KK5;Q998...\n",
       "2              10.886417                                          Q71DI3-10\n",
       "3              10.862876                        P63261;I3L4N8;I3L1U9;I3L3I0\n",
       "4              10.841628                             P04406;P04406-2;E7EUT5\n",
       "5              10.775217  P58876;U3KQK0;O60814;P57053;P62807;Q99877;Q998..."
      ]
     },
     "execution_count": 14,
     "metadata": {},
     "output_type": "execute_result"
    }
   ],
   "source": [
    "dft"
   ]
  },
  {
   "cell_type": "code",
   "execution_count": 15,
   "metadata": {
    "collapsed": true
   },
   "outputs": [],
   "source": [
    "def concat_and_align_sample_and_background(sample_ser, background_df):\n",
    "    '''\n",
    "    expects a Series and a DataFrames each containing a column with non-redundant\n",
    "    AccessionNumbers, concatenate by producing the union and aligning the ANs in rows\n",
    "    :param sample_ser: Pandas.Series\n",
    "    :param background_df: Pandas.DataFrame\n",
    "    :return: DataFrame\n",
    "    '''\n",
    "    col_background_an = 'Observed Proteome'\n",
    "    sample_ser.index = sample_ser.tolist()\n",
    "    background_df.index = background_df[col_background_an].tolist()\n",
    "    return pd.concat([sample_ser, background_df], axis=1)"
   ]
  },
  {
   "cell_type": "code",
   "execution_count": 16,
   "metadata": {
    "collapsed": false
   },
   "outputs": [],
   "source": [
    "sample_ser = removeSpliceVariants_splitProteinGrous_Series(df['Phos'])\n",
    "background_df = removeSpliceVariants_splitProteinGrous_DataFrame(dft)"
   ]
  },
  {
   "cell_type": "code",
   "execution_count": 19,
   "metadata": {
    "collapsed": false
   },
   "outputs": [
    {
     "name": "stdout",
     "output_type": "stream",
     "text": [
      "0    P62805\n",
      "1      bubu\n",
      "2    Q71DI3\n",
      "3    P63261\n",
      "4    I3L4N8\n",
      "5    I3L1U9\n",
      "6    I3L3I0\n",
      "7      bubu\n",
      "8    Q71DI3\n",
      "Name: Phos, dtype: object\n",
      "\n",
      "  Observed Proteome  iBAQ observed (log10)\n",
      "0            P62805              11.014521\n",
      "1            P0C0S8              10.902514\n",
      "2            P20671              10.902514\n",
      "3            Q6FI13              10.902514\n",
      "4            Q16777              10.902514\n",
      "5            Q9BTM1              10.902514\n",
      "6            Q96KK5              10.902514\n",
      "7            Q99878              10.902514\n",
      "8            H0YFX9              10.902514\n"
     ]
    }
   ],
   "source": [
    "#dft\n",
    "sample_ser, background_df\n",
    "back = background_df.loc[0:8,]\n",
    "print sample_ser\n",
    "print\n",
    "print back"
   ]
  },
  {
   "cell_type": "code",
   "execution_count": 20,
   "metadata": {
    "collapsed": false
   },
   "outputs": [],
   "source": [
    "col_background_an = 'Observed Proteome'"
   ]
  },
  {
   "cell_type": "code",
   "execution_count": 21,
   "metadata": {
    "collapsed": false
   },
   "outputs": [
    {
     "data": {
      "text/plain": [
       "P62805    P62805\n",
       "bubu        bubu\n",
       "Q71DI3    Q71DI3\n",
       "P63261    P63261\n",
       "I3L4N8    I3L4N8\n",
       "I3L1U9    I3L1U9\n",
       "I3L3I0    I3L3I0\n",
       "bubu        bubu\n",
       "Q71DI3    Q71DI3\n",
       "Name: Phos, dtype: object"
      ]
     },
     "execution_count": 21,
     "metadata": {},
     "output_type": "execute_result"
    }
   ],
   "source": [
    "sample_ser.index = sample_ser.tolist()\n",
    "sample_ser"
   ]
  },
  {
   "cell_type": "code",
   "execution_count": 22,
   "metadata": {
    "collapsed": false
   },
   "outputs": [
    {
     "data": {
      "text/html": [
       "<div style=\"max-height:1000px;max-width:1500px;overflow:auto;\">\n",
       "<table border=\"1\" class=\"dataframe\">\n",
       "  <thead>\n",
       "    <tr style=\"text-align: right;\">\n",
       "      <th></th>\n",
       "      <th>Observed Proteome</th>\n",
       "      <th>iBAQ observed (log10)</th>\n",
       "    </tr>\n",
       "  </thead>\n",
       "  <tbody>\n",
       "    <tr>\n",
       "      <th>P62805</th>\n",
       "      <td>P62805</td>\n",
       "      <td>11.014521</td>\n",
       "    </tr>\n",
       "    <tr>\n",
       "      <th>P0C0S8</th>\n",
       "      <td>P0C0S8</td>\n",
       "      <td>10.902514</td>\n",
       "    </tr>\n",
       "    <tr>\n",
       "      <th>P20671</th>\n",
       "      <td>P20671</td>\n",
       "      <td>10.902514</td>\n",
       "    </tr>\n",
       "    <tr>\n",
       "      <th>Q6FI13</th>\n",
       "      <td>Q6FI13</td>\n",
       "      <td>10.902514</td>\n",
       "    </tr>\n",
       "    <tr>\n",
       "      <th>Q16777</th>\n",
       "      <td>Q16777</td>\n",
       "      <td>10.902514</td>\n",
       "    </tr>\n",
       "    <tr>\n",
       "      <th>Q9BTM1</th>\n",
       "      <td>Q9BTM1</td>\n",
       "      <td>10.902514</td>\n",
       "    </tr>\n",
       "    <tr>\n",
       "      <th>Q96KK5</th>\n",
       "      <td>Q96KK5</td>\n",
       "      <td>10.902514</td>\n",
       "    </tr>\n",
       "    <tr>\n",
       "      <th>Q99878</th>\n",
       "      <td>Q99878</td>\n",
       "      <td>10.902514</td>\n",
       "    </tr>\n",
       "    <tr>\n",
       "      <th>H0YFX9</th>\n",
       "      <td>H0YFX9</td>\n",
       "      <td>10.902514</td>\n",
       "    </tr>\n",
       "  </tbody>\n",
       "</table>\n",
       "</div>"
      ],
      "text/plain": [
       "       Observed Proteome  iBAQ observed (log10)\n",
       "P62805            P62805              11.014521\n",
       "P0C0S8            P0C0S8              10.902514\n",
       "P20671            P20671              10.902514\n",
       "Q6FI13            Q6FI13              10.902514\n",
       "Q16777            Q16777              10.902514\n",
       "Q9BTM1            Q9BTM1              10.902514\n",
       "Q96KK5            Q96KK5              10.902514\n",
       "Q99878            Q99878              10.902514\n",
       "H0YFX9            H0YFX9              10.902514"
      ]
     },
     "execution_count": 22,
     "metadata": {},
     "output_type": "execute_result"
    }
   ],
   "source": [
    "back.index = back[col_background_an].tolist()\n",
    "back"
   ]
  },
  {
   "cell_type": "code",
   "execution_count": 2,
   "metadata": {
    "collapsed": false
   },
   "outputs": [],
   "source": [
    "#pd.concat([sample_ser, back], axis=1)"
   ]
  },
  {
   "cell_type": "code",
   "execution_count": 1,
   "metadata": {
    "collapsed": false
   },
   "outputs": [
    {
     "name": "stderr",
     "output_type": "stream",
     "text": [
      "load obo file /Users/dblyon/CloudStation/CPR/Brian_GO/go_rescources/go_obo/go-basic.obo\n",
      "44951"
     ]
    },
    {
     "name": "stdout",
     "output_type": "stream",
     "text": [
      "('Yeast_Acetyl_vs_Observed.txt', 'Acetyl', 'Observed')\n",
      "0    P40545\n",
      "1    P09201\n",
      "2    P14066\n",
      "Name: Acetyl, dtype: object\n",
      "(1159,)\n",
      "  Observed Proteome  iBAQ observed (log10)\n",
      "0            P00359              11.077513\n",
      "1            P00925              10.969784\n",
      "2            P02994              10.768498\n",
      "(4248, 2)\n",
      "####\n",
      "0    P40545\n",
      "1    P09201\n",
      "2    P14066\n",
      "Name: Acetyl, dtype: object\n",
      "(1159,)\n",
      "()\n",
      "  Observed Proteome  iBAQ observed (log10)\n",
      "0            P00359              11.077513\n",
      "1            P00925              10.969784\n",
      "2            P02994              10.768498\n",
      "(4353, 2)\n"
     ]
    },
    {
     "name": "stderr",
     "output_type": "stream",
     "text": [
      " nodes imported\n"
     ]
    },
    {
     "ename": "ValueError",
     "evalue": "Shape of passed values is (3, 4383), indices imply (3, 4366)",
     "output_type": "error",
     "traceback": [
      "\u001b[0;31m---------------------------------------------------------------------------\u001b[0m",
      "\u001b[0;31mValueError\u001b[0m                                Traceback (most recent call last)",
      "\u001b[0;32m/Users/dblyon/modules/cpr/goterm/run_goenrichment.py\u001b[0m in \u001b[0;36m<module>\u001b[0;34m()\u001b[0m\n\u001b[1;32m     91\u001b[0m \u001b[0;34m\u001b[0m\u001b[0m\n\u001b[1;32m     92\u001b[0m             \u001b[0;32mprint\u001b[0m\u001b[0;34m(\u001b[0m\u001b[0mfn_out\u001b[0m\u001b[0;34m,\u001b[0m \u001b[0mmodification\u001b[0m\u001b[0;34m,\u001b[0m \u001b[0mbackground\u001b[0m\u001b[0;34m)\u001b[0m\u001b[0;34m\u001b[0m\u001b[0m\n\u001b[0;32m---> 93\u001b[0;31m             \u001b[0mui\u001b[0m \u001b[0;34m=\u001b[0m \u001b[0mgoretriever\u001b[0m\u001b[0;34m.\u001b[0m\u001b[0mUserInput\u001b[0m\u001b[0;34m(\u001b[0m\u001b[0muserinput_fn\u001b[0m\u001b[0;34m,\u001b[0m \u001b[0mnum_bins\u001b[0m\u001b[0;34m,\u001b[0m \u001b[0mcol_sample_an\u001b[0m\u001b[0;34m,\u001b[0m \u001b[0mcol_background_an\u001b[0m\u001b[0;34m,\u001b[0m \u001b[0mcol_background_int\u001b[0m\u001b[0;34m,\u001b[0m \u001b[0mdecimal\u001b[0m\u001b[0;34m)\u001b[0m\u001b[0;34m\u001b[0m\u001b[0m\n\u001b[0m\u001b[1;32m     94\u001b[0m \u001b[0;34m\u001b[0m\u001b[0m\n\u001b[1;32m     95\u001b[0m             \u001b[0mgostudy\u001b[0m \u001b[0;34m=\u001b[0m \u001b[0mgo_enrichment_dbl\u001b[0m\u001b[0;34m.\u001b[0m\u001b[0mGOEnrichmentStudy\u001b[0m\u001b[0;34m(\u001b[0m\u001b[0mui\u001b[0m\u001b[0;34m,\u001b[0m \u001b[0massoc_dict\u001b[0m\u001b[0;34m,\u001b[0m \u001b[0mobo_dag\u001b[0m\u001b[0;34m,\u001b[0m \u001b[0malpha\u001b[0m\u001b[0;34m,\u001b[0m \u001b[0mmethods\u001b[0m\u001b[0;34m,\u001b[0m \u001b[0mbacktracking\u001b[0m\u001b[0;34m,\u001b[0m \u001b[0mrandomSample\u001b[0m\u001b[0;34m,\u001b[0m \u001b[0mabcorr\u001b[0m\u001b[0;34m)\u001b[0m\u001b[0;34m\u001b[0m\u001b[0m\n",
      "\u001b[0;32m/Users/dblyon/modules/cpr/goterm/goretriever.py\u001b[0m in \u001b[0;36m__init__\u001b[0;34m(self, user_input_fn, num_bins, col_sample_an, col_background_an, col_background_int, decimal)\u001b[0m\n\u001b[1;32m    173\u001b[0m         \u001b[0mself\u001b[0m\u001b[0;34m.\u001b[0m\u001b[0mcol_background_an\u001b[0m \u001b[0;34m=\u001b[0m \u001b[0mcol_background_an\u001b[0m\u001b[0;34m\u001b[0m\u001b[0m\n\u001b[1;32m    174\u001b[0m         \u001b[0mself\u001b[0m\u001b[0;34m.\u001b[0m\u001b[0mcol_background_int\u001b[0m \u001b[0;34m=\u001b[0m \u001b[0mcol_background_int\u001b[0m\u001b[0;34m\u001b[0m\u001b[0m\n\u001b[0;32m--> 175\u001b[0;31m         \u001b[0mself\u001b[0m\u001b[0;34m.\u001b[0m\u001b[0mcleanupforanalysis\u001b[0m\u001b[0;34m(\u001b[0m\u001b[0;34m)\u001b[0m\u001b[0;34m\u001b[0m\u001b[0m\n\u001b[0m\u001b[1;32m    176\u001b[0m \u001b[0;34m\u001b[0m\u001b[0m\n\u001b[1;32m    177\u001b[0m     \u001b[0;32mdef\u001b[0m \u001b[0mcleanupforanalysis\u001b[0m\u001b[0;34m(\u001b[0m\u001b[0mself\u001b[0m\u001b[0;34m)\u001b[0m\u001b[0;34m:\u001b[0m\u001b[0;34m\u001b[0m\u001b[0m\n",
      "\u001b[0;32m/Users/dblyon/modules/cpr/goterm/goretriever.py\u001b[0m in \u001b[0;36mcleanupforanalysis\u001b[0;34m(self)\u001b[0m\n\u001b[1;32m    205\u001b[0m         \u001b[0;32mprint\u001b[0m\u001b[0;34m(\u001b[0m\u001b[0mself\u001b[0m\u001b[0;34m.\u001b[0m\u001b[0mbackgroundfreq_df\u001b[0m\u001b[0;34m.\u001b[0m\u001b[0mshape\u001b[0m\u001b[0;34m)\u001b[0m\u001b[0;34m\u001b[0m\u001b[0m\n\u001b[1;32m    206\u001b[0m         \u001b[0;31m# concatenate data\u001b[0m\u001b[0;34m\u001b[0m\u001b[0;34m\u001b[0m\u001b[0m\n\u001b[0;32m--> 207\u001b[0;31m         \u001b[0mself\u001b[0m\u001b[0;34m.\u001b[0m\u001b[0mdf\u001b[0m \u001b[0;34m=\u001b[0m \u001b[0mself\u001b[0m\u001b[0;34m.\u001b[0m\u001b[0mconcat_and_align_sample_and_background\u001b[0m\u001b[0;34m(\u001b[0m\u001b[0mself\u001b[0m\u001b[0;34m.\u001b[0m\u001b[0msamplefreq_ser\u001b[0m\u001b[0;34m,\u001b[0m \u001b[0mself\u001b[0m\u001b[0;34m.\u001b[0m\u001b[0mbackgroundfreq_df\u001b[0m\u001b[0;34m)\u001b[0m\u001b[0;34m\u001b[0m\u001b[0m\n\u001b[0m\u001b[1;32m    208\u001b[0m         \u001b[0;31m# remove AccessionNumbers from sample and background-frequency without intensity values\u001b[0m\u001b[0;34m\u001b[0m\u001b[0;34m\u001b[0m\u001b[0m\n\u001b[1;32m    209\u001b[0m         \u001b[0mself\u001b[0m\u001b[0;34m.\u001b[0m\u001b[0mdf\u001b[0m  \u001b[0;34m=\u001b[0m \u001b[0mself\u001b[0m\u001b[0;34m.\u001b[0m\u001b[0mdf\u001b[0m\u001b[0;34m.\u001b[0m\u001b[0mloc\u001b[0m\u001b[0;34m[\u001b[0m\u001b[0mpd\u001b[0m\u001b[0;34m.\u001b[0m\u001b[0mnotnull\u001b[0m\u001b[0;34m(\u001b[0m\u001b[0mself\u001b[0m\u001b[0;34m.\u001b[0m\u001b[0mdf\u001b[0m\u001b[0;34m[\u001b[0m\u001b[0mself\u001b[0m\u001b[0;34m.\u001b[0m\u001b[0mcol_background_int\u001b[0m\u001b[0;34m]\u001b[0m\u001b[0;34m)\u001b[0m\u001b[0;34m,\u001b[0m \u001b[0;34m]\u001b[0m\u001b[0;34m\u001b[0m\u001b[0m\n",
      "\u001b[0;32m/Users/dblyon/modules/cpr/goterm/goretriever.py\u001b[0m in \u001b[0;36mconcat_and_align_sample_and_background\u001b[0;34m(self, sample_ser, background_df)\u001b[0m\n\u001b[1;32m    366\u001b[0m         \u001b[0msample_ser\u001b[0m\u001b[0;34m.\u001b[0m\u001b[0mindex\u001b[0m \u001b[0;34m=\u001b[0m \u001b[0msample_ser\u001b[0m\u001b[0;34m.\u001b[0m\u001b[0mtolist\u001b[0m\u001b[0;34m(\u001b[0m\u001b[0;34m)\u001b[0m\u001b[0;34m\u001b[0m\u001b[0m\n\u001b[1;32m    367\u001b[0m         \u001b[0mbackground_df\u001b[0m\u001b[0;34m.\u001b[0m\u001b[0mindex\u001b[0m \u001b[0;34m=\u001b[0m \u001b[0mbackground_df\u001b[0m\u001b[0;34m[\u001b[0m\u001b[0mself\u001b[0m\u001b[0;34m.\u001b[0m\u001b[0mcol_background_an\u001b[0m\u001b[0;34m]\u001b[0m\u001b[0;34m.\u001b[0m\u001b[0mtolist\u001b[0m\u001b[0;34m(\u001b[0m\u001b[0;34m)\u001b[0m\u001b[0;34m\u001b[0m\u001b[0m\n\u001b[0;32m--> 368\u001b[0;31m         \u001b[0;32mreturn\u001b[0m \u001b[0mpd\u001b[0m\u001b[0;34m.\u001b[0m\u001b[0mconcat\u001b[0m\u001b[0;34m(\u001b[0m\u001b[0;34m[\u001b[0m\u001b[0msample_ser\u001b[0m\u001b[0;34m,\u001b[0m \u001b[0mbackground_df\u001b[0m\u001b[0;34m]\u001b[0m\u001b[0;34m,\u001b[0m \u001b[0maxis\u001b[0m\u001b[0;34m=\u001b[0m\u001b[0;36m1\u001b[0m\u001b[0;34m)\u001b[0m\u001b[0;34m\u001b[0m\u001b[0m\n\u001b[0m\u001b[1;32m    369\u001b[0m \u001b[0;34m\u001b[0m\u001b[0m\n\u001b[1;32m    370\u001b[0m     \u001b[0;32mdef\u001b[0m \u001b[0mget_random_background_ans\u001b[0m\u001b[0;34m(\u001b[0m\u001b[0mself\u001b[0m\u001b[0;34m)\u001b[0m\u001b[0;34m:\u001b[0m\u001b[0;34m\u001b[0m\u001b[0m\n",
      "\u001b[0;32m/Library/Python/2.7/site-packages/pandas/tools/merge.pyc\u001b[0m in \u001b[0;36mconcat\u001b[0;34m(objs, axis, join, join_axes, ignore_index, keys, levels, names, verify_integrity, copy)\u001b[0m\n\u001b[1;32m    753\u001b[0m                        \u001b[0mverify_integrity\u001b[0m\u001b[0;34m=\u001b[0m\u001b[0mverify_integrity\u001b[0m\u001b[0;34m,\u001b[0m\u001b[0;34m\u001b[0m\u001b[0m\n\u001b[1;32m    754\u001b[0m                        copy=copy)\n\u001b[0;32m--> 755\u001b[0;31m     \u001b[0;32mreturn\u001b[0m \u001b[0mop\u001b[0m\u001b[0;34m.\u001b[0m\u001b[0mget_result\u001b[0m\u001b[0;34m(\u001b[0m\u001b[0;34m)\u001b[0m\u001b[0;34m\u001b[0m\u001b[0m\n\u001b[0m\u001b[1;32m    756\u001b[0m \u001b[0;34m\u001b[0m\u001b[0m\n\u001b[1;32m    757\u001b[0m \u001b[0;34m\u001b[0m\u001b[0m\n",
      "\u001b[0;32m/Library/Python/2.7/site-packages/pandas/tools/merge.pyc\u001b[0m in \u001b[0;36mget_result\u001b[0;34m(self)\u001b[0m\n\u001b[1;32m    924\u001b[0m \u001b[0;34m\u001b[0m\u001b[0m\n\u001b[1;32m    925\u001b[0m             new_data = concatenate_block_managers(\n\u001b[0;32m--> 926\u001b[0;31m                 mgrs_indexers, self.new_axes, concat_axis=self.axis, copy=self.copy)\n\u001b[0m\u001b[1;32m    927\u001b[0m             \u001b[0;32mif\u001b[0m \u001b[0;32mnot\u001b[0m \u001b[0mself\u001b[0m\u001b[0;34m.\u001b[0m\u001b[0mcopy\u001b[0m\u001b[0;34m:\u001b[0m\u001b[0;34m\u001b[0m\u001b[0m\n\u001b[1;32m    928\u001b[0m                 \u001b[0mnew_data\u001b[0m\u001b[0;34m.\u001b[0m\u001b[0m_consolidate_inplace\u001b[0m\u001b[0;34m(\u001b[0m\u001b[0;34m)\u001b[0m\u001b[0;34m\u001b[0m\u001b[0m\n",
      "\u001b[0;32m/Library/Python/2.7/site-packages/pandas/core/internals.pyc\u001b[0m in \u001b[0;36mconcatenate_block_managers\u001b[0;34m(mgrs_indexers, axes, concat_axis, copy)\u001b[0m\n\u001b[1;32m   4059\u001b[0m               for placement, join_units in concat_plan]\n\u001b[1;32m   4060\u001b[0m \u001b[0;34m\u001b[0m\u001b[0m\n\u001b[0;32m-> 4061\u001b[0;31m     \u001b[0;32mreturn\u001b[0m \u001b[0mBlockManager\u001b[0m\u001b[0;34m(\u001b[0m\u001b[0mblocks\u001b[0m\u001b[0;34m,\u001b[0m \u001b[0maxes\u001b[0m\u001b[0;34m)\u001b[0m\u001b[0;34m\u001b[0m\u001b[0m\n\u001b[0m\u001b[1;32m   4062\u001b[0m \u001b[0;34m\u001b[0m\u001b[0m\n\u001b[1;32m   4063\u001b[0m \u001b[0;34m\u001b[0m\u001b[0m\n",
      "\u001b[0;32m/Library/Python/2.7/site-packages/pandas/core/internals.pyc\u001b[0m in \u001b[0;36m__init__\u001b[0;34m(self, blocks, axes, do_integrity_check, fastpath)\u001b[0m\n\u001b[1;32m   2176\u001b[0m \u001b[0;34m\u001b[0m\u001b[0m\n\u001b[1;32m   2177\u001b[0m         \u001b[0;32mif\u001b[0m \u001b[0mdo_integrity_check\u001b[0m\u001b[0;34m:\u001b[0m\u001b[0;34m\u001b[0m\u001b[0m\n\u001b[0;32m-> 2178\u001b[0;31m             \u001b[0mself\u001b[0m\u001b[0;34m.\u001b[0m\u001b[0m_verify_integrity\u001b[0m\u001b[0;34m(\u001b[0m\u001b[0;34m)\u001b[0m\u001b[0;34m\u001b[0m\u001b[0m\n\u001b[0m\u001b[1;32m   2179\u001b[0m \u001b[0;34m\u001b[0m\u001b[0m\n\u001b[1;32m   2180\u001b[0m         \u001b[0mself\u001b[0m\u001b[0;34m.\u001b[0m\u001b[0m_consolidate_check\u001b[0m\u001b[0;34m(\u001b[0m\u001b[0;34m)\u001b[0m\u001b[0;34m\u001b[0m\u001b[0m\n",
      "\u001b[0;32m/Library/Python/2.7/site-packages/pandas/core/internals.pyc\u001b[0m in \u001b[0;36m_verify_integrity\u001b[0;34m(self)\u001b[0m\n\u001b[1;32m   2387\u001b[0m         \u001b[0;32mfor\u001b[0m \u001b[0mblock\u001b[0m \u001b[0;32min\u001b[0m \u001b[0mself\u001b[0m\u001b[0;34m.\u001b[0m\u001b[0mblocks\u001b[0m\u001b[0;34m:\u001b[0m\u001b[0;34m\u001b[0m\u001b[0m\n\u001b[1;32m   2388\u001b[0m             \u001b[0;32mif\u001b[0m \u001b[0;32mnot\u001b[0m \u001b[0mblock\u001b[0m\u001b[0;34m.\u001b[0m\u001b[0mis_sparse\u001b[0m \u001b[0;32mand\u001b[0m \u001b[0mblock\u001b[0m\u001b[0;34m.\u001b[0m\u001b[0mshape\u001b[0m\u001b[0;34m[\u001b[0m\u001b[0;36m1\u001b[0m\u001b[0;34m:\u001b[0m\u001b[0;34m]\u001b[0m \u001b[0;34m!=\u001b[0m \u001b[0mmgr_shape\u001b[0m\u001b[0;34m[\u001b[0m\u001b[0;36m1\u001b[0m\u001b[0;34m:\u001b[0m\u001b[0;34m]\u001b[0m\u001b[0;34m:\u001b[0m\u001b[0;34m\u001b[0m\u001b[0m\n\u001b[0;32m-> 2389\u001b[0;31m                 \u001b[0mconstruction_error\u001b[0m\u001b[0;34m(\u001b[0m\u001b[0mtot_items\u001b[0m\u001b[0;34m,\u001b[0m \u001b[0mblock\u001b[0m\u001b[0;34m.\u001b[0m\u001b[0mshape\u001b[0m\u001b[0;34m[\u001b[0m\u001b[0;36m1\u001b[0m\u001b[0;34m:\u001b[0m\u001b[0;34m]\u001b[0m\u001b[0;34m,\u001b[0m \u001b[0mself\u001b[0m\u001b[0;34m.\u001b[0m\u001b[0maxes\u001b[0m\u001b[0;34m)\u001b[0m\u001b[0;34m\u001b[0m\u001b[0m\n\u001b[0m\u001b[1;32m   2390\u001b[0m         \u001b[0;32mif\u001b[0m \u001b[0mlen\u001b[0m\u001b[0;34m(\u001b[0m\u001b[0mself\u001b[0m\u001b[0;34m.\u001b[0m\u001b[0mitems\u001b[0m\u001b[0;34m)\u001b[0m \u001b[0;34m!=\u001b[0m \u001b[0mtot_items\u001b[0m\u001b[0;34m:\u001b[0m\u001b[0;34m\u001b[0m\u001b[0m\n\u001b[1;32m   2391\u001b[0m             raise AssertionError('Number of manager items must equal union of '\n",
      "\u001b[0;32m/Library/Python/2.7/site-packages/pandas/core/internals.pyc\u001b[0m in \u001b[0;36mconstruction_error\u001b[0;34m(tot_items, block_shape, axes, e)\u001b[0m\n\u001b[1;32m   3525\u001b[0m         \u001b[0;32mraise\u001b[0m \u001b[0me\u001b[0m\u001b[0;34m\u001b[0m\u001b[0m\n\u001b[1;32m   3526\u001b[0m     raise ValueError(\"Shape of passed values is {0}, indices imply {1}\".format(\n\u001b[0;32m-> 3527\u001b[0;31m         passed,implied))\n\u001b[0m\u001b[1;32m   3528\u001b[0m \u001b[0;34m\u001b[0m\u001b[0m\n\u001b[1;32m   3529\u001b[0m \u001b[0;34m\u001b[0m\u001b[0m\n",
      "\u001b[0;31mValueError\u001b[0m: Shape of passed values is (3, 4383), indices imply (3, 4366)"
     ]
    }
   ],
   "source": [
    "%run run_goenrichment"
   ]
  },
  {
   "cell_type": "code",
   "execution_count": 29,
   "metadata": {
    "collapsed": false
   },
   "outputs": [
    {
     "data": {
      "text/plain": [
       "P62805    P62805\n",
       "bubu        bubu\n",
       "Q71DI3    Q71DI3\n",
       "Name: Phos, dtype: object"
      ]
     },
     "execution_count": 29,
     "metadata": {},
     "output_type": "execute_result"
    }
   ],
   "source": [
    "sample_ser.iloc[0:3]"
   ]
  },
  {
   "cell_type": "code",
   "execution_count": null,
   "metadata": {
    "collapsed": true
   },
   "outputs": [],
   "source": []
  }
 ],
 "metadata": {
  "kernelspec": {
   "display_name": "Python 2",
   "language": "python",
   "name": "python2"
  },
  "language_info": {
   "codemirror_mode": {
    "name": "ipython",
    "version": 2
   },
   "file_extension": ".py",
   "mimetype": "text/x-python",
   "name": "python",
   "nbconvert_exporter": "python",
   "pygments_lexer": "ipython2",
   "version": "2.7.6"
  }
 },
 "nbformat": 4,
 "nbformat_minor": 0
}
