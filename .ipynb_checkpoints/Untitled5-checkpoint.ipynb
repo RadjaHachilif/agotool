{
 "cells": [
  {
   "cell_type": "code",
   "execution_count": 1,
   "metadata": {
    "collapsed": true
   },
   "outputs": [],
   "source": [
    "a = None"
   ]
  },
  {
   "cell_type": "code",
   "execution_count": 2,
   "metadata": {
    "collapsed": false
   },
   "outputs": [
    {
     "name": "stdout",
     "output_type": "stream",
     "text": [
      "None\n"
     ]
    }
   ],
   "source": [
    "print a"
   ]
  },
  {
   "cell_type": "code",
   "execution_count": 3,
   "metadata": {
    "collapsed": false
   },
   "outputs": [
    {
     "ename": "TypeError",
     "evalue": "unsupported operand type(s) for +: 'NoneType' and 'str'",
     "output_type": "error",
     "traceback": [
      "\u001b[0;31m---------------------------------------------------------------------------\u001b[0m",
      "\u001b[0;31mTypeError\u001b[0m                                 Traceback (most recent call last)",
      "\u001b[0;32m<ipython-input-3-18fe54f5be50>\u001b[0m in \u001b[0;36m<module>\u001b[0;34m()\u001b[0m\n\u001b[1;32m      1\u001b[0m \u001b[0;32mwith\u001b[0m \u001b[0mopen\u001b[0m\u001b[0;34m(\u001b[0m\u001b[0;34m\"AAA_parameters.txt\"\u001b[0m\u001b[0;34m,\u001b[0m \u001b[0;34m'w'\u001b[0m\u001b[0;34m)\u001b[0m \u001b[0;32mas\u001b[0m \u001b[0mfh\u001b[0m\u001b[0;34m:\u001b[0m\u001b[0;34m\u001b[0m\u001b[0m\n\u001b[0;32m----> 2\u001b[0;31m             \u001b[0mfh\u001b[0m\u001b[0;34m.\u001b[0m\u001b[0mwrite\u001b[0m\u001b[0;34m(\u001b[0m\u001b[0ma\u001b[0m \u001b[0;34m+\u001b[0m \u001b[0;34m'\\n'\u001b[0m\u001b[0;34m)\u001b[0m\u001b[0;34m\u001b[0m\u001b[0m\n\u001b[0m",
      "\u001b[0;31mTypeError\u001b[0m: unsupported operand type(s) for +: 'NoneType' and 'str'"
     ]
    }
   ],
   "source": [
    "with open(\"AAA_parameters.txt\", 'w') as fh:\n",
    "    fh.write(a + '\\n')"
   ]
  },
  {
   "cell_type": "code",
   "execution_count": 4,
   "metadata": {
    "collapsed": false
   },
   "outputs": [
    {
     "data": {
      "text/plain": [
       "'None'"
      ]
     },
     "execution_count": 4,
     "metadata": {},
     "output_type": "execute_result"
    }
   ],
   "source": [
    "str(a)"
   ]
  },
  {
   "cell_type": "code",
   "execution_count": 2,
   "metadata": {
    "collapsed": false
   },
   "outputs": [],
   "source": [
    "import os\n",
    "home = os.path.expanduser('~')\n",
    "\n",
    "species2files_dict = {\"9606\": {'goa_ref_fn': home + r'/CloudStation/CPR/Brian_GO/go_rescources/UniProt_goa/human/gene_association.goa_ref_human'}}"
   ]
  },
  {
   "cell_type": "code",
   "execution_count": 3,
   "metadata": {
    "collapsed": false
   },
   "outputs": [
    {
     "data": {
      "text/plain": [
       "{'9606': {'goa_ref_fn': '/Users/dblyon/CloudStation/CPR/Brian_GO/go_rescources/UniProt_goa/human/gene_association.goa_ref_human'}}"
      ]
     },
     "execution_count": 3,
     "metadata": {},
     "output_type": "execute_result"
    }
   ],
   "source": [
    "species2files_dict"
   ]
  },
  {
   "cell_type": "code",
   "execution_count": 4,
   "metadata": {
    "collapsed": true
   },
   "outputs": [],
   "source": [
    "pval = 0.05"
   ]
  },
  {
   "cell_type": "code",
   "execution_count": 6,
   "metadata": {
    "collapsed": false
   },
   "outputs": [
    {
     "name": "stdout",
     "output_type": "stream",
     "text": [
      "0.05 <type 'float'> 0.05\n"
     ]
    }
   ],
   "source": [
    "print str(pval), type(pval), \"%s\" % pval"
   ]
  },
  {
   "cell_type": "code",
   "execution_count": 16,
   "metadata": {
    "collapsed": true
   },
   "outputs": [],
   "source": [
    "s=0.5\n",
    "p=1\n",
    "min_ratio = 1"
   ]
  },
  {
   "cell_type": "code",
   "execution_count": 17,
   "metadata": {
    "collapsed": false
   },
   "outputs": [
    {
     "name": "stdout",
     "output_type": "stream",
     "text": [
      "0.5\n",
      "False\n"
     ]
    }
   ],
   "source": [
    "print s/p\n",
    "print s/p > 1"
   ]
  },
  {
   "cell_type": "code",
   "execution_count": 24,
   "metadata": {
    "collapsed": false
   },
   "outputs": [],
   "source": [
    "def is_ratio_different(s, p, min_ratio):\n",
    "    if min_ratio is None:\n",
    "        return True\n",
    "    if s > p:\n",
    "        print s/ p\n",
    "        return s / p > min_ratio\n",
    "    print p / s\n",
    "    return p / s > min_ratio"
   ]
  },
  {
   "cell_type": "code",
   "execution_count": 30,
   "metadata": {
    "collapsed": false
   },
   "outputs": [
    {
     "name": "stdout",
     "output_type": "stream",
     "text": [
      "2.5\n"
     ]
    },
    {
     "data": {
      "text/plain": [
       "True"
      ]
     },
     "execution_count": 30,
     "metadata": {},
     "output_type": "execute_result"
    }
   ],
   "source": [
    "s=0.2\n",
    "p=0.5\n",
    "min_ratio = 1\n",
    "is_ratio_different(s, p, min_ratio)"
   ]
  },
  {
   "cell_type": "code",
   "execution_count": 34,
   "metadata": {
    "collapsed": false
   },
   "outputs": [
    {
     "data": {
      "text/plain": [
       "True"
      ]
     },
     "execution_count": 34,
     "metadata": {},
     "output_type": "execute_result"
    }
   ],
   "source": [
    "True > None"
   ]
  },
  {
   "cell_type": "code",
   "execution_count": 35,
   "metadata": {
    "collapsed": true
   },
   "outputs": [],
   "source": [
    "class GOEnrichmentRecord_UPK(object):\n",
    "    attributes_list = [('id', '%s'), ('enrichment', '%s'), ('perc_enrichment_study', \"%0.1f\"),\n",
    "                   ('perc_enrichment_pop', \"%0.1f\"), ('fold_enrichment_study2pop', \"%0.2f\"),\n",
    "                   ('study_count', '%s'), ('study_n', '%s'), ('pop_count','%s'), ('pop_n', '%s'),\n",
    "                   ('p_uncorrected', \"%.3g\"), ('ANs_study', '%s'), ('ANs_pop', '%s')]\n",
    "    def __init__(self):\n",
    "        pass"
   ]
  },
  {
   "cell_type": "code",
   "execution_count": 36,
   "metadata": {
    "collapsed": true
   },
   "outputs": [],
   "source": [
    "rec = GOEnrichmentRecord_UPK()"
   ]
  },
  {
   "cell_type": "code",
   "execution_count": 38,
   "metadata": {
    "collapsed": false
   },
   "outputs": [
    {
     "data": {
      "text/plain": [
       "[('id', '%s'),\n",
       " ('enrichment', '%s'),\n",
       " ('perc_enrichment_study', '%0.1f'),\n",
       " ('perc_enrichment_pop', '%0.1f'),\n",
       " ('fold_enrichment_study2pop', '%0.2f'),\n",
       " ('study_count', '%s'),\n",
       " ('study_n', '%s'),\n",
       " ('pop_count', '%s'),\n",
       " ('pop_n', '%s'),\n",
       " ('p_uncorrected', '%.3g'),\n",
       " ('ANs_study', '%s'),\n",
       " ('ANs_pop', '%s')]"
      ]
     },
     "execution_count": 38,
     "metadata": {},
     "output_type": "execute_result"
    }
   ],
   "source": [
    "rec.attributes_list"
   ]
  },
  {
   "cell_type": "code",
   "execution_count": 40,
   "metadata": {
    "collapsed": false
   },
   "outputs": [
    {
     "data": {
      "text/plain": [
       "[('id', '%s'),\n",
       " ('enrichment', '%s'),\n",
       " ('perc_enrichment_study', '%0.1f'),\n",
       " ('perc_enrichment_pop', '%0.1f'),\n",
       " ('fold_enrichment_study2pop', '%0.2f'),\n",
       " ('study_count', '%s'),\n",
       " ('study_n', '%s'),\n",
       " ('pop_count', '%s'),\n",
       " ('pop_n', '%s'),\n",
       " ('p_uncorrected', '%.3g'),\n",
       " ('ANs_study', '%s'),\n",
       " ('ANs_pop', '%s')]"
      ]
     },
     "execution_count": 40,
     "metadata": {},
     "output_type": "execute_result"
    }
   ],
   "source": [
    "GOEnrichmentRecord_UPK.attributes_list"
   ]
  },
  {
   "cell_type": "code",
   "execution_count": 41,
   "metadata": {
    "collapsed": true
   },
   "outputs": [],
   "source": [
    "GOEnrichmentRecord_UPK.attributes_list.append([('bubu', '%s')])"
   ]
  },
  {
   "cell_type": "code",
   "execution_count": 42,
   "metadata": {
    "collapsed": false
   },
   "outputs": [
    {
     "data": {
      "text/plain": [
       "[('id', '%s'),\n",
       " ('enrichment', '%s'),\n",
       " ('perc_enrichment_study', '%0.1f'),\n",
       " ('perc_enrichment_pop', '%0.1f'),\n",
       " ('fold_enrichment_study2pop', '%0.2f'),\n",
       " ('study_count', '%s'),\n",
       " ('study_n', '%s'),\n",
       " ('pop_count', '%s'),\n",
       " ('pop_n', '%s'),\n",
       " ('p_uncorrected', '%.3g'),\n",
       " ('ANs_study', '%s'),\n",
       " ('ANs_pop', '%s'),\n",
       " [('bubu', '%s')]]"
      ]
     },
     "execution_count": 42,
     "metadata": {},
     "output_type": "execute_result"
    }
   ],
   "source": [
    "rec.attributes_list"
   ]
  },
  {
   "cell_type": "code",
   "execution_count": 43,
   "metadata": {
    "collapsed": false
   },
   "outputs": [
    {
     "data": {
      "text/plain": [
       "[('id', '%s'),\n",
       " ('enrichment', '%s'),\n",
       " ('perc_enrichment_study', '%0.1f'),\n",
       " ('perc_enrichment_pop', '%0.1f'),\n",
       " ('fold_enrichment_study2pop', '%0.2f'),\n",
       " ('study_count', '%s'),\n",
       " ('study_n', '%s'),\n",
       " ('pop_count', '%s'),\n",
       " ('pop_n', '%s'),\n",
       " ('p_uncorrected', '%.3g'),\n",
       " ('ANs_study', '%s'),\n",
       " ('ANs_pop', '%s'),\n",
       " [('bubu', '%s')]]"
      ]
     },
     "execution_count": 43,
     "metadata": {},
     "output_type": "execute_result"
    }
   ],
   "source": [
    "GOEnrichmentRecord_UPK.attributes_list"
   ]
  },
  {
   "cell_type": "code",
   "execution_count": 1,
   "metadata": {
    "collapsed": false
   },
   "outputs": [
    {
     "data": {
      "text/plain": [
       "u'/Users/dblyon/modules/cpr/goterm'"
      ]
     },
     "execution_count": 1,
     "metadata": {},
     "output_type": "execute_result"
    }
   ],
   "source": [
    "pwd"
   ]
  },
  {
   "cell_type": "code",
   "execution_count": 2,
   "metadata": {
    "collapsed": false
   },
   "outputs": [
    {
     "name": "stdout",
     "output_type": "stream",
     "text": [
      "/Users/dblyon/modules/cpr/goterm/phomics/static/python\n"
     ]
    }
   ],
   "source": [
    "cd phomics/static/python/"
   ]
  },
  {
   "cell_type": "code",
   "execution_count": 3,
   "metadata": {
    "collapsed": false
   },
   "outputs": [],
   "source": [
    "%run gotupk"
   ]
  },
  {
   "cell_type": "code",
   "execution_count": 6,
   "metadata": {
    "collapsed": false
   },
   "outputs": [
    {
     "data": {
      "text/plain": [
       "{'ANs_pop': 'O13535,P06777,P06838,P07276,P08466,P09880,P0C2I6,P0C2I7,P0C2I9,P0C2J0,P0C2J1,P0CX63,P15436,P17255,P22147,P26793,P31384,P32829,P33309,P34220,P36159,P38319,P38430,P38859,P39008,P39112,P47098,P47100,P48581,P53010,P53063,P53331,P53942,P54964,Q02555,Q02773,Q02792,Q02933,Q03264,Q03434,Q04214,Q04740,Q06224,Q08162,Q08213,Q08237,Q08444,Q12090,Q12112,Q12149,Q12273,Q12337,Q12414,Q12490,Q99337',\n",
       " 'ANs_study': 'P0C2I9,P15436,P17255,P22147,P26793,P33309,P38859,P53063,Q02555,Q02792,Q03434,Q06224,Q08162,Q08237,Q12149',\n",
       " 'fold_enrichment_study2pop': 1.5,\n",
       " 'id': 'Nuclease',\n",
       " 'p_bonferroni': 128.63118342417127,\n",
       " 'p_uncorrected': 0.42174158499728287,\n",
       " 'perc_enrichment_pop': 0.8888888888888888,\n",
       " 'perc_enrichment_study': 1.3333333333333335,\n",
       " 'pop_count': 10,\n",
       " 'pop_n': 1125,\n",
       " 'study_count': 15,\n",
       " 'study_n': 1125}"
      ]
     },
     "execution_count": 6,
     "metadata": {},
     "output_type": "execute_result"
    }
   ],
   "source": [
    "res.__dict__"
   ]
  },
  {
   "cell_type": "code",
   "execution_count": 7,
   "metadata": {
    "collapsed": false
   },
   "outputs": [
    {
     "data": {
      "text/plain": [
       "1125"
      ]
     },
     "execution_count": 7,
     "metadata": {},
     "output_type": "execute_result"
    }
   ],
   "source": [
    "res.pop_n"
   ]
  },
  {
   "cell_type": "code",
   "execution_count": 8,
   "metadata": {
    "collapsed": false
   },
   "outputs": [
    {
     "data": {
      "text/plain": [
       "128.63118342417127"
      ]
     },
     "execution_count": 8,
     "metadata": {},
     "output_type": "execute_result"
    }
   ],
   "source": [
    "res.p_bonferroni"
   ]
  },
  {
   "cell_type": "code",
   "execution_count": 10,
   "metadata": {
    "collapsed": false
   },
   "outputs": [
    {
     "data": {
      "text/plain": [
       "128.63118342417127"
      ]
     },
     "execution_count": 10,
     "metadata": {},
     "output_type": "execute_result"
    }
   ],
   "source": [
    "attr = 'p_bonferroni'\n",
    "res.__dict__[attr]"
   ]
  },
  {
   "cell_type": "code",
   "execution_count": 7,
   "metadata": {
    "collapsed": true
   },
   "outputs": [],
   "source": [
    "a = 0.00001\n",
    "thr = None"
   ]
  },
  {
   "cell_type": "code",
   "execution_count": 8,
   "metadata": {
    "collapsed": false
   },
   "outputs": [],
   "source": [
    "if a <= thr:\n",
    "    print a"
   ]
  },
  {
   "cell_type": "code",
   "execution_count": 9,
   "metadata": {
    "collapsed": true
   },
   "outputs": [],
   "source": [
    "if thr >= a:\n",
    "    print a"
   ]
  },
  {
   "cell_type": "code",
   "execution_count": 11,
   "metadata": {
    "collapsed": false
   },
   "outputs": [
    {
     "name": "stdout",
     "output_type": "stream",
     "text": [
      "Help on built-in function filter in module __builtin__:\n",
      "\n",
      "filter(...)\n",
      "    filter(function or None, sequence) -> list, tuple, or string\n",
      "    \n",
      "    Return those items of sequence for which function(item) is true.  If\n",
      "    function is None, return the items that are true.  If sequence is a tuple\n",
      "    or string, return the same type, else return a list.\n",
      "\n"
     ]
    }
   ],
   "source": [
    "help(filter)"
   ]
  },
  {
   "cell_type": "code",
   "execution_count": 49,
   "metadata": {
    "collapsed": false
   },
   "outputs": [],
   "source": [
    "a = 0.002\n",
    "thr = 0.01"
   ]
  },
  {
   "cell_type": "code",
   "execution_count": 50,
   "metadata": {
    "collapsed": false
   },
   "outputs": [
    {
     "name": "stdout",
     "output_type": "stream",
     "text": [
      "0.002\n"
     ]
    }
   ],
   "source": [
    "if a <= thr or thr is None:\n",
    "    print a"
   ]
  },
  {
   "cell_type": "code",
   "execution_count": 53,
   "metadata": {
    "collapsed": false
   },
   "outputs": [
    {
     "data": {
      "text/plain": [
       "[0, 1, 2, 3, 4, 5, 6, 7]"
      ]
     },
     "execution_count": 53,
     "metadata": {},
     "output_type": "execute_result"
    }
   ],
   "source": [
    "l = range(0, 8)\n",
    "l"
   ]
  },
  {
   "cell_type": "code",
   "execution_count": 54,
   "metadata": {
    "collapsed": false
   },
   "outputs": [
    {
     "data": {
      "text/plain": [
       "[0, 1, 2, 3, 4, 5, 6, 7, 8]"
      ]
     },
     "execution_count": 54,
     "metadata": {},
     "output_type": "execute_result"
    }
   ],
   "source": [
    "l.append(8)\n",
    "l"
   ]
  },
  {
   "cell_type": "code",
   "execution_count": 57,
   "metadata": {
    "collapsed": true
   },
   "outputs": [],
   "source": [
    "l += [9, 10]"
   ]
  },
  {
   "cell_type": "code",
   "execution_count": 58,
   "metadata": {
    "collapsed": false
   },
   "outputs": [
    {
     "data": {
      "text/plain": [
       "[0, 1, 2, 3, 4, 5, 6, 7, 8, [9, 10], 9, 10]"
      ]
     },
     "execution_count": 58,
     "metadata": {},
     "output_type": "execute_result"
    }
   ],
   "source": [
    "l"
   ]
  },
  {
   "cell_type": "code",
   "execution_count": 59,
   "metadata": {
    "collapsed": true
   },
   "outputs": [],
   "source": [
    "def calc_benjamini_hochberg_corrections(p_values, num_total_tests):\n",
    "    \"\"\"\n",
    "    Calculates the Benjamini-Hochberg correction for multiple hypothesis\n",
    "    testing from a list of p-values *sorted in ascending order*.\n",
    "\n",
    "    See\n",
    "    http://en.wikipedia.org/wiki/False_discovery_rate#Independent_tests\n",
    "    for more detail on the theory behind the correction.\n",
    "\n",
    "    **NOTE:** This is a generator, not a function. It will yield values\n",
    "    until all calculations have completed.\n",
    "\n",
    "    :Parameters:\n",
    "    - `p_values`: a list or iterable of p-values sorted in ascending\n",
    "      order\n",
    "    - `num_total_tests`: the total number of tests (p-values)\n",
    "\n",
    "    \"\"\"\n",
    "    prev_bh_value = 0\n",
    "    for i, p_value in enumerate(p_values):\n",
    "        bh_value = p_value * num_total_tests / (i + 1)\n",
    "        # Sometimes this correction can give values greater than 1,\n",
    "        # so we set those values at 1\n",
    "        bh_value = min(bh_value, 1)\n",
    "\n",
    "        # To preserve monotonicity in the values, we take the\n",
    "        # maximum of the previous value or this one, so that we\n",
    "        # don't yield a value less than the previous.\n",
    "        bh_value = max(bh_value, prev_bh_value)\n",
    "        prev_bh_value = bh_value\n",
    "        yield bh_value"
   ]
  },
  {
   "cell_type": "code",
   "execution_count": 82,
   "metadata": {
    "collapsed": false
   },
   "outputs": [
    {
     "name": "stdout",
     "output_type": "stream",
     "text": [
      "50\n"
     ]
    },
    {
     "data": {
      "text/plain": [
       "array([ 0.8001    ,  0.80438367,  0.80866735,  0.81295102,  0.81723469,\n",
       "        0.82151837,  0.82580204,  0.83008571,  0.83436939,  0.83865306,\n",
       "        0.84293673,  0.84722041,  0.85150408,  0.85578776,  0.86007143,\n",
       "        0.8643551 ,  0.86863878,  0.87292245,  0.87720612,  0.8814898 ,\n",
       "        0.88577347,  0.89005714,  0.89434082,  0.89862449,  0.90290816,\n",
       "        0.90719184,  0.91147551,  0.91575918,  0.92004286,  0.92432653,\n",
       "        0.9286102 ,  0.93289388,  0.93717755,  0.94146122,  0.9457449 ,\n",
       "        0.95002857,  0.95431224,  0.95859592,  0.96287959,  0.96716327,\n",
       "        0.97144694,  0.97573061,  0.98001429,  0.98429796,  0.98858163,\n",
       "        0.99286531,  0.99714898,  1.00143265,  1.00571633,  1.01      ])"
      ]
     },
     "execution_count": 82,
     "metadata": {},
     "output_type": "execute_result"
    }
   ],
   "source": [
    "import numpy as np\n",
    "p_values = np.linspace(0.0001, 0.01)\n",
    "print len(p_values)\n",
    "p_values"
   ]
  },
  {
   "cell_type": "code",
   "execution_count": 78,
   "metadata": {
    "collapsed": false
   },
   "outputs": [],
   "source": [
    "bh = calc_benjamini_hochberg_corrections(p_values, len(p_values))"
   ]
  },
  {
   "cell_type": "code",
   "execution_count": 79,
   "metadata": {
    "collapsed": false
   },
   "outputs": [],
   "source": [
    "bh_list = []\n",
    "for ele in p_values:\n",
    "    bh_list.append(bh.next())"
   ]
  },
  {
   "cell_type": "code",
   "execution_count": 80,
   "metadata": {
    "collapsed": false
   },
   "outputs": [
    {
     "data": {
      "text/plain": [
       "array([ 0.005     ,  0.00755102,  0.00840136,  0.00882653,  0.00908163,\n",
       "        0.0092517 ,  0.00937318,  0.00946429,  0.00953515,  0.00959184,\n",
       "        0.00963822,  0.00967687,  0.00970958,  0.00973761,  0.0097619 ,\n",
       "        0.00978316,  0.00980192,  0.00981859,  0.00983351,  0.00984694,\n",
       "        0.00985909,  0.00987013,  0.00988021,  0.00988946,  0.00989796,\n",
       "        0.00990581,  0.00991308,  0.00991983,  0.00992611,  0.00993197,\n",
       "        0.00993746,  0.0099426 ,  0.00994743,  0.00995198,  0.00995627,\n",
       "        0.00996032,  0.00996415,  0.00996778,  0.00997122,  0.00997449,\n",
       "        0.0099776 ,  0.00998056,  0.00998339,  0.00998609,  0.00998866,\n",
       "        0.00999113,  0.00999349,  0.00999575,  0.00999792,  0.01      ])"
      ]
     },
     "execution_count": 80,
     "metadata": {},
     "output_type": "execute_result"
    }
   ],
   "source": [
    "np.array(bh_list)"
   ]
  },
  {
   "cell_type": "code",
   "execution_count": 81,
   "metadata": {
    "collapsed": false
   },
   "outputs": [
    {
     "data": {
      "text/plain": [
       "array([ 0.005     ,  0.01510204,  0.02520408,  0.03530612,  0.04540816,\n",
       "        0.0555102 ,  0.06561224,  0.07571429,  0.08581633,  0.09591837,\n",
       "        0.10602041,  0.11612245,  0.12622449,  0.13632653,  0.14642857,\n",
       "        0.15653061,  0.16663265,  0.17673469,  0.18683673,  0.19693878,\n",
       "        0.20704082,  0.21714286,  0.2272449 ,  0.23734694,  0.24744898,\n",
       "        0.25755102,  0.26765306,  0.2777551 ,  0.28785714,  0.29795918,\n",
       "        0.30806122,  0.31816327,  0.32826531,  0.33836735,  0.34846939,\n",
       "        0.35857143,  0.36867347,  0.37877551,  0.38887755,  0.39897959,\n",
       "        0.40908163,  0.41918367,  0.42928571,  0.43938776,  0.4494898 ,\n",
       "        0.45959184,  0.46969388,  0.47979592,  0.48989796,  0.5       ])"
      ]
     },
     "execution_count": 81,
     "metadata": {},
     "output_type": "execute_result"
    }
   ],
   "source": [
    "p_values * len(p_values)"
   ]
  },
  {
   "cell_type": "code",
   "execution_count": null,
   "metadata": {
    "collapsed": true
   },
   "outputs": [],
   "source": []
  },
  {
   "cell_type": "code",
   "execution_count": null,
   "metadata": {
    "collapsed": true
   },
   "outputs": [],
   "source": []
  }
 ],
 "metadata": {
  "kernelspec": {
   "display_name": "Python 2",
   "language": "python",
   "name": "python2"
  },
  "language_info": {
   "codemirror_mode": {
    "name": "ipython",
    "version": 2
   },
   "file_extension": ".py",
   "mimetype": "text/x-python",
   "name": "python",
   "nbconvert_exporter": "python",
   "pygments_lexer": "ipython2",
   "version": "2.7.6"
  }
 },
 "nbformat": 4,
 "nbformat_minor": 0
}
