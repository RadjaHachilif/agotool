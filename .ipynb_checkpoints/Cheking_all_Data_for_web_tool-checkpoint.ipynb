{
 "cells": [
  {
   "cell_type": "code",
   "execution_count": 1,
   "metadata": {
    "collapsed": true
   },
   "outputs": [],
   "source": [
    "import pandas as pd"
   ]
  },
  {
   "cell_type": "code",
   "execution_count": 4,
   "metadata": {
    "collapsed": false
   },
   "outputs": [],
   "source": [
    "fn = r'/Users/dblyon/CloudStation/CPR/Brian_GO/alldata/Data_for_web_tool_yeast.txt'\n",
    "df = pd.read_csv(fn, sep='\\t')"
   ]
  },
  {
   "cell_type": "code",
   "execution_count": 5,
   "metadata": {
    "collapsed": false
   },
   "outputs": [
    {
     "data": {
      "text/html": [
       "<div style=\"max-height:1000px;max-width:1500px;overflow:auto;\">\n",
       "<table border=\"1\" class=\"dataframe\">\n",
       "  <thead>\n",
       "    <tr style=\"text-align: right;\">\n",
       "      <th></th>\n",
       "      <th>Genome</th>\n",
       "      <th>iBAQ observed (log10)</th>\n",
       "      <th>Observed Proteome</th>\n",
       "      <th>Phos</th>\n",
       "      <th>Ubi</th>\n",
       "      <th>Acetyl</th>\n",
       "      <th>Succinyl</th>\n",
       "    </tr>\n",
       "  </thead>\n",
       "  <tbody>\n",
       "    <tr>\n",
       "      <th>0</th>\n",
       "      <td>P38903</td>\n",
       "      <td>11,07751325</td>\n",
       "      <td>P00359</td>\n",
       "      <td>P0C2J1</td>\n",
       "      <td>P53907</td>\n",
       "      <td>P40545</td>\n",
       "      <td>Q04748</td>\n",
       "    </tr>\n",
       "    <tr>\n",
       "      <th>1</th>\n",
       "      <td>P31383</td>\n",
       "      <td>10,96978388</td>\n",
       "      <td>P00925</td>\n",
       "      <td>P40456</td>\n",
       "      <td>P06775</td>\n",
       "      <td>P09201</td>\n",
       "      <td>Q05022</td>\n",
       "    </tr>\n",
       "    <tr>\n",
       "      <th>2</th>\n",
       "      <td>Q00362</td>\n",
       "      <td>10,76849751</td>\n",
       "      <td>P02994</td>\n",
       "      <td>P25364</td>\n",
       "      <td>Q08986</td>\n",
       "      <td>P14066</td>\n",
       "      <td>Q03434</td>\n",
       "    </tr>\n",
       "    <tr>\n",
       "      <th>3</th>\n",
       "      <td>P47177</td>\n",
       "      <td>10,74716312</td>\n",
       "      <td>P06169</td>\n",
       "      <td>P25364</td>\n",
       "      <td>P38723</td>\n",
       "      <td>P25040</td>\n",
       "      <td>P32590</td>\n",
       "    </tr>\n",
       "    <tr>\n",
       "      <th>4</th>\n",
       "      <td>P47096</td>\n",
       "      <td>10,74614359</td>\n",
       "      <td>P00560</td>\n",
       "      <td>P14737</td>\n",
       "      <td>P38196</td>\n",
       "      <td>P20050</td>\n",
       "      <td>Q03434</td>\n",
       "    </tr>\n",
       "  </tbody>\n",
       "</table>\n",
       "</div>"
      ],
      "text/plain": [
       "   Genome iBAQ observed (log10) Observed Proteome    Phos     Ubi  Acetyl  \\\n",
       "0  P38903           11,07751325            P00359  P0C2J1  P53907  P40545   \n",
       "1  P31383           10,96978388            P00925  P40456  P06775  P09201   \n",
       "2  Q00362           10,76849751            P02994  P25364  Q08986  P14066   \n",
       "3  P47177           10,74716312            P06169  P25364  P38723  P25040   \n",
       "4  P47096           10,74614359            P00560  P14737  P38196  P20050   \n",
       "\n",
       "  Succinyl  \n",
       "0   Q04748  \n",
       "1   Q05022  \n",
       "2   Q03434  \n",
       "3   P32590  \n",
       "4   Q03434  "
      ]
     },
     "execution_count": 5,
     "metadata": {},
     "output_type": "execute_result"
    }
   ],
   "source": [
    "df.head()"
   ]
  },
  {
   "cell_type": "code",
   "execution_count": 30,
   "metadata": {
    "collapsed": false
   },
   "outputs": [
    {
     "name": "stdout",
     "output_type": "stream",
     "text": [
      "Shape:  (68561, 7)\n",
      "Genome :  68561 68561\n",
      "iBAQ observed (log10) :  7039 6938\n",
      "Observed Proteome :  7039 6965\n",
      "Phos :  15253 4421\n",
      "Ubi :  7087 2706\n",
      "Acetyl :  4070 1868\n",
      "Succinyl :  1905 856\n"
     ]
    }
   ],
   "source": [
    "print 'Shape: ', df.shape\n",
    "for colname in df.columns.tolist():\n",
    "    print colname, ': ', len(df.loc[pd.notnull(df[colname]), colname]), len(df.loc[pd.notnull(df[colname]), colname].drop_duplicates())"
   ]
  },
  {
   "cell_type": "code",
   "execution_count": 11,
   "metadata": {
    "collapsed": false
   },
   "outputs": [],
   "source": [
    "fn = r'/Users/dblyon/CloudStation/CPR/Brian_GO/alldata/Data_for_web_tool_HeLa.txt'\n",
    "df = pd.read_csv(fn, sep='\\t')"
   ]
  },
  {
   "cell_type": "code",
   "execution_count": 12,
   "metadata": {
    "collapsed": false
   },
   "outputs": [
    {
     "data": {
      "text/html": [
       "<div style=\"max-height:1000px;max-width:1500px;overflow:auto;\">\n",
       "<table border=\"1\" class=\"dataframe\">\n",
       "  <thead>\n",
       "    <tr style=\"text-align: right;\">\n",
       "      <th></th>\n",
       "      <th>Genome</th>\n",
       "      <th>iBAQ observed (log10)</th>\n",
       "      <th>Observed Proteome</th>\n",
       "      <th>Phos</th>\n",
       "      <th>Ubi</th>\n",
       "      <th>Acetyl</th>\n",
       "      <th>Succinyl</th>\n",
       "    </tr>\n",
       "  </thead>\n",
       "  <tbody>\n",
       "    <tr>\n",
       "      <th>0</th>\n",
       "      <td>P31946</td>\n",
       "      <td>6,494988974</td>\n",
       "      <td>A0AVF1</td>\n",
       "      <td>Q9UHI6</td>\n",
       "      <td>Q01469</td>\n",
       "      <td>P18583</td>\n",
       "      <td>Q4AC94</td>\n",
       "    </tr>\n",
       "    <tr>\n",
       "      <th>1</th>\n",
       "      <td>P62258</td>\n",
       "      <td>8,380120754</td>\n",
       "      <td>A0AVT1</td>\n",
       "      <td>Q13075</td>\n",
       "      <td>J3QRK5</td>\n",
       "      <td>Q15596</td>\n",
       "      <td>P83111</td>\n",
       "    </tr>\n",
       "    <tr>\n",
       "      <th>2</th>\n",
       "      <td>Q04917</td>\n",
       "      <td>8,224274014</td>\n",
       "      <td>A0FGR8</td>\n",
       "      <td>A6NDB9</td>\n",
       "      <td>Q9BXW9</td>\n",
       "      <td>Q04637</td>\n",
       "      <td>P83111</td>\n",
       "    </tr>\n",
       "    <tr>\n",
       "      <th>3</th>\n",
       "      <td>P61981</td>\n",
       "      <td>6,768660296</td>\n",
       "      <td>A0JLT2</td>\n",
       "      <td>Q9UHI6</td>\n",
       "      <td>Q6W2J9</td>\n",
       "      <td>O15228</td>\n",
       "      <td>O15228</td>\n",
       "    </tr>\n",
       "    <tr>\n",
       "      <th>4</th>\n",
       "      <td>P31947</td>\n",
       "      <td>6,565930421</td>\n",
       "      <td>A0JNW5</td>\n",
       "      <td>A6NFR9</td>\n",
       "      <td>J3QRK5</td>\n",
       "      <td>P01106</td>\n",
       "      <td>Q9BXM0</td>\n",
       "    </tr>\n",
       "  </tbody>\n",
       "</table>\n",
       "</div>"
      ],
      "text/plain": [
       "   Genome iBAQ observed (log10) Observed Proteome    Phos     Ubi  Acetyl  \\\n",
       "0  P31946           6,494988974            A0AVF1  Q9UHI6  Q01469  P18583   \n",
       "1  P62258           8,380120754            A0AVT1  Q13075  J3QRK5  Q15596   \n",
       "2  Q04917           8,224274014            A0FGR8  A6NDB9  Q9BXW9  Q04637   \n",
       "3  P61981           6,768660296            A0JLT2  Q9UHI6  Q6W2J9  O15228   \n",
       "4  P31947           6,565930421            A0JNW5  A6NFR9  J3QRK5  P01106   \n",
       "\n",
       "  Succinyl  \n",
       "0   Q4AC94  \n",
       "1   P83111  \n",
       "2   P83111  \n",
       "3   O15228  \n",
       "4   Q9BXM0  "
      ]
     },
     "execution_count": 12,
     "metadata": {},
     "output_type": "execute_result"
    }
   ],
   "source": [
    "df.head()"
   ]
  },
  {
   "cell_type": "code",
   "execution_count": 13,
   "metadata": {
    "collapsed": false
   },
   "outputs": [
    {
     "name": "stdout",
     "output_type": "stream",
     "text": [
      "(68561, 7)\n",
      "(68561, 7)\n",
      "(6966, 7)\n",
      "(4422, 7)\n",
      "(2707, 7)\n",
      "(1869, 7)\n",
      "(857, 7)\n"
     ]
    }
   ],
   "source": [
    "print df.shape\n",
    "print df.drop_duplicates(subset='Genome').shape\n",
    "print df.drop_duplicates(subset='Observed Proteome').shape\n",
    "print df.drop_duplicates(subset='Phos').shape\n",
    "print df.drop_duplicates(subset='Ubi').shape\n",
    "print df.drop_duplicates(subset='Acetyl').shape\n",
    "print df.drop_duplicates(subset='Succinyl').shape"
   ]
  },
  {
   "cell_type": "code",
   "execution_count": 14,
   "metadata": {
    "collapsed": false
   },
   "outputs": [
    {
     "name": "stdout",
     "output_type": "stream",
     "text": [
      "(857, 7)\n"
     ]
    }
   ],
   "source": [
    "print df.drop_duplicates(subset='Succinyl').shape"
   ]
  },
  {
   "cell_type": "code",
   "execution_count": 24,
   "metadata": {
    "collapsed": false
   },
   "outputs": [
    {
     "data": {
      "text/plain": [
       "856"
      ]
     },
     "execution_count": 24,
     "metadata": {},
     "output_type": "execute_result"
    }
   ],
   "source": [
    "colname = 'Succinyl'\n",
    "len(df.loc[pd.notnull(df[colname]), colname].drop_duplicates())"
   ]
  },
  {
   "cell_type": "code",
   "execution_count": null,
   "metadata": {
    "collapsed": true
   },
   "outputs": [],
   "source": []
  }
 ],
 "metadata": {
  "kernelspec": {
   "display_name": "Python 2",
   "language": "python",
   "name": "python2"
  },
  "language_info": {
   "codemirror_mode": {
    "name": "ipython",
    "version": 2
   },
   "file_extension": ".py",
   "mimetype": "text/x-python",
   "name": "python",
   "nbconvert_exporter": "python",
   "pygments_lexer": "ipython2",
   "version": "2.7.6"
  }
 },
 "nbformat": 4,
 "nbformat_minor": 0
}
