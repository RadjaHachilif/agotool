{
 "cells": [
  {
   "cell_type": "code",
   "execution_count": 44,
   "metadata": {
    "collapsed": true
   },
   "outputs": [],
   "source": [
    "# checking duplicate values"
   ]
  },
  {
   "cell_type": "code",
   "execution_count": 33,
   "metadata": {
    "collapsed": false
   },
   "outputs": [
    {
     "name": "stdout",
     "output_type": "stream",
     "text": [
      "\n"
     ]
    }
   ],
   "source": [
    "import pandas as pd"
   ]
  },
  {
   "cell_type": "code",
   "execution_count": 51,
   "metadata": {
    "collapsed": false
   },
   "outputs": [],
   "source": [
    "fn = r'/Users/dblyon/CloudStation/CPR/Brian_GO/alldata/Data_for_web_tool_Yeast.txt'\n",
    "df = pd.read_csv(fn, sep='\\t')"
   ]
  },
  {
   "cell_type": "code",
   "execution_count": 52,
   "metadata": {
    "collapsed": false
   },
   "outputs": [
    {
     "data": {
      "text/html": [
       "<div style=\"max-height:1000px;max-width:1500px;overflow:auto;\">\n",
       "<table border=\"1\" class=\"dataframe\">\n",
       "  <thead>\n",
       "    <tr style=\"text-align: right;\">\n",
       "      <th></th>\n",
       "      <th>Genome</th>\n",
       "      <th>iBAQ observed (log10)</th>\n",
       "      <th>Observed Proteome</th>\n",
       "      <th>Phos</th>\n",
       "      <th>Ubi</th>\n",
       "      <th>Acetyl</th>\n",
       "      <th>Succinyl</th>\n",
       "    </tr>\n",
       "  </thead>\n",
       "  <tbody>\n",
       "    <tr>\n",
       "      <th>0</th>\n",
       "      <td>P38903</td>\n",
       "      <td>11,07751325</td>\n",
       "      <td>P00359</td>\n",
       "      <td>P0C2J1</td>\n",
       "      <td>P53907</td>\n",
       "      <td>P40545</td>\n",
       "      <td>Q04748</td>\n",
       "    </tr>\n",
       "    <tr>\n",
       "      <th>1</th>\n",
       "      <td>P31383</td>\n",
       "      <td>10,96978388</td>\n",
       "      <td>P00925</td>\n",
       "      <td>P40456</td>\n",
       "      <td>P06775</td>\n",
       "      <td>P09201</td>\n",
       "      <td>Q05022</td>\n",
       "    </tr>\n",
       "    <tr>\n",
       "      <th>2</th>\n",
       "      <td>Q00362</td>\n",
       "      <td>10,76849751</td>\n",
       "      <td>P02994</td>\n",
       "      <td>P25364</td>\n",
       "      <td>Q08986</td>\n",
       "      <td>P14066</td>\n",
       "      <td>Q03434</td>\n",
       "    </tr>\n",
       "    <tr>\n",
       "      <th>3</th>\n",
       "      <td>P47177</td>\n",
       "      <td>10,74716312</td>\n",
       "      <td>P06169</td>\n",
       "      <td>P25364</td>\n",
       "      <td>P38723</td>\n",
       "      <td>P25040</td>\n",
       "      <td>P32590</td>\n",
       "    </tr>\n",
       "    <tr>\n",
       "      <th>4</th>\n",
       "      <td>P47096</td>\n",
       "      <td>10,74614359</td>\n",
       "      <td>P00560</td>\n",
       "      <td>P14737</td>\n",
       "      <td>P38196</td>\n",
       "      <td>P20050</td>\n",
       "      <td>Q03434</td>\n",
       "    </tr>\n",
       "  </tbody>\n",
       "</table>\n",
       "</div>"
      ],
      "text/plain": [
       "   Genome iBAQ observed (log10) Observed Proteome    Phos     Ubi  Acetyl  \\\n",
       "0  P38903           11,07751325            P00359  P0C2J1  P53907  P40545   \n",
       "1  P31383           10,96978388            P00925  P40456  P06775  P09201   \n",
       "2  Q00362           10,76849751            P02994  P25364  Q08986  P14066   \n",
       "3  P47177           10,74716312            P06169  P25364  P38723  P25040   \n",
       "4  P47096           10,74614359            P00560  P14737  P38196  P20050   \n",
       "\n",
       "  Succinyl  \n",
       "0   Q04748  \n",
       "1   Q05022  \n",
       "2   Q03434  \n",
       "3   P32590  \n",
       "4   Q03434  "
      ]
     },
     "execution_count": 52,
     "metadata": {},
     "output_type": "execute_result"
    }
   ],
   "source": [
    "df.head()"
   ]
  },
  {
   "cell_type": "code",
   "execution_count": 53,
   "metadata": {
    "collapsed": false
   },
   "outputs": [
    {
     "name": "stdout",
     "output_type": "stream",
     "text": [
      "Shape:  (10247, 7)\n",
      "Genome : 6721 ,  6721\n",
      "iBAQ observed (log10) : 4248 ,  4210\n",
      "Observed Proteome : 4248 ,  4248\n",
      "Phos : 10247 ,  2460 ,  2191\n",
      "Ubi : 2840 ,  1182 ,  1087\n",
      "Acetyl : 2780 ,  1159 ,  1125\n",
      "Succinyl : 1633 ,  636 ,  631\n"
     ]
    }
   ],
   "source": [
    "print 'Shape: ', df.shape\n",
    "for colname in df.columns.tolist():\n",
    "    if colname in ['Genome', 'iBAQ observed (log10)', 'Observed Proteome']:\n",
    "        print colname, ':', len(df.loc[pd.notnull(df[colname]), colname]), \", \", len(df.loc[pd.notnull(df[colname]), colname].drop_duplicates())\n",
    "    else:\n",
    "        print colname, ':', len(df.loc[pd.notnull(df[colname]), colname]), \", \", len(df.loc[pd.notnull(df[colname]), colname].drop_duplicates()), \", \", len(cleanupforanalysis(df, colname)[0])"
   ]
  },
  {
   "cell_type": "code",
   "execution_count": 54,
   "metadata": {
    "collapsed": false
   },
   "outputs": [],
   "source": [
    "def cleanupforanalysis(df_orig, col_sample_an):\n",
    "    col_sample_an=col_sample_an\n",
    "    col_background_an= 'Observed Proteome'\n",
    "    col_background_int='iBAQ observed (log10)'\n",
    "    # remove duplicate AccessionNumbers and NaNs from samplefrequency and backgroundfrequency\n",
    "    cond = pd.notnull(df_orig[col_sample_an])\n",
    "    samplefreq_ser = df_orig.loc[cond, col_sample_an].drop_duplicates().copy()\n",
    "    cond = pd.notnull(df_orig[col_background_an])\n",
    "    backgroundfreq_df = df_orig.loc[cond, [col_background_an, col_background_int]].drop_duplicates(subset=col_background_an).copy()\n",
    "    # concatenate data\n",
    "    df = concat_and_align_sample_and_background(samplefreq_ser, backgroundfreq_df, col_background_an)\n",
    "    # remove AccessionNumbers from sample and background-frequency without intensity values\n",
    "    df  = df.loc[pd.notnull(df[col_background_int]), ]\n",
    "    study = df.loc[pd.notnull(df[col_sample_an]), col_sample_an]\n",
    "    pop = df[[col_background_int, col_background_an]]\n",
    "    return(study, pop)"
   ]
  },
  {
   "cell_type": "code",
   "execution_count": 55,
   "metadata": {
    "collapsed": true
   },
   "outputs": [],
   "source": [
    "def concat_and_align_sample_and_background(sample_ser, background_df, col_background_an):\n",
    "    sample_ser.index = sample_ser.tolist()\n",
    "    background_df.index = background_df[col_background_an].tolist()\n",
    "    return pd.concat([sample_ser, background_df], axis=1)"
   ]
  },
  {
   "cell_type": "code",
   "execution_count": 56,
   "metadata": {
    "collapsed": false
   },
   "outputs": [],
   "source": [
    "study, pop = cleanupforanalysis(df, 'Acetyl')"
   ]
  },
  {
   "cell_type": "code",
   "execution_count": 57,
   "metadata": {
    "collapsed": false
   },
   "outputs": [
    {
     "data": {
      "text/plain": [
       "1125"
      ]
     },
     "execution_count": 57,
     "metadata": {},
     "output_type": "execute_result"
    }
   ],
   "source": [
    "len(study)"
   ]
  },
  {
   "cell_type": "code",
   "execution_count": 113,
   "metadata": {
    "collapsed": false
   },
   "outputs": [],
   "source": [
    "#fn = r'/Users/dblyon/CloudStation/CPR/Brian_GO/alldata/Data_for_web_tool_HeLa.txt'\n",
    "#df = pd.read_csv(fn, sep='\\t')"
   ]
  },
  {
   "cell_type": "code",
   "execution_count": 114,
   "metadata": {
    "collapsed": false
   },
   "outputs": [],
   "source": [
    "#df.head()"
   ]
  },
  {
   "cell_type": "code",
   "execution_count": 115,
   "metadata": {
    "collapsed": false
   },
   "outputs": [],
   "source": [
    "#print 'Shape: ', df.shape\n",
    "#for colname in df.columns.tolist():\n",
    "#    print colname, ': ', len(df.loc[pd.notnull(df[colname]), colname]), len(df.loc[pd.notnull(df[colname]), colname].drop_duplicates())"
   ]
  },
  {
   "cell_type": "markdown",
   "metadata": {},
   "source": [
    "# creating UserInput tables"
   ]
  },
  {
   "cell_type": "code",
   "execution_count": 108,
   "metadata": {
    "collapsed": true
   },
   "outputs": [],
   "source": [
    "fn_out = r'/Users/dblyon/CloudStation/CPR/Brian_GO/alldata/Yest_Acetyl_vs_Genome_UserInput.txt'"
   ]
  },
  {
   "cell_type": "code",
   "execution_count": 54,
   "metadata": {
    "collapsed": true
   },
   "outputs": [],
   "source": [
    "df_new = df['Genome', 'iBAQ observed (log10)', ]"
   ]
  },
  {
   "cell_type": "code",
   "execution_count": 116,
   "metadata": {
    "collapsed": false
   },
   "outputs": [
    {
     "data": {
      "text/plain": [
       "['Genome',\n",
       " 'iBAQ observed (log10)',\n",
       " 'Observed Proteome',\n",
       " 'Phos',\n",
       " 'Ubi',\n",
       " 'Acetyl',\n",
       " 'Succinyl']"
      ]
     },
     "execution_count": 116,
     "metadata": {},
     "output_type": "execute_result"
    }
   ],
   "source": [
    "df.columns.tolist()"
   ]
  },
  {
   "cell_type": "code",
   "execution_count": null,
   "metadata": {
    "collapsed": true
   },
   "outputs": [],
   "source": []
  },
  {
   "cell_type": "code",
   "execution_count": null,
   "metadata": {
    "collapsed": true
   },
   "outputs": [],
   "source": []
  },
  {
   "cell_type": "code",
   "execution_count": null,
   "metadata": {
    "collapsed": true
   },
   "outputs": [],
   "source": []
  },
  {
   "cell_type": "code",
   "execution_count": null,
   "metadata": {
    "collapsed": true
   },
   "outputs": [],
   "source": []
  },
  {
   "cell_type": "markdown",
   "metadata": {},
   "source": [
    "# check if output is still correct and the same as before"
   ]
  },
  {
   "cell_type": "code",
   "execution_count": 125,
   "metadata": {
    "collapsed": true
   },
   "outputs": [],
   "source": [
    "fn_old = r'/Users/dblyon/modules/cpr/goterm/SummaryTest_yeast_acetyl_AbundanceCorrected.txt'\n",
    "fn_new = r'/Users/dblyon/modules/cpr/goterm/TEST_v7.txt'\n",
    "df_old = pd.read_csv(fn_old, sep='\\t', skiprows=1)\n",
    "df_new = pd.read_csv(fn_new, sep='\\t', skiprows=1)"
   ]
  },
  {
   "cell_type": "code",
   "execution_count": 126,
   "metadata": {
    "collapsed": false
   },
   "outputs": [],
   "source": [
    "df_comp = df_new == df_old"
   ]
  },
  {
   "cell_type": "code",
   "execution_count": 127,
   "metadata": {
    "collapsed": false
   },
   "outputs": [
    {
     "name": "stdout",
     "output_type": "stream",
     "text": [
      "id 4901\n",
      "enrichment 4901\n",
      "fold_enrichment 4901\n",
      "description 4901\n",
      "ratio_in_study 4901\n",
      "ratio_in_pop 4901\n",
      "p_uncorrected 4901\n",
      "p_bonferroni 4901\n",
      "p_holm 4901\n",
      "p_sidak 4901\n",
      "p_fdr 4901\n",
      "ANs_study 4901\n",
      "ANs_pop 4250\n"
     ]
    }
   ],
   "source": [
    "columns = df_comp.columns.tolist()\n",
    "for col in columns:\n",
    "    print col, sum(df_comp[col])"
   ]
  },
  {
   "cell_type": "code",
   "execution_count": 128,
   "metadata": {
    "collapsed": false
   },
   "outputs": [
    {
     "data": {
      "text/plain": [
       "((4901, 13), (4901, 13), (4901, 13))"
      ]
     },
     "execution_count": 128,
     "metadata": {},
     "output_type": "execute_result"
    }
   ],
   "source": [
    "df_new.shape, df_old.shape, df_comp.shape"
   ]
  },
  {
   "cell_type": "code",
   "execution_count": 129,
   "metadata": {
    "collapsed": false
   },
   "outputs": [
    {
     "data": {
      "text/html": [
       "<div style=\"max-height:1000px;max-width:1500px;overflow:auto;\">\n",
       "<table border=\"1\" class=\"dataframe\">\n",
       "  <thead>\n",
       "    <tr style=\"text-align: right;\">\n",
       "      <th></th>\n",
       "      <th>id</th>\n",
       "      <th>enrichment</th>\n",
       "      <th>fold_enrichment</th>\n",
       "      <th>description</th>\n",
       "      <th>ratio_in_study</th>\n",
       "      <th>ratio_in_pop</th>\n",
       "      <th>p_uncorrected</th>\n",
       "      <th>p_bonferroni</th>\n",
       "      <th>p_holm</th>\n",
       "      <th>p_sidak</th>\n",
       "      <th>p_fdr</th>\n",
       "      <th>ANs_study</th>\n",
       "      <th>ANs_pop</th>\n",
       "    </tr>\n",
       "  </thead>\n",
       "  <tbody>\n",
       "    <tr>\n",
       "      <th>4250</th>\n",
       "      <td>True</td>\n",
       "      <td>True</td>\n",
       "      <td>True</td>\n",
       "      <td>True</td>\n",
       "      <td>True</td>\n",
       "      <td>True</td>\n",
       "      <td>True</td>\n",
       "      <td>True</td>\n",
       "      <td>True</td>\n",
       "      <td>True</td>\n",
       "      <td>True</td>\n",
       "      <td>True</td>\n",
       "      <td>False</td>\n",
       "    </tr>\n",
       "    <tr>\n",
       "      <th>4251</th>\n",
       "      <td>True</td>\n",
       "      <td>True</td>\n",
       "      <td>True</td>\n",
       "      <td>True</td>\n",
       "      <td>True</td>\n",
       "      <td>True</td>\n",
       "      <td>True</td>\n",
       "      <td>True</td>\n",
       "      <td>True</td>\n",
       "      <td>True</td>\n",
       "      <td>True</td>\n",
       "      <td>True</td>\n",
       "      <td>False</td>\n",
       "    </tr>\n",
       "    <tr>\n",
       "      <th>4252</th>\n",
       "      <td>True</td>\n",
       "      <td>True</td>\n",
       "      <td>True</td>\n",
       "      <td>True</td>\n",
       "      <td>True</td>\n",
       "      <td>True</td>\n",
       "      <td>True</td>\n",
       "      <td>True</td>\n",
       "      <td>True</td>\n",
       "      <td>True</td>\n",
       "      <td>True</td>\n",
       "      <td>True</td>\n",
       "      <td>False</td>\n",
       "    </tr>\n",
       "    <tr>\n",
       "      <th>4253</th>\n",
       "      <td>True</td>\n",
       "      <td>True</td>\n",
       "      <td>True</td>\n",
       "      <td>True</td>\n",
       "      <td>True</td>\n",
       "      <td>True</td>\n",
       "      <td>True</td>\n",
       "      <td>True</td>\n",
       "      <td>True</td>\n",
       "      <td>True</td>\n",
       "      <td>True</td>\n",
       "      <td>True</td>\n",
       "      <td>False</td>\n",
       "    </tr>\n",
       "    <tr>\n",
       "      <th>4254</th>\n",
       "      <td>True</td>\n",
       "      <td>True</td>\n",
       "      <td>True</td>\n",
       "      <td>True</td>\n",
       "      <td>True</td>\n",
       "      <td>True</td>\n",
       "      <td>True</td>\n",
       "      <td>True</td>\n",
       "      <td>True</td>\n",
       "      <td>True</td>\n",
       "      <td>True</td>\n",
       "      <td>True</td>\n",
       "      <td>False</td>\n",
       "    </tr>\n",
       "  </tbody>\n",
       "</table>\n",
       "</div>"
      ],
      "text/plain": [
       "        id enrichment fold_enrichment description ratio_in_study ratio_in_pop  \\\n",
       "4250  True       True            True        True           True         True   \n",
       "4251  True       True            True        True           True         True   \n",
       "4252  True       True            True        True           True         True   \n",
       "4253  True       True            True        True           True         True   \n",
       "4254  True       True            True        True           True         True   \n",
       "\n",
       "     p_uncorrected p_bonferroni p_holm p_sidak p_fdr ANs_study ANs_pop  \n",
       "4250          True         True   True    True  True      True   False  \n",
       "4251          True         True   True    True  True      True   False  \n",
       "4252          True         True   True    True  True      True   False  \n",
       "4253          True         True   True    True  True      True   False  \n",
       "4254          True         True   True    True  True      True   False  "
      ]
     },
     "execution_count": 129,
     "metadata": {},
     "output_type": "execute_result"
    }
   ],
   "source": [
    "cond = df_comp['ANs_pop'] == False\n",
    "df_comp.loc[cond, ].head()"
   ]
  },
  {
   "cell_type": "code",
   "execution_count": 130,
   "metadata": {
    "collapsed": false
   },
   "outputs": [
    {
     "data": {
      "text/plain": [
       "4250    False\n",
       "4251    False\n",
       "Name: ANs_pop, dtype: bool"
      ]
     },
     "execution_count": 130,
     "metadata": {},
     "output_type": "execute_result"
    }
   ],
   "source": [
    "index = [4250, 4251]\n",
    "df_new.loc[index, 'ANs_pop'] == df_old.loc[index, 'ANs_pop']"
   ]
  },
  {
   "cell_type": "code",
   "execution_count": 131,
   "metadata": {
    "collapsed": false
   },
   "outputs": [
    {
     "data": {
      "text/html": [
       "<div style=\"max-height:1000px;max-width:1500px;overflow:auto;\">\n",
       "<table border=\"1\" class=\"dataframe\">\n",
       "  <thead>\n",
       "    <tr style=\"text-align: right;\">\n",
       "      <th></th>\n",
       "      <th>id</th>\n",
       "      <th>enrichment</th>\n",
       "      <th>fold_enrichment</th>\n",
       "      <th>description</th>\n",
       "      <th>ratio_in_study</th>\n",
       "      <th>ratio_in_pop</th>\n",
       "      <th>p_uncorrected</th>\n",
       "      <th>p_bonferroni</th>\n",
       "      <th>p_holm</th>\n",
       "      <th>p_sidak</th>\n",
       "      <th>p_fdr</th>\n",
       "      <th>ANs_study</th>\n",
       "      <th>ANs_pop</th>\n",
       "    </tr>\n",
       "  </thead>\n",
       "  <tbody>\n",
       "    <tr>\n",
       "      <th>4250</th>\n",
       "      <td>........GO:0032777</td>\n",
       "      <td>e</td>\n",
       "      <td>-1</td>\n",
       "      <td>Piccolo NuA4 histone acetyltransferase complex</td>\n",
       "      <td>4/1126</td>\n",
       "      <td>0/1126</td>\n",
       "      <td>0.125</td>\n",
       "      <td>611</td>\n",
       "      <td>566</td>\n",
       "      <td>596</td>\n",
       "      <td>n.a.</td>\n",
       "      <td>P43572,Q04003,Q08649,Q99314</td>\n",
       "      <td>NaN</td>\n",
       "    </tr>\n",
       "    <tr>\n",
       "      <th>4251</th>\n",
       "      <td>.....GO:0090282</td>\n",
       "      <td>e</td>\n",
       "      <td>-1</td>\n",
       "      <td>positive regulation of transcription involved ...</td>\n",
       "      <td>3/1126</td>\n",
       "      <td>0/1126</td>\n",
       "      <td>0.250</td>\n",
       "      <td>1220</td>\n",
       "      <td>1090</td>\n",
       "      <td>1190</td>\n",
       "      <td>n.a.</td>\n",
       "      <td>P40466,P41813,Q08887</td>\n",
       "      <td>NaN</td>\n",
       "    </tr>\n",
       "  </tbody>\n",
       "</table>\n",
       "</div>"
      ],
      "text/plain": [
       "                      id enrichment  fold_enrichment  \\\n",
       "4250  ........GO:0032777          e               -1   \n",
       "4251     .....GO:0090282          e               -1   \n",
       "\n",
       "                                            description ratio_in_study  \\\n",
       "4250     Piccolo NuA4 histone acetyltransferase complex         4/1126   \n",
       "4251  positive regulation of transcription involved ...         3/1126   \n",
       "\n",
       "     ratio_in_pop  p_uncorrected  p_bonferroni  p_holm  p_sidak p_fdr  \\\n",
       "4250       0/1126          0.125           611     566      596  n.a.   \n",
       "4251       0/1126          0.250          1220    1090     1190  n.a.   \n",
       "\n",
       "                        ANs_study ANs_pop  \n",
       "4250  P43572,Q04003,Q08649,Q99314     NaN  \n",
       "4251         P40466,P41813,Q08887     NaN  "
      ]
     },
     "execution_count": 131,
     "metadata": {},
     "output_type": "execute_result"
    }
   ],
   "source": [
    "df_new.loc[index, ]"
   ]
  },
  {
   "cell_type": "code",
   "execution_count": 132,
   "metadata": {
    "collapsed": false
   },
   "outputs": [
    {
     "data": {
      "text/html": [
       "<div style=\"max-height:1000px;max-width:1500px;overflow:auto;\">\n",
       "<table border=\"1\" class=\"dataframe\">\n",
       "  <thead>\n",
       "    <tr style=\"text-align: right;\">\n",
       "      <th></th>\n",
       "      <th>id</th>\n",
       "      <th>enrichment</th>\n",
       "      <th>fold_enrichment</th>\n",
       "      <th>description</th>\n",
       "      <th>ratio_in_study</th>\n",
       "      <th>ratio_in_pop</th>\n",
       "      <th>p_uncorrected</th>\n",
       "      <th>p_bonferroni</th>\n",
       "      <th>p_holm</th>\n",
       "      <th>p_sidak</th>\n",
       "      <th>p_fdr</th>\n",
       "      <th>ANs_study</th>\n",
       "      <th>ANs_pop</th>\n",
       "    </tr>\n",
       "  </thead>\n",
       "  <tbody>\n",
       "    <tr>\n",
       "      <th>4250</th>\n",
       "      <td>........GO:0032777</td>\n",
       "      <td>e</td>\n",
       "      <td>-1</td>\n",
       "      <td>Piccolo NuA4 histone acetyltransferase complex</td>\n",
       "      <td>4/1126</td>\n",
       "      <td>0/1126</td>\n",
       "      <td>0.125</td>\n",
       "      <td>611</td>\n",
       "      <td>566</td>\n",
       "      <td>596</td>\n",
       "      <td>n.a.</td>\n",
       "      <td>P43572,Q04003,Q08649,Q99314</td>\n",
       "      <td>NaN</td>\n",
       "    </tr>\n",
       "    <tr>\n",
       "      <th>4251</th>\n",
       "      <td>.....GO:0090282</td>\n",
       "      <td>e</td>\n",
       "      <td>-1</td>\n",
       "      <td>positive regulation of transcription involved ...</td>\n",
       "      <td>3/1126</td>\n",
       "      <td>0/1126</td>\n",
       "      <td>0.250</td>\n",
       "      <td>1220</td>\n",
       "      <td>1090</td>\n",
       "      <td>1190</td>\n",
       "      <td>n.a.</td>\n",
       "      <td>P40466,P41813,Q08887</td>\n",
       "      <td>NaN</td>\n",
       "    </tr>\n",
       "  </tbody>\n",
       "</table>\n",
       "</div>"
      ],
      "text/plain": [
       "                      id enrichment  fold_enrichment  \\\n",
       "4250  ........GO:0032777          e               -1   \n",
       "4251     .....GO:0090282          e               -1   \n",
       "\n",
       "                                            description ratio_in_study  \\\n",
       "4250     Piccolo NuA4 histone acetyltransferase complex         4/1126   \n",
       "4251  positive regulation of transcription involved ...         3/1126   \n",
       "\n",
       "     ratio_in_pop  p_uncorrected  p_bonferroni  p_holm  p_sidak p_fdr  \\\n",
       "4250       0/1126          0.125           611     566      596  n.a.   \n",
       "4251       0/1126          0.250          1220    1090     1190  n.a.   \n",
       "\n",
       "                        ANs_study ANs_pop  \n",
       "4250  P43572,Q04003,Q08649,Q99314     NaN  \n",
       "4251         P40466,P41813,Q08887     NaN  "
      ]
     },
     "execution_count": 132,
     "metadata": {},
     "output_type": "execute_result"
    }
   ],
   "source": [
    "df_old.loc[index, ]"
   ]
  },
  {
   "cell_type": "code",
   "execution_count": null,
   "metadata": {
    "collapsed": true
   },
   "outputs": [],
   "source": [
    "\n"
   ]
  },
  {
   "cell_type": "code",
   "execution_count": 1,
   "metadata": {
    "collapsed": false
   },
   "outputs": [
    {
     "name": "stderr",
     "output_type": "stream",
     "text": [
      "load obo file /Users/dblyon/CloudStation/CPR/Brian_GO/go_rescources/go_obo/go-basic.obo\n",
      "44951"
     ]
    },
    {
     "name": "stdout",
     "output_type": "stream",
     "text": [
      "DONE :)\n"
     ]
    },
    {
     "name": "stderr",
     "output_type": "stream",
     "text": [
      " nodes imported\n"
     ]
    }
   ],
   "source": [
    "%run run_goenrichment"
   ]
  },
  {
   "cell_type": "code",
   "execution_count": null,
   "metadata": {
    "collapsed": true
   },
   "outputs": [],
   "source": []
  },
  {
   "cell_type": "code",
   "execution_count": 3,
   "metadata": {
    "collapsed": true
   },
   "outputs": [],
   "source": [
    "import pandas as pd\n",
    "fn = r'/Users/dblyon/CloudStation/CPR/Brian_GO/alldata/temp.txt'\n",
    "df = pd.read_csv(fn, sep='\\t', decimal = ',')"
   ]
  },
  {
   "cell_type": "code",
   "execution_count": 46,
   "metadata": {
    "collapsed": true
   },
   "outputs": [],
   "source": [
    "new_list = new.split()\n",
    "old_list = old.split()"
   ]
  },
  {
   "cell_type": "code",
   "execution_count": 47,
   "metadata": {
    "collapsed": false
   },
   "outputs": [
    {
     "name": "stdout",
     "output_type": "stream",
     "text": [
      "2780 2781\n",
      "1159 1159\n"
     ]
    }
   ],
   "source": [
    "print len(new_list), len(old_list)\n",
    "print len(set(new_list)), len(set(old_list))"
   ]
  },
  {
   "cell_type": "code",
   "execution_count": 45,
   "metadata": {
    "collapsed": false
   },
   "outputs": [
    {
     "data": {
      "text/plain": [
       "set()"
      ]
     },
     "execution_count": 45,
     "metadata": {},
     "output_type": "execute_result"
    }
   ],
   "source": [
    "set(old_list) - set(new_list) "
   ]
  },
  {
   "cell_type": "code",
   "execution_count": 62,
   "metadata": {
    "collapsed": false
   },
   "outputs": [
    {
     "data": {
      "text/plain": [
       "1125"
      ]
     },
     "execution_count": 62,
     "metadata": {},
     "output_type": "execute_result"
    }
   ],
   "source": [
    "new = study\n",
    "len(new)"
   ]
  },
  {
   "cell_type": "code",
   "execution_count": 60,
   "metadata": {
    "collapsed": true
   },
   "outputs": [],
   "source": [
    "import goretriever\n",
    "ui = goretriever.UserInput()"
   ]
  },
  {
   "cell_type": "code",
   "execution_count": 61,
   "metadata": {
    "collapsed": false
   },
   "outputs": [
    {
     "data": {
      "text/plain": [
       "1126"
      ]
     },
     "execution_count": 61,
     "metadata": {},
     "output_type": "execute_result"
    }
   ],
   "source": [
    "len(ui.get_study())"
   ]
  },
  {
   "cell_type": "code",
   "execution_count": 63,
   "metadata": {
    "collapsed": false
   },
   "outputs": [
    {
     "data": {
      "text/plain": [
       "{'P32833'}"
      ]
     },
     "execution_count": 63,
     "metadata": {},
     "output_type": "execute_result"
    }
   ],
   "source": [
    "set(ui.get_study()) - set(new)"
   ]
  },
  {
   "cell_type": "code",
   "execution_count": null,
   "metadata": {
    "collapsed": true
   },
   "outputs": [],
   "source": []
  }
 ],
 "metadata": {
  "kernelspec": {
   "display_name": "Python 2",
   "language": "python",
   "name": "python2"
  },
  "language_info": {
   "codemirror_mode": {
    "name": "ipython",
    "version": 2
   },
   "file_extension": ".py",
   "mimetype": "text/x-python",
   "name": "python",
   "nbconvert_exporter": "python",
   "pygments_lexer": "ipython2",
   "version": "2.7.6"
  }
 },
 "nbformat": 4,
 "nbformat_minor": 0
}
