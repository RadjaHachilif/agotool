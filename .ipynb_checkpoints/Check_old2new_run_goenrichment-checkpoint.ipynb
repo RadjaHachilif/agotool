{
 "cells": [
  {
   "cell_type": "code",
   "execution_count": 13,
   "metadata": {
    "collapsed": true
   },
   "outputs": [],
   "source": [
    "import pandas as pd\n",
    "import obo_parser, goretriever, ratio_dbl"
   ]
  },
  {
   "cell_type": "code",
   "execution_count": 7,
   "metadata": {
    "collapsed": false
   },
   "outputs": [
    {
     "name": "stderr",
     "output_type": "stream",
     "text": [
      "load obo file /Users/dblyon/CloudStation/CPR/Brian_GO/go_rescources/go_obo/go-basic.obo\n",
      "44951 nodes imported\n"
     ]
    }
   ],
   "source": [
    "goa_ref_fn = r'/Users/dblyon/CloudStation/CPR/Brian_GO/go_rescources/UniProt_goa/yeast/gene_association.goa_ref_yeast'\n",
    "obo_fn = r'/Users/dblyon/CloudStation/CPR/Brian_GO/go_rescources/go_obo/go-basic.obo'\n",
    "obo_dag = obo_parser.GODag(obo_file=obo_fn)\n",
    "assoc_dict = goretriever.Parser_UniProt_goa_ref(goa_ref_fn = goa_ref_fn).get_association_dict()\n",
    "num_bins = 100\n",
    "userinput_fn = r'/Users/dblyon/CloudStation/CPR/Brian_GO/UserInput.txt'\n",
    "ui = goretriever.UserInput(userinput_fn, num_bins)"
   ]
  },
  {
   "cell_type": "code",
   "execution_count": 15,
   "metadata": {
    "collapsed": true
   },
   "outputs": [],
   "source": [
    "study_an = ui.get_study_an_frset()\n",
    "study_an_frset = ui.get_study_an_frset()"
   ]
  },
  {
   "cell_type": "code",
   "execution_count": 10,
   "metadata": {
    "collapsed": false
   },
   "outputs": [],
   "source": [
    "study_an = sorted(study_an)"
   ]
  },
  {
   "cell_type": "code",
   "execution_count": 16,
   "metadata": {
    "collapsed": false
   },
   "outputs": [],
   "source": [
    "term_study, go2ans_study_dict = ratio_dbl.count_terms(study_an_frset, assoc_dict, obo_dag)"
   ]
  },
  {
   "cell_type": "code",
   "execution_count": 18,
   "metadata": {
    "collapsed": false
   },
   "outputs": [
    {
     "data": {
      "text/plain": [
       "2545"
      ]
     },
     "execution_count": 18,
     "metadata": {},
     "output_type": "execute_result"
    }
   ],
   "source": [
    "len(term_study)"
   ]
  },
  {
   "cell_type": "code",
   "execution_count": 43,
   "metadata": {
    "collapsed": false
   },
   "outputs": [
    {
     "name": "stdout",
     "output_type": "stream",
     "text": [
      "P12398\n",
      "P01095\n",
      "9861 2545\n"
     ]
    }
   ],
   "source": [
    "goterms = []\n",
    "for an in study_an:\n",
    "    try:\n",
    "        goterms += list(assoc_dict[an])\n",
    "    except KeyError:\n",
    "        print an\n",
    "print len(goterms), len(set(goterms))        \n",
    "gostudynew = set(goterms)"
   ]
  },
  {
   "cell_type": "code",
   "execution_count": 30,
   "metadata": {
    "collapsed": true
   },
   "outputs": [],
   "source": [
    "fn=r'/Users/dblyon/CloudStation/CPR/Brian_GO/go_rescources/input_goatools/study_yeast_acetyl.txt'\n",
    "ansf = []\n",
    "with open(fn, 'r') as fh:\n",
    "    for line in fh:\n",
    "        ansf.append(line.strip())"
   ]
  },
  {
   "cell_type": "code",
   "execution_count": 35,
   "metadata": {
    "collapsed": false
   },
   "outputs": [
    {
     "data": {
      "text/plain": [
       "33"
      ]
     },
     "execution_count": 35,
     "metadata": {},
     "output_type": "execute_result"
    }
   ],
   "source": [
    "rest = set(ansf) - set(study_an)\n",
    "len(rest)"
   ]
  },
  {
   "cell_type": "code",
   "execution_count": 41,
   "metadata": {
    "collapsed": false
   },
   "outputs": [
    {
     "name": "stdout",
     "output_type": "stream",
     "text": [
      "267 170\n"
     ]
    }
   ],
   "source": [
    "goterms = []\n",
    "for an in rest:\n",
    "    try:\n",
    "        goterms += list(assoc_dict[an])\n",
    "    except KeyError:\n",
    "        print an\n",
    "print len(goterms), len(set(goterms))  \n",
    "# die 33 AccessionNumber mehr (present due to missing intensity values) only explain 30 of the 170 goterms\n",
    "rest_go = set(goterms)\n",
    "len(rest_go - gostudynew)"
   ]
  },
  {
   "cell_type": "code",
   "execution_count": 45,
   "metadata": {
    "collapsed": false
   },
   "outputs": [
    {
     "data": {
      "text/plain": [
       "30"
      ]
     },
     "execution_count": 45,
     "metadata": {},
     "output_type": "execute_result"
    }
   ],
   "source": []
  },
  {
   "cell_type": "code",
   "execution_count": null,
   "metadata": {
    "collapsed": true
   },
   "outputs": [],
   "source": []
  }
 ],
 "metadata": {
  "kernelspec": {
   "display_name": "Python 2",
   "language": "python",
   "name": "python2"
  },
  "language_info": {
   "codemirror_mode": {
    "name": "ipython",
    "version": 2
   },
   "file_extension": ".py",
   "mimetype": "text/x-python",
   "name": "python",
   "nbconvert_exporter": "python",
   "pygments_lexer": "ipython2",
   "version": "2.7.6"
  }
 },
 "nbformat": 4,
 "nbformat_minor": 0
}
