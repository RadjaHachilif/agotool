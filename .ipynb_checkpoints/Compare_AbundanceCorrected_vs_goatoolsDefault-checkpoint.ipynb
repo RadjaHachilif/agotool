{
 "cells": [
  {
   "cell_type": "code",
   "execution_count": 1,
   "metadata": {
    "collapsed": false
   },
   "outputs": [
    {
     "name": "stderr",
     "output_type": "stream",
     "text": [
      "load obo file /Users/dblyon/CloudStation/CPR/Brian_GO/go_rescources/go_obo/go-basic.obo\n",
      "44951"
     ]
    },
    {
     "name": "stdout",
     "output_type": "stream",
     "text": [
      "DONE :)\n"
     ]
    },
    {
     "name": "stderr",
     "output_type": "stream",
     "text": [
      " nodes imported\n"
     ]
    }
   ],
   "source": [
    "%run run_goenrichment.py"
   ]
  },
  {
   "cell_type": "code",
   "execution_count": 1,
   "metadata": {
    "collapsed": false
   },
   "outputs": [
    {
     "name": "stderr",
     "output_type": "stream",
     "text": [
      "load obo file /Users/dblyon/CloudStation/CPR/Brian_GO/go_rescources/go_obo/go-basic.obo\n",
      "44951"
     ]
    },
    {
     "name": "stdout",
     "output_type": "stream",
     "text": [
      "DONE :)\n"
     ]
    },
    {
     "name": "stderr",
     "output_type": "stream",
     "text": [
      " nodes imported\n"
     ]
    }
   ],
   "source": [
    "%run find_enrichment.py /Users/dblyon/CloudStation/CPR/Brian_GO/go_rescources/input_goatools/study_yeast_acetyl.txt /Users/dblyon/CloudStation/CPR/Brian_GO/go_rescources/input_goatools/population_yeast_obsProteome.txt /Users/dblyon/CloudStation/CPR/Brian_GO/go_rescources/input_goatools/association_goa_yeast --obo /Users/dblyon/CloudStation/CPR/Brian_GO/go_rescources/go_obo/go-basic.obo --fn_out 'SummaryTest_yeast_acetyl_TheoProteome.txt' "
   ]
  },
  {
   "cell_type": "code",
   "execution_count": 2,
   "metadata": {
    "collapsed": true
   },
   "outputs": [],
   "source": [
    "import fisher"
   ]
  },
  {
   "cell_type": "code",
   "execution_count": 54,
   "metadata": {
    "collapsed": false
   },
   "outputs": [],
   "source": [
    "a, b, c, d = 8, 2, 1, 5\n",
    "col_1, col_2 = 9, 7\n",
    "r1, r2 = 10, 6\n",
    "n = 16"
   ]
  },
  {
   "cell_type": "code",
   "execution_count": 55,
   "metadata": {
    "collapsed": false
   },
   "outputs": [
    {
     "data": {
      "text/plain": [
       "Pvalue(left_tail=0.9991, right_tail=0.02448, two_tail=0.03497)"
      ]
     },
     "execution_count": 55,
     "metadata": {},
     "output_type": "execute_result"
    }
   ],
   "source": [
    "fisher.pvalue(a, b, c, d)"
   ]
  },
  {
   "cell_type": "code",
   "execution_count": 56,
   "metadata": {
    "collapsed": false
   },
   "outputs": [
    {
     "data": {
      "text/plain": [
       "Pvalue(left_tail=0.9991, right_tail=0.02448, two_tail=0.03497)"
      ]
     },
     "execution_count": 56,
     "metadata": {},
     "output_type": "execute_result"
    }
   ],
   "source": [
    "fisher.pvalue_population(a, col_1, r1, n)"
   ]
  },
  {
   "cell_type": "code",
   "execution_count": 57,
   "metadata": {
    "collapsed": false
   },
   "outputs": [
    {
     "data": {
      "text/plain": [
       "(20.0, 0.034965034965034919)"
      ]
     },
     "execution_count": 57,
     "metadata": {},
     "output_type": "execute_result"
    }
   ],
   "source": [
    "import scipy\n",
    "scipy.stats.fisher_exact([[a, b], [c, d]])"
   ]
  },
  {
   "cell_type": "code",
   "execution_count": 59,
   "metadata": {
    "collapsed": false
   },
   "outputs": [
    {
     "name": "stdout",
     "output_type": "stream",
     "text": [
      "Pvalue(left_tail=0.1298, right_tail=0.9419, two_tail=0.2406)\n",
      "Pvalue(left_tail=0.1298, right_tail=0.9419, two_tail=0.2406)\n",
      "(0.53828117035375678, 0.24056639333421903)\n"
     ]
    }
   ],
   "source": [
    "#5/1159\t34/4258 0.122\n",
    "a, b, c, d = 5, 34, 1154, 4224\n",
    "col_1, col_2 = 1159, 4258\n",
    "r1, r2 = 39, 5378\n",
    "n = 5417\n",
    "print fisher.pvalue_population(a, col_1, r1, n)\n",
    "print fisher.pvalue(a, b, c, d)\n",
    "print scipy.stats.fisher_exact([[a, b], [c, d]])"
   ]
  },
  {
   "cell_type": "code",
   "execution_count": 63,
   "metadata": {
    "collapsed": false
   },
   "outputs": [
    {
     "name": "stdout",
     "output_type": "stream",
     "text": [
      "Pvalue(left_tail=0.0007577, right_tail=0.9999, two_tail=0.001444)\n",
      "Pvalue(left_tail=0.0007577, right_tail=0.9999, two_tail=0.001444)\n",
      "(0.093419246268987205, 0.0014443363880627643)\n"
     ]
    }
   ],
   "source": [
    "#GO:0000030\tp\tmannosyltransferase activity\t1/1159\t39/4258\t8.97e-05\t0.443\t0.419\t0.432\tn.a.\n",
    "a, b, c, d = 1, 39, 1158, 4219\n",
    "col_1, col_2 = 1159, 4258\n",
    "r1, r2 = 40, 5377\n",
    "n = 5417\n",
    "print fisher.pvalue_population(a, col_1, r1, n)\n",
    "print fisher.pvalue(a, b, c, d)\n",
    "print scipy.stats.fisher_exact([[a, b], [c, d]])"
   ]
  },
  {
   "cell_type": "code",
   "execution_count": 22,
   "metadata": {
    "collapsed": true
   },
   "outputs": [],
   "source": [
    "############################################################################################\n",
    "############ testing goatools original fisher p-value caluculation\n",
    "# #GO:0000030\tp\tmannosyltransferase activity\t1/1159\t39/4258\t8.97e-05\t0.443\t0.419\t0.432\tn.a.\n",
    "# #GO:0000062\te\tfatty-acyl-CoA binding\t1/1159\t1/4258\t0.272\t1.35e+03\t824\t1.31e+03\tn.a.\n",
    "# #GO:0000075\tp\tcell cycle checkpoint\t14/1159\t56/4258\t0.765\t3.78e+03\t749\t3.68e+03\tn.a.\n",
    "#\n",
    "# study = '14/1159'\n",
    "# pop   = '56/4258'\n",
    "# a, col_1 = study.split('/')\n",
    "# r1, n = pop.split('/')\n",
    "# a = int(a)\n",
    "# col_1 = int(col_1)\n",
    "# r1 = int(r1)\n",
    "# n = int(n)\n",
    "# col_2 = n - col_1\n",
    "# b = r1 - a\n",
    "# c = col_1 - a\n",
    "# d = col_2 - b\n",
    "# r2 = c + d\n",
    "# assert n == col_1 + col_2\n",
    "# assert n == r1 + r2\n",
    "# print fisher.pvalue_population(a, col_1, r1, n)\n",
    "# print fisher.pvalue(a, b, c, d)\n",
    "# print scipy.stats.fisher_exact([[a, b], [c, d]])\n",
    "############ testing goatools abundance corrected fisher p-value caluculation\n",
    "# #GO:0000122\te\tnegative regulation of transcription from RNA polymerase II promoter\n",
    "# #50/1159\t21/1159\t0.000635\t3.14\t3.08\t3.06\tn.a.\n",
    "# import scipy, fisher\n",
    "# study = '50/1159'\n",
    "# pop   = '21/1159'\n",
    "# a, col_1 = study.split('/')\n",
    "# b, col_2 = pop.split('/')\n",
    "# a = int(a)\n",
    "# col_1 = int(col_1)\n",
    "# b = int(b)\n",
    "# col_2 = int(col_2)\n",
    "# n = col_1 + col_2\n",
    "# col_2 = n - col_1\n",
    "# b = r1 - a\n",
    "# c = col_1 - a\n",
    "# d = col_2 - b\n",
    "# r2 = c + d\n",
    "# assert n == col_1 + col_2\n",
    "# assert n == r1 + r2\n",
    "# print fisher.pvalue_population(a, col_1, r1, n)\n",
    "# print fisher.pvalue(a, b, c, d)\n",
    "# print scipy.stats.fisher_exact([[a, b], [c, d]])\n",
    "############################################################################################"
   ]
  },
  {
   "cell_type": "code",
   "execution_count": 21,
   "metadata": {
    "collapsed": false
   },
   "outputs": [
    {
     "name": "stdout",
     "output_type": "stream",
     "text": [
      "Pvalue(left_tail=0.9999, right_tail=0.0003176, two_tail=0.0006352)\n",
      "Pvalue(left_tail=0.9999, right_tail=0.0003176, two_tail=0.0006352)\n",
      "(2.4432135342865728, 0.00063524874014928815)\n"
     ]
    }
   ],
   "source": [
    "#GO:0000122\te\tnegative regulation of transcription from RNA polymerase II promoter\t\n",
    "#50/1159\t21/1159\t0.000635\t3.14\t3.08\t3.06\tn.a.\n",
    "import scipy, fisher\n",
    "study = '50/1159'\n",
    "pop   = '21/1159'\n",
    "a, col_1 = study.split('/')\n",
    "b, col_2 = pop.split('/')\n",
    "a = int(a)\n",
    "col_1 = int(col_1)\n",
    "b = int(b)\n",
    "col_2 = int(col_2)\n",
    "n = col_1 + col_2\n",
    "col_2 = n - col_1\n",
    "b = r1 - a\n",
    "c = col_1 - a\n",
    "d = col_2 - b\n",
    "r2 = c + d\n",
    "assert n == col_1 + col_2\n",
    "assert n == r1 + r2\n",
    "print fisher.pvalue_population(a, col_1, r1, n)\n",
    "print fisher.pvalue(a, b, c, d)\n",
    "print scipy.stats.fisher_exact([[a, b], [c, d]])"
   ]
  },
  {
   "cell_type": "code",
   "execution_count": 17,
   "metadata": {
    "collapsed": false
   },
   "outputs": [
    {
     "data": {
      "text/plain": [
       "Pvalue(left_tail=0.9999, right_tail=0.0003176, two_tail=0.0006352)"
      ]
     },
     "execution_count": 17,
     "metadata": {},
     "output_type": "execute_result"
    }
   ],
   "source": [
    "study_count = 50\n",
    "study_n = pop_n = 1159\n",
    "pop_count = 21\n",
    "a = study_count\n",
    "col_1 = study_n\n",
    "r1 = study_count + pop_count\n",
    "n = study_n + pop_n\n",
    "fisher.pvalue_population(a, col_1, r1, n)"
   ]
  },
  {
   "cell_type": "code",
   "execution_count": 2,
   "metadata": {
    "collapsed": true
   },
   "outputs": [],
   "source": [
    "import pandas as pd\n",
    "df = pd.read_csv('SummaryTest_yeast_acetyl_AbCorr_v3.txt', sep='\\t', skiprows=1)"
   ]
  },
  {
   "cell_type": "code",
   "execution_count": 15,
   "metadata": {
    "collapsed": false
   },
   "outputs": [],
   "source": [
    "#df.head()"
   ]
  },
  {
   "cell_type": "code",
   "execution_count": 11,
   "metadata": {
    "collapsed": false
   },
   "outputs": [
    {
     "name": "stdout",
     "output_type": "stream",
     "text": [
      "104\n"
     ]
    },
    {
     "data": {
      "text/html": [
       "<div style=\"max-height:1000px;max-width:1500px;overflow:auto;\">\n",
       "<table border=\"1\" class=\"dataframe\">\n",
       "  <thead>\n",
       "    <tr style=\"text-align: right;\">\n",
       "      <th></th>\n",
       "      <th>id</th>\n",
       "      <th>enrichment</th>\n",
       "      <th>description</th>\n",
       "      <th>ratio_in_study</th>\n",
       "      <th>ratio_in_pop</th>\n",
       "      <th>p_uncorrected</th>\n",
       "      <th>p_bonferroni</th>\n",
       "      <th>p_holm</th>\n",
       "      <th>p_sidak</th>\n",
       "      <th>p_fdr</th>\n",
       "    </tr>\n",
       "  </thead>\n",
       "  <tbody>\n",
       "    <tr>\n",
       "      <th>47</th>\n",
       "      <td>GO:0000122</td>\n",
       "      <td>e</td>\n",
       "      <td>negative regulation of transcription from RNA ...</td>\n",
       "      <td>50/1159</td>\n",
       "      <td>21/1159</td>\n",
       "      <td>6.350000e-04</td>\n",
       "      <td>3.140000</td>\n",
       "      <td>3.080000</td>\n",
       "      <td>3.060000</td>\n",
       "      <td>n.a.</td>\n",
       "    </tr>\n",
       "    <tr>\n",
       "      <th>277</th>\n",
       "      <td>GO:0000981</td>\n",
       "      <td>e</td>\n",
       "      <td>sequence-specific DNA binding RNA polymerase I...</td>\n",
       "      <td>33/1159</td>\n",
       "      <td>8/1159</td>\n",
       "      <td>9.810000e-05</td>\n",
       "      <td>0.485000</td>\n",
       "      <td>0.479000</td>\n",
       "      <td>0.473000</td>\n",
       "      <td>n.a.</td>\n",
       "    </tr>\n",
       "    <tr>\n",
       "      <th>281</th>\n",
       "      <td>GO:0000988</td>\n",
       "      <td>e</td>\n",
       "      <td>protein binding transcription factor activity</td>\n",
       "      <td>46/1159</td>\n",
       "      <td>19/1159</td>\n",
       "      <td>9.270000e-04</td>\n",
       "      <td>4.580000</td>\n",
       "      <td>4.480000</td>\n",
       "      <td>4.460000</td>\n",
       "      <td>n.a.</td>\n",
       "    </tr>\n",
       "    <tr>\n",
       "      <th>303</th>\n",
       "      <td>GO:0001071</td>\n",
       "      <td>e</td>\n",
       "      <td>nucleic acid binding transcription factor acti...</td>\n",
       "      <td>41/1159</td>\n",
       "      <td>13/1159</td>\n",
       "      <td>1.480000e-04</td>\n",
       "      <td>0.729000</td>\n",
       "      <td>0.720000</td>\n",
       "      <td>0.711000</td>\n",
       "      <td>n.a.</td>\n",
       "    </tr>\n",
       "    <tr>\n",
       "      <th>415</th>\n",
       "      <td>GO:0003674</td>\n",
       "      <td>e</td>\n",
       "      <td>molecular_function</td>\n",
       "      <td>1155/1159</td>\n",
       "      <td>1121/1159</td>\n",
       "      <td>4.410000e-08</td>\n",
       "      <td>0.000218</td>\n",
       "      <td>0.000217</td>\n",
       "      <td>0.000213</td>\n",
       "      <td>n.a.</td>\n",
       "    </tr>\n",
       "  </tbody>\n",
       "</table>\n",
       "</div>"
      ],
      "text/plain": [
       "             id enrichment                                        description  \\\n",
       "47   GO:0000122          e  negative regulation of transcription from RNA ...   \n",
       "277  GO:0000981          e  sequence-specific DNA binding RNA polymerase I...   \n",
       "281  GO:0000988          e      protein binding transcription factor activity   \n",
       "303  GO:0001071          e  nucleic acid binding transcription factor acti...   \n",
       "415  GO:0003674          e                                 molecular_function   \n",
       "\n",
       "    ratio_in_study ratio_in_pop  p_uncorrected  p_bonferroni    p_holm  \\\n",
       "47         50/1159      21/1159   6.350000e-04      3.140000  3.080000   \n",
       "277        33/1159       8/1159   9.810000e-05      0.485000  0.479000   \n",
       "281        46/1159      19/1159   9.270000e-04      4.580000  4.480000   \n",
       "303        41/1159      13/1159   1.480000e-04      0.729000  0.720000   \n",
       "415      1155/1159    1121/1159   4.410000e-08      0.000218  0.000217   \n",
       "\n",
       "      p_sidak p_fdr  \n",
       "47   3.060000  n.a.  \n",
       "277  0.473000  n.a.  \n",
       "281  4.460000  n.a.  \n",
       "303  0.711000  n.a.  \n",
       "415  0.000213  n.a.  "
      ]
     },
     "execution_count": 11,
     "metadata": {},
     "output_type": "execute_result"
    }
   ],
   "source": [
    "cond = df['p_uncorrected'] < 0.001\n",
    "df_cond = df.loc[cond, ]\n",
    "print len(df_cond)\n",
    "df_cond.head()"
   ]
  },
  {
   "cell_type": "code",
   "execution_count": null,
   "metadata": {
    "collapsed": true
   },
   "outputs": [],
   "source": []
  }
 ],
 "metadata": {
  "kernelspec": {
   "display_name": "Python 2",
   "language": "python",
   "name": "python2"
  },
  "language_info": {
   "codemirror_mode": {
    "name": "ipython",
    "version": 2
   },
   "file_extension": ".py",
   "mimetype": "text/x-python",
   "name": "python",
   "nbconvert_exporter": "python",
   "pygments_lexer": "ipython2",
   "version": "2.7.6"
  }
 },
 "nbformat": 4,
 "nbformat_minor": 0
}
