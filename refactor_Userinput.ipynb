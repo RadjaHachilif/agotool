{
 "cells": [
  {
   "cell_type": "code",
   "execution_count": 1,
   "metadata": {
    "collapsed": true
   },
   "outputs": [],
   "source": [
    "import pandas as pd\n",
    "import numpy as np\n",
    "import os, sys, re\n",
    "from StringIO import StringIO\n",
    "import itertools"
   ]
  },
  {
   "cell_type": "code",
   "execution_count": 2,
   "metadata": {
    "collapsed": true
   },
   "outputs": [],
   "source": [
    "sys.path.append(\"./static/python/\")\n",
    "sys.path.append(\"./../metaprot/sql/\")"
   ]
  },
  {
   "cell_type": "code",
   "execution_count": 72,
   "metadata": {
    "collapsed": true
   },
   "outputs": [],
   "source": [
    "connection = db_config.Connect(echo=True, testing=False, do_logging=False)\n",
    "protein_ans_list = [\"P35997\", \"P38711\", \"P35997\", \"P38711\", \"B2RID1\", \"belk_c_455_5138\"]\n",
    "# protein_ans_list = [\"B2RID1\"]"
   ]
  },
  {
   "cell_type": "code",
   "execution_count": 73,
   "metadata": {
    "collapsed": false
   },
   "outputs": [
    {
     "name": "stdout",
     "output_type": "stream",
     "text": [
      "2016-09-09 15:24:36,697 INFO sqlalchemy.engine.base.Engine select version()\n",
      "2016-09-09 15:24:36,698 INFO sqlalchemy.engine.base.Engine {}\n",
      "2016-09-09 15:24:36,699 INFO sqlalchemy.engine.base.Engine select current_schema()\n",
      "2016-09-09 15:24:36,700 INFO sqlalchemy.engine.base.Engine {}\n",
      "2016-09-09 15:24:36,701 INFO sqlalchemy.engine.base.Engine SELECT CAST('test plain returns' AS VARCHAR(60)) AS anon_1\n",
      "2016-09-09 15:24:36,701 INFO sqlalchemy.engine.base.Engine {}\n",
      "2016-09-09 15:24:36,702 INFO sqlalchemy.engine.base.Engine SELECT CAST('test unicode returns' AS VARCHAR(60)) AS anon_1\n",
      "2016-09-09 15:24:36,703 INFO sqlalchemy.engine.base.Engine {}\n",
      "2016-09-09 15:24:36,704 INFO sqlalchemy.engine.base.Engine show standard_conforming_strings\n",
      "2016-09-09 15:24:36,705 INFO sqlalchemy.engine.base.Engine {}\n",
      "2016-09-09 15:24:36,706 INFO sqlalchemy.engine.base.Engine BEGIN (implicit)\n",
      "2016-09-09 15:24:36,707 INFO sqlalchemy.engine.base.Engine SELECT protein_2_function.an, protein_2_function.function\n",
      "FROM protein_2_function\n",
      "INNER JOIN functions ON protein_2_function.function=functions.an\n",
      "INNER JOIN ontologies ON ontologies.child=functions.an\n",
      "WHERE protein_2_function.an IN('P35997')\n",
      "AND functions.type='GO'\n",
      ";\n",
      "2016-09-09 15:24:36,707 INFO sqlalchemy.engine.base.Engine {}\n",
      "2016-09-09 15:24:36,730 INFO sqlalchemy.engine.base.Engine ROLLBACK\n"
     ]
    }
   ],
   "source": [
    "stmt = \"\"\"SELECT protein_2_function.an, protein_2_function.function\n",
    "FROM protein_2_function\n",
    "INNER JOIN functions ON protein_2_function.function=functions.an\n",
    "INNER JOIN ontologies ON ontologies.child=functions.an\n",
    "WHERE protein_2_function.an IN('P35997')\n",
    "AND functions.type='GO'\n",
    ";\"\"\" #AND ontologies.parent='GO:0003674'\n",
    "session = connection.get_session()\n",
    "result = session.execute(stmt).fetchall()\n",
    "session.close()"
   ]
  },
  {
   "cell_type": "code",
   "execution_count": 47,
   "metadata": {
    "collapsed": false
   },
   "outputs": [],
   "source": [
    "# result"
   ]
  },
  {
   "cell_type": "code",
   "execution_count": 95,
   "metadata": {
    "collapsed": false
   },
   "outputs": [
    {
     "data": {
      "text/plain": [
       "<module 'db_config' from './../metaprot/sql/db_config.pyc'>"
      ]
     },
     "execution_count": 95,
     "metadata": {},
     "output_type": "execute_result"
    }
   ],
   "source": [
    "import userinput\n",
    "reload(userinput)\n",
    "import query, db_config\n",
    "reload(query)\n",
    "reload(db_config)"
   ]
  },
  {
   "cell_type": "code",
   "execution_count": 108,
   "metadata": {
    "collapsed": false
   },
   "outputs": [
    {
     "name": "stdout",
     "output_type": "stream",
     "text": [
      "2016-09-09 15:43:22,834 INFO sqlalchemy.engine.base.Engine BEGIN (implicit)\n",
      "2016-09-09 15:43:22,835 INFO sqlalchemy.engine.base.Engine SELECT protein_2_function.an, ontologies.child, ontologies.parent\n",
      "FROM protein_2_function\n",
      "INNER JOIN functions ON protein_2_function.function=functions.an\n",
      "INNER JOIN ontologies ON ontologies.child=functions.an\n",
      "WHERE protein_2_function.an IN('P35997')\n",
      "AND functions.type='GO'\n",
      "AND ontologies.parent='GO:0008150'\n",
      ";\n",
      "2016-09-09 15:43:22,836 INFO sqlalchemy.engine.base.Engine {}\n",
      "2016-09-09 15:43:23,252 INFO sqlalchemy.engine.base.Engine ROLLBACK\n",
      "2016-09-09 15:43:23,253 INFO sqlalchemy.engine.base.Engine BEGIN (implicit)\n",
      "2016-09-09 15:43:23,254 INFO sqlalchemy.engine.base.Engine SELECT protein_2_og.an, og_2_function.function\n",
      "FROM protein_2_og\n",
      "INNER JOIN og_2_function ON protein_2_og.og=og_2_function.og\n",
      "INNER JOIN functions ON og_2_function.function=functions.an\n",
      "INNER JOIN ontologies ON ontologies.child=functions.an\n",
      "WHERE protein_2_og.an IN('P35997')\n",
      "AND functions.type='GO'\n",
      "AND ontologies.parent='GO:0008150'\n",
      ";\n",
      "2016-09-09 15:43:23,254 INFO sqlalchemy.engine.base.Engine {}\n",
      "2016-09-09 15:43:23,260 INFO sqlalchemy.engine.base.Engine ROLLBACK\n",
      "4\n"
     ]
    }
   ],
   "source": [
    "an = \"P35997\"\n",
    "d = query.get_association_dict(connection, protein_ans_list=[an], \n",
    "                           function_type=\"GO\", limit_2_parent=\"BP\", \n",
    "                           basic_or_slim=\"basic\", backtracking=True)\n",
    "print len(d[an])\n",
    "x = d[an]"
   ]
  },
  {
   "cell_type": "code",
   "execution_count": 129,
   "metadata": {
    "collapsed": false
   },
   "outputs": [
    {
     "name": "stdout",
     "output_type": "stream",
     "text": [
      "7\n"
     ]
    },
    {
     "data": {
      "text/plain": [
       "['GO:0000028',\n",
       " 'GO:0000462',\n",
       " 'GO:0002181',\n",
       " 'GO:0003735',\n",
       " 'GO:0006412',\n",
       " 'GO:0022627',\n",
       " 'GO:0046872']"
      ]
     },
     "execution_count": 129,
     "metadata": {},
     "output_type": "execute_result"
    }
   ],
   "source": [
    "# all directly annotated GO terms for \"P35997\"\n",
    "x = \"\"\"3782218\tP35997\tGO:0000028\n",
    "3782219\tP35997\tGO:0000462\n",
    "3782220\tP35997\tGO:0002181\n",
    "3782221\tP35997\tGO:0003735\n",
    "3782222\tP35997\tGO:0006412\n",
    "3782223\tP35997\tGO:0022627\n",
    "3782224\tP35997\tGO:0046872\"\"\"\n",
    "go_list = []\n",
    "for ele in x.split(\"\\n\"):\n",
    "    go_list.append(ele.split(\"\\t\")[-1])\n",
    "print len(go_list)\n",
    "go_list    "
   ]
  },
  {
   "cell_type": "code",
   "execution_count": 130,
   "metadata": {
    "collapsed": false
   },
   "outputs": [
    {
     "data": {
      "text/plain": [
       "False"
      ]
     },
     "execution_count": 130,
     "metadata": {},
     "output_type": "execute_result"
    }
   ],
   "source": [
    "x = sorted(x)\n",
    "x = sorted([str(ele) for ele in x])\n",
    "x == go_all"
   ]
  },
  {
   "cell_type": "code",
   "execution_count": 131,
   "metadata": {
    "collapsed": false
   },
   "outputs": [
    {
     "name": "stdout",
     "output_type": "stream",
     "text": [
      "2016-09-09 16:28:56,201 INFO sqlalchemy.engine.base.Engine BEGIN (implicit)\n",
      "2016-09-09 16:28:56,202 INFO sqlalchemy.engine.base.Engine SELECT ontologies.child FROM ontologies\n",
      "WHERE ontologies.child IN('GO:0000028', 'GO:0000462', 'GO:0002181', 'GO:0003735', 'GO:0006412', 'GO:0022627', 'GO:0046872')\n",
      "AND ontologies.parent = 'GO:0008150';\n",
      "2016-09-09 16:28:56,202 INFO sqlalchemy.engine.base.Engine {}\n",
      "2016-09-09 16:28:56,208 INFO sqlalchemy.engine.base.Engine ROLLBACK\n"
     ]
    },
    {
     "data": {
      "text/plain": [
       "[(u'GO:0000462',), (u'GO:0002181',), (u'GO:0000028',), (u'GO:0006412',)]"
      ]
     },
     "execution_count": 131,
     "metadata": {},
     "output_type": "execute_result"
    }
   ],
   "source": [
    "stmt = \"\"\"SELECT ontologies.child FROM ontologies\n",
    "WHERE ontologies.child IN({})\n",
    "AND ontologies.parent = 'GO:0008150';\"\"\".format(str(go_list)[1:-1])\n",
    "session = connection.get_session()\n",
    "result = session.execute(stmt).fetchall()\n",
    "session.close()\n",
    "result"
   ]
  },
  {
   "cell_type": "code",
   "execution_count": 132,
   "metadata": {
    "collapsed": false
   },
   "outputs": [
    {
     "name": "stdout",
     "output_type": "stream",
     "text": [
      "2016-09-09 16:28:57,300 INFO sqlalchemy.engine.base.Engine BEGIN (implicit)\n",
      "2016-09-09 16:28:57,301 INFO sqlalchemy.engine.base.Engine SELECT ontologies.child, ontologies.parent FROM ontologies\n",
      "WHERE ontologies.child IN('GO:0000028', 'GO:0000462', 'GO:0002181', 'GO:0003735', 'GO:0006412', 'GO:0022627', 'GO:0046872');\n",
      "2016-09-09 16:28:57,302 INFO sqlalchemy.engine.base.Engine {}\n",
      "2016-09-09 16:28:57,303 INFO sqlalchemy.engine.base.Engine ROLLBACK\n"
     ]
    },
    {
     "data": {
      "text/plain": [
       "[(u'GO:0022627', u'GO:0005575'),\n",
       " (u'GO:0022627', u'GO:0032991'),\n",
       " (u'GO:0022627', u'GO:0015935'),\n",
       " (u'GO:0022627', u'GO:0044464'),\n",
       " (u'GO:0022627', u'GO:1990904'),\n",
       " (u'GO:0022627', u'GO:0030529'),\n",
       " (u'GO:0022627', u'GO:0044446'),\n",
       " (u'GO:0022627', u'GO:0044444'),\n",
       " (u'GO:0022627', u'GO:0044445'),\n",
       " (u'GO:0022627', u'GO:0044424'),\n",
       " (u'GO:0022627', u'GO:0044391'),\n",
       " (u'GO:0022627', u'GO:0044422'),\n",
       " (u'GO:0000462', u'GO:0034470'),\n",
       " (u'GO:0000462', u'GO:0044238'),\n",
       " (u'GO:0000462', u'GO:0009987'),\n",
       " (u'GO:0000462', u'GO:0006725'),\n",
       " (u'GO:0000462', u'GO:0090304'),\n",
       " (u'GO:0000462', u'GO:0034641'),\n",
       " (u'GO:0000462', u'GO:0006807'),\n",
       " (u'GO:0000462', u'GO:0008150'),\n",
       " (u'GO:0000462', u'GO:0008152'),\n",
       " (u'GO:0000462', u'GO:0034660'),\n",
       " (u'GO:0000462', u'GO:1901360'),\n",
       " (u'GO:0000462', u'GO:0046483'),\n",
       " (u'GO:0000462', u'GO:0016070'),\n",
       " (u'GO:0000462', u'GO:0006139'),\n",
       " (u'GO:0000462', u'GO:0016072'),\n",
       " (u'GO:0000462', u'GO:0044260'),\n",
       " (u'GO:0000462', u'GO:0030490'),\n",
       " (u'GO:0000462', u'GO:0044237'),\n",
       " (u'GO:0000462', u'GO:0043170'),\n",
       " (u'GO:0000462', u'GO:0071704'),\n",
       " (u'GO:0000462', u'GO:0006364'),\n",
       " (u'GO:0000462', u'GO:0006396'),\n",
       " (u'GO:0003735', u'GO:0003674'),\n",
       " (u'GO:0003735', u'GO:0005198'),\n",
       " (u'GO:0002181', u'GO:0034645'),\n",
       " (u'GO:0002181', u'GO:0044238'),\n",
       " (u'GO:0002181', u'GO:0009987'),\n",
       " (u'GO:0002181', u'GO:1901564'),\n",
       " (u'GO:0002181', u'GO:0044249'),\n",
       " (u'GO:0002181', u'GO:0009058'),\n",
       " (u'GO:0002181', u'GO:0009059'),\n",
       " (u'GO:0002181', u'GO:0008150'),\n",
       " (u'GO:0002181', u'GO:0008152'),\n",
       " (u'GO:0002181', u'GO:1901576'),\n",
       " (u'GO:0002181', u'GO:0043604'),\n",
       " (u'GO:0002181', u'GO:0044267'),\n",
       " (u'GO:0002181', u'GO:0044271'),\n",
       " (u'GO:0002181', u'GO:0044260'),\n",
       " (u'GO:0002181', u'GO:1901566'),\n",
       " (u'GO:0002181', u'GO:0019538'),\n",
       " (u'GO:0002181', u'GO:0043043'),\n",
       " (u'GO:0002181', u'GO:0034641'),\n",
       " (u'GO:0002181', u'GO:0044237'),\n",
       " (u'GO:0002181', u'GO:0043170'),\n",
       " (u'GO:0002181', u'GO:0071704'),\n",
       " (u'GO:0002181', u'GO:0006807'),\n",
       " (u'GO:0002181', u'GO:0043603'),\n",
       " (u'GO:0002181', u'GO:0006518'),\n",
       " (u'GO:0002181', u'GO:0006412'),\n",
       " (u'GO:0046872', u'GO:0043169'),\n",
       " (u'GO:0046872', u'GO:0003674'),\n",
       " (u'GO:0046872', u'GO:0005488'),\n",
       " (u'GO:0046872', u'GO:0043167'),\n",
       " (u'GO:0000028', u'GO:0065003'),\n",
       " (u'GO:0000028', u'GO:0071826'),\n",
       " (u'GO:0000028', u'GO:0022618'),\n",
       " (u'GO:0000028', u'GO:0022607'),\n",
       " (u'GO:0000028', u'GO:0071840'),\n",
       " (u'GO:0000028', u'GO:0034622'),\n",
       " (u'GO:0000028', u'GO:0043933'),\n",
       " (u'GO:0000028', u'GO:0008150'),\n",
       " (u'GO:0000028', u'GO:0009987'),\n",
       " (u'GO:0000028', u'GO:0016043'),\n",
       " (u'GO:0006412', u'GO:0034645'),\n",
       " (u'GO:0006412', u'GO:0044238'),\n",
       " (u'GO:0006412', u'GO:0009987'),\n",
       " (u'GO:0006412', u'GO:1901564'),\n",
       " (u'GO:0006412', u'GO:0044249'),\n",
       " (u'GO:0006412', u'GO:0034641'),\n",
       " (u'GO:0006412', u'GO:0009059'),\n",
       " (u'GO:0006412', u'GO:0008150'),\n",
       " (u'GO:0006412', u'GO:0008152'),\n",
       " (u'GO:0006412', u'GO:1901576'),\n",
       " (u'GO:0006412', u'GO:0043604'),\n",
       " (u'GO:0006412', u'GO:0044267'),\n",
       " (u'GO:0006412', u'GO:0044271'),\n",
       " (u'GO:0006412', u'GO:0044260'),\n",
       " (u'GO:0006412', u'GO:1901566'),\n",
       " (u'GO:0006412', u'GO:0019538'),\n",
       " (u'GO:0006412', u'GO:0043043'),\n",
       " (u'GO:0006412', u'GO:0009058'),\n",
       " (u'GO:0006412', u'GO:0044237'),\n",
       " (u'GO:0006412', u'GO:0043170'),\n",
       " (u'GO:0006412', u'GO:0071704'),\n",
       " (u'GO:0006412', u'GO:0006807'),\n",
       " (u'GO:0006412', u'GO:0043603'),\n",
       " (u'GO:0006412', u'GO:0006518')]"
      ]
     },
     "execution_count": 132,
     "metadata": {},
     "output_type": "execute_result"
    }
   ],
   "source": [
    "# all parents of go_list\n",
    "# go_list = ['GO:0000028', 'GO:0000462', 'GO:0002181', 'GO:0006412', ]\n",
    "stmt = \"\"\"SELECT ontologies.child, ontologies.parent FROM ontologies AS ont_1\n",
    "INNER JOIN ontologies ON \n",
    "WHERE ontologies.child IN({});\"\"\".format(str(go_list)[1:-1])\n",
    "#AND ontologies.parent IN('GO:0005575', 'GO:0008150', 'GO:0003674')\n",
    "# ontologies.child, ontologies.parent FROM ontologies\n",
    "# AND ontologies.parent = 'GO:0008150'\n",
    "# GO:0005575\n",
    "# GO:0008150\n",
    "# GO:0003674\n",
    "'GO:0005575', 'GO:0008150', 'GO:0003674'\n",
    "session = connection.get_session()\n",
    "result = session.execute(stmt).fetchall()\n",
    "session.close()\n",
    "# go_all = []\n",
    "# for res in result:\n",
    "#     go_all += list(res)\n",
    "# go_all = sorted(set(go_all))\n",
    "# print len(go_all)\n",
    "# go_all\n",
    "result"
   ]
  },
  {
   "cell_type": "code",
   "execution_count": null,
   "metadata": {
    "collapsed": true
   },
   "outputs": [],
   "source": []
  },
  {
   "cell_type": "code",
   "execution_count": null,
   "metadata": {
    "collapsed": true
   },
   "outputs": [],
   "source": []
  },
  {
   "cell_type": "code",
   "execution_count": null,
   "metadata": {
    "collapsed": true
   },
   "outputs": [],
   "source": [
    "s = StringIO()"
   ]
  },
  {
   "cell_type": "code",
   "execution_count": null,
   "metadata": {
    "collapsed": true
   },
   "outputs": [],
   "source": [
    "f = u'BUBU;BUBU2;BUBU3\\r\\nAUBU;AUBU2;AUBU3\\r\\nP40545\\r\\nP09201\\r\\nP14066\\r\\nP25040\\r\\nP20050\\r\\nP40327\\r\\nQ01939\\r\\nQ01939'\n",
    "b = u'BUBU\\t\\r\\nBUBU\\t\\r\\nP00359\\t11,07751325\\r\\nP00925\\t10,96978388\\r\\nP02994\\t10,76849751\\r\\nP06169\\t10,74716312\\r\\nP00560\\t10,74614359\\r\\nP00950\\t10,74149039\\r\\nP00549\\t10,70474233\\r\\nP00330\\t10,6690378\\r\\nAIAIAI\\r\\nUUUU;IIII'"
   ]
  },
  {
   "cell_type": "code",
   "execution_count": null,
   "metadata": {
    "collapsed": false
   },
   "outputs": [],
   "source": [
    "# zip(f.split(\"\\r\\n\"), b.split(\"\\r\\n\"))"
   ]
  },
  {
   "cell_type": "code",
   "execution_count": null,
   "metadata": {
    "collapsed": false
   },
   "outputs": [],
   "source": [
    "s = StringIO()\n",
    "s.write('foreground\\tbackground\\tintensity\\r')\n",
    "for a, b in itertools.izip_longest(f.split(\"\\r\\n\"), b.split(\"\\r\\n\"), fillvalue=\"\\t\"):\n",
    "    s.write(a + \"\\t\" + b.strip() + \"\\r\")"
   ]
  },
  {
   "cell_type": "code",
   "execution_count": null,
   "metadata": {
    "collapsed": false
   },
   "outputs": [],
   "source": [
    "s.tell()"
   ]
  },
  {
   "cell_type": "code",
   "execution_count": null,
   "metadata": {
    "collapsed": true
   },
   "outputs": [],
   "source": [
    "s.seek(0)"
   ]
  },
  {
   "cell_type": "code",
   "execution_count": null,
   "metadata": {
    "collapsed": false
   },
   "outputs": [],
   "source": [
    "s.tell()"
   ]
  },
  {
   "cell_type": "code",
   "execution_count": null,
   "metadata": {
    "collapsed": false
   },
   "outputs": [],
   "source": [
    "set([\"all_GO\", \"BP\", \"CP\", \"MF\"])"
   ]
  },
  {
   "cell_type": "code",
   "execution_count": null,
   "metadata": {
    "collapsed": false
   },
   "outputs": [],
   "source": [
    "{\"BP\", \"CP\", \"MF\"}"
   ]
  },
  {
   "cell_type": "code",
   "execution_count": null,
   "metadata": {
    "collapsed": false
   },
   "outputs": [],
   "source": [
    "s.read()"
   ]
  },
  {
   "cell_type": "code",
   "execution_count": null,
   "metadata": {
    "collapsed": false
   },
   "outputs": [],
   "source": [
    "s.split(\"\\r\")"
   ]
  },
  {
   "cell_type": "code",
   "execution_count": null,
   "metadata": {
    "collapsed": false
   },
   "outputs": [],
   "source": [
    "x = 'intensity\\tbackground\\tforeground\\r\\tBUBU\\t\"BUBU;BUBU2;BUBU3\"\\r\\tBUBU\\tAUBU;AUBU2;AUBU3\\r11,07751325\\tP00359\\tP40545\\r10,96978388\\tP00925\\tP09201\\r10,76849751\\tP02994\\tP14066\\r10,74716312\\tP06169\\tP25040\\r10,74614359\\tP00560\\tP20050\\r10,74149039\\tP00950\\tP40327\\r10,70474233\\tP00549\\tQ01939\\r10,6690378\\tP00330\\tQ01939\\r10,64206863\\tP05743\\tP38142\\r10,64061061\\t\"P02407;P14127\"\\tQ01939\\r10,63619693\\t\"P0C2H6;P0C2H7\"\\tP53549\\r10,6231769\\t\"P35997;P38711\"\\tP53549\\r10,61589747\\tP29453\\tP39959\\r10,59787062\\tO14455\\tP38787\\r10,59595893\\tP04456\\tP38787\\r10,5819724\\tP14540\\tP12684\\r10,58108453\\t\"P0CX84;P0CX85\"\\tP12684\\r10,58103895\\tP05755\\tP38122\\r10,56810781\\t\"P0CX31;P0CX32\"\\tP38122\\r10,54364595\\t\"P0CX55;P0CX56\"\\tP0CX47\\r10,5379072\\tP38061'"
   ]
  },
  {
   "cell_type": "code",
   "execution_count": null,
   "metadata": {
    "collapsed": false
   },
   "outputs": [],
   "source": [
    "x.split(\"\\r\")"
   ]
  },
  {
   "cell_type": "code",
   "execution_count": null,
   "metadata": {
    "collapsed": true
   },
   "outputs": [],
   "source": [
    "s.write(\"bubu\")"
   ]
  },
  {
   "cell_type": "code",
   "execution_count": null,
   "metadata": {
    "collapsed": false
   },
   "outputs": [],
   "source": [
    "s.tell()"
   ]
  },
  {
   "cell_type": "code",
   "execution_count": null,
   "metadata": {
    "collapsed": false
   },
   "outputs": [],
   "source": [
    "fn = r\"/Users/dblyon/CloudStation/CPR/BTW_GO/UserInput.txt\"\n",
    "fn = r\"/Users/dbl/modules/cpr/agotool/static/data/exampledata/exampledata_yeast.txt\"\n",
    "# fn = r\"/Users/dblyon/modules/cpr/agotool/static/data/exampledata/refactorUserinput.txt\"\n",
    "df = pd.read_csv(fn, sep='\\t', decimal=\",\")#, converters={\"background_int\": float, \"background_an\": str, \"foreground_an\": str})"
   ]
  },
  {
   "cell_type": "code",
   "execution_count": null,
   "metadata": {
    "collapsed": false
   },
   "outputs": [],
   "source": [
    "# fh = open(fn, \"r\").read()\n",
    "ui = userinput.Userinput(fn=fn, foreground_string=None, background_string=None,\n",
    "col_foreground='foreground', col_background='background', col_intensity='intensity',\n",
    "num_bins=100, decimal='.', method=\"abundance_correction\")"
   ]
  },
  {
   "cell_type": "code",
   "execution_count": null,
   "metadata": {
    "collapsed": false
   },
   "outputs": [],
   "source": [
    "ui.background"
   ]
  },
  {
   "cell_type": "code",
   "execution_count": null,
   "metadata": {
    "collapsed": false
   },
   "outputs": [],
   "source": [
    "cond = ui.foreground[\"intensity\"] > -1\n",
    "bins = pd.cut(ui.foreground.loc[cond, \"intensity\"], bins=100, retbins=True)[1]\n",
    "bins = [-1] + list(bins)"
   ]
  },
  {
   "cell_type": "code",
   "execution_count": null,
   "metadata": {
    "collapsed": false
   },
   "outputs": [],
   "source": [
    "ui.foreground"
   ]
  },
  {
   "cell_type": "code",
   "execution_count": null,
   "metadata": {
    "collapsed": false
   },
   "outputs": [],
   "source": [
    "for x in ui.iter_bins():\n",
    "#     print wf, bins\n",
    "#     print bg, fg\n",
    "#     print ans, cf\n",
    "    print x\n",
    "    print"
   ]
  },
  {
   "cell_type": "code",
   "execution_count": null,
   "metadata": {
    "collapsed": false
   },
   "outputs": [],
   "source": [
    "mbps = 30.0\n",
    "gb = mbps / 1000.0\n",
    "min_ = gb * 60\n",
    "hour = min_ * 60\n",
    "print min_\n",
    "print hour\n",
    "tb = 2.0\n",
    "(tb * 1000) / hour"
   ]
  },
  {
   "cell_type": "code",
   "execution_count": null,
   "metadata": {
    "collapsed": false
   },
   "outputs": [],
   "source": [
    "bins = pd.cut(ui.foreground[\"intensity\"], bins=100, retbins=True)[1]\n",
    "groups_fg = ui.foreground.groupby(pd.cut(ui.foreground[\"intensity\"], bins=bins))\n",
    "groups_bg = ui.background.groupby(pd.cut(ui.background[\"intensity\"], bins=bins))"
   ]
  },
  {
   "cell_type": "code",
   "execution_count": null,
   "metadata": {
    "collapsed": false
   },
   "outputs": [],
   "source": [
    "# ui.background[ui.background[\"intensity\"] <= 0]"
   ]
  },
  {
   "cell_type": "code",
   "execution_count": null,
   "metadata": {
    "collapsed": false
   },
   "outputs": [],
   "source": [
    "for group_fg, group_bg in zip(groups_fg, groups_bg):\n",
    "    bins_in_group = group[0]\n",
    "    pg_fg = group_fg[1][\"foreground\"]\n",
    "    pg_bg = group_bg[1][\"background\"]\n",
    "    print pg_fg, len(pg_fg)\n",
    "    print pg_bg, len(pg_bg)\n",
    "    print \n",
    "    break"
   ]
  },
  {
   "cell_type": "code",
   "execution_count": null,
   "metadata": {
    "collapsed": true
   },
   "outputs": [],
   "source": [
    "# for group in groups:\n",
    "# #     bins_in_group = group[0]\n",
    "# #     pg_in_group = group[1][\"foreground\"]\n",
    "# #     print bins_in_group\n",
    "# #     print pg_in_group\n",
    "#     print group\n",
    "#     print "
   ]
  },
  {
   "cell_type": "code",
   "execution_count": null,
   "metadata": {
    "collapsed": false
   },
   "outputs": [],
   "source": [
    "hist, bins = np.histogram(ui.foreground[\"intensity\"], bins=100)"
   ]
  },
  {
   "cell_type": "code",
   "execution_count": null,
   "metadata": {
    "collapsed": false
   },
   "outputs": [],
   "source": [
    "bins # (-1.0121, -0.879]"
   ]
  },
  {
   "cell_type": "code",
   "execution_count": null,
   "metadata": {
    "collapsed": false
   },
   "outputs": [],
   "source": [
    "hist"
   ]
  },
  {
   "cell_type": "code",
   "execution_count": null,
   "metadata": {
    "collapsed": true
   },
   "outputs": [],
   "source": []
  },
  {
   "cell_type": "code",
   "execution_count": null,
   "metadata": {
    "collapsed": false
   },
   "outputs": [],
   "source": [
    "10.71518785 -  10.83596299"
   ]
  },
  {
   "cell_type": "code",
   "execution_count": null,
   "metadata": {
    "collapsed": false
   },
   "outputs": [],
   "source": [
    "9.62821166 -   9.74898679"
   ]
  },
  {
   "cell_type": "code",
   "execution_count": null,
   "metadata": {
    "collapsed": false
   },
   "outputs": [],
   "source": [
    "df.loc[0, \"background_int\"]"
   ]
  },
  {
   "cell_type": "code",
   "execution_count": null,
   "metadata": {
    "collapsed": false
   },
   "outputs": [],
   "source": [
    "# np.histogram(df[\"background_int\"], bins=10)\n",
    "np.histogram(df.loc[pd.notnull(df[\"background_int\"]), \"background_int\"], bins=10)"
   ]
  },
  {
   "cell_type": "code",
   "execution_count": null,
   "metadata": {
    "collapsed": false
   },
   "outputs": [],
   "source": [
    "ui.background_df"
   ]
  },
  {
   "cell_type": "code",
   "execution_count": null,
   "metadata": {
    "collapsed": true
   },
   "outputs": [],
   "source": [
    "# import math"
   ]
  },
  {
   "cell_type": "code",
   "execution_count": null,
   "metadata": {
    "collapsed": false
   },
   "outputs": [],
   "source": [
    "# import matplotlib.pyplot as plt\n",
    "# %matplotlib inline"
   ]
  },
  {
   "cell_type": "code",
   "execution_count": null,
   "metadata": {
    "collapsed": false
   },
   "outputs": [],
   "source": [
    "# arr = list(np.arange(10))\n",
    "# arr += [2.3]*8\n",
    "# hist, bin_edges = np.histogram(arr, bins=10, density=False)\n",
    "# plt.hist(arr, bins=bin_edges)  # plt.hist passes it's arguments to np.histogram\n",
    "# plt.show()"
   ]
  },
  {
   "cell_type": "code",
   "execution_count": null,
   "metadata": {
    "collapsed": true
   },
   "outputs": [],
   "source": []
  },
  {
   "cell_type": "code",
   "execution_count": null,
   "metadata": {
    "collapsed": true
   },
   "outputs": [],
   "source": [
    "# good stuff"
   ]
  },
  {
   "cell_type": "code",
   "execution_count": null,
   "metadata": {
    "collapsed": false
   },
   "outputs": [],
   "source": [
    "# foreground proteinGroups with intensities\n",
    "intensity_foreground = []\n",
    "for proteinGroup in ui.foreground_ser:\n",
    "    an_first_in_proteinGroup = proteinGroup.split(\";\")[0]\n",
    "    intensity_foreground.append(ui.an_2_intensity_dict[an_first_in_proteinGroup])\n",
    "#     try:      \n",
    "#         intensity_foreground.append(ui.an_2_intensity_dict[an_first_in_proteinGroup])\n",
    "#     except KeyError:\n",
    "#         # can't occur, since defaultdict\n",
    "#         raise StopIteration"
   ]
  },
  {
   "cell_type": "code",
   "execution_count": null,
   "metadata": {
    "collapsed": false
   },
   "outputs": [],
   "source": [
    "ui.foreground_df = pd.DataFrame(data=intensity_foreground, columns=[\"Int\"])\n",
    "ui.foreground_df[\"AN\"] = ui.foreground_ser"
   ]
  },
  {
   "cell_type": "code",
   "execution_count": null,
   "metadata": {
    "collapsed": false
   },
   "outputs": [],
   "source": [
    "df = ui.foreground_df\n",
    "df"
   ]
  },
  {
   "cell_type": "code",
   "execution_count": null,
   "metadata": {
    "collapsed": false
   },
   "outputs": [],
   "source": [
    "1.5*30"
   ]
  },
  {
   "cell_type": "code",
   "execution_count": null,
   "metadata": {
    "collapsed": true
   },
   "outputs": [],
   "source": [
    "# create bins\n",
    "# which proteinGroups from background are within bin"
   ]
  },
  {
   "cell_type": "code",
   "execution_count": null,
   "metadata": {
    "collapsed": true
   },
   "outputs": [],
   "source": [
    "num_bins = 100\n",
    "bins = np.linspace(df[\"Int\"].min(), df[\"Int\"].max(), num_bins)\n",
    "groups = df.groupby(pd.cut(df[\"Int\"], bins))"
   ]
  },
  {
   "cell_type": "code",
   "execution_count": null,
   "metadata": {
    "collapsed": false
   },
   "outputs": [],
   "source": [
    "# for group in groups:\n",
    "#     print group\n",
    "#     print"
   ]
  },
  {
   "cell_type": "code",
   "execution_count": null,
   "metadata": {
    "collapsed": true
   },
   "outputs": [],
   "source": []
  }
 ],
 "metadata": {
  "kernelspec": {
   "display_name": "Python 2",
   "language": "python",
   "name": "python2"
  },
  "language_info": {
   "codemirror_mode": {
    "name": "ipython",
    "version": 2
   },
   "file_extension": ".py",
   "mimetype": "text/x-python",
   "name": "python",
   "nbconvert_exporter": "python",
   "pygments_lexer": "ipython2",
   "version": "2.7.12"
  }
 },
 "nbformat": 4,
 "nbformat_minor": 1
}
