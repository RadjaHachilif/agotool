{
 "cells": [
  {
   "cell_type": "code",
   "execution_count": 1,
   "metadata": {
    "collapsed": true
   },
   "outputs": [],
   "source": [
    "import pandas as pd\n",
    "import numpy as np\n",
    "import os, sys, re"
   ]
  },
  {
   "cell_type": "code",
   "execution_count": 2,
   "metadata": {
    "collapsed": true
   },
   "outputs": [],
   "source": [
    "sys.path.append(\"./static/python/\")"
   ]
  },
  {
   "cell_type": "code",
   "execution_count": 120,
   "metadata": {
    "collapsed": true
   },
   "outputs": [],
   "source": [
    "import userinput"
   ]
  },
  {
   "cell_type": "code",
   "execution_count": 232,
   "metadata": {
    "collapsed": false
   },
   "outputs": [
    {
     "data": {
      "text/plain": [
       "<module 'userinput' from './static/python/userinput.py'>"
      ]
     },
     "execution_count": 232,
     "metadata": {},
     "output_type": "execute_result"
    }
   ],
   "source": [
    "reload(userinput)"
   ]
  },
  {
   "cell_type": "code",
   "execution_count": 233,
   "metadata": {
    "collapsed": false
   },
   "outputs": [],
   "source": [
    "fn = r\"/Users/dblyon/CloudStation/CPR/BTW_GO/UserInput.txt\"\n",
    "fn = r\"/Users/dblyon/modules/cpr/agotool/static/data/exampledata/exampledata_yeast.txt\"\n",
    "fn = r\"/Users/dblyon/modules/cpr/agotool/static/data/exampledata/refactorUserinput.txt\"\n",
    "df = pd.read_csv(fn, sep='\\t', decimal=\",\")#, converters={\"background_int\": float, \"background_an\": str, \"foreground_an\": str})"
   ]
  },
  {
   "cell_type": "code",
   "execution_count": 234,
   "metadata": {
    "collapsed": false
   },
   "outputs": [],
   "source": [
    "# fh = open(fn, \"r\").read()\n",
    "ui = userinput.Userinput(user_input_fn=fn, foreground_string=None, background_string=None,\n",
    "col_foreground='foreground', col_background='background', col_intensity='intensity',\n",
    "num_bins=100, decimal='.', method=\"abundance_correction\")"
   ]
  },
  {
   "cell_type": "code",
   "execution_count": 235,
   "metadata": {
    "collapsed": false
   },
   "outputs": [],
   "source": [
    "cond = ui.foreground[\"intensity\"] > -1\n",
    "bins = pd.cut(ui.foreground.loc[cond, \"intensity\"], bins=100, retbins=True)[1]\n",
    "bins = [-1] + list(bins)"
   ]
  },
  {
   "cell_type": "code",
   "execution_count": 237,
   "metadata": {
    "collapsed": false
   },
   "outputs": [
    {
     "name": "stdout",
     "output_type": "stream",
     "text": [
      "0 (-1, 1.695]\n",
      "[] []\n",
      "\n",
      "1.0 (1.695, 1.749]\n",
      "['AN2;P00549', 'AN3'] ['P00549', 'AN3']\n",
      "\n",
      "0 (1.749, 1.798]\n",
      "[] []\n",
      "\n",
      "0 (1.798, 1.848]\n",
      "[] []\n",
      "\n",
      "0 (1.848, 1.897]\n",
      "[] []\n",
      "\n",
      "0 (1.897, 1.946]\n",
      "[] []\n",
      "\n",
      "0 (1.946, 1.995]\n",
      "[] []\n",
      "\n",
      "0 (1.995, 2.0446]\n",
      "[] []\n",
      "\n",
      "0 (2.0446, 2.0939]\n",
      "[] []\n",
      "\n",
      "0 (2.0939, 2.143]\n",
      "[] []\n",
      "\n",
      "0 (2.143, 2.192]\n",
      "[] []\n",
      "\n",
      "0 (2.192, 2.242]\n",
      "[] []\n",
      "\n",
      "0 (2.242, 2.291]\n",
      "[] []\n",
      "\n",
      "0 (2.291, 2.34]\n",
      "[] []\n",
      "\n",
      "0 (2.34, 2.389]\n",
      "[] []\n",
      "\n",
      "0 (2.389, 2.438]\n",
      "[] []\n",
      "\n",
      "0 (2.438, 2.488]\n",
      "[] []\n",
      "\n",
      "0 (2.488, 2.537]\n",
      "[] []\n",
      "\n",
      "0 (2.537, 2.586]\n",
      "[] []\n",
      "\n",
      "1.0 (2.586, 2.635]\n",
      "['P00330'] ['P00330']\n",
      "\n",
      "0 (2.635, 2.685]\n",
      "[] []\n",
      "\n",
      "0 (2.685, 2.734]\n",
      "[] []\n",
      "\n",
      "0 (2.734, 2.783]\n",
      "[] []\n",
      "\n",
      "0 (2.783, 2.832]\n",
      "[] []\n",
      "\n",
      "0 (2.832, 2.882]\n",
      "[] []\n",
      "\n",
      "0 (2.882, 2.931]\n",
      "[] []\n",
      "\n",
      "0 (2.931, 2.98]\n",
      "[] []\n",
      "\n",
      "0 (2.98, 3.0293]\n",
      "[] []\n",
      "\n",
      "0 (3.0293, 3.0785]\n",
      "[] []\n",
      "\n",
      "0 (3.0785, 3.128]\n",
      "[] []\n",
      "\n",
      "0 (3.128, 3.177]\n",
      "[] []\n",
      "\n",
      "0 (3.177, 3.226]\n",
      "[] []\n",
      "\n",
      "0 (3.226, 3.275]\n",
      "[] []\n",
      "\n",
      "0 (3.275, 3.325]\n",
      "[] []\n",
      "\n",
      "0 (3.325, 3.374]\n",
      "[] []\n",
      "\n",
      "0 (3.374, 3.423]\n",
      "[] []\n",
      "\n",
      "0 (3.423, 3.472]\n",
      "[] []\n",
      "\n",
      "0 (3.472, 3.522]\n",
      "[] []\n",
      "\n",
      "0 (3.522, 3.571]\n",
      "[] []\n",
      "\n",
      "0 (3.571, 3.62]\n",
      "[] []\n",
      "\n",
      "1.0 (3.62, 3.669]\n",
      "['P05743'] ['P05743']\n",
      "\n",
      "0 (3.669, 3.719]\n",
      "[] []\n",
      "\n",
      "0 (3.719, 3.768]\n",
      "[] []\n",
      "\n",
      "0 (3.768, 3.817]\n",
      "[] []\n",
      "\n",
      "0 (3.817, 3.866]\n",
      "[] []\n",
      "\n",
      "0 (3.866, 3.915]\n",
      "[] []\n",
      "\n",
      "0 (3.915, 3.965]\n",
      "[] []\n",
      "\n",
      "0 (3.965, 4.0139]\n",
      "[] []\n",
      "\n",
      "0 (4.0139, 4.0631]\n",
      "[] []\n",
      "\n",
      "0 (4.0631, 4.112]\n",
      "[] []\n",
      "\n",
      "0 (4.112, 4.162]\n",
      "[] []\n",
      "\n",
      "0 (4.162, 4.211]\n",
      "[] []\n",
      "\n",
      "0 (4.211, 4.26]\n",
      "[] []\n",
      "\n",
      "0 (4.26, 4.309]\n",
      "[] []\n",
      "\n",
      "0 (4.309, 4.359]\n",
      "[] []\n",
      "\n",
      "0 (4.359, 4.408]\n",
      "[] []\n",
      "\n",
      "0 (4.408, 4.457]\n",
      "[] []\n",
      "\n",
      "0 (4.457, 4.506]\n",
      "[] []\n",
      "\n",
      "0 (4.506, 4.555]\n",
      "[] []\n",
      "\n",
      "0 (4.555, 4.605]\n",
      "[] []\n",
      "\n",
      "1.0 (4.605, 4.654]\n",
      "['P02407;P14127'] ['P02407']\n",
      "\n",
      "0 (4.654, 4.703]\n",
      "[] []\n",
      "\n",
      "0 (4.703, 4.752]\n",
      "[] []\n",
      "\n",
      "0 (4.752, 4.802]\n",
      "[] []\n",
      "\n",
      "0 (4.802, 4.851]\n",
      "[] []\n",
      "\n",
      "0 (4.851, 4.9]\n",
      "[] []\n",
      "\n",
      "0 (4.9, 4.949]\n",
      "[] []\n",
      "\n",
      "0 (4.949, 4.999]\n",
      "[] []\n",
      "\n",
      "0 (4.999, 5.0478]\n",
      "[] []\n",
      "\n",
      "0 (5.0478, 5.097]\n",
      "[] []\n",
      "\n",
      "0 (5.097, 5.146]\n",
      "[] []\n",
      "\n",
      "0 (5.146, 5.195]\n",
      "[] []\n",
      "\n",
      "0 (5.195, 5.245]\n",
      "[] []\n",
      "\n",
      "0 (5.245, 5.294]\n",
      "[] []\n",
      "\n",
      "0 (5.294, 5.343]\n",
      "[] []\n",
      "\n",
      "0 (5.343, 5.392]\n",
      "[] []\n",
      "\n",
      "0 (5.392, 5.442]\n",
      "[] []\n",
      "\n",
      "0 (5.442, 5.491]\n",
      "[] []\n",
      "\n",
      "0 (5.491, 5.54]\n",
      "[] []\n",
      "\n",
      "0 (5.54, 5.589]\n",
      "[] []\n",
      "\n",
      "1.0 (5.589, 5.639]\n",
      "['P0C2H6;P0C2H7'] ['P0C2H7']\n",
      "\n",
      "0 (5.639, 5.688]\n",
      "[] []\n",
      "\n",
      "0 (5.688, 5.737]\n",
      "[] []\n",
      "\n",
      "0 (5.737, 5.786]\n",
      "[] []\n",
      "\n",
      "0 (5.786, 5.835]\n",
      "[] []\n",
      "\n",
      "0 (5.835, 5.885]\n",
      "[] []\n",
      "\n",
      "0 (5.885, 5.934]\n",
      "[] []\n",
      "\n",
      "0 (5.934, 5.983]\n",
      "[] []\n",
      "\n",
      "0 (5.983, 6.0324]\n",
      "[] []\n",
      "\n",
      "0 (6.0324, 6.0816]\n",
      "[] []\n",
      "\n",
      "0 (6.0816, 6.131]\n",
      "[] []\n",
      "\n",
      "0 (6.131, 6.18]\n",
      "[] []\n",
      "\n",
      "0 (6.18, 6.229]\n",
      "[] []\n",
      "\n",
      "0 (6.229, 6.279]\n",
      "[] []\n",
      "\n",
      "0 (6.279, 6.328]\n",
      "[] []\n",
      "\n",
      "0 (6.328, 6.377]\n",
      "[] []\n",
      "\n",
      "0 (6.377, 6.426]\n",
      "[] []\n",
      "\n",
      "0 (6.426, 6.475]\n",
      "[] []\n",
      "\n",
      "0 (6.475, 6.525]\n",
      "[] []\n",
      "\n",
      "0 (6.525, 6.574]\n",
      "[] []\n",
      "\n",
      "2.0 (6.574, 6.623]\n",
      "['P35997;P38711'] ['P38711', 'P35997;P38711']\n",
      "\n"
     ]
    }
   ],
   "source": [
    "for bg, fg, wf, bins in ui.iter_bins():\n",
    "    print wf, bins\n",
    "    print bg, fg\n",
    "    print"
   ]
  },
  {
   "cell_type": "code",
   "execution_count": null,
   "metadata": {
    "collapsed": true
   },
   "outputs": [],
   "source": []
  },
  {
   "cell_type": "code",
   "execution_count": 157,
   "metadata": {
    "collapsed": false
   },
   "outputs": [],
   "source": [
    "bins = pd.cut(ui.foreground[\"intensity\"], bins=100, retbins=True)[1]\n",
    "groups_fg = ui.foreground.groupby(pd.cut(ui.foreground[\"intensity\"], bins=bins))\n",
    "groups_bg = ui.background.groupby(pd.cut(ui.background[\"intensity\"], bins=bins))"
   ]
  },
  {
   "cell_type": "code",
   "execution_count": 160,
   "metadata": {
    "collapsed": false
   },
   "outputs": [],
   "source": [
    "# ui.background[ui.background[\"intensity\"] <= 0]"
   ]
  },
  {
   "cell_type": "code",
   "execution_count": 159,
   "metadata": {
    "collapsed": false
   },
   "outputs": [
    {
     "name": "stdout",
     "output_type": "stream",
     "text": [
      "0       BUBU;BUBU2;BUBU3\n",
      "1       AUBU;AUBU2;AUBU3\n",
      "3                 P09201\n",
      "4                 P14066\n",
      "6                 P20050\n",
      "9                 P38142\n",
      "11                P39959\n",
      "16                Q03868\n",
      "17                Q04004\n",
      "18                Q04383\n",
      "20                Q06592\n",
      "23                Q12348\n",
      "110               Q2V2Q1\n",
      "112               Q08981\n",
      "145               P51979\n",
      "212               P38806\n",
      "411               P07261\n",
      "446               Q05471\n",
      "483               P40963\n",
      "574               P38157\n",
      "702               P32833\n",
      "787               P38282\n",
      "806               P50104\n",
      "981               Q12247\n",
      "992               P40316\n",
      "1029              P31111\n",
      "1046              P38140\n",
      "1055              P53718\n",
      "1079              P32389\n",
      "1109              Q12472\n",
      "1119              Q9URQ3\n",
      "1123              P18412\n",
      "Name: foreground, dtype: object 32\n",
      "0    BUBU\n",
      "Name: background, dtype: object 1\n",
      "\n"
     ]
    }
   ],
   "source": [
    "for group_fg, group_bg in zip(groups_fg, groups_bg):\n",
    "    bins_in_group = group[0]\n",
    "    pg_fg = group_fg[1][\"foreground\"]\n",
    "    pg_bg = group_bg[1][\"background\"]\n",
    "    print pg_fg, len(pg_fg)\n",
    "    print pg_bg, len(pg_bg)\n",
    "    print \n",
    "    break"
   ]
  },
  {
   "cell_type": "code",
   "execution_count": 116,
   "metadata": {
    "collapsed": true
   },
   "outputs": [],
   "source": [
    "# for group in groups:\n",
    "# #     bins_in_group = group[0]\n",
    "# #     pg_in_group = group[1][\"foreground\"]\n",
    "# #     print bins_in_group\n",
    "# #     print pg_in_group\n",
    "#     print group\n",
    "#     print "
   ]
  },
  {
   "cell_type": "code",
   "execution_count": 80,
   "metadata": {
    "collapsed": false
   },
   "outputs": [],
   "source": [
    "hist, bins = np.histogram(ui.foreground[\"intensity\"], bins=100)"
   ]
  },
  {
   "cell_type": "code",
   "execution_count": 82,
   "metadata": {
    "collapsed": false
   },
   "outputs": [
    {
     "data": {
      "text/plain": [
       "array([ -1.        ,  -0.87922487,  -0.75844974,  -0.6376746 ,\n",
       "        -0.51689947,  -0.39612434,  -0.2753492 ,  -0.15457407,\n",
       "        -0.03379894,   0.08697619,   0.20775133,   0.32852646,\n",
       "         0.44930159,   0.57007672,   0.69085186,   0.81162699,\n",
       "         0.93240212,   1.05317725,   1.17395239,   1.29472752,\n",
       "         1.41550265,   1.53627778,   1.65705291,   1.77782805,\n",
       "         1.89860318,   2.01937831,   2.14015345,   2.26092858,\n",
       "         2.38170371,   2.50247884,   2.62325398,   2.74402911,\n",
       "         2.86480424,   2.98557937,   3.10635451,   3.22712964,\n",
       "         3.34790477,   3.4686799 ,   3.58945504,   3.71023017,\n",
       "         3.8310053 ,   3.95178043,   4.07255557,   4.1933307 ,\n",
       "         4.31410583,   4.43488096,   4.5556561 ,   4.67643123,\n",
       "         4.79720636,   4.91798149,   5.03875663,   5.15953176,\n",
       "         5.28030689,   5.40108202,   5.52185716,   5.64263229,\n",
       "         5.76340742,   5.88418255,   6.00495769,   6.12573282,\n",
       "         6.24650795,   6.36728308,   6.48805822,   6.60883335,\n",
       "         6.72960848,   6.85038361,   6.97115875,   7.09193388,\n",
       "         7.21270901,   7.33348414,   7.45425928,   7.57503441,\n",
       "         7.69580954,   7.81658467,   7.9373598 ,   8.05813494,\n",
       "         8.17891007,   8.2996852 ,   8.42046034,   8.54123547,\n",
       "         8.6620106 ,   8.78278573,   8.90356087,   9.024336  ,\n",
       "         9.14511113,   9.26588626,   9.3866614 ,   9.50743653,\n",
       "         9.62821166,   9.74898679,   9.86976193,   9.99053706,\n",
       "        10.11131219,  10.23208732,  10.35286246,  10.47363759,\n",
       "        10.59441272,  10.71518785,  10.83596299,  10.95673812,  11.07751325])"
      ]
     },
     "execution_count": 82,
     "metadata": {},
     "output_type": "execute_result"
    }
   ],
   "source": [
    "bins # (-1.0121, -0.879]"
   ]
  },
  {
   "cell_type": "code",
   "execution_count": 85,
   "metadata": {
    "collapsed": false
   },
   "outputs": [
    {
     "data": {
      "text/plain": [
       "array([30,  0,  0,  0,  0,  0,  0,  0,  0,  0,  0,  0,  0,  0,  0,  0,  0,\n",
       "        0,  0,  0,  0,  0,  0,  0,  0,  0,  0,  0,  0,  0,  0,  0,  0,  0,\n",
       "        0,  0,  0,  0,  0,  0,  0,  0,  0,  0,  0,  0,  0,  0,  0,  0,  2,\n",
       "        0,  1,  0,  0,  1,  1,  1,  3,  0,  5,  5,  6,  7, 12, 14, 19, 15,\n",
       "       17, 19, 25, 28, 21, 36, 33, 44, 47, 61, 57, 59, 48, 42, 51, 63, 46,\n",
       "       45, 54, 46, 40, 28, 18, 18, 21, 15, 26, 16,  7,  4,  0,  2])"
      ]
     },
     "execution_count": 85,
     "metadata": {},
     "output_type": "execute_result"
    }
   ],
   "source": [
    "hist"
   ]
  },
  {
   "cell_type": "code",
   "execution_count": null,
   "metadata": {
    "collapsed": true
   },
   "outputs": [],
   "source": []
  },
  {
   "cell_type": "code",
   "execution_count": 83,
   "metadata": {
    "collapsed": false
   },
   "outputs": [
    {
     "data": {
      "text/plain": [
       "-0.120775140000001"
      ]
     },
     "execution_count": 83,
     "metadata": {},
     "output_type": "execute_result"
    }
   ],
   "source": [
    "10.71518785 -  10.83596299"
   ]
  },
  {
   "cell_type": "code",
   "execution_count": 84,
   "metadata": {
    "collapsed": false
   },
   "outputs": [
    {
     "data": {
      "text/plain": [
       "-0.12077513000000017"
      ]
     },
     "execution_count": 84,
     "metadata": {},
     "output_type": "execute_result"
    }
   ],
   "source": [
    "9.62821166 -   9.74898679"
   ]
  },
  {
   "cell_type": "code",
   "execution_count": null,
   "metadata": {
    "collapsed": false
   },
   "outputs": [],
   "source": [
    "df.loc[0, \"background_int\"]"
   ]
  },
  {
   "cell_type": "code",
   "execution_count": null,
   "metadata": {
    "collapsed": false
   },
   "outputs": [],
   "source": [
    "# np.histogram(df[\"background_int\"], bins=10)\n",
    "np.histogram(df.loc[pd.notnull(df[\"background_int\"]), \"background_int\"], bins=10)"
   ]
  },
  {
   "cell_type": "code",
   "execution_count": null,
   "metadata": {
    "collapsed": false
   },
   "outputs": [],
   "source": [
    "ui.background_df"
   ]
  },
  {
   "cell_type": "code",
   "execution_count": null,
   "metadata": {
    "collapsed": true
   },
   "outputs": [],
   "source": [
    "# import math"
   ]
  },
  {
   "cell_type": "code",
   "execution_count": null,
   "metadata": {
    "collapsed": false
   },
   "outputs": [],
   "source": [
    "# import matplotlib.pyplot as plt\n",
    "# %matplotlib inline"
   ]
  },
  {
   "cell_type": "code",
   "execution_count": null,
   "metadata": {
    "collapsed": false
   },
   "outputs": [],
   "source": [
    "# arr = list(np.arange(10))\n",
    "# arr += [2.3]*8\n",
    "# hist, bin_edges = np.histogram(arr, bins=10, density=False)\n",
    "# plt.hist(arr, bins=bin_edges)  # plt.hist passes it's arguments to np.histogram\n",
    "# plt.show()"
   ]
  },
  {
   "cell_type": "code",
   "execution_count": null,
   "metadata": {
    "collapsed": true
   },
   "outputs": [],
   "source": []
  },
  {
   "cell_type": "code",
   "execution_count": null,
   "metadata": {
    "collapsed": true
   },
   "outputs": [],
   "source": [
    "# good stuff"
   ]
  },
  {
   "cell_type": "code",
   "execution_count": null,
   "metadata": {
    "collapsed": false
   },
   "outputs": [],
   "source": [
    "# foreground proteinGroups with intensities\n",
    "intensity_foreground = []\n",
    "for proteinGroup in ui.foreground_ser:\n",
    "    an_first_in_proteinGroup = proteinGroup.split(\";\")[0]\n",
    "    intensity_foreground.append(ui.an_2_intensity_dict[an_first_in_proteinGroup])\n",
    "#     try:      \n",
    "#         intensity_foreground.append(ui.an_2_intensity_dict[an_first_in_proteinGroup])\n",
    "#     except KeyError:\n",
    "#         # can't occur, since defaultdict\n",
    "#         raise StopIteration"
   ]
  },
  {
   "cell_type": "code",
   "execution_count": null,
   "metadata": {
    "collapsed": false
   },
   "outputs": [],
   "source": [
    "ui.foreground_df = pd.DataFrame(data=intensity_foreground, columns=[\"Int\"])\n",
    "ui.foreground_df[\"AN\"] = ui.foreground_ser"
   ]
  },
  {
   "cell_type": "code",
   "execution_count": null,
   "metadata": {
    "collapsed": false
   },
   "outputs": [],
   "source": [
    "df = ui.foreground_df\n",
    "df"
   ]
  },
  {
   "cell_type": "code",
   "execution_count": null,
   "metadata": {
    "collapsed": false
   },
   "outputs": [],
   "source": [
    "1.5*30"
   ]
  },
  {
   "cell_type": "code",
   "execution_count": null,
   "metadata": {
    "collapsed": true
   },
   "outputs": [],
   "source": [
    "# create bins\n",
    "# which proteinGroups from background are within bin"
   ]
  },
  {
   "cell_type": "code",
   "execution_count": null,
   "metadata": {
    "collapsed": true
   },
   "outputs": [],
   "source": [
    "num_bins = 100\n",
    "bins = np.linspace(df[\"Int\"].min(), df[\"Int\"].max(), num_bins)\n",
    "groups = df.groupby(pd.cut(df[\"Int\"], bins))"
   ]
  },
  {
   "cell_type": "code",
   "execution_count": null,
   "metadata": {
    "collapsed": false
   },
   "outputs": [],
   "source": [
    "# for group in groups:\n",
    "#     print group\n",
    "#     print"
   ]
  },
  {
   "cell_type": "code",
   "execution_count": null,
   "metadata": {
    "collapsed": true
   },
   "outputs": [],
   "source": []
  }
 ],
 "metadata": {
  "kernelspec": {
   "display_name": "Python 2",
   "language": "python",
   "name": "python2"
  },
  "language_info": {
   "codemirror_mode": {
    "name": "ipython",
    "version": 2
   },
   "file_extension": ".py",
   "mimetype": "text/x-python",
   "name": "python",
   "nbconvert_exporter": "python",
   "pygments_lexer": "ipython2",
   "version": "2.7.12"
  }
 },
 "nbformat": 4,
 "nbformat_minor": 1
}
