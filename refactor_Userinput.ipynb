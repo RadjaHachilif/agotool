{
 "cells": [
  {
   "cell_type": "code",
   "execution_count": 1,
   "metadata": {
    "collapsed": true
   },
   "outputs": [],
   "source": [
    "import pandas as pd\n",
    "import numpy as np\n",
    "import os, sys, re"
   ]
  },
  {
   "cell_type": "code",
   "execution_count": 5,
   "metadata": {
    "collapsed": false
   },
   "outputs": [
    {
     "name": "stdout",
     "output_type": "stream",
     "text": [
      "/biologic/CPR/cprarchive/Proteomics/2014/10/QE3/20141015_QE3_UPLC8_RJC_SA_KU16_448.raw\n",
      "/biologic/CPR/cprarchive/Proteomics/2014/10/QE3/20141015_QE3_UPLC8_RJC_SA_KU16_449.raw\n",
      "/biologic/CPR/cprarchive/Proteomics/2014/10/QE3/20141015_QE3_UPLC8_RJC_SA_KU16_450.raw\n",
      "/biologic/CPR/cprarchive/Proteomics/2014/10/QE3/20141015_QE3_UPLC8_RJC_SA_KU16_451.raw\n",
      "/biologic/CPR/cprarchive/Proteomics/2014/10/QE3/20141015_QE3_UPLC8_RJC_SA_KU16_452.raw\n",
      "/biologic/CPR/cprarchive/Proteomics/2014/10/QE3/20141015_QE3_UPLC8_RJC_SA_KU16_453.raw\n",
      "/biologic/CPR/cprarchive/Proteomics/2014/10/QE3/20141015_QE3_UPLC8_RJC_SA_KU16_454.raw\n",
      "/biologic/CPR/cprarchive/Proteomics/2014/10/QE3/20141015_QE3_UPLC8_RJC_SA_KU16_455.raw\n",
      "/biologic/CPR/cprarchive/Proteomics/2014/10/QE3/20141015_QE3_UPLC8_RJC_SA_KU16_456.raw\n",
      "/biologic/CPR/cprarchive/Proteomics/2014/10/QE3/20141015_QE3_UPLC8_RJC_SA_KU16_457.raw\n",
      "/biologic/CPR/cprarchive/Proteomics/2014/10/QE5/20141027_QE5_UPLC9_RJC_SA_KU16_458.raw\n",
      "/biologic/CPR/cprarchive/Proteomics/2014/10/QE5/20141027_QE5_UPLC9_RJC_SA_KU16_459_02.raw\n",
      "/biologic/CPR/cprarchive/Proteomics/2014/10/QE5/20141027_QE5_UPLC9_RJC_SA_KU16_460_02.raw\n",
      "/biologic/CPR/cprarchive/Proteomics/2014/10/QE5/20141027_QE5_UPLC9_RJC_SA_KU16_461.raw\n",
      "/biologic/CPR/cprarchive/Proteomics/2014/10/QE5/20141027_QE5_UPLC9_RJC_SA_KU16_462.raw\n",
      "/biologic/CPR/cprarchive/Proteomics/2014/10/QE5/20141027_QE5_UPLC9_RJC_SA_KU16_463.raw\n",
      "/biologic/CPR/cprarchive/Proteomics/2014/10/QE5/20141027_QE5_UPLC9_RJC_SA_KU16_463.raw\n",
      "/biologic/CPR/cprarchive/Proteomics/2014/10/QE5/20141027_QE5_UPLC9_RJC_SA_KU16_464.raw\n",
      "/biologic/CPR/cprarchive/Proteomics/2014/10/QE5/20141027_QE5_UPLC9_RJC_SA_KU16_465.raw\n",
      "/biologic/CPR/cprarchive/Proteomics/2014/10/QE5/20141027_QE5_UPLC9_RJC_SA_KU16_466.raw\n",
      "/biologic/CPR/cprarchive/Proteomics/2014/10/QE5/20141027_QE5_UPLC9_RJC_SA_KU16_467.raw\n",
      "/biologic/CPR/cprarchive/Proteomics/2014/10/QE5/20141030_QE5_UPLC9_RJC_SA_KU16_454_02.raw\n",
      "/biologic/CPR/cprarchive/Proteomics/2014/11/QE5/20141107_QE5_UPLC9_RJC_SA_KU16_458_02.raw\n",
      "/biologic/CPR/cprarchive/Proteomics/2014/11/QE5/20141107_QE5_UPLC9_RJC_SA_KU16_468.raw\n",
      "/biologic/CPR/cprarchive/Proteomics/2014/11/QE5/20141107_QE5_UPLC9_RJC_SA_KU16_469.raw\n",
      "/biologic/CPR/cprarchive/Proteomics/2014/11/QE5/20141107_QE5_UPLC9_RJC_SA_KU16_470.raw\n",
      "/biologic/CPR/cprarchive/Proteomics/2014/11/QE5/20141107_QE5_UPLC9_RJC_SA_KU16_471.raw\n",
      "/biologic/CPR/cprarchive/Proteomics/2014/11/QE5/20141107_QE5_UPLC9_RJC_SA_KU16_472.raw\n",
      "/biologic/CPR/cprarchive/Proteomics/2014/11/QE5/20141107_QE5_UPLC9_RJC_SA_KU16_473.raw\n",
      "/biologic/CPR/cprarchive/Proteomics/2014/11/QE5/20141107_QE5_UPLC9_RJC_SA_KU16_474.raw\n",
      "/biologic/CPR/cprarchive/Proteomics/2014/11/QE5/20141107_QE5_UPLC9_RJC_SA_KU16_475.raw\n",
      "/biologic/CPR/cprarchive/Proteomics/2014/11/QE5/20141107_QE5_UPLC9_RJC_SA_KU16_476.raw\n",
      "/biologic/CPR/cprarchive/Proteomics/2014/11/QE5/20141107_QE5_UPLC9_RJC_SA_KU16_477.raw\n",
      "/biologic/CPR/cprarchive/Proteomics/2014/11/QE5/20141110_QE5_UPLC9_RJC_SA_KU16_478.raw\n",
      "/biologic/CPR/cprarchive/Proteomics/2014/11/QE5/20141110_QE5_UPLC9_RJC_SA_KU16_479.raw\n",
      "/biologic/CPR/cprarchive/Proteomics/2014/11/QE5/20141110_QE5_UPLC9_RJC_SA_KU16_480.raw\n",
      "/biologic/CPR/cprarchive/Proteomics/2014/11/QE5/20141110_QE5_UPLC9_RJC_SA_KU16_481.raw\n",
      "/biologic/CPR/cprarchive/Proteomics/2014/11/QE5/20141110_QE5_UPLC9_RJC_SA_KU16_482.raw\n",
      "/biologic/CPR/cprarchive/Proteomics/2014/11/QE5/20141110_QE5_UPLC9_RJC_SA_KU16_483.raw\n",
      "/biologic/CPR/cprarchive/Proteomics/2014/11/QE5/20141110_QE5_UPLC9_RJC_SA_KU16_484.raw\n",
      "/biologic/CPR/cprarchive/Proteomics/2014/11/QE5/20141110_QE5_UPLC9_RJC_SA_KU16_485.raw\n",
      "/biologic/CPR/cprarchive/Proteomics/2014/11/QE5/20141110_QE5_UPLC9_RJC_SA_KU16_486.raw\n",
      "/biologic/CPR/cprarchive/Proteomics/2014/12/QE5/20141202_QE5_UPLC11_RJC_SA_KU16_489.raw\n",
      "/biologic/CPR/cprarchive/Proteomics/2014/12/QE5/20141202_QE5_UPLC11_RJC_SA_KU16_490.raw\n",
      "/biologic/CPR/cprarchive/Proteomics/2014/12/QE5/20141202_QE5_UPLC11_RJC_SA_KU16_491.raw\n",
      "/biologic/CPR/cprarchive/Proteomics/2014/12/QE5/20141202_QE5_UPLC11_RJC_SA_KU16_492.raw\n",
      "/biologic/CPR/cprarchive/Proteomics/2014/12/QE5/20141202_QE5_UPLC11_RJC_SA_KU16_493.raw\n",
      "/biologic/CPR/cprarchive/Proteomics/2014/12/QE5/20141202_QE5_UPLC11_RJC_SA_KU16_494.raw\n",
      "/biologic/CPR/cprarchive/Proteomics/2014/12/QE5/20141202_QE5_UPLC11_RJC_SA_KU16_495.raw\n",
      "/biologic/CPR/cprarchive/Proteomics/2014/12/QE5/20141202_QE5_UPLC11_RJC_SA_KU16_496.raw\n",
      "/biologic/CPR/cprarchive/Proteomics/2014/12/QE5/20141202_QE5_UPLC11_RJC_SA_KU16_497.raw\n",
      "/biologic/CPR/cprarchive/Proteomics/2014/12/QE5/20141205_QE5_UPLC11_RJC_SA_KU16_498.raw\n",
      "/biologic/CPR/cprarchive/Proteomics/2014/12/QE7/20141218_QE7_UPLC11_RJC_SA_KU16_499.raw\n",
      "/biologic/CPR/cprarchive/Proteomics/2014/12/QE7/20141218_QE7_UPLC11_RJC_SA_KU16_500.raw\n",
      "/biologic/CPR/cprarchive/Proteomics/2014/12/QE7/20141218_QE7_UPLC11_RJC_SA_KU16_501.raw\n",
      "/biologic/CPR/cprarchive/Proteomics/2014/12/QE7/20141218_QE7_UPLC11_RJC_SA_KU16_502.raw\n",
      "/biologic/CPR/cprarchive/Proteomics/2014/12/QE7/20141218_QE7_UPLC11_RJC_SA_KU16_503.raw\n",
      "/biologic/CPR/cprarchive/Proteomics/2014/12/QE7/20141218_QE7_UPLC11_RJC_SA_KU16_504.raw\n",
      "/biologic/CPR/cprarchive/Proteomics/2014/12/QE7/20141218_QE7_UPLC11_RJC_SA_KU16_505.raw\n",
      "/biologic/CPR/cprarchive/Proteomics/2014/12/QE7/20141218_QE7_UPLC11_RJC_SA_KU16_506.raw\n",
      "/biologic/CPR/cprarchive/Proteomics/2014/12/QE7/20141218_QE7_UPLC11_RJC_SA_KU16_507.raw\n",
      "/biologic/CPR/cprarchive/Proteomics/2014/12/QE7/20141218_QE7_UPLC11_RJC_SA_KU16_508.raw\n",
      "/biologic/CPR/cprarchive/Proteomics/2014/12/QE7/20141218_QE7_UPLC11_RJC_SA_KU16_509.raw\n",
      "/biologic/CPR/cprarchive/Proteomics/2014/12/QE7/20141218_QE7_UPLC11_RJC_SA_KU16_510.raw\n",
      "/biologic/CPR/cprarchive/Proteomics/2015/01/QE5/20150108_QE5_UPLC11_RJC_SA_KU16_519.raw\n",
      "/biologic/CPR/cprarchive/Proteomics/2015/01/QE5/20150108_QE5_UPLC11_RJC_SA_KU16_520.raw\n",
      "/biologic/CPR/cprarchive/Proteomics/2015/01/QE5/20150108_QE5_UPLC11_RJC_SA_KU16_521.raw\n",
      "/biologic/CPR/cprarchive/Proteomics/2015/01/QE5/20150108_QE5_UPLC11_RJC_SA_KU16_522.raw\n",
      "/biologic/CPR/cprarchive/Proteomics/2015/01/QE5/20150108_QE5_UPLC11_RJC_SA_KU16_523.raw\n",
      "/biologic/CPR/cprarchive/Proteomics/2015/01/QE5/20150108_QE5_UPLC11_RJC_SA_KU16_524.raw\n",
      "/biologic/CPR/cprarchive/Proteomics/2015/01/QE5/20150108_QE5_UPLC11_RJC_SA_KU16_525.raw\n",
      "/biologic/CPR/cprarchive/Proteomics/2015/01/QE5/20150108_QE5_UPLC11_RJC_SA_KU16_526.raw\n",
      "/biologic/CPR/cprarchive/Proteomics/2015/01/QE5/20150108_QE5_UPLC11_RJC_SA_KU16_527.raw\n",
      "/biologic/CPR/cprarchive/Proteomics/2015/01/QE5/20150108_QE5_UPLC11_RJC_SA_KU16_528.raw\n",
      "/biologic/CPR/cprarchive/Proteomics/2015/01/QE5/20150108_QE5_UPLC11_RJC_SA_KU16_529.raw\n",
      "/biologic/CPR/cprarchive/Proteomics/2015/01/QE5/20150113_QE5_UPLC11_RJC_SA_KU16_530.raw\n",
      "/biologic/CPR/cprarchive/Proteomics/2015/01/QE5/20150113_QE5_UPLC11_RJC_SA_KU16_531.raw\n",
      "/biologic/CPR/cprarchive/Proteomics/2015/01/QE5/20150113_QE5_UPLC11_RJC_SA_KU16_532.raw\n",
      "/biologic/CPR/cprarchive/Proteomics/2015/01/QE5/20150113_QE5_UPLC11_RJC_SA_KU16_533.raw\n",
      "/biologic/CPR/cprarchive/Proteomics/2015/01/QE5/20150113_QE5_UPLC11_RJC_SA_KU16_534.raw\n",
      "/biologic/CPR/cprarchive/Proteomics/2015/01/QE5/20150113_QE5_UPLC11_RJC_SA_KU16_535.raw\n",
      "/biologic/CPR/cprarchive/Proteomics/2015/01/QE5/20150113_QE5_UPLC11_RJC_SA_KU16_536.raw\n",
      "/biologic/CPR/cprarchive/Proteomics/2015/01/QE5/20150113_QE5_UPLC11_RJC_SA_KU16_536_150116032356.raw\n",
      "/biologic/CPR/cprarchive/Proteomics/2015/01/QE5/20150113_QE5_UPLC11_RJC_SA_KU16_537.raw\n",
      "/biologic/CPR/cprarchive/Proteomics/2015/01/QE5/20150113_QE5_UPLC11_RJC_SA_KU16_538.raw\n",
      "/biologic/CPR/cprarchive/Proteomics/2015/01/QE5/20150113_QE5_UPLC11_RJC_SA_KU16_539.raw\n",
      "/biologic/CPR/cprarchive/Proteomics/2015/02/QE7/20150211_QE7_UPLC10_RJC_SA_KU16_556.raw\n",
      "/biologic/CPR/cprarchive/Proteomics/2015/02/QE7/20150211_QE7_UPLC10_RJC_SA_KU16_557.raw\n",
      "/biologic/CPR/cprarchive/Proteomics/2015/02/QE7/20150211_QE7_UPLC10_RJC_SA_KU16_558.raw\n",
      "/biologic/CPR/cprarchive/Proteomics/2015/02/QE7/20150211_QE7_UPLC10_RJC_SA_KU16_559.raw\n",
      "/biologic/CPR/cprarchive/Proteomics/2015/02/QE7/20150211_QE7_UPLC10_RJC_SA_KU16_560.raw\n",
      "/biologic/CPR/cprarchive/Proteomics/2015/02/QE7/20150211_QE7_UPLC10_RJC_SA_KU16_561.raw\n",
      "/biologic/CPR/cprarchive/Proteomics/2015/02/QE7/20150211_QE7_UPLC10_RJC_SA_KU16_562.raw\n",
      "/biologic/CPR/cprarchive/Proteomics/2015/02/QE7/20150211_QE7_UPLC10_RJC_SA_KU16_563.raw\n",
      "/biologic/CPR/cprarchive/Proteomics/2015/02/QE7/20150211_QE7_UPLC10_RJC_SA_KU16_564.raw\n",
      "/biologic/CPR/cprarchive/Proteomics/2015/02/QE5/20150213_QE5_UPLC11_RJC_SA_KU16_577.raw\n",
      "/biologic/CPR/cprarchive/Proteomics/2015/02/QE5/20150213_QE5_UPLC11_RJC_SA_KU16_578.raw\n",
      "/biologic/CPR/cprarchive/Proteomics/2015/02/QE5/20150213_QE5_UPLC11_RJC_SA_KU16_579.raw\n",
      "/biologic/CPR/cprarchive/Proteomics/2015/02/QE5/20150213_QE5_UPLC11_RJC_SA_KU16_580.raw\n",
      "/biologic/CPR/cprarchive/Proteomics/2015/02/QE5/20150213_QE5_UPLC11_RJC_SA_KU16_581.raw\n",
      "/biologic/CPR/cprarchive/Proteomics/2015/02/QE5/20150213_QE5_UPLC11_RJC_SA_KU16_582.raw\n",
      "/biologic/CPR/cprarchive/Proteomics/2015/02/QE5/20150213_QE5_UPLC11_RJC_SA_KU16_583.raw\n",
      "/biologic/CPR/cprarchive/Proteomics/2015/02/QE5/20150213_QE5_UPLC11_RJC_SA_KU16_584.raw\n",
      "/biologic/CPR/cprarchive/Proteomics/2015/02/QE5/20150213_QE5_UPLC11_RJC_SA_KU16_585.raw\n",
      "/biologic/CPR/cprarchive/Proteomics/2015/02/QE5/20150213_QE5_UPLC11_RJC_SA_KU16_586.raw\n",
      "/biologic/CPR/cprarchive/Proteomics/2015/02/QE5/20150213_QE5_UPLC11_RJC_SA_KU16_587.raw\n",
      "/biologic/CPR/cprarchive/Proteomics/2015/02/QE7/20150213_QE7_UPLC10_RJC_SA_KU16_565.raw\n",
      "/biologic/CPR/cprarchive/Proteomics/2015/02/QE7/20150213_QE7_UPLC10_RJC_SA_KU16_566.raw\n",
      "/biologic/CPR/cprarchive/Proteomics/2015/02/QE7/20150213_QE7_UPLC10_RJC_SA_KU16_567.raw\n",
      "/biologic/CPR/cprarchive/Proteomics/2015/02/QE7/20150213_QE7_UPLC10_RJC_SA_KU16_568.raw\n",
      "/biologic/CPR/cprarchive/Proteomics/2015/02/QE7/20150213_QE7_UPLC10_RJC_SA_KU16_569.raw\n",
      "/biologic/CPR/cprarchive/Proteomics/2015/02/QE7/20150213_QE7_UPLC10_RJC_SA_KU16_570.raw\n",
      "/biologic/CPR/cprarchive/Proteomics/2015/02/QE7/20150213_QE7_UPLC10_RJC_SA_KU16_571.raw\n",
      "/biologic/CPR/cprarchive/Proteomics/2015/02/QE7/20150213_QE7_UPLC10_RJC_SA_KU16_572.raw\n",
      "/biologic/CPR/cprarchive/Proteomics/2015/02/QE5/20150216_QE5_UPLC11_RJC_SA_KU16_573.raw\n",
      "/biologic/CPR/cprarchive/Proteomics/2015/02/QE5/20150216_QE5_UPLC11_RJC_SA_KU16_573_150216150313.raw\n",
      "/biologic/CPR/cprarchive/Proteomics/2015/02/QE5/20150216_QE5_UPLC11_RJC_SA_KU16_574.raw\n",
      "/biologic/CPR/cprarchive/Proteomics/2015/02/QE5/20150216_QE5_UPLC11_RJC_SA_KU16_575.raw\n",
      "/biologic/CPR/cprarchive/Proteomics/2015/02/QE5/20150216_QE5_UPLC11_RJC_SA_KU16_576.raw\n",
      "/biologic/CPR/cprarchive/Proteomics/2015/02/QE5/20150216_QE5_UPLC11_RJC_SA_KU16_584_02.raw\n",
      "/biologic/CPR/cprarchive/Proteomics/2015/02/QE5/20150217_QE5_UPLC11_RJC_SA_KU16_585_02.raw\n",
      "/biologic/CPR/cprarchive/Proteomics/2015/02/QE5/20150217_QE5_UPLC11_RJC_SA_KU16_588.raw\n",
      "/biologic/CPR/cprarchive/Proteomics/2015/02/QE5/20150217_QE5_UPLC11_RJC_SA_KU16_589.raw\n",
      "/biologic/CPR/cprarchive/Proteomics/2015/02/QE5/20150217_QE5_UPLC11_RJC_SA_KU16_590.raw\n",
      "/biologic/CPR/cprarchive/Proteomics/2015/02/QE5/20150217_QE5_UPLC11_RJC_SA_KU16_591.raw\n",
      "/biologic/CPR/cprarchive/Proteomics/2015/02/QE5/20150218_QE5_UPLC11_RJC_SA_KU16_592.raw\n",
      "/biologic/CPR/cprarchive/Proteomics/2015/02/QE5/20150218_QE5_UPLC11_RJC_SA_KU16_593.raw\n",
      "/biologic/CPR/cprarchive/Proteomics/2015/02/QE5/20150218_QE5_UPLC11_RJC_SA_KU16_594.raw\n",
      "/biologic/CPR/cprarchive/Proteomics/2015/02/QE5/20150218_QE5_UPLC11_RJC_SA_KU16_595.raw\n",
      "/biologic/CPR/cprarchive/Proteomics/2015/02/QE5/20150218_QE5_UPLC11_RJC_SA_KU16_596.raw\n",
      "/biologic/CPR/cprarchive/Proteomics/2015/02/QE5/20150218_QE5_UPLC11_RJC_SA_KU16_597.raw\n",
      "/biologic/CPR/cprarchive/Proteomics/2015/02/QE5/20150218_QE5_UPLC11_RJC_SA_KU16_598.raw\n",
      "/biologic/CPR/cprarchive/Proteomics/2015/02/QE7/20150224_QE7_UPLC10_RJC_SA_KU16_599.raw\n",
      "/biologic/CPR/cprarchive/Proteomics/2015/02/QE7/20150224_QE7_UPLC10_RJC_SA_KU16_600.raw\n",
      "/biologic/CPR/cprarchive/Proteomics/2015/02/QE7/20150224_QE7_UPLC10_RJC_SA_KU16_601.raw\n",
      "/biologic/CPR/cprarchive/Proteomics/2015/02/QE7/20150224_QE7_UPLC10_RJC_SA_KU16_602.raw\n",
      "/biologic/CPR/cprarchive/Proteomics/2015/02/QE7/20150224_QE7_UPLC10_RJC_SA_KU16_603.raw\n",
      "/biologic/CPR/cprarchive/Proteomics/2015/02/QE7/20150224_QE7_UPLC10_RJC_SA_KU16_604.raw\n",
      "/biologic/CPR/cprarchive/Proteomics/2015/02/QE7/20150225_QE7_UPLC10_RJC_SA_KU16_605.raw\n",
      "/biologic/CPR/cprarchive/Proteomics/2015/02/QE7/20150225_QE7_UPLC10_RJC_SA_KU16_606.raw\n",
      "/biologic/CPR/cprarchive/Proteomics/2015/02/QE7/20150225_QE7_UPLC10_RJC_SA_KU16_607.raw\n",
      "/biologic/CPR/cprarchive/Proteomics/2015/02/QE7/20150225_QE7_UPLC10_RJC_SA_KU16_608.raw\n",
      "/biologic/CPR/cprarchive/Proteomics/2015/02/QE7/20150225_QE7_UPLC10_RJC_SA_KU16_609.raw\n",
      "/biologic/CPR/cprarchive/Proteomics/2015/02/QE7/20150225_QE7_UPLC10_RJC_SA_KU16_610.raw\n",
      "/biologic/CPR/cprarchive/Proteomics/2015/02/QE7/20150225_QE7_UPLC10_RJC_SA_KU16_611.raw\n",
      "/biologic/CPR/cprarchive/Proteomics/2015/02/QE7/20150225_QE7_UPLC10_RJC_SA_KU16_612.raw\n",
      "/biologic/CPR/cprarchive/Proteomics/2015/02/QE7/20150225_QE7_UPLC10_RJC_SA_KU16_613.raw\n",
      "/biologic/CPR/cprarchive/Proteomics/2015/02/QE7/20150225_QE7_UPLC10_RJC_SA_KU16_614.raw\n",
      "/biologic/CPR/cprarchive/Proteomics/2015/03/QE5/20150226_QE5_UPLC8_RJC_SA_KU16_631.raw\n",
      "/biologic/CPR/cprarchive/Proteomics/2015/03/QE5/20150226_QE5_UPLC8_RJC_SA_KU16_632.raw\n",
      "/biologic/CPR/cprarchive/Proteomics/2015/03/QE5/20150226_QE5_UPLC8_RJC_SA_KU16_633.raw\n",
      "/biologic/CPR/cprarchive/Proteomics/2015/03/QE5/20150226_QE5_UPLC8_RJC_SA_KU16_634.raw\n",
      "/biologic/CPR/cprarchive/Proteomics/2015/03/QE5/20150226_QE5_UPLC8_RJC_SA_KU16_635.raw\n",
      "/biologic/CPR/cprarchive/Proteomics/2015/03/QE5/20150226_QE5_UPLC8_RJC_SA_KU16_636.raw\n",
      "/biologic/CPR/cprarchive/Proteomics/2015/03/QE5/20150226_QE5_UPLC8_RJC_SA_KU16_637.raw\n",
      "/biologic/CPR/cprarchive/Proteomics/2015/03/QE5/20150226_QE5_UPLC8_RJC_SA_KU16_638.raw\n",
      "/biologic/CPR/cprarchive/Proteomics/2015/03/QE5/20150226_QE5_UPLC8_RJC_SA_KU16_639.raw\n",
      "/biologic/CPR/cprarchive/Proteomics/2015/03/QE5/20150226_QE5_UPLC8_RJC_SA_KU16_640.raw\n",
      "/biologic/CPR/cprarchive/Proteomics/2015/03/QE5/20150226_QE5_UPLC8_RJC_SA_KU16_641.raw\n",
      "/biologic/CPR/cprarchive/Proteomics/2015/03/QE5/20150226_QE5_UPLC8_RJC_SA_KU16_642.raw\n",
      "/biologic/CPR/cprarchive/Proteomics/2015/03/QE5/20150226_QE5_UPLC8_RJC_SA_KU16_643.raw\n",
      "/biologic/CPR/cprarchive/Proteomics/2015/03/QE5/20150226_QE5_UPLC8_RJC_SA_KU16_644.raw\n",
      "/biologic/CPR/cprarchive/Proteomics/2015/03/QE5/20150226_QE5_UPLC8_RJC_SA_KU16_645.raw\n",
      "/biologic/CPR/cprarchive/Proteomics/2015/03/QE5/20150226_QE5_UPLC8_RJC_SA_KU16_646.raw\n",
      "/biologic/CPR/cprarchive/Proteomics/2015/03/QE5/20150226_QE5_UPLC8_RJC_SA_KU16_647.raw\n",
      "/biologic/CPR/cprarchive/Proteomics/2015/03/QE5/20150226_QE5_UPLC8_RJC_SA_KU16_648.raw\n",
      "/biologic/CPR/cprarchive/Proteomics/2015/03/QE5/20150226_QE5_UPLC8_RJC_SA_KU16_649.raw\n",
      "/biologic/CPR/cprarchive/Proteomics/2015/03/QE5/20150226_QE5_UPLC8_RJC_SA_KU16_650.raw\n",
      "/biologic/CPR/cprarchive/Proteomics/2015/03/QE5/20150226_QE5_UPLC8_RJC_SA_KU16_651.raw\n",
      "/biologic/CPR/cprarchive/Proteomics/2015/03/QE5/20150226_QE5_UPLC8_RJC_SA_KU16_652.raw\n",
      "/biologic/CPR/cprarchive/Proteomics/2015/02/QE7/20150227_QE7_UPLC10_RJC_SA_KU16_615.raw\n",
      "/biologic/CPR/cprarchive/Proteomics/2015/02/QE7/20150227_QE7_UPLC10_RJC_SA_KU16_616.raw\n",
      "/biologic/CPR/cprarchive/Proteomics/2015/02/QE7/20150227_QE7_UPLC10_RJC_SA_KU16_617.raw\n",
      "/biologic/CPR/cprarchive/Proteomics/2015/02/QE7/20150227_QE7_UPLC10_RJC_SA_KU16_618.raw\n",
      "/biologic/CPR/cprarchive/Proteomics/2015/02/QE7/20150227_QE7_UPLC10_RJC_SA_KU16_619.raw\n",
      "/biologic/CPR/cprarchive/Proteomics/2015/04/QE5/20150420_QE5_UPLC8_RJC_SA_KU16_665.raw\n",
      "/biologic/CPR/cprarchive/Proteomics/2015/04/QE5/20150420_QE5_UPLC8_RJC_SA_KU16_666.raw\n",
      "/biologic/CPR/cprarchive/Proteomics/2015/04/QE5/20150420_QE5_UPLC8_RJC_SA_KU16_667.raw\n",
      "/biologic/CPR/cprarchive/Proteomics/2015/04/QE5/20150420_QE5_UPLC8_RJC_SA_KU16_668.raw\n",
      "/biologic/CPR/cprarchive/Proteomics/2015/04/QE5/20150420_QE5_UPLC8_RJC_SA_KU16_669.raw\n",
      "/biologic/CPR/cprarchive/Proteomics/2015/04/QE5/20150420_QE5_UPLC8_RJC_SA_KU16_670.raw\n",
      "/biologic/CPR/cprarchive/Proteomics/2015/04/QE5/20150420_QE5_UPLC8_RJC_SA_KU16_671.raw\n",
      "/biologic/CPR/cprarchive/Proteomics/2015/04/QE5/20150420_QE5_UPLC8_RJC_SA_KU16_672.raw\n",
      "/biologic/CPR/cprarchive/Proteomics/2015/04/QE5/20150420_QE5_UPLC8_RJC_SA_KU16_673.raw\n",
      "/biologic/CPR/cprarchive/Proteomics/2015/04/QE5/20150420_QE5_UPLC8_RJC_SA_KU16_674.raw\n",
      "/biologic/CPR/cprarchive/Proteomics/2015/04/QE5/20150420_QE5_UPLC8_RJC_SA_KU16_675.raw\n",
      "/biologic/CPR/cprarchive/Proteomics/2015/04/QE5/20150420_QE5_UPLC8_RJC_SA_KU16_675_150423132452.raw\n",
      "/biologic/CPR/cprarchive/Proteomics/2015/04/QE5/20150420_QE5_UPLC8_RJC_SA_KU16_676.raw\n",
      "/biologic/CPR/cprarchive/Proteomics/2015/04/QE5/20150420_QE5_UPLC8_RJC_SA_KU16_677.raw\n",
      "/biologic/CPR/cprarchive/Proteomics/2015/06/QE5/20150619_QE5_UPLC8_RJC_SA_KU16_678.raw\n",
      "/biologic/CPR/cprarchive/Proteomics/2015/06/QE5/20150619_QE5_UPLC8_RJC_SA_KU16_679.raw\n",
      "/biologic/CPR/cprarchive/Proteomics/2015/06/QE5/20150619_QE5_UPLC8_RJC_SA_KU16_680.raw\n",
      "/biologic/CPR/cprarchive/Proteomics/2015/06/QE5/20150619_QE5_UPLC8_RJC_SA_KU16_681.raw\n",
      "/biologic/CPR/cprarchive/Proteomics/2015/06/QE5/20150619_QE5_UPLC8_RJC_SA_KU16_682.raw\n",
      "/biologic/CPR/cprarchive/Proteomics/2015/06/QE5/20150619_QE5_UPLC8_RJC_SA_KU16_683.raw\n",
      "/biologic/CPR/cprarchive/Proteomics/2015/06/QE5/20150619_QE5_UPLC8_RJC_SA_KU16_684.raw\n",
      "/biologic/CPR/cprarchive/Proteomics/2015/06/QE5/20150619_QE5_UPLC8_RJC_SA_KU16_685.raw\n",
      "/biologic/CPR/cprarchive/Proteomics/2015/06/QE5/20150619_QE5_UPLC8_RJC_SA_KU16_686.raw\n",
      "/biologic/CPR/cprarchive/Proteomics/2015/06/QE5/20150619_QE5_UPLC8_RJC_SA_KU16_687.raw\n",
      "/biologic/CPR/cprarchive/Proteomics/2015/06/QE5/20150619_QE5_UPLC8_RJC_SA_KU16_688.raw\n",
      "/biologic/CPR/cprarchive/Proteomics/2015/07/QE5/20150729_QE5_UPLC8_RJC_SA_KU16_689_01.raw\n",
      "/biologic/CPR/cprarchive/Proteomics/2015/07/QE5/20150729_QE5_UPLC8_RJC_SA_KU16_690_01.raw\n",
      "/biologic/CPR/cprarchive/Proteomics/2015/07/QE5/20150729_QE5_UPLC8_RJC_SA_KU16_691_01.raw\n",
      "/biologic/CPR/cprarchive/Proteomics/2015/07/QE5/20150730_QE5_UPLC8_RJC_SA_KU16_692_01.raw\n",
      "/biologic/CPR/cprarchive/Proteomics/2015/07/QE5/20150730_QE5_UPLC8_RJC_SA_KU16_693_01.raw\n",
      "/biologic/CPR/cprarchive/Proteomics/2015/07/QE5/20150730_QE5_UPLC8_RJC_SA_KU16_694_01.raw\n",
      "/biologic/CPR/cprarchive/Proteomics/2015/07/QE5/20150730_QE5_UPLC8_RJC_SA_KU16_695_01.raw\n",
      "/biologic/CPR/cprarchive/Proteomics/2015/07/QE5/20150730_QE5_UPLC8_RJC_SA_KU16_696_01.raw\n",
      "/biologic/CPR/cprarchive/Proteomics/2015/07/QE5/20150730_QE5_UPLC8_RJC_SA_KU16_697_01.raw\n",
      "/biologic/CPR/cprarchive/Proteomics/2015/07/QE5/20150730_QE5_UPLC8_RJC_SA_KU16_698_01.raw\n",
      "/biologic/CPR/cprarchive/Proteomics/2015/07/QE5/20150730_QE5_UPLC8_RJC_SA_KU16_699_01.raw\n",
      "/biologic/CPR/cprarchive/Proteomics/2015/08/QE5/20150730_QE5_UPLC8_RJC_SA_KU16_713_01.raw\n",
      "/biologic/CPR/cprarchive/Proteomics/2015/08/QE5/20150813_QE5_UPLC10_RJC_SA_KU16_713_01.raw\n",
      "/biologic/CPR/cprarchive/Proteomics/2015/08/QE5/20150813_QE5_UPLC10_RJC_SA_KU16_714_01.raw\n",
      "/biologic/CPR/cprarchive/Proteomics/2015/08/QE5/20150813_QE5_UPLC10_RJC_SA_KU16_715_01.raw\n",
      "/biologic/CPR/cprarchive/Proteomics/2015/08/QE5/20150813_QE5_UPLC10_RJC_SA_KU16_716_01.raw\n",
      "/biologic/CPR/cprarchive/Proteomics/2015/08/QE5/20150813_QE5_UPLC10_RJC_SA_KU16_717_01.raw\n",
      "/biologic/CPR/cprarchive/Proteomics/2015/08/QE5/20150813_QE5_UPLC10_RJC_SA_KU16_718_01.raw\n",
      "/biologic/CPR/cprarchive/Proteomics/2015/08/QE5/20150813_QE5_UPLC10_RJC_SA_KU16_719_01.raw\n",
      "/biologic/CPR/cprarchive/Proteomics/2015/08/QE5/20150813_QE5_UPLC10_RJC_SA_KU16_720_01.raw\n",
      "/biologic/CPR/cprarchive/Proteomics/2015/08/QE5/20150813_QE5_UPLC10_RJC_SA_KU16_721_01.raw\n",
      "/biologic/CPR/cprarchive/Proteomics/2015/08/QE5/20150813_QE5_UPLC10_RJC_SA_KU16_722_01.raw\n",
      "/biologic/CPR/cprarchive/Proteomics/2015/08/QE5/20150813_QE5_UPLC10_RJC_SA_KU16_723_01.raw\n",
      "/biologic/CPR/cprarchive/Proteomics/2015/08/QE5/20150815_QE5_UPLC10_RJC_SA_KU16_760_01.raw\n",
      "/biologic/CPR/cprarchive/Proteomics/2015/08/QE5/20150815_QE5_UPLC10_RJC_SA_KU16_761_01.raw\n",
      "/biologic/CPR/cprarchive/Proteomics/2015/08/QE5/20150815_QE5_UPLC10_RJC_SA_KU16_762_01.raw\n",
      "/biologic/CPR/cprarchive/Proteomics/2015/08/QE5/20150815_QE5_UPLC10_RJC_SA_KU16_763_01.raw\n",
      "/biologic/CPR/cprarchive/Proteomics/2015/08/QE5/20150815_QE5_UPLC10_RJC_SA_KU16_764_01.raw\n",
      "/biologic/CPR/cprarchive/Proteomics/2015/08/QE5/20150815_QE5_UPLC10_RJC_SA_KU16_765_01.raw\n",
      "/biologic/CPR/cprarchive/Proteomics/2015/08/QE5/20150815_QE5_UPLC10_RJC_SA_KU16_766_01.raw\n",
      "/biologic/CPR/cprarchive/Proteomics/2016/02/QE5/20160206_QE5_UPLC11_RJC_SA_KU16_890_01.raw\n",
      "/biologic/CPR/cprarchive/Proteomics/2016/02/QE5/20160206_QE5_UPLC11_RJC_SA_KU16_891_01.raw\n",
      "/biologic/CPR/cprarchive/Proteomics/2016/02/QE5/20160206_QE5_UPLC11_RJC_SA_KU16_892_01.raw\n",
      "/biologic/CPR/cprarchive/Proteomics/2016/02/QE5/20160206_QE5_UPLC11_RJC_SA_KU16_893_01.raw\n",
      "/biologic/CPR/cprarchive/Proteomics/2016/02/QE5/20160206_QE5_UPLC11_RJC_SA_KU16_898_01.raw\n",
      "/biologic/CPR/cprarchive/Proteomics/2016/02/QE5/20160206_QE5_UPLC11_RJC_SA_KU16_899_01.raw\n",
      "/biologic/CPR/cprarchive/Proteomics/2016/02/QE5/20160206_QE5_UPLC11_RJC_SA_KU16_900_01.raw\n",
      "/biologic/CPR/cprarchive/Proteomics/2016/02/QE5/20160206_QE5_UPLC11_RJC_SA_KU16_901_01.raw\n",
      "/biologic/CPR/cprarchive/Proteomics/2016/02/QE5/20160206_QE5_UPLC11_RJC_SA_KU16_902_01.raw\n",
      "/biologic/CPR/cprarchive/Proteomics/2016/02/QE5/20160206_QE5_UPLC11_RJC_SA_KU16_894_01.raw\n",
      "/biologic/CPR/cprarchive/Proteomics/2016/02/QE5/20160206_QE5_UPLC11_RJC_SA_KU16_895_01.raw\n",
      "/biologic/CPR/cprarchive/Proteomics/2016/02/QE5/20160206_QE5_UPLC11_RJC_SA_KU16_896_01.raw\n",
      "/biologic/CPR/cprarchive/Proteomics/2016/02/QE5/20160206_QE5_UPLC11_RJC_SA_KU16_897_01.raw\n",
      "/biologic/CPR/cprarchive/Proteomics/2015/09/QE5/20150929_QE5_UPLC10_RJC_SA_Plaque6_01.raw\n",
      "/biologic/CPR/cprarchive/Proteomics/2015/09/QE5/20150929_QE5_UPLC10_RJC_SA_Plaque7_01.raw\n",
      "/biologic/CPR/cprarchive/Proteomics/2015/09/QE5/20150929_QE5_UPLC10_RJC_SA_Plaque1_01.raw\n",
      "/biologic/CPR/cprarchive/Proteomics/2015/09/QE5/20150929_QE5_UPLC10_RJC_SA_Plaque2_01.raw\n",
      "/biologic/CPR/cprarchive/Proteomics/2015/09/QE5/20150929_QE5_UPLC10_RJC_SA_Plaque3_01.raw\n",
      "/biologic/CPR/cprarchive/Proteomics/2015/09/QE5/20150929_QE5_UPLC10_RJC_SA_Plaque4_01.raw\n",
      "/biologic/CPR/cprarchive/Proteomics/2015/09/QE5/20150929_QE5_UPLC10_RJC_SA_Plaque5_01.raw\n",
      "/biologic/CPR/cprarchive/Proteomics/2016/06/QE5/20160531_QE5_nLC14_RJC_COLLAB_GeoG_998_01.raw\n",
      "/biologic/CPR/cprarchive/Proteomics/2016/06/QE5/20160531_QE5_nLC14_RJC_COLLAB_GeoG_999_01.raw\n",
      "/biologic/CPR/cprarchive/Proteomics/2016/06/QE5/20160531_QE5_nLC14_RJC_COLLAB_GeoG_1000_01.raw\n",
      "/biologic/CPR/cprarchive/Proteomics/2016/06/QE5/20160531_QE5_nLC14_RJC_COLLAB_GeoG_1001_01.raw\n",
      "/biologic/CPR/cprarchive/Proteomics/2016/06/QE5/20160531_QE5_nLC14_RJC_COLLAB_GeoG_1002_01.raw\n",
      "/biologic/CPR/cprarchive/Proteomics/2016/06/QE5/20160531_QE5_nLC14_RJC_COLLAB_GeoG_1003_01.raw\n",
      "/biologic/CPR/cprarchive/Proteomics/2016/06/QE5/20160531_QE5_nLC14_RJC_COLLAB_GeoG_988_01.raw\n",
      "/biologic/CPR/cprarchive/Proteomics/2016/06/QE5/20160531_QE5_nLC14_RJC_COLLAB_GeoG_989_01.raw\n",
      "/biologic/CPR/cprarchive/Proteomics/2016/06/QE5/20160531_QE5_nLC14_RJC_COLLAB_GeoG_990_01.raw\n",
      "/biologic/CPR/cprarchive/Proteomics/2016/06/QE5/20160531_QE5_nLC14_RJC_COLLAB_GeoG_991_01.raw\n",
      "/biologic/CPR/cprarchive/Proteomics/2016/06/QE5/20160531_QE5_nLC14_RJC_COLLAB_GeoG_992_01.raw\n",
      "/biologic/CPR/cprarchive/Proteomics/2016/06/QE5/20160531_QE5_nLC14_RJC_COLLAB_GeoG_993_01.raw\n",
      "/biologic/CPR/cprarchive/Proteomics/2016/06/QE5/20160531_QE5_nLC14_RJC_COLLAB_GeoG_994_01.raw\n",
      "/biologic/CPR/cprarchive/Proteomics/2016/06/QE5/20160531_QE5_nLC14_RJC_COLLAB_GeoG_995_01.raw\n",
      "/biologic/CPR/cprarchive/Proteomics/2016/06/QE5/20160531_QE5_nLC14_RJC_COLLAB_GeoG_996_01.raw\n",
      "/biologic/CPR/cprarchive/Proteomics/2016/06/QE5/20160531_QE5_nLC14_RJC_COLLAB_GeoG_997_01.raw\n",
      "/biologic/CPR/cprarchive/Proteomics/2016/05/QE5/20160531_QE5_nLC14_RJC_COLLAB_GeoG_987_01.raw\n",
      "/biologic/CPR/cprarchive/Proteomics/2016/06/QE5/20160608_QE5_nLC14_RJC_COLLAB_GeoG_1004_01.raw\n",
      "/biologic/CPR/cprarchive/Proteomics/2016/06/QE5/20160608_QE5_nLC14_RJC_COLLAB_GeoG_1005_01.raw\n",
      "/biologic/CPR/cprarchive/Proteomics/2016/06/QE5/20160608_QE5_nLC14_RJC_COLLAB_GeoG_1006_01.raw\n",
      "/biologic/CPR/cprarchive/Proteomics/2016/06/QE5/20160608_QE5_nLC14_RJC_COLLAB_GeoG_1007_01.raw\n",
      "/biologic/CPR/cprarchive/Proteomics/2016/06/QE5/20160608_QE5_nLC14_RJC_COLLAB_GeoG_1008_01.raw\n",
      "/biologic/CPR/cprarchive/Proteomics/2016/06/QE5/20160608_QE5_nLC14_RJC_COLLAB_GeoG_1009_01.raw\n",
      "/biologic/CPR/cprarchive/Proteomics/2016/06/QE5/20160608_QE5_nLC14_RJC_COLLAB_GeoG_1010_01.raw\n",
      "/biologic/CPR/cprarchive/Proteomics/2016/06/QE5/20160608_QE5_nLC14_RJC_COLLAB_GeoG_1011_01.raw\n",
      "/biologic/CPR/cprarchive/Proteomics/2016/08/QE5/20160809_QE5_nLC7_MEM_SA_KU16_1025_01.raw\n",
      "/biologic/CPR/cprarchive/Proteomics/2016/08/QE5/20160809_QE5_nLC7_MEM_SA_KU16_1027_01.raw\n",
      "/biologic/CPR/cprarchive/Proteomics/2016/08/QE5/20160809_QE5_nLC7_MEM_SA_KU16_1028_01.raw\n",
      "/biologic/CPR/cprarchive/Proteomics/2016/08/QE5/20160809_QE5_nLC7_MEM_SA_KU16_1029_01.raw\n",
      "/biologic/CPR/cprarchive/Proteomics/2016/08/QE5/20160809_QE5_nLC7_MEM_SA_KU16_1030_01.raw\n",
      "/biologic/CPR/cprarchive/Proteomics/2016/08/QE5/20160809_QE5_nLC7_MEM_SA_KU16_1031_01.raw\n",
      "/biologic/CPR/cprarchive/Proteomics/2016/08/QE5/20160809_QE5_nLC7_MEM_SA_KU16_1032_01.raw\n",
      "/biologic/CPR/cprarchive/Proteomics/2016/08/QE5/20160809_QE5_nLC7_MEM_SA_KU16_1033_01.raw\n",
      "/biologic/CPR/cprarchive/Proteomics/2016/08/QE5/20160809_QE5_nLC7_MEM_SA_KU16_1034_01.raw\n",
      "/biologic/CPR/cprarchive/Proteomics/2016/08/QE3/20160819_QE3_nLC5_MEM_COLLAB_GeoG_1062_01.raw\n",
      "/biologic/CPR/cprarchive/Proteomics/2016/08/QE3/20160819_QE3_nLC5_MEM_COLLAB_GeoG_1063_01.raw\n",
      "/biologic/CPR/cprarchive/Proteomics/2016/08/QE3/20160819_QE3_nLC5_MEM_COLLAB_GeoG_1064_01.raw\n",
      "/biologic/CPR/cprarchive/Proteomics/2016/08/QE3/20160819_QE3_nLC5_MEM_COLLAB_GeoG_1065_01.raw\n",
      "/biologic/CPR/cprarchive/Proteomics/2016/08/QE3/20160819_QE3_nLC5_MEM_COLLAB_GeoG_1066_01.raw\n",
      "/biologic/CPR/cprarchive/Proteomics/2016/08/QE3/20160819_QE3_nLC5_MEM_COLLAB_GeoG_1067_01.raw\n",
      "/biologic/CPR/cprarchive/Proteomics/2016/08/QE3/20160819_QE3_nLC5_MEM_COLLAB_GeoG_1068_01.raw\n",
      "/biologic/CPR/cprarchive/Proteomics/2016/07/QE3/20160701_QE3_nLC5_MEM_MODCALC_C3A_01.raw\n",
      "/biologic/CPR/cprarchive/Proteomics/2016/07/QE3/20160701_QE3_nLC5_MEM_MODCALC_C4A_01.raw\n",
      "/biologic/CPR/cprarchive/Proteomics/2016/07/QE3/20160701_QE3_nLC5_MEM_MODCALC_C5B_01.raw\n",
      "/biologic/CPR/cprarchive/Proteomics/2016/07/QE3/20160701_QE3_nLC5_MEM_MODCALC_C6B_01.raw\n",
      "/biologic/CPR/cprarchive/Proteomics/2016/07/QE3/20160701_QE3_nLC5_MEM_MODCALC_C7B_01.raw\n",
      "/biologic/CPR/cprarchive/Proteomics/2016/07/QE3/20160701_QE3_nLC5_MEM_MODCALC_BLANK_01.raw\n",
      "/biologic/CPR/cprarchive/Proteomics/2016/07/QE3/20160701_QE3_nLC5_MEM_MODCALC_C1_01.raw\n",
      "/biologic/CPR/cprarchive/Proteomics/2016/07/QE3/20160701_QE3_nLC5_MEM_MODCALC_C2B_01.raw\n"
     ]
    }
   ],
   "source": [
    "import os\n",
    "fn = r\"/Users/dblyon/Downloads/files2convert_clean_RJC.txt\"\n",
    "# fn = r\"/Users/dblyon/modules/cpr/metaprot/conf/files_2_copy_Win_virtual_server.txt\"\n",
    "fn_out = r'/Users/dblyon/modules/cpr/metaprot/conf/files_2_copy_Win_virtual_server_2.txt'\n",
    "prefix = r\"/biologic/CPR/cprarchive/Proteomics/\" # /2015/01/QE3/FileName.raw\n",
    "with open(fn, 'r') as fh:\n",
    "    with open(fn_out, 'w') as fh_out:\n",
    "        for line in fh:\n",
    "            line = line.strip().replace(\"\\\\\", \"/\").replace(\"Z:/MSDATA/\", \"/\").replace(\"V:/MSDATA/\", \"/\")[1:]\n",
    "            line2write = os.path.join(prefix, line)\n",
    "            print line2write\n",
    "            fh_out.write(line2write + \"\\n\")"
   ]
  },
  {
   "cell_type": "code",
   "execution_count": null,
   "metadata": {
    "collapsed": true
   },
   "outputs": [],
   "source": [
    "import os, sys\n",
    "from subprocess import call\n",
    "\n",
    "dir_jvo = r\"Z:\\MSDATA\"\n",
    "with open(file_list_txt, \"r\") as fh:\n",
    "    for line in fh:\n",
    "        fn = line.strip()[1:]\n",
    "        fn_abs = os.path.join(dir_jvo, fn)\n",
    "        if os.path.exits(fn_abs):\n",
    "            print fn_abs\n",
    "    \n",
    "\n",
    "          \n",
    "file_list_txt = r\"Z:\\Lyon\\MS_data\\filesList_RAW_KU16.txt\"\n",
    "config_txt = r\"Z:\\Lyon\\MS_data\\MGF\\config.txt\"\n",
    "output_dir = r\"Z:\\Lyon\\MS_data\\MGF\"\n",
    "shellcmd = \"msconvert -f {} -c {} -o {}\".format(file_list_txt, config_txt, output_dir)\n",
    "#call(shellcmd, shell=True)\n",
    "print shellcmd          "
   ]
  },
  {
   "cell_type": "code",
   "execution_count": null,
   "metadata": {
    "collapsed": true
   },
   "outputs": [],
   "source": []
  },
  {
   "cell_type": "code",
   "execution_count": null,
   "metadata": {
    "collapsed": true
   },
   "outputs": [],
   "source": []
  },
  {
   "cell_type": "code",
   "execution_count": null,
   "metadata": {
    "collapsed": true
   },
   "outputs": [],
   "source": []
  },
  {
   "cell_type": "code",
   "execution_count": null,
   "metadata": {
    "collapsed": true
   },
   "outputs": [],
   "source": []
  },
  {
   "cell_type": "code",
   "execution_count": 11,
   "metadata": {
    "collapsed": true
   },
   "outputs": [],
   "source": [
    "sys.path.append(\"./static/python/\")"
   ]
  },
  {
   "cell_type": "code",
   "execution_count": 12,
   "metadata": {
    "collapsed": true
   },
   "outputs": [],
   "source": [
    "import userinput"
   ]
  },
  {
   "cell_type": "code",
   "execution_count": 32,
   "metadata": {
    "collapsed": false
   },
   "outputs": [
    {
     "data": {
      "text/plain": [
       "<module 'userinput' from './static/python/userinput.py'>"
      ]
     },
     "execution_count": 32,
     "metadata": {},
     "output_type": "execute_result"
    }
   ],
   "source": [
    "reload(userinput)"
   ]
  },
  {
   "cell_type": "code",
   "execution_count": 37,
   "metadata": {
    "collapsed": true
   },
   "outputs": [],
   "source": [
    "from StringIO import StringIO"
   ]
  },
  {
   "cell_type": "code",
   "execution_count": 48,
   "metadata": {
    "collapsed": true
   },
   "outputs": [],
   "source": [
    "import itertools"
   ]
  },
  {
   "cell_type": "code",
   "execution_count": 67,
   "metadata": {
    "collapsed": true
   },
   "outputs": [],
   "source": [
    "s = StringIO()"
   ]
  },
  {
   "cell_type": "code",
   "execution_count": 68,
   "metadata": {
    "collapsed": true
   },
   "outputs": [],
   "source": [
    "f = u'BUBU;BUBU2;BUBU3\\r\\nAUBU;AUBU2;AUBU3\\r\\nP40545\\r\\nP09201\\r\\nP14066\\r\\nP25040\\r\\nP20050\\r\\nP40327\\r\\nQ01939\\r\\nQ01939'\n",
    "b = u'BUBU\\t\\r\\nBUBU\\t\\r\\nP00359\\t11,07751325\\r\\nP00925\\t10,96978388\\r\\nP02994\\t10,76849751\\r\\nP06169\\t10,74716312\\r\\nP00560\\t10,74614359\\r\\nP00950\\t10,74149039\\r\\nP00549\\t10,70474233\\r\\nP00330\\t10,6690378\\r\\nAIAIAI\\r\\nUUUU;IIII'"
   ]
  },
  {
   "cell_type": "code",
   "execution_count": 69,
   "metadata": {
    "collapsed": false
   },
   "outputs": [],
   "source": [
    "# zip(f.split(\"\\r\\n\"), b.split(\"\\r\\n\"))"
   ]
  },
  {
   "cell_type": "code",
   "execution_count": 70,
   "metadata": {
    "collapsed": false
   },
   "outputs": [],
   "source": [
    "s = StringIO()\n",
    "s.write('foreground\\tbackground\\tintensity\\r')\n",
    "for a, b in itertools.izip_longest(f.split(\"\\r\\n\"), b.split(\"\\r\\n\"), fillvalue=\"\\t\"):\n",
    "    s.write(a + \"\\t\" + b.strip() + \"\\r\")"
   ]
  },
  {
   "cell_type": "code",
   "execution_count": 75,
   "metadata": {
    "collapsed": false
   },
   "outputs": [
    {
     "data": {
      "text/plain": [
       "0"
      ]
     },
     "execution_count": 75,
     "metadata": {},
     "output_type": "execute_result"
    }
   ],
   "source": [
    "s.tell()"
   ]
  },
  {
   "cell_type": "code",
   "execution_count": 80,
   "metadata": {
    "collapsed": true
   },
   "outputs": [],
   "source": [
    "s.seek(0)"
   ]
  },
  {
   "cell_type": "code",
   "execution_count": 81,
   "metadata": {
    "collapsed": false
   },
   "outputs": [
    {
     "data": {
      "text/plain": [
       "0"
      ]
     },
     "execution_count": 81,
     "metadata": {},
     "output_type": "execute_result"
    }
   ],
   "source": [
    "s.tell()"
   ]
  },
  {
   "cell_type": "code",
   "execution_count": 82,
   "metadata": {
    "collapsed": false
   },
   "outputs": [
    {
     "data": {
      "text/plain": [
       "{'BP', 'CP', 'MF', 'all_GO'}"
      ]
     },
     "execution_count": 82,
     "metadata": {},
     "output_type": "execute_result"
    }
   ],
   "source": [
    "set([\"all_GO\", \"BP\", \"CP\", \"MF\"])"
   ]
  },
  {
   "cell_type": "code",
   "execution_count": 84,
   "metadata": {
    "collapsed": false
   },
   "outputs": [
    {
     "data": {
      "text/plain": [
       "{'BP', 'CP', 'MF'}"
      ]
     },
     "execution_count": 84,
     "metadata": {},
     "output_type": "execute_result"
    }
   ],
   "source": [
    "{\"BP\", \"CP\", \"MF\"}"
   ]
  },
  {
   "cell_type": "code",
   "execution_count": 78,
   "metadata": {
    "collapsed": false
   },
   "outputs": [
    {
     "data": {
      "text/plain": [
       "u'foreground\\tbackground\\tintensity\\rBUBU;BUBU2;BUBU3\\tBUBU\\rAUBU;AUBU2;AUBU3\\tBUBU\\rP40545\\tP00359\\t11,07751325\\rP09201\\tP00925\\t10,96978388\\rP14066\\tP02994\\t10,76849751\\rP25040\\tP06169\\t10,74716312\\rP20050\\tP00560\\t10,74614359\\rP40327\\tP00950\\t10,74149039\\rQ01939\\tP00549\\t10,70474233\\rQ01939\\tP00330\\t10,6690378\\r\\t\\tAIAIAI\\r\\t\\tUUUU;IIII\\r'"
      ]
     },
     "execution_count": 78,
     "metadata": {},
     "output_type": "execute_result"
    }
   ],
   "source": [
    "s.read()"
   ]
  },
  {
   "cell_type": "code",
   "execution_count": 59,
   "metadata": {
    "collapsed": false
   },
   "outputs": [
    {
     "data": {
      "text/plain": [
       "[u'foreground\\tbackground\\tintensity',\n",
       " u'BUBU;BUBU2;BUBU3\\tBUBU',\n",
       " u'AUBU;AUBU2;AUBU3\\tBUBU',\n",
       " u'P40545\\tP00359\\t11,07751325',\n",
       " u'P09201\\tP00925\\t10,96978388',\n",
       " u'P14066\\tP02994\\t10,76849751',\n",
       " u'P25040\\tP06169\\t10,74716312',\n",
       " u'P20050\\tP00560\\t10,74614359',\n",
       " u'P40327\\tP00950\\t10,74149039',\n",
       " u'Q01939\\tP00549\\t10,70474233',\n",
       " u'Q01939\\tP00330\\t10,6690378',\n",
       " u'\\t\\tAIAIAI',\n",
       " u'\\t\\tUUUU;IIII',\n",
       " u'']"
      ]
     },
     "execution_count": 59,
     "metadata": {},
     "output_type": "execute_result"
    }
   ],
   "source": [
    "s.split(\"\\r\")"
   ]
  },
  {
   "cell_type": "code",
   "execution_count": 54,
   "metadata": {
    "collapsed": false
   },
   "outputs": [],
   "source": [
    "x = 'intensity\\tbackground\\tforeground\\r\\tBUBU\\t\"BUBU;BUBU2;BUBU3\"\\r\\tBUBU\\tAUBU;AUBU2;AUBU3\\r11,07751325\\tP00359\\tP40545\\r10,96978388\\tP00925\\tP09201\\r10,76849751\\tP02994\\tP14066\\r10,74716312\\tP06169\\tP25040\\r10,74614359\\tP00560\\tP20050\\r10,74149039\\tP00950\\tP40327\\r10,70474233\\tP00549\\tQ01939\\r10,6690378\\tP00330\\tQ01939\\r10,64206863\\tP05743\\tP38142\\r10,64061061\\t\"P02407;P14127\"\\tQ01939\\r10,63619693\\t\"P0C2H6;P0C2H7\"\\tP53549\\r10,6231769\\t\"P35997;P38711\"\\tP53549\\r10,61589747\\tP29453\\tP39959\\r10,59787062\\tO14455\\tP38787\\r10,59595893\\tP04456\\tP38787\\r10,5819724\\tP14540\\tP12684\\r10,58108453\\t\"P0CX84;P0CX85\"\\tP12684\\r10,58103895\\tP05755\\tP38122\\r10,56810781\\t\"P0CX31;P0CX32\"\\tP38122\\r10,54364595\\t\"P0CX55;P0CX56\"\\tP0CX47\\r10,5379072\\tP38061'"
   ]
  },
  {
   "cell_type": "code",
   "execution_count": 55,
   "metadata": {
    "collapsed": false
   },
   "outputs": [
    {
     "data": {
      "text/plain": [
       "['intensity\\tbackground\\tforeground',\n",
       " '\\tBUBU\\t\"BUBU;BUBU2;BUBU3\"',\n",
       " '\\tBUBU\\tAUBU;AUBU2;AUBU3',\n",
       " '11,07751325\\tP00359\\tP40545',\n",
       " '10,96978388\\tP00925\\tP09201',\n",
       " '10,76849751\\tP02994\\tP14066',\n",
       " '10,74716312\\tP06169\\tP25040',\n",
       " '10,74614359\\tP00560\\tP20050',\n",
       " '10,74149039\\tP00950\\tP40327',\n",
       " '10,70474233\\tP00549\\tQ01939',\n",
       " '10,6690378\\tP00330\\tQ01939',\n",
       " '10,64206863\\tP05743\\tP38142',\n",
       " '10,64061061\\t\"P02407;P14127\"\\tQ01939',\n",
       " '10,63619693\\t\"P0C2H6;P0C2H7\"\\tP53549',\n",
       " '10,6231769\\t\"P35997;P38711\"\\tP53549',\n",
       " '10,61589747\\tP29453\\tP39959',\n",
       " '10,59787062\\tO14455\\tP38787',\n",
       " '10,59595893\\tP04456\\tP38787',\n",
       " '10,5819724\\tP14540\\tP12684',\n",
       " '10,58108453\\t\"P0CX84;P0CX85\"\\tP12684',\n",
       " '10,58103895\\tP05755\\tP38122',\n",
       " '10,56810781\\t\"P0CX31;P0CX32\"\\tP38122',\n",
       " '10,54364595\\t\"P0CX55;P0CX56\"\\tP0CX47',\n",
       " '10,5379072\\tP38061']"
      ]
     },
     "execution_count": 55,
     "metadata": {},
     "output_type": "execute_result"
    }
   ],
   "source": [
    "x.split(\"\\r\")"
   ]
  },
  {
   "cell_type": "code",
   "execution_count": 39,
   "metadata": {
    "collapsed": true
   },
   "outputs": [],
   "source": [
    "s.write(\"bubu\")"
   ]
  },
  {
   "cell_type": "code",
   "execution_count": 40,
   "metadata": {
    "collapsed": false
   },
   "outputs": [
    {
     "data": {
      "text/plain": [
       "4"
      ]
     },
     "execution_count": 40,
     "metadata": {},
     "output_type": "execute_result"
    }
   ],
   "source": [
    "s.tell()"
   ]
  },
  {
   "cell_type": "code",
   "execution_count": 33,
   "metadata": {
    "collapsed": false
   },
   "outputs": [],
   "source": [
    "fn = r\"/Users/dblyon/CloudStation/CPR/BTW_GO/UserInput.txt\"\n",
    "fn = r\"/Users/dbl/modules/cpr/agotool/static/data/exampledata/exampledata_yeast.txt\"\n",
    "# fn = r\"/Users/dblyon/modules/cpr/agotool/static/data/exampledata/refactorUserinput.txt\"\n",
    "df = pd.read_csv(fn, sep='\\t', decimal=\",\")#, converters={\"background_int\": float, \"background_an\": str, \"foreground_an\": str})"
   ]
  },
  {
   "cell_type": "code",
   "execution_count": 34,
   "metadata": {
    "collapsed": false
   },
   "outputs": [],
   "source": [
    "# fh = open(fn, \"r\").read()\n",
    "ui = userinput.Userinput(fn=fn, foreground_string=None, background_string=None,\n",
    "col_foreground='foreground', col_background='background', col_intensity='intensity',\n",
    "num_bins=100, decimal='.', method=\"abundance_correction\")"
   ]
  },
  {
   "cell_type": "code",
   "execution_count": 35,
   "metadata": {
    "collapsed": false
   },
   "outputs": [
    {
     "data": {
      "text/html": [
       "<div>\n",
       "<table border=\"1\" class=\"dataframe\">\n",
       "  <thead>\n",
       "    <tr style=\"text-align: right;\">\n",
       "      <th></th>\n",
       "      <th>background</th>\n",
       "      <th>intensity</th>\n",
       "    </tr>\n",
       "  </thead>\n",
       "  <tbody>\n",
       "    <tr>\n",
       "      <th>0</th>\n",
       "      <td>BUBU</td>\n",
       "      <td>-1.000000</td>\n",
       "    </tr>\n",
       "    <tr>\n",
       "      <th>2</th>\n",
       "      <td>P00359</td>\n",
       "      <td>11.077513</td>\n",
       "    </tr>\n",
       "    <tr>\n",
       "      <th>3</th>\n",
       "      <td>P00925</td>\n",
       "      <td>10.969784</td>\n",
       "    </tr>\n",
       "    <tr>\n",
       "      <th>4</th>\n",
       "      <td>P02994</td>\n",
       "      <td>10.768498</td>\n",
       "    </tr>\n",
       "    <tr>\n",
       "      <th>5</th>\n",
       "      <td>P06169</td>\n",
       "      <td>10.747163</td>\n",
       "    </tr>\n",
       "    <tr>\n",
       "      <th>6</th>\n",
       "      <td>P00560</td>\n",
       "      <td>10.746144</td>\n",
       "    </tr>\n",
       "    <tr>\n",
       "      <th>7</th>\n",
       "      <td>P00950</td>\n",
       "      <td>10.741490</td>\n",
       "    </tr>\n",
       "    <tr>\n",
       "      <th>8</th>\n",
       "      <td>P00549</td>\n",
       "      <td>10.704742</td>\n",
       "    </tr>\n",
       "    <tr>\n",
       "      <th>9</th>\n",
       "      <td>P00330</td>\n",
       "      <td>10.669038</td>\n",
       "    </tr>\n",
       "    <tr>\n",
       "      <th>10</th>\n",
       "      <td>P05743</td>\n",
       "      <td>10.642069</td>\n",
       "    </tr>\n",
       "    <tr>\n",
       "      <th>11</th>\n",
       "      <td>P02407;P14127</td>\n",
       "      <td>10.640611</td>\n",
       "    </tr>\n",
       "    <tr>\n",
       "      <th>12</th>\n",
       "      <td>P0C2H6;P0C2H7</td>\n",
       "      <td>10.636197</td>\n",
       "    </tr>\n",
       "    <tr>\n",
       "      <th>13</th>\n",
       "      <td>P35997;P38711</td>\n",
       "      <td>10.623177</td>\n",
       "    </tr>\n",
       "    <tr>\n",
       "      <th>14</th>\n",
       "      <td>P29453</td>\n",
       "      <td>10.615897</td>\n",
       "    </tr>\n",
       "    <tr>\n",
       "      <th>15</th>\n",
       "      <td>O14455</td>\n",
       "      <td>10.597871</td>\n",
       "    </tr>\n",
       "    <tr>\n",
       "      <th>16</th>\n",
       "      <td>P04456</td>\n",
       "      <td>10.595959</td>\n",
       "    </tr>\n",
       "    <tr>\n",
       "      <th>17</th>\n",
       "      <td>P14540</td>\n",
       "      <td>10.581972</td>\n",
       "    </tr>\n",
       "    <tr>\n",
       "      <th>18</th>\n",
       "      <td>P0CX84;P0CX85</td>\n",
       "      <td>10.581085</td>\n",
       "    </tr>\n",
       "    <tr>\n",
       "      <th>19</th>\n",
       "      <td>P05755</td>\n",
       "      <td>10.581039</td>\n",
       "    </tr>\n",
       "    <tr>\n",
       "      <th>20</th>\n",
       "      <td>P0CX31;P0CX32</td>\n",
       "      <td>10.568108</td>\n",
       "    </tr>\n",
       "    <tr>\n",
       "      <th>21</th>\n",
       "      <td>P0CX55;P0CX56</td>\n",
       "      <td>10.543646</td>\n",
       "    </tr>\n",
       "    <tr>\n",
       "      <th>22</th>\n",
       "      <td>P38061</td>\n",
       "      <td>10.537907</td>\n",
       "    </tr>\n",
       "    <tr>\n",
       "      <th>23</th>\n",
       "      <td>P0C0T4;Q3E792</td>\n",
       "      <td>10.536659</td>\n",
       "    </tr>\n",
       "    <tr>\n",
       "      <th>24</th>\n",
       "      <td>Q3E754</td>\n",
       "      <td>10.534115</td>\n",
       "    </tr>\n",
       "    <tr>\n",
       "      <th>25</th>\n",
       "      <td>P0CX45;P0CX46</td>\n",
       "      <td>10.534026</td>\n",
       "    </tr>\n",
       "    <tr>\n",
       "      <th>26</th>\n",
       "      <td>P0CX37;P0CX38</td>\n",
       "      <td>10.529738</td>\n",
       "    </tr>\n",
       "    <tr>\n",
       "      <th>27</th>\n",
       "      <td>P00942</td>\n",
       "      <td>10.507977</td>\n",
       "    </tr>\n",
       "    <tr>\n",
       "      <th>28</th>\n",
       "      <td>P0C0X0;Q3E7X9</td>\n",
       "      <td>10.502250</td>\n",
       "    </tr>\n",
       "    <tr>\n",
       "      <th>29</th>\n",
       "      <td>P46990</td>\n",
       "      <td>10.499536</td>\n",
       "    </tr>\n",
       "    <tr>\n",
       "      <th>30</th>\n",
       "      <td>P40212</td>\n",
       "      <td>10.499508</td>\n",
       "    </tr>\n",
       "    <tr>\n",
       "      <th>...</th>\n",
       "      <td>...</td>\n",
       "      <td>...</td>\n",
       "    </tr>\n",
       "    <tr>\n",
       "      <th>4220</th>\n",
       "      <td>P06838</td>\n",
       "      <td>5.585867</td>\n",
       "    </tr>\n",
       "    <tr>\n",
       "      <th>4221</th>\n",
       "      <td>Q03002</td>\n",
       "      <td>5.579361</td>\n",
       "    </tr>\n",
       "    <tr>\n",
       "      <th>4222</th>\n",
       "      <td>P06775</td>\n",
       "      <td>5.572593</td>\n",
       "    </tr>\n",
       "    <tr>\n",
       "      <th>4223</th>\n",
       "      <td>P53746</td>\n",
       "      <td>5.570099</td>\n",
       "    </tr>\n",
       "    <tr>\n",
       "      <th>4224</th>\n",
       "      <td>P24868</td>\n",
       "      <td>5.558421</td>\n",
       "    </tr>\n",
       "    <tr>\n",
       "      <th>4225</th>\n",
       "      <td>P40061</td>\n",
       "      <td>5.529032</td>\n",
       "    </tr>\n",
       "    <tr>\n",
       "      <th>4226</th>\n",
       "      <td>P39112</td>\n",
       "      <td>5.447080</td>\n",
       "    </tr>\n",
       "    <tr>\n",
       "      <th>4227</th>\n",
       "      <td>Q04638</td>\n",
       "      <td>5.442731</td>\n",
       "    </tr>\n",
       "    <tr>\n",
       "      <th>4228</th>\n",
       "      <td>P53246</td>\n",
       "      <td>5.438780</td>\n",
       "    </tr>\n",
       "    <tr>\n",
       "      <th>4229</th>\n",
       "      <td>P38228</td>\n",
       "      <td>5.430800</td>\n",
       "    </tr>\n",
       "    <tr>\n",
       "      <th>4230</th>\n",
       "      <td>P53135</td>\n",
       "      <td>5.404355</td>\n",
       "    </tr>\n",
       "    <tr>\n",
       "      <th>4231</th>\n",
       "      <td>Q12232</td>\n",
       "      <td>5.344903</td>\n",
       "    </tr>\n",
       "    <tr>\n",
       "      <th>4232</th>\n",
       "      <td>P38904</td>\n",
       "      <td>5.335358</td>\n",
       "    </tr>\n",
       "    <tr>\n",
       "      <th>4233</th>\n",
       "      <td>P50273</td>\n",
       "      <td>5.325208</td>\n",
       "    </tr>\n",
       "    <tr>\n",
       "      <th>4234</th>\n",
       "      <td>P22035</td>\n",
       "      <td>5.323726</td>\n",
       "    </tr>\n",
       "    <tr>\n",
       "      <th>4235</th>\n",
       "      <td>Q03213</td>\n",
       "      <td>5.309204</td>\n",
       "    </tr>\n",
       "    <tr>\n",
       "      <th>4236</th>\n",
       "      <td>P13045</td>\n",
       "      <td>5.250078</td>\n",
       "    </tr>\n",
       "    <tr>\n",
       "      <th>4237</th>\n",
       "      <td>P35208</td>\n",
       "      <td>5.246375</td>\n",
       "    </tr>\n",
       "    <tr>\n",
       "      <th>4238</th>\n",
       "      <td>Q04121</td>\n",
       "      <td>5.218719</td>\n",
       "    </tr>\n",
       "    <tr>\n",
       "      <th>4239</th>\n",
       "      <td>P53886</td>\n",
       "      <td>5.196121</td>\n",
       "    </tr>\n",
       "    <tr>\n",
       "      <th>4240</th>\n",
       "      <td>Q03787</td>\n",
       "      <td>5.179006</td>\n",
       "    </tr>\n",
       "    <tr>\n",
       "      <th>4241</th>\n",
       "      <td>Q12244</td>\n",
       "      <td>5.137955</td>\n",
       "    </tr>\n",
       "    <tr>\n",
       "      <th>4242</th>\n",
       "      <td>Q01926</td>\n",
       "      <td>5.123786</td>\n",
       "    </tr>\n",
       "    <tr>\n",
       "      <th>4243</th>\n",
       "      <td>P46997</td>\n",
       "      <td>5.117801</td>\n",
       "    </tr>\n",
       "    <tr>\n",
       "      <th>4244</th>\n",
       "      <td>P25364</td>\n",
       "      <td>5.107210</td>\n",
       "    </tr>\n",
       "    <tr>\n",
       "      <th>4245</th>\n",
       "      <td>Q12508</td>\n",
       "      <td>5.072728</td>\n",
       "    </tr>\n",
       "    <tr>\n",
       "      <th>4246</th>\n",
       "      <td>P32862</td>\n",
       "      <td>4.993348</td>\n",
       "    </tr>\n",
       "    <tr>\n",
       "      <th>4247</th>\n",
       "      <td>P40456</td>\n",
       "      <td>4.931224</td>\n",
       "    </tr>\n",
       "    <tr>\n",
       "      <th>4248</th>\n",
       "      <td>P14737</td>\n",
       "      <td>4.818694</td>\n",
       "    </tr>\n",
       "    <tr>\n",
       "      <th>4249</th>\n",
       "      <td>P25300</td>\n",
       "      <td>4.745387</td>\n",
       "    </tr>\n",
       "  </tbody>\n",
       "</table>\n",
       "<p>4249 rows × 2 columns</p>\n",
       "</div>"
      ],
      "text/plain": [
       "         background  intensity\n",
       "0              BUBU  -1.000000\n",
       "2            P00359  11.077513\n",
       "3            P00925  10.969784\n",
       "4            P02994  10.768498\n",
       "5            P06169  10.747163\n",
       "6            P00560  10.746144\n",
       "7            P00950  10.741490\n",
       "8            P00549  10.704742\n",
       "9            P00330  10.669038\n",
       "10           P05743  10.642069\n",
       "11    P02407;P14127  10.640611\n",
       "12    P0C2H6;P0C2H7  10.636197\n",
       "13    P35997;P38711  10.623177\n",
       "14           P29453  10.615897\n",
       "15           O14455  10.597871\n",
       "16           P04456  10.595959\n",
       "17           P14540  10.581972\n",
       "18    P0CX84;P0CX85  10.581085\n",
       "19           P05755  10.581039\n",
       "20    P0CX31;P0CX32  10.568108\n",
       "21    P0CX55;P0CX56  10.543646\n",
       "22           P38061  10.537907\n",
       "23    P0C0T4;Q3E792  10.536659\n",
       "24           Q3E754  10.534115\n",
       "25    P0CX45;P0CX46  10.534026\n",
       "26    P0CX37;P0CX38  10.529738\n",
       "27           P00942  10.507977\n",
       "28    P0C0X0;Q3E7X9  10.502250\n",
       "29           P46990  10.499536\n",
       "30           P40212  10.499508\n",
       "...             ...        ...\n",
       "4220         P06838   5.585867\n",
       "4221         Q03002   5.579361\n",
       "4222         P06775   5.572593\n",
       "4223         P53746   5.570099\n",
       "4224         P24868   5.558421\n",
       "4225         P40061   5.529032\n",
       "4226         P39112   5.447080\n",
       "4227         Q04638   5.442731\n",
       "4228         P53246   5.438780\n",
       "4229         P38228   5.430800\n",
       "4230         P53135   5.404355\n",
       "4231         Q12232   5.344903\n",
       "4232         P38904   5.335358\n",
       "4233         P50273   5.325208\n",
       "4234         P22035   5.323726\n",
       "4235         Q03213   5.309204\n",
       "4236         P13045   5.250078\n",
       "4237         P35208   5.246375\n",
       "4238         Q04121   5.218719\n",
       "4239         P53886   5.196121\n",
       "4240         Q03787   5.179006\n",
       "4241         Q12244   5.137955\n",
       "4242         Q01926   5.123786\n",
       "4243         P46997   5.117801\n",
       "4244         P25364   5.107210\n",
       "4245         Q12508   5.072728\n",
       "4246         P32862   4.993348\n",
       "4247         P40456   4.931224\n",
       "4248         P14737   4.818694\n",
       "4249         P25300   4.745387\n",
       "\n",
       "[4249 rows x 2 columns]"
      ]
     },
     "execution_count": 35,
     "metadata": {},
     "output_type": "execute_result"
    }
   ],
   "source": [
    "ui.background"
   ]
  },
  {
   "cell_type": "code",
   "execution_count": 314,
   "metadata": {
    "collapsed": false
   },
   "outputs": [],
   "source": [
    "cond = ui.foreground[\"intensity\"] > -1\n",
    "bins = pd.cut(ui.foreground.loc[cond, \"intensity\"], bins=100, retbins=True)[1]\n",
    "bins = [-1] + list(bins)"
   ]
  },
  {
   "cell_type": "code",
   "execution_count": 315,
   "metadata": {
    "collapsed": false
   },
   "outputs": [
    {
     "data": {
      "text/html": [
       "<div>\n",
       "<table border=\"1\" class=\"dataframe\">\n",
       "  <thead>\n",
       "    <tr style=\"text-align: right;\">\n",
       "      <th></th>\n",
       "      <th>foreground</th>\n",
       "      <th>intensity</th>\n",
       "    </tr>\n",
       "  </thead>\n",
       "  <tbody>\n",
       "    <tr>\n",
       "      <th>0</th>\n",
       "      <td>P00549</td>\n",
       "      <td>1.700000</td>\n",
       "    </tr>\n",
       "    <tr>\n",
       "      <th>1</th>\n",
       "      <td>AN3</td>\n",
       "      <td>1.700000</td>\n",
       "    </tr>\n",
       "    <tr>\n",
       "      <th>2</th>\n",
       "      <td>P00330</td>\n",
       "      <td>2.600000</td>\n",
       "    </tr>\n",
       "    <tr>\n",
       "      <th>3</th>\n",
       "      <td>P05743</td>\n",
       "      <td>3.642069</td>\n",
       "    </tr>\n",
       "    <tr>\n",
       "      <th>4</th>\n",
       "      <td>P02407</td>\n",
       "      <td>4.640611</td>\n",
       "    </tr>\n",
       "    <tr>\n",
       "      <th>5</th>\n",
       "      <td>P0C2H7</td>\n",
       "      <td>5.636197</td>\n",
       "    </tr>\n",
       "    <tr>\n",
       "      <th>6</th>\n",
       "      <td>P35997;P38711</td>\n",
       "      <td>7.623177</td>\n",
       "    </tr>\n",
       "    <tr>\n",
       "      <th>7</th>\n",
       "      <td>YOYOYO</td>\n",
       "      <td>-1.000000</td>\n",
       "    </tr>\n",
       "  </tbody>\n",
       "</table>\n",
       "</div>"
      ],
      "text/plain": [
       "      foreground  intensity\n",
       "0         P00549   1.700000\n",
       "1            AN3   1.700000\n",
       "2         P00330   2.600000\n",
       "3         P05743   3.642069\n",
       "4         P02407   4.640611\n",
       "5         P0C2H7   5.636197\n",
       "6  P35997;P38711   7.623177\n",
       "7         YOYOYO  -1.000000"
      ]
     },
     "execution_count": 315,
     "metadata": {},
     "output_type": "execute_result"
    }
   ],
   "source": [
    "ui.foreground"
   ]
  },
  {
   "cell_type": "code",
   "execution_count": 26,
   "metadata": {
    "collapsed": false
   },
   "outputs": [],
   "source": [
    "for x in ui.iter_bins():\n",
    "#     print wf, bins\n",
    "#     print bg, fg\n",
    "#     print ans, cf\n",
    "    print x\n",
    "    print"
   ]
  },
  {
   "cell_type": "code",
   "execution_count": 323,
   "metadata": {
    "collapsed": false
   },
   "outputs": [
    {
     "name": "stdout",
     "output_type": "stream",
     "text": [
      "1.8\n",
      "108.0\n"
     ]
    },
    {
     "data": {
      "text/plain": [
       "18.518518518518523"
      ]
     },
     "execution_count": 323,
     "metadata": {},
     "output_type": "execute_result"
    }
   ],
   "source": [
    "mbps = 30.0\n",
    "gb = mbps / 1000.0\n",
    "min_ = gb * 60\n",
    "hour = min_ * 60\n",
    "print min_\n",
    "print hour\n",
    "tb = 2.0\n",
    "(tb * 1000) / hour"
   ]
  },
  {
   "cell_type": "code",
   "execution_count": 157,
   "metadata": {
    "collapsed": false
   },
   "outputs": [],
   "source": [
    "bins = pd.cut(ui.foreground[\"intensity\"], bins=100, retbins=True)[1]\n",
    "groups_fg = ui.foreground.groupby(pd.cut(ui.foreground[\"intensity\"], bins=bins))\n",
    "groups_bg = ui.background.groupby(pd.cut(ui.background[\"intensity\"], bins=bins))"
   ]
  },
  {
   "cell_type": "code",
   "execution_count": 160,
   "metadata": {
    "collapsed": false
   },
   "outputs": [],
   "source": [
    "# ui.background[ui.background[\"intensity\"] <= 0]"
   ]
  },
  {
   "cell_type": "code",
   "execution_count": 159,
   "metadata": {
    "collapsed": false
   },
   "outputs": [
    {
     "name": "stdout",
     "output_type": "stream",
     "text": [
      "0       BUBU;BUBU2;BUBU3\n",
      "1       AUBU;AUBU2;AUBU3\n",
      "3                 P09201\n",
      "4                 P14066\n",
      "6                 P20050\n",
      "9                 P38142\n",
      "11                P39959\n",
      "16                Q03868\n",
      "17                Q04004\n",
      "18                Q04383\n",
      "20                Q06592\n",
      "23                Q12348\n",
      "110               Q2V2Q1\n",
      "112               Q08981\n",
      "145               P51979\n",
      "212               P38806\n",
      "411               P07261\n",
      "446               Q05471\n",
      "483               P40963\n",
      "574               P38157\n",
      "702               P32833\n",
      "787               P38282\n",
      "806               P50104\n",
      "981               Q12247\n",
      "992               P40316\n",
      "1029              P31111\n",
      "1046              P38140\n",
      "1055              P53718\n",
      "1079              P32389\n",
      "1109              Q12472\n",
      "1119              Q9URQ3\n",
      "1123              P18412\n",
      "Name: foreground, dtype: object 32\n",
      "0    BUBU\n",
      "Name: background, dtype: object 1\n",
      "\n"
     ]
    }
   ],
   "source": [
    "for group_fg, group_bg in zip(groups_fg, groups_bg):\n",
    "    bins_in_group = group[0]\n",
    "    pg_fg = group_fg[1][\"foreground\"]\n",
    "    pg_bg = group_bg[1][\"background\"]\n",
    "    print pg_fg, len(pg_fg)\n",
    "    print pg_bg, len(pg_bg)\n",
    "    print \n",
    "    break"
   ]
  },
  {
   "cell_type": "code",
   "execution_count": 116,
   "metadata": {
    "collapsed": true
   },
   "outputs": [],
   "source": [
    "# for group in groups:\n",
    "# #     bins_in_group = group[0]\n",
    "# #     pg_in_group = group[1][\"foreground\"]\n",
    "# #     print bins_in_group\n",
    "# #     print pg_in_group\n",
    "#     print group\n",
    "#     print "
   ]
  },
  {
   "cell_type": "code",
   "execution_count": 80,
   "metadata": {
    "collapsed": false
   },
   "outputs": [],
   "source": [
    "hist, bins = np.histogram(ui.foreground[\"intensity\"], bins=100)"
   ]
  },
  {
   "cell_type": "code",
   "execution_count": 82,
   "metadata": {
    "collapsed": false
   },
   "outputs": [
    {
     "data": {
      "text/plain": [
       "array([ -1.        ,  -0.87922487,  -0.75844974,  -0.6376746 ,\n",
       "        -0.51689947,  -0.39612434,  -0.2753492 ,  -0.15457407,\n",
       "        -0.03379894,   0.08697619,   0.20775133,   0.32852646,\n",
       "         0.44930159,   0.57007672,   0.69085186,   0.81162699,\n",
       "         0.93240212,   1.05317725,   1.17395239,   1.29472752,\n",
       "         1.41550265,   1.53627778,   1.65705291,   1.77782805,\n",
       "         1.89860318,   2.01937831,   2.14015345,   2.26092858,\n",
       "         2.38170371,   2.50247884,   2.62325398,   2.74402911,\n",
       "         2.86480424,   2.98557937,   3.10635451,   3.22712964,\n",
       "         3.34790477,   3.4686799 ,   3.58945504,   3.71023017,\n",
       "         3.8310053 ,   3.95178043,   4.07255557,   4.1933307 ,\n",
       "         4.31410583,   4.43488096,   4.5556561 ,   4.67643123,\n",
       "         4.79720636,   4.91798149,   5.03875663,   5.15953176,\n",
       "         5.28030689,   5.40108202,   5.52185716,   5.64263229,\n",
       "         5.76340742,   5.88418255,   6.00495769,   6.12573282,\n",
       "         6.24650795,   6.36728308,   6.48805822,   6.60883335,\n",
       "         6.72960848,   6.85038361,   6.97115875,   7.09193388,\n",
       "         7.21270901,   7.33348414,   7.45425928,   7.57503441,\n",
       "         7.69580954,   7.81658467,   7.9373598 ,   8.05813494,\n",
       "         8.17891007,   8.2996852 ,   8.42046034,   8.54123547,\n",
       "         8.6620106 ,   8.78278573,   8.90356087,   9.024336  ,\n",
       "         9.14511113,   9.26588626,   9.3866614 ,   9.50743653,\n",
       "         9.62821166,   9.74898679,   9.86976193,   9.99053706,\n",
       "        10.11131219,  10.23208732,  10.35286246,  10.47363759,\n",
       "        10.59441272,  10.71518785,  10.83596299,  10.95673812,  11.07751325])"
      ]
     },
     "execution_count": 82,
     "metadata": {},
     "output_type": "execute_result"
    }
   ],
   "source": [
    "bins # (-1.0121, -0.879]"
   ]
  },
  {
   "cell_type": "code",
   "execution_count": 85,
   "metadata": {
    "collapsed": false
   },
   "outputs": [
    {
     "data": {
      "text/plain": [
       "array([30,  0,  0,  0,  0,  0,  0,  0,  0,  0,  0,  0,  0,  0,  0,  0,  0,\n",
       "        0,  0,  0,  0,  0,  0,  0,  0,  0,  0,  0,  0,  0,  0,  0,  0,  0,\n",
       "        0,  0,  0,  0,  0,  0,  0,  0,  0,  0,  0,  0,  0,  0,  0,  0,  2,\n",
       "        0,  1,  0,  0,  1,  1,  1,  3,  0,  5,  5,  6,  7, 12, 14, 19, 15,\n",
       "       17, 19, 25, 28, 21, 36, 33, 44, 47, 61, 57, 59, 48, 42, 51, 63, 46,\n",
       "       45, 54, 46, 40, 28, 18, 18, 21, 15, 26, 16,  7,  4,  0,  2])"
      ]
     },
     "execution_count": 85,
     "metadata": {},
     "output_type": "execute_result"
    }
   ],
   "source": [
    "hist"
   ]
  },
  {
   "cell_type": "code",
   "execution_count": null,
   "metadata": {
    "collapsed": true
   },
   "outputs": [],
   "source": []
  },
  {
   "cell_type": "code",
   "execution_count": 83,
   "metadata": {
    "collapsed": false
   },
   "outputs": [
    {
     "data": {
      "text/plain": [
       "-0.120775140000001"
      ]
     },
     "execution_count": 83,
     "metadata": {},
     "output_type": "execute_result"
    }
   ],
   "source": [
    "10.71518785 -  10.83596299"
   ]
  },
  {
   "cell_type": "code",
   "execution_count": 84,
   "metadata": {
    "collapsed": false
   },
   "outputs": [
    {
     "data": {
      "text/plain": [
       "-0.12077513000000017"
      ]
     },
     "execution_count": 84,
     "metadata": {},
     "output_type": "execute_result"
    }
   ],
   "source": [
    "9.62821166 -   9.74898679"
   ]
  },
  {
   "cell_type": "code",
   "execution_count": null,
   "metadata": {
    "collapsed": false
   },
   "outputs": [],
   "source": [
    "df.loc[0, \"background_int\"]"
   ]
  },
  {
   "cell_type": "code",
   "execution_count": null,
   "metadata": {
    "collapsed": false
   },
   "outputs": [],
   "source": [
    "# np.histogram(df[\"background_int\"], bins=10)\n",
    "np.histogram(df.loc[pd.notnull(df[\"background_int\"]), \"background_int\"], bins=10)"
   ]
  },
  {
   "cell_type": "code",
   "execution_count": null,
   "metadata": {
    "collapsed": false
   },
   "outputs": [],
   "source": [
    "ui.background_df"
   ]
  },
  {
   "cell_type": "code",
   "execution_count": null,
   "metadata": {
    "collapsed": true
   },
   "outputs": [],
   "source": [
    "# import math"
   ]
  },
  {
   "cell_type": "code",
   "execution_count": null,
   "metadata": {
    "collapsed": false
   },
   "outputs": [],
   "source": [
    "# import matplotlib.pyplot as plt\n",
    "# %matplotlib inline"
   ]
  },
  {
   "cell_type": "code",
   "execution_count": null,
   "metadata": {
    "collapsed": false
   },
   "outputs": [],
   "source": [
    "# arr = list(np.arange(10))\n",
    "# arr += [2.3]*8\n",
    "# hist, bin_edges = np.histogram(arr, bins=10, density=False)\n",
    "# plt.hist(arr, bins=bin_edges)  # plt.hist passes it's arguments to np.histogram\n",
    "# plt.show()"
   ]
  },
  {
   "cell_type": "code",
   "execution_count": null,
   "metadata": {
    "collapsed": true
   },
   "outputs": [],
   "source": []
  },
  {
   "cell_type": "code",
   "execution_count": null,
   "metadata": {
    "collapsed": true
   },
   "outputs": [],
   "source": [
    "# good stuff"
   ]
  },
  {
   "cell_type": "code",
   "execution_count": null,
   "metadata": {
    "collapsed": false
   },
   "outputs": [],
   "source": [
    "# foreground proteinGroups with intensities\n",
    "intensity_foreground = []\n",
    "for proteinGroup in ui.foreground_ser:\n",
    "    an_first_in_proteinGroup = proteinGroup.split(\";\")[0]\n",
    "    intensity_foreground.append(ui.an_2_intensity_dict[an_first_in_proteinGroup])\n",
    "#     try:      \n",
    "#         intensity_foreground.append(ui.an_2_intensity_dict[an_first_in_proteinGroup])\n",
    "#     except KeyError:\n",
    "#         # can't occur, since defaultdict\n",
    "#         raise StopIteration"
   ]
  },
  {
   "cell_type": "code",
   "execution_count": null,
   "metadata": {
    "collapsed": false
   },
   "outputs": [],
   "source": [
    "ui.foreground_df = pd.DataFrame(data=intensity_foreground, columns=[\"Int\"])\n",
    "ui.foreground_df[\"AN\"] = ui.foreground_ser"
   ]
  },
  {
   "cell_type": "code",
   "execution_count": null,
   "metadata": {
    "collapsed": false
   },
   "outputs": [],
   "source": [
    "df = ui.foreground_df\n",
    "df"
   ]
  },
  {
   "cell_type": "code",
   "execution_count": null,
   "metadata": {
    "collapsed": false
   },
   "outputs": [],
   "source": [
    "1.5*30"
   ]
  },
  {
   "cell_type": "code",
   "execution_count": null,
   "metadata": {
    "collapsed": true
   },
   "outputs": [],
   "source": [
    "# create bins\n",
    "# which proteinGroups from background are within bin"
   ]
  },
  {
   "cell_type": "code",
   "execution_count": null,
   "metadata": {
    "collapsed": true
   },
   "outputs": [],
   "source": [
    "num_bins = 100\n",
    "bins = np.linspace(df[\"Int\"].min(), df[\"Int\"].max(), num_bins)\n",
    "groups = df.groupby(pd.cut(df[\"Int\"], bins))"
   ]
  },
  {
   "cell_type": "code",
   "execution_count": null,
   "metadata": {
    "collapsed": false
   },
   "outputs": [],
   "source": [
    "# for group in groups:\n",
    "#     print group\n",
    "#     print"
   ]
  },
  {
   "cell_type": "code",
   "execution_count": null,
   "metadata": {
    "collapsed": true
   },
   "outputs": [],
   "source": []
  }
 ],
 "metadata": {
  "kernelspec": {
   "display_name": "Python 2",
   "language": "python",
   "name": "python2"
  },
  "language_info": {
   "codemirror_mode": {
    "name": "ipython",
    "version": 2
   },
   "file_extension": ".py",
   "mimetype": "text/x-python",
   "name": "python",
   "nbconvert_exporter": "python",
   "pygments_lexer": "ipython2",
   "version": "2.7.12"
  }
 },
 "nbformat": 4,
 "nbformat_minor": 1
}
