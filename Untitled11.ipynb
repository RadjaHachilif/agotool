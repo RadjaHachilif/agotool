{
 "cells": [
  {
   "cell_type": "code",
   "execution_count": 2,
   "metadata": {
    "collapsed": false
   },
   "outputs": [
    {
     "name": "stdout",
     "output_type": "stream",
     "text": [
      "('Yeast_Acetyl_vs_Observed_UPK.txt', 'Acetyl', 'Observed')\n",
      "('Yeast_Acetyl_vs_Genome_UPK.txt', 'Acetyl', 'Genome')\n",
      "('Yeast_Acetyl_vs_AbCorr_UPK.txt', 'Acetyl', 'AbCorr')\n",
      "('Yeast_Phos_vs_Observed_UPK.txt', 'Phos', 'Observed')\n",
      "('Yeast_Phos_vs_Genome_UPK.txt', 'Phos', 'Genome')\n",
      "('Yeast_Phos_vs_AbCorr_UPK.txt', 'Phos', 'AbCorr')\n",
      "('Yeast_Ubi_vs_Observed_UPK.txt', 'Ubi', 'Observed')\n",
      "('Yeast_Ubi_vs_Genome_UPK.txt', 'Ubi', 'Genome')\n",
      "('Yeast_Ubi_vs_AbCorr_UPK.txt', 'Ubi', 'AbCorr')\n",
      "('Yeast_Succinyl_vs_Observed_UPK.txt', 'Succinyl', 'Observed')\n",
      "('Yeast_Succinyl_vs_Genome_UPK.txt', 'Succinyl', 'Genome')\n",
      "('Yeast_Succinyl_vs_AbCorr_UPK.txt', 'Succinyl', 'AbCorr')\n"
     ]
    }
   ],
   "source": [
    "%run gotupk"
   ]
  },
  {
   "cell_type": "code",
   "execution_count": null,
   "metadata": {
    "collapsed": true
   },
   "outputs": [],
   "source": []
  }
 ],
 "metadata": {
  "kernelspec": {
   "display_name": "Python 2",
   "language": "python",
   "name": "python2"
  },
  "language_info": {
   "codemirror_mode": {
    "name": "ipython",
    "version": 2
   },
   "file_extension": ".py",
   "mimetype": "text/x-python",
   "name": "python",
   "nbconvert_exporter": "python",
   "pygments_lexer": "ipython2",
   "version": "2.7.6"
  }
 },
 "nbformat": 4,
 "nbformat_minor": 0
}
