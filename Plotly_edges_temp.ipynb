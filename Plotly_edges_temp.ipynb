{
 "cells": [
  {
   "cell_type": "code",
   "execution_count": 2,
   "metadata": {},
   "outputs": [
    {
     "data": {
      "text/plain": [
       "'/Users/dblyon/modules/cpr/agotool'"
      ]
     },
     "execution_count": 2,
     "metadata": {},
     "output_type": "execute_result"
    }
   ],
   "source": [
    "pwd"
   ]
  },
  {
   "cell_type": "code",
   "execution_count": 3,
   "metadata": {},
   "outputs": [
    {
     "name": "stdout",
     "output_type": "stream",
     "text": [
      "/Users/dblyon/modules/cpr/agotool/app/python\n"
     ]
    }
   ],
   "source": [
    "cd app/python"
   ]
  },
  {
   "cell_type": "code",
   "execution_count": 4,
   "metadata": {},
   "outputs": [],
   "source": [
    "import variables"
   ]
  },
  {
   "cell_type": "code",
   "execution_count": 5,
   "metadata": {},
   "outputs": [],
   "source": [
    "import igraph as ig\n",
    "# import plotly.plotly as py\n",
    "from plotly.graph_objs import *\n",
    "\n",
    "import os, sys, json\n",
    "import datetime\n",
    "import numpy as np\n",
    "import pandas as pd\n",
    "pd.set_option('display.max_colwidth', 300) # in order to prevent 50 character cutoff of to_html export / ellipsis\n",
    "# from plotly_tools import data_bars\n",
    "import dash\n",
    "from dash.dependencies import Input, Output, State\n",
    "import dash_table\n",
    "import dash_core_components as dcc\n",
    "import dash_bootstrap_components as dbc\n",
    "import dash_html_components as html\n",
    "import dash_daq as daq\n",
    "# import plotly.express as px\n",
    "import plotly.graph_objects as go"
   ]
  },
  {
   "cell_type": "code",
   "execution_count": 107,
   "metadata": {},
   "outputs": [],
   "source": [
    "from itertools import combinations\n",
    "from collections import defaultdict\n",
    "\n",
    "# ToDo: term_2_connectedTerms_dict: key=term, val=set of terms --> Nodes\n",
    "def get_term_2_edges_dict(df, lineage_dict_direct):\n",
    "    \"\"\"\n",
    "    iterate over direct parents and stop once at least one is found\n",
    "    Dict: key=term val=[X_vals_list, Y_vals_list, Weights_list]\n",
    "    # for every term:\n",
    "    #   for every edge:\n",
    "    #     e.g. between point A (Ax, Ay) and B (Bx, By) as well as A (Ax, Ay) and C (Cx, Cy)\n",
    "    #     X_point_list += [Ax, Bx, None]\n",
    "    #     Y_point_list += [Ay, By, None]\n",
    "    #     Weights_list += [A_2_B]\n",
    "    #     X_point_list += [Ax, Cx, None]\n",
    "    #     Y_point_list += [Ay, Cy, None]    \n",
    "    \"\"\"\n",
    "    term_2_edges_dict = defaultdict(lambda: {\"X_points\": [], \"Y_points\": [], \"Weights\": [], \"Nodes\": []})\n",
    "    for etype, group in df.groupby(\"etype\"):\n",
    "        if etype not in variables.entity_types_with_ontology:\n",
    "            continue\n",
    "        funcNameFamilySet_list_merged, funcNameFamilySet_list_temp, edgesXYCoords_list, funcNamePair_set = [], [], [], set()\n",
    "        funcs_2_travers_set = group[\"term\"]\n",
    "        for term in funcs_2_travers_set:\n",
    "            funcNamePair_set |= find_pairs_2_link(term, lineage_dict_direct, funcs_2_travers_set)\n",
    "                \n",
    "        ## extract x and y coordinates and a weight depending on the overlapp of FG_IDs (Jaccard index)\n",
    "        for funcNamePair in funcNamePair_set:\n",
    "            X_points_list, Y_points_list, Weight_temp = get_edge_positions_and_weight_as_list_v3(group[group[\"term\"].isin(funcNamePair)])\n",
    "            funcName_a, funcName_b = funcNamePair\n",
    "            term_2_edges_dict[funcName_a][\"X_points\"] += X_points_list\n",
    "            term_2_edges_dict[funcName_a][\"Y_points\"] += Y_points_list\n",
    "            term_2_edges_dict[funcName_a][\"Weights\"].append(Weight_temp)\n",
    "            term_2_edges_dict[funcName_a][\"Nodes\"].append(funcName_b)\n",
    "            \n",
    "            term_2_edges_dict[funcName_b][\"X_points\"] += X_points_list\n",
    "            term_2_edges_dict[funcName_b][\"Y_points\"] += Y_points_list\n",
    "            term_2_edges_dict[funcName_b][\"Weights\"].append(Weight_temp)\n",
    "            term_2_edges_dict[funcName_b][\"Nodes\"].append(funcName_a)\n",
    "    return term_2_edges_dict     \n",
    "\n",
    "def find_pairs_2_link(term, lineage_dict_direct, funcs_2_travers_set):\n",
    "    funcNamePair_set = set()\n",
    "    for parents in yield_direct_parents([term], lineage_dict_direct): \n",
    "        if not parents:\n",
    "            continue\n",
    "        else:\n",
    "            lineage_2_add = set(parents)\n",
    "            lineage_2_add.add(term)\n",
    "            funcNameFamilySet = lineage_2_add.intersection(funcs_2_travers_set)\n",
    "        len_funcNameFamilySet = len(funcNameFamilySet)\n",
    "        if len_funcNameFamilySet < 2:\n",
    "            continue\n",
    "        elif len_funcNameFamilySet == 2:\n",
    "            funcNamePair_set.add(tuple(sorted(funcNameFamilySet)))\n",
    "            return funcNamePair_set\n",
    "        elif len_funcNameFamilySet > 2:\n",
    "            for func in funcNameFamilySet - set([term]):\n",
    "                funcNamePair_set.add(tuple(sorted([term, func])))\n",
    "            return funcNamePair_set\n",
    "        else:\n",
    "            raise StopIteration\n",
    "    return funcNamePair_set\n",
    "\n",
    "def get_edge_positions_and_weight_as_list_v3(df):\n",
    "    \"\"\"\n",
    "    # for every term:\n",
    "    #   for every edge:\n",
    "    #     e.g. between point A (Ax, Ay) and B (Bx, By) as well as A (Ax, Ay) and C (Cx, Cy)\n",
    "    #     X_point_list += [Ax, Bx, None]\n",
    "    #     Y_point_list += [Ay, By, None]\n",
    "    #     Weights_list += [A_2_B]\n",
    "    #     X_point_list += [Ax, Cx, None]\n",
    "    #     Y_point_list += [Ay, Cy, None]\n",
    "    \"\"\"\n",
    "    assert df.shape[0] == 2\n",
    "    \n",
    "    try:\n",
    "        first_FG_IDs, second_FG_IDs = df[\"FG_IDs\"].values\n",
    "        first_FG_IDs = set(first_FG_IDs.split(\";\"))\n",
    "        second_FG_IDs = set(first_FG_IDs.split(\";\"))\n",
    "        ## compute weight of edge\n",
    "        jaccard_index = len(first_FG_IDs.intersection(second_FG_IDs)) / len(first_FG_IDs.union(second_FG_IDs))\n",
    "    except: #  AttributeError if NaN or ZeroDivisionError if ... \n",
    "        jaccard_index = 1\n",
    "    return df[\"logFDR\"].tolist() + [None], df[\"effectSize\"].tolist() + [None], jaccard_index\n",
    "\n",
    "def yield_direct_parents(terms, lineage_dict):\n",
    "    \"\"\"\n",
    "    generator: to return all direct parents of given terms\n",
    "    lineage_dict = cst.get_lineage_dict_for_all_entity_types_with_ontologies(direct_or_allParents=\"direct\")\n",
    "    terms = [\"GO:0016572\"]\n",
    "    for parents in yield_direct_parents(terms, lineage_dict):\n",
    "        print(parents)\n",
    "    :param terms: list of string\n",
    "    :param lineage_dict: child 2 direct parents dict\n",
    "    :return: list of string\n",
    "    \"\"\"\n",
    "    def get_direct_parents(terms, lineage_dict):\n",
    "        parents = []\n",
    "        for term in terms:\n",
    "            try:\n",
    "                parents += lineage_dict[term]\n",
    "            except KeyError:\n",
    "                pass\n",
    "        parents = sorted(set(parents))\n",
    "        return parents\n",
    "    parents = get_direct_parents(terms, lineage_dict)\n",
    "    while parents:\n",
    "        yield parents\n",
    "        parents = get_direct_parents(parents, lineage_dict)\n",
    "    return None\n",
    "\n",
    "# def find_edges_via_hierarchy_v3(df, lineage_dict_direct):\n",
    "#     \"\"\"\n",
    "#     for each etype find edges to draw in plot of x=\"logFDR\", y=\"effectSize\"\n",
    "#     add funcEnum and lineage to set\n",
    "#     v1: merge sets if there is overlapp --> wrong since everything gets connected\n",
    "#     v2: don't merge set, simply check if >= 2 funcEnums from given user data present\n",
    "#     filter by funcEnums that are in the given user data\n",
    "#     v3: iterate over direct parents and stop once at least one is found\n",
    "#     e.g. of return\n",
    "#     {-57: [],\n",
    "#      -51: [{47939, 47977, 48117, 48335, 48487}],\n",
    "#      ...}     \n",
    "#     df: DataFrame of aGOtool output with ['funcEnum', 'etype'] cols\n",
    "#     lineage_dict_enum: key: function enumeration, value: set of func enum array all parents\n",
    "#     :return: etype_2_funcEnumFamilySet_list_dict, key: etype(int), val: list of sets (int)\n",
    "#     \"\"\"\n",
    "#     x_startL, x_stopL, y_startL, y_stopL, weightL, etypeL = [], [], [], [], [], []\n",
    "#     etype_2_funcNamePair_set_dict, etype_2_edgesXYCoords_list_dict = {}, {} \n",
    "#     for etype, group in df.groupby(\"etype\"):\n",
    "#         funcNameFamilySet_list_merged, funcNameFamilySet_list_temp, edgesXYCoords_list, funcNamePair_set = [], [], [], set()\n",
    "#         if etype not in variables.entity_types_with_ontology:\n",
    "#             continue\n",
    "#         funcs_2_travers_set = group[\"term\"]\n",
    "#         for term in funcs_2_travers_set:\n",
    "#             funcNamePair_set |= find_pairs_2_link(term, lineage_dict_direct, funcs_2_travers_set)\n",
    "                \n",
    "#         ## extract x and y coordinates and a weight depending on the overlapp of FG_IDs (Jaccard index)\n",
    "#         for funcNamePair in funcNamePair_set:\n",
    "#             t = get_edge_positions_and_weight_as_list(group[group[\"term\"].isin(funcNamePair)])\n",
    "#             x_startL_2merge, x_stopL_2merge, y_startL_2merge, y_stopL_2merge, weightL_2merge = t\n",
    "#             x_startL += x_startL_2merge\n",
    "#             x_stopL += x_stopL_2merge\n",
    "#             y_startL += y_startL_2merge\n",
    "#             y_stopL += y_stopL_2merge\n",
    "#             weightL += weightL_2merge\n",
    "#             etypeL += len(weightL_2merge) * [etype]                                        \n",
    "#         etype_2_funcNamePair_set_dict[etype] = funcNamePair_set\n",
    "#     df_coords = pd.DataFrame()\n",
    "#     df_coords[\"etype\"] = etypeL\n",
    "#     df_coords[\"x_start\"] = x_startL\n",
    "#     df_coords[\"x_stop\"] = x_stopL    \n",
    "#     df_coords[\"y_start\"] = y_startL\n",
    "#     df_coords[\"y_stop\"] = y_stopL\n",
    "#     df_coords[\"weight\"] = weightL        \n",
    "#     return etype_2_funcNamePair_set_dict, df_coords #etype_2_edgesXYCoords_list_dict\n",
    "# \n",
    "# def get_edge_positions_and_weight_as_list_v2(df):\n",
    "#     \"\"\"\n",
    "#     # for every term:\n",
    "#     #   for every edge:\n",
    "#     #     e.g. between point A (Ax, Ay) and B (Bx, By) as well as A (Ax, Ay) and C (Cx, Cy)\n",
    "#     #     X_point_list += [Ax, Bx, None]\n",
    "#     #     Y_point_list += [Ay, By, None]\n",
    "#     #     Weights_list += [A_2_B]\n",
    "#     #     X_point_list += [Ax, Cx, None]\n",
    "#     #     Y_point_list += [Ay, Cy, None]\n",
    "#     \"\"\"\n",
    "#     X_point_list, Y_point_list, Weights_list = [], [], []\n",
    "#     for first_index, second_index in combinations(df.index, 2):\n",
    "#         try:\n",
    "#             first_FG_IDs = set(df.loc[first_index, \"FG_IDs\"].split(\";\"))\n",
    "#             second_FG_IDs = set(df.loc[second_index, \"FG_IDs\"].split(\";\"))\n",
    "#             ## compute weight of edge\n",
    "#             jaccard_index = len(first_FG_IDs.intersection(second_FG_IDs)) / len(first_FG_IDs.union(second_FG_IDs))\n",
    "#         except: #  AttributeError if NaN or ZeroDivisionError if ... \n",
    "#             jaccard_index = 1\n",
    "#         X_points_list += df.loc[[first_index, second_index], \"logFDR\"].tolist() + [None]\n",
    "#         Y_points_list += df.loc[[first_index, second_index], \"effectSize\"].tolist() + [None]\n",
    "#         Weights_list.append(jaccard_index)\n",
    "#     return X_points_list, Y_points_list, Weights_list"
   ]
  },
  {
   "cell_type": "code",
   "execution_count": 50,
   "metadata": {},
   "outputs": [],
   "source": [
    "import create_SQL_tables_snakemake as cst"
   ]
  },
  {
   "cell_type": "code",
   "execution_count": 51,
   "metadata": {},
   "outputs": [],
   "source": [
    "lineage_dict = cst.get_lineage_dict_for_all_entity_types_with_ontologies(direct_or_allParents=\"direct\")"
   ]
  },
  {
   "cell_type": "code",
   "execution_count": 108,
   "metadata": {},
   "outputs": [],
   "source": [
    "term_2_edges_dict = get_term_2_edges_dict(df, lineage_dict)"
   ]
  },
  {
   "cell_type": "code",
   "execution_count": 109,
   "metadata": {},
   "outputs": [
    {
     "data": {
      "text/plain": [
       "{'X_points': [], 'Y_points': [], 'Weights': [], 'Nodes': []}"
      ]
     },
     "execution_count": 109,
     "metadata": {},
     "output_type": "execute_result"
    }
   ],
   "source": [
    "term_2_edges_dict[\"KW-0539\"]"
   ]
  },
  {
   "cell_type": "code",
   "execution_count": 93,
   "metadata": {},
   "outputs": [
    {
     "data": {
      "text/plain": [
       "'/Users/dblyon/modules/cpr/agotool/app/python'"
      ]
     },
     "execution_count": 93,
     "metadata": {},
     "output_type": "execute_result"
    }
   ],
   "source": [
    "pwd"
   ]
  },
  {
   "cell_type": "code",
   "execution_count": 101,
   "metadata": {},
   "outputs": [],
   "source": [
    "term_2_edges_dict = dict(term_2_edges_dict)"
   ]
  },
  {
   "cell_type": "code",
   "execution_count": 102,
   "metadata": {},
   "outputs": [],
   "source": [
    "import pickle\n",
    "pickle.dump(term_2_edges_dict, open(\"term_2_edges_dict.p\", \"wb\"))"
   ]
  },
  {
   "cell_type": "code",
   "execution_count": 86,
   "metadata": {},
   "outputs": [],
   "source": [
    "# for term in term_2_edges_dict:\n",
    "#     for weight in term_2_edges_dict[term][\"Weights\"]:\n",
    "#         if weight < 1:\n",
    "#             print(term, weight)"
   ]
  },
  {
   "cell_type": "code",
   "execution_count": 56,
   "metadata": {},
   "outputs": [],
   "source": [
    "df = pd.read_csv(variables.fn_example, sep=\"\\t\")\n",
    "etype_2_funcNamePair_set_dict, etype_2_edgesXYCoords_list_dict = find_edges_via_hierarchy_v3(df, lineage_dict)"
   ]
  },
  {
   "cell_type": "code",
   "execution_count": 87,
   "metadata": {},
   "outputs": [],
   "source": [
    "# df.head()"
   ]
  },
  {
   "cell_type": "code",
   "execution_count": 72,
   "metadata": {},
   "outputs": [
    {
     "data": {
      "text/plain": [
       "[4.671470586861855, 4.671470586861855, None]"
      ]
     },
     "execution_count": 72,
     "metadata": {},
     "output_type": "execute_result"
    }
   ],
   "source": [
    "first_index=0\n",
    "second_index=4\n",
    "df.loc[[first_index, second_index], \"logFDR\"].tolist() + [None]"
   ]
  },
  {
   "cell_type": "code",
   "execution_count": 77,
   "metadata": {},
   "outputs": [
    {
     "data": {
      "text/html": [
       "<div>\n",
       "<style scoped>\n",
       "    .dataframe tbody tr th:only-of-type {\n",
       "        vertical-align: middle;\n",
       "    }\n",
       "\n",
       "    .dataframe tbody tr th {\n",
       "        vertical-align: top;\n",
       "    }\n",
       "\n",
       "    .dataframe thead th {\n",
       "        text-align: right;\n",
       "    }\n",
       "</style>\n",
       "<table border=\"1\" class=\"dataframe\">\n",
       "  <thead>\n",
       "    <tr style=\"text-align: right;\">\n",
       "      <th></th>\n",
       "      <th>term</th>\n",
       "      <th>hierarchical_level</th>\n",
       "      <th>description</th>\n",
       "      <th>year</th>\n",
       "      <th>over_under</th>\n",
       "      <th>p_value</th>\n",
       "      <th>FDR</th>\n",
       "      <th>effectSize</th>\n",
       "      <th>ratio_in_FG</th>\n",
       "      <th>ratio_in_BG</th>\n",
       "      <th>...</th>\n",
       "      <th>FG_IDs</th>\n",
       "      <th>s_value</th>\n",
       "      <th>rank</th>\n",
       "      <th>funcEnum</th>\n",
       "      <th>category</th>\n",
       "      <th>etype</th>\n",
       "      <th>logFDR</th>\n",
       "      <th>FG_count_2_circle_size</th>\n",
       "      <th>rank_2_transparency</th>\n",
       "      <th>color</th>\n",
       "    </tr>\n",
       "  </thead>\n",
       "  <tbody>\n",
       "    <tr>\n",
       "      <th>0</th>\n",
       "      <td>GOCC:0005634</td>\n",
       "      <td>8</td>\n",
       "      <td>Nucleus</td>\n",
       "      <td>-1</td>\n",
       "      <td>o</td>\n",
       "      <td>0.000004</td>\n",
       "      <td>0.009358</td>\n",
       "      <td>0.133736</td>\n",
       "      <td>0.522002</td>\n",
       "      <td>0.388266</td>\n",
       "      <td>...</td>\n",
       "      <td>P31383;P37898;P14164;P40535;P31787;Q08981;P52910;P60010;Q02336;P53909;Q2V2Q1;P47143;Q01976;P07248;Q12433;Q12156;P10869;P47019;P16550;P38281;P32454;P53940;P22936;P40024;Q04371;P08566;P32449;P80428;P53946;Q05123;P32447;P41696;P22035;Q12186;P47176;Q06338;P35817;Q06631;P43583;P29311;P34730;Q08965;P4...</td>\n",
       "      <td>0.716327</td>\n",
       "      <td>1</td>\n",
       "      <td>254</td>\n",
       "      <td>Gene Ontology cellular component TEXTMINING</td>\n",
       "      <td>-20</td>\n",
       "      <td>4.671471</td>\n",
       "      <td>11.543799</td>\n",
       "      <td>1.0</td>\n",
       "      <td>#1b9e77</td>\n",
       "    </tr>\n",
       "    <tr>\n",
       "      <th>4</th>\n",
       "      <td>GOCC:0043232</td>\n",
       "      <td>7</td>\n",
       "      <td>Intracellular non-membrane-bounded organelle</td>\n",
       "      <td>-1</td>\n",
       "      <td>o</td>\n",
       "      <td>0.000017</td>\n",
       "      <td>0.009358</td>\n",
       "      <td>0.088870</td>\n",
       "      <td>0.459016</td>\n",
       "      <td>0.370147</td>\n",
       "      <td>...</td>\n",
       "      <td>P31383;Q02486;P15891;P40535;Q08981;P19414;P52910;P60010;Q04894;P38266;Q12156;P10869;P46367;P46672;P11076;P32449;P47117;P80428;P53946;Q05123;Q05933;P32447;P07251;P00830;P22035;P35817;Q06631;P29311;Q08965;P40493;Q07457;P53741;Q04347;P25627;P23293;P06787;P28495;P34237;P17106;P32504;P33322;P21560;P0...</td>\n",
       "      <td>0.424281</td>\n",
       "      <td>5</td>\n",
       "      <td>1879</td>\n",
       "      <td>Gene Ontology cellular component TEXTMINING</td>\n",
       "      <td>-20</td>\n",
       "      <td>4.671471</td>\n",
       "      <td>10.150911</td>\n",
       "      <td>0.6</td>\n",
       "      <td>#1b9e77</td>\n",
       "    </tr>\n",
       "  </tbody>\n",
       "</table>\n",
       "<p>2 rows × 24 columns</p>\n",
       "</div>"
      ],
      "text/plain": [
       "           term  hierarchical_level  \\\n",
       "0  GOCC:0005634                   8   \n",
       "4  GOCC:0043232                   7   \n",
       "\n",
       "                                    description  year over_under   p_value  \\\n",
       "0                                       Nucleus    -1          o  0.000004   \n",
       "4  Intracellular non-membrane-bounded organelle    -1          o  0.000017   \n",
       "\n",
       "        FDR  effectSize  ratio_in_FG  ratio_in_BG  ...  \\\n",
       "0  0.009358    0.133736     0.522002     0.388266  ...   \n",
       "4  0.009358    0.088870     0.459016     0.370147  ...   \n",
       "\n",
       "                                                                                                                                                                                                                                                                                                        FG_IDs  \\\n",
       "0  P31383;P37898;P14164;P40535;P31787;Q08981;P52910;P60010;Q02336;P53909;Q2V2Q1;P47143;Q01976;P07248;Q12433;Q12156;P10869;P47019;P16550;P38281;P32454;P53940;P22936;P40024;Q04371;P08566;P32449;P80428;P53946;Q05123;P32447;P41696;P22035;Q12186;P47176;Q06338;P35817;Q06631;P43583;P29311;P34730;Q08965;P4...   \n",
       "4  P31383;Q02486;P15891;P40535;Q08981;P19414;P52910;P60010;Q04894;P38266;Q12156;P10869;P46367;P46672;P11076;P32449;P47117;P80428;P53946;Q05123;Q05933;P32447;P07251;P00830;P22035;P35817;Q06631;P29311;Q08965;P40493;Q07457;P53741;Q04347;P25627;P23293;P06787;P28495;P34237;P17106;P32504;P33322;P21560;P0...   \n",
       "\n",
       "    s_value  rank  funcEnum                                     category  \\\n",
       "0  0.716327     1       254  Gene Ontology cellular component TEXTMINING   \n",
       "4  0.424281     5      1879  Gene Ontology cellular component TEXTMINING   \n",
       "\n",
       "   etype    logFDR  FG_count_2_circle_size rank_2_transparency    color  \n",
       "0    -20  4.671471               11.543799                 1.0  #1b9e77  \n",
       "4    -20  4.671471               10.150911                 0.6  #1b9e77  \n",
       "\n",
       "[2 rows x 24 columns]"
      ]
     },
     "execution_count": 77,
     "metadata": {},
     "output_type": "execute_result"
    }
   ],
   "source": [
    "x = df.loc[[first_index, second_index], ]\n",
    "x"
   ]
  },
  {
   "cell_type": "code",
   "execution_count": 78,
   "metadata": {},
   "outputs": [
    {
     "data": {
      "text/plain": [
       "0    P31383;P37898;P14164;P40535;P31787;Q08981;P52910;P60010;Q02336;P53909;Q2V2Q1;P47143;Q01976;P07248;Q12433;Q12156;P10869;P47019;P16550;P38281;P32454;P53940;P22936;P40024;Q04371;P08566;P32449;P80428;P53946;Q05123;P32447;P41696;P22035;Q12186;P47176;Q06338;P35817;Q06631;P43583;P29311;P34730;Q08965;P4...\n",
       "4    P31383;Q02486;P15891;P40535;Q08981;P19414;P52910;P60010;Q04894;P38266;Q12156;P10869;P46367;P46672;P11076;P32449;P47117;P80428;P53946;Q05123;Q05933;P32447;P07251;P00830;P22035;P35817;Q06631;P29311;Q08965;P40493;Q07457;P53741;Q04347;P25627;P23293;P06787;P28495;P34237;P17106;P32504;P33322;P21560;P0...\n",
       "Name: FG_IDs, dtype: object"
      ]
     },
     "execution_count": 78,
     "metadata": {},
     "output_type": "execute_result"
    }
   ],
   "source": [
    "x[\"FG_IDs\"]"
   ]
  },
  {
   "cell_type": "code",
   "execution_count": 58,
   "metadata": {},
   "outputs": [
    {
     "data": {
      "text/html": [
       "<div>\n",
       "<style scoped>\n",
       "    .dataframe tbody tr th:only-of-type {\n",
       "        vertical-align: middle;\n",
       "    }\n",
       "\n",
       "    .dataframe tbody tr th {\n",
       "        vertical-align: top;\n",
       "    }\n",
       "\n",
       "    .dataframe thead th {\n",
       "        text-align: right;\n",
       "    }\n",
       "</style>\n",
       "<table border=\"1\" class=\"dataframe\">\n",
       "  <thead>\n",
       "    <tr style=\"text-align: right;\">\n",
       "      <th></th>\n",
       "      <th>etype</th>\n",
       "      <th>x_start</th>\n",
       "      <th>x_stop</th>\n",
       "      <th>y_start</th>\n",
       "      <th>y_stop</th>\n",
       "      <th>weight</th>\n",
       "    </tr>\n",
       "  </thead>\n",
       "  <tbody>\n",
       "    <tr>\n",
       "      <th>0</th>\n",
       "      <td>-51</td>\n",
       "      <td>6.976356</td>\n",
       "      <td>6.976356</td>\n",
       "      <td>-0.087144</td>\n",
       "      <td>-0.070751</td>\n",
       "      <td>0.435897</td>\n",
       "    </tr>\n",
       "    <tr>\n",
       "      <th>1</th>\n",
       "      <td>-51</td>\n",
       "      <td>6.976356</td>\n",
       "      <td>6.976356</td>\n",
       "      <td>-0.071613</td>\n",
       "      <td>-0.070751</td>\n",
       "      <td>0.985507</td>\n",
       "    </tr>\n",
       "    <tr>\n",
       "      <th>2</th>\n",
       "      <td>-51</td>\n",
       "      <td>6.976356</td>\n",
       "      <td>6.976356</td>\n",
       "      <td>0.075928</td>\n",
       "      <td>0.073339</td>\n",
       "      <td>0.922581</td>\n",
       "    </tr>\n",
       "    <tr>\n",
       "      <th>3</th>\n",
       "      <td>-51</td>\n",
       "      <td>6.976356</td>\n",
       "      <td>6.976356</td>\n",
       "      <td>-0.087144</td>\n",
       "      <td>-0.071613</td>\n",
       "      <td>0.442308</td>\n",
       "    </tr>\n",
       "    <tr>\n",
       "      <th>4</th>\n",
       "      <td>-22</td>\n",
       "      <td>6.396531</td>\n",
       "      <td>6.396531</td>\n",
       "      <td>0.124245</td>\n",
       "      <td>0.047455</td>\n",
       "      <td>0.330065</td>\n",
       "    </tr>\n",
       "    <tr>\n",
       "      <th>...</th>\n",
       "      <td>...</td>\n",
       "      <td>...</td>\n",
       "      <td>...</td>\n",
       "      <td>...</td>\n",
       "      <td>...</td>\n",
       "      <td>...</td>\n",
       "    </tr>\n",
       "    <tr>\n",
       "      <th>94</th>\n",
       "      <td>-20</td>\n",
       "      <td>4.671471</td>\n",
       "      <td>4.671471</td>\n",
       "      <td>0.125108</td>\n",
       "      <td>0.057808</td>\n",
       "      <td>0.309735</td>\n",
       "    </tr>\n",
       "    <tr>\n",
       "      <th>95</th>\n",
       "      <td>-20</td>\n",
       "      <td>4.671471</td>\n",
       "      <td>3.641455</td>\n",
       "      <td>0.059534</td>\n",
       "      <td>0.068162</td>\n",
       "      <td>0.172193</td>\n",
       "    </tr>\n",
       "    <tr>\n",
       "      <th>96</th>\n",
       "      <td>-20</td>\n",
       "      <td>4.671471</td>\n",
       "      <td>4.671471</td>\n",
       "      <td>0.088007</td>\n",
       "      <td>0.064711</td>\n",
       "      <td>0.341418</td>\n",
       "    </tr>\n",
       "    <tr>\n",
       "      <th>97</th>\n",
       "      <td>-20</td>\n",
       "      <td>4.671471</td>\n",
       "      <td>4.671471</td>\n",
       "      <td>0.125108</td>\n",
       "      <td>0.044003</td>\n",
       "      <td>0.306267</td>\n",
       "    </tr>\n",
       "    <tr>\n",
       "      <th>98</th>\n",
       "      <td>-20</td>\n",
       "      <td>4.671471</td>\n",
       "      <td>4.671471</td>\n",
       "      <td>0.088007</td>\n",
       "      <td>0.057808</td>\n",
       "      <td>0.261194</td>\n",
       "    </tr>\n",
       "  </tbody>\n",
       "</table>\n",
       "<p>99 rows × 6 columns</p>\n",
       "</div>"
      ],
      "text/plain": [
       "    etype   x_start    x_stop   y_start    y_stop    weight\n",
       "0     -51  6.976356  6.976356 -0.087144 -0.070751  0.435897\n",
       "1     -51  6.976356  6.976356 -0.071613 -0.070751  0.985507\n",
       "2     -51  6.976356  6.976356  0.075928  0.073339  0.922581\n",
       "3     -51  6.976356  6.976356 -0.087144 -0.071613  0.442308\n",
       "4     -22  6.396531  6.396531  0.124245  0.047455  0.330065\n",
       "..    ...       ...       ...       ...       ...       ...\n",
       "94    -20  4.671471  4.671471  0.125108  0.057808  0.309735\n",
       "95    -20  4.671471  3.641455  0.059534  0.068162  0.172193\n",
       "96    -20  4.671471  4.671471  0.088007  0.064711  0.341418\n",
       "97    -20  4.671471  4.671471  0.125108  0.044003  0.306267\n",
       "98    -20  4.671471  4.671471  0.088007  0.057808  0.261194\n",
       "\n",
       "[99 rows x 6 columns]"
      ]
     },
     "execution_count": 58,
     "metadata": {},
     "output_type": "execute_result"
    }
   ],
   "source": [
    "etype_2_edgesXYCoords_list_dict"
   ]
  },
  {
   "cell_type": "code",
   "execution_count": 63,
   "metadata": {},
   "outputs": [
    {
     "name": "stdout",
     "output_type": "stream",
     "text": [
      "['GO:0048308', 'GO:0048311']\n",
      "['GO:0006996', 'GO:0007005', 'GO:0051646']\n",
      "['GO:0006996', 'GO:0016043', 'GO:0051640']\n",
      "['GO:0016043', 'GO:0051641', 'GO:0071840']\n",
      "['GO:0009987', 'GO:0051179', 'GO:0071840']\n",
      "['GO:0008150', 'GO:0009987']\n",
      "['GO:0008150']\n"
     ]
    }
   ],
   "source": [
    "for parents in yield_direct_parents([\"GO:0000001\"], lineage_dict):\n",
    "    print(parents)"
   ]
  },
  {
   "cell_type": "code",
   "execution_count": 65,
   "metadata": {},
   "outputs": [
    {
     "data": {
      "text/plain": [
       "['GO:0007005', 'GO:0051646']"
      ]
     },
     "execution_count": 65,
     "metadata": {},
     "output_type": "execute_result"
    }
   ],
   "source": [
    "lineage_dict['GO:0048311']"
   ]
  }
 ],
 "metadata": {
  "kernelspec": {
   "display_name": "Python agotool2",
   "language": "python",
   "name": "agotool2"
  },
  "language_info": {
   "codemirror_mode": {
    "name": "ipython",
    "version": 3
   },
   "file_extension": ".py",
   "mimetype": "text/x-python",
   "name": "python",
   "nbconvert_exporter": "python",
   "pygments_lexer": "ipython3",
   "version": "3.8.2"
  }
 },
 "nbformat": 4,
 "nbformat_minor": 4
}
