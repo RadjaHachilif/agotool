{
 "cells": [
  {
   "cell_type": "code",
   "execution_count": 107,
   "metadata": {},
   "outputs": [],
   "source": [
    "LOG_DF_FILE_DIMENSIONS = variables.LOG_DF_FILE_DIMENSIONS\n",
    "df = pd.read_csv(LOG_DF_FILE_DIMENSIONS, sep=\"\\t\")"
   ]
  },
  {
   "cell_type": "code",
   "execution_count": 108,
   "metadata": {},
   "outputs": [],
   "source": [
    "version_current = max(df[\"version\"])\n",
    "version_previous = version_current - 1\n",
    "cond_previous = df[\"version\"] == version_previous\n",
    "cond_current = df[\"version\"] == version_current\n",
    "cond_not_binary = df[\"binary\"] == False"
   ]
  },
  {
   "cell_type": "code",
   "execution_count": 109,
   "metadata": {},
   "outputs": [
    {
     "data": {
      "text/plain": [
       "6"
      ]
     },
     "execution_count": 109,
     "metadata": {},
     "output_type": "execute_result"
    }
   ],
   "source": [
    "version_current"
   ]
  },
  {
   "cell_type": "code",
   "execution_count": 110,
   "metadata": {},
   "outputs": [
    {
     "data": {
      "text/plain": [
       "5"
      ]
     },
     "execution_count": 110,
     "metadata": {},
     "output_type": "execute_result"
    }
   ],
   "source": [
    "version_previous"
   ]
  },
  {
   "cell_type": "code",
   "execution_count": 111,
   "metadata": {},
   "outputs": [],
   "source": [
    "for fn in sorted(df.loc[cond_not_binary, \"fn\"].unique()):\n",
    "    cond_fn = df[\"fn\"] == fn\n",
    "    cond_fnp = cond_previous & cond_fn\n",
    "    cond_fnc = cond_current & cond_fn\n",
    "    if sum(cond_fnp) == 0:\n",
    "        print(\"{} not present in previous version\".format(fn))\n",
    "    if sum(cond_fnc) == 0:\n",
    "        print(\"{} not present in current version\".format(fn))\n",
    "    num_lines_previous = df.loc[cond_fnp, \"num_lines\"].values[0]\n",
    "    num_lines_current = df.loc[cond_fnc, \"num_lines\"].values[0]\n",
    "    # assert num_lines_current >= num_lines_previous\n",
    "    try:\n",
    "        assert num_lines_current >= num_lines_previous\n",
    "    except AssertionError: # at least 95% of previous\n",
    "        assert int(100 * num_lines_current / num_lines_previous) >= 95"
   ]
  },
  {
   "cell_type": "code",
   "execution_count": 112,
   "metadata": {},
   "outputs": [
    {
     "data": {
      "text/html": [
       "<div>\n",
       "<style scoped>\n",
       "    .dataframe tbody tr th:only-of-type {\n",
       "        vertical-align: middle;\n",
       "    }\n",
       "\n",
       "    .dataframe tbody tr th {\n",
       "        vertical-align: top;\n",
       "    }\n",
       "\n",
       "    .dataframe thead th {\n",
       "        text-align: right;\n",
       "    }\n",
       "</style>\n",
       "<table border=\"1\" class=\"dataframe\">\n",
       "  <thead>\n",
       "    <tr style=\"text-align: right;\">\n",
       "      <th></th>\n",
       "      <th>fn</th>\n",
       "      <th>binary</th>\n",
       "      <th>size</th>\n",
       "      <th>num_lines</th>\n",
       "      <th>date</th>\n",
       "      <th>md5</th>\n",
       "      <th>version</th>\n",
       "    </tr>\n",
       "  </thead>\n",
       "  <tbody>\n",
       "    <tr>\n",
       "      <th>0</th>\n",
       "      <td>Functions_table_UPS_FIN.txt</td>\n",
       "      <td>False</td>\n",
       "      <td>524106423</td>\n",
       "      <td>3521106.0</td>\n",
       "      <td>2020-10-03 12:10:49.197834</td>\n",
       "      <td>82a3c1361fb59bb8b62a33032ab4394d</td>\n",
       "      <td>1</td>\n",
       "    </tr>\n",
       "    <tr>\n",
       "      <th>1</th>\n",
       "      <td>KEGG_Taxid_2_acronym_table_UPS_FIN.txt</td>\n",
       "      <td>False</td>\n",
       "      <td>59930</td>\n",
       "      <td>5309.0</td>\n",
       "      <td>2020-10-02 20:11:31.759434</td>\n",
       "      <td>2558a0b572cda1d493e4c62835db546a</td>\n",
       "      <td>1</td>\n",
       "    </tr>\n",
       "    <tr>\n",
       "      <th>2</th>\n",
       "      <td>Lineage_table_UPS_FIN.txt</td>\n",
       "      <td>False</td>\n",
       "      <td>4628384</td>\n",
       "      <td>72924.0</td>\n",
       "      <td>2020-10-03 07:34:54.538533</td>\n",
       "      <td>d09f71b11e55b609eb5b8e7615438416</td>\n",
       "      <td>1</td>\n",
       "    </tr>\n",
       "    <tr>\n",
       "      <th>3</th>\n",
       "      <td>Protein_2_FunctionEnum_table_UPS_FIN.txt</td>\n",
       "      <td>False</td>\n",
       "      <td>30452367757</td>\n",
       "      <td>171659103.0</td>\n",
       "      <td>2020-10-03 13:06:34.370964</td>\n",
       "      <td>2b26b05ca60e5627fdda5f347bdfc9ed</td>\n",
       "      <td>1</td>\n",
       "    </tr>\n",
       "    <tr>\n",
       "      <th>4</th>\n",
       "      <td>Secondary_2_Primary_ID_UPS_FIN.txt</td>\n",
       "      <td>False</td>\n",
       "      <td>6419770008</td>\n",
       "      <td>187401348.0</td>\n",
       "      <td>2020-09-23 08:07:12.554013</td>\n",
       "      <td>eee716ad020225311c830c7aa436cfb3</td>\n",
       "      <td>1</td>\n",
       "    </tr>\n",
       "  </tbody>\n",
       "</table>\n",
       "</div>"
      ],
      "text/plain": [
       "                                         fn  binary         size    num_lines  \\\n",
       "0               Functions_table_UPS_FIN.txt   False    524106423    3521106.0   \n",
       "1    KEGG_Taxid_2_acronym_table_UPS_FIN.txt   False        59930       5309.0   \n",
       "2                 Lineage_table_UPS_FIN.txt   False      4628384      72924.0   \n",
       "3  Protein_2_FunctionEnum_table_UPS_FIN.txt   False  30452367757  171659103.0   \n",
       "4        Secondary_2_Primary_ID_UPS_FIN.txt   False   6419770008  187401348.0   \n",
       "\n",
       "                         date                               md5  version  \n",
       "0  2020-10-03 12:10:49.197834  82a3c1361fb59bb8b62a33032ab4394d        1  \n",
       "1  2020-10-02 20:11:31.759434  2558a0b572cda1d493e4c62835db546a        1  \n",
       "2  2020-10-03 07:34:54.538533  d09f71b11e55b609eb5b8e7615438416        1  \n",
       "3  2020-10-03 13:06:34.370964  2b26b05ca60e5627fdda5f347bdfc9ed        1  \n",
       "4  2020-09-23 08:07:12.554013  eee716ad020225311c830c7aa436cfb3        1  "
      ]
     },
     "execution_count": 112,
     "metadata": {},
     "output_type": "execute_result"
    }
   ],
   "source": [
    "df.head()"
   ]
  },
  {
   "cell_type": "code",
   "execution_count": 113,
   "metadata": {},
   "outputs": [
    {
     "data": {
      "text/html": [
       "<div>\n",
       "<style scoped>\n",
       "    .dataframe tbody tr th:only-of-type {\n",
       "        vertical-align: middle;\n",
       "    }\n",
       "\n",
       "    .dataframe tbody tr th {\n",
       "        vertical-align: top;\n",
       "    }\n",
       "\n",
       "    .dataframe thead th {\n",
       "        text-align: right;\n",
       "    }\n",
       "</style>\n",
       "<table border=\"1\" class=\"dataframe\">\n",
       "  <thead>\n",
       "    <tr style=\"text-align: right;\">\n",
       "      <th></th>\n",
       "      <th>fn</th>\n",
       "      <th>binary</th>\n",
       "      <th>size</th>\n",
       "      <th>num_lines</th>\n",
       "      <th>date</th>\n",
       "      <th>md5</th>\n",
       "      <th>version</th>\n",
       "    </tr>\n",
       "  </thead>\n",
       "  <tbody>\n",
       "    <tr>\n",
       "      <th>253</th>\n",
       "      <td>indices_arr_UPS_FIN.p</td>\n",
       "      <td>True</td>\n",
       "      <td>14147126</td>\n",
       "      <td>NaN</td>\n",
       "      <td>2020-12-01 10:30:11.868468</td>\n",
       "      <td>138ed1d49b191905ec15d512e4ebd27e</td>\n",
       "      <td>6</td>\n",
       "    </tr>\n",
       "    <tr>\n",
       "      <th>254</th>\n",
       "      <td>taxid_2_tuple_funcEnum_index_2_associations_counts_pickle_UPS_FIN.p</td>\n",
       "      <td>True</td>\n",
       "      <td>798403646</td>\n",
       "      <td>NaN</td>\n",
       "      <td>2020-12-01 13:37:46.773188</td>\n",
       "      <td>62b6e3e183d9a82fc858ad7723805a0e</td>\n",
       "      <td>6</td>\n",
       "    </tr>\n",
       "    <tr>\n",
       "      <th>255</th>\n",
       "      <td>year_arr_UPS_FIN.p</td>\n",
       "      <td>True</td>\n",
       "      <td>7073644</td>\n",
       "      <td>NaN</td>\n",
       "      <td>2020-12-01 10:30:11.868468</td>\n",
       "      <td>561271b1794ade241ba7849bb7675bd9</td>\n",
       "      <td>6</td>\n",
       "    </tr>\n",
       "    <tr>\n",
       "      <th>256</th>\n",
       "      <td>UniProt_NCBI_TaxID_and_TaxName_for_autocomplete_UPS_FIN.txt</td>\n",
       "      <td>False</td>\n",
       "      <td>1026170</td>\n",
       "      <td>19141.0</td>\n",
       "      <td>2020-12-17 21:06:31.290640</td>\n",
       "      <td>264830356194983eaf7100ab32df48d6</td>\n",
       "      <td>5</td>\n",
       "    </tr>\n",
       "    <tr>\n",
       "      <th>257</th>\n",
       "      <td>UniProt_NCBI_TaxID_and_TaxName_for_autocomplete_UPS_FIN.txt</td>\n",
       "      <td>False</td>\n",
       "      <td>1026170</td>\n",
       "      <td>19141.0</td>\n",
       "      <td>2020-12-17 21:06:31.290640</td>\n",
       "      <td>264830356194983eaf7100ab32df48d6</td>\n",
       "      <td>6</td>\n",
       "    </tr>\n",
       "  </tbody>\n",
       "</table>\n",
       "</div>"
      ],
      "text/plain": [
       "                                                                      fn  \\\n",
       "253                                                indices_arr_UPS_FIN.p   \n",
       "254  taxid_2_tuple_funcEnum_index_2_associations_counts_pickle_UPS_FIN.p   \n",
       "255                                                   year_arr_UPS_FIN.p   \n",
       "256          UniProt_NCBI_TaxID_and_TaxName_for_autocomplete_UPS_FIN.txt   \n",
       "257          UniProt_NCBI_TaxID_and_TaxName_for_autocomplete_UPS_FIN.txt   \n",
       "\n",
       "     binary       size  num_lines                        date  \\\n",
       "253    True   14147126        NaN  2020-12-01 10:30:11.868468   \n",
       "254    True  798403646        NaN  2020-12-01 13:37:46.773188   \n",
       "255    True    7073644        NaN  2020-12-01 10:30:11.868468   \n",
       "256   False    1026170    19141.0  2020-12-17 21:06:31.290640   \n",
       "257   False    1026170    19141.0  2020-12-17 21:06:31.290640   \n",
       "\n",
       "                                  md5  version  \n",
       "253  138ed1d49b191905ec15d512e4ebd27e        6  \n",
       "254  62b6e3e183d9a82fc858ad7723805a0e        6  \n",
       "255  561271b1794ade241ba7849bb7675bd9        6  \n",
       "256  264830356194983eaf7100ab32df48d6        5  \n",
       "257  264830356194983eaf7100ab32df48d6        6  "
      ]
     },
     "execution_count": 113,
     "metadata": {},
     "output_type": "execute_result"
    }
   ],
   "source": [
    "df.tail()"
   ]
  },
  {
   "cell_type": "code",
   "execution_count": null,
   "metadata": {},
   "outputs": [],
   "source": []
  },
  {
   "cell_type": "code",
   "execution_count": 96,
   "metadata": {},
   "outputs": [],
   "source": [
    "import query, userinput\n",
    "from collections import defaultdict"
   ]
  },
  {
   "cell_type": "code",
   "execution_count": 86,
   "metadata": {},
   "outputs": [],
   "source": [
    "import numpy as np"
   ]
  },
  {
   "cell_type": "code",
   "execution_count": 87,
   "metadata": {},
   "outputs": [],
   "source": [
    "import random\n",
    "taxid = random.choice(query.get_taxids()) # read_from_flat_files=True\n",
    "background = query.get_proteins_of_taxid(taxid)\n",
    "foreground = random.sample(background, 200)\n",
    "intensity = [str(ele) for ele in np.random.normal(size=len(background))]"
   ]
  },
  {
   "cell_type": "code",
   "execution_count": 91,
   "metadata": {},
   "outputs": [
    {
     "data": {
      "text/plain": [
       "['-1.809734578912832', '-0.07231743498728621', '0.34569802304769165']"
      ]
     },
     "execution_count": 91,
     "metadata": {},
     "output_type": "execute_result"
    }
   ],
   "source": [
    "intensity[:3]"
   ]
  },
  {
   "cell_type": "code",
   "execution_count": 97,
   "metadata": {},
   "outputs": [],
   "source": [
    "args_dict = defaultdict(lambda: None)\n",
    "args_dict.update({'taxid': taxid, 'output_format': 'tsv', 'enrichment_method': 'abundance_correction', 'FDR_cutoff': '1.0'})\n",
    "# should be \"background_intensity\" instead of \"intensity\" but nonetheless this should work\n",
    "args_dict.update({'foreground': \"%0d\".join(foreground), 'background': \"%0d\".join(background), \"intensity\": \"%0d\".join(intensity)})\n",
    "ui = userinput.REST_API_input(pqo=None, args_dict=args_dict)"
   ]
  },
  {
   "cell_type": "code",
   "execution_count": 100,
   "metadata": {},
   "outputs": [
    {
     "data": {
      "text/plain": [
       "(True, True)"
      ]
     },
     "execution_count": 100,
     "metadata": {},
     "output_type": "execute_result"
    }
   ],
   "source": [
    "ui.check_cleanup, ui.check_parse"
   ]
  },
  {
   "cell_type": "code",
   "execution_count": null,
   "metadata": {},
   "outputs": [],
   "source": [
    "\n"
   ]
  },
  {
   "cell_type": "code",
   "execution_count": null,
   "metadata": {},
   "outputs": [],
   "source": []
  },
  {
   "cell_type": "code",
   "execution_count": null,
   "metadata": {},
   "outputs": [],
   "source": []
  },
  {
   "cell_type": "code",
   "execution_count": 84,
   "metadata": {},
   "outputs": [],
   "source": [
    "fn = r\"/Users/dblyon/Downloads/UniProt_NCBI_TaxID_and_TaxName_not_clean.txt\"\n",
    "fn_out = r\"/Users/dblyon/modules/cpr/agotool/data/PostgreSQL/tables/UniProt_NCBI_TaxID_and_TaxName_for_autocomplete_UPS_FIN.txt\"\n",
    "strings_2_write_list = []\n",
    "curated_and_sorted = [\n",
    "    \"Homo sapiens (Human), 9606, UP000005640\",                      \n",
    "    \"Caenorhabditis elegans, 6239, UP000001940\",\n",
    "    \"Drosophila melanogaster (Fruit fly), 7227, UP000000803\",\n",
    "    \"Escherichia coli (strain K12), 83333, UP000000625\",\n",
    "    \"Mus musculus (Mouse), 10090, UP000000589\",\n",
    "    \"Rattus norvegicus (Rat), 10116, UP000002494\",\n",
    "    \"Saccharomyces cerevisiae (strain ATCC 204508 / S288c) (Baker's yeast), 559292, UP000002311\", # 4932\n",
    "    \"Schizosaccharomyces pombe (strain 972 / ATCC 24843) (Fission yeast), 284812, UP000002485\", # 4896\n",
    "    \"Arabidopsis thaliana (Mouse-ear cress), 3702, UP000006548\"]\n",
    "with open(fn, \"r\") as fh_in:\n",
    "    for line in fh_in:\n",
    "        if line.strip() == \"Proteome_ID\tTax_ID\tOSCODE\tSUPERREGNUM\t#(1)\t#(2)\t#(3)\tSpecies Name\":\n",
    "            break\n",
    "    for line in fh_in:\n",
    "        if line.startswith(\"UP\"):\n",
    "            Proteome_ID, Tax_ID, OSCODE, SUPERREGNUM, num_1, num_2, num_3, SpeciesName = line.split(\"\\t\")\n",
    "            strings_2_write_list.append(\"{}, {}, {}\".format(SpeciesName.strip(), Tax_ID, Proteome_ID))\n",
    "with open(fn_out, \"w\") as fh_out:\n",
    "    strings_2_write_list = sorted(strings_2_write_list)\n",
    "    strings_2_write_list = curated_and_sorted + sorted(set(strings_2_write_list) - set(curated_and_sorted))\n",
    "    for ele in strings_2_write_list:\n",
    "        fh_out.write(ele + \"\\n\")"
   ]
  },
  {
   "cell_type": "code",
   "execution_count": 83,
   "metadata": {},
   "outputs": [
    {
     "data": {
      "text/plain": [
       "['Homo sapiens (Human), 9606, UP000005640',\n",
       " 'Caenorhabditis elegans, 6239, UP000001940',\n",
       " 'Drosophila melanogaster (Fruit fly), 7227, UP000000803']"
      ]
     },
     "execution_count": 83,
     "metadata": {},
     "output_type": "execute_result"
    }
   ],
   "source": [
    "strings_2_write_list[:3]"
   ]
  },
  {
   "cell_type": "code",
   "execution_count": 78,
   "metadata": {},
   "outputs": [],
   "source": [
    "l = curated_and_sorted + sorted(set(strings_2_write_list) - set(curated_and_sorted))"
   ]
  },
  {
   "cell_type": "code",
   "execution_count": 79,
   "metadata": {},
   "outputs": [
    {
     "data": {
      "text/plain": [
       "['Homo sapiens (Human), 9606, UP000005640',\n",
       " 'Caenorhabditis elegans, 6239, UP000001940',\n",
       " 'Drosophila melanogaster (Fruit fly), 7227, UP000000803',\n",
       " 'Escherichia coli (strain K12), 83333, UP000000625',\n",
       " 'Mus musculus (Mouse), 10090, UP000000589',\n",
       " 'Rattus norvegicus (Rat), 10116, UP000002494',\n",
       " \"Saccharomyces cerevisiae (strain ATCC 204508 / S288c) (Baker's yeast), 559292, UP000002311\",\n",
       " 'Schizosaccharomyces pombe (strain 972 / ATCC 24843) (Fission yeast), 284812, UP000002485',\n",
       " 'Arabidopsis thaliana (Mouse-ear cress), 3702, UP000006548',\n",
       " \"'Echinacea purpurea' witches'-broom phytoplasma, 1123738, UP000050566\",\n",
       " '229E-related bat coronavirus, 1739614, UP000096398',\n",
       " 'ANME-2 cluster archaeon, 2056317, UP000248329',\n",
       " 'ANMV-1 virus, 1605378, UP000241134',\n",
       " 'Abaca bunchy top virus, 438782, UP000202363',\n",
       " 'Abalone herpesvirus (isolate Abalone/Australia/Victoria/2009) (AbHV), 1241371, UP000029777']"
      ]
     },
     "execution_count": 79,
     "metadata": {},
     "output_type": "execute_result"
    }
   ],
   "source": [
    "l[:15]"
   ]
  },
  {
   "cell_type": "code",
   "execution_count": 53,
   "metadata": {},
   "outputs": [
    {
     "name": "stdout",
     "output_type": "stream",
     "text": [
      "\n",
      "Downloading: ftp://ftp.ncbi.nlm.nih.gov/pub/taxonomy/taxdump.tar.gz\n",
      "TO: /Users/dblyon/modules/cpr/agotool/data/PostgreSQL/downloads/taxdump.tar.gz\n",
      "finished download\n",
      "Extracting files and removing .tar.gz\n",
      "tar -zxvf /Users/dblyon/modules/cpr/agotool/data/PostgreSQL/downloads/taxdump.tar.gz -C /Users/dblyon/modules/cpr/agotool/data/PostgreSQL/downloads\n"
     ]
    }
   ],
   "source": [
    "import taxonomy\n",
    "ncbi = taxonomy.NCBI_taxonomy(taxdump_directory=variables.DOWNLOADS_DIR, for_SQL=False, update=True)"
   ]
  },
  {
   "cell_type": "code",
   "execution_count": 60,
   "metadata": {},
   "outputs": [
    {
     "data": {
      "text/plain": [
       "'Homo sapiens'"
      ]
     },
     "execution_count": 60,
     "metadata": {},
     "output_type": "execute_result"
    }
   ],
   "source": [
    "ncbi.get_sciname(9606)"
   ]
  },
  {
   "cell_type": "code",
   "execution_count": 28,
   "metadata": {},
   "outputs": [
    {
     "data": {
      "text/plain": [
       "'/Users/dblyon/modules/cpr/agotool/app/python'"
      ]
     },
     "execution_count": 28,
     "metadata": {},
     "output_type": "execute_result"
    }
   ],
   "source": [
    "pwd"
   ]
  },
  {
   "cell_type": "code",
   "execution_count": 48,
   "metadata": {},
   "outputs": [],
   "source": [
    "import variables, plot_and_table\n",
    "import pandas as pd\n",
    "from importlib import reload"
   ]
  },
  {
   "cell_type": "code",
   "execution_count": 49,
   "metadata": {},
   "outputs": [],
   "source": [
    "reload(plot_and_table)\n",
    "df = pd.read_csv(variables.fn_example, sep=\"\\t\")\n",
    "df, category_rank_arr = plot_and_table.ready_df_for_plot(df, lineage_dict=None, enrichment_method=\"genome\")"
   ]
  },
  {
   "cell_type": "code",
   "execution_count": 51,
   "metadata": {},
   "outputs": [
    {
     "data": {
      "text/html": [
       "<div>\n",
       "<style scoped>\n",
       "    .dataframe tbody tr th:only-of-type {\n",
       "        vertical-align: middle;\n",
       "    }\n",
       "\n",
       "    .dataframe tbody tr th {\n",
       "        vertical-align: top;\n",
       "    }\n",
       "\n",
       "    .dataframe thead th {\n",
       "        text-align: right;\n",
       "    }\n",
       "</style>\n",
       "<table border=\"1\" class=\"dataframe\">\n",
       "  <thead>\n",
       "    <tr style=\"text-align: right;\">\n",
       "      <th></th>\n",
       "      <th>term</th>\n",
       "      <th>hierarchical_level</th>\n",
       "      <th>description</th>\n",
       "      <th>year</th>\n",
       "      <th>over_under</th>\n",
       "      <th>p_value</th>\n",
       "      <th>FDR</th>\n",
       "      <th>effect_size</th>\n",
       "      <th>ratio_in_foreground</th>\n",
       "      <th>ratio_in_background</th>\n",
       "      <th>...</th>\n",
       "      <th>etype</th>\n",
       "      <th>logFDR</th>\n",
       "      <th>FG_count_2_circle_size</th>\n",
       "      <th>rank_2_transparency</th>\n",
       "      <th>color</th>\n",
       "      <th>category_rank</th>\n",
       "      <th>text_label</th>\n",
       "      <th>marker_line_width</th>\n",
       "      <th>marker_line_color</th>\n",
       "      <th>opacity</th>\n",
       "    </tr>\n",
       "  </thead>\n",
       "  <tbody>\n",
       "    <tr>\n",
       "      <th>0</th>\n",
       "      <td>KW-0539</td>\n",
       "      <td>2</td>\n",
       "      <td>Nucleus</td>\n",
       "      <td>-1</td>\n",
       "      <td>o</td>\n",
       "      <td>0.000006</td>\n",
       "      <td>0.000934</td>\n",
       "      <td>0.145815</td>\n",
       "      <td>0.421053</td>\n",
       "      <td>0.275237</td>\n",
       "      <td>...</td>\n",
       "      <td>-51</td>\n",
       "      <td>6.976356</td>\n",
       "      <td>9.311362</td>\n",
       "      <td>1.0</td>\n",
       "      <td>#1b9e77</td>\n",
       "      <td>0</td>\n",
       "      <td></td>\n",
       "      <td>1</td>\n",
       "      <td>white</td>\n",
       "      <td>0.7</td>\n",
       "    </tr>\n",
       "    <tr>\n",
       "      <th>1</th>\n",
       "      <td>KW-0472</td>\n",
       "      <td>2</td>\n",
       "      <td>Membrane</td>\n",
       "      <td>-1</td>\n",
       "      <td>u</td>\n",
       "      <td>0.000005</td>\n",
       "      <td>0.000934</td>\n",
       "      <td>-0.087144</td>\n",
       "      <td>0.134599</td>\n",
       "      <td>0.221743</td>\n",
       "      <td>...</td>\n",
       "      <td>-51</td>\n",
       "      <td>6.976356</td>\n",
       "      <td>2.976583</td>\n",
       "      <td>0.9</td>\n",
       "      <td>#1b9e77</td>\n",
       "      <td>0</td>\n",
       "      <td></td>\n",
       "      <td>1</td>\n",
       "      <td>white</td>\n",
       "      <td>0.7</td>\n",
       "    </tr>\n",
       "    <tr>\n",
       "      <th>12</th>\n",
       "      <td>GOCC:0005634</td>\n",
       "      <td>8</td>\n",
       "      <td>Nucleus</td>\n",
       "      <td>-1</td>\n",
       "      <td>o</td>\n",
       "      <td>0.000004</td>\n",
       "      <td>0.009358</td>\n",
       "      <td>0.133736</td>\n",
       "      <td>0.522002</td>\n",
       "      <td>0.388266</td>\n",
       "      <td>...</td>\n",
       "      <td>-20</td>\n",
       "      <td>4.671471</td>\n",
       "      <td>11.543799</td>\n",
       "      <td>1.0</td>\n",
       "      <td>#d95f02</td>\n",
       "      <td>1</td>\n",
       "      <td></td>\n",
       "      <td>1</td>\n",
       "      <td>white</td>\n",
       "      <td>0.7</td>\n",
       "    </tr>\n",
       "    <tr>\n",
       "      <th>13</th>\n",
       "      <td>GOCC:0070013</td>\n",
       "      <td>7</td>\n",
       "      <td>Intracellular organelle lumen</td>\n",
       "      <td>-1</td>\n",
       "      <td>o</td>\n",
       "      <td>0.000004</td>\n",
       "      <td>0.009358</td>\n",
       "      <td>0.125108</td>\n",
       "      <td>0.389991</td>\n",
       "      <td>0.264884</td>\n",
       "      <td>...</td>\n",
       "      <td>-20</td>\n",
       "      <td>4.671471</td>\n",
       "      <td>8.624458</td>\n",
       "      <td>0.9</td>\n",
       "      <td>#d95f02</td>\n",
       "      <td>1</td>\n",
       "      <td></td>\n",
       "      <td>1</td>\n",
       "      <td>white</td>\n",
       "      <td>0.7</td>\n",
       "    </tr>\n",
       "    <tr>\n",
       "      <th>30</th>\n",
       "      <td>GO:0070013</td>\n",
       "      <td>5</td>\n",
       "      <td>intracellular organelle lumen</td>\n",
       "      <td>-1</td>\n",
       "      <td>o</td>\n",
       "      <td>0.000005</td>\n",
       "      <td>0.001667</td>\n",
       "      <td>0.130285</td>\n",
       "      <td>0.358067</td>\n",
       "      <td>0.227783</td>\n",
       "      <td>...</td>\n",
       "      <td>-22</td>\n",
       "      <td>6.396531</td>\n",
       "      <td>7.918474</td>\n",
       "      <td>1.0</td>\n",
       "      <td>#7570b3</td>\n",
       "      <td>2</td>\n",
       "      <td></td>\n",
       "      <td>1</td>\n",
       "      <td>white</td>\n",
       "      <td>0.7</td>\n",
       "    </tr>\n",
       "    <tr>\n",
       "      <th>31</th>\n",
       "      <td>GO:0005634</td>\n",
       "      <td>6</td>\n",
       "      <td>nucleus</td>\n",
       "      <td>-1</td>\n",
       "      <td>o</td>\n",
       "      <td>0.000005</td>\n",
       "      <td>0.001667</td>\n",
       "      <td>0.128559</td>\n",
       "      <td>0.530630</td>\n",
       "      <td>0.402071</td>\n",
       "      <td>...</td>\n",
       "      <td>-22</td>\n",
       "      <td>6.396531</td>\n",
       "      <td>11.734605</td>\n",
       "      <td>0.9</td>\n",
       "      <td>#7570b3</td>\n",
       "      <td>2</td>\n",
       "      <td></td>\n",
       "      <td>1</td>\n",
       "      <td>white</td>\n",
       "      <td>0.7</td>\n",
       "    </tr>\n",
       "  </tbody>\n",
       "</table>\n",
       "<p>6 rows × 29 columns</p>\n",
       "</div>"
      ],
      "text/plain": [
       "            term  hierarchical_level                    description  year  \\\n",
       "0        KW-0539                   2                        Nucleus    -1   \n",
       "1        KW-0472                   2                       Membrane    -1   \n",
       "12  GOCC:0005634                   8                        Nucleus    -1   \n",
       "13  GOCC:0070013                   7  Intracellular organelle lumen    -1   \n",
       "30    GO:0070013                   5  intracellular organelle lumen    -1   \n",
       "31    GO:0005634                   6                        nucleus    -1   \n",
       "\n",
       "   over_under   p_value       FDR  effect_size  ratio_in_foreground  \\\n",
       "0           o  0.000006  0.000934     0.145815             0.421053   \n",
       "1           u  0.000005  0.000934    -0.087144             0.134599   \n",
       "12          o  0.000004  0.009358     0.133736             0.522002   \n",
       "13          o  0.000004  0.009358     0.125108             0.389991   \n",
       "30          o  0.000005  0.001667     0.130285             0.358067   \n",
       "31          o  0.000005  0.001667     0.128559             0.530630   \n",
       "\n",
       "    ratio_in_background  ...  etype    logFDR  FG_count_2_circle_size  \\\n",
       "0              0.275237  ...    -51  6.976356                9.311362   \n",
       "1              0.221743  ...    -51  6.976356                2.976583   \n",
       "12             0.388266  ...    -20  4.671471               11.543799   \n",
       "13             0.264884  ...    -20  4.671471                8.624458   \n",
       "30             0.227783  ...    -22  6.396531                7.918474   \n",
       "31             0.402071  ...    -22  6.396531               11.734605   \n",
       "\n",
       "    rank_2_transparency    color  category_rank  text_label  \\\n",
       "0                   1.0  #1b9e77              0               \n",
       "1                   0.9  #1b9e77              0               \n",
       "12                  1.0  #d95f02              1               \n",
       "13                  0.9  #d95f02              1               \n",
       "30                  1.0  #7570b3              2               \n",
       "31                  0.9  #7570b3              2               \n",
       "\n",
       "    marker_line_width marker_line_color  opacity  \n",
       "0                   1             white      0.7  \n",
       "1                   1             white      0.7  \n",
       "12                  1             white      0.7  \n",
       "13                  1             white      0.7  \n",
       "30                  1             white      0.7  \n",
       "31                  1             white      0.7  \n",
       "\n",
       "[6 rows x 29 columns]"
      ]
     },
     "execution_count": 51,
     "metadata": {},
     "output_type": "execute_result"
    }
   ],
   "source": [
    "df.groupby(\"etype\").head(2)"
   ]
  },
  {
   "cell_type": "code",
   "execution_count": 52,
   "metadata": {},
   "outputs": [
    {
     "data": {
      "text/plain": [
       "[UniProt keywords, GO cellular component TextMining, GO cellular component]\n",
       "Categories (3, object): [UniProt keywords, GO cellular component TextMining, GO cellular component]"
      ]
     },
     "execution_count": 52,
     "metadata": {},
     "output_type": "execute_result"
    }
   ],
   "source": [
    "df.category.unique()"
   ]
  },
  {
   "cell_type": "code",
   "execution_count": 38,
   "metadata": {},
   "outputs": [
    {
     "data": {
      "text/html": [
       "<div>\n",
       "<style scoped>\n",
       "    .dataframe tbody tr th:only-of-type {\n",
       "        vertical-align: middle;\n",
       "    }\n",
       "\n",
       "    .dataframe tbody tr th {\n",
       "        vertical-align: top;\n",
       "    }\n",
       "\n",
       "    .dataframe thead th {\n",
       "        text-align: right;\n",
       "    }\n",
       "</style>\n",
       "<table border=\"1\" class=\"dataframe\">\n",
       "  <thead>\n",
       "    <tr style=\"text-align: right;\">\n",
       "      <th></th>\n",
       "      <th>term</th>\n",
       "      <th>hierarchical_level</th>\n",
       "      <th>description</th>\n",
       "      <th>year</th>\n",
       "      <th>over_under</th>\n",
       "      <th>p_value</th>\n",
       "      <th>FDR</th>\n",
       "      <th>effect_size</th>\n",
       "      <th>ratio_in_foreground</th>\n",
       "      <th>ratio_in_background</th>\n",
       "      <th>...</th>\n",
       "      <th>etype</th>\n",
       "      <th>logFDR</th>\n",
       "      <th>FG_count_2_circle_size</th>\n",
       "      <th>rank_2_transparency</th>\n",
       "      <th>color</th>\n",
       "      <th>text_label</th>\n",
       "      <th>marker_line_width</th>\n",
       "      <th>marker_line_color</th>\n",
       "      <th>opacity</th>\n",
       "      <th>category_rank</th>\n",
       "    </tr>\n",
       "  </thead>\n",
       "  <tbody>\n",
       "    <tr>\n",
       "      <th>0</th>\n",
       "      <td>KW-0539</td>\n",
       "      <td>2</td>\n",
       "      <td>Nucleus</td>\n",
       "      <td>-1</td>\n",
       "      <td>o</td>\n",
       "      <td>0.000006</td>\n",
       "      <td>0.000934</td>\n",
       "      <td>0.145815</td>\n",
       "      <td>0.421053</td>\n",
       "      <td>0.275237</td>\n",
       "      <td>...</td>\n",
       "      <td>-51</td>\n",
       "      <td>6.976356</td>\n",
       "      <td>9.311362</td>\n",
       "      <td>1.0</td>\n",
       "      <td>#1b9e77</td>\n",
       "      <td></td>\n",
       "      <td>1</td>\n",
       "      <td>white</td>\n",
       "      <td>0.7</td>\n",
       "      <td>41</td>\n",
       "    </tr>\n",
       "    <tr>\n",
       "      <th>1</th>\n",
       "      <td>KW-0472</td>\n",
       "      <td>2</td>\n",
       "      <td>Membrane</td>\n",
       "      <td>-1</td>\n",
       "      <td>u</td>\n",
       "      <td>0.000005</td>\n",
       "      <td>0.000934</td>\n",
       "      <td>-0.087144</td>\n",
       "      <td>0.134599</td>\n",
       "      <td>0.221743</td>\n",
       "      <td>...</td>\n",
       "      <td>-51</td>\n",
       "      <td>6.976356</td>\n",
       "      <td>2.976583</td>\n",
       "      <td>0.9</td>\n",
       "      <td>#1b9e77</td>\n",
       "      <td></td>\n",
       "      <td>1</td>\n",
       "      <td>white</td>\n",
       "      <td>0.7</td>\n",
       "      <td>42</td>\n",
       "    </tr>\n",
       "    <tr>\n",
       "      <th>2</th>\n",
       "      <td>KW-0805</td>\n",
       "      <td>3</td>\n",
       "      <td>Transcription regulation</td>\n",
       "      <td>-1</td>\n",
       "      <td>o</td>\n",
       "      <td>0.000002</td>\n",
       "      <td>0.000934</td>\n",
       "      <td>0.075928</td>\n",
       "      <td>0.123382</td>\n",
       "      <td>0.047455</td>\n",
       "      <td>...</td>\n",
       "      <td>-51</td>\n",
       "      <td>6.976356</td>\n",
       "      <td>2.728534</td>\n",
       "      <td>0.8</td>\n",
       "      <td>#1b9e77</td>\n",
       "      <td></td>\n",
       "      <td>1</td>\n",
       "      <td>white</td>\n",
       "      <td>0.7</td>\n",
       "      <td>43</td>\n",
       "    </tr>\n",
       "    <tr>\n",
       "      <th>3</th>\n",
       "      <td>KW-0804</td>\n",
       "      <td>2</td>\n",
       "      <td>Transcription</td>\n",
       "      <td>-1</td>\n",
       "      <td>o</td>\n",
       "      <td>0.000003</td>\n",
       "      <td>0.000934</td>\n",
       "      <td>0.073339</td>\n",
       "      <td>0.133736</td>\n",
       "      <td>0.060397</td>\n",
       "      <td>...</td>\n",
       "      <td>-51</td>\n",
       "      <td>6.976356</td>\n",
       "      <td>2.957502</td>\n",
       "      <td>0.7</td>\n",
       "      <td>#1b9e77</td>\n",
       "      <td></td>\n",
       "      <td>1</td>\n",
       "      <td>white</td>\n",
       "      <td>0.7</td>\n",
       "      <td>44</td>\n",
       "    </tr>\n",
       "    <tr>\n",
       "      <th>4</th>\n",
       "      <td>KW-0812</td>\n",
       "      <td>3</td>\n",
       "      <td>Transmembrane</td>\n",
       "      <td>-1</td>\n",
       "      <td>u</td>\n",
       "      <td>0.000003</td>\n",
       "      <td>0.000934</td>\n",
       "      <td>-0.071613</td>\n",
       "      <td>0.059534</td>\n",
       "      <td>0.131148</td>\n",
       "      <td>...</td>\n",
       "      <td>-51</td>\n",
       "      <td>6.976356</td>\n",
       "      <td>2.000000</td>\n",
       "      <td>0.6</td>\n",
       "      <td>#1b9e77</td>\n",
       "      <td></td>\n",
       "      <td>1</td>\n",
       "      <td>white</td>\n",
       "      <td>0.7</td>\n",
       "      <td>45</td>\n",
       "    </tr>\n",
       "  </tbody>\n",
       "</table>\n",
       "<p>5 rows × 29 columns</p>\n",
       "</div>"
      ],
      "text/plain": [
       "      term  hierarchical_level               description  year over_under  \\\n",
       "0  KW-0539                   2                   Nucleus    -1          o   \n",
       "1  KW-0472                   2                  Membrane    -1          u   \n",
       "2  KW-0805                   3  Transcription regulation    -1          o   \n",
       "3  KW-0804                   2             Transcription    -1          o   \n",
       "4  KW-0812                   3             Transmembrane    -1          u   \n",
       "\n",
       "    p_value       FDR  effect_size  ratio_in_foreground  ratio_in_background  \\\n",
       "0  0.000006  0.000934     0.145815             0.421053             0.275237   \n",
       "1  0.000005  0.000934    -0.087144             0.134599             0.221743   \n",
       "2  0.000002  0.000934     0.075928             0.123382             0.047455   \n",
       "3  0.000003  0.000934     0.073339             0.133736             0.060397   \n",
       "4  0.000003  0.000934    -0.071613             0.059534             0.131148   \n",
       "\n",
       "   ...  etype    logFDR  FG_count_2_circle_size  rank_2_transparency    color  \\\n",
       "0  ...    -51  6.976356                9.311362                  1.0  #1b9e77   \n",
       "1  ...    -51  6.976356                2.976583                  0.9  #1b9e77   \n",
       "2  ...    -51  6.976356                2.728534                  0.8  #1b9e77   \n",
       "3  ...    -51  6.976356                2.957502                  0.7  #1b9e77   \n",
       "4  ...    -51  6.976356                2.000000                  0.6  #1b9e77   \n",
       "\n",
       "   text_label  marker_line_width  marker_line_color opacity  category_rank  \n",
       "0                              1              white     0.7             41  \n",
       "1                              1              white     0.7             42  \n",
       "2                              1              white     0.7             43  \n",
       "3                              1              white     0.7             44  \n",
       "4                              1              white     0.7             45  \n",
       "\n",
       "[5 rows x 29 columns]"
      ]
     },
     "execution_count": 38,
     "metadata": {},
     "output_type": "execute_result"
    }
   ],
   "source": [
    "df.head()"
   ]
  },
  {
   "cell_type": "code",
   "execution_count": 46,
   "metadata": {},
   "outputs": [],
   "source": [
    "df['category_rank'] = df[\"category\"].cat.codes"
   ]
  },
  {
   "cell_type": "code",
   "execution_count": 47,
   "metadata": {},
   "outputs": [
    {
     "data": {
      "text/html": [
       "<div>\n",
       "<style scoped>\n",
       "    .dataframe tbody tr th:only-of-type {\n",
       "        vertical-align: middle;\n",
       "    }\n",
       "\n",
       "    .dataframe tbody tr th {\n",
       "        vertical-align: top;\n",
       "    }\n",
       "\n",
       "    .dataframe thead th {\n",
       "        text-align: right;\n",
       "    }\n",
       "</style>\n",
       "<table border=\"1\" class=\"dataframe\">\n",
       "  <thead>\n",
       "    <tr style=\"text-align: right;\">\n",
       "      <th></th>\n",
       "      <th>term</th>\n",
       "      <th>hierarchical_level</th>\n",
       "      <th>description</th>\n",
       "      <th>year</th>\n",
       "      <th>over_under</th>\n",
       "      <th>p_value</th>\n",
       "      <th>FDR</th>\n",
       "      <th>effect_size</th>\n",
       "      <th>ratio_in_foreground</th>\n",
       "      <th>ratio_in_background</th>\n",
       "      <th>...</th>\n",
       "      <th>etype</th>\n",
       "      <th>logFDR</th>\n",
       "      <th>FG_count_2_circle_size</th>\n",
       "      <th>rank_2_transparency</th>\n",
       "      <th>color</th>\n",
       "      <th>text_label</th>\n",
       "      <th>marker_line_width</th>\n",
       "      <th>marker_line_color</th>\n",
       "      <th>opacity</th>\n",
       "      <th>category_rank</th>\n",
       "    </tr>\n",
       "  </thead>\n",
       "  <tbody>\n",
       "    <tr>\n",
       "      <th>0</th>\n",
       "      <td>KW-0539</td>\n",
       "      <td>2</td>\n",
       "      <td>Nucleus</td>\n",
       "      <td>-1</td>\n",
       "      <td>o</td>\n",
       "      <td>0.000006</td>\n",
       "      <td>0.000934</td>\n",
       "      <td>0.145815</td>\n",
       "      <td>0.421053</td>\n",
       "      <td>0.275237</td>\n",
       "      <td>...</td>\n",
       "      <td>-51</td>\n",
       "      <td>6.976356</td>\n",
       "      <td>9.311362</td>\n",
       "      <td>1.0</td>\n",
       "      <td>#1b9e77</td>\n",
       "      <td></td>\n",
       "      <td>1</td>\n",
       "      <td>white</td>\n",
       "      <td>0.7</td>\n",
       "      <td>0</td>\n",
       "    </tr>\n",
       "    <tr>\n",
       "      <th>1</th>\n",
       "      <td>KW-0472</td>\n",
       "      <td>2</td>\n",
       "      <td>Membrane</td>\n",
       "      <td>-1</td>\n",
       "      <td>u</td>\n",
       "      <td>0.000005</td>\n",
       "      <td>0.000934</td>\n",
       "      <td>-0.087144</td>\n",
       "      <td>0.134599</td>\n",
       "      <td>0.221743</td>\n",
       "      <td>...</td>\n",
       "      <td>-51</td>\n",
       "      <td>6.976356</td>\n",
       "      <td>2.976583</td>\n",
       "      <td>0.9</td>\n",
       "      <td>#1b9e77</td>\n",
       "      <td></td>\n",
       "      <td>1</td>\n",
       "      <td>white</td>\n",
       "      <td>0.7</td>\n",
       "      <td>0</td>\n",
       "    </tr>\n",
       "    <tr>\n",
       "      <th>12</th>\n",
       "      <td>GOCC:0005634</td>\n",
       "      <td>8</td>\n",
       "      <td>Nucleus</td>\n",
       "      <td>-1</td>\n",
       "      <td>o</td>\n",
       "      <td>0.000004</td>\n",
       "      <td>0.009358</td>\n",
       "      <td>0.133736</td>\n",
       "      <td>0.522002</td>\n",
       "      <td>0.388266</td>\n",
       "      <td>...</td>\n",
       "      <td>-20</td>\n",
       "      <td>4.671471</td>\n",
       "      <td>11.543799</td>\n",
       "      <td>1.0</td>\n",
       "      <td>#d95f02</td>\n",
       "      <td></td>\n",
       "      <td>1</td>\n",
       "      <td>white</td>\n",
       "      <td>0.7</td>\n",
       "      <td>1</td>\n",
       "    </tr>\n",
       "    <tr>\n",
       "      <th>13</th>\n",
       "      <td>GOCC:0070013</td>\n",
       "      <td>7</td>\n",
       "      <td>Intracellular organelle lumen</td>\n",
       "      <td>-1</td>\n",
       "      <td>o</td>\n",
       "      <td>0.000004</td>\n",
       "      <td>0.009358</td>\n",
       "      <td>0.125108</td>\n",
       "      <td>0.389991</td>\n",
       "      <td>0.264884</td>\n",
       "      <td>...</td>\n",
       "      <td>-20</td>\n",
       "      <td>4.671471</td>\n",
       "      <td>8.624458</td>\n",
       "      <td>0.9</td>\n",
       "      <td>#d95f02</td>\n",
       "      <td></td>\n",
       "      <td>1</td>\n",
       "      <td>white</td>\n",
       "      <td>0.7</td>\n",
       "      <td>1</td>\n",
       "    </tr>\n",
       "    <tr>\n",
       "      <th>30</th>\n",
       "      <td>GO:0070013</td>\n",
       "      <td>5</td>\n",
       "      <td>intracellular organelle lumen</td>\n",
       "      <td>-1</td>\n",
       "      <td>o</td>\n",
       "      <td>0.000005</td>\n",
       "      <td>0.001667</td>\n",
       "      <td>0.130285</td>\n",
       "      <td>0.358067</td>\n",
       "      <td>0.227783</td>\n",
       "      <td>...</td>\n",
       "      <td>-22</td>\n",
       "      <td>6.396531</td>\n",
       "      <td>7.918474</td>\n",
       "      <td>1.0</td>\n",
       "      <td>#7570b3</td>\n",
       "      <td></td>\n",
       "      <td>1</td>\n",
       "      <td>white</td>\n",
       "      <td>0.7</td>\n",
       "      <td>2</td>\n",
       "    </tr>\n",
       "    <tr>\n",
       "      <th>31</th>\n",
       "      <td>GO:0005634</td>\n",
       "      <td>6</td>\n",
       "      <td>nucleus</td>\n",
       "      <td>-1</td>\n",
       "      <td>o</td>\n",
       "      <td>0.000005</td>\n",
       "      <td>0.001667</td>\n",
       "      <td>0.128559</td>\n",
       "      <td>0.530630</td>\n",
       "      <td>0.402071</td>\n",
       "      <td>...</td>\n",
       "      <td>-22</td>\n",
       "      <td>6.396531</td>\n",
       "      <td>11.734605</td>\n",
       "      <td>0.9</td>\n",
       "      <td>#7570b3</td>\n",
       "      <td></td>\n",
       "      <td>1</td>\n",
       "      <td>white</td>\n",
       "      <td>0.7</td>\n",
       "      <td>2</td>\n",
       "    </tr>\n",
       "  </tbody>\n",
       "</table>\n",
       "<p>6 rows × 29 columns</p>\n",
       "</div>"
      ],
      "text/plain": [
       "            term  hierarchical_level                    description  year  \\\n",
       "0        KW-0539                   2                        Nucleus    -1   \n",
       "1        KW-0472                   2                       Membrane    -1   \n",
       "12  GOCC:0005634                   8                        Nucleus    -1   \n",
       "13  GOCC:0070013                   7  Intracellular organelle lumen    -1   \n",
       "30    GO:0070013                   5  intracellular organelle lumen    -1   \n",
       "31    GO:0005634                   6                        nucleus    -1   \n",
       "\n",
       "   over_under   p_value       FDR  effect_size  ratio_in_foreground  \\\n",
       "0           o  0.000006  0.000934     0.145815             0.421053   \n",
       "1           u  0.000005  0.000934    -0.087144             0.134599   \n",
       "12          o  0.000004  0.009358     0.133736             0.522002   \n",
       "13          o  0.000004  0.009358     0.125108             0.389991   \n",
       "30          o  0.000005  0.001667     0.130285             0.358067   \n",
       "31          o  0.000005  0.001667     0.128559             0.530630   \n",
       "\n",
       "    ratio_in_background  ...  etype    logFDR  FG_count_2_circle_size  \\\n",
       "0              0.275237  ...    -51  6.976356                9.311362   \n",
       "1              0.221743  ...    -51  6.976356                2.976583   \n",
       "12             0.388266  ...    -20  4.671471               11.543799   \n",
       "13             0.264884  ...    -20  4.671471                8.624458   \n",
       "30             0.227783  ...    -22  6.396531                7.918474   \n",
       "31             0.402071  ...    -22  6.396531               11.734605   \n",
       "\n",
       "    rank_2_transparency    color  text_label  marker_line_width  \\\n",
       "0                   1.0  #1b9e77                              1   \n",
       "1                   0.9  #1b9e77                              1   \n",
       "12                  1.0  #d95f02                              1   \n",
       "13                  0.9  #d95f02                              1   \n",
       "30                  1.0  #7570b3                              1   \n",
       "31                  0.9  #7570b3                              1   \n",
       "\n",
       "    marker_line_color opacity  category_rank  \n",
       "0               white     0.7              0  \n",
       "1               white     0.7              0  \n",
       "12              white     0.7              1  \n",
       "13              white     0.7              1  \n",
       "30              white     0.7              2  \n",
       "31              white     0.7              2  \n",
       "\n",
       "[6 rows x 29 columns]"
      ]
     },
     "execution_count": 47,
     "metadata": {},
     "output_type": "execute_result"
    }
   ],
   "source": []
  },
  {
   "cell_type": "code",
   "execution_count": null,
   "metadata": {},
   "outputs": [],
   "source": []
  },
  {
   "cell_type": "code",
   "execution_count": 29,
   "metadata": {},
   "outputs": [
    {
     "name": "stdout",
     "output_type": "stream",
     "text": [
      "[Errno 2] No such file or directory: 'app/python'\n",
      "/Users/dblyon/modules/cpr/agotool/app/python\n"
     ]
    }
   ],
   "source": [
    "cd app/python"
   ]
  },
  {
   "cell_type": "code",
   "execution_count": 4,
   "metadata": {},
   "outputs": [],
   "source": [
    "import variables"
   ]
  },
  {
   "cell_type": "code",
   "execution_count": 31,
   "metadata": {},
   "outputs": [
    {
     "ename": "ModuleNotFoundError",
     "evalue": "No module named 'igraph'",
     "output_type": "error",
     "traceback": [
      "\u001b[0;31m---------------------------------------------------------------------------\u001b[0m",
      "\u001b[0;31mModuleNotFoundError\u001b[0m                       Traceback (most recent call last)",
      "\u001b[0;32m<ipython-input-31-068acb6c785d>\u001b[0m in \u001b[0;36m<module>\u001b[0;34m\u001b[0m\n\u001b[0;32m----> 1\u001b[0;31m \u001b[0;32mimport\u001b[0m \u001b[0migraph\u001b[0m \u001b[0;32mas\u001b[0m \u001b[0mig\u001b[0m\u001b[0;34m\u001b[0m\u001b[0;34m\u001b[0m\u001b[0m\n\u001b[0m\u001b[1;32m      2\u001b[0m \u001b[0;31m# import plotly.plotly as py\u001b[0m\u001b[0;34m\u001b[0m\u001b[0;34m\u001b[0m\u001b[0;34m\u001b[0m\u001b[0m\n\u001b[1;32m      3\u001b[0m \u001b[0;32mfrom\u001b[0m \u001b[0mplotly\u001b[0m\u001b[0;34m.\u001b[0m\u001b[0mgraph_objs\u001b[0m \u001b[0;32mimport\u001b[0m \u001b[0;34m*\u001b[0m\u001b[0;34m\u001b[0m\u001b[0;34m\u001b[0m\u001b[0m\n\u001b[1;32m      4\u001b[0m \u001b[0;34m\u001b[0m\u001b[0m\n\u001b[1;32m      5\u001b[0m \u001b[0;32mimport\u001b[0m \u001b[0mos\u001b[0m\u001b[0;34m,\u001b[0m \u001b[0msys\u001b[0m\u001b[0;34m,\u001b[0m \u001b[0mjson\u001b[0m\u001b[0;34m\u001b[0m\u001b[0;34m\u001b[0m\u001b[0m\n",
      "\u001b[0;31mModuleNotFoundError\u001b[0m: No module named 'igraph'"
     ]
    }
   ],
   "source": [
    "import igraph as ig\n",
    "# import plotly.plotly as py\n",
    "from plotly.graph_objs import *\n",
    "\n",
    "import os, sys, json\n",
    "import datetime\n",
    "import numpy as np\n",
    "import pandas as pd\n",
    "pd.set_option('display.max_colwidth', 300) # in order to prevent 50 character cutoff of to_html export / ellipsis\n",
    "# from plotly_tools import data_bars\n",
    "import dash\n",
    "from dash.dependencies import Input, Output, State\n",
    "import dash_table\n",
    "import dash_core_components as dcc\n",
    "import dash_bootstrap_components as dbc\n",
    "import dash_html_components as html\n",
    "import dash_daq as daq\n",
    "# import plotly.express as px\n",
    "import plotly.graph_objects as go"
   ]
  },
  {
   "cell_type": "code",
   "execution_count": 107,
   "metadata": {},
   "outputs": [],
   "source": [
    "from itertools import combinations\n",
    "from collections import defaultdict\n",
    "\n",
    "# ToDo: term_2_connectedTerms_dict: key=term, val=set of terms --> Nodes\n",
    "def get_term_2_edges_dict(df, lineage_dict_direct):\n",
    "    \"\"\"\n",
    "    iterate over direct parents and stop once at least one is found\n",
    "    Dict: key=term val=[X_vals_list, Y_vals_list, Weights_list]\n",
    "    # for every term:\n",
    "    #   for every edge:\n",
    "    #     e.g. between point A (Ax, Ay) and B (Bx, By) as well as A (Ax, Ay) and C (Cx, Cy)\n",
    "    #     X_point_list += [Ax, Bx, None]\n",
    "    #     Y_point_list += [Ay, By, None]\n",
    "    #     Weights_list += [A_2_B]\n",
    "    #     X_point_list += [Ax, Cx, None]\n",
    "    #     Y_point_list += [Ay, Cy, None]    \n",
    "    \"\"\"\n",
    "    term_2_edges_dict = defaultdict(lambda: {\"X_points\": [], \"Y_points\": [], \"Weights\": [], \"Nodes\": []})\n",
    "    for etype, group in df.groupby(\"etype\"):\n",
    "        if etype not in variables.entity_types_with_ontology:\n",
    "            continue\n",
    "        funcNameFamilySet_list_merged, funcNameFamilySet_list_temp, edgesXYCoords_list, funcNamePair_set = [], [], [], set()\n",
    "        funcs_2_travers_set = group[\"term\"]\n",
    "        for term in funcs_2_travers_set:\n",
    "            funcNamePair_set |= find_pairs_2_link(term, lineage_dict_direct, funcs_2_travers_set)\n",
    "                \n",
    "        ## extract x and y coordinates and a weight depending on the overlapp of FG_IDs (Jaccard index)\n",
    "        for funcNamePair in funcNamePair_set:\n",
    "            X_points_list, Y_points_list, Weight_temp = get_edge_positions_and_weight_as_list_v3(group[group[\"term\"].isin(funcNamePair)])\n",
    "            funcName_a, funcName_b = funcNamePair\n",
    "            term_2_edges_dict[funcName_a][\"X_points\"] += X_points_list\n",
    "            term_2_edges_dict[funcName_a][\"Y_points\"] += Y_points_list\n",
    "            term_2_edges_dict[funcName_a][\"Weights\"].append(Weight_temp)\n",
    "            term_2_edges_dict[funcName_a][\"Nodes\"].append(funcName_b)\n",
    "            \n",
    "            term_2_edges_dict[funcName_b][\"X_points\"] += X_points_list\n",
    "            term_2_edges_dict[funcName_b][\"Y_points\"] += Y_points_list\n",
    "            term_2_edges_dict[funcName_b][\"Weights\"].append(Weight_temp)\n",
    "            term_2_edges_dict[funcName_b][\"Nodes\"].append(funcName_a)\n",
    "    return term_2_edges_dict     \n",
    "\n",
    "def find_pairs_2_link(term, lineage_dict_direct, funcs_2_travers_set):\n",
    "    funcNamePair_set = set()\n",
    "    for parents in yield_direct_parents([term], lineage_dict_direct): \n",
    "        if not parents:\n",
    "            continue\n",
    "        else:\n",
    "            lineage_2_add = set(parents)\n",
    "            lineage_2_add.add(term)\n",
    "            funcNameFamilySet = lineage_2_add.intersection(funcs_2_travers_set)\n",
    "        len_funcNameFamilySet = len(funcNameFamilySet)\n",
    "        if len_funcNameFamilySet < 2:\n",
    "            continue\n",
    "        elif len_funcNameFamilySet == 2:\n",
    "            funcNamePair_set.add(tuple(sorted(funcNameFamilySet)))\n",
    "            return funcNamePair_set\n",
    "        elif len_funcNameFamilySet > 2:\n",
    "            for func in funcNameFamilySet - set([term]):\n",
    "                funcNamePair_set.add(tuple(sorted([term, func])))\n",
    "            return funcNamePair_set\n",
    "        else:\n",
    "            raise StopIteration\n",
    "    return funcNamePair_set\n",
    "\n",
    "def get_edge_positions_and_weight_as_list_v3(df):\n",
    "    \"\"\"\n",
    "    # for every term:\n",
    "    #   for every edge:\n",
    "    #     e.g. between point A (Ax, Ay) and B (Bx, By) as well as A (Ax, Ay) and C (Cx, Cy)\n",
    "    #     X_point_list += [Ax, Bx, None]\n",
    "    #     Y_point_list += [Ay, By, None]\n",
    "    #     Weights_list += [A_2_B]\n",
    "    #     X_point_list += [Ax, Cx, None]\n",
    "    #     Y_point_list += [Ay, Cy, None]\n",
    "    \"\"\"\n",
    "    assert df.shape[0] == 2\n",
    "    \n",
    "    try:\n",
    "        first_FG_IDs, second_FG_IDs = df[\"FG_IDs\"].values\n",
    "        first_FG_IDs = set(first_FG_IDs.split(\";\"))\n",
    "        second_FG_IDs = set(first_FG_IDs.split(\";\"))\n",
    "        ## compute weight of edge\n",
    "        jaccard_index = len(first_FG_IDs.intersection(second_FG_IDs)) / len(first_FG_IDs.union(second_FG_IDs))\n",
    "    except: #  AttributeError if NaN or ZeroDivisionError if ... \n",
    "        jaccard_index = 1\n",
    "    return df[\"logFDR\"].tolist() + [None], df[\"effectSize\"].tolist() + [None], jaccard_index\n",
    "\n",
    "def yield_direct_parents(terms, lineage_dict):\n",
    "    \"\"\"\n",
    "    generator: to return all direct parents of given terms\n",
    "    lineage_dict = cst.get_lineage_dict_for_all_entity_types_with_ontologies(direct_or_allParents=\"direct\")\n",
    "    terms = [\"GO:0016572\"]\n",
    "    for parents in yield_direct_parents(terms, lineage_dict):\n",
    "        print(parents)\n",
    "    :param terms: list of string\n",
    "    :param lineage_dict: child 2 direct parents dict\n",
    "    :return: list of string\n",
    "    \"\"\"\n",
    "    def get_direct_parents(terms, lineage_dict):\n",
    "        parents = []\n",
    "        for term in terms:\n",
    "            try:\n",
    "                parents += lineage_dict[term]\n",
    "            except KeyError:\n",
    "                pass\n",
    "        parents = sorted(set(parents))\n",
    "        return parents\n",
    "    parents = get_direct_parents(terms, lineage_dict)\n",
    "    while parents:\n",
    "        yield parents\n",
    "        parents = get_direct_parents(parents, lineage_dict)\n",
    "    return None\n",
    "\n",
    "# def find_edges_via_hierarchy_v3(df, lineage_dict_direct):\n",
    "#     \"\"\"\n",
    "#     for each etype find edges to draw in plot of x=\"logFDR\", y=\"effectSize\"\n",
    "#     add funcEnum and lineage to set\n",
    "#     v1: merge sets if there is overlapp --> wrong since everything gets connected\n",
    "#     v2: don't merge set, simply check if >= 2 funcEnums from given user data present\n",
    "#     filter by funcEnums that are in the given user data\n",
    "#     v3: iterate over direct parents and stop once at least one is found\n",
    "#     e.g. of return\n",
    "#     {-57: [],\n",
    "#      -51: [{47939, 47977, 48117, 48335, 48487}],\n",
    "#      ...}     \n",
    "#     df: DataFrame of aGOtool output with ['funcEnum', 'etype'] cols\n",
    "#     lineage_dict_enum: key: function enumeration, value: set of func enum array all parents\n",
    "#     :return: etype_2_funcEnumFamilySet_list_dict, key: etype(int), val: list of sets (int)\n",
    "#     \"\"\"\n",
    "#     x_startL, x_stopL, y_startL, y_stopL, weightL, etypeL = [], [], [], [], [], []\n",
    "#     etype_2_funcNamePair_set_dict, etype_2_edgesXYCoords_list_dict = {}, {} \n",
    "#     for etype, group in df.groupby(\"etype\"):\n",
    "#         funcNameFamilySet_list_merged, funcNameFamilySet_list_temp, edgesXYCoords_list, funcNamePair_set = [], [], [], set()\n",
    "#         if etype not in variables.entity_types_with_ontology:\n",
    "#             continue\n",
    "#         funcs_2_travers_set = group[\"term\"]\n",
    "#         for term in funcs_2_travers_set:\n",
    "#             funcNamePair_set |= find_pairs_2_link(term, lineage_dict_direct, funcs_2_travers_set)\n",
    "                \n",
    "#         ## extract x and y coordinates and a weight depending on the overlapp of FG_IDs (Jaccard index)\n",
    "#         for funcNamePair in funcNamePair_set:\n",
    "#             t = get_edge_positions_and_weight_as_list(group[group[\"term\"].isin(funcNamePair)])\n",
    "#             x_startL_2merge, x_stopL_2merge, y_startL_2merge, y_stopL_2merge, weightL_2merge = t\n",
    "#             x_startL += x_startL_2merge\n",
    "#             x_stopL += x_stopL_2merge\n",
    "#             y_startL += y_startL_2merge\n",
    "#             y_stopL += y_stopL_2merge\n",
    "#             weightL += weightL_2merge\n",
    "#             etypeL += len(weightL_2merge) * [etype]                                        \n",
    "#         etype_2_funcNamePair_set_dict[etype] = funcNamePair_set\n",
    "#     df_coords = pd.DataFrame()\n",
    "#     df_coords[\"etype\"] = etypeL\n",
    "#     df_coords[\"x_start\"] = x_startL\n",
    "#     df_coords[\"x_stop\"] = x_stopL    \n",
    "#     df_coords[\"y_start\"] = y_startL\n",
    "#     df_coords[\"y_stop\"] = y_stopL\n",
    "#     df_coords[\"weight\"] = weightL        \n",
    "#     return etype_2_funcNamePair_set_dict, df_coords #etype_2_edgesXYCoords_list_dict\n",
    "# \n",
    "# def get_edge_positions_and_weight_as_list_v2(df):\n",
    "#     \"\"\"\n",
    "#     # for every term:\n",
    "#     #   for every edge:\n",
    "#     #     e.g. between point A (Ax, Ay) and B (Bx, By) as well as A (Ax, Ay) and C (Cx, Cy)\n",
    "#     #     X_point_list += [Ax, Bx, None]\n",
    "#     #     Y_point_list += [Ay, By, None]\n",
    "#     #     Weights_list += [A_2_B]\n",
    "#     #     X_point_list += [Ax, Cx, None]\n",
    "#     #     Y_point_list += [Ay, Cy, None]\n",
    "#     \"\"\"\n",
    "#     X_point_list, Y_point_list, Weights_list = [], [], []\n",
    "#     for first_index, second_index in combinations(df.index, 2):\n",
    "#         try:\n",
    "#             first_FG_IDs = set(df.loc[first_index, \"FG_IDs\"].split(\";\"))\n",
    "#             second_FG_IDs = set(df.loc[second_index, \"FG_IDs\"].split(\";\"))\n",
    "#             ## compute weight of edge\n",
    "#             jaccard_index = len(first_FG_IDs.intersection(second_FG_IDs)) / len(first_FG_IDs.union(second_FG_IDs))\n",
    "#         except: #  AttributeError if NaN or ZeroDivisionError if ... \n",
    "#             jaccard_index = 1\n",
    "#         X_points_list += df.loc[[first_index, second_index], \"logFDR\"].tolist() + [None]\n",
    "#         Y_points_list += df.loc[[first_index, second_index], \"effectSize\"].tolist() + [None]\n",
    "#         Weights_list.append(jaccard_index)\n",
    "#     return X_points_list, Y_points_list, Weights_list"
   ]
  },
  {
   "cell_type": "code",
   "execution_count": 1,
   "metadata": {},
   "outputs": [
    {
     "ename": "NameError",
     "evalue": "name 'df' is not defined",
     "output_type": "error",
     "traceback": [
      "\u001b[0;31m---------------------------------------------------------------------------\u001b[0m",
      "\u001b[0;31mNameError\u001b[0m                                 Traceback (most recent call last)",
      "\u001b[0;32m<ipython-input-1-c42a15b2c7cf>\u001b[0m in \u001b[0;36m<module>\u001b[0;34m\u001b[0m\n\u001b[0;32m----> 1\u001b[0;31m \u001b[0mdf\u001b[0m\u001b[0;34m.\u001b[0m\u001b[0mhead\u001b[0m\u001b[0;34m(\u001b[0m\u001b[0;34m)\u001b[0m\u001b[0;34m\u001b[0m\u001b[0;34m\u001b[0m\u001b[0m\n\u001b[0m",
      "\u001b[0;31mNameError\u001b[0m: name 'df' is not defined"
     ]
    }
   ],
   "source": [
    "df.head()"
   ]
  },
  {
   "cell_type": "code",
   "execution_count": 3,
   "metadata": {},
   "outputs": [
    {
     "name": "stdout",
     "output_type": "stream",
     "text": [
      "/Users/dblyon/modules/cpr/agotool/app/python\n"
     ]
    }
   ],
   "source": [
    "cd app/python"
   ]
  },
  {
   "cell_type": "code",
   "execution_count": 6,
   "metadata": {},
   "outputs": [],
   "source": [
    "import create_SQL_tables_snakemake as cst\n",
    "import variables"
   ]
  },
  {
   "cell_type": "code",
   "execution_count": 5,
   "metadata": {},
   "outputs": [],
   "source": [
    "lineage_dict = cst.get_lineage_dict_for_all_entity_types_with_ontologies(direct_or_allParents=\"direct\")"
   ]
  },
  {
   "cell_type": "code",
   "execution_count": 10,
   "metadata": {},
   "outputs": [],
   "source": [
    "# lineage_dict"
   ]
  },
  {
   "cell_type": "code",
   "execution_count": 8,
   "metadata": {},
   "outputs": [],
   "source": [
    "import pickle, os\n",
    "pickle.dump(lineage_dict, open(os.path.join(variables.TABLES_DIR, \"lineage_dict_direct.p\"), \"wb\"))"
   ]
  },
  {
   "cell_type": "code",
   "execution_count": 108,
   "metadata": {},
   "outputs": [],
   "source": [
    "term_2_edges_dict = get_term_2_edges_dict(df, lineage_dict)"
   ]
  },
  {
   "cell_type": "code",
   "execution_count": 109,
   "metadata": {},
   "outputs": [
    {
     "data": {
      "text/plain": [
       "{'X_points': [], 'Y_points': [], 'Weights': [], 'Nodes': []}"
      ]
     },
     "execution_count": 109,
     "metadata": {},
     "output_type": "execute_result"
    }
   ],
   "source": [
    "term_2_edges_dict[\"KW-0539\"]"
   ]
  },
  {
   "cell_type": "code",
   "execution_count": 11,
   "metadata": {},
   "outputs": [
    {
     "data": {
      "text/plain": [
       "'/Users/dblyon/modules/cpr/agotool/app/python'"
      ]
     },
     "execution_count": 11,
     "metadata": {},
     "output_type": "execute_result"
    }
   ],
   "source": [
    "pwd"
   ]
  },
  {
   "cell_type": "code",
   "execution_count": 26,
   "metadata": {},
   "outputs": [
    {
     "data": {
      "text/plain": [
       "'01 December 2020'"
      ]
     },
     "execution_count": 26,
     "metadata": {},
     "output_type": "execute_result"
    }
   ],
   "source": [
    "fn = os.path.join(variables.TABLES_DIR, \"aGOtool_flatfiles_current.tar.gz\")\n",
    "import tools\n",
    "import datetime\n",
    "t = tools.creation_date(fn)\n",
    "mtime = datetime.datetime.fromtimestamp(t).strftime(\"%d %B %Y\")\n",
    "mtime"
   ]
  },
  {
   "cell_type": "code",
   "execution_count": null,
   "metadata": {},
   "outputs": [],
   "source": []
  },
  {
   "cell_type": "code",
   "execution_count": null,
   "metadata": {},
   "outputs": [],
   "source": []
  },
  {
   "cell_type": "code",
   "execution_count": 14,
   "metadata": {},
   "outputs": [
    {
     "name": "stdout",
     "output_type": "stream",
     "text": [
      "os.stat_result(st_mode=33188, st_ino=96348834, st_dev=16777222, st_nlink=1, st_uid=501, st_gid=20, st_size=7385282021, st_atime=1608019987, st_mtime=1606827655, st_ctime=1608020325)\n"
     ]
    }
   ],
   "source": [
    "import pathlib\n",
    "fn = os.path.join(variables.TABLES_DIR, \"aGOtool_flatfiles_current.tar.gz\")\n",
    "fname = pathlib.Path(fn)\n",
    "assert fname.exists(), f'No such file: {fname}'  # check that the file exists\n",
    "print(fname.stat())"
   ]
  },
  {
   "cell_type": "code",
   "execution_count": 17,
   "metadata": {},
   "outputs": [
    {
     "data": {
      "text/plain": [
       "datetime.datetime(2020, 12, 1, 14, 0, 55, 620368)"
      ]
     },
     "execution_count": 17,
     "metadata": {},
     "output_type": "execute_result"
    }
   ],
   "source": [
    "import datetime\n",
    "mtime = datetime.datetime.fromtimestamp(fname.stat().st_mtime)\n",
    "mtime"
   ]
  },
  {
   "cell_type": "code",
   "execution_count": 19,
   "metadata": {},
   "outputs": [
    {
     "name": "stdout",
     "output_type": "stream",
     "text": [
      "Date created: Tue Dec 15 09:18:45 2020\n",
      "Date created: 2020-12-15 09:18:45.678633\n"
     ]
    }
   ],
   "source": [
    "import time\n",
    "created = os.path.getctime(fn)\n",
    "print(\"Date created: \"+time.ctime(created))\n",
    "print(\"Date created:\",datetime.datetime.fromtimestamp(created))"
   ]
  },
  {
   "cell_type": "code",
   "execution_count": null,
   "metadata": {},
   "outputs": [],
   "source": []
  },
  {
   "cell_type": "code",
   "execution_count": null,
   "metadata": {},
   "outputs": [],
   "source": []
  },
  {
   "cell_type": "code",
   "execution_count": null,
   "metadata": {},
   "outputs": [],
   "source": []
  },
  {
   "cell_type": "code",
   "execution_count": null,
   "metadata": {},
   "outputs": [],
   "source": []
  },
  {
   "cell_type": "code",
   "execution_count": 93,
   "metadata": {},
   "outputs": [
    {
     "data": {
      "text/plain": [
       "'/Users/dblyon/modules/cpr/agotool/app/python'"
      ]
     },
     "execution_count": 93,
     "metadata": {},
     "output_type": "execute_result"
    }
   ],
   "source": [
    "pwd"
   ]
  },
  {
   "cell_type": "code",
   "execution_count": 101,
   "metadata": {},
   "outputs": [],
   "source": [
    "term_2_edges_dict = dict(term_2_edges_dict)"
   ]
  },
  {
   "cell_type": "code",
   "execution_count": 102,
   "metadata": {},
   "outputs": [],
   "source": [
    "import pickle\n",
    "pickle.dump(term_2_edges_dict, open(\"term_2_edges_dict.p\", \"wb\"))"
   ]
  },
  {
   "cell_type": "code",
   "execution_count": 86,
   "metadata": {},
   "outputs": [],
   "source": [
    "# for term in term_2_edges_dict:\n",
    "#     for weight in term_2_edges_dict[term][\"Weights\"]:\n",
    "#         if weight < 1:\n",
    "#             print(term, weight)"
   ]
  },
  {
   "cell_type": "code",
   "execution_count": 56,
   "metadata": {},
   "outputs": [],
   "source": [
    "df = pd.read_csv(variables.fn_example, sep=\"\\t\")\n",
    "etype_2_funcNamePair_set_dict, etype_2_edgesXYCoords_list_dict = find_edges_via_hierarchy_v3(df, lineage_dict)"
   ]
  },
  {
   "cell_type": "code",
   "execution_count": 87,
   "metadata": {},
   "outputs": [],
   "source": [
    "# df.head()"
   ]
  },
  {
   "cell_type": "code",
   "execution_count": 72,
   "metadata": {},
   "outputs": [
    {
     "data": {
      "text/plain": [
       "[4.671470586861855, 4.671470586861855, None]"
      ]
     },
     "execution_count": 72,
     "metadata": {},
     "output_type": "execute_result"
    }
   ],
   "source": [
    "first_index=0\n",
    "second_index=4\n",
    "df.loc[[first_index, second_index], \"logFDR\"].tolist() + [None]"
   ]
  },
  {
   "cell_type": "code",
   "execution_count": 77,
   "metadata": {},
   "outputs": [
    {
     "data": {
      "text/html": [
       "<div>\n",
       "<style scoped>\n",
       "    .dataframe tbody tr th:only-of-type {\n",
       "        vertical-align: middle;\n",
       "    }\n",
       "\n",
       "    .dataframe tbody tr th {\n",
       "        vertical-align: top;\n",
       "    }\n",
       "\n",
       "    .dataframe thead th {\n",
       "        text-align: right;\n",
       "    }\n",
       "</style>\n",
       "<table border=\"1\" class=\"dataframe\">\n",
       "  <thead>\n",
       "    <tr style=\"text-align: right;\">\n",
       "      <th></th>\n",
       "      <th>term</th>\n",
       "      <th>hierarchical_level</th>\n",
       "      <th>description</th>\n",
       "      <th>year</th>\n",
       "      <th>over_under</th>\n",
       "      <th>p_value</th>\n",
       "      <th>FDR</th>\n",
       "      <th>effectSize</th>\n",
       "      <th>ratio_in_FG</th>\n",
       "      <th>ratio_in_BG</th>\n",
       "      <th>...</th>\n",
       "      <th>FG_IDs</th>\n",
       "      <th>s_value</th>\n",
       "      <th>rank</th>\n",
       "      <th>funcEnum</th>\n",
       "      <th>category</th>\n",
       "      <th>etype</th>\n",
       "      <th>logFDR</th>\n",
       "      <th>FG_count_2_circle_size</th>\n",
       "      <th>rank_2_transparency</th>\n",
       "      <th>color</th>\n",
       "    </tr>\n",
       "  </thead>\n",
       "  <tbody>\n",
       "    <tr>\n",
       "      <th>0</th>\n",
       "      <td>GOCC:0005634</td>\n",
       "      <td>8</td>\n",
       "      <td>Nucleus</td>\n",
       "      <td>-1</td>\n",
       "      <td>o</td>\n",
       "      <td>0.000004</td>\n",
       "      <td>0.009358</td>\n",
       "      <td>0.133736</td>\n",
       "      <td>0.522002</td>\n",
       "      <td>0.388266</td>\n",
       "      <td>...</td>\n",
       "      <td>P31383;P37898;P14164;P40535;P31787;Q08981;P52910;P60010;Q02336;P53909;Q2V2Q1;P47143;Q01976;P07248;Q12433;Q12156;P10869;P47019;P16550;P38281;P32454;P53940;P22936;P40024;Q04371;P08566;P32449;P80428;P53946;Q05123;P32447;P41696;P22035;Q12186;P47176;Q06338;P35817;Q06631;P43583;P29311;P34730;Q08965;P4...</td>\n",
       "      <td>0.716327</td>\n",
       "      <td>1</td>\n",
       "      <td>254</td>\n",
       "      <td>Gene Ontology cellular component TEXTMINING</td>\n",
       "      <td>-20</td>\n",
       "      <td>4.671471</td>\n",
       "      <td>11.543799</td>\n",
       "      <td>1.0</td>\n",
       "      <td>#1b9e77</td>\n",
       "    </tr>\n",
       "    <tr>\n",
       "      <th>4</th>\n",
       "      <td>GOCC:0043232</td>\n",
       "      <td>7</td>\n",
       "      <td>Intracellular non-membrane-bounded organelle</td>\n",
       "      <td>-1</td>\n",
       "      <td>o</td>\n",
       "      <td>0.000017</td>\n",
       "      <td>0.009358</td>\n",
       "      <td>0.088870</td>\n",
       "      <td>0.459016</td>\n",
       "      <td>0.370147</td>\n",
       "      <td>...</td>\n",
       "      <td>P31383;Q02486;P15891;P40535;Q08981;P19414;P52910;P60010;Q04894;P38266;Q12156;P10869;P46367;P46672;P11076;P32449;P47117;P80428;P53946;Q05123;Q05933;P32447;P07251;P00830;P22035;P35817;Q06631;P29311;Q08965;P40493;Q07457;P53741;Q04347;P25627;P23293;P06787;P28495;P34237;P17106;P32504;P33322;P21560;P0...</td>\n",
       "      <td>0.424281</td>\n",
       "      <td>5</td>\n",
       "      <td>1879</td>\n",
       "      <td>Gene Ontology cellular component TEXTMINING</td>\n",
       "      <td>-20</td>\n",
       "      <td>4.671471</td>\n",
       "      <td>10.150911</td>\n",
       "      <td>0.6</td>\n",
       "      <td>#1b9e77</td>\n",
       "    </tr>\n",
       "  </tbody>\n",
       "</table>\n",
       "<p>2 rows × 24 columns</p>\n",
       "</div>"
      ],
      "text/plain": [
       "           term  hierarchical_level  \\\n",
       "0  GOCC:0005634                   8   \n",
       "4  GOCC:0043232                   7   \n",
       "\n",
       "                                    description  year over_under   p_value  \\\n",
       "0                                       Nucleus    -1          o  0.000004   \n",
       "4  Intracellular non-membrane-bounded organelle    -1          o  0.000017   \n",
       "\n",
       "        FDR  effectSize  ratio_in_FG  ratio_in_BG  ...  \\\n",
       "0  0.009358    0.133736     0.522002     0.388266  ...   \n",
       "4  0.009358    0.088870     0.459016     0.370147  ...   \n",
       "\n",
       "                                                                                                                                                                                                                                                                                                        FG_IDs  \\\n",
       "0  P31383;P37898;P14164;P40535;P31787;Q08981;P52910;P60010;Q02336;P53909;Q2V2Q1;P47143;Q01976;P07248;Q12433;Q12156;P10869;P47019;P16550;P38281;P32454;P53940;P22936;P40024;Q04371;P08566;P32449;P80428;P53946;Q05123;P32447;P41696;P22035;Q12186;P47176;Q06338;P35817;Q06631;P43583;P29311;P34730;Q08965;P4...   \n",
       "4  P31383;Q02486;P15891;P40535;Q08981;P19414;P52910;P60010;Q04894;P38266;Q12156;P10869;P46367;P46672;P11076;P32449;P47117;P80428;P53946;Q05123;Q05933;P32447;P07251;P00830;P22035;P35817;Q06631;P29311;Q08965;P40493;Q07457;P53741;Q04347;P25627;P23293;P06787;P28495;P34237;P17106;P32504;P33322;P21560;P0...   \n",
       "\n",
       "    s_value  rank  funcEnum                                     category  \\\n",
       "0  0.716327     1       254  Gene Ontology cellular component TEXTMINING   \n",
       "4  0.424281     5      1879  Gene Ontology cellular component TEXTMINING   \n",
       "\n",
       "   etype    logFDR  FG_count_2_circle_size rank_2_transparency    color  \n",
       "0    -20  4.671471               11.543799                 1.0  #1b9e77  \n",
       "4    -20  4.671471               10.150911                 0.6  #1b9e77  \n",
       "\n",
       "[2 rows x 24 columns]"
      ]
     },
     "execution_count": 77,
     "metadata": {},
     "output_type": "execute_result"
    }
   ],
   "source": [
    "x = df.loc[[first_index, second_index], ]\n",
    "x"
   ]
  },
  {
   "cell_type": "code",
   "execution_count": 78,
   "metadata": {},
   "outputs": [
    {
     "data": {
      "text/plain": [
       "0    P31383;P37898;P14164;P40535;P31787;Q08981;P52910;P60010;Q02336;P53909;Q2V2Q1;P47143;Q01976;P07248;Q12433;Q12156;P10869;P47019;P16550;P38281;P32454;P53940;P22936;P40024;Q04371;P08566;P32449;P80428;P53946;Q05123;P32447;P41696;P22035;Q12186;P47176;Q06338;P35817;Q06631;P43583;P29311;P34730;Q08965;P4...\n",
       "4    P31383;Q02486;P15891;P40535;Q08981;P19414;P52910;P60010;Q04894;P38266;Q12156;P10869;P46367;P46672;P11076;P32449;P47117;P80428;P53946;Q05123;Q05933;P32447;P07251;P00830;P22035;P35817;Q06631;P29311;Q08965;P40493;Q07457;P53741;Q04347;P25627;P23293;P06787;P28495;P34237;P17106;P32504;P33322;P21560;P0...\n",
       "Name: FG_IDs, dtype: object"
      ]
     },
     "execution_count": 78,
     "metadata": {},
     "output_type": "execute_result"
    }
   ],
   "source": [
    "x[\"FG_IDs\"]"
   ]
  },
  {
   "cell_type": "code",
   "execution_count": 58,
   "metadata": {},
   "outputs": [
    {
     "data": {
      "text/html": [
       "<div>\n",
       "<style scoped>\n",
       "    .dataframe tbody tr th:only-of-type {\n",
       "        vertical-align: middle;\n",
       "    }\n",
       "\n",
       "    .dataframe tbody tr th {\n",
       "        vertical-align: top;\n",
       "    }\n",
       "\n",
       "    .dataframe thead th {\n",
       "        text-align: right;\n",
       "    }\n",
       "</style>\n",
       "<table border=\"1\" class=\"dataframe\">\n",
       "  <thead>\n",
       "    <tr style=\"text-align: right;\">\n",
       "      <th></th>\n",
       "      <th>etype</th>\n",
       "      <th>x_start</th>\n",
       "      <th>x_stop</th>\n",
       "      <th>y_start</th>\n",
       "      <th>y_stop</th>\n",
       "      <th>weight</th>\n",
       "    </tr>\n",
       "  </thead>\n",
       "  <tbody>\n",
       "    <tr>\n",
       "      <th>0</th>\n",
       "      <td>-51</td>\n",
       "      <td>6.976356</td>\n",
       "      <td>6.976356</td>\n",
       "      <td>-0.087144</td>\n",
       "      <td>-0.070751</td>\n",
       "      <td>0.435897</td>\n",
       "    </tr>\n",
       "    <tr>\n",
       "      <th>1</th>\n",
       "      <td>-51</td>\n",
       "      <td>6.976356</td>\n",
       "      <td>6.976356</td>\n",
       "      <td>-0.071613</td>\n",
       "      <td>-0.070751</td>\n",
       "      <td>0.985507</td>\n",
       "    </tr>\n",
       "    <tr>\n",
       "      <th>2</th>\n",
       "      <td>-51</td>\n",
       "      <td>6.976356</td>\n",
       "      <td>6.976356</td>\n",
       "      <td>0.075928</td>\n",
       "      <td>0.073339</td>\n",
       "      <td>0.922581</td>\n",
       "    </tr>\n",
       "    <tr>\n",
       "      <th>3</th>\n",
       "      <td>-51</td>\n",
       "      <td>6.976356</td>\n",
       "      <td>6.976356</td>\n",
       "      <td>-0.087144</td>\n",
       "      <td>-0.071613</td>\n",
       "      <td>0.442308</td>\n",
       "    </tr>\n",
       "    <tr>\n",
       "      <th>4</th>\n",
       "      <td>-22</td>\n",
       "      <td>6.396531</td>\n",
       "      <td>6.396531</td>\n",
       "      <td>0.124245</td>\n",
       "      <td>0.047455</td>\n",
       "      <td>0.330065</td>\n",
       "    </tr>\n",
       "    <tr>\n",
       "      <th>...</th>\n",
       "      <td>...</td>\n",
       "      <td>...</td>\n",
       "      <td>...</td>\n",
       "      <td>...</td>\n",
       "      <td>...</td>\n",
       "      <td>...</td>\n",
       "    </tr>\n",
       "    <tr>\n",
       "      <th>94</th>\n",
       "      <td>-20</td>\n",
       "      <td>4.671471</td>\n",
       "      <td>4.671471</td>\n",
       "      <td>0.125108</td>\n",
       "      <td>0.057808</td>\n",
       "      <td>0.309735</td>\n",
       "    </tr>\n",
       "    <tr>\n",
       "      <th>95</th>\n",
       "      <td>-20</td>\n",
       "      <td>4.671471</td>\n",
       "      <td>3.641455</td>\n",
       "      <td>0.059534</td>\n",
       "      <td>0.068162</td>\n",
       "      <td>0.172193</td>\n",
       "    </tr>\n",
       "    <tr>\n",
       "      <th>96</th>\n",
       "      <td>-20</td>\n",
       "      <td>4.671471</td>\n",
       "      <td>4.671471</td>\n",
       "      <td>0.088007</td>\n",
       "      <td>0.064711</td>\n",
       "      <td>0.341418</td>\n",
       "    </tr>\n",
       "    <tr>\n",
       "      <th>97</th>\n",
       "      <td>-20</td>\n",
       "      <td>4.671471</td>\n",
       "      <td>4.671471</td>\n",
       "      <td>0.125108</td>\n",
       "      <td>0.044003</td>\n",
       "      <td>0.306267</td>\n",
       "    </tr>\n",
       "    <tr>\n",
       "      <th>98</th>\n",
       "      <td>-20</td>\n",
       "      <td>4.671471</td>\n",
       "      <td>4.671471</td>\n",
       "      <td>0.088007</td>\n",
       "      <td>0.057808</td>\n",
       "      <td>0.261194</td>\n",
       "    </tr>\n",
       "  </tbody>\n",
       "</table>\n",
       "<p>99 rows × 6 columns</p>\n",
       "</div>"
      ],
      "text/plain": [
       "    etype   x_start    x_stop   y_start    y_stop    weight\n",
       "0     -51  6.976356  6.976356 -0.087144 -0.070751  0.435897\n",
       "1     -51  6.976356  6.976356 -0.071613 -0.070751  0.985507\n",
       "2     -51  6.976356  6.976356  0.075928  0.073339  0.922581\n",
       "3     -51  6.976356  6.976356 -0.087144 -0.071613  0.442308\n",
       "4     -22  6.396531  6.396531  0.124245  0.047455  0.330065\n",
       "..    ...       ...       ...       ...       ...       ...\n",
       "94    -20  4.671471  4.671471  0.125108  0.057808  0.309735\n",
       "95    -20  4.671471  3.641455  0.059534  0.068162  0.172193\n",
       "96    -20  4.671471  4.671471  0.088007  0.064711  0.341418\n",
       "97    -20  4.671471  4.671471  0.125108  0.044003  0.306267\n",
       "98    -20  4.671471  4.671471  0.088007  0.057808  0.261194\n",
       "\n",
       "[99 rows x 6 columns]"
      ]
     },
     "execution_count": 58,
     "metadata": {},
     "output_type": "execute_result"
    }
   ],
   "source": [
    "etype_2_edgesXYCoords_list_dict"
   ]
  },
  {
   "cell_type": "code",
   "execution_count": 63,
   "metadata": {},
   "outputs": [
    {
     "name": "stdout",
     "output_type": "stream",
     "text": [
      "['GO:0048308', 'GO:0048311']\n",
      "['GO:0006996', 'GO:0007005', 'GO:0051646']\n",
      "['GO:0006996', 'GO:0016043', 'GO:0051640']\n",
      "['GO:0016043', 'GO:0051641', 'GO:0071840']\n",
      "['GO:0009987', 'GO:0051179', 'GO:0071840']\n",
      "['GO:0008150', 'GO:0009987']\n",
      "['GO:0008150']\n"
     ]
    }
   ],
   "source": [
    "for parents in yield_direct_parents([\"GO:0000001\"], lineage_dict):\n",
    "    print(parents)"
   ]
  },
  {
   "cell_type": "code",
   "execution_count": 65,
   "metadata": {},
   "outputs": [
    {
     "data": {
      "text/plain": [
       "['GO:0007005', 'GO:0051646']"
      ]
     },
     "execution_count": 65,
     "metadata": {},
     "output_type": "execute_result"
    }
   ],
   "source": [
    "lineage_dict['GO:0048311']"
   ]
  }
 ],
 "metadata": {
  "kernelspec": {
   "display_name": "Python agotool",
   "language": "python",
   "name": "agotool"
  },
  "language_info": {
   "codemirror_mode": {
    "name": "ipython",
    "version": 3
   },
   "file_extension": ".py",
   "mimetype": "text/x-python",
   "name": "python",
   "nbconvert_exporter": "python",
   "pygments_lexer": "ipython3",
   "version": "3.6.10"
  }
 },
 "nbformat": 4,
 "nbformat_minor": 4
}
