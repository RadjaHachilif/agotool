{
 "cells": [
  {
   "cell_type": "code",
   "execution_count": 1,
   "metadata": {
    "collapsed": false
   },
   "outputs": [],
   "source": [
    "s='''O13297\n",
    "O14467\n",
    "P00044\n",
    "P00330\n",
    "P00331\n",
    "P00358\n",
    "P00359\n",
    "P00360\n",
    "P00427\n",
    "P00445'''\n",
    "ans_study = s.split()\n",
    "ans_study = (',').join(ans_study)"
   ]
  },
  {
   "cell_type": "code",
   "execution_count": 11,
   "metadata": {
    "collapsed": false
   },
   "outputs": [
    {
     "data": {
      "text/plain": [
       "'O13297,O14467,P00044,P00330,P00331,P00358,P00359,P00360,P00427,P00445'"
      ]
     },
     "execution_count": 11,
     "metadata": {},
     "output_type": "execute_result"
    }
   ],
   "source": [
    "ans_study"
   ]
  },
  {
   "cell_type": "code",
   "execution_count": 40,
   "metadata": {
    "collapsed": false
   },
   "outputs": [],
   "source": [
    "import go_enrichment_dbl\n",
    "id = 'GO:0000001'\n",
    "enrichment = 'p'\n",
    "description = 'mitochondrion inheritance'\n",
    "ratio_in_study = 7/1159\n",
    "ratio_in_pop = 10/1159\n",
    "p_uncorrected = 0.628\n",
    "p_bonferroni = 3.1e+03\n",
    "p_holm = 2.27e+03\n",
    "p_sidak = 3.02e+03\n",
    "ANs_study = ans_study\n",
    "ANs_pop = ans_study\n",
    "rec = go_enrichment_dbl.GOEnrichmentRecord(id=id, enrichment=enrichment, description=description, \n",
    "                                           ratio_in_study=ratio_in_study, ratio_in_pop=ratio_in_pop, \n",
    "                                           p_uncorrected=p_uncorrected, p_bonferroni=p_bonferroni, \n",
    "                                           p_holm=p_holm, p_sidak=p_sidak, ANs_study=ANs_study, ANs_pop=ANs_study)"
   ]
  },
  {
   "cell_type": "code",
   "execution_count": 41,
   "metadata": {
    "collapsed": false
   },
   "outputs": [
    {
     "data": {
      "text/plain": [
       "['id',\n",
       " 'enrichment',\n",
       " 'description',\n",
       " 'ratio_in_study',\n",
       " 'ratio_in_pop',\n",
       " 'p_uncorrected',\n",
       " 'p_bonferroni',\n",
       " 'p_holm',\n",
       " 'p_sidak',\n",
       " 'p_fdr',\n",
       " 'ANs_study',\n",
       " 'ANs_pop']"
      ]
     },
     "execution_count": 41,
     "metadata": {},
     "output_type": "execute_result"
    }
   ],
   "source": [
    "rec._fields"
   ]
  },
  {
   "cell_type": "code",
   "execution_count": 45,
   "metadata": {
    "collapsed": true
   },
   "outputs": [],
   "source": [
    "def stringi(rec, indent=False):\n",
    "    field_data = [rec.__dict__[f] for f in rec._fields]\n",
    "    field_formatter = [\"%s\"] * 3 + [\"%d/%d\"] * 2 + [\"%.3g\"] * 5 + [\"%s\"] * 2\n",
    "    assert len(field_data) == len(field_formatter)\n",
    "\n",
    "    # default formatting only works for non-\"n.a\" data\n",
    "    for i, f in enumerate(field_data):\n",
    "        if f == \"n.a.\":\n",
    "            field_formatter[i] = \"%s\"\n",
    "\n",
    "    # print dots to show the level of the term\n",
    "    dots = \"\"\n",
    "    if rec.goterm is not None and indent:\n",
    "        dots = \".\" * rec.goterm.level\n",
    "    print field_formatter\n",
    "    print field_data\n",
    "    return dots + \"\\t\".join(a % b for (a, b) in\n",
    "                            zip(field_formatter, field_data))"
   ]
  },
  {
   "cell_type": "code",
   "execution_count": 47,
   "metadata": {
    "collapsed": false
   },
   "outputs": [
    {
     "name": "stdout",
     "output_type": "stream",
     "text": [
      "['%s', '%s', '%s', '%d/%d', '%d/%d', '%.3g', '%.3g', '%.3g', '%.3g', '%s', '%s', '%s']\n",
      "['GO:0000001', 'p', 'mitochondrion inheritance', 0, 0, 0.628, 3100.0, 2270.0, 3020.0, 'n.a.', 'O13297,O14467,P00044,P00330,P00331,P00358,P00359,P00360,P00427,P00445', 'O13297,O14467,P00044,P00330,P00331,P00358,P00359,P00360,P00427,P00445']\n"
     ]
    },
    {
     "ename": "TypeError",
     "evalue": "not enough arguments for format string",
     "output_type": "error",
     "traceback": [
      "\u001b[0;31m---------------------------------------------------------------------------\u001b[0m",
      "\u001b[0;31mTypeError\u001b[0m                                 Traceback (most recent call last)",
      "\u001b[0;32m<ipython-input-47-c2e905e3fe2c>\u001b[0m in \u001b[0;36m<module>\u001b[0;34m()\u001b[0m\n\u001b[0;32m----> 1\u001b[0;31m \u001b[0mstringi\u001b[0m\u001b[0;34m(\u001b[0m\u001b[0mrec\u001b[0m\u001b[0;34m)\u001b[0m\u001b[0;34m\u001b[0m\u001b[0m\n\u001b[0m",
      "\u001b[0;32m<ipython-input-45-a96d4601c832>\u001b[0m in \u001b[0;36mstringi\u001b[0;34m(rec, indent)\u001b[0m\n\u001b[1;32m     16\u001b[0m     \u001b[0;32mprint\u001b[0m \u001b[0mfield_data\u001b[0m\u001b[0;34m\u001b[0m\u001b[0m\n\u001b[1;32m     17\u001b[0m     return dots + \"\\t\".join(a % b for (a, b) in\n\u001b[0;32m---> 18\u001b[0;31m                             zip(field_formatter, field_data))\n\u001b[0m",
      "\u001b[0;32m<ipython-input-45-a96d4601c832>\u001b[0m in \u001b[0;36m<genexpr>\u001b[0;34m((a, b))\u001b[0m\n\u001b[1;32m     15\u001b[0m     \u001b[0;32mprint\u001b[0m \u001b[0mfield_formatter\u001b[0m\u001b[0;34m\u001b[0m\u001b[0m\n\u001b[1;32m     16\u001b[0m     \u001b[0;32mprint\u001b[0m \u001b[0mfield_data\u001b[0m\u001b[0;34m\u001b[0m\u001b[0m\n\u001b[0;32m---> 17\u001b[0;31m     return dots + \"\\t\".join(a % b for (a, b) in\n\u001b[0m\u001b[1;32m     18\u001b[0m                             zip(field_formatter, field_data))\n",
      "\u001b[0;31mTypeError\u001b[0m: not enough arguments for format string"
     ]
    }
   ],
   "source": [
    "stringi(rec)"
   ]
  },
  {
   "cell_type": "code",
   "execution_count": 44,
   "metadata": {
    "collapsed": false
   },
   "outputs": [
    {
     "data": {
      "text/plain": [
       "['GO:0000001',\n",
       " 'p',\n",
       " 'mitochondrion inheritance',\n",
       " 0,\n",
       " 0,\n",
       " 0.628,\n",
       " 3100.0,\n",
       " 2270.0,\n",
       " 3020.0,\n",
       " 'n.a.',\n",
       " 'O13297,O14467,P00044,P00330,P00331,P00358,P00359,P00360,P00427,P00445',\n",
       " 'O13297,O14467,P00044,P00330,P00331,P00358,P00359,P00360,P00427,P00445']"
      ]
     },
     "execution_count": 44,
     "metadata": {},
     "output_type": "execute_result"
    }
   ],
   "source": [
    "field_data = [rec.__dict__[f] for f in rec._fields]\n",
    "field_data"
   ]
  },
  {
   "cell_type": "code",
   "execution_count": 30,
   "metadata": {
    "collapsed": false
   },
   "outputs": [
    {
     "data": {
      "text/plain": [
       "['%s',\n",
       " '%s',\n",
       " '%s',\n",
       " '%d/%d',\n",
       " '%d/%d',\n",
       " '%.3g',\n",
       " '%.3g',\n",
       " '%.3g',\n",
       " '%.3g',\n",
       " '%.3g',\n",
       " '%s',\n",
       " '%s']"
      ]
     },
     "execution_count": 30,
     "metadata": {},
     "output_type": "execute_result"
    }
   ],
   "source": [
    "field_formatter = [\"%s\"] * 3 + [\"%d/%d\"] * 2 + [\"%.3g\"] * 5 + [\"%s\"] * 2\n",
    "field_formatter"
   ]
  },
  {
   "cell_type": "code",
   "execution_count": 34,
   "metadata": {
    "collapsed": false
   },
   "outputs": [],
   "source": [
    "#id\tenrichment\tdescription\tratio_in_study\tratio_in_pop\tp_uncorrected\tp_bonferroni\tp_holm\tp_sidak\tp_fdr\n",
    "#GO:0000001\tp\tmitochondrion inheritance\t7/1159\t10/1159\t0.628\t3.1e+03\t2.27e+03\t3.02e+03\tn.a."
   ]
  },
  {
   "cell_type": "code",
   "execution_count": 32,
   "metadata": {
    "collapsed": false
   },
   "outputs": [
    {
     "data": {
      "text/plain": [
       "12"
      ]
     },
     "execution_count": 32,
     "metadata": {},
     "output_type": "execute_result"
    }
   ],
   "source": [
    "len(field_formatter)"
   ]
  },
  {
   "cell_type": "code",
   "execution_count": 33,
   "metadata": {
    "collapsed": false
   },
   "outputs": [
    {
     "data": {
      "text/plain": [
       "12"
      ]
     },
     "execution_count": 33,
     "metadata": {},
     "output_type": "execute_result"
    }
   ],
   "source": [
    "len(field_data)"
   ]
  },
  {
   "cell_type": "code",
   "execution_count": 50,
   "metadata": {
    "collapsed": false
   },
   "outputs": [
    {
     "data": {
      "text/plain": [
       "{'bubu'}"
      ]
     },
     "execution_count": 50,
     "metadata": {},
     "output_type": "execute_result"
    }
   ],
   "source": [
    "s=set(['bubu'])\n",
    "s"
   ]
  },
  {
   "cell_type": "code",
   "execution_count": 51,
   "metadata": {
    "collapsed": true
   },
   "outputs": [],
   "source": [
    "s.update('aaa')"
   ]
  },
  {
   "cell_type": "code",
   "execution_count": 52,
   "metadata": {
    "collapsed": false
   },
   "outputs": [
    {
     "data": {
      "text/plain": [
       "{'a', 'bubu'}"
      ]
     },
     "execution_count": 52,
     "metadata": {},
     "output_type": "execute_result"
    }
   ],
   "source": [
    "s"
   ]
  },
  {
   "cell_type": "code",
   "execution_count": 53,
   "metadata": {
    "collapsed": true
   },
   "outputs": [],
   "source": [
    "s.update(['bbb'])"
   ]
  },
  {
   "cell_type": "code",
   "execution_count": 54,
   "metadata": {
    "collapsed": false
   },
   "outputs": [
    {
     "data": {
      "text/plain": [
       "{'a', 'bbb', 'bubu'}"
      ]
     },
     "execution_count": 54,
     "metadata": {},
     "output_type": "execute_result"
    }
   ],
   "source": [
    "s"
   ]
  },
  {
   "cell_type": "code",
   "execution_count": 55,
   "metadata": {
    "collapsed": false
   },
   "outputs": [
    {
     "data": {
      "text/plain": [
       "'P17536,P19524,P21147,P32266,P32381,P33204,P35182,P38880,P39722,P40414,P40518,P40961,P47117,P48524,P48559,P50085,P53731,P54861,P60010,Q00402,Q01846,Q02486,Q05933,Q06324,Q06504,Q06820,Q07732,Q12171,Q12387,Q92328'"
      ]
     },
     "execution_count": 55,
     "metadata": {},
     "output_type": "execute_result"
    }
   ],
   "source": [
    "#GO:0000001\tp\tmitochondrion inheritance\t7/1159\t10/1159\t0.628\t3.1e+03\t2.27e+03\t3.02e+03\tn.a.\t\n",
    "\"P17536,P19524,P21147,P32266,P32381,P33204,P35182,P38880,P39722,P40414,P40518,P40961,P47117,P48524,P48559,P50085,P53731,P54861,P60010,Q00402,Q01846,Q02486,Q05933,Q06324,Q06504,Q06820,Q07732,Q12171,Q12387,Q92328\"\n",
    "\"P17536,P19524,P21147,P32266,P32381,P33204,P35182,P38880,P39722,P40414,P40518,P40961,P47117,P48524,P48559,P50085,P53731,P54861,P60010,Q00402,Q01846,Q02486,Q05933,Q06324,Q06504,Q06820,Q07732,Q12171,Q12387,Q92328\""
   ]
  },
  {
   "cell_type": "code",
   "execution_count": 56,
   "metadata": {
    "collapsed": true
   },
   "outputs": [],
   "source": [
    "study = \"P17536,P19524,P21147,P32266,P32381,P33204,P35182,P38880,P39722,P40414,P40518,P40961,P47117,P48524,P48559,P50085,P53731,P54861,P60010,Q00402,Q01846,Q02486,Q05933,Q06324,Q06504,Q06820,Q07732,Q12171,Q12387,Q92328\""
   ]
  },
  {
   "cell_type": "code",
   "execution_count": 58,
   "metadata": {
    "collapsed": false
   },
   "outputs": [
    {
     "data": {
      "text/plain": [
       "30"
      ]
     },
     "execution_count": 58,
     "metadata": {},
     "output_type": "execute_result"
    }
   ],
   "source": [
    "len(study.split(','))"
   ]
  },
  {
   "cell_type": "code",
   "execution_count": 59,
   "metadata": {
    "collapsed": false
   },
   "outputs": [
    {
     "data": {
      "text/plain": [
       "30"
      ]
     },
     "execution_count": 59,
     "metadata": {},
     "output_type": "execute_result"
    }
   ],
   "source": [
    "pop=\"P17536,P19524,P21147,P32266,P32381,P33204,P35182,P38880,P39722,P40414,P40518,P40961,P47117,P48524,P48559,P50085,P53731,P54861,P60010,Q00402,Q01846,Q02486,Q05933,Q06324,Q06504,Q06820,Q07732,Q12171,Q12387,Q92328\"\n",
    "len(pop.split(','))"
   ]
  },
  {
   "cell_type": "code",
   "execution_count": null,
   "metadata": {
    "collapsed": true
   },
   "outputs": [],
   "source": [
    "GO:0000002\te\tmitochondrial genome maintenance\t11/1159\t8/1159\t0.646\t3.19e+03\t2.32e+03\t3.11e+03\tn.a.\t\n",
    "#P06168,P07271,P13433,P18409,P19262,P19414,P25846,P32266,P32318,P32445,P32787,P32843,P33416,P35191,P38127,P38289,P38766,P38988,P39515,P39677,P39952,P40156,P41800,P47025,P47155,P48237,P53083,P54964,Q01589,Q02486,Q03652,Q03702,Q04013,Q06109,Q06630,Q12039,Q12167,Q12393,Q92328\n",
    "#P06168,P07271,P13433,P18409,P19262,P19414,P25846,P32266,P32318,P32445,P32787,P32843,P33416,P35191,P38127,P38289,P38766,P38988,P39515,P39677,P39952,P40156,P41800,P47025,P47155,P48237,P53083,P54964,Q01589,Q02486,Q03652,Q03702,Q04013,Q06109,Q06630,Q12039,Q12167,Q12393,Q92328"
   ]
  }
 ],
 "metadata": {
  "kernelspec": {
   "display_name": "Python 2",
   "language": "python",
   "name": "python2"
  },
  "language_info": {
   "codemirror_mode": {
    "name": "ipython",
    "version": 2
   },
   "file_extension": ".py",
   "mimetype": "text/x-python",
   "name": "python",
   "nbconvert_exporter": "python",
   "pygments_lexer": "ipython2",
   "version": "2.7.6"
  }
 },
 "nbformat": 4,
 "nbformat_minor": 0
}
